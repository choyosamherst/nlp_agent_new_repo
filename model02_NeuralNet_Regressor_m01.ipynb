{
 "cells": [
  {
   "cell_type": "code",
   "execution_count": 1,
   "metadata": {},
   "outputs": [],
   "source": [
    "import pandas as pd\n",
    "import numpy as np\n",
    "import matplotlib.pyplot as plt\n",
    "import matplotlib.dates as mdates\n",
    "from matplotlib.dates import DateFormatter\n",
    "from datetime import date, datetime\n",
    "\n",
    "from sklearn.metrics import confusion_matrix\n",
    "from sklearn.metrics import normalized_mutual_info_score, mutual_info_score\n",
    "from sklearn.feature_selection import mutual_info_regression\n",
    "\n",
    "from sklearn.preprocessing import KBinsDiscretizer\n",
    "from sklearn.preprocessing import MaxAbsScaler\n",
    "from sklearn.preprocessing import StandardScaler\n",
    "from sklearn.preprocessing import MinMaxScaler\n",
    "\n",
    "from sklearn.linear_model import LinearRegression\n",
    "\n",
    "from sklearn.pipeline import Pipeline\n",
    "\n",
    "from matplotlib import colors\n",
    "import seaborn as sns\n",
    "\n",
    "\n",
    "import tensorflow as tf\n",
    "from tensorflow import keras\n",
    "from tensorflow.keras import layers\n",
    "from tensorflow.keras import optimizers"
   ]
  },
  {
   "cell_type": "code",
   "execution_count": 76,
   "metadata": {},
   "outputs": [],
   "source": [
    "sns.set_style(\"whitegrid\")"
   ]
  },
  {
   "cell_type": "code",
   "execution_count": 2,
   "metadata": {},
   "outputs": [],
   "source": [
    "str_state = 'GA'\n",
    "file = 'agent_comments_sales_'+str_state\n"
   ]
  },
  {
   "cell_type": "code",
   "execution_count": null,
   "metadata": {},
   "outputs": [],
   "source": []
  },
  {
   "cell_type": "code",
   "execution_count": 196,
   "metadata": {},
   "outputs": [],
   "source": [
    "df_sales_predictors = pd.read_feather(file + '_model01.fea') \n",
    "df_Predictand = pd.read_feather(file + '_predictand.fea') "
   ]
  },
  {
   "cell_type": "code",
   "execution_count": null,
   "metadata": {},
   "outputs": [],
   "source": []
  },
  {
   "cell_type": "code",
   "execution_count": 197,
   "metadata": {},
   "outputs": [
    {
     "data": {
      "text/plain": [
       "(534378, 3)"
      ]
     },
     "execution_count": 197,
     "metadata": {},
     "output_type": "execute_result"
    }
   ],
   "source": [
    "predictor_array.shape"
   ]
  },
  {
   "cell_type": "code",
   "execution_count": 219,
   "metadata": {},
   "outputs": [],
   "source": [
    "predictor_array = df_sales_predictors.to_numpy()\n",
    "#predictor_array = predictor_array[:, -3:]\n",
    "transform_predictors = MinMaxScaler(feature_range=(-6, 6)).fit(predictor_array)\n",
    "predictor_array_transformed = transform_predictors.transform(predictor_array)\n",
    "#predictor_array_transformed2 = transform_predictors.transform(predictor_array)\n",
    "#predictor_array_transformed = predictor_array"
   ]
  },
  {
   "cell_type": "code",
   "execution_count": null,
   "metadata": {},
   "outputs": [],
   "source": []
  },
  {
   "cell_type": "code",
   "execution_count": 220,
   "metadata": {},
   "outputs": [
    {
     "data": {
      "text/plain": [
       "numpy.ndarray"
      ]
     },
     "execution_count": 220,
     "metadata": {},
     "output_type": "execute_result"
    }
   ],
   "source": [
    "type(predictor_array_transformed)"
   ]
  },
  {
   "cell_type": "code",
   "execution_count": 221,
   "metadata": {},
   "outputs": [
    {
     "data": {
      "text/plain": [
       "(534378, 91)"
      ]
     },
     "execution_count": 221,
     "metadata": {},
     "output_type": "execute_result"
    }
   ],
   "source": [
    "predictor_array.shape"
   ]
  },
  {
   "cell_type": "code",
   "execution_count": 222,
   "metadata": {},
   "outputs": [
    {
     "name": "stdout",
     "output_type": "stream",
     "text": [
      "91\n"
     ]
    }
   ],
   "source": [
    "print(len(df_sales_predictors.columns))"
   ]
  },
  {
   "cell_type": "code",
   "execution_count": null,
   "metadata": {},
   "outputs": [],
   "source": []
  },
  {
   "cell_type": "code",
   "execution_count": 223,
   "metadata": {},
   "outputs": [],
   "source": [
    "Predictand = df_Predictand['Transprice'].values"
   ]
  },
  {
   "cell_type": "code",
   "execution_count": 224,
   "metadata": {},
   "outputs": [
    {
     "data": {
      "text/plain": [
       "[<matplotlib.lines.Line2D at 0x7f38652d1908>]"
      ]
     },
     "execution_count": 224,
     "metadata": {},
     "output_type": "execute_result"
    },
    {
     "data": {
      "image/png": "[encoded data removed]",
      "text/plain": [
       "<Figure size 432x288 with 1 Axes>"
      ]
     },
     "metadata": {},
     "output_type": "display_data"
    }
   ],
   "source": [
    "plt.plot(Predictand)"
   ]
  },
  {
   "cell_type": "code",
   "execution_count": 225,
   "metadata": {},
   "outputs": [],
   "source": [
    "transform_predictand = MinMaxScaler(feature_range=(0, 1)).fit(Predictand.reshape(-1, 1))\n",
    "Predictand_transformed = transform_predictand.transform(Predictand.reshape(-1, 1))"
   ]
  },
  {
   "cell_type": "code",
   "execution_count": 226,
   "metadata": {},
   "outputs": [
    {
     "data": {
      "text/plain": [
       "[<matplotlib.lines.Line2D at 0x7f3865282ba8>]"
      ]
     },
     "execution_count": 226,
     "metadata": {},
     "output_type": "execute_result"
    },
    {
     "data": {
      "image/png": "[encoded data removed]",
      "text/plain": [
       "<Figure size 432x288 with 1 Axes>"
      ]
     },
     "metadata": {},
     "output_type": "display_data"
    }
   ],
   "source": [
    "plt.plot(Predictand_transformed)"
   ]
  },
  {
   "cell_type": "code",
   "execution_count": 227,
   "metadata": {},
   "outputs": [],
   "source": [
    "\n",
    "#cov_2 = np.dot (predictor_array_transformed, predictor_array_transformed.T)\n",
    "#print(cov_2.shape)\n"
   ]
  },
  {
   "cell_type": "code",
   "execution_count": 232,
   "metadata": {},
   "outputs": [
    {
     "data": {
      "text/plain": [
       "(534378, 91)"
      ]
     },
     "execution_count": 232,
     "metadata": {},
     "output_type": "execute_result"
    }
   ],
   "source": [
    "predictor_array_transformed.shape"
   ]
  },
  {
   "cell_type": "code",
   "execution_count": 233,
   "metadata": {},
   "outputs": [
    {
     "data": {
      "text/plain": [
       "(534378, 1)"
      ]
     },
     "execution_count": 233,
     "metadata": {},
     "output_type": "execute_result"
    }
   ],
   "source": [
    "Predictand_transformed.shape"
   ]
  },
  {
   "cell_type": "code",
   "execution_count": 234,
   "metadata": {},
   "outputs": [],
   "source": [
    "from sklearn.model_selection import train_test_split"
   ]
  },
  {
   "cell_type": "code",
   "execution_count": 235,
   "metadata": {},
   "outputs": [],
   "source": [
    "train_samples = 300_000  # Samples used for training the models\n",
    "X_train, X_test, y_train, y_test = train_test_split(\n",
    "    predictor_array_transformed,\n",
    "    Predictand_transformed,\n",
    "    shuffle=False,\n",
    "    test_size=len(Predictand_transformed) - train_samples,\n",
    ")"
   ]
  },
  {
   "cell_type": "code",
   "execution_count": null,
   "metadata": {},
   "outputs": [],
   "source": []
  },
  {
   "cell_type": "code",
   "execution_count": 263,
   "metadata": {},
   "outputs": [],
   "source": [
    "# Model definition\n",
    "\n",
    "model_NN_Class = keras.Sequential()\n",
    "model_NN_Class.add(keras.layers.Dense(40, activation='sigmoid', input_dim=91))\n",
    "model_NN_Class.add(keras.layers.Dense(1, activation='sigmoid'))\n"
   ]
  },
  {
   "cell_type": "code",
   "execution_count": 264,
   "metadata": {},
   "outputs": [],
   "source": [
    "model_NN_Class.compile(loss='mse', optimizer='adam')"
   ]
  },
  {
   "cell_type": "code",
   "execution_count": null,
   "metadata": {},
   "outputs": [],
   "source": []
  },
  {
   "cell_type": "code",
   "execution_count": 265,
   "metadata": {},
   "outputs": [
    {
     "name": "stdout",
     "output_type": "stream",
     "text": [
      "Epoch 1/50\n",
      "3000/3000 [==============================] - 9s 3ms/step - loss: 0.0012\n",
      "Epoch 2/50\n",
      "3000/3000 [==============================] - 9s 3ms/step - loss: 2.2596e-04\n",
      "Epoch 3/50\n",
      "3000/3000 [==============================] - 9s 3ms/step - loss: 1.1670e-04\n",
      "Epoch 4/50\n",
      "3000/3000 [==============================] - 9s 3ms/step - loss: 1.0521e-04\n",
      "Epoch 5/50\n",
      "3000/3000 [==============================] - 9s 3ms/step - loss: 9.9433e-05\n",
      "Epoch 6/50\n",
      "3000/3000 [==============================] - 9s 3ms/step - loss: 9.6323e-05\n",
      "Epoch 7/50\n",
      "3000/3000 [==============================] - 9s 3ms/step - loss: 9.6166e-05\n",
      "Epoch 8/50\n",
      "3000/3000 [==============================] - 9s 3ms/step - loss: 9.5718e-05\n",
      "Epoch 9/50\n",
      "3000/3000 [==============================] - 9s 3ms/step - loss: 9.4384e-05\n",
      "Epoch 10/50\n",
      "3000/3000 [==============================] - 9s 3ms/step - loss: 9.3163e-05\n",
      "Epoch 11/50\n",
      "3000/3000 [==============================] - 9s 3ms/step - loss: 9.3876e-05\n",
      "Epoch 12/50\n",
      "3000/3000 [==============================] - 9s 3ms/step - loss: 9.3035e-05\n",
      "Epoch 13/50\n",
      "3000/3000 [==============================] - 9s 3ms/step - loss: 9.3577e-05\n",
      "Epoch 14/50\n",
      "3000/3000 [==============================] - 9s 3ms/step - loss: 9.3097e-05\n",
      "Epoch 15/50\n",
      "3000/3000 [==============================] - 9s 3ms/step - loss: 9.1396e-05\n",
      "Epoch 16/50\n",
      "3000/3000 [==============================] - 9s 3ms/step - loss: 9.1745e-05\n",
      "Epoch 17/50\n",
      "3000/3000 [==============================] - 9s 3ms/step - loss: 9.0294e-05\n",
      "Epoch 18/50\n",
      "3000/3000 [==============================] - 9s 3ms/step - loss: 8.9940e-05\n",
      "Epoch 19/50\n",
      "3000/3000 [==============================] - 9s 3ms/step - loss: 8.9066e-05\n",
      "Epoch 20/50\n",
      "3000/3000 [==============================] - 8s 3ms/step - loss: 8.9877e-05\n",
      "Epoch 21/50\n",
      "3000/3000 [==============================] - 9s 3ms/step - loss: 8.9460e-05\n",
      "Epoch 22/50\n",
      "3000/3000 [==============================] - 9s 3ms/step - loss: 8.9387e-05\n",
      "Epoch 23/50\n",
      "3000/3000 [==============================] - 9s 3ms/step - loss: 8.9170e-05\n",
      "Epoch 24/50\n",
      "3000/3000 [==============================] - 9s 3ms/step - loss: 8.8577e-05\n",
      "Epoch 25/50\n",
      "3000/3000 [==============================] - 9s 3ms/step - loss: 8.8743e-05\n",
      "Epoch 26/50\n",
      "3000/3000 [==============================] - 8s 3ms/step - loss: 8.8573e-05\n",
      "Epoch 27/50\n",
      "3000/3000 [==============================] - 8s 3ms/step - loss: 8.8972e-05\n",
      "Epoch 28/50\n",
      "3000/3000 [==============================] - 8s 3ms/step - loss: 8.9408e-05\n",
      "Epoch 29/50\n",
      "3000/3000 [==============================] - 9s 3ms/step - loss: 9.0177e-05\n",
      "Epoch 30/50\n",
      "3000/3000 [==============================] - 8s 3ms/step - loss: 8.8905e-05\n",
      "Epoch 31/50\n",
      "3000/3000 [==============================] - 8s 3ms/step - loss: 8.8355e-05\n",
      "Epoch 32/50\n",
      "3000/3000 [==============================] - 8s 3ms/step - loss: 8.9170e-05\n",
      "Epoch 33/50\n",
      "3000/3000 [==============================] - 8s 3ms/step - loss: 8.8795e-05\n",
      "Epoch 34/50\n",
      "3000/3000 [==============================] - 8s 3ms/step - loss: 8.8718e-05\n",
      "Epoch 35/50\n",
      "3000/3000 [==============================] - 8s 3ms/step - loss: 8.9199e-05\n",
      "Epoch 36/50\n",
      "3000/3000 [==============================] - 8s 3ms/step - loss: 8.8893e-05\n",
      "Epoch 37/50\n",
      "3000/3000 [==============================] - 8s 3ms/step - loss: 8.9556e-05\n",
      "Epoch 38/50\n",
      "3000/3000 [==============================] - 8s 3ms/step - loss: 8.8575e-05\n",
      "Epoch 39/50\n",
      "3000/3000 [==============================] - 8s 3ms/step - loss: 8.8456e-05\n",
      "Epoch 40/50\n",
      "3000/3000 [==============================] - 8s 3ms/step - loss: 8.8163e-05\n",
      "Epoch 41/50\n",
      "3000/3000 [==============================] - 8s 3ms/step - loss: 8.8789e-05\n",
      "Epoch 42/50\n",
      "3000/3000 [==============================] - 8s 3ms/step - loss: 8.8304e-05\n",
      "Epoch 43/50\n",
      "3000/3000 [==============================] - 8s 3ms/step - loss: 8.7913e-05\n",
      "Epoch 44/50\n",
      "3000/3000 [==============================] - 8s 3ms/step - loss: 8.8497e-05\n",
      "Epoch 45/50\n",
      "3000/3000 [==============================] - 8s 3ms/step - loss: 8.7733e-05\n",
      "Epoch 46/50\n",
      "3000/3000 [==============================] - 8s 3ms/step - loss: 8.7981e-05\n",
      "Epoch 47/50\n",
      "3000/3000 [==============================] - 8s 3ms/step - loss: 8.7578e-05\n",
      "Epoch 48/50\n",
      "3000/3000 [==============================] - 8s 3ms/step - loss: 8.6517e-05\n",
      "Epoch 49/50\n",
      "3000/3000 [==============================] - 8s 3ms/step - loss: 8.7989e-05\n",
      "Epoch 50/50\n",
      "3000/3000 [==============================] - 8s 3ms/step - loss: 8.7427e-05\n"
     ]
    }
   ],
   "source": [
    "fit_history = model_NN_Class.fit(X_train, y_train, epochs=50, batch_size= 100)"
   ]
  },
  {
   "cell_type": "code",
   "execution_count": 266,
   "metadata": {},
   "outputs": [],
   "source": [
    "predictions = model_NN_Class.predict(X_train)"
   ]
  },
  {
   "cell_type": "code",
   "execution_count": 267,
   "metadata": {},
   "outputs": [],
   "source": [
    "#predictions = (predictions - predictions.min())\n",
    "#predictions = predictions/(predictions.max()) *2. -1"
   ]
  },
  {
   "cell_type": "code",
   "execution_count": 268,
   "metadata": {},
   "outputs": [
    {
     "data": {
      "text/plain": [
       "(300000, 1)"
      ]
     },
     "execution_count": 268,
     "metadata": {},
     "output_type": "execute_result"
    }
   ],
   "source": [
    "predictions.shape"
   ]
  },
  {
   "cell_type": "code",
   "execution_count": 269,
   "metadata": {},
   "outputs": [
    {
     "data": {
      "text/plain": [
       "(300000, 1)"
      ]
     },
     "execution_count": 269,
     "metadata": {},
     "output_type": "execute_result"
    }
   ],
   "source": [
    "y_train.shape"
   ]
  },
  {
   "cell_type": "code",
   "execution_count": 270,
   "metadata": {},
   "outputs": [
    {
     "data": {
      "text/plain": [
       "[<matplotlib.lines.Line2D at 0x7f38fdda9828>]"
      ]
     },
     "execution_count": 270,
     "metadata": {},
     "output_type": "execute_result"
    },
    {
     "data": {
      "image/png": "[encoded data removed]",
      "text/plain": [
       "<Figure size 432x288 with 1 Axes>"
      ]
     },
     "metadata": {},
     "output_type": "display_data"
    }
   ],
   "source": [
    "plt.plot(predictions.reshape(len(y_train)), y_train.reshape(len(y_train)),'o')\n",
    "#plt.plot(y_train.reshape(len(y_train)), y_train.reshape(len(y_train)))"
   ]
  },
  {
   "cell_type": "code",
   "execution_count": 271,
   "metadata": {},
   "outputs": [
    {
     "data": {
      "text/plain": [
       "[<matplotlib.lines.Line2D at 0x7f3868687e48>]"
      ]
     },
     "execution_count": 271,
     "metadata": {},
     "output_type": "execute_result"
    },
    {
     "data": {
      "image/png": "[encoded data removed]",
      "text/plain": [
       "<Figure size 432x288 with 1 Axes>"
      ]
     },
     "metadata": {},
     "output_type": "display_data"
    }
   ],
   "source": [
    "predictions_test = model_NN_Class.predict(X_test)\n",
    "plt.plot(predictions_test.reshape(len(y_test)), y_test.reshape(len(y_test)),'o')"
   ]
  },
  {
   "cell_type": "code",
   "execution_count": 272,
   "metadata": {},
   "outputs": [],
   "source": [
    "X_test2 = X_test"
   ]
  },
  {
   "cell_type": "code",
   "execution_count": 273,
   "metadata": {},
   "outputs": [
    {
     "data": {
      "text/plain": [
       "(234378, 91)"
      ]
     },
     "execution_count": 273,
     "metadata": {},
     "output_type": "execute_result"
    }
   ],
   "source": [
    "X_test2.shape"
   ]
  },
  {
   "cell_type": "code",
   "execution_count": 274,
   "metadata": {},
   "outputs": [],
   "source": [
    "X_test2[:, 0:89] = 0"
   ]
  },
  {
   "cell_type": "code",
   "execution_count": 275,
   "metadata": {},
   "outputs": [
    {
     "data": {
      "text/plain": [
       "[<matplotlib.lines.Line2D at 0x7f38649d11d0>]"
      ]
     },
     "execution_count": 275,
     "metadata": {},
     "output_type": "execute_result"
    },
    {
     "data": {
      "image/png": "[encoded data removed]",
      "text/plain": [
       "<Figure size 432x288 with 1 Axes>"
      ]
     },
     "metadata": {},
     "output_type": "display_data"
    }
   ],
   "source": [
    "\n",
    "plt.plot(model_NN_Class.predict(X_test2).reshape(len(y_test)), y_test.reshape(len(y_test)),'o')"
   ]
  },
  {
   "cell_type": "code",
   "execution_count": 276,
   "metadata": {},
   "outputs": [],
   "source": [
    "X_test3 = X_test"
   ]
  },
  {
   "cell_type": "code",
   "execution_count": 277,
   "metadata": {},
   "outputs": [],
   "source": [
    "X_test3[:, 89] = 0"
   ]
  },
  {
   "cell_type": "code",
   "execution_count": 278,
   "metadata": {},
   "outputs": [
    {
     "data": {
      "text/plain": [
       "[<matplotlib.lines.Line2D at 0x7f3864946550>]"
      ]
     },
     "execution_count": 278,
     "metadata": {},
     "output_type": "execute_result"
    },
    {
     "data": {
      "image/png": "[encoded data removed]",
      "text/plain": [
       "<Figure size 432x288 with 1 Axes>"
      ]
     },
     "metadata": {},
     "output_type": "display_data"
    }
   ],
   "source": [
    "\n",
    "plt.plot(model_NN_Class.predict(X_test3).reshape(len(y_test)), y_test.reshape(len(y_test)),'o')"
   ]
  },
  {
   "cell_type": "code",
   "execution_count": null,
   "metadata": {},
   "outputs": [],
   "source": []
  },
  {
   "cell_type": "code",
   "execution_count": 281,
   "metadata": {},
   "outputs": [
    {
     "data": {
      "text/plain": [
       "[<matplotlib.lines.Line2D at 0x7f3864918e80>]"
      ]
     },
     "execution_count": 281,
     "metadata": {},
     "output_type": "execute_result"
    },
    {
     "data": {
      "image/png": "[encoded data removed]",
      "text/plain": [
       "<Figure size 432x288 with 1 Axes>"
      ]
     },
     "metadata": {},
     "output_type": "display_data"
    }
   ],
   "source": [
    "plt.plot(transform_predictand.inverse_transform(predictions_test), \n",
    "         transform_predictand.inverse_transform(y_test),'o')\n",
    "\n",
    "plt.plot(transform_predictors.inverse_transform(X_test)[:,-1], \n",
    "         transform_predictand.inverse_transform(y_test),'o')\n",
    "\n",
    "plt.plot(transform_predictand.inverse_transform(y_test),transform_predictand.inverse_transform(y_test))"
   ]
  },
  {
   "cell_type": "code",
   "execution_count": 283,
   "metadata": {},
   "outputs": [
    {
     "data": {
      "text/plain": [
       "[<matplotlib.lines.Line2D at 0x7f38648449b0>]"
      ]
     },
     "execution_count": 283,
     "metadata": {},
     "output_type": "execute_result"
    },
    {
     "data": {
      "image/png": "[encoded data removed]",
      "text/plain": [
       "<Figure size 432x288 with 1 Axes>"
      ]
     },
     "metadata": {},
     "output_type": "display_data"
    }
   ],
   "source": [
    "plt.plot(predictor_array[:,0],Predictand,'o')"
   ]
  },
  {
   "cell_type": "code",
   "execution_count": null,
   "metadata": {},
   "outputs": [],
   "source": []
  },
  {
   "cell_type": "code",
   "execution_count": null,
   "metadata": {},
   "outputs": [],
   "source": []
  },
  {
   "cell_type": "code",
   "execution_count": 280,
   "metadata": {},
   "outputs": [
    {
     "data": {
      "text/plain": [
       "array([[ 0.        ,  0.        ,  0.        , ...,  0.        ,\n",
       "         0.        , -5.89223773],\n",
       "       [ 0.        ,  0.        ,  0.        , ...,  0.        ,\n",
       "         0.        , -5.61890317],\n",
       "       [ 0.        ,  0.        ,  0.        , ...,  0.        ,\n",
       "         0.        , -5.60721625],\n",
       "       ...,\n",
       "       [ 0.        ,  0.        ,  0.        , ...,  0.        ,\n",
       "         0.        , -5.66719038],\n",
       "       [ 0.        ,  0.        ,  0.        , ...,  0.        ,\n",
       "         0.        , -5.58356819],\n",
       "       [ 0.        ,  0.        ,  0.        , ...,  0.        ,\n",
       "         0.        , -5.58990801]])"
      ]
     },
     "execution_count": 280,
     "metadata": {},
     "output_type": "execute_result"
    }
   ],
   "source": [
    "X_test"
   ]
  },
  {
   "cell_type": "code",
   "execution_count": null,
   "metadata": {},
   "outputs": [],
   "source": []
  },
  {
   "cell_type": "code",
   "execution_count": null,
   "metadata": {},
   "outputs": [],
   "source": []
  },
  {
   "cell_type": "code",
   "execution_count": 30,
   "metadata": {},
   "outputs": [],
   "source": [
    "def plot_loss(history):\n",
    "    plt.plot(history.history['loss'], label='loss')\n",
    "    plt.plot(history.history['val_loss'], label='val_loss')\n",
    "    plt.ylim([0, 10])\n",
    "    plt.xlabel('Epoch')\n",
    "    plt.ylabel('Error [MPG]')\n",
    "    plt.legend()\n",
    "    plt.grid(True)"
   ]
  },
  {
   "cell_type": "code",
   "execution_count": null,
   "metadata": {},
   "outputs": [],
   "source": []
  }
 ],
 "metadata": {
  "kernelspec": {
   "display_name": "Python 3",
   "language": "python",
   "name": "python3"
  },
  "language_info": {
   "codemirror_mode": {
    "name": "ipython",
    "version": 3
   },
   "file_extension": ".py",
   "mimetype": "text/x-python",
   "name": "python",
   "nbconvert_exporter": "python",
   "pygments_lexer": "ipython3",
   "version": "3.6.10"
  }
 },
 "nbformat": 4,
 "nbformat_minor": 4
}
