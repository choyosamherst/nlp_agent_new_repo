{
 "cells": [
  {
   "cell_type": "code",
   "execution_count": null,
   "metadata": {},
   "outputs": [],
   "source": [
    "from sklearn.ensemble import RandomForestRegressor\n",
    "from sklearn.datasets import make_regression\n",
    "\n",
    "import pandas as pd\n",
    "import numpy as np\n",
    "import matplotlib.pyplot as plt\n",
    "\n",
    "\n",
    "from sklearn.datasets import make_classification\n",
    "from sklearn.model_selection import train_test_split\n",
    "\n",
    "from sklearn.ensemble import RandomForestClassifier\n",
    "\n",
    "from sklearn.preprocessing import MinMaxScaler"
   ]
  },
  {
   "cell_type": "code",
   "execution_count": null,
   "metadata": {},
   "outputs": [],
   "source": [
    "from sklearn.metrics import confusion_matrix\n",
    "from sklearn.metrics import accuracy_score\n",
    "from sklearn.metrics import top_k_accuracy_score\n",
    "from sklearn.metrics import f1_score\n",
    "from sklearn.metrics import precision_score"
   ]
  },
  {
   "cell_type": "code",
   "execution_count": null,
   "metadata": {},
   "outputs": [],
   "source": [
    "\n",
    "from sklearn.preprocessing import KBinsDiscretizer\n",
    "from sklearn.preprocessing import MaxAbsScaler\n",
    "from sklearn.preprocessing import StandardScaler\n",
    "from sklearn.preprocessing import MinMaxScaler"
   ]
  },
  {
   "cell_type": "code",
   "execution_count": null,
   "metadata": {},
   "outputs": [],
   "source": [
    "import seaborn as sns\n",
    "sns.set_style(\"whitegrid\")"
   ]
  },
  {
   "cell_type": "code",
   "execution_count": null,
   "metadata": {},
   "outputs": [],
   "source": [
    "state = 'AL'"
   ]
  },
  {
   "cell_type": "code",
   "execution_count": null,
   "metadata": {},
   "outputs": [],
   "source": [
    "file_symptoms_train = 'comments/raw_comments/agent_comments_'+state+\\\n",
    "                        '_filtered_final_joined_selected_columns_use_max_scale_one_df_train.fea'\n",
    "\n",
    "noun_sentence_state_train = pd.read_feather(file_symptoms_train)"
   ]
  },
  {
   "cell_type": "code",
   "execution_count": null,
   "metadata": {},
   "outputs": [],
   "source": [
    "file_symptoms_test = 'comments/raw_comments/agent_comments_'+state+\\\n",
    "                        '_filtered_final_joined_selected_columns_use_max_scale_one_df_test.fea'\n",
    "noun_sentence_state_test = pd.read_feather(file_symptoms_test)\n"
   ]
  },
  {
   "cell_type": "code",
   "execution_count": 8,
   "metadata": {},
   "outputs": [],
   "source": [
    "noun_sentence_state_test_transdate_train = noun_sentence_state_train.groupby('Transdate').mean()[['avmerror']].reset_index()\n",
    "noun_sentence_state_test_transdate_train = noun_sentence_state_test_transdate_train.rename(columns={\"avmerror\": \"avmerror_mean\"})"
   ]
  },
  {
   "cell_type": "code",
   "execution_count": 9,
   "metadata": {},
   "outputs": [],
   "source": [
    "noun_sentence_state_test_transdate_test = noun_sentence_state_test.groupby('Transdate').mean()[['avmerror']].reset_index()\n",
    "noun_sentence_state_test_transdate_test = noun_sentence_state_test_transdate_test.rename(columns={\"avmerror\": \"avmerror_mean\"})"
   ]
  },
  {
   "cell_type": "code",
   "execution_count": 10,
   "metadata": {},
   "outputs": [],
   "source": [
    "noun_sentence_state_train = noun_sentence_state_train.merge(noun_sentence_state_test_transdate_train,\n",
    "                                                         how='left', left_on='Transdate', right_on='Transdate')"
   ]
  },
  {
   "cell_type": "code",
   "execution_count": 11,
   "metadata": {},
   "outputs": [],
   "source": [
    "noun_sentence_state_test = noun_sentence_state_test.merge(noun_sentence_state_test_transdate_test,\n",
    "                                                         how='left', left_on='Transdate', right_on='Transdate')"
   ]
  },
  {
   "cell_type": "code",
   "execution_count": 12,
   "metadata": {},
   "outputs": [],
   "source": [
    "selcted_columns = ['cbsa', 'Transdate', \n",
    "       'cj_living_area', 'census_tract', 'zip', \n",
    "       'avmValue', \n",
    "       'AVM_Error_Indicators_0', 'AVM_Error_Indicators_1',\n",
    "       'AVM_Error_Indicators_2', 'AVM_Error_Indicators_3',\n",
    "       'AVM_Error_Indicators_4', 'AVM_Error_Indicators_5',\n",
    "       'AVM_Error_Indicators_6', 'AVM_Error_Indicators_7',\n",
    "       'AVM_Error_Indicators_8', 'AVM_Error_Indicators_9',\n",
    "       'AVM_Error_Indicators_10', 'AVM_Error_Indicators_11',\n",
    "       'AVM_Error_Indicators_scale', 'AVM_Error_Indicators_scale_inverse',\n",
    "       'Listing_Error_Indicators_0', 'Listing_Error_Indicators_1',\n",
    "       'Listing_Error_Indicators_2', 'Listing_Error_Indicators_3',\n",
    "       'Listing_Error_Indicators_4', 'Listing_Error_Indicators_5',\n",
    "       'Listing_Error_Indicators_6', 'Listing_Error_Indicators_7',\n",
    "       'Listing_Error_Indicators_8', 'Listing_Error_Indicators_9',\n",
    "       'Listing_Error_Indicators_10', 'Listing_Error_Indicators_11',\n",
    "       'AVM_Error_Indicators_0_max_value',\n",
    "       'AVM_Error_Indicators_0_min_value',\n",
    "       'AVM_Error_Indicators_0_max_indicator',\n",
    "       'AVM_Error_Indicators_0_min_indicator',\n",
    "       'AVM_Error_Indicators_0_diff_indicator',\n",
    "       'AVM_Error_Indicators_0_diff_value', 'AVM_Error_Indicators_0_mean','avmerror_mean']"
   ]
  },
  {
   "cell_type": "code",
   "execution_count": 13,
   "metadata": {},
   "outputs": [],
   "source": [
    "selcted_columns = selcted_columns + list(noun_sentence_state_train.columns[51:-1])"
   ]
  },
  {
   "cell_type": "code",
   "execution_count": 14,
   "metadata": {},
   "outputs": [],
   "source": [
    "symptoms_df = noun_sentence_state_train.loc[:,selcted_columns]\n",
    "symptoms_df_test = noun_sentence_state_test.loc[:,selcted_columns]"
   ]
  },
  {
   "cell_type": "code",
   "execution_count": 15,
   "metadata": {},
   "outputs": [],
   "source": [
    "noun_sentence_state_train['category_predictand'] = 0\n",
    "noun_sentence_state_train.loc[noun_sentence_state_train['avmerror']>=0.,'category_predictand'] = 1"
   ]
  },
  {
   "cell_type": "code",
   "execution_count": 16,
   "metadata": {},
   "outputs": [],
   "source": [
    "noun_sentence_state_test['category_predictand'] = 0\n",
    "noun_sentence_state_test.loc[noun_sentence_state_test['avmerror']>=0.,'category_predictand'] = 1"
   ]
  },
  {
   "cell_type": "code",
   "execution_count": 17,
   "metadata": {},
   "outputs": [],
   "source": [
    "Predictors = symptoms_df.to_numpy()\n",
    "X_test = symptoms_df_test.to_numpy()\n",
    "X_train = Predictors\n",
    "predictand = noun_sentence_state_train.category_predictand.values\n",
    "y_train = predictand\n",
    "y_test = noun_sentence_state_test.category_predictand.values"
   ]
  },
  {
   "cell_type": "code",
   "execution_count": null,
   "metadata": {},
   "outputs": [],
   "source": []
  },
  {
   "cell_type": "code",
   "execution_count": 18,
   "metadata": {},
   "outputs": [],
   "source": [
    "from catboost import CatBoostClassifier\n",
    "\n",
    "#model = CatBoostClassifier(max_depth = 10, verbose=0, n_estimators=10) #0.43085421187610967\n",
    "#model = CatBoostClassifier(max_depth = 10, verbose=0, n_estimators=10, learning_rate=0.001) #0.4107318997829947\n",
    "#model = CatBoostClassifier(max_depth = 10, verbose=0, n_estimators=10, bootstrap_type = 'Bernoulli') #0.450635771803655\n",
    "#model = CatBoostClassifier(max_depth = 10, verbose=0, n_estimators=10, bootstrap_type = 'MVS') #0.42391362829319035\n",
    "model = CatBoostClassifier(max_depth = 9, verbose=0, n_estimators=10, bootstrap_type = 'No') #0.45045642855861834\n",
    "#model = CatBoostClassifier(max_depth = 10, verbose=0,\n",
    "#                           n_estimators=10, bootstrap_type = 'Bernoulli', auto_class_weights = 'SqrtBalanced') #langevin"
   ]
  },
  {
   "cell_type": "code",
   "execution_count": 19,
   "metadata": {},
   "outputs": [
    {
     "name": "stdout",
     "output_type": "stream",
     "text": [
      "{'n_estimators': 10, 'max_depth': 9, 'bootstrap_type': 'No', 'verbose': 0}\n"
     ]
    }
   ],
   "source": [
    "print(model.get_params(deep=True))"
   ]
  },
  {
   "cell_type": "code",
   "execution_count": 20,
   "metadata": {},
   "outputs": [
    {
     "data": {
      "text/plain": [
       "<catboost.core.CatBoostClassifier at 0x7f1e8069ff60>"
      ]
     },
     "execution_count": 20,
     "metadata": {},
     "output_type": "execute_result"
    }
   ],
   "source": [
    "model.fit(X_train, y_train)"
   ]
  },
  {
   "cell_type": "code",
   "execution_count": 21,
   "metadata": {},
   "outputs": [],
   "source": [
    "predictions_train = model.predict(X_train)\n",
    "predictions_train_prob = model.predict_proba(X_train)\n"
   ]
  },
  {
   "cell_type": "code",
   "execution_count": 22,
   "metadata": {},
   "outputs": [
    {
     "name": "stdout",
     "output_type": "stream",
     "text": [
      "[[27125 28490]\n",
      " [15802 54265]]\n"
     ]
    }
   ],
   "source": [
    "cm_train = confusion_matrix(y_train, predictions_train)\n",
    "print(cm_train)"
   ]
  },
  {
   "cell_type": "code",
   "execution_count": 23,
   "metadata": {},
   "outputs": [
    {
     "data": {
      "text/plain": [
       "0.6475867666014227"
      ]
     },
     "execution_count": 23,
     "metadata": {},
     "output_type": "execute_result"
    }
   ],
   "source": [
    "accuracy_score(y_train, predictions_train)"
   ]
  },
  {
   "cell_type": "code",
   "execution_count": null,
   "metadata": {},
   "outputs": [],
   "source": []
  },
  {
   "cell_type": "code",
   "execution_count": null,
   "metadata": {},
   "outputs": [],
   "source": [
    "predictions_test = model.predict(X_test)\n",
    "predictions_test_prob = model.predict_proba(X_test)"
   ]
  },
  {
   "cell_type": "code",
   "execution_count": null,
   "metadata": {},
   "outputs": [],
   "source": [
    "cm_test = confusion_matrix(y_test, predictions_test)\n",
    "print(cm_test)"
   ]
  },
  {
   "cell_type": "code",
   "execution_count": null,
   "metadata": {},
   "outputs": [],
   "source": [
    "accuracy_score(y_test, predictions_test)"
   ]
  },
  {
   "cell_type": "code",
   "execution_count": null,
   "metadata": {},
   "outputs": [],
   "source": []
  },
  {
   "cell_type": "code",
   "execution_count": null,
   "metadata": {},
   "outputs": [],
   "source": [
    "print(model.get_params(deep=True))"
   ]
  },
  {
   "cell_type": "code",
   "execution_count": null,
   "metadata": {},
   "outputs": [],
   "source": []
  },
  {
   "cell_type": "markdown",
   "metadata": {},
   "source": [
    "## Regressor"
   ]
  },
  {
   "cell_type": "code",
   "execution_count": 24,
   "metadata": {},
   "outputs": [],
   "source": [
    "y_train_regressor = noun_sentence_state_train.avmerror.values"
   ]
  },
  {
   "cell_type": "code",
   "execution_count": 38,
   "metadata": {},
   "outputs": [],
   "source": [
    "from catboost import CatBoostRegressor\n",
    "\n",
    "#model = CatBoostClassifier(max_depth = 10, verbose=0, n_estimators=10) #0.43085421187610967\n",
    "#model = CatBoostClassifier(max_depth = 10, verbose=0, n_estimators=10, learning_rate=0.001) #0.4107318997829947\n",
    "model_regressor = CatBoostRegressor(max_depth = 10, verbose=0, n_estimators=10, bootstrap_type = 'Bernoulli') #0.450635771803655\n",
    "#model = CatBoostClassifier(max_depth = 10, verbose=0, n_estimators=10, bootstrap_type = 'MVS') #0.42391362829319035\n",
    "\n",
    "#model_regressor = CatBoostRegressor(max_depth = 9, verbose=0, n_estimators=10, bootstrap_type = 'No') #0.45045642855861834\n",
    "\n",
    "#model = CatBoostClassifier(max_depth = 10, verbose=0,\n",
    "#                           n_estimators=10, bootstrap_type = 'Bernoulli', auto_class_weights = 'SqrtBalanced') #langevin"
   ]
  },
  {
   "cell_type": "code",
   "execution_count": 39,
   "metadata": {},
   "outputs": [
    {
     "data": {
      "text/plain": [
       "<catboost.core.CatBoostRegressor at 0x7f191b9c5390>"
      ]
     },
     "execution_count": 39,
     "metadata": {},
     "output_type": "execute_result"
    }
   ],
   "source": [
    "model_regressor.fit(X_train, y_train_regressor)"
   ]
  },
  {
   "cell_type": "code",
   "execution_count": 40,
   "metadata": {},
   "outputs": [],
   "source": [
    "predictions_train_Regressor = model_regressor.predict(X_train)"
   ]
  },
  {
   "cell_type": "code",
   "execution_count": 41,
   "metadata": {},
   "outputs": [
    {
     "data": {
      "text/plain": [
       "[<matplotlib.lines.Line2D at 0x7f1e8380eb00>]"
      ]
     },
     "execution_count": 41,
     "metadata": {},
     "output_type": "execute_result"
    },
    {
     "data": {
      "image/png": "[encoded data removed]",
      "text/plain": [
       "<Figure size 432x288 with 1 Axes>"
      ]
     },
     "metadata": {},
     "output_type": "display_data"
    }
   ],
   "source": [
    "plt.plot(predictions_train_Regressor, y_train_regressor, 'o')\n",
    "plt.plot(y_train_regressor, y_train_regressor)"
   ]
  },
  {
   "cell_type": "code",
   "execution_count": 42,
   "metadata": {},
   "outputs": [
    {
     "data": {
      "text/plain": [
       "[<matplotlib.lines.Line2D at 0x7f191b91e780>]"
      ]
     },
     "execution_count": 42,
     "metadata": {},
     "output_type": "execute_result"
    },
    {
     "data": {
      "image/png": "[encoded data removed]",
      "text/plain": [
       "<Figure size 432x288 with 1 Axes>"
      ]
     },
     "metadata": {},
     "output_type": "display_data"
    }
   ],
   "source": [
    "from matplotlib import colors\n",
    "plt.hist2d(predictions_train_Regressor, y_train_regressor, bins=10, cmap = \"RdYlGn_r\",\n",
    "           norm = colors.LogNorm())\n",
    "plt.plot(y_train_regressor,y_train_regressor)"
   ]
  },
  {
   "cell_type": "code",
   "execution_count": 43,
   "metadata": {},
   "outputs": [],
   "source": [
    "predictions_test_Regressor = model_regressor.predict(X_test)"
   ]
  },
  {
   "cell_type": "code",
   "execution_count": 44,
   "metadata": {},
   "outputs": [],
   "source": [
    "y_test_regressor = noun_sentence_state_test.avmerror.values"
   ]
  },
  {
   "cell_type": "code",
   "execution_count": 45,
   "metadata": {},
   "outputs": [
    {
     "data": {
      "text/plain": [
       "[<matplotlib.lines.Line2D at 0x7f191b9b00b8>]"
      ]
     },
     "execution_count": 45,
     "metadata": {},
     "output_type": "execute_result"
    },
    {
     "data": {
      "image/png": "[encoded data removed]",
      "text/plain": [
       "<Figure size 432x288 with 1 Axes>"
      ]
     },
     "metadata": {},
     "output_type": "display_data"
    }
   ],
   "source": [
    "plt.hist2d(predictions_test_Regressor, y_test_regressor, bins=10, cmap = \"RdYlGn_r\",\n",
    "           norm = colors.LogNorm())\n",
    "plt.plot(y_test_regressor,y_test_regressor)"
   ]
  },
  {
   "cell_type": "code",
   "execution_count": 46,
   "metadata": {},
   "outputs": [],
   "source": [
    "avmValue_test = noun_sentence_state_test['avmValue']\n",
    "avmValue_train = noun_sentence_state_train['avmValue']\n",
    "\n",
    "transprice_test = noun_sentence_state_test['Transprice']\n",
    "transprice_train = noun_sentence_state_train['Transprice']\n",
    "\n",
    "predictions_test_valueR = avmValue_test/(1-predictions_test_Regressor)\n",
    "predictions_train_valueR = avmValue_train/(1-predictions_train_Regressor)"
   ]
  },
  {
   "cell_type": "code",
   "execution_count": 47,
   "metadata": {},
   "outputs": [
    {
     "name": "stdout",
     "output_type": "stream",
     "text": [
      "\n"
     ]
    },
    {
     "data": {
      "text/plain": [
       "[<matplotlib.lines.Line2D at 0x7f191b87c438>]"
      ]
     },
     "execution_count": 47,
     "metadata": {},
     "output_type": "execute_result"
    },
    {
     "data": {
      "image/png": "[encoded data removed]",
      "text/plain": [
       "<Figure size 432x288 with 1 Axes>"
      ]
     },
     "metadata": {},
     "output_type": "display_data"
    }
   ],
   "source": [
    "\n",
    "\n",
    "print('') \n",
    "fig = plt.figure()\n",
    "plt.plot(predictions_test_valueR, \n",
    "     transprice_test,'o')\n",
    "plt.plot(predictions_test_valueR,predictions_test_valueR)\n"
   ]
  },
  {
   "cell_type": "code",
   "execution_count": 48,
   "metadata": {},
   "outputs": [
    {
     "name": "stdout",
     "output_type": "stream",
     "text": [
      "\n",
      "Testing\n",
      "0.07653340342144421\n",
      "0.08478161680856702\n",
      "\n",
      "Training\n",
      "0.07704508649496554\n",
      "0.08446467748384286\n"
     ]
    }
   ],
   "source": [
    "print('') \n",
    "print('Testing')\n",
    "print(np.mean(np.abs(transprice_test-predictions_test_valueR)/\\\n",
    "          (transprice_test)))\n",
    "print(np.mean(np.abs(transprice_test - avmValue_test)/\\\n",
    "              (transprice_test)))\n",
    "\n",
    "print('') \n",
    "print('Training') \n",
    "print(np.mean(np.abs(transprice_train-predictions_train_valueR)/\\\n",
    "          (transprice_train)))\n",
    "print(np.mean(np.abs(transprice_train - avmValue_train)/\\\n",
    "              (transprice_train)))  "
   ]
  },
  {
   "cell_type": "code",
   "execution_count": null,
   "metadata": {},
   "outputs": [],
   "source": []
  }
 ],
 "metadata": {
  "kernelspec": {
   "display_name": "Python 3",
   "language": "python",
   "name": "python3"
  },
  "language_info": {
   "codemirror_mode": {
    "name": "ipython",
    "version": 3
   },
   "file_extension": ".py",
   "mimetype": "text/x-python",
   "name": "python",
   "nbconvert_exporter": "python",
   "pygments_lexer": "ipython3",
   "version": "3.6.10"
  }
 },
 "nbformat": 4,
 "nbformat_minor": 4
}
