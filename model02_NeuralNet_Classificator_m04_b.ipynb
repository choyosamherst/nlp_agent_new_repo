{
 "cells": [
  {
   "cell_type": "code",
   "execution_count": 1,
   "metadata": {},
   "outputs": [],
   "source": [
    "import pandas as pd\n",
    "import numpy as np\n",
    "import matplotlib.pyplot as plt\n",
    "import matplotlib.dates as mdates\n",
    "from matplotlib.dates import DateFormatter\n",
    "from datetime import date, datetime\n",
    "\n",
    "from sklearn.metrics import confusion_matrix\n",
    "from sklearn.metrics import normalized_mutual_info_score, mutual_info_score\n",
    "from sklearn.feature_selection import mutual_info_regression\n",
    "\n",
    "from sklearn.preprocessing import KBinsDiscretizer\n",
    "from sklearn.preprocessing import MaxAbsScaler\n",
    "from sklearn.preprocessing import StandardScaler\n",
    "from sklearn.preprocessing import MinMaxScaler\n",
    "\n",
    "from sklearn.linear_model import LinearRegression\n",
    "\n",
    "from sklearn.pipeline import Pipeline\n",
    "\n",
    "from matplotlib import colors\n",
    "import seaborn as sns\n",
    "\n",
    "\n",
    "import tensorflow as tf\n",
    "from tensorflow import keras\n",
    "from tensorflow.keras import layers\n",
    "from tensorflow.keras import optimizers"
   ]
  },
  {
   "cell_type": "code",
   "execution_count": 2,
   "metadata": {},
   "outputs": [],
   "source": [
    "sns.set_style(\"whitegrid\")"
   ]
  },
  {
   "cell_type": "code",
   "execution_count": 3,
   "metadata": {},
   "outputs": [],
   "source": [
    "str_state = 'GA'\n",
    "file = 'agent_comments_sales_'+str_state\n"
   ]
  },
  {
   "cell_type": "code",
   "execution_count": 4,
   "metadata": {},
   "outputs": [],
   "source": [
    "df_sales_predictors = pd.read_feather(file + '_model04.fea') \n",
    "df_Predictand = pd.read_feather(file + '_predictand2.fea') "
   ]
  },
  {
   "cell_type": "code",
   "execution_count": 5,
   "metadata": {},
   "outputs": [],
   "source": [
    "df_Transprice = pd.read_feather(file + '_Transprice.fea') "
   ]
  },
  {
   "cell_type": "code",
   "execution_count": 6,
   "metadata": {},
   "outputs": [],
   "source": [
    "avmvalue = df_sales_predictors['avmValue']"
   ]
  },
  {
   "cell_type": "code",
   "execution_count": 7,
   "metadata": {},
   "outputs": [
    {
     "data": {
      "text/plain": [
       "0         405972.57\n",
       "1         244827.67\n",
       "2         229674.21\n",
       "3         143607.40\n",
       "4         408971.22\n",
       "            ...    \n",
       "534373    444373.18\n",
       "534374    212083.67\n",
       "534375    157484.07\n",
       "534376    193862.59\n",
       "534377    191104.55\n",
       "Name: avmValue, Length: 534378, dtype: float64"
      ]
     },
     "execution_count": 7,
     "metadata": {},
     "output_type": "execute_result"
    }
   ],
   "source": [
    "avmvalue"
   ]
  },
  {
   "cell_type": "code",
   "execution_count": 8,
   "metadata": {},
   "outputs": [],
   "source": [
    "df_sales_predictors = df_sales_predictors.drop(columns = 'avmValue')"
   ]
  },
  {
   "cell_type": "code",
   "execution_count": 9,
   "metadata": {},
   "outputs": [],
   "source": [
    "from sklearn.preprocessing import KBinsDiscretizer"
   ]
  },
  {
   "cell_type": "code",
   "execution_count": 10,
   "metadata": {},
   "outputs": [],
   "source": [
    "\n",
    "nclasses = 20\n",
    "discretizer = KBinsDiscretizer(n_bins=nclasses, encode='ordinal', strategy='uniform')\n"
   ]
  },
  {
   "cell_type": "code",
   "execution_count": 11,
   "metadata": {},
   "outputs": [
    {
     "name": "stdout",
     "output_type": "stream",
     "text": [
      "[-4.99976000e-01 -4.49979738e-01 -3.99983476e-01 -3.49987215e-01\n",
      " -2.99990953e-01 -2.49994691e-01 -1.99998429e-01 -1.50002168e-01\n",
      " -1.00005906e-01 -5.00096442e-02 -1.33824757e-05  4.99828793e-02\n",
      "  9.99791410e-02  1.49975403e-01  1.99971665e-01  2.49967926e-01\n",
      "  2.99964188e-01  3.49960450e-01  3.99956712e-01  4.49952973e-01\n",
      "  4.99949235e-01]\n"
     ]
    }
   ],
   "source": [
    "\n",
    "Series = df_Predictand['avmerror'].values\n",
    "\n",
    "discretizer.fit(Series.reshape(-1,1))\n",
    "Series_disctzd = discretizer.transform(Series.reshape(-1,1))\n",
    "\n",
    "print(discretizer.bin_edges_[0])"
   ]
  },
  {
   "cell_type": "code",
   "execution_count": 12,
   "metadata": {},
   "outputs": [
    {
     "data": {
      "text/plain": [
       "array([[ 7.],\n",
       "       [11.],\n",
       "       [10.],\n",
       "       ...,\n",
       "       [12.],\n",
       "       [ 8.],\n",
       "       [ 9.]])"
      ]
     },
     "execution_count": 12,
     "metadata": {},
     "output_type": "execute_result"
    }
   ],
   "source": [
    "Series_disctzd"
   ]
  },
  {
   "cell_type": "code",
   "execution_count": 13,
   "metadata": {},
   "outputs": [],
   "source": [
    "predictor_array = df_sales_predictors.to_numpy()\n",
    "#predictor_array = predictor_array[:,105-np.arange(0,20)]\n",
    "#predictor_array = predictor_array[:, -3:]\n",
    "transform_predictors = MinMaxScaler(feature_range=(-6, 6)).fit(predictor_array)\n",
    "predictor_array_transformed = transform_predictors.transform(predictor_array)\n",
    "#predictor_array_transformed2 = transform_predictors.transform(predictor_array)\n",
    "#predictor_array_transformed = predictor_array"
   ]
  },
  {
   "cell_type": "code",
   "execution_count": null,
   "metadata": {},
   "outputs": [],
   "source": []
  },
  {
   "cell_type": "code",
   "execution_count": 14,
   "metadata": {},
   "outputs": [
    {
     "data": {
      "text/plain": [
       "numpy.ndarray"
      ]
     },
     "execution_count": 14,
     "metadata": {},
     "output_type": "execute_result"
    }
   ],
   "source": [
    "type(predictor_array_transformed)"
   ]
  },
  {
   "cell_type": "code",
   "execution_count": 15,
   "metadata": {},
   "outputs": [
    {
     "data": {
      "text/plain": [
       "(534378, 466)"
      ]
     },
     "execution_count": 15,
     "metadata": {},
     "output_type": "execute_result"
    }
   ],
   "source": [
    "predictor_array.shape"
   ]
  },
  {
   "cell_type": "code",
   "execution_count": 16,
   "metadata": {},
   "outputs": [
    {
     "name": "stdout",
     "output_type": "stream",
     "text": [
      "466\n"
     ]
    }
   ],
   "source": [
    "print(len(df_sales_predictors.columns))"
   ]
  },
  {
   "cell_type": "code",
   "execution_count": null,
   "metadata": {},
   "outputs": [],
   "source": []
  },
  {
   "cell_type": "code",
   "execution_count": null,
   "metadata": {},
   "outputs": [],
   "source": []
  },
  {
   "cell_type": "code",
   "execution_count": 17,
   "metadata": {},
   "outputs": [],
   "source": [
    "Predictand = df_Predictand['avmerror'].values"
   ]
  },
  {
   "cell_type": "code",
   "execution_count": 18,
   "metadata": {},
   "outputs": [
    {
     "data": {
      "text/plain": [
       "[<matplotlib.lines.Line2D at 0x7f314c1cf2b0>]"
      ]
     },
     "execution_count": 18,
     "metadata": {},
     "output_type": "execute_result"
    },
    {
     "data": {
      "image/png": "[encoded data removed]",
      "text/plain": [
       "<Figure size 432x288 with 1 Axes>"
      ]
     },
     "metadata": {},
     "output_type": "display_data"
    }
   ],
   "source": [
    "plt.plot(Predictand)"
   ]
  },
  {
   "cell_type": "code",
   "execution_count": 19,
   "metadata": {},
   "outputs": [],
   "source": [
    "transform_predictand = MinMaxScaler(feature_range=(0, 1)).fit(Predictand.reshape(-1, 1))\n",
    "Predictand_transformed = transform_predictand.transform(Predictand.reshape(-1, 1))"
   ]
  },
  {
   "cell_type": "code",
   "execution_count": 20,
   "metadata": {},
   "outputs": [
    {
     "data": {
      "text/plain": [
       "[<matplotlib.lines.Line2D at 0x7f314c14bbe0>]"
      ]
     },
     "execution_count": 20,
     "metadata": {},
     "output_type": "execute_result"
    },
    {
     "data": {
      "image/png": "[encoded data removed]",
      "text/plain": [
       "<Figure size 432x288 with 1 Axes>"
      ]
     },
     "metadata": {},
     "output_type": "display_data"
    }
   ],
   "source": [
    "plt.plot(Predictand_transformed)"
   ]
  },
  {
   "cell_type": "code",
   "execution_count": 21,
   "metadata": {},
   "outputs": [],
   "source": [
    "\n",
    "#cov_2 = np.dot (predictor_array_transformed, predictor_array_transformed.T)\n",
    "#print(cov_2.shape)\n"
   ]
  },
  {
   "cell_type": "code",
   "execution_count": 22,
   "metadata": {},
   "outputs": [
    {
     "data": {
      "text/plain": [
       "(534378, 466)"
      ]
     },
     "execution_count": 22,
     "metadata": {},
     "output_type": "execute_result"
    }
   ],
   "source": [
    "predictor_array_transformed.shape"
   ]
  },
  {
   "cell_type": "code",
   "execution_count": 23,
   "metadata": {},
   "outputs": [
    {
     "data": {
      "text/plain": [
       "(534378, 1)"
      ]
     },
     "execution_count": 23,
     "metadata": {},
     "output_type": "execute_result"
    }
   ],
   "source": [
    "Predictand_transformed.shape"
   ]
  },
  {
   "cell_type": "code",
   "execution_count": 24,
   "metadata": {},
   "outputs": [],
   "source": [
    "from sklearn.model_selection import train_test_split"
   ]
  },
  {
   "cell_type": "code",
   "execution_count": 25,
   "metadata": {},
   "outputs": [],
   "source": [
    "train_samples = 300_000  # Samples used for training the models\n",
    "X_train, X_test, y_train, y_test = train_test_split(\n",
    "    predictor_array_transformed,\n",
    "    Series_disctzd,\n",
    "    shuffle=False,\n",
    "    test_size=len(Predictand_transformed) - train_samples,\n",
    ")"
   ]
  },
  {
   "cell_type": "code",
   "execution_count": 26,
   "metadata": {},
   "outputs": [
    {
     "data": {
      "text/plain": [
       "(300000, 1)"
      ]
     },
     "execution_count": 26,
     "metadata": {},
     "output_type": "execute_result"
    }
   ],
   "source": [
    "y_train.shape"
   ]
  },
  {
   "cell_type": "code",
   "execution_count": 34,
   "metadata": {},
   "outputs": [],
   "source": [
    "# Model definition\n",
    "\n",
    "model_NN_Class = keras.Sequential()\n",
    "model_NN_Class.add(keras.layers.Dense(200, activation='relu', input_dim=466))\n",
    "model_NN_Class.add(keras.layers.Dense(50, activation='tanh'))\n",
    "model_NN_Class.add(keras.layers.Dense(nclasses, activation='softmax'))\n"
   ]
  },
  {
   "cell_type": "code",
   "execution_count": 35,
   "metadata": {},
   "outputs": [],
   "source": [
    "#model_NN_Class.compile(loss='mse', optimizer='adam')\n",
    "model_NN_Class.compile(optimizer='adam',\n",
    "              loss='sparse_categorical_crossentropy',\n",
    "              metrics=['accuracy'])"
   ]
  },
  {
   "cell_type": "code",
   "execution_count": 36,
   "metadata": {},
   "outputs": [
    {
     "data": {
      "text/plain": [
       "array([[ 7.],\n",
       "       [11.],\n",
       "       [10.],\n",
       "       ...,\n",
       "       [13.],\n",
       "       [ 5.],\n",
       "       [ 9.]])"
      ]
     },
     "execution_count": 36,
     "metadata": {},
     "output_type": "execute_result"
    }
   ],
   "source": [
    "y_train"
   ]
  },
  {
   "cell_type": "code",
   "execution_count": 37,
   "metadata": {},
   "outputs": [],
   "source": [
    "#y_train = y_train.reshape(1,-1)\n"
   ]
  },
  {
   "cell_type": "code",
   "execution_count": 38,
   "metadata": {},
   "outputs": [],
   "source": [
    "#y_train"
   ]
  },
  {
   "cell_type": "code",
   "execution_count": 39,
   "metadata": {
    "scrolled": true
   },
   "outputs": [
    {
     "name": "stdout",
     "output_type": "stream",
     "text": [
      "Epoch 1/10\n",
      "3000/3000 [==============================] - 17s 5ms/step - loss: 2.4802 - accuracy: 0.1716\n",
      "Epoch 2/10\n",
      "3000/3000 [==============================] - 18s 6ms/step - loss: 2.4786 - accuracy: 0.1719\n",
      "Epoch 3/10\n",
      "3000/3000 [==============================] - 19s 6ms/step - loss: 2.4791 - accuracy: 0.1709\n",
      "Epoch 4/10\n",
      "3000/3000 [==============================] - 19s 6ms/step - loss: 2.4789 - accuracy: 0.1724\n",
      "Epoch 5/10\n",
      "3000/3000 [==============================] - 19s 6ms/step - loss: 2.4786 - accuracy: 0.1720\n",
      "Epoch 6/10\n",
      "3000/3000 [==============================] - 18s 6ms/step - loss: 2.4789 - accuracy: 0.1712\n",
      "Epoch 7/10\n",
      "3000/3000 [==============================] - 20s 7ms/step - loss: 2.4788 - accuracy: 0.1719\n",
      "Epoch 8/10\n",
      "3000/3000 [==============================] - 20s 7ms/step - loss: 2.4788 - accuracy: 0.1713\n",
      "Epoch 9/10\n",
      "3000/3000 [==============================] - 21s 7ms/step - loss: 2.4785 - accuracy: 0.1722\n",
      "Epoch 10/10\n",
      "3000/3000 [==============================] - 20s 7ms/step - loss: 2.4790 - accuracy: 0.1714\n"
     ]
    }
   ],
   "source": [
    "fit_history = model_NN_Class.fit(X_train, y_train, epochs=10, batch_size= 100)"
   ]
  },
  {
   "cell_type": "code",
   "execution_count": 40,
   "metadata": {},
   "outputs": [],
   "source": [
    "predictions = model_NN_Class.predict(X_train)"
   ]
  },
  {
   "cell_type": "code",
   "execution_count": 41,
   "metadata": {},
   "outputs": [
    {
     "data": {
      "text/plain": [
       "array([[0.00300959, 0.00584775, 0.00800981, ..., 0.0105678 , 0.00910499,\n",
       "        0.00903323],\n",
       "       [0.00300959, 0.00584775, 0.00800981, ..., 0.0105678 , 0.00910499,\n",
       "        0.00903323],\n",
       "       [0.00300959, 0.00584775, 0.00800981, ..., 0.0105678 , 0.00910499,\n",
       "        0.00903323],\n",
       "       ...,\n",
       "       [0.00300959, 0.00584775, 0.00800981, ..., 0.0105678 , 0.00910499,\n",
       "        0.00903323],\n",
       "       [0.00300959, 0.00584775, 0.00800981, ..., 0.0105678 , 0.00910499,\n",
       "        0.00903324],\n",
       "       [0.00300959, 0.00584775, 0.00800981, ..., 0.0105678 , 0.00910499,\n",
       "        0.00903324]], dtype=float32)"
      ]
     },
     "execution_count": 41,
     "metadata": {},
     "output_type": "execute_result"
    }
   ],
   "source": [
    "predictions"
   ]
  },
  {
   "cell_type": "code",
   "execution_count": 42,
   "metadata": {
    "scrolled": true
   },
   "outputs": [],
   "source": [
    "#plt.contourf(predictions)"
   ]
  },
  {
   "cell_type": "code",
   "execution_count": 43,
   "metadata": {},
   "outputs": [],
   "source": [
    "def convert_to_bin(bin_edges, probabilities):\n",
    "    bins_center = (bin_edges[1:]+bin_edges[:-1])/2.\n",
    "    bin_predicted = np.sum(bins_center*probabilities)\n",
    "    return bin_predicted"
   ]
  },
  {
   "cell_type": "code",
   "execution_count": 44,
   "metadata": {},
   "outputs": [
    {
     "name": "stdout",
     "output_type": "stream",
     "text": [
      "0.011725764373912567\n",
      "-0.056063780614004965\n"
     ]
    }
   ],
   "source": [
    "idd = 4000\n",
    "print(convert_to_bin(discretizer.bin_edges_[0], predictions[idd,:]))\n",
    "print(Series[idd])"
   ]
  },
  {
   "cell_type": "code",
   "execution_count": 45,
   "metadata": {},
   "outputs": [],
   "source": [
    "bin_all = np.zeros((np.shape(predictions)[0],2))\n",
    "\n",
    "for iid in range(np.shape(predictions)[0]):\n",
    "    #print(iid)\n",
    "    bin_all[iid,0] = convert_to_bin(discretizer.bin_edges_[0], predictions[iid,:])\n",
    "    bin_all[iid,1] = ((discretizer.bin_edges_[0][1:]+discretizer.bin_edges_[0][:-1])/2)[int(y_train[iid])]"
   ]
  },
  {
   "cell_type": "code",
   "execution_count": 46,
   "metadata": {},
   "outputs": [
    {
     "data": {
      "text/plain": [
       "array([-4.99976000e-01, -4.49979738e-01, -3.99983476e-01, -3.49987215e-01,\n",
       "       -2.99990953e-01, -2.49994691e-01, -1.99998429e-01, -1.50002168e-01,\n",
       "       -1.00005906e-01, -5.00096442e-02, -1.33824757e-05,  4.99828793e-02,\n",
       "        9.99791410e-02,  1.49975403e-01,  1.99971665e-01,  2.49967926e-01,\n",
       "        2.99964188e-01,  3.49960450e-01,  3.99956712e-01,  4.49952973e-01,\n",
       "        4.99949235e-01])"
      ]
     },
     "execution_count": 46,
     "metadata": {},
     "output_type": "execute_result"
    }
   ],
   "source": [
    "discretizer.bin_edges_[0]"
   ]
  },
  {
   "cell_type": "code",
   "execution_count": 47,
   "metadata": {},
   "outputs": [
    {
     "data": {
      "text/plain": [
       "array([[ 7],\n",
       "       [11],\n",
       "       [10],\n",
       "       ...,\n",
       "       [13],\n",
       "       [ 5],\n",
       "       [ 9]])"
      ]
     },
     "execution_count": 47,
     "metadata": {},
     "output_type": "execute_result"
    }
   ],
   "source": [
    "y_train.astype(int)"
   ]
  },
  {
   "cell_type": "code",
   "execution_count": 48,
   "metadata": {},
   "outputs": [
    {
     "data": {
      "text/plain": [
       "array([[ 0.01172576, -0.12500404],\n",
       "       [ 0.01172576,  0.07498101],\n",
       "       [ 0.01172576,  0.02498475],\n",
       "       ...,\n",
       "       [ 0.01172576,  0.17497353],\n",
       "       [ 0.01172576, -0.22499656],\n",
       "       [ 0.01172576, -0.02501151]])"
      ]
     },
     "execution_count": 48,
     "metadata": {},
     "output_type": "execute_result"
    }
   ],
   "source": [
    "bin_all"
   ]
  },
  {
   "cell_type": "code",
   "execution_count": 49,
   "metadata": {},
   "outputs": [
    {
     "data": {
      "text/plain": [
       "<matplotlib.lines.Line2D at 0x7f3140144e48>"
      ]
     },
     "execution_count": 49,
     "metadata": {},
     "output_type": "execute_result"
    },
    {
     "data": {
      "image/png": "[encoded data removed]",
      "text/plain": [
       "<Figure size 432x288 with 1 Axes>"
      ]
     },
     "metadata": {},
     "output_type": "display_data"
    }
   ],
   "source": [
    "plt.hist2d(bin_all[:,0], bin_all[:,1])\n",
    "plt.axhline(y=0, color='w')\n",
    "plt.axvline(x=0, color='w')"
   ]
  },
  {
   "cell_type": "code",
   "execution_count": 50,
   "metadata": {},
   "outputs": [
    {
     "data": {
      "text/plain": [
       "array([410789.38958963, 247732.52319474, 232399.26906978, ...,\n",
       "       177276.26976839, 207431.81666122, 399404.01750593])"
      ]
     },
     "execution_count": 50,
     "metadata": {},
     "output_type": "execute_result"
    }
   ],
   "source": [
    "trans_price = avmvalue.values[0:train_samples]/(1 - bin_all[:,0])\n",
    "trans_price"
   ]
  },
  {
   "cell_type": "code",
   "execution_count": 51,
   "metadata": {},
   "outputs": [],
   "source": [
    "#print(np.mean(trans_price-df_Transprice['Transprice'].values[0:train_samples]))\n",
    "#print(np.mean(avmvalue.values[0:train_samples]-df_Transprice['Transprice'].values[0:train_samples]))"
   ]
  },
  {
   "cell_type": "code",
   "execution_count": 52,
   "metadata": {},
   "outputs": [],
   "source": [
    "#print(np.mean((df_Transprice['Transprice'].values[0:train_samples]-trans_price)/(df_Transprice['Transprice'].values[0:train_samples])))\n",
    "#print(np.mean((df_Transprice['Transprice'].values[0:train_samples]-avmvalue.values[0:train_samples])/(df_Transprice['Transprice'].values[0:train_samples])))\n"
   ]
  },
  {
   "cell_type": "code",
   "execution_count": 53,
   "metadata": {},
   "outputs": [
    {
     "name": "stdout",
     "output_type": "stream",
     "text": [
      "-0.00038181892103629603\n",
      "0.011348422588271602\n"
     ]
    }
   ],
   "source": [
    "print(np.mean((df_Transprice['Transprice'].values[0:train_samples]-trans_price)/(df_Transprice['Transprice'].values[0:train_samples])))\n",
    "print(np.mean((df_Transprice['Transprice'].values[0:train_samples]-avmvalue.values[0:train_samples])/(df_Transprice['Transprice'].values[0:train_samples])))\n",
    "#print(np.mean((df_Transprice['Transprice'].values[0:train_samples]-(avmvalue.values[0:train_samples]+trans_price)*0.5)/(df_Transprice['Transprice'].values[0:train_samples])))\n"
   ]
  },
  {
   "cell_type": "code",
   "execution_count": 54,
   "metadata": {},
   "outputs": [
    {
     "name": "stdout",
     "output_type": "stream",
     "text": [
      "0.11201505595216904\n",
      "0.1106225181187301\n"
     ]
    }
   ],
   "source": [
    "print(np.mean(np.abs(df_Transprice['Transprice'].values[0:train_samples]-trans_price)/(df_Transprice['Transprice'].values[0:train_samples])))\n",
    "print(np.mean(np.abs(df_Transprice['Transprice'].values[0:train_samples]-avmvalue.values[0:train_samples])/(df_Transprice['Transprice'].values[0:train_samples])))\n",
    "#print(np.mean(np.abs(df_Transprice['Transprice'].values[0:train_samples]-(avmvalue.values[0:train_samples]+trans_price)*0.5)/(df_Transprice['Transprice'].values[0:train_samples])))\n"
   ]
  },
  {
   "cell_type": "code",
   "execution_count": 55,
   "metadata": {},
   "outputs": [],
   "source": [
    "#print(np.mean(np.abs(trans_price-df_Transprice['Transprice'].values[0:train_samples])))\n",
    "#print(np.mean(np.abs(avmvalue.values[0:train_samples]-df_Transprice['Transprice'].values[0:train_samples])))"
   ]
  },
  {
   "cell_type": "code",
   "execution_count": null,
   "metadata": {},
   "outputs": [],
   "source": []
  },
  {
   "cell_type": "code",
   "execution_count": 56,
   "metadata": {},
   "outputs": [],
   "source": [
    "\n",
    "#coef*trans_price = trans_price - avmValue\n",
    "#coef*trans_price - trans_price = - avmValue\n",
    "#trans_price * (coef - 1) = - avmValue\n",
    "#trans_price = avmValue/ (1 - coef)"
   ]
  },
  {
   "cell_type": "code",
   "execution_count": 57,
   "metadata": {},
   "outputs": [],
   "source": [
    "#predictions = (predictions - predictions.min())\n",
    "#predictions = predictions/(predictions.max()) *2. -1"
   ]
  },
  {
   "cell_type": "code",
   "execution_count": null,
   "metadata": {},
   "outputs": [],
   "source": []
  },
  {
   "cell_type": "code",
   "execution_count": 58,
   "metadata": {},
   "outputs": [],
   "source": [
    "predictions_test = model_NN_Class.predict(X_test)"
   ]
  },
  {
   "cell_type": "code",
   "execution_count": 59,
   "metadata": {},
   "outputs": [],
   "source": [
    "bin_all_test = np.zeros((np.shape(predictions_test)[0],2))\n",
    "\n",
    "for iid in range(np.shape(predictions_test)[0]):\n",
    "    #print(iid)\n",
    "    bin_all_test[iid,0] = convert_to_bin(discretizer.bin_edges_[0], predictions_test[iid,:])\n",
    "    bin_all_test[iid,1] = ((discretizer.bin_edges_[0][1:]+discretizer.bin_edges_[0][:-1])/2)[int(y_test[iid])]"
   ]
  },
  {
   "cell_type": "code",
   "execution_count": 60,
   "metadata": {},
   "outputs": [
    {
     "data": {
      "text/plain": [
       "array([ 60287.67912001, 180608.4319166 , 185752.96550527, ...,\n",
       "       159352.60105231, 196162.74816391, 193371.98432471])"
      ]
     },
     "execution_count": 60,
     "metadata": {},
     "output_type": "execute_result"
    }
   ],
   "source": [
    "trans_price_test = avmvalue.values[train_samples:]/(1 - bin_all_test[:,0])\n",
    "trans_price_test"
   ]
  },
  {
   "cell_type": "code",
   "execution_count": 61,
   "metadata": {},
   "outputs": [
    {
     "data": {
      "text/plain": [
       "<matplotlib.lines.Line2D at 0x7f314008cbe0>"
      ]
     },
     "execution_count": 61,
     "metadata": {},
     "output_type": "execute_result"
    },
    {
     "data": {
      "image/png": "[encoded data removed]",
      "text/plain": [
       "<Figure size 432x288 with 1 Axes>"
      ]
     },
     "metadata": {},
     "output_type": "display_data"
    }
   ],
   "source": [
    "plt.hist2d(bin_all_test[:,0], bin_all_test[:,1])\n",
    "plt.axhline(y=0, color='w')\n",
    "plt.axvline(x=0, color='w')"
   ]
  },
  {
   "cell_type": "code",
   "execution_count": 62,
   "metadata": {},
   "outputs": [
    {
     "name": "stdout",
     "output_type": "stream",
     "text": [
      "-0.013670557363414014\n",
      "-0.0017844952380493182\n"
     ]
    }
   ],
   "source": [
    "print(np.mean((df_Transprice['Transprice'].values[train_samples:]-trans_price_test)/(df_Transprice['Transprice'].values[train_samples:])))\n",
    "print(np.mean((df_Transprice['Transprice'].values[train_samples:]-avmvalue.values[train_samples:])/(df_Transprice['Transprice'].values[train_samples:])))\n"
   ]
  },
  {
   "cell_type": "code",
   "execution_count": 63,
   "metadata": {},
   "outputs": [
    {
     "name": "stdout",
     "output_type": "stream",
     "text": [
      "0.11465874978727529\n",
      "0.11276813732029965\n"
     ]
    }
   ],
   "source": [
    "print(np.mean(np.abs(df_Transprice['Transprice'].values[train_samples:]-trans_price_test)/(df_Transprice['Transprice'].values[train_samples:])))\n",
    "print(np.mean(np.abs(df_Transprice['Transprice'].values[train_samples:]-avmvalue.values[train_samples:])/(df_Transprice['Transprice'].values[train_samples:])))\n"
   ]
  },
  {
   "cell_type": "code",
   "execution_count": 243,
   "metadata": {},
   "outputs": [
    {
     "data": {
      "text/plain": [
       "(234378,)"
      ]
     },
     "execution_count": 243,
     "metadata": {},
     "output_type": "execute_result"
    }
   ],
   "source": [
    "df_Transprice['Transprice'].values[train_samples:].shape"
   ]
  },
  {
   "cell_type": "code",
   "execution_count": 244,
   "metadata": {},
   "outputs": [
    {
     "data": {
      "text/plain": [
       "(234378,)"
      ]
     },
     "execution_count": 244,
     "metadata": {},
     "output_type": "execute_result"
    }
   ],
   "source": [
    "trans_price_test.shape"
   ]
  },
  {
   "cell_type": "code",
   "execution_count": null,
   "metadata": {},
   "outputs": [],
   "source": []
  },
  {
   "cell_type": "code",
   "execution_count": null,
   "metadata": {},
   "outputs": [],
   "source": []
  },
  {
   "cell_type": "code",
   "execution_count": null,
   "metadata": {},
   "outputs": [],
   "source": []
  },
  {
   "cell_type": "code",
   "execution_count": 172,
   "metadata": {},
   "outputs": [
    {
     "data": {
      "text/plain": [
       "[<matplotlib.lines.Line2D at 0x7f9e76bc4b38>]"
      ]
     },
     "execution_count": 172,
     "metadata": {},
     "output_type": "execute_result"
    },
    {
     "data": {
      "image/png": "[encoded data removed]",
      "text/plain": [
       "<Figure size 432x288 with 1 Axes>"
      ]
     },
     "metadata": {},
     "output_type": "display_data"
    }
   ],
   "source": [
    "plt.plot(predictor_array_transformed[:,0],predictor_array_transformed[:,-2],'o')"
   ]
  },
  {
   "cell_type": "code",
   "execution_count": null,
   "metadata": {},
   "outputs": [],
   "source": []
  },
  {
   "cell_type": "code",
   "execution_count": null,
   "metadata": {},
   "outputs": [],
   "source": []
  },
  {
   "cell_type": "code",
   "execution_count": null,
   "metadata": {},
   "outputs": [],
   "source": []
  },
  {
   "cell_type": "code",
   "execution_count": null,
   "metadata": {},
   "outputs": [],
   "source": []
  },
  {
   "cell_type": "code",
   "execution_count": 30,
   "metadata": {},
   "outputs": [],
   "source": [
    "def plot_loss(history):\n",
    "    plt.plot(history.history['loss'], label='loss')\n",
    "    plt.plot(history.history['val_loss'], label='val_loss')\n",
    "    plt.ylim([0, 10])\n",
    "    plt.xlabel('Epoch')\n",
    "    plt.ylabel('Error [MPG]')\n",
    "    plt.legend()\n",
    "    plt.grid(True)"
   ]
  },
  {
   "cell_type": "code",
   "execution_count": null,
   "metadata": {},
   "outputs": [],
   "source": []
  }
 ],
 "metadata": {
  "kernelspec": {
   "display_name": "Python 3",
   "language": "python",
   "name": "python3"
  },
  "language_info": {
   "codemirror_mode": {
    "name": "ipython",
    "version": 3
   },
   "file_extension": ".py",
   "mimetype": "text/x-python",
   "name": "python",
   "nbconvert_exporter": "python",
   "pygments_lexer": "ipython3",
   "version": "3.6.10"
  }
 },
 "nbformat": 4,
 "nbformat_minor": 4
}
