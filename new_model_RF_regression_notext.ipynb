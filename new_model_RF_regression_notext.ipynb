{
 "cells": [
  {
   "cell_type": "code",
   "execution_count": 45,
   "metadata": {},
   "outputs": [],
   "source": [
    "from sklearn.ensemble import RandomForestRegressor\n",
    "from sklearn.datasets import make_regression\n",
    "\n",
    "import pandas as pd\n",
    "import numpy as np\n",
    "import matplotlib.pyplot as plt\n",
    "\n",
    "\n",
    "from sklearn.datasets import make_classification\n",
    "from sklearn.model_selection import train_test_split\n",
    "\n",
    "from sklearn.ensemble import RandomForestClassifier\n",
    "\n",
    "from sklearn.preprocessing import MinMaxScaler\n"
   ]
  },
  {
   "cell_type": "code",
   "execution_count": 46,
   "metadata": {},
   "outputs": [],
   "source": [
    "import seaborn as sns\n",
    "sns.set_style(\"whitegrid\")"
   ]
  },
  {
   "cell_type": "code",
   "execution_count": null,
   "metadata": {},
   "outputs": [],
   "source": []
  },
  {
   "cell_type": "code",
   "execution_count": 47,
   "metadata": {},
   "outputs": [],
   "source": [
    "noun_sentence_df_final_joined_df_selected_columns_use_min = pd.\\\n",
    "    read_feather('noun_sentence_df_final_joined_df_selected_columns_use_min.fea')"
   ]
  },
  {
   "cell_type": "code",
   "execution_count": 48,
   "metadata": {},
   "outputs": [],
   "source": [
    "noun_sentence_df_final_joined_df_selected_columns_use_min = noun_sentence_df_final_joined_df_selected_columns_use_min.dropna()"
   ]
  },
  {
   "cell_type": "code",
   "execution_count": 49,
   "metadata": {},
   "outputs": [
    {
     "data": {
      "text/plain": [
       "Index(['level_0', 'listingid', 'index', 'AVM_Error_List', 'Listing_Error_List',\n",
       "       'AVM_Error_List_count', 'Transdate', 'Transprice', 'total_value',\n",
       "       'cj_living_area', 'effective_year_built', 'story', 'ListingPrice',\n",
       "       'avmValue', 'avmerror', 'AVM_Error_Indicators_0',\n",
       "       'AVM_Error_Indicators_1', 'AVM_Error_Indicators_2',\n",
       "       'AVM_Error_Indicators_3', 'AVM_Error_Indicators_4',\n",
       "       'AVM_Error_Indicators_5', 'AVM_Error_Indicators_6',\n",
       "       'AVM_Error_Indicators_7', 'AVM_Error_Indicators_8',\n",
       "       'AVM_Error_Indicators_9', 'AVM_Error_Indicators_10',\n",
       "       'AVM_Error_Indicators_11',\n",
       "       'clean_publicremarks_additional_words_vaderpolarity_0',\n",
       "       'clean_publicremarks_additional_words_vaderpolarity_1',\n",
       "       'clean_publicremarks_additional_words_vaderpolarity_2',\n",
       "       'clean_publicremarks_additional_words_vaderpolarity_3',\n",
       "       'AVM_Error_Indicators_scale', 'transaction_year'],\n",
       "      dtype='object')"
      ]
     },
     "execution_count": 49,
     "metadata": {},
     "output_type": "execute_result"
    }
   ],
   "source": [
    "noun_sentence_df_final_joined_df_selected_columns_use_min.columns"
   ]
  },
  {
   "cell_type": "code",
   "execution_count": 50,
   "metadata": {},
   "outputs": [],
   "source": [
    "predictor_columns = [ 'cj_living_area',\n",
    "       'avmValue']"
   ]
  },
  {
   "cell_type": "code",
   "execution_count": 51,
   "metadata": {},
   "outputs": [],
   "source": [
    "Predictors = noun_sentence_df_final_joined_df_selected_columns_use_min.loc[:,predictor_columns].to_numpy()"
   ]
  },
  {
   "cell_type": "code",
   "execution_count": 52,
   "metadata": {},
   "outputs": [
    {
     "data": {
      "text/plain": [
       "(626428, 2)"
      ]
     },
     "execution_count": 52,
     "metadata": {},
     "output_type": "execute_result"
    }
   ],
   "source": [
    "Predictors.shape"
   ]
  },
  {
   "cell_type": "code",
   "execution_count": 53,
   "metadata": {},
   "outputs": [],
   "source": [
    "predictand = noun_sentence_df_final_joined_df_selected_columns_use_min.avmerror.values"
   ]
  },
  {
   "cell_type": "code",
   "execution_count": 54,
   "metadata": {},
   "outputs": [
    {
     "data": {
      "text/plain": [
       "(626428,)"
      ]
     },
     "execution_count": 54,
     "metadata": {},
     "output_type": "execute_result"
    }
   ],
   "source": [
    "predictand.shape"
   ]
  },
  {
   "cell_type": "code",
   "execution_count": null,
   "metadata": {},
   "outputs": [],
   "source": []
  },
  {
   "cell_type": "code",
   "execution_count": 55,
   "metadata": {},
   "outputs": [],
   "source": [
    "train_samples = 200000  # Samples used for training the models\n",
    "X_train, X_test, y_train, y_test = train_test_split(\n",
    "    Predictors,\n",
    "    predictand,\n",
    "    shuffle=False,\n",
    "    test_size=len(Predictors) - train_samples,\n",
    ")"
   ]
  },
  {
   "cell_type": "code",
   "execution_count": 56,
   "metadata": {},
   "outputs": [
    {
     "data": {
      "text/plain": [
       "5233111.71"
      ]
     },
     "execution_count": 56,
     "metadata": {},
     "output_type": "execute_result"
    }
   ],
   "source": [
    "np.max(X_train)"
   ]
  },
  {
   "cell_type": "code",
   "execution_count": 57,
   "metadata": {},
   "outputs": [],
   "source": [
    "model = RandomForestRegressor(n_estimators = 50,  min_samples_leaf=50)"
   ]
  },
  {
   "cell_type": "code",
   "execution_count": 58,
   "metadata": {},
   "outputs": [
    {
     "data": {
      "text/plain": [
       "RandomForestRegressor(min_samples_leaf=50, n_estimators=50)"
      ]
     },
     "execution_count": 58,
     "metadata": {},
     "output_type": "execute_result"
    }
   ],
   "source": [
    "model.fit(X_train, y_train)"
   ]
  },
  {
   "cell_type": "code",
   "execution_count": 59,
   "metadata": {},
   "outputs": [],
   "source": [
    "predictions_test = model.predict(X_test)\n",
    "predictions_train = model.predict(X_train)"
   ]
  },
  {
   "cell_type": "code",
   "execution_count": 60,
   "metadata": {},
   "outputs": [
    {
     "data": {
      "text/plain": [
       "-1.4926238888888888"
      ]
     },
     "execution_count": 60,
     "metadata": {},
     "output_type": "execute_result"
    }
   ],
   "source": [
    "y_train.min()"
   ]
  },
  {
   "cell_type": "code",
   "execution_count": 61,
   "metadata": {},
   "outputs": [
    {
     "data": {
      "text/plain": [
       "[<matplotlib.lines.Line2D at 0x7f3721c10978>]"
      ]
     },
     "execution_count": 61,
     "metadata": {},
     "output_type": "execute_result"
    },
    {
     "data": {
      "image/png": "[encoded data removed]",
      "text/plain": [
       "<Figure size 432x288 with 1 Axes>"
      ]
     },
     "metadata": {},
     "output_type": "display_data"
    }
   ],
   "source": [
    "plt.plot(predictions_train,y_train,'o')"
   ]
  },
  {
   "cell_type": "code",
   "execution_count": 62,
   "metadata": {},
   "outputs": [
    {
     "data": {
      "text/plain": [
       "[<matplotlib.lines.Line2D at 0x7f3721be2b70>]"
      ]
     },
     "execution_count": 62,
     "metadata": {},
     "output_type": "execute_result"
    },
    {
     "data": {
      "image/png": "[encoded data removed]",
      "text/plain": [
       "<Figure size 432x288 with 1 Axes>"
      ]
     },
     "metadata": {},
     "output_type": "display_data"
    }
   ],
   "source": [
    "plt.plot(predictions_test,y_test,'o')"
   ]
  },
  {
   "cell_type": "code",
   "execution_count": null,
   "metadata": {},
   "outputs": [],
   "source": []
  },
  {
   "cell_type": "code",
   "execution_count": 63,
   "metadata": {},
   "outputs": [],
   "source": [
    "df = noun_sentence_df_final_joined_df_selected_columns_use_min.copy()\n"
   ]
  },
  {
   "cell_type": "code",
   "execution_count": 64,
   "metadata": {},
   "outputs": [],
   "source": [
    "predictions_test_value = df['avmValue'].values[train_samples:]/(1-predictions_test)\n",
    "predictions_train_value = df['avmValue'].values[:train_samples]/(1-predictions_train)\n",
    "#predictions_train_value = df['avmValue'].values/(1-Predictors)"
   ]
  },
  {
   "cell_type": "code",
   "execution_count": 65,
   "metadata": {},
   "outputs": [
    {
     "name": "stdout",
     "output_type": "stream",
     "text": [
      "0    135660.77\n",
      "Name: avmValue, dtype: float64\n",
      "0    150000.0\n",
      "Name: Transprice, dtype: float64\n",
      "0    0.095595\n",
      "Name: avmerror, dtype: float64\n",
      "0    148629.24322\n",
      "dtype: float64\n",
      "0    0.095595\n",
      "dtype: float64\n"
     ]
    }
   ],
   "source": [
    "print(df.head(1)['avmValue'])\n",
    "print(df.head(1)['Transprice'])\n",
    "print(df.head(1)['avmerror'])\n",
    "print(df.head(1)['avmValue']+df.head(1)['avmerror']*df.head(1)['avmValue'])\n",
    "print((df.head(1)['Transprice']-df.head(1)['avmValue'])/df.head(1)['Transprice'])"
   ]
  },
  {
   "cell_type": "code",
   "execution_count": null,
   "metadata": {},
   "outputs": [],
   "source": []
  },
  {
   "cell_type": "code",
   "execution_count": 66,
   "metadata": {},
   "outputs": [
    {
     "data": {
      "text/plain": [
       "Index(['level_0', 'listingid', 'index', 'AVM_Error_List', 'Listing_Error_List',\n",
       "       'AVM_Error_List_count', 'Transdate', 'Transprice', 'total_value',\n",
       "       'cj_living_area', 'effective_year_built', 'story', 'ListingPrice',\n",
       "       'avmValue', 'avmerror', 'AVM_Error_Indicators_0',\n",
       "       'AVM_Error_Indicators_1', 'AVM_Error_Indicators_2',\n",
       "       'AVM_Error_Indicators_3', 'AVM_Error_Indicators_4',\n",
       "       'AVM_Error_Indicators_5', 'AVM_Error_Indicators_6',\n",
       "       'AVM_Error_Indicators_7', 'AVM_Error_Indicators_8',\n",
       "       'AVM_Error_Indicators_9', 'AVM_Error_Indicators_10',\n",
       "       'AVM_Error_Indicators_11',\n",
       "       'clean_publicremarks_additional_words_vaderpolarity_0',\n",
       "       'clean_publicremarks_additional_words_vaderpolarity_1',\n",
       "       'clean_publicremarks_additional_words_vaderpolarity_2',\n",
       "       'clean_publicremarks_additional_words_vaderpolarity_3',\n",
       "       'AVM_Error_Indicators_scale', 'transaction_year'],\n",
       "      dtype='object')"
      ]
     },
     "execution_count": 66,
     "metadata": {},
     "output_type": "execute_result"
    }
   ],
   "source": [
    "df.columns"
   ]
  },
  {
   "cell_type": "code",
   "execution_count": 67,
   "metadata": {},
   "outputs": [
    {
     "name": "stdout",
     "output_type": "stream",
     "text": [
      "0.1175160037738531\n",
      "0.12362300668830177\n"
     ]
    }
   ],
   "source": [
    "print(np.mean(np.abs(df['Transprice'].values[:train_samples]-predictions_train_value)/\\\n",
    "              (df['Transprice'].values[:train_samples])))\n",
    "print(np.mean(np.abs(df['Transprice'].values[:train_samples]- df['avmValue'].values[:train_samples])/\\\n",
    "              (df['Transprice'].values[:train_samples])))\n"
   ]
  },
  {
   "cell_type": "code",
   "execution_count": 68,
   "metadata": {},
   "outputs": [
    {
     "name": "stdout",
     "output_type": "stream",
     "text": [
      "0.1283189239465213\n",
      "0.12655919563081403\n"
     ]
    }
   ],
   "source": [
    "print(np.mean(np.abs(df['Transprice'].values[train_samples:]-predictions_test_value)/\\\n",
    "              (df['Transprice'].values[train_samples:])))\n",
    "print(np.mean(np.abs(df['Transprice'].values[train_samples:]- df['avmValue'].values[train_samples:])/\\\n",
    "              (df['Transprice'].values[train_samples:])))\n"
   ]
  },
  {
   "cell_type": "code",
   "execution_count": 69,
   "metadata": {},
   "outputs": [
    {
     "data": {
      "text/plain": [
       "[<matplotlib.lines.Line2D at 0x7f372ae490f0>]"
      ]
     },
     "execution_count": 69,
     "metadata": {},
     "output_type": "execute_result"
    },
    {
     "data": {
      "image/png": "[encoded data removed]",
      "text/plain": [
       "<Figure size 432x288 with 1 Axes>"
      ]
     },
     "metadata": {},
     "output_type": "display_data"
    }
   ],
   "source": [
    "plt.plot(predictions_train_value,df['Transprice'].values[:train_samples],'o')"
   ]
  },
  {
   "cell_type": "code",
   "execution_count": 70,
   "metadata": {},
   "outputs": [
    {
     "data": {
      "text/plain": [
       "Index(['level_0', 'listingid', 'index', 'AVM_Error_List', 'Listing_Error_List',\n",
       "       'AVM_Error_List_count', 'Transdate', 'Transprice', 'total_value',\n",
       "       'cj_living_area', 'effective_year_built', 'story', 'ListingPrice',\n",
       "       'avmValue', 'avmerror', 'AVM_Error_Indicators_0',\n",
       "       'AVM_Error_Indicators_1', 'AVM_Error_Indicators_2',\n",
       "       'AVM_Error_Indicators_3', 'AVM_Error_Indicators_4',\n",
       "       'AVM_Error_Indicators_5', 'AVM_Error_Indicators_6',\n",
       "       'AVM_Error_Indicators_7', 'AVM_Error_Indicators_8',\n",
       "       'AVM_Error_Indicators_9', 'AVM_Error_Indicators_10',\n",
       "       'AVM_Error_Indicators_11',\n",
       "       'clean_publicremarks_additional_words_vaderpolarity_0',\n",
       "       'clean_publicremarks_additional_words_vaderpolarity_1',\n",
       "       'clean_publicremarks_additional_words_vaderpolarity_2',\n",
       "       'clean_publicremarks_additional_words_vaderpolarity_3',\n",
       "       'AVM_Error_Indicators_scale', 'transaction_year'],\n",
       "      dtype='object')"
      ]
     },
     "execution_count": 70,
     "metadata": {},
     "output_type": "execute_result"
    }
   ],
   "source": [
    "df.columns"
   ]
  },
  {
   "cell_type": "code",
   "execution_count": null,
   "metadata": {},
   "outputs": [],
   "source": []
  },
  {
   "cell_type": "code",
   "execution_count": null,
   "metadata": {},
   "outputs": [],
   "source": []
  },
  {
   "cell_type": "code",
   "execution_count": 71,
   "metadata": {},
   "outputs": [
    {
     "data": {
      "text/plain": [
       "['RF_newmodel_01_NoText.sav']"
      ]
     },
     "execution_count": 71,
     "metadata": {},
     "output_type": "execute_result"
    }
   ],
   "source": [
    "import joblib\n",
    "filename = 'RF_newmodel_01_NoText.sav'\n",
    "joblib.dump(model,filename)"
   ]
  },
  {
   "cell_type": "code",
   "execution_count": null,
   "metadata": {},
   "outputs": [],
   "source": []
  }
 ],
 "metadata": {
  "kernelspec": {
   "display_name": "Python 3",
   "language": "python",
   "name": "python3"
  },
  "language_info": {
   "codemirror_mode": {
    "name": "ipython",
    "version": 3
   },
   "file_extension": ".py",
   "mimetype": "text/x-python",
   "name": "python",
   "nbconvert_exporter": "python",
   "pygments_lexer": "ipython3",
   "version": "3.6.10"
  }
 },
 "nbformat": 4,
 "nbformat_minor": 4
}
