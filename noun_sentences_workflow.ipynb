{
 "cells": [
  {
   "cell_type": "code",
   "execution_count": 1,
   "metadata": {},
   "outputs": [],
   "source": [
    "import numpy as np\n",
    "import pandas as pd\n",
    "\n",
    "import time\n",
    "\n",
    "import matplotlib.pyplot as plt\n",
    "import os\n",
    "import re\n",
    "import seaborn as sns\n"
   ]
  },
  {
   "cell_type": "code",
   "execution_count": 2,
   "metadata": {},
   "outputs": [
    {
     "name": "stderr",
     "output_type": "stream",
     "text": [
      "[nltk_data] Downloading package brown to /home/cdsw/nltk_data...\n",
      "[nltk_data]   Package brown is already up-to-date!\n"
     ]
    },
    {
     "data": {
      "text/plain": [
       "True"
      ]
     },
     "execution_count": 2,
     "metadata": {},
     "output_type": "execute_result"
    }
   ],
   "source": [
    "import nltk\n",
    "nltk.download('brown')"
   ]
  },
  {
   "cell_type": "code",
   "execution_count": 3,
   "metadata": {},
   "outputs": [],
   "source": [
    "from textblob import TextBlob"
   ]
  },
  {
   "cell_type": "code",
   "execution_count": 14,
   "metadata": {},
   "outputs": [],
   "source": [
    "str_state = 'GA'\n",
    "file = 'agent_comments_sales_'+str_state\n",
    "#file = 'agent_comments_testdf'\n",
    "#READ THE SALES DATA - STATE\n",
    "df_sales = pd.read_feather(file + '_withembeddings.fea')\n",
    "#df_sales = pd.read_feather(file + '_processed.fea')\n"
   ]
  },
  {
   "cell_type": "code",
   "execution_count": 5,
   "metadata": {},
   "outputs": [],
   "source": [
    "import seaborn as sns"
   ]
  },
  {
   "cell_type": "code",
   "execution_count": 6,
   "metadata": {},
   "outputs": [],
   "source": [
    "sns.set(style=\"whitegrid\")"
   ]
  },
  {
   "cell_type": "code",
   "execution_count": 7,
   "metadata": {},
   "outputs": [
    {
     "name": "stdout",
     "output_type": "stream",
     "text": [
      "2022-02-24 04:41:32,940 loading file /home/cdsw/.flair/models/sentiment-en-mix-distillbert_4.pt\n"
     ]
    },
    {
     "name": "stderr",
     "output_type": "stream",
     "text": [
      "INFO:absl:Using /tmp/tfhub_modules to cache modules.\n",
      "INFO:absl:Downloading TF-Hub Module 'https://tfhub.dev/google/universal-sentence-encoder/4'.\n",
      "INFO:absl:Downloaded https://tfhub.dev/google/universal-sentence-encoder/4, Total size: 987.47MB\n",
      "INFO:absl:Downloaded TF-Hub Module 'https://tfhub.dev/google/universal-sentence-encoder/4'.\n"
     ]
    },
    {
     "name": "stdout",
     "output_type": "stream",
     "text": [
      "module https://tfhub.dev/google/universal-sentence-encoder/4 loaded\n",
      "module https://tfhub.dev/google/universal-sentence-encoder/4 loaded\n"
     ]
    },
    {
     "data": {
      "text/plain": [
       "['__builtins__',\n",
       " '__cached__',\n",
       " '__doc__',\n",
       " '__file__',\n",
       " '__loader__',\n",
       " '__name__',\n",
       " '__package__',\n",
       " '__spec__',\n",
       " 'bigrams_join',\n",
       " 'count_n_grams',\n",
       " 'defaultdict',\n",
       " 'df_get_n_grams_count',\n",
       " 'df_lambda_ngram',\n",
       " 'generate_n_grams',\n",
       " 'get_imp',\n",
       " 'get_n_grams_count',\n",
       " 'get_n_grams_probability',\n",
       " 'kg',\n",
       " 'ngrams',\n",
       " 'np',\n",
       " 'pd',\n",
       " 'text']"
      ]
     },
     "execution_count": 7,
     "metadata": {},
     "output_type": "execute_result"
    }
   ],
   "source": [
    "from importlib import reload\n",
    "\n",
    "from nlp_pandas_functions import ngram_analysis\n",
    "from nlp_pandas_functions import noun_sentences\n",
    "\n",
    "reload(ngram_analysis)\n",
    "reload(noun_sentences)\n",
    "dir(ngram_analysis)"
   ]
  },
  {
   "cell_type": "code",
   "execution_count": 8,
   "metadata": {},
   "outputs": [],
   "source": [
    "column = 'clean_publicremarks'"
   ]
  },
  {
   "cell_type": "code",
   "execution_count": null,
   "metadata": {},
   "outputs": [],
   "source": []
  },
  {
   "cell_type": "code",
   "execution_count": 9,
   "metadata": {},
   "outputs": [],
   "source": [
    "house = 500"
   ]
  },
  {
   "cell_type": "code",
   "execution_count": 15,
   "metadata": {},
   "outputs": [
    {
     "data": {
      "text/plain": [
       "Index(['listingid', 'asgpropid', 'qtr', 'tax_year', 'cbsa_div', 'cbsa',\n",
       "       'state', 'Transdate', 'Transprice', 'bedrooms', 'total_value',\n",
       "       'cj_living_area', 'basement', 'has_pool', 'parking', 'is_poor',\n",
       "       'is_good', 'HAS_VIEW', 'has_golf', 'has_water', 'has_woods', 'has_hill',\n",
       "       'fips_code', 'census_tract', 'zip', 'effective_year_built', 'story',\n",
       "       'ListingPrice', 'publicremarks', 'avmValue', 'avmerror', 'rentsale',\n",
       "       'publicremarks_prepared', 'publicremarks_prepared_unicode',\n",
       "       'clean_publicremarks', 'clean_publicremarks_additional_words',\n",
       "       'clean_publicremarks_nopunct',\n",
       "       'clean_publicremarks_nopunct_additional_words',\n",
       "       'clean_publicremarks_stemmed',\n",
       "       'clean_publicremarks_stemmed_additional_words',\n",
       "       'clean_publicremarks_lemmatized',\n",
       "       'clean_publicremarks_lemmatized_additional_words',\n",
       "       'publicremarks_nltkpolarity', 'clean_publicremarks_nltkpolarity',\n",
       "       'clean_publicremarks_additional_words_nltkpolarity',\n",
       "       'clean_publicremarks_nopunct_nltkpolarity',\n",
       "       'clean_publicremarks_nopunct_additional_words_nltkpolarity',\n",
       "       'clean_publicremarks_stemmed_nltkpolarity',\n",
       "       'clean_publicremarks_stemmed_additional_words_nltkpolarity',\n",
       "       'clean_publicremarks_lemmatized_nltkpolarity',\n",
       "       'clean_publicremarks_lemmatized_additional_words_nltkpolarity',\n",
       "       'publicremarks_textblobpolarity',\n",
       "       'clean_publicremarks_textblobpolarity',\n",
       "       'clean_publicremarks_additional_words_textblobpolarity',\n",
       "       'clean_publicremarks_nopunct_textblobpolarity',\n",
       "       'clean_publicremarks_nopunct_additional_words_textblobpolarity',\n",
       "       'clean_publicremarks_stemmed_textblobpolarity',\n",
       "       'clean_publicremarks_stemmed_additional_words_textblobpolarity',\n",
       "       'clean_publicremarks_lemmatized_textblobpolarity',\n",
       "       'clean_publicremarks_lemmatized_additional_words_textblobpolarity',\n",
       "       'publicremarks_vaderpolarity', 'clean_publicremarks_vaderpolarity',\n",
       "       'clean_publicremarks_additional_words_vaderpolarity',\n",
       "       'clean_publicremarks_nopunct_vaderpolarity',\n",
       "       'clean_publicremarks_nopunct_additional_words_vaderpolarity',\n",
       "       'clean_publicremarks_stemmed_vaderpolarity',\n",
       "       'clean_publicremarks_stemmed_additional_words_vaderpolarity',\n",
       "       'clean_publicremarks_lemmatized_vaderpolarity',\n",
       "       'clean_publicremarks_lemmatized_additional_words_vaderpolarity',\n",
       "       'sentence_composition', 'publicremarks_embeddings',\n",
       "       'clean_publicremarks_embeddings',\n",
       "       'clean_publicremarks_additional_words_embeddings',\n",
       "       'clean_publicremarks_nopunct_embeddings',\n",
       "       'clean_publicremarks_stemmed_embeddings',\n",
       "       'clean_publicremarks_lemmatized_embeddings'],\n",
       "      dtype='object')"
      ]
     },
     "execution_count": 15,
     "metadata": {},
     "output_type": "execute_result"
    }
   ],
   "source": [
    "df_sales.columns"
   ]
  },
  {
   "cell_type": "code",
   "execution_count": 11,
   "metadata": {},
   "outputs": [
    {
     "data": {
      "text/plain": [
       "'coveted hard find private lot next green space sought mundy mill. upgrades throughout beautiful DIGIT bedroom DIGIT.DIGIT bath home. bright open plan hardwoods throughout. lovely kitchen features mud room, lots cabinets, granite counter tops, huge island, sunny breakfast room, walk pantry. kitchen view amazing family room stylish built-ins coffered ceilings. formal dining room rounds DIGITst floor. DIGITnd floor features sized master suite hardwoods barn door.'"
      ]
     },
     "execution_count": 11,
     "metadata": {},
     "output_type": "execute_result"
    }
   ],
   "source": [
    "df_sales[column].values[house]"
   ]
  },
  {
   "cell_type": "code",
   "execution_count": 12,
   "metadata": {},
   "outputs": [],
   "source": [
    "df_sales_small = df_sales.head(1000)"
   ]
  },
  {
   "cell_type": "code",
   "execution_count": null,
   "metadata": {},
   "outputs": [],
   "source": []
  },
  {
   "cell_type": "code",
   "execution_count": 13,
   "metadata": {},
   "outputs": [
    {
     "name": "stdout",
     "output_type": "stream",
     "text": [
      "module https://tfhub.dev/google/universal-sentence-encoder/4 loaded\n"
     ]
    },
    {
     "data": {
      "text/plain": [
       "<module 'nlp_pandas_functions.noun_sentences' from '/home/cdsw/nlp_pandas_functions/noun_sentences.py'>"
      ]
     },
     "execution_count": 13,
     "metadata": {},
     "output_type": "execute_result"
    }
   ],
   "source": [
    "\n",
    "#from nlp_pandas_functions import ngram_analysis\n",
    "from nlp_pandas_functions import noun_sentences\n",
    "\n",
    "#reload(ngram_analysis)\n",
    "reload(noun_sentences)\n",
    "#dir(ngram_analysis)"
   ]
  },
  {
   "cell_type": "code",
   "execution_count": 60,
   "metadata": {},
   "outputs": [],
   "source": [
    "#Embedding scaled by "
   ]
  },
  {
   "cell_type": "code",
   "execution_count": null,
   "metadata": {},
   "outputs": [],
   "source": []
  },
  {
   "cell_type": "code",
   "execution_count": null,
   "metadata": {},
   "outputs": [],
   "source": []
  },
  {
   "cell_type": "code",
   "execution_count": 16,
   "metadata": {},
   "outputs": [],
   "source": [
    "output = noun_sentences.noun_sentences_sentiment_analysis3(df_sales[column].values[house])"
   ]
  },
  {
   "cell_type": "code",
   "execution_count": 17,
   "metadata": {},
   "outputs": [
    {
     "data": {
      "text/plain": [
       "4"
      ]
     },
     "execution_count": 17,
     "metadata": {},
     "output_type": "execute_result"
    }
   ],
   "source": [
    "\n",
    "len(output)\n",
    "\n",
    "\n",
    "\n"
   ]
  },
  {
   "cell_type": "code",
   "execution_count": 18,
   "metadata": {},
   "outputs": [
    {
     "data": {
      "text/plain": [
       "defaultdict(int,\n",
       "            {'private lot': 1,\n",
       "             'green space': 1,\n",
       "             'mundy mill': 1,\n",
       "             'digit': 1,\n",
       "             'digit.digit': 1,\n",
       "             'bath home': 1,\n",
       "             'bright open plan hardwoods': 1,\n",
       "             'lovely kitchen': 1,\n",
       "             'mud room': 1,\n",
       "             'lots cabinets': 1,\n",
       "             'granite counter tops': 1,\n",
       "             'huge island': 1,\n",
       "             'sunny breakfast room': 1,\n",
       "             'kitchen view': 1,\n",
       "             'amazing family room stylish built-ins': 1,\n",
       "             'room rounds': 1,\n",
       "             'digitst': 1,\n",
       "             'digitnd': 1,\n",
       "             'master suite hardwoods barn door': 1})"
      ]
     },
     "execution_count": 18,
     "metadata": {},
     "output_type": "execute_result"
    }
   ],
   "source": [
    "output[0]"
   ]
  },
  {
   "cell_type": "code",
   "execution_count": null,
   "metadata": {},
   "outputs": [
    {
     "name": "stderr",
     "output_type": "stream",
     "text": [
      "/home/cdsw/nlp_pandas_functions/noun_sentences.py:181: RuntimeWarning: invalid value encountered in true_divide\n",
      "  average_embedding_amplitute =  average_embedding_amplitute/len(textblob_temp.np_counts)\n",
      "/home/cdsw/nlp_pandas_functions/noun_sentences.py:182: RuntimeWarning: invalid value encountered in true_divide\n",
      "  average_embedding =  average_embedding/len(textblob_temp.np_counts)\n",
      "/home/cdsw/nlp_pandas_functions/noun_sentences.py:183: RuntimeWarning: invalid value encountered in true_divide\n",
      "  average_embedding_scaled = average_embedding_scaled/len(textblob_temp.np_counts)\n"
     ]
    }
   ],
   "source": [
    "result = noun_sentences.df_column_noun_sentences(df_sales, column, 'avmerror', 'ListingPrice', \n",
    "                                                 'Transprice', 'avmValue')"
   ]
  },
  {
   "cell_type": "code",
   "execution_count": null,
   "metadata": {},
   "outputs": [],
   "source": [
    "result"
   ]
  },
  {
   "cell_type": "code",
   "execution_count": null,
   "metadata": {},
   "outputs": [],
   "source": [
    "result[0]['additional bedrooms']"
   ]
  },
  {
   "cell_type": "code",
   "execution_count": null,
   "metadata": {},
   "outputs": [],
   "source": [
    "result[1]['additional bedrooms']/result[0]['additional bedrooms']"
   ]
  },
  {
   "cell_type": "code",
   "execution_count": null,
   "metadata": {},
   "outputs": [],
   "source": [
    "result[2]['additional bedrooms']/result[0]['additional bedrooms']"
   ]
  },
  {
   "cell_type": "code",
   "execution_count": null,
   "metadata": {},
   "outputs": [],
   "source": [
    "result[0]"
   ]
  },
  {
   "cell_type": "code",
   "execution_count": null,
   "metadata": {},
   "outputs": [],
   "source": []
  },
  {
   "cell_type": "code",
   "execution_count": null,
   "metadata": {},
   "outputs": [],
   "source": []
  },
  {
   "cell_type": "code",
   "execution_count": null,
   "metadata": {},
   "outputs": [],
   "source": []
  },
  {
   "cell_type": "code",
   "execution_count": null,
   "metadata": {},
   "outputs": [],
   "source": []
  },
  {
   "cell_type": "code",
   "execution_count": null,
   "metadata": {},
   "outputs": [],
   "source": []
  },
  {
   "cell_type": "code",
   "execution_count": 76,
   "metadata": {},
   "outputs": [],
   "source": [
    "noun_sentence_df = pd.DataFrame([result[0], result[1], result[2]])"
   ]
  },
  {
   "cell_type": "code",
   "execution_count": 79,
   "metadata": {},
   "outputs": [],
   "source": [
    "noun_sentence_df_T = noun_sentence_df.T"
   ]
  },
  {
   "cell_type": "code",
   "execution_count": 80,
   "metadata": {},
   "outputs": [],
   "source": [
    "noun_sentence_df_T = noun_sentence_df_T.rename(columns={0: 'count', 1: 'AVM_Error', 2: 'Listing_Error'})"
   ]
  },
  {
   "cell_type": "code",
   "execution_count": 81,
   "metadata": {},
   "outputs": [],
   "source": [
    "noun_sentence_df_T['AVM_Error_Average'] = noun_sentence_df_T['AVM_Error'] / noun_sentence_df_T['count']\n",
    "noun_sentence_df_T['Listing_Error_Average'] = noun_sentence_df_T['Listing_Error'] / noun_sentence_df_T['count']"
   ]
  },
  {
   "cell_type": "code",
   "execution_count": 82,
   "metadata": {},
   "outputs": [],
   "source": [
    "noun_sentence_df_T = noun_sentence_df_T.sort_values(by ='AVM_Error_Average', ascending=False)"
   ]
  },
  {
   "cell_type": "code",
   "execution_count": 83,
   "metadata": {},
   "outputs": [],
   "source": [
    "noun_sentence_df_T_filtered = noun_sentence_df_T[noun_sentence_df_T['count'] > 100]"
   ]
  },
  {
   "cell_type": "code",
   "execution_count": 84,
   "metadata": {},
   "outputs": [
    {
     "data": {
      "text/html": [
       "<div>\n",
       "<style scoped>\n",
       "    .dataframe tbody tr th:only-of-type {\n",
       "        vertical-align: middle;\n",
       "    }\n",
       "\n",
       "    .dataframe tbody tr th {\n",
       "        vertical-align: top;\n",
       "    }\n",
       "\n",
       "    .dataframe thead th {\n",
       "        text-align: right;\n",
       "    }\n",
       "</style>\n",
       "<table border=\"1\" class=\"dataframe\">\n",
       "  <thead>\n",
       "    <tr style=\"text-align: right;\">\n",
       "      <th></th>\n",
       "      <th>count</th>\n",
       "      <th>AVM_Error</th>\n",
       "      <th>Listing_Error</th>\n",
       "      <th>AVM_Error_Average</th>\n",
       "      <th>Listing_Error_Average</th>\n",
       "    </tr>\n",
       "  </thead>\n",
       "  <tbody>\n",
       "    <tr>\n",
       "      <td>digit luxurious baths</td>\n",
       "      <td>162.0</td>\n",
       "      <td>42.349497</td>\n",
       "      <td>-2.188765</td>\n",
       "      <td>0.261417</td>\n",
       "      <td>-0.013511</td>\n",
       "    </tr>\n",
       "    <tr>\n",
       "      <td>white shaker cabinets</td>\n",
       "      <td>411.0</td>\n",
       "      <td>74.809614</td>\n",
       "      <td>-11.231315</td>\n",
       "      <td>0.182019</td>\n",
       "      <td>-0.027327</td>\n",
       "    </tr>\n",
       "    <tr>\n",
       "      <td>tack room</td>\n",
       "      <td>120.0</td>\n",
       "      <td>21.493178</td>\n",
       "      <td>-9.517410</td>\n",
       "      <td>0.179110</td>\n",
       "      <td>-0.079312</td>\n",
       "    </tr>\n",
       "    <tr>\n",
       "      <td>shaker cabinets</td>\n",
       "      <td>194.0</td>\n",
       "      <td>33.127144</td>\n",
       "      <td>-4.888167</td>\n",
       "      <td>0.170758</td>\n",
       "      <td>-0.025197</td>\n",
       "    </tr>\n",
       "    <tr>\n",
       "      <td>amazing renovation</td>\n",
       "      <td>264.0</td>\n",
       "      <td>42.556383</td>\n",
       "      <td>-12.664807</td>\n",
       "      <td>0.161198</td>\n",
       "      <td>-0.047973</td>\n",
       "    </tr>\n",
       "    <tr>\n",
       "      <td>digit stall barn</td>\n",
       "      <td>126.0</td>\n",
       "      <td>19.825605</td>\n",
       "      <td>-14.210888</td>\n",
       "      <td>0.157346</td>\n",
       "      <td>-0.112785</td>\n",
       "    </tr>\n",
       "    <tr>\n",
       "      <td>gorgeous renovation</td>\n",
       "      <td>314.0</td>\n",
       "      <td>48.898421</td>\n",
       "      <td>-12.057174</td>\n",
       "      <td>0.155727</td>\n",
       "      <td>-0.038399</td>\n",
       "    </tr>\n",
       "    <tr>\n",
       "      <td>modern farmhouse</td>\n",
       "      <td>159.0</td>\n",
       "      <td>23.854733</td>\n",
       "      <td>-5.726707</td>\n",
       "      <td>0.150030</td>\n",
       "      <td>-0.036017</td>\n",
       "    </tr>\n",
       "    <tr>\n",
       "      <td>new master suite</td>\n",
       "      <td>143.0</td>\n",
       "      <td>21.132362</td>\n",
       "      <td>-7.036846</td>\n",
       "      <td>0.147779</td>\n",
       "      <td>-0.049209</td>\n",
       "    </tr>\n",
       "    <tr>\n",
       "      <td>new white cabinets</td>\n",
       "      <td>313.0</td>\n",
       "      <td>45.464506</td>\n",
       "      <td>-11.572654</td>\n",
       "      <td>0.145254</td>\n",
       "      <td>-0.036973</td>\n",
       "    </tr>\n",
       "    <tr>\n",
       "      <td>modern design</td>\n",
       "      <td>108.0</td>\n",
       "      <td>15.641850</td>\n",
       "      <td>-4.350130</td>\n",
       "      <td>0.144832</td>\n",
       "      <td>-0.040279</td>\n",
       "    </tr>\n",
       "    <tr>\n",
       "      <td>mercedes benz stadium</td>\n",
       "      <td>238.0</td>\n",
       "      <td>34.458896</td>\n",
       "      <td>-15.628524</td>\n",
       "      <td>0.144785</td>\n",
       "      <td>-0.065666</td>\n",
       "    </tr>\n",
       "    <tr>\n",
       "      <td>new systems</td>\n",
       "      <td>573.0</td>\n",
       "      <td>82.672269</td>\n",
       "      <td>-31.982919</td>\n",
       "      <td>0.144280</td>\n",
       "      <td>-0.055817</td>\n",
       "    </tr>\n",
       "    <tr>\n",
       "      <td>new white kitchen</td>\n",
       "      <td>159.0</td>\n",
       "      <td>22.210227</td>\n",
       "      <td>-17.142058</td>\n",
       "      <td>0.139687</td>\n",
       "      <td>-0.107812</td>\n",
       "    </tr>\n",
       "    <tr>\n",
       "      <td>high end s.s. appliances *</td>\n",
       "      <td>121.0</td>\n",
       "      <td>16.549523</td>\n",
       "      <td>-6.337124</td>\n",
       "      <td>0.136773</td>\n",
       "      <td>-0.052373</td>\n",
       "    </tr>\n",
       "    <tr>\n",
       "      <td>designer fixtures</td>\n",
       "      <td>182.0</td>\n",
       "      <td>24.476275</td>\n",
       "      <td>-6.905541</td>\n",
       "      <td>0.134485</td>\n",
       "      <td>-0.037943</td>\n",
       "    </tr>\n",
       "    <tr>\n",
       "      <td>new bathrooms</td>\n",
       "      <td>1222.0</td>\n",
       "      <td>161.940844</td>\n",
       "      <td>-75.764132</td>\n",
       "      <td>0.132521</td>\n",
       "      <td>-0.062000</td>\n",
       "    </tr>\n",
       "    <tr>\n",
       "      <td>new quartz tops *</td>\n",
       "      <td>235.0</td>\n",
       "      <td>31.015152</td>\n",
       "      <td>-23.674739</td>\n",
       "      <td>0.131979</td>\n",
       "      <td>-0.100744</td>\n",
       "    </tr>\n",
       "    <tr>\n",
       "      <td>soft-close cabinets</td>\n",
       "      <td>106.0</td>\n",
       "      <td>13.766491</td>\n",
       "      <td>-2.256654</td>\n",
       "      <td>0.129873</td>\n",
       "      <td>-0.021289</td>\n",
       "    </tr>\n",
       "    <tr>\n",
       "      <td>new kitchen granite countertops</td>\n",
       "      <td>175.0</td>\n",
       "      <td>22.661108</td>\n",
       "      <td>-17.078726</td>\n",
       "      <td>0.129492</td>\n",
       "      <td>-0.097593</td>\n",
       "    </tr>\n",
       "    <tr>\n",
       "      <td>modern finishes</td>\n",
       "      <td>236.0</td>\n",
       "      <td>30.554443</td>\n",
       "      <td>-4.839053</td>\n",
       "      <td>0.129468</td>\n",
       "      <td>-0.020504</td>\n",
       "    </tr>\n",
       "    <tr>\n",
       "      <td>new windows doors</td>\n",
       "      <td>155.0</td>\n",
       "      <td>19.538420</td>\n",
       "      <td>-7.097823</td>\n",
       "      <td>0.126054</td>\n",
       "      <td>-0.045792</td>\n",
       "    </tr>\n",
       "    <tr>\n",
       "      <td>fantastic renovation</td>\n",
       "      <td>123.0</td>\n",
       "      <td>15.460631</td>\n",
       "      <td>-6.078612</td>\n",
       "      <td>0.125696</td>\n",
       "      <td>-0.049420</td>\n",
       "    </tr>\n",
       "    <tr>\n",
       "      <td>buyers asap</td>\n",
       "      <td>106.0</td>\n",
       "      <td>13.286869</td>\n",
       "      <td>-3.624702</td>\n",
       "      <td>0.125348</td>\n",
       "      <td>-0.034195</td>\n",
       "    </tr>\n",
       "    <tr>\n",
       "      <td>new kitchen stainless steel appliances</td>\n",
       "      <td>125.0</td>\n",
       "      <td>15.572747</td>\n",
       "      <td>-8.910275</td>\n",
       "      <td>0.124582</td>\n",
       "      <td>-0.071282</td>\n",
       "    </tr>\n",
       "    <tr>\n",
       "      <td>ss appliance package</td>\n",
       "      <td>127.0</td>\n",
       "      <td>15.707735</td>\n",
       "      <td>-7.615729</td>\n",
       "      <td>0.123683</td>\n",
       "      <td>-0.059966</td>\n",
       "    </tr>\n",
       "    <tr>\n",
       "      <td>modern living</td>\n",
       "      <td>128.0</td>\n",
       "      <td>15.696038</td>\n",
       "      <td>-15.204924</td>\n",
       "      <td>0.122625</td>\n",
       "      <td>-0.118788</td>\n",
       "    </tr>\n",
       "    <tr>\n",
       "      <td>custom tile shower</td>\n",
       "      <td>219.0</td>\n",
       "      <td>26.256570</td>\n",
       "      <td>-6.391099</td>\n",
       "      <td>0.119893</td>\n",
       "      <td>-0.029183</td>\n",
       "    </tr>\n",
       "    <tr>\n",
       "      <td>chicken coop</td>\n",
       "      <td>228.0</td>\n",
       "      <td>27.091309</td>\n",
       "      <td>-18.611756</td>\n",
       "      <td>0.118822</td>\n",
       "      <td>-0.081631</td>\n",
       "    </tr>\n",
       "    <tr>\n",
       "      <td>new insulation</td>\n",
       "      <td>308.0</td>\n",
       "      <td>36.556309</td>\n",
       "      <td>-10.521016</td>\n",
       "      <td>0.118689</td>\n",
       "      <td>-0.034159</td>\n",
       "    </tr>\n",
       "  </tbody>\n",
       "</table>\n",
       "</div>"
      ],
      "text/plain": [
       "                                         count   AVM_Error  Listing_Error  \\\n",
       "digit luxurious baths                    162.0   42.349497      -2.188765   \n",
       "white shaker cabinets                    411.0   74.809614     -11.231315   \n",
       "tack room                                120.0   21.493178      -9.517410   \n",
       "shaker cabinets                          194.0   33.127144      -4.888167   \n",
       "amazing renovation                       264.0   42.556383     -12.664807   \n",
       "digit stall barn                         126.0   19.825605     -14.210888   \n",
       "gorgeous renovation                      314.0   48.898421     -12.057174   \n",
       "modern farmhouse                         159.0   23.854733      -5.726707   \n",
       "new master suite                         143.0   21.132362      -7.036846   \n",
       "new white cabinets                       313.0   45.464506     -11.572654   \n",
       "modern design                            108.0   15.641850      -4.350130   \n",
       "mercedes benz stadium                    238.0   34.458896     -15.628524   \n",
       "new systems                              573.0   82.672269     -31.982919   \n",
       "new white kitchen                        159.0   22.210227     -17.142058   \n",
       "high end s.s. appliances *               121.0   16.549523      -6.337124   \n",
       "designer fixtures                        182.0   24.476275      -6.905541   \n",
       "new bathrooms                           1222.0  161.940844     -75.764132   \n",
       "new quartz tops *                        235.0   31.015152     -23.674739   \n",
       "soft-close cabinets                      106.0   13.766491      -2.256654   \n",
       "new kitchen granite countertops          175.0   22.661108     -17.078726   \n",
       "modern finishes                          236.0   30.554443      -4.839053   \n",
       "new windows doors                        155.0   19.538420      -7.097823   \n",
       "fantastic renovation                     123.0   15.460631      -6.078612   \n",
       "buyers asap                              106.0   13.286869      -3.624702   \n",
       "new kitchen stainless steel appliances   125.0   15.572747      -8.910275   \n",
       "ss appliance package                     127.0   15.707735      -7.615729   \n",
       "modern living                            128.0   15.696038     -15.204924   \n",
       "custom tile shower                       219.0   26.256570      -6.391099   \n",
       "chicken coop                             228.0   27.091309     -18.611756   \n",
       "new insulation                           308.0   36.556309     -10.521016   \n",
       "\n",
       "                                        AVM_Error_Average  \\\n",
       "digit luxurious baths                            0.261417   \n",
       "white shaker cabinets                            0.182019   \n",
       "tack room                                        0.179110   \n",
       "shaker cabinets                                  0.170758   \n",
       "amazing renovation                               0.161198   \n",
       "digit stall barn                                 0.157346   \n",
       "gorgeous renovation                              0.155727   \n",
       "modern farmhouse                                 0.150030   \n",
       "new master suite                                 0.147779   \n",
       "new white cabinets                               0.145254   \n",
       "modern design                                    0.144832   \n",
       "mercedes benz stadium                            0.144785   \n",
       "new systems                                      0.144280   \n",
       "new white kitchen                                0.139687   \n",
       "high end s.s. appliances *                       0.136773   \n",
       "designer fixtures                                0.134485   \n",
       "new bathrooms                                    0.132521   \n",
       "new quartz tops *                                0.131979   \n",
       "soft-close cabinets                              0.129873   \n",
       "new kitchen granite countertops                  0.129492   \n",
       "modern finishes                                  0.129468   \n",
       "new windows doors                                0.126054   \n",
       "fantastic renovation                             0.125696   \n",
       "buyers asap                                      0.125348   \n",
       "new kitchen stainless steel appliances           0.124582   \n",
       "ss appliance package                             0.123683   \n",
       "modern living                                    0.122625   \n",
       "custom tile shower                               0.119893   \n",
       "chicken coop                                     0.118822   \n",
       "new insulation                                   0.118689   \n",
       "\n",
       "                                        Listing_Error_Average  \n",
       "digit luxurious baths                               -0.013511  \n",
       "white shaker cabinets                               -0.027327  \n",
       "tack room                                           -0.079312  \n",
       "shaker cabinets                                     -0.025197  \n",
       "amazing renovation                                  -0.047973  \n",
       "digit stall barn                                    -0.112785  \n",
       "gorgeous renovation                                 -0.038399  \n",
       "modern farmhouse                                    -0.036017  \n",
       "new master suite                                    -0.049209  \n",
       "new white cabinets                                  -0.036973  \n",
       "modern design                                       -0.040279  \n",
       "mercedes benz stadium                               -0.065666  \n",
       "new systems                                         -0.055817  \n",
       "new white kitchen                                   -0.107812  \n",
       "high end s.s. appliances *                          -0.052373  \n",
       "designer fixtures                                   -0.037943  \n",
       "new bathrooms                                       -0.062000  \n",
       "new quartz tops *                                   -0.100744  \n",
       "soft-close cabinets                                 -0.021289  \n",
       "new kitchen granite countertops                     -0.097593  \n",
       "modern finishes                                     -0.020504  \n",
       "new windows doors                                   -0.045792  \n",
       "fantastic renovation                                -0.049420  \n",
       "buyers asap                                         -0.034195  \n",
       "new kitchen stainless steel appliances              -0.071282  \n",
       "ss appliance package                                -0.059966  \n",
       "modern living                                       -0.118788  \n",
       "custom tile shower                                  -0.029183  \n",
       "chicken coop                                        -0.081631  \n",
       "new insulation                                      -0.034159  "
      ]
     },
     "execution_count": 84,
     "metadata": {},
     "output_type": "execute_result"
    }
   ],
   "source": [
    "noun_sentence_df_T_filtered.head(30)"
   ]
  },
  {
   "cell_type": "code",
   "execution_count": 85,
   "metadata": {},
   "outputs": [
    {
     "data": {
      "text/html": [
       "<div>\n",
       "<style scoped>\n",
       "    .dataframe tbody tr th:only-of-type {\n",
       "        vertical-align: middle;\n",
       "    }\n",
       "\n",
       "    .dataframe tbody tr th {\n",
       "        vertical-align: top;\n",
       "    }\n",
       "\n",
       "    .dataframe thead th {\n",
       "        text-align: right;\n",
       "    }\n",
       "</style>\n",
       "<table border=\"1\" class=\"dataframe\">\n",
       "  <thead>\n",
       "    <tr style=\"text-align: right;\">\n",
       "      <th></th>\n",
       "      <th>count</th>\n",
       "      <th>AVM_Error</th>\n",
       "      <th>Listing_Error</th>\n",
       "      <th>AVM_Error_Average</th>\n",
       "      <th>Listing_Error_Average</th>\n",
       "    </tr>\n",
       "  </thead>\n",
       "  <tbody>\n",
       "    <tr>\n",
       "      <td>earnest money</td>\n",
       "      <td>270.0</td>\n",
       "      <td>-57.149186</td>\n",
       "      <td>-31.819396</td>\n",
       "      <td>-0.211664</td>\n",
       "      <td>-0.117850</td>\n",
       "    </tr>\n",
       "    <tr>\n",
       "      <td>complete rehab</td>\n",
       "      <td>110.0</td>\n",
       "      <td>-23.490058</td>\n",
       "      <td>-20.213271</td>\n",
       "      <td>-0.213546</td>\n",
       "      <td>-0.183757</td>\n",
       "    </tr>\n",
       "    <tr>\n",
       "      <td>as-is sale</td>\n",
       "      <td>122.0</td>\n",
       "      <td>-26.299634</td>\n",
       "      <td>-13.084564</td>\n",
       "      <td>-0.215571</td>\n",
       "      <td>-0.107251</td>\n",
       "    </tr>\n",
       "    <tr>\n",
       "      <td>great opportunity investor</td>\n",
       "      <td>151.0</td>\n",
       "      <td>-32.809150</td>\n",
       "      <td>-11.633518</td>\n",
       "      <td>-0.217279</td>\n",
       "      <td>-0.077043</td>\n",
       "    </tr>\n",
       "    <tr>\n",
       "      <td>as-is disclosure</td>\n",
       "      <td>134.0</td>\n",
       "      <td>-29.563389</td>\n",
       "      <td>-22.016910</td>\n",
       "      <td>-0.220622</td>\n",
       "      <td>-0.164305</td>\n",
       "    </tr>\n",
       "    <tr>\n",
       "      <td>excellent investment opportunity</td>\n",
       "      <td>108.0</td>\n",
       "      <td>-24.073971</td>\n",
       "      <td>-12.611612</td>\n",
       "      <td>-0.222907</td>\n",
       "      <td>-0.116774</td>\n",
       "    </tr>\n",
       "    <tr>\n",
       "      <td>good bones</td>\n",
       "      <td>186.0</td>\n",
       "      <td>-41.666566</td>\n",
       "      <td>-18.632428</td>\n",
       "      <td>-0.224014</td>\n",
       "      <td>-0.100174</td>\n",
       "    </tr>\n",
       "    <tr>\n",
       "      <td>great potential</td>\n",
       "      <td>883.0</td>\n",
       "      <td>-198.292794</td>\n",
       "      <td>-87.318271</td>\n",
       "      <td>-0.224567</td>\n",
       "      <td>-0.098888</td>\n",
       "    </tr>\n",
       "    <tr>\n",
       "      <td>attention investors</td>\n",
       "      <td>282.0</td>\n",
       "      <td>-63.778604</td>\n",
       "      <td>-24.194318</td>\n",
       "      <td>-0.226165</td>\n",
       "      <td>-0.085795</td>\n",
       "    </tr>\n",
       "    <tr>\n",
       "      <td>great investor opportunity</td>\n",
       "      <td>161.0</td>\n",
       "      <td>-37.003660</td>\n",
       "      <td>-12.889717</td>\n",
       "      <td>-0.229836</td>\n",
       "      <td>-0.080060</td>\n",
       "    </tr>\n",
       "    <tr>\n",
       "      <td>home need tlc</td>\n",
       "      <td>115.0</td>\n",
       "      <td>-28.383515</td>\n",
       "      <td>-14.832534</td>\n",
       "      <td>-0.246813</td>\n",
       "      <td>-0.128979</td>\n",
       "    </tr>\n",
       "    <tr>\n",
       "      <td>investor opportunity</td>\n",
       "      <td>119.0</td>\n",
       "      <td>-29.561550</td>\n",
       "      <td>-13.759661</td>\n",
       "      <td>-0.248416</td>\n",
       "      <td>-0.115627</td>\n",
       "    </tr>\n",
       "    <tr>\n",
       "      <td>investment opportunity</td>\n",
       "      <td>208.0</td>\n",
       "      <td>-51.868666</td>\n",
       "      <td>-27.704306</td>\n",
       "      <td>-0.249369</td>\n",
       "      <td>-0.133194</td>\n",
       "    </tr>\n",
       "    <tr>\n",
       "      <td>home needs tlc</td>\n",
       "      <td>416.0</td>\n",
       "      <td>-105.506246</td>\n",
       "      <td>-37.833399</td>\n",
       "      <td>-0.253621</td>\n",
       "      <td>-0.090946</td>\n",
       "    </tr>\n",
       "    <tr>\n",
       "      <td>sweat equity</td>\n",
       "      <td>324.0</td>\n",
       "      <td>-83.461212</td>\n",
       "      <td>-30.830872</td>\n",
       "      <td>-0.257596</td>\n",
       "      <td>-0.095157</td>\n",
       "    </tr>\n",
       "    <tr>\n",
       "      <td>as-is disclosures</td>\n",
       "      <td>216.0</td>\n",
       "      <td>-56.358045</td>\n",
       "      <td>-20.113201</td>\n",
       "      <td>-0.260917</td>\n",
       "      <td>-0.093117</td>\n",
       "    </tr>\n",
       "    <tr>\n",
       "      <td>proof funds</td>\n",
       "      <td>271.0</td>\n",
       "      <td>-72.728485</td>\n",
       "      <td>-28.361394</td>\n",
       "      <td>-0.268371</td>\n",
       "      <td>-0.104655</td>\n",
       "    </tr>\n",
       "    <tr>\n",
       "      <td>needs tlc</td>\n",
       "      <td>1164.0</td>\n",
       "      <td>-332.609930</td>\n",
       "      <td>-1801.711699</td>\n",
       "      <td>-0.285747</td>\n",
       "      <td>-1.547862</td>\n",
       "    </tr>\n",
       "    <tr>\n",
       "      <td>as-is condition</td>\n",
       "      <td>291.0</td>\n",
       "      <td>-83.470996</td>\n",
       "      <td>-105.392735</td>\n",
       "      <td>-0.286842</td>\n",
       "      <td>-0.362174</td>\n",
       "    </tr>\n",
       "    <tr>\n",
       "      <td>hard money</td>\n",
       "      <td>117.0</td>\n",
       "      <td>-35.047562</td>\n",
       "      <td>-6.360194</td>\n",
       "      <td>-0.299552</td>\n",
       "      <td>-0.054361</td>\n",
       "    </tr>\n",
       "    <tr>\n",
       "      <td>full rehab</td>\n",
       "      <td>121.0</td>\n",
       "      <td>-36.908287</td>\n",
       "      <td>-9.604167</td>\n",
       "      <td>-0.305027</td>\n",
       "      <td>-0.079373</td>\n",
       "    </tr>\n",
       "    <tr>\n",
       "      <td>sellers attorney</td>\n",
       "      <td>169.0</td>\n",
       "      <td>-53.956053</td>\n",
       "      <td>-19.601418</td>\n",
       "      <td>-0.319267</td>\n",
       "      <td>-0.115985</td>\n",
       "    </tr>\n",
       "    <tr>\n",
       "      <td>price area</td>\n",
       "      <td>119.0</td>\n",
       "      <td>-38.353114</td>\n",
       "      <td>-11.211420</td>\n",
       "      <td>-0.322295</td>\n",
       "      <td>-0.094214</td>\n",
       "    </tr>\n",
       "    <tr>\n",
       "      <td>handy man</td>\n",
       "      <td>101.0</td>\n",
       "      <td>-33.625670</td>\n",
       "      <td>-21.849273</td>\n",
       "      <td>-0.332927</td>\n",
       "      <td>-0.216329</td>\n",
       "    </tr>\n",
       "    <tr>\n",
       "      <td>cash buyers</td>\n",
       "      <td>140.0</td>\n",
       "      <td>-46.721291</td>\n",
       "      <td>-105.440155</td>\n",
       "      <td>-0.333724</td>\n",
       "      <td>-0.753144</td>\n",
       "    </tr>\n",
       "    <tr>\n",
       "      <td>home needs work</td>\n",
       "      <td>113.0</td>\n",
       "      <td>-38.076447</td>\n",
       "      <td>-17.186969</td>\n",
       "      <td>-0.336960</td>\n",
       "      <td>-0.152097</td>\n",
       "    </tr>\n",
       "    <tr>\n",
       "      <td>needs work</td>\n",
       "      <td>273.0</td>\n",
       "      <td>-96.661990</td>\n",
       "      <td>-33.123858</td>\n",
       "      <td>-0.354073</td>\n",
       "      <td>-0.121333</td>\n",
       "    </tr>\n",
       "    <tr>\n",
       "      <td>great fixer</td>\n",
       "      <td>199.0</td>\n",
       "      <td>-71.204655</td>\n",
       "      <td>-26.541916</td>\n",
       "      <td>-0.357812</td>\n",
       "      <td>-0.133376</td>\n",
       "    </tr>\n",
       "    <tr>\n",
       "      <td>cash sale</td>\n",
       "      <td>126.0</td>\n",
       "      <td>-45.412212</td>\n",
       "      <td>-9.138816</td>\n",
       "      <td>-0.360414</td>\n",
       "      <td>-0.072530</td>\n",
       "    </tr>\n",
       "    <tr>\n",
       "      <td>utilities inspections</td>\n",
       "      <td>108.0</td>\n",
       "      <td>-55.938541</td>\n",
       "      <td>-1.379659</td>\n",
       "      <td>-0.517949</td>\n",
       "      <td>-0.012775</td>\n",
       "    </tr>\n",
       "  </tbody>\n",
       "</table>\n",
       "</div>"
      ],
      "text/plain": [
       "                                   count   AVM_Error  Listing_Error  \\\n",
       "earnest money                      270.0  -57.149186     -31.819396   \n",
       "complete rehab                     110.0  -23.490058     -20.213271   \n",
       "as-is sale                         122.0  -26.299634     -13.084564   \n",
       "great opportunity investor         151.0  -32.809150     -11.633518   \n",
       "as-is disclosure                   134.0  -29.563389     -22.016910   \n",
       "excellent investment opportunity   108.0  -24.073971     -12.611612   \n",
       "good bones                         186.0  -41.666566     -18.632428   \n",
       "great potential                    883.0 -198.292794     -87.318271   \n",
       "attention investors                282.0  -63.778604     -24.194318   \n",
       "great investor opportunity         161.0  -37.003660     -12.889717   \n",
       "home need tlc                      115.0  -28.383515     -14.832534   \n",
       "investor opportunity               119.0  -29.561550     -13.759661   \n",
       "investment opportunity             208.0  -51.868666     -27.704306   \n",
       "home needs tlc                     416.0 -105.506246     -37.833399   \n",
       "sweat equity                       324.0  -83.461212     -30.830872   \n",
       "as-is disclosures                  216.0  -56.358045     -20.113201   \n",
       "proof funds                        271.0  -72.728485     -28.361394   \n",
       "needs tlc                         1164.0 -332.609930   -1801.711699   \n",
       "as-is condition                    291.0  -83.470996    -105.392735   \n",
       "hard money                         117.0  -35.047562      -6.360194   \n",
       "full rehab                         121.0  -36.908287      -9.604167   \n",
       "sellers attorney                   169.0  -53.956053     -19.601418   \n",
       "price area                         119.0  -38.353114     -11.211420   \n",
       "handy man                          101.0  -33.625670     -21.849273   \n",
       "cash buyers                        140.0  -46.721291    -105.440155   \n",
       "home needs work                    113.0  -38.076447     -17.186969   \n",
       "needs work                         273.0  -96.661990     -33.123858   \n",
       "great fixer                        199.0  -71.204655     -26.541916   \n",
       "cash sale                          126.0  -45.412212      -9.138816   \n",
       "utilities inspections              108.0  -55.938541      -1.379659   \n",
       "\n",
       "                                  AVM_Error_Average  Listing_Error_Average  \n",
       "earnest money                             -0.211664              -0.117850  \n",
       "complete rehab                            -0.213546              -0.183757  \n",
       "as-is sale                                -0.215571              -0.107251  \n",
       "great opportunity investor                -0.217279              -0.077043  \n",
       "as-is disclosure                          -0.220622              -0.164305  \n",
       "excellent investment opportunity          -0.222907              -0.116774  \n",
       "good bones                                -0.224014              -0.100174  \n",
       "great potential                           -0.224567              -0.098888  \n",
       "attention investors                       -0.226165              -0.085795  \n",
       "great investor opportunity                -0.229836              -0.080060  \n",
       "home need tlc                             -0.246813              -0.128979  \n",
       "investor opportunity                      -0.248416              -0.115627  \n",
       "investment opportunity                    -0.249369              -0.133194  \n",
       "home needs tlc                            -0.253621              -0.090946  \n",
       "sweat equity                              -0.257596              -0.095157  \n",
       "as-is disclosures                         -0.260917              -0.093117  \n",
       "proof funds                               -0.268371              -0.104655  \n",
       "needs tlc                                 -0.285747              -1.547862  \n",
       "as-is condition                           -0.286842              -0.362174  \n",
       "hard money                                -0.299552              -0.054361  \n",
       "full rehab                                -0.305027              -0.079373  \n",
       "sellers attorney                          -0.319267              -0.115985  \n",
       "price area                                -0.322295              -0.094214  \n",
       "handy man                                 -0.332927              -0.216329  \n",
       "cash buyers                               -0.333724              -0.753144  \n",
       "home needs work                           -0.336960              -0.152097  \n",
       "needs work                                -0.354073              -0.121333  \n",
       "great fixer                               -0.357812              -0.133376  \n",
       "cash sale                                 -0.360414              -0.072530  \n",
       "utilities inspections                     -0.517949              -0.012775  "
      ]
     },
     "execution_count": 85,
     "metadata": {},
     "output_type": "execute_result"
    }
   ],
   "source": [
    "#upload table.\n",
    "#group them \"somehow\"\n",
    "\n",
    "noun_sentence_df_T_filtered.tail(30)"
   ]
  },
  {
   "cell_type": "code",
   "execution_count": 2,
   "metadata": {},
   "outputs": [
    {
     "ename": "NameError",
     "evalue": "name 'noun_sentence_df_T_filtered' is not defined",
     "output_type": "error",
     "traceback": [
      "\u001b[0;31m---------------------------------------------------------------------------\u001b[0m",
      "\u001b[0;31mNameError\u001b[0m                                 Traceback (most recent call last)",
      "\u001b[0;32m<ipython-input-2-e60f9f349aeb>\u001b[0m in \u001b[0;36m<module>\u001b[0;34m\u001b[0m\n\u001b[0;32m----> 1\u001b[0;31m \u001b[0mnoun_sentence_df_T_filtered\u001b[0m\u001b[0;34m\u001b[0m\u001b[0;34m\u001b[0m\u001b[0m\n\u001b[0m",
      "\u001b[0;31mNameError\u001b[0m: name 'noun_sentence_df_T_filtered' is not defined"
     ]
    }
   ],
   "source": [
    "noun_sentence_df_T_filtered"
   ]
  },
  {
   "cell_type": "code",
   "execution_count": 86,
   "metadata": {},
   "outputs": [],
   "source": [
    "noun_sentence_df_T_ri = noun_sentence_df_T.reset_index()"
   ]
  },
  {
   "cell_type": "code",
   "execution_count": 87,
   "metadata": {},
   "outputs": [],
   "source": [
    "noun_sentence_df_T_ri.to_feather('noun_sentences/' + file + '_withsentiment_erros_' + column + '_nounsentences_embed.fea')"
   ]
  },
  {
   "cell_type": "code",
   "execution_count": null,
   "metadata": {},
   "outputs": [],
   "source": []
  },
  {
   "cell_type": "code",
   "execution_count": null,
   "metadata": {},
   "outputs": [],
   "source": []
  },
  {
   "cell_type": "code",
   "execution_count": 2,
   "metadata": {},
   "outputs": [
    {
     "ename": "NameError",
     "evalue": "name 'data' is not defined",
     "output_type": "error",
     "traceback": [
      "\u001b[0;31m---------------------------------------------------------------------------\u001b[0m",
      "\u001b[0;31mNameError\u001b[0m                                 Traceback (most recent call last)",
      "\u001b[0;32m<ipython-input-2-c5d84736ba45>\u001b[0m in \u001b[0;36m<module>\u001b[0;34m\u001b[0m\n\u001b[0;32m----> 1\u001b[0;31m \u001b[0mdata\u001b[0m\u001b[0;34m\u001b[0m\u001b[0;34m\u001b[0m\u001b[0m\n\u001b[0m",
      "\u001b[0;31mNameError\u001b[0m: name 'data' is not defined"
     ]
    }
   ],
   "source": [
    "data"
   ]
  },
  {
   "cell_type": "code",
   "execution_count": null,
   "metadata": {},
   "outputs": [],
   "source": [
    "df.loc[df.groupby('A').B.idxmin()]"
   ]
  },
  {
   "cell_type": "code",
   "execution_count": null,
   "metadata": {},
   "outputs": [],
   "source": []
  },
  {
   "cell_type": "code",
   "execution_count": null,
   "metadata": {},
   "outputs": [],
   "source": []
  },
  {
   "cell_type": "code",
   "execution_count": null,
   "metadata": {},
   "outputs": [],
   "source": []
  },
  {
   "cell_type": "code",
   "execution_count": null,
   "metadata": {},
   "outputs": [],
   "source": []
  },
  {
   "cell_type": "code",
   "execution_count": 93,
   "metadata": {},
   "outputs": [],
   "source": [
    "average_embedding = result[3]"
   ]
  },
  {
   "cell_type": "code",
   "execution_count": 94,
   "metadata": {},
   "outputs": [],
   "source": [
    "average_embedding_amplitute = result[4]"
   ]
  },
  {
   "cell_type": "code",
   "execution_count": 95,
   "metadata": {},
   "outputs": [],
   "source": [
    "average_embedding_scaled = result[5]"
   ]
  },
  {
   "cell_type": "code",
   "execution_count": null,
   "metadata": {},
   "outputs": [],
   "source": []
  },
  {
   "cell_type": "code",
   "execution_count": 101,
   "metadata": {},
   "outputs": [],
   "source": [
    "np.save('noun_sentences/' + file + '_nounsentences_embed_average_embedding.npy', average_embedding)"
   ]
  },
  {
   "cell_type": "code",
   "execution_count": 102,
   "metadata": {},
   "outputs": [],
   "source": [
    "np.save('noun_sentences/' + file + '_nounsentences_embed_average_embedding_amplitute.npy', average_embedding_amplitute)"
   ]
  },
  {
   "cell_type": "code",
   "execution_count": 103,
   "metadata": {},
   "outputs": [],
   "source": [
    "np.save('noun_sentences/' + file + '_nounsentences_embed_average_embedding_scaled.npy', average_embedding_scaled)"
   ]
  },
  {
   "cell_type": "code",
   "execution_count": null,
   "metadata": {},
   "outputs": [],
   "source": []
  },
  {
   "cell_type": "code",
   "execution_count": 104,
   "metadata": {},
   "outputs": [
    {
     "data": {
      "text/plain": [
       "(512, 636149)"
      ]
     },
     "execution_count": 104,
     "metadata": {},
     "output_type": "execute_result"
    }
   ],
   "source": [
    "average_embedding.shape"
   ]
  },
  {
   "cell_type": "code",
   "execution_count": 105,
   "metadata": {},
   "outputs": [],
   "source": [
    "average_embedding_df = pd.DataFrame(data=average_embedding.T, index=df_sales['index'].values, \n",
    "                           columns=['average_embedding_'+str(x) for x in range(average_embedding.T.shape[1])])"
   ]
  },
  {
   "cell_type": "code",
   "execution_count": 107,
   "metadata": {},
   "outputs": [],
   "source": [
    "average_embedding_df_ri = average_embedding_df.reset_index()"
   ]
  },
  {
   "cell_type": "code",
   "execution_count": 108,
   "metadata": {},
   "outputs": [
    {
     "data": {
      "text/html": [
       "<div>\n",
       "<style scoped>\n",
       "    .dataframe tbody tr th:only-of-type {\n",
       "        vertical-align: middle;\n",
       "    }\n",
       "\n",
       "    .dataframe tbody tr th {\n",
       "        vertical-align: top;\n",
       "    }\n",
       "\n",
       "    .dataframe thead th {\n",
       "        text-align: right;\n",
       "    }\n",
       "</style>\n",
       "<table border=\"1\" class=\"dataframe\">\n",
       "  <thead>\n",
       "    <tr style=\"text-align: right;\">\n",
       "      <th></th>\n",
       "      <th>index</th>\n",
       "      <th>average_embedding_0</th>\n",
       "      <th>average_embedding_1</th>\n",
       "      <th>average_embedding_2</th>\n",
       "      <th>average_embedding_3</th>\n",
       "      <th>average_embedding_4</th>\n",
       "      <th>average_embedding_5</th>\n",
       "      <th>average_embedding_6</th>\n",
       "      <th>average_embedding_7</th>\n",
       "      <th>average_embedding_8</th>\n",
       "      <th>...</th>\n",
       "      <th>average_embedding_502</th>\n",
       "      <th>average_embedding_503</th>\n",
       "      <th>average_embedding_504</th>\n",
       "      <th>average_embedding_505</th>\n",
       "      <th>average_embedding_506</th>\n",
       "      <th>average_embedding_507</th>\n",
       "      <th>average_embedding_508</th>\n",
       "      <th>average_embedding_509</th>\n",
       "      <th>average_embedding_510</th>\n",
       "      <th>average_embedding_511</th>\n",
       "    </tr>\n",
       "  </thead>\n",
       "  <tbody>\n",
       "    <tr>\n",
       "      <td>0</td>\n",
       "      <td>128</td>\n",
       "      <td>-0.030902</td>\n",
       "      <td>0.014595</td>\n",
       "      <td>-0.006693</td>\n",
       "      <td>0.005780</td>\n",
       "      <td>0.004441</td>\n",
       "      <td>0.016880</td>\n",
       "      <td>-0.013962</td>\n",
       "      <td>0.016821</td>\n",
       "      <td>-0.009638</td>\n",
       "      <td>...</td>\n",
       "      <td>0.018997</td>\n",
       "      <td>-0.071503</td>\n",
       "      <td>0.014081</td>\n",
       "      <td>0.040307</td>\n",
       "      <td>-0.035832</td>\n",
       "      <td>-0.012510</td>\n",
       "      <td>-0.001005</td>\n",
       "      <td>-0.013834</td>\n",
       "      <td>0.025076</td>\n",
       "      <td>-0.000846</td>\n",
       "    </tr>\n",
       "    <tr>\n",
       "      <td>1</td>\n",
       "      <td>190</td>\n",
       "      <td>-0.023182</td>\n",
       "      <td>-0.010230</td>\n",
       "      <td>-0.015732</td>\n",
       "      <td>0.007574</td>\n",
       "      <td>0.009700</td>\n",
       "      <td>0.020155</td>\n",
       "      <td>-0.008980</td>\n",
       "      <td>0.002519</td>\n",
       "      <td>0.007382</td>\n",
       "      <td>...</td>\n",
       "      <td>0.037020</td>\n",
       "      <td>-0.074088</td>\n",
       "      <td>0.019762</td>\n",
       "      <td>0.027993</td>\n",
       "      <td>0.006685</td>\n",
       "      <td>-0.002941</td>\n",
       "      <td>-0.020514</td>\n",
       "      <td>-0.004933</td>\n",
       "      <td>0.030392</td>\n",
       "      <td>0.002847</td>\n",
       "    </tr>\n",
       "    <tr>\n",
       "      <td>2</td>\n",
       "      <td>232</td>\n",
       "      <td>-0.012385</td>\n",
       "      <td>0.025757</td>\n",
       "      <td>-0.023891</td>\n",
       "      <td>0.014558</td>\n",
       "      <td>0.017593</td>\n",
       "      <td>0.031827</td>\n",
       "      <td>-0.006001</td>\n",
       "      <td>0.007075</td>\n",
       "      <td>-0.005037</td>\n",
       "      <td>...</td>\n",
       "      <td>0.031034</td>\n",
       "      <td>-0.075557</td>\n",
       "      <td>0.018872</td>\n",
       "      <td>0.029568</td>\n",
       "      <td>-0.037168</td>\n",
       "      <td>-0.002242</td>\n",
       "      <td>-0.001552</td>\n",
       "      <td>-0.020053</td>\n",
       "      <td>0.052581</td>\n",
       "      <td>0.006299</td>\n",
       "    </tr>\n",
       "    <tr>\n",
       "      <td>3</td>\n",
       "      <td>308</td>\n",
       "      <td>-0.016044</td>\n",
       "      <td>-0.001051</td>\n",
       "      <td>0.006853</td>\n",
       "      <td>-0.010361</td>\n",
       "      <td>-0.051013</td>\n",
       "      <td>0.015200</td>\n",
       "      <td>0.013843</td>\n",
       "      <td>0.033808</td>\n",
       "      <td>0.031106</td>\n",
       "      <td>...</td>\n",
       "      <td>0.036514</td>\n",
       "      <td>-0.082686</td>\n",
       "      <td>0.022768</td>\n",
       "      <td>0.045549</td>\n",
       "      <td>0.000080</td>\n",
       "      <td>-0.011473</td>\n",
       "      <td>-0.028121</td>\n",
       "      <td>-0.030616</td>\n",
       "      <td>0.058082</td>\n",
       "      <td>0.008084</td>\n",
       "    </tr>\n",
       "    <tr>\n",
       "      <td>4</td>\n",
       "      <td>467</td>\n",
       "      <td>-0.005294</td>\n",
       "      <td>-0.000318</td>\n",
       "      <td>-0.033602</td>\n",
       "      <td>0.011812</td>\n",
       "      <td>0.025344</td>\n",
       "      <td>0.026913</td>\n",
       "      <td>-0.021398</td>\n",
       "      <td>0.015764</td>\n",
       "      <td>0.001083</td>\n",
       "      <td>...</td>\n",
       "      <td>0.038388</td>\n",
       "      <td>-0.064932</td>\n",
       "      <td>0.022980</td>\n",
       "      <td>0.028526</td>\n",
       "      <td>0.004708</td>\n",
       "      <td>0.003172</td>\n",
       "      <td>-0.001489</td>\n",
       "      <td>-0.011246</td>\n",
       "      <td>0.043180</td>\n",
       "      <td>0.002529</td>\n",
       "    </tr>\n",
       "    <tr>\n",
       "      <td>...</td>\n",
       "      <td>...</td>\n",
       "      <td>...</td>\n",
       "      <td>...</td>\n",
       "      <td>...</td>\n",
       "      <td>...</td>\n",
       "      <td>...</td>\n",
       "      <td>...</td>\n",
       "      <td>...</td>\n",
       "      <td>...</td>\n",
       "      <td>...</td>\n",
       "      <td>...</td>\n",
       "      <td>...</td>\n",
       "      <td>...</td>\n",
       "      <td>...</td>\n",
       "      <td>...</td>\n",
       "      <td>...</td>\n",
       "      <td>...</td>\n",
       "      <td>...</td>\n",
       "      <td>...</td>\n",
       "      <td>...</td>\n",
       "      <td>...</td>\n",
       "    </tr>\n",
       "    <tr>\n",
       "      <td>636144</td>\n",
       "      <td>6908610</td>\n",
       "      <td>-0.019670</td>\n",
       "      <td>-0.011826</td>\n",
       "      <td>-0.012253</td>\n",
       "      <td>0.011598</td>\n",
       "      <td>0.014154</td>\n",
       "      <td>0.010139</td>\n",
       "      <td>0.004342</td>\n",
       "      <td>0.022026</td>\n",
       "      <td>0.017631</td>\n",
       "      <td>...</td>\n",
       "      <td>0.031470</td>\n",
       "      <td>-0.084288</td>\n",
       "      <td>0.006579</td>\n",
       "      <td>0.028512</td>\n",
       "      <td>-0.025560</td>\n",
       "      <td>-0.009002</td>\n",
       "      <td>-0.017665</td>\n",
       "      <td>-0.033540</td>\n",
       "      <td>0.029817</td>\n",
       "      <td>-0.012654</td>\n",
       "    </tr>\n",
       "    <tr>\n",
       "      <td>636145</td>\n",
       "      <td>6912211</td>\n",
       "      <td>-0.032422</td>\n",
       "      <td>0.013542</td>\n",
       "      <td>0.006019</td>\n",
       "      <td>-0.024057</td>\n",
       "      <td>0.011202</td>\n",
       "      <td>0.010017</td>\n",
       "      <td>0.035332</td>\n",
       "      <td>0.029098</td>\n",
       "      <td>-0.013916</td>\n",
       "      <td>...</td>\n",
       "      <td>0.010667</td>\n",
       "      <td>-0.083987</td>\n",
       "      <td>0.050929</td>\n",
       "      <td>0.049117</td>\n",
       "      <td>-0.033732</td>\n",
       "      <td>0.014176</td>\n",
       "      <td>0.002784</td>\n",
       "      <td>-0.017128</td>\n",
       "      <td>-0.009692</td>\n",
       "      <td>0.031952</td>\n",
       "    </tr>\n",
       "    <tr>\n",
       "      <td>636146</td>\n",
       "      <td>6912289</td>\n",
       "      <td>-0.028521</td>\n",
       "      <td>0.004704</td>\n",
       "      <td>-0.026294</td>\n",
       "      <td>0.024892</td>\n",
       "      <td>0.008617</td>\n",
       "      <td>0.014417</td>\n",
       "      <td>0.023798</td>\n",
       "      <td>0.018778</td>\n",
       "      <td>0.007258</td>\n",
       "      <td>...</td>\n",
       "      <td>0.016626</td>\n",
       "      <td>-0.069624</td>\n",
       "      <td>0.024853</td>\n",
       "      <td>0.048407</td>\n",
       "      <td>-0.036773</td>\n",
       "      <td>-0.001049</td>\n",
       "      <td>-0.017220</td>\n",
       "      <td>-0.012708</td>\n",
       "      <td>-0.004156</td>\n",
       "      <td>0.004069</td>\n",
       "    </tr>\n",
       "    <tr>\n",
       "      <td>636147</td>\n",
       "      <td>6912290</td>\n",
       "      <td>0.004542</td>\n",
       "      <td>-0.000275</td>\n",
       "      <td>0.004966</td>\n",
       "      <td>-0.011718</td>\n",
       "      <td>0.007240</td>\n",
       "      <td>0.014186</td>\n",
       "      <td>-0.022237</td>\n",
       "      <td>-0.005495</td>\n",
       "      <td>-0.031482</td>\n",
       "      <td>...</td>\n",
       "      <td>0.044087</td>\n",
       "      <td>-0.047293</td>\n",
       "      <td>0.019582</td>\n",
       "      <td>0.031826</td>\n",
       "      <td>-0.056460</td>\n",
       "      <td>-0.005440</td>\n",
       "      <td>-0.019292</td>\n",
       "      <td>-0.022149</td>\n",
       "      <td>0.019502</td>\n",
       "      <td>-0.002674</td>\n",
       "    </tr>\n",
       "    <tr>\n",
       "      <td>636148</td>\n",
       "      <td>6912291</td>\n",
       "      <td>-0.029435</td>\n",
       "      <td>-0.011624</td>\n",
       "      <td>0.012480</td>\n",
       "      <td>-0.022737</td>\n",
       "      <td>0.016766</td>\n",
       "      <td>-0.005861</td>\n",
       "      <td>0.006670</td>\n",
       "      <td>0.002097</td>\n",
       "      <td>-0.018821</td>\n",
       "      <td>...</td>\n",
       "      <td>0.015644</td>\n",
       "      <td>-0.094497</td>\n",
       "      <td>0.042290</td>\n",
       "      <td>0.033766</td>\n",
       "      <td>-0.012763</td>\n",
       "      <td>0.005351</td>\n",
       "      <td>-0.005585</td>\n",
       "      <td>-0.009067</td>\n",
       "      <td>0.004497</td>\n",
       "      <td>-0.005475</td>\n",
       "    </tr>\n",
       "  </tbody>\n",
       "</table>\n",
       "<p>636149 rows × 513 columns</p>\n",
       "</div>"
      ],
      "text/plain": [
       "          index  average_embedding_0  average_embedding_1  \\\n",
       "0           128            -0.030902             0.014595   \n",
       "1           190            -0.023182            -0.010230   \n",
       "2           232            -0.012385             0.025757   \n",
       "3           308            -0.016044            -0.001051   \n",
       "4           467            -0.005294            -0.000318   \n",
       "...         ...                  ...                  ...   \n",
       "636144  6908610            -0.019670            -0.011826   \n",
       "636145  6912211            -0.032422             0.013542   \n",
       "636146  6912289            -0.028521             0.004704   \n",
       "636147  6912290             0.004542            -0.000275   \n",
       "636148  6912291            -0.029435            -0.011624   \n",
       "\n",
       "        average_embedding_2  average_embedding_3  average_embedding_4  \\\n",
       "0                 -0.006693             0.005780             0.004441   \n",
       "1                 -0.015732             0.007574             0.009700   \n",
       "2                 -0.023891             0.014558             0.017593   \n",
       "3                  0.006853            -0.010361            -0.051013   \n",
       "4                 -0.033602             0.011812             0.025344   \n",
       "...                     ...                  ...                  ...   \n",
       "636144            -0.012253             0.011598             0.014154   \n",
       "636145             0.006019            -0.024057             0.011202   \n",
       "636146            -0.026294             0.024892             0.008617   \n",
       "636147             0.004966            -0.011718             0.007240   \n",
       "636148             0.012480            -0.022737             0.016766   \n",
       "\n",
       "        average_embedding_5  average_embedding_6  average_embedding_7  \\\n",
       "0                  0.016880            -0.013962             0.016821   \n",
       "1                  0.020155            -0.008980             0.002519   \n",
       "2                  0.031827            -0.006001             0.007075   \n",
       "3                  0.015200             0.013843             0.033808   \n",
       "4                  0.026913            -0.021398             0.015764   \n",
       "...                     ...                  ...                  ...   \n",
       "636144             0.010139             0.004342             0.022026   \n",
       "636145             0.010017             0.035332             0.029098   \n",
       "636146             0.014417             0.023798             0.018778   \n",
       "636147             0.014186            -0.022237            -0.005495   \n",
       "636148            -0.005861             0.006670             0.002097   \n",
       "\n",
       "        average_embedding_8  ...  average_embedding_502  \\\n",
       "0                 -0.009638  ...               0.018997   \n",
       "1                  0.007382  ...               0.037020   \n",
       "2                 -0.005037  ...               0.031034   \n",
       "3                  0.031106  ...               0.036514   \n",
       "4                  0.001083  ...               0.038388   \n",
       "...                     ...  ...                    ...   \n",
       "636144             0.017631  ...               0.031470   \n",
       "636145            -0.013916  ...               0.010667   \n",
       "636146             0.007258  ...               0.016626   \n",
       "636147            -0.031482  ...               0.044087   \n",
       "636148            -0.018821  ...               0.015644   \n",
       "\n",
       "        average_embedding_503  average_embedding_504  average_embedding_505  \\\n",
       "0                   -0.071503               0.014081               0.040307   \n",
       "1                   -0.074088               0.019762               0.027993   \n",
       "2                   -0.075557               0.018872               0.029568   \n",
       "3                   -0.082686               0.022768               0.045549   \n",
       "4                   -0.064932               0.022980               0.028526   \n",
       "...                       ...                    ...                    ...   \n",
       "636144              -0.084288               0.006579               0.028512   \n",
       "636145              -0.083987               0.050929               0.049117   \n",
       "636146              -0.069624               0.024853               0.048407   \n",
       "636147              -0.047293               0.019582               0.031826   \n",
       "636148              -0.094497               0.042290               0.033766   \n",
       "\n",
       "        average_embedding_506  average_embedding_507  average_embedding_508  \\\n",
       "0                   -0.035832              -0.012510              -0.001005   \n",
       "1                    0.006685              -0.002941              -0.020514   \n",
       "2                   -0.037168              -0.002242              -0.001552   \n",
       "3                    0.000080              -0.011473              -0.028121   \n",
       "4                    0.004708               0.003172              -0.001489   \n",
       "...                       ...                    ...                    ...   \n",
       "636144              -0.025560              -0.009002              -0.017665   \n",
       "636145              -0.033732               0.014176               0.002784   \n",
       "636146              -0.036773              -0.001049              -0.017220   \n",
       "636147              -0.056460              -0.005440              -0.019292   \n",
       "636148              -0.012763               0.005351              -0.005585   \n",
       "\n",
       "        average_embedding_509  average_embedding_510  average_embedding_511  \n",
       "0                   -0.013834               0.025076              -0.000846  \n",
       "1                   -0.004933               0.030392               0.002847  \n",
       "2                   -0.020053               0.052581               0.006299  \n",
       "3                   -0.030616               0.058082               0.008084  \n",
       "4                   -0.011246               0.043180               0.002529  \n",
       "...                       ...                    ...                    ...  \n",
       "636144              -0.033540               0.029817              -0.012654  \n",
       "636145              -0.017128              -0.009692               0.031952  \n",
       "636146              -0.012708              -0.004156               0.004069  \n",
       "636147              -0.022149               0.019502              -0.002674  \n",
       "636148              -0.009067               0.004497              -0.005475  \n",
       "\n",
       "[636149 rows x 513 columns]"
      ]
     },
     "execution_count": 108,
     "metadata": {},
     "output_type": "execute_result"
    }
   ],
   "source": [
    "average_embedding_df_ri"
   ]
  },
  {
   "cell_type": "code",
   "execution_count": null,
   "metadata": {},
   "outputs": [],
   "source": []
  },
  {
   "cell_type": "code",
   "execution_count": 109,
   "metadata": {},
   "outputs": [],
   "source": [
    "average_embedding_amplitute_df = pd.DataFrame(data=average_embedding_amplitute.T, index=df_sales['index'].values, \n",
    "                           columns=['average_embedding_amplitute_'+str(x) for x in range(average_embedding_amplitute.T.shape[1])])"
   ]
  },
  {
   "cell_type": "code",
   "execution_count": 110,
   "metadata": {},
   "outputs": [],
   "source": [
    "average_embedding_amplitute_df_ri = average_embedding_amplitute_df.reset_index()"
   ]
  },
  {
   "cell_type": "code",
   "execution_count": 111,
   "metadata": {},
   "outputs": [],
   "source": [
    "average_embedding_scaled_df = pd.DataFrame(data=average_embedding_scaled.T, index=df_sales['index'].values, \n",
    "                           columns=['average_embedding_scaled_'+str(x) for x in range(average_embedding_scaled.T.shape[1])])"
   ]
  },
  {
   "cell_type": "code",
   "execution_count": 112,
   "metadata": {},
   "outputs": [],
   "source": [
    "average_embedding_scaled_df_ri = average_embedding_scaled_df.reset_index()"
   ]
  },
  {
   "cell_type": "code",
   "execution_count": null,
   "metadata": {},
   "outputs": [],
   "source": []
  },
  {
   "cell_type": "code",
   "execution_count": 113,
   "metadata": {},
   "outputs": [],
   "source": [
    "average_embedding_df_ri.to_feather('noun_sentences/' + file + '_average_embedding_' + column + '_nounsentences.fea')"
   ]
  },
  {
   "cell_type": "code",
   "execution_count": 114,
   "metadata": {},
   "outputs": [],
   "source": [
    "average_embedding_amplitute_df_ri.to_feather('noun_sentences/' + file + '_average_embedding_amplitute_' + column + '_nounsentences.fea')"
   ]
  },
  {
   "cell_type": "code",
   "execution_count": 115,
   "metadata": {},
   "outputs": [],
   "source": [
    "average_embedding_scaled_df_ri.to_feather('noun_sentences/' + file + '_average_embedding_scaled_' + column + '_nounsentences.fea')"
   ]
  },
  {
   "cell_type": "code",
   "execution_count": null,
   "metadata": {},
   "outputs": [],
   "source": []
  },
  {
   "cell_type": "code",
   "execution_count": null,
   "metadata": {},
   "outputs": [],
   "source": []
  },
  {
   "cell_type": "code",
   "execution_count": null,
   "metadata": {},
   "outputs": [],
   "source": []
  },
  {
   "cell_type": "code",
   "execution_count": null,
   "metadata": {},
   "outputs": [],
   "source": []
  },
  {
   "cell_type": "code",
   "execution_count": 50,
   "metadata": {},
   "outputs": [
    {
     "data": {
      "text/plain": [
       "array([-0.37683473,  0.035884  ,  0.0590402 , -0.04883011,  0.34325438,\n",
       "        0.12926148, -0.18498329,  0.23418822, -0.19649611, -0.1373379 ,\n",
       "        0.2210825 , -0.49012852, -0.31500655, -0.3747166 , -0.29961256,\n",
       "        0.27185341, -0.21186943,  0.65476161,  0.26238276, -0.23449908,\n",
       "        0.02538601,  0.34724928, -0.0047324 , -0.24433146, -0.21209889,\n",
       "       -0.00407203,  0.43325028, -0.37561962,  0.38583425,  0.04677294,\n",
       "       -0.35496851,  0.09568775, -0.18859726,  0.05110905,  0.07363947,\n",
       "        0.34127082,  0.46116128,  1.02452433, -0.45847759, -0.20930329,\n",
       "        0.13556984,  0.10058103,  0.42911728, -1.04896008, -1.10621229,\n",
       "       -0.16631508, -0.76797356, -0.2751477 , -0.16998969,  0.31200927,\n",
       "        0.40629243,  0.19470213,  0.57500671, -0.26008659,  0.10099304,\n",
       "       -0.06664543,  0.07793587, -0.08818377,  1.12288803,  0.27676028,\n",
       "       -0.05857448, -0.15424448, -0.1339778 ,  0.39750672,  0.20483523,\n",
       "        0.48482827, -0.27315934, -0.8837146 ,  0.24806508,  0.23486404,\n",
       "       -0.43921473, -0.43138174,  0.21754524,  0.13594655,  0.68136892,\n",
       "        0.55018238,  0.17707951, -0.21364318, -0.05967895, -0.07521789,\n",
       "        0.40402548,  0.65232931, -0.94151684, -0.29048475, -0.10057116,\n",
       "        0.2163548 ,  0.21921978, -0.11245655,  0.16396447, -0.34807319,\n",
       "       -0.13532791, -0.29989222,  0.7338728 , -0.17206894,  0.14203434,\n",
       "       -0.15918415, -0.48714259, -0.14456749, -0.50927089, -0.08926913,\n",
       "       -0.11071781, -0.28702789, -0.80401706,  0.3942594 ,  0.21874114,\n",
       "        0.11638954, -0.07320114, -0.290881  , -0.11722156, -0.02326841,\n",
       "        0.1784125 ,  0.34464125, -0.69216196,  0.33344075,  0.13828457,\n",
       "        0.13399106, -0.10561195, -0.08086416,  0.52863286,  0.31851475,\n",
       "       -0.21591449,  0.00336852,  0.26962664,  0.46226338, -0.64096221,\n",
       "        0.60315246, -0.12016492,  0.55702432, -0.32850728, -0.25745027,\n",
       "        0.1533819 ,  0.48343095,  0.78518952, -0.07952245,  0.38334016,\n",
       "        0.20009334,  0.67890327,  0.33250954,  0.37951398, -0.06963042,\n",
       "       -0.65807729, -0.43597583,  0.44950357, -0.20412675, -0.46346208,\n",
       "       -0.06368975, -0.25036852,  0.31274966, -0.33026466, -0.14275413,\n",
       "        0.36949276,  0.26171911, -0.5692374 , -0.20676553,  0.16489978,\n",
       "       -0.81175564, -0.02677309, -1.01437641,  0.19692848,  0.15421313,\n",
       "       -0.5222936 , -0.43194144, -0.14855024,  0.80080451, -0.11996459,\n",
       "       -0.04038788,  0.98149046,  0.3426009 , -0.52419   , -0.33370381,\n",
       "       -0.07175375,  0.5035337 , -0.0925008 ,  0.44614802, -0.52736953,\n",
       "        0.40175518,  0.66204595, -0.24842552, -0.02481753, -0.50844638,\n",
       "        0.36948705,  0.40915804,  0.65282144, -0.09701938, -0.06116406,\n",
       "        0.08069522,  0.0029968 , -0.11448571,  0.19048982,  0.06954512,\n",
       "       -0.04202374, -0.06493178,  1.05311149,  0.78504505, -0.28800325,\n",
       "       -0.30739917,  0.31989609,  0.03071396,  0.24203057,  0.24539241,\n",
       "       -0.50669391, -0.21712233, -0.35539517,  0.68611861, -0.38929433,\n",
       "        0.11633191, -0.22649539, -0.1834916 , -0.24090807, -0.39735867,\n",
       "       -0.52813852, -0.33219553, -0.34213291, -0.35712871, -0.58241683,\n",
       "       -0.09635502,  0.05256556, -0.49046246,  0.23101754,  0.46076696,\n",
       "       -0.07962901, -0.10644139, -0.1592204 , -0.27798116,  0.12531767,\n",
       "        0.15294474, -0.66313707,  0.17775035,  0.06289913, -0.0177526 ,\n",
       "        0.123054  , -0.17085909, -0.11566647,  1.26509693, -0.19570787,\n",
       "       -0.19964511,  0.04828523,  0.21620338,  0.15348903, -0.3509409 ,\n",
       "        0.9314872 ,  0.20774147,  0.54539531, -0.12258454,  0.49985448,\n",
       "        0.33230618,  0.24165141,  0.34233751, -0.10319783,  0.37462719,\n",
       "        0.23589036,  0.12710296, -0.72395338,  0.06635874, -0.6515834 ,\n",
       "        0.29130079,  0.59377604, -0.44572577,  0.04008388, -0.17018297,\n",
       "       -0.17033116,  0.059945  ,  0.62536753,  0.2198394 ,  0.17693553,\n",
       "        0.08016126,  0.14506673,  0.32886412,  0.25758275,  0.30738053,\n",
       "        0.85570383,  0.01670405, -0.43561775, -0.16485651, -0.15825254,\n",
       "       -0.25921675, -0.32368517,  0.19962557,  0.36500684,  0.1997624 ,\n",
       "       -0.11045477, -0.24847105, -0.60046261,  0.03769839, -0.34354913,\n",
       "       -0.45432211,  0.0529912 , -0.03161141, -0.4165626 , -0.20674591,\n",
       "       -0.2211104 ,  0.1649117 ,  0.60069516,  0.15517588,  0.17648639,\n",
       "        0.28410322, -0.26972752, -0.13964809,  0.04579515,  0.1502105 ,\n",
       "       -0.01514137, -0.18549883, -0.10000947, -0.63899121,  0.1855891 ,\n",
       "        0.31263282, -0.02896122,  0.36549209, -0.38792448,  0.12891965,\n",
       "       -0.60563993,  0.07368204,  0.4782158 ,  0.30240654,  0.11490164,\n",
       "        0.01906961,  0.54709948,  0.18319055, -0.35482787,  0.14327422,\n",
       "        0.1267012 , -0.04126338,  0.51966218,  0.06954935, -0.38150046,\n",
       "       -0.21523837,  0.55596516,  0.28662616, -0.45567196,  0.22576916,\n",
       "       -0.15407943, -0.37344322,  0.2101629 ,  0.51887198, -0.91589222,\n",
       "        0.04765226,  0.60963166,  0.41778523, -0.06553768,  0.3266858 ,\n",
       "       -0.26085136,  0.62396516, -0.12521044, -0.29503776,  0.44842088,\n",
       "       -0.43599443, -0.29646347,  0.03057322, -0.46914624, -0.20421051,\n",
       "       -0.00808793, -0.00152517,  0.22464381,  0.08523013, -0.37362359,\n",
       "        0.22791489, -1.5185493 ,  0.39820828,  0.25632378, -0.1602373 ,\n",
       "       -0.55855819, -0.21763294,  0.82400216, -0.02704869,  0.3006307 ,\n",
       "        0.02710693,  0.78895472,  0.28273561,  0.11075862, -0.35993067,\n",
       "       -0.34741173,  0.44816452, -0.21613697, -0.07911805,  0.14842105,\n",
       "       -0.12811467,  0.18096779, -0.7492919 , -0.24736069, -0.42316785,\n",
       "       -0.01550376,  0.09652723,  0.43542125,  0.15392679,  0.2468866 ,\n",
       "        0.46850218, -0.4437072 ,  0.00634877, -0.23690193,  0.4249385 ,\n",
       "       -0.18070122,  0.3865551 , -0.38578081,  0.11042567, -0.09156257,\n",
       "        0.02858994, -0.12275984, -0.24939751, -0.55500374, -0.24398609,\n",
       "       -0.17174634,  0.46631261, -0.10064054, -0.00571482,  0.01702052,\n",
       "        0.26340061,  0.19841936, -0.01576302, -0.0936801 ,  0.02404094,\n",
       "       -0.21918008, -0.57997756,  0.49632279, -0.15304747,  0.00184059,\n",
       "        0.00773708, -0.21519405,  0.01436163,  0.17338415, -0.05148635,\n",
       "        0.14606216,  0.31902419,  0.0764747 ,  0.17519973,  0.53461997,\n",
       "        0.14852341, -0.05397656,  0.45766698,  0.16266063,  0.11495427,\n",
       "        0.40616159,  0.16869322,  0.18579393, -0.48846993,  0.01544024,\n",
       "       -0.91344417, -0.72477125,  0.02110872, -0.35967286, -0.47789023,\n",
       "        0.13591442, -0.30191261, -0.03191665,  0.46300723, -0.12577512,\n",
       "        0.50005214, -0.19068732, -0.01411984,  0.15287713, -0.01909732,\n",
       "       -0.09762094,  0.02407709, -0.15691319, -0.22758541,  0.25996123,\n",
       "        0.57617185, -0.10057373,  0.23015364,  0.27950846,  0.54702093,\n",
       "        0.03350076, -0.32492227,  0.09419103, -0.17208124, -0.18090728,\n",
       "       -0.67755146, -0.1905903 ,  0.20092381,  0.0488893 ,  0.4277997 ,\n",
       "       -0.35128218, -0.09371532, -0.12937053,  0.21243414,  0.08158244,\n",
       "       -0.07519488, -0.35188363,  0.23581869,  0.70284775, -0.67740537,\n",
       "       -0.19189405, -0.3548603 ,  0.4976718 ,  0.17017685,  0.02611128,\n",
       "       -0.48263024,  0.04853799,  0.28424278,  0.05809103, -0.00600037,\n",
       "       -0.47366817,  0.08036644, -0.31569932, -0.24343099, -0.3920119 ,\n",
       "       -0.28583936,  0.13140797, -0.06175945,  0.33462816, -0.15735514,\n",
       "        0.21432394,  0.41472471,  0.61862292, -1.48763831,  0.53099877,\n",
       "        0.66342741, -0.32141948,  0.03407087, -0.18683973, -0.24581247,\n",
       "        0.3692096 ,  0.03190519])"
      ]
     },
     "execution_count": 50,
     "metadata": {},
     "output_type": "execute_result"
    }
   ],
   "source": [
    "output[8]"
   ]
  },
  {
   "cell_type": "code",
   "execution_count": null,
   "metadata": {},
   "outputs": [],
   "source": []
  },
  {
   "cell_type": "code",
   "execution_count": null,
   "metadata": {},
   "outputs": [],
   "source": []
  },
  {
   "cell_type": "code",
   "execution_count": null,
   "metadata": {},
   "outputs": [],
   "source": []
  },
  {
   "cell_type": "code",
   "execution_count": null,
   "metadata": {},
   "outputs": [],
   "source": [
    "plt.plot(output[3][])"
   ]
  },
  {
   "cell_type": "code",
   "execution_count": null,
   "metadata": {},
   "outputs": [],
   "source": [
    "plt.close('all')\n",
    "plt.plot(output[4])"
   ]
  },
  {
   "cell_type": "code",
   "execution_count": null,
   "metadata": {},
   "outputs": [],
   "source": [
    "plt.plot(np.abs(output[3][:,0]))\n"
   ]
  },
  {
   "cell_type": "code",
   "execution_count": null,
   "metadata": {},
   "outputs": [],
   "source": [
    "for idd,key in enumerate(output[1]):\n",
    "    print(idd,key, np.abs(output[3][:,0])[idd])\n",
    "    "
   ]
  },
  {
   "cell_type": "code",
   "execution_count": null,
   "metadata": {},
   "outputs": [],
   "source": [
    "output[1]"
   ]
  },
  {
   "cell_type": "code",
   "execution_count": null,
   "metadata": {},
   "outputs": [],
   "source": [
    "plt.close('all')\n",
    "plt.plot(output[6])"
   ]
  },
  {
   "cell_type": "code",
   "execution_count": null,
   "metadata": {},
   "outputs": [],
   "source": [
    "output[3].shape"
   ]
  },
  {
   "cell_type": "code",
   "execution_count": null,
   "metadata": {},
   "outputs": [],
   "source": [
    "plt.plot(output[3][:,0])"
   ]
  },
  {
   "cell_type": "code",
   "execution_count": null,
   "metadata": {},
   "outputs": [],
   "source": [
    "plt.plot(output[3][:,1])"
   ]
  },
  {
   "cell_type": "code",
   "execution_count": null,
   "metadata": {},
   "outputs": [],
   "source": [
    "plt.plot(output[4])"
   ]
  },
  {
   "cell_type": "code",
   "execution_count": null,
   "metadata": {},
   "outputs": [],
   "source": [
    "# DO SENTIMENT ON COMBINED NOUN SENTENCES -  combine this with ngram percentile..."
   ]
  },
  {
   "cell_type": "code",
   "execution_count": null,
   "metadata": {},
   "outputs": [],
   "source": [
    "gfg = TextBlob(df_sales['clean_publicremarks'].values[house])\n",
    "print('# words', len(gfg.words))\n",
    "      \n",
    "# using TextBlob.word_counts() method\n",
    "gfg = gfg.np_counts\n",
    "gfg"
   ]
  },
  {
   "cell_type": "code",
   "execution_count": null,
   "metadata": {},
   "outputs": [],
   "source": []
  },
  {
   "cell_type": "code",
   "execution_count": null,
   "metadata": {},
   "outputs": [],
   "source": []
  },
  {
   "cell_type": "code",
   "execution_count": null,
   "metadata": {},
   "outputs": [],
   "source": []
  },
  {
   "cell_type": "code",
   "execution_count": null,
   "metadata": {},
   "outputs": [],
   "source": [
    "\n",
    "\n",
    "\n",
    "sent = df_sales['clean_publicremarks'].values[500]\n",
    "text= pos_tag(word_tokenize(sent))\n",
    "print(text)\n",
    "\n",
    "from collections import Counter\n",
    "count= Counter([j for i,j in pos_tag(word_tokenize(sent))])\n",
    "print(count)\n",
    "print(list(count))\n",
    "count['PDT']"
   ]
  },
  {
   "cell_type": "code",
   "execution_count": null,
   "metadata": {},
   "outputs": [],
   "source": [
    "array = np.zeros([512,20])\n",
    "\n"
   ]
  },
  {
   "cell_type": "code",
   "execution_count": null,
   "metadata": {},
   "outputs": [],
   "source": [
    "sin = np.sin(np.arange(0,512)/511*4*np.pi)"
   ]
  },
  {
   "cell_type": "code",
   "execution_count": null,
   "metadata": {},
   "outputs": [],
   "source": [
    "plt.plot(sin)"
   ]
  },
  {
   "cell_type": "code",
   "execution_count": null,
   "metadata": {},
   "outputs": [],
   "source": [
    "for i in range(20):\n",
    "    array[:,i] = sin*i"
   ]
  },
  {
   "cell_type": "code",
   "execution_count": null,
   "metadata": {},
   "outputs": [],
   "source": [
    "plt.imshow(array)"
   ]
  },
  {
   "cell_type": "code",
   "execution_count": null,
   "metadata": {},
   "outputs": [],
   "source": [
    "out = noun_sentences.pca_analysis(array)"
   ]
  },
  {
   "cell_type": "code",
   "execution_count": null,
   "metadata": {},
   "outputs": [],
   "source": [
    "out[0].shape"
   ]
  },
  {
   "cell_type": "code",
   "execution_count": null,
   "metadata": {},
   "outputs": [],
   "source": [
    "\n",
    "plt.plot(out[0][:,1])"
   ]
  },
  {
   "cell_type": "code",
   "execution_count": null,
   "metadata": {},
   "outputs": [],
   "source": [
    "plt.plot(out[1])"
   ]
  },
  {
   "cell_type": "code",
   "execution_count": null,
   "metadata": {},
   "outputs": [],
   "source": []
  }
 ],
 "metadata": {
  "kernelspec": {
   "display_name": "Python 3",
   "language": "python",
   "name": "python3"
  },
  "language_info": {
   "codemirror_mode": {
    "name": "ipython",
    "version": 3
   },
   "file_extension": ".py",
   "mimetype": "text/x-python",
   "name": "python",
   "nbconvert_exporter": "python",
   "pygments_lexer": "ipython3",
   "version": "3.6.10"
  }
 },
 "nbformat": 4,
 "nbformat_minor": 4
}
