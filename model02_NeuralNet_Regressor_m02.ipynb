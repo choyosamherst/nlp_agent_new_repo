{
 "cells": [
  {
   "cell_type": "code",
   "execution_count": 1,
   "metadata": {},
   "outputs": [],
   "source": [
    "import pandas as pd\n",
    "import numpy as np\n",
    "import matplotlib.pyplot as plt\n",
    "import matplotlib.dates as mdates\n",
    "from matplotlib.dates import DateFormatter\n",
    "from datetime import date, datetime\n",
    "\n",
    "from sklearn.metrics import confusion_matrix\n",
    "from sklearn.metrics import normalized_mutual_info_score, mutual_info_score\n",
    "from sklearn.feature_selection import mutual_info_regression\n",
    "\n",
    "from sklearn.preprocessing import KBinsDiscretizer\n",
    "from sklearn.preprocessing import MaxAbsScaler\n",
    "from sklearn.preprocessing import StandardScaler\n",
    "from sklearn.preprocessing import MinMaxScaler\n",
    "\n",
    "from sklearn.linear_model import LinearRegression\n",
    "\n",
    "from sklearn.pipeline import Pipeline\n",
    "\n",
    "from matplotlib import colors\n",
    "import seaborn as sns\n",
    "\n",
    "\n",
    "import tensorflow as tf\n",
    "from tensorflow import keras\n",
    "from tensorflow.keras import layers\n",
    "from tensorflow.keras import optimizers"
   ]
  },
  {
   "cell_type": "code",
   "execution_count": 2,
   "metadata": {},
   "outputs": [],
   "source": [
    "sns.set_style(\"whitegrid\")"
   ]
  },
  {
   "cell_type": "code",
   "execution_count": 3,
   "metadata": {},
   "outputs": [],
   "source": [
    "str_state = 'GA'\n",
    "file = 'agent_comments_sales_'+str_state\n"
   ]
  },
  {
   "cell_type": "code",
   "execution_count": null,
   "metadata": {},
   "outputs": [],
   "source": []
  },
  {
   "cell_type": "code",
   "execution_count": 4,
   "metadata": {},
   "outputs": [],
   "source": [
    "df_sales_predictors = pd.read_feather(file + '_model02.fea') \n",
    "df_Predictand = pd.read_feather(file + '_predictand.fea') "
   ]
  },
  {
   "cell_type": "code",
   "execution_count": null,
   "metadata": {},
   "outputs": [],
   "source": []
  },
  {
   "cell_type": "code",
   "execution_count": 5,
   "metadata": {},
   "outputs": [],
   "source": [
    "predictor_array = df_sales_predictors.to_numpy()\n",
    "#predictor_array = predictor_array[:, -3:]\n",
    "transform_predictors = MinMaxScaler(feature_range=(-6, 6)).fit(predictor_array)\n",
    "predictor_array_transformed = transform_predictors.transform(predictor_array)\n",
    "#predictor_array_transformed2 = transform_predictors.transform(predictor_array)\n",
    "#predictor_array_transformed = predictor_array"
   ]
  },
  {
   "cell_type": "code",
   "execution_count": null,
   "metadata": {},
   "outputs": [],
   "source": []
  },
  {
   "cell_type": "code",
   "execution_count": 6,
   "metadata": {},
   "outputs": [
    {
     "data": {
      "text/plain": [
       "numpy.ndarray"
      ]
     },
     "execution_count": 6,
     "metadata": {},
     "output_type": "execute_result"
    }
   ],
   "source": [
    "type(predictor_array_transformed)"
   ]
  },
  {
   "cell_type": "code",
   "execution_count": 7,
   "metadata": {},
   "outputs": [
    {
     "data": {
      "text/plain": [
       "(534378, 513)"
      ]
     },
     "execution_count": 7,
     "metadata": {},
     "output_type": "execute_result"
    }
   ],
   "source": [
    "predictor_array.shape"
   ]
  },
  {
   "cell_type": "code",
   "execution_count": 8,
   "metadata": {},
   "outputs": [
    {
     "name": "stdout",
     "output_type": "stream",
     "text": [
      "513\n"
     ]
    }
   ],
   "source": [
    "print(len(df_sales_predictors.columns))"
   ]
  },
  {
   "cell_type": "code",
   "execution_count": null,
   "metadata": {},
   "outputs": [],
   "source": []
  },
  {
   "cell_type": "code",
   "execution_count": 9,
   "metadata": {},
   "outputs": [],
   "source": [
    "Predictand = df_Predictand['Transprice'].values"
   ]
  },
  {
   "cell_type": "code",
   "execution_count": 10,
   "metadata": {},
   "outputs": [
    {
     "data": {
      "text/plain": [
       "[<matplotlib.lines.Line2D at 0x7f4145aa1908>]"
      ]
     },
     "execution_count": 10,
     "metadata": {},
     "output_type": "execute_result"
    },
    {
     "data": {
      "image/png": "[encoded data removed]",
      "text/plain": [
       "<Figure size 432x288 with 1 Axes>"
      ]
     },
     "metadata": {},
     "output_type": "display_data"
    }
   ],
   "source": [
    "plt.plot(Predictand)"
   ]
  },
  {
   "cell_type": "code",
   "execution_count": 11,
   "metadata": {},
   "outputs": [],
   "source": [
    "transform_predictand = MinMaxScaler(feature_range=(0, 1)).fit(Predictand.reshape(-1, 1))\n",
    "Predictand_transformed = transform_predictand.transform(Predictand.reshape(-1, 1))"
   ]
  },
  {
   "cell_type": "code",
   "execution_count": 12,
   "metadata": {},
   "outputs": [
    {
     "data": {
      "text/plain": [
       "[<matplotlib.lines.Line2D at 0x7f4145a8bbe0>]"
      ]
     },
     "execution_count": 12,
     "metadata": {},
     "output_type": "execute_result"
    },
    {
     "data": {
      "image/png": "[encoded data removed]",
      "text/plain": [
       "<Figure size 432x288 with 1 Axes>"
      ]
     },
     "metadata": {},
     "output_type": "display_data"
    }
   ],
   "source": [
    "plt.plot(Predictand_transformed)"
   ]
  },
  {
   "cell_type": "code",
   "execution_count": 13,
   "metadata": {},
   "outputs": [],
   "source": [
    "\n",
    "#cov_2 = np.dot (predictor_array_transformed, predictor_array_transformed.T)\n",
    "#print(cov_2.shape)\n"
   ]
  },
  {
   "cell_type": "code",
   "execution_count": 14,
   "metadata": {},
   "outputs": [
    {
     "data": {
      "text/plain": [
       "(534378, 513)"
      ]
     },
     "execution_count": 14,
     "metadata": {},
     "output_type": "execute_result"
    }
   ],
   "source": [
    "predictor_array_transformed.shape"
   ]
  },
  {
   "cell_type": "code",
   "execution_count": 15,
   "metadata": {},
   "outputs": [
    {
     "data": {
      "text/plain": [
       "(534378, 1)"
      ]
     },
     "execution_count": 15,
     "metadata": {},
     "output_type": "execute_result"
    }
   ],
   "source": [
    "Predictand_transformed.shape"
   ]
  },
  {
   "cell_type": "code",
   "execution_count": 16,
   "metadata": {},
   "outputs": [],
   "source": [
    "from sklearn.model_selection import train_test_split"
   ]
  },
  {
   "cell_type": "code",
   "execution_count": 28,
   "metadata": {},
   "outputs": [],
   "source": [
    "train_samples = 300_000  # Samples used for training the models\n",
    "X_train, X_test, y_train, y_test = train_test_split(\n",
    "    predictor_array_transformed,\n",
    "    Predictand_transformed,\n",
    "    shuffle=False,\n",
    "    test_size=len(Predictand_transformed) - train_samples,\n",
    ")"
   ]
  },
  {
   "cell_type": "code",
   "execution_count": null,
   "metadata": {},
   "outputs": [],
   "source": []
  },
  {
   "cell_type": "code",
   "execution_count": 29,
   "metadata": {},
   "outputs": [],
   "source": [
    "# Model definition\n",
    "\n",
    "model_NN_Class = keras.Sequential()\n",
    "model_NN_Class.add(keras.layers.Dense(300, activation='sigmoid', input_dim=513))\n",
    "model_NN_Class.add(keras.layers.Dense(100, activation='sigmoid'))\n",
    "model_NN_Class.add(keras.layers.Dense(1, activation='sigmoid', use_bias = True))\n"
   ]
  },
  {
   "cell_type": "code",
   "execution_count": 30,
   "metadata": {},
   "outputs": [],
   "source": [
    "model_NN_Class.compile(loss='mse', optimizer='adam')"
   ]
  },
  {
   "cell_type": "code",
   "execution_count": null,
   "metadata": {},
   "outputs": [],
   "source": []
  },
  {
   "cell_type": "code",
   "execution_count": 31,
   "metadata": {},
   "outputs": [
    {
     "name": "stdout",
     "output_type": "stream",
     "text": [
      "Epoch 1/50\n",
      "3000/3000 [==============================] - 24s 8ms/step - loss: 7.1278e-04\n",
      "Epoch 2/50\n",
      "3000/3000 [==============================] - 23s 8ms/step - loss: 1.7467e-04\n",
      "Epoch 3/50\n",
      "3000/3000 [==============================] - 24s 8ms/step - loss: 1.5248e-04\n",
      "Epoch 4/50\n",
      "3000/3000 [==============================] - 24s 8ms/step - loss: 1.3498e-04\n",
      "Epoch 5/50\n",
      "3000/3000 [==============================] - 24s 8ms/step - loss: 1.3208e-04\n",
      "Epoch 6/50\n",
      "3000/3000 [==============================] - 23s 8ms/step - loss: 1.2651e-04\n",
      "Epoch 7/50\n",
      "3000/3000 [==============================] - 24s 8ms/step - loss: 1.2529e-04\n",
      "Epoch 8/50\n",
      "3000/3000 [==============================] - 24s 8ms/step - loss: 1.2248e-04\n",
      "Epoch 9/50\n",
      "3000/3000 [==============================] - 25s 8ms/step - loss: 1.1862e-04\n",
      "Epoch 10/50\n",
      "3000/3000 [==============================] - 23s 8ms/step - loss: 1.1886e-04\n",
      "Epoch 11/50\n",
      "3000/3000 [==============================] - 25s 8ms/step - loss: 1.1663e-04\n",
      "Epoch 12/50\n",
      "3000/3000 [==============================] - 24s 8ms/step - loss: 1.1388e-04\n",
      "Epoch 13/50\n",
      "3000/3000 [==============================] - 24s 8ms/step - loss: 1.1315e-04\n",
      "Epoch 14/50\n",
      "3000/3000 [==============================] - 24s 8ms/step - loss: 1.1023e-04\n",
      "Epoch 15/50\n",
      "3000/3000 [==============================] - 24s 8ms/step - loss: 1.0917e-04\n",
      "Epoch 16/50\n",
      "3000/3000 [==============================] - 25s 8ms/step - loss: 1.0391e-04\n",
      "Epoch 17/50\n",
      "3000/3000 [==============================] - 23s 8ms/step - loss: 1.0983e-04\n",
      "Epoch 18/50\n",
      "3000/3000 [==============================] - 24s 8ms/step - loss: 1.0278e-04\n",
      "Epoch 19/50\n",
      "3000/3000 [==============================] - 24s 8ms/step - loss: 1.0013e-04\n",
      "Epoch 20/50\n",
      "3000/3000 [==============================] - 23s 8ms/step - loss: 1.0244e-04\n",
      "Epoch 21/50\n",
      "3000/3000 [==============================] - 23s 8ms/step - loss: 9.7641e-05\n",
      "Epoch 22/50\n",
      "3000/3000 [==============================] - 23s 8ms/step - loss: 9.6682e-05\n",
      "Epoch 23/50\n",
      "3000/3000 [==============================] - 24s 8ms/step - loss: 9.5774e-05\n",
      "Epoch 24/50\n",
      "3000/3000 [==============================] - 24s 8ms/step - loss: 9.2937e-05\n",
      "Epoch 25/50\n",
      "3000/3000 [==============================] - 24s 8ms/step - loss: 9.1994e-05\n",
      "Epoch 26/50\n",
      "3000/3000 [==============================] - 24s 8ms/step - loss: 9.0524e-05\n",
      "Epoch 27/50\n",
      "3000/3000 [==============================] - 24s 8ms/step - loss: 8.8453e-05\n",
      "Epoch 28/50\n",
      "3000/3000 [==============================] - 24s 8ms/step - loss: 9.0253e-05\n",
      "Epoch 29/50\n",
      "3000/3000 [==============================] - 24s 8ms/step - loss: 8.7411e-05\n",
      "Epoch 30/50\n",
      "3000/3000 [==============================] - 24s 8ms/step - loss: 8.6724e-05\n",
      "Epoch 31/50\n",
      "3000/3000 [==============================] - 24s 8ms/step - loss: 8.4434e-05\n",
      "Epoch 32/50\n",
      "3000/3000 [==============================] - 24s 8ms/step - loss: 8.2850e-05\n",
      "Epoch 33/50\n",
      "3000/3000 [==============================] - 24s 8ms/step - loss: 8.3047e-05\n",
      "Epoch 34/50\n",
      "3000/3000 [==============================] - 24s 8ms/step - loss: 8.5308e-05\n",
      "Epoch 35/50\n",
      "3000/3000 [==============================] - 24s 8ms/step - loss: 8.2737e-05\n",
      "Epoch 36/50\n",
      "3000/3000 [==============================] - 25s 8ms/step - loss: 8.0589e-05\n",
      "Epoch 37/50\n",
      "3000/3000 [==============================] - 23s 8ms/step - loss: 8.1007e-05\n",
      "Epoch 38/50\n",
      "3000/3000 [==============================] - 23s 8ms/step - loss: 7.9096e-05\n",
      "Epoch 39/50\n",
      "3000/3000 [==============================] - 22s 7ms/step - loss: 7.9151e-05\n",
      "Epoch 40/50\n",
      "3000/3000 [==============================] - 23s 8ms/step - loss: 7.9303e-05\n",
      "Epoch 41/50\n",
      "3000/3000 [==============================] - 22s 7ms/step - loss: 7.7443e-05\n",
      "Epoch 42/50\n",
      "3000/3000 [==============================] - 23s 8ms/step - loss: 7.6387e-05\n",
      "Epoch 43/50\n",
      "3000/3000 [==============================] - 22s 7ms/step - loss: 7.6272e-05\n",
      "Epoch 44/50\n",
      "3000/3000 [==============================] - 22s 7ms/step - loss: 7.5781e-05\n",
      "Epoch 45/50\n",
      "3000/3000 [==============================] - 22s 7ms/step - loss: 7.5677e-05\n",
      "Epoch 46/50\n",
      "3000/3000 [==============================] - 22s 7ms/step - loss: 7.5028e-05\n",
      "Epoch 47/50\n",
      "3000/3000 [==============================] - 22s 7ms/step - loss: 7.4767e-05\n",
      "Epoch 48/50\n",
      "3000/3000 [==============================] - 22s 7ms/step - loss: 7.2922e-05\n",
      "Epoch 49/50\n",
      "3000/3000 [==============================] - 22s 7ms/step - loss: 7.1835e-05\n",
      "Epoch 50/50\n",
      "3000/3000 [==============================] - 22s 7ms/step - loss: 7.0430e-05\n"
     ]
    }
   ],
   "source": [
    "fit_history = model_NN_Class.fit(X_train, y_train, epochs=50, batch_size= 100)"
   ]
  },
  {
   "cell_type": "code",
   "execution_count": 32,
   "metadata": {},
   "outputs": [],
   "source": [
    "predictions = model_NN_Class.predict(X_train)"
   ]
  },
  {
   "cell_type": "code",
   "execution_count": 33,
   "metadata": {},
   "outputs": [],
   "source": [
    "#predictions = (predictions - predictions.min())\n",
    "#predictions = predictions/(predictions.max()) *2. -1"
   ]
  },
  {
   "cell_type": "code",
   "execution_count": 34,
   "metadata": {},
   "outputs": [
    {
     "data": {
      "text/plain": [
       "(300000, 1)"
      ]
     },
     "execution_count": 34,
     "metadata": {},
     "output_type": "execute_result"
    }
   ],
   "source": [
    "predictions.shape"
   ]
  },
  {
   "cell_type": "code",
   "execution_count": 35,
   "metadata": {},
   "outputs": [
    {
     "data": {
      "text/plain": [
       "(300000, 1)"
      ]
     },
     "execution_count": 35,
     "metadata": {},
     "output_type": "execute_result"
    }
   ],
   "source": [
    "y_train.shape"
   ]
  },
  {
   "cell_type": "code",
   "execution_count": 36,
   "metadata": {},
   "outputs": [
    {
     "data": {
      "text/plain": [
       "[<matplotlib.lines.Line2D at 0x7f411c4c14a8>]"
      ]
     },
     "execution_count": 36,
     "metadata": {},
     "output_type": "execute_result"
    },
    {
     "data": {
      "image/png": "[encoded data removed]",
      "text/plain": [
       "<Figure size 432x288 with 1 Axes>"
      ]
     },
     "metadata": {},
     "output_type": "display_data"
    }
   ],
   "source": [
    "plt.plot(predictions.reshape(len(y_train)), y_train.reshape(len(y_train)),'o')\n",
    "#plt.plot(y_train.reshape(len(y_train)), y_train.reshape(len(y_train)))"
   ]
  },
  {
   "cell_type": "code",
   "execution_count": 37,
   "metadata": {},
   "outputs": [
    {
     "data": {
      "text/plain": [
       "[<matplotlib.lines.Line2D at 0x7f411c447940>]"
      ]
     },
     "execution_count": 37,
     "metadata": {},
     "output_type": "execute_result"
    },
    {
     "data": {
      "image/png": "[encoded data removed]",
      "text/plain": [
       "<Figure size 432x288 with 1 Axes>"
      ]
     },
     "metadata": {},
     "output_type": "display_data"
    }
   ],
   "source": [
    "predictions_test = model_NN_Class.predict(X_test)\n",
    "plt.plot(predictions_test.reshape(len(y_test)), y_test.reshape(len(y_test)),'o')"
   ]
  },
  {
   "cell_type": "code",
   "execution_count": 38,
   "metadata": {},
   "outputs": [
    {
     "data": {
      "text/plain": [
       "[<matplotlib.lines.Line2D at 0x7f411c3b0898>]"
      ]
     },
     "execution_count": 38,
     "metadata": {},
     "output_type": "execute_result"
    },
    {
     "data": {
      "image/png": "[encoded data removed]",
      "text/plain": [
       "<Figure size 432x288 with 1 Axes>"
      ]
     },
     "metadata": {},
     "output_type": "display_data"
    }
   ],
   "source": [
    "plt.plot(transform_predictand.inverse_transform(predictions_test), \n",
    "         transform_predictand.inverse_transform(y_test),'o')\n",
    "\n",
    "plt.plot(transform_predictors.inverse_transform(X_test)[:,-1], \n",
    "         transform_predictand.inverse_transform(y_test),'o')\n",
    "\n",
    "plt.plot(transform_predictand.inverse_transform(y_test),transform_predictand.inverse_transform(y_test))"
   ]
  },
  {
   "cell_type": "code",
   "execution_count": null,
   "metadata": {},
   "outputs": [],
   "source": []
  },
  {
   "cell_type": "code",
   "execution_count": null,
   "metadata": {},
   "outputs": [],
   "source": []
  },
  {
   "cell_type": "code",
   "execution_count": null,
   "metadata": {},
   "outputs": [],
   "source": []
  },
  {
   "cell_type": "code",
   "execution_count": 30,
   "metadata": {},
   "outputs": [],
   "source": [
    "def plot_loss(history):\n",
    "    plt.plot(history.history['loss'], label='loss')\n",
    "    plt.plot(history.history['val_loss'], label='val_loss')\n",
    "    plt.ylim([0, 10])\n",
    "    plt.xlabel('Epoch')\n",
    "    plt.ylabel('Error [MPG]')\n",
    "    plt.legend()\n",
    "    plt.grid(True)"
   ]
  },
  {
   "cell_type": "code",
   "execution_count": null,
   "metadata": {},
   "outputs": [],
   "source": []
  }
 ],
 "metadata": {
  "kernelspec": {
   "display_name": "Python 3",
   "language": "python",
   "name": "python3"
  },
  "language_info": {
   "codemirror_mode": {
    "name": "ipython",
    "version": 3
   },
   "file_extension": ".py",
   "mimetype": "text/x-python",
   "name": "python",
   "nbconvert_exporter": "python",
   "pygments_lexer": "ipython3",
   "version": "3.6.10"
  }
 },
 "nbformat": 4,
 "nbformat_minor": 4
}
