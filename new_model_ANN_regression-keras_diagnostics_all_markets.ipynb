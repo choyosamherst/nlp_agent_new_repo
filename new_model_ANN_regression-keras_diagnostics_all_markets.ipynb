{
 "cells": [
  {
   "cell_type": "code",
   "execution_count": 4,
   "metadata": {},
   "outputs": [],
   "source": [
    "from sklearn.ensemble import RandomForestRegressor\n",
    "from sklearn.datasets import make_regression\n",
    "\n",
    "import pandas as pd\n",
    "import numpy as np\n",
    "import matplotlib.pyplot as plt\n",
    "\n",
    "\n",
    "from sklearn.datasets import make_classification\n",
    "from sklearn.model_selection import train_test_split\n",
    "\n",
    "from sklearn.ensemble import RandomForestClassifier\n",
    "\n",
    "from sklearn.preprocessing import MinMaxScaler\n",
    "\n",
    "import pandas as pd\n",
    "import numpy as np\n",
    "import matplotlib.pyplot as plt\n",
    "import matplotlib.dates as mdates\n",
    "from matplotlib.dates import DateFormatter\n",
    "from datetime import date, datetime\n",
    "\n",
    "from sklearn.metrics import confusion_matrix\n",
    "from sklearn.metrics import normalized_mutual_info_score, mutual_info_score\n",
    "from sklearn.feature_selection import mutual_info_regression\n",
    "\n",
    "from sklearn.preprocessing import KBinsDiscretizer\n",
    "from sklearn.preprocessing import MaxAbsScaler\n",
    "from sklearn.preprocessing import StandardScaler\n",
    "from sklearn.preprocessing import MinMaxScaler\n",
    "\n",
    "from sklearn.linear_model import LinearRegression\n",
    "\n",
    "from sklearn.pipeline import Pipeline\n",
    "\n",
    "from matplotlib import colors\n",
    "import seaborn as sns\n",
    "\n",
    "\n",
    "import tensorflow as tf\n",
    "from tensorflow import keras\n",
    "from tensorflow.keras import layers\n",
    "from tensorflow.keras import optimizers\n"
   ]
  },
  {
   "cell_type": "code",
   "execution_count": 5,
   "metadata": {},
   "outputs": [],
   "source": [
    "import seaborn as sns\n",
    "sns.set_style(\"whitegrid\")"
   ]
  },
  {
   "cell_type": "code",
   "execution_count": 6,
   "metadata": {},
   "outputs": [],
   "source": [
    "state = 'AL'"
   ]
  },
  {
   "cell_type": "code",
   "execution_count": 7,
   "metadata": {},
   "outputs": [],
   "source": [
    "file_symptoms = 'comments/raw_comments/agent_comments_'+state+\\\n",
    "                        '_filtered_final_symptoms_df.fea'\n",
    "symptoms_dataframe_ri = pd.read_feather(file_symptoms)\n"
   ]
  },
  {
   "cell_type": "code",
   "execution_count": 8,
   "metadata": {},
   "outputs": [],
   "source": [
    "symptoms_dataframe_ri = symptoms_dataframe_ri.dropna()"
   ]
  },
  {
   "cell_type": "code",
   "execution_count": 9,
   "metadata": {},
   "outputs": [],
   "source": [
    "symptoms_df = symptoms_dataframe_ri.iloc[:,17:]"
   ]
  },
  {
   "cell_type": "code",
   "execution_count": 10,
   "metadata": {},
   "outputs": [],
   "source": [
    "symptoms_df['cj_living_area'] = symptoms_dataframe_ri['cj_living_area']\n",
    "symptoms_df['avmValue'] = symptoms_dataframe_ri['avmValue']"
   ]
  },
  {
   "cell_type": "code",
   "execution_count": 11,
   "metadata": {},
   "outputs": [],
   "source": [
    "Predictors = symptoms_df.to_numpy()"
   ]
  },
  {
   "cell_type": "code",
   "execution_count": 12,
   "metadata": {},
   "outputs": [
    {
     "data": {
      "text/plain": [
       "(205759, 2226)"
      ]
     },
     "execution_count": 12,
     "metadata": {},
     "output_type": "execute_result"
    }
   ],
   "source": [
    "Predictors.shape"
   ]
  },
  {
   "cell_type": "code",
   "execution_count": 64,
   "metadata": {},
   "outputs": [],
   "source": [
    "for i in range(Predictors.shape[1]):\n",
    "    Predictors[:,i]=(Predictors[:,i]-np.mean(Predictors[:,i]))/np.std(Predictors[:,i])"
   ]
  },
  {
   "cell_type": "code",
   "execution_count": null,
   "metadata": {},
   "outputs": [],
   "source": []
  },
  {
   "cell_type": "code",
   "execution_count": null,
   "metadata": {},
   "outputs": [],
   "source": []
  },
  {
   "cell_type": "code",
   "execution_count": 65,
   "metadata": {},
   "outputs": [],
   "source": [
    "predictand = symptoms_dataframe_ri.avmerror.values"
   ]
  },
  {
   "cell_type": "code",
   "execution_count": 66,
   "metadata": {},
   "outputs": [
    {
     "data": {
      "text/plain": [
       "(205759,)"
      ]
     },
     "execution_count": 66,
     "metadata": {},
     "output_type": "execute_result"
    }
   ],
   "source": [
    "predictand.shape"
   ]
  },
  {
   "cell_type": "code",
   "execution_count": null,
   "metadata": {},
   "outputs": [],
   "source": []
  },
  {
   "cell_type": "code",
   "execution_count": 369,
   "metadata": {},
   "outputs": [],
   "source": [
    "train_samples = 150000  # Samples used for training the models\n",
    "X_train, X_test, y_train, y_test = train_test_split(\n",
    "    Predictors,\n",
    "    predictand,\n",
    "    shuffle=True,\n",
    "    test_size=len(Predictors) - train_samples,\n",
    ")"
   ]
  },
  {
   "cell_type": "code",
   "execution_count": 370,
   "metadata": {},
   "outputs": [
    {
     "data": {
      "text/plain": [
       "(150000, 2226)"
      ]
     },
     "execution_count": 370,
     "metadata": {},
     "output_type": "execute_result"
    }
   ],
   "source": [
    "X_train.shape"
   ]
  },
  {
   "cell_type": "code",
   "execution_count": 371,
   "metadata": {},
   "outputs": [],
   "source": [
    "from tensorflow.keras import datasets, layers, models"
   ]
  },
  {
   "cell_type": "code",
   "execution_count": 424,
   "metadata": {},
   "outputs": [],
   "source": [
    "# Model definition\n",
    "\n",
    "model_NN_Class = keras.Sequential()\n",
    "model_NN_Class.add(keras.layers.Dense(40, activation='tanh', input_dim=2226))\n",
    "#model_NN_Class.add(keras.layers.BatchNormalization())\n",
    "#model_NN_Class.add(keras.layers.Dropout(0.1))\n",
    "model_NN_Class.add(keras.layers.Dense(20, activation='tanh'))\n",
    "#model_NN_Class.add(keras.layers.BatchNormalization())\n",
    "#model_NN_Class.add(keras.layers.Dropout(0.1))\n",
    "model_NN_Class.add(keras.layers.Dense(1, activation='linear', use_bias =True))"
   ]
  },
  {
   "cell_type": "code",
   "execution_count": 425,
   "metadata": {},
   "outputs": [
    {
     "data": {
      "text/plain": [
       "(150000,)"
      ]
     },
     "execution_count": 425,
     "metadata": {},
     "output_type": "execute_result"
    }
   ],
   "source": [
    "y_train.shape"
   ]
  },
  {
   "cell_type": "code",
   "execution_count": 426,
   "metadata": {},
   "outputs": [],
   "source": [
    "optimizer = keras.optimizers.Adam(learning_rate=0.02)\n",
    "#, decay=5e-4\n",
    "model_NN_Class.compile(loss='mean_absolute_error', optimizer=optimizer)"
   ]
  },
  {
   "cell_type": "code",
   "execution_count": 427,
   "metadata": {},
   "outputs": [
    {
     "name": "stdout",
     "output_type": "stream",
     "text": [
      "Epoch 1/30\n",
      "150/150 [==============================] - ETA: 0s - loss: 0.175 - 2s 10ms/step - loss: 0.1748\n",
      "Epoch 2/30\n",
      "150/150 [==============================] - 2s 12ms/step - loss: 0.1350\n",
      "Epoch 3/30\n",
      "150/150 [==============================] - 2s 12ms/step - loss: 0.1327\n",
      "Epoch 4/30\n",
      "150/150 [==============================] - 3s 20ms/step - loss: 0.1316\n",
      "Epoch 5/30\n",
      "150/150 [==============================] - 2s 12ms/step - loss: 0.1306\n",
      "Epoch 6/30\n",
      "150/150 [==============================] - 3s 22ms/step - loss: 0.1298\n",
      "Epoch 7/30\n",
      "150/150 [==============================] - 4s 23ms/step - loss: 0.1290\n",
      "Epoch 8/30\n",
      "150/150 [==============================] - 4s 24ms/step - loss: 0.1287\n",
      "Epoch 9/30\n",
      "150/150 [==============================] - 2s 14ms/step - loss: 0.1282\n",
      "Epoch 10/30\n",
      "150/150 [==============================] - 3s 23ms/step - loss: 0.1280\n",
      "Epoch 11/30\n",
      "150/150 [==============================] - 4s 27ms/step - loss: 0.1278\n",
      "Epoch 12/30\n",
      "150/150 [==============================] - 3s 23ms/step - loss: 0.1276\n",
      "Epoch 13/30\n",
      "150/150 [==============================] - 3s 22ms/step - loss: 0.1274\n",
      "Epoch 14/30\n",
      "150/150 [==============================] - 4s 25ms/step - loss: 0.1270\n",
      "Epoch 15/30\n",
      "150/150 [==============================] - 4s 24ms/step - loss: 0.1270\n",
      "Epoch 16/30\n",
      "150/150 [==============================] - 3s 21ms/step - loss: 0.1270\n",
      "Epoch 17/30\n",
      "150/150 [==============================] - 3s 20ms/step - loss: 0.1265\n",
      "Epoch 18/30\n",
      "150/150 [==============================] - 3s 20ms/step - loss: 0.1263\n",
      "Epoch 19/30\n",
      "150/150 [==============================] - 3s 20ms/step - loss: 0.1258\n",
      "Epoch 20/30\n",
      "150/150 [==============================] - 4s 25ms/step - loss: 0.1259\n",
      "Epoch 21/30\n",
      "150/150 [==============================] - 4s 25ms/step - loss: 0.1260\n",
      "Epoch 22/30\n",
      "150/150 [==============================] - 3s 21ms/step - loss: 0.1257\n",
      "Epoch 23/30\n",
      "150/150 [==============================] - 4s 25ms/step - loss: 0.1258\n",
      "Epoch 24/30\n",
      "150/150 [==============================] - 2s 16ms/step - loss: 0.1259\n",
      "Epoch 25/30\n",
      "150/150 [==============================] - 3s 17ms/step - loss: 0.1257\n",
      "Epoch 26/30\n",
      "150/150 [==============================] - 4s 25ms/step - loss: 0.1255\n",
      "Epoch 27/30\n",
      "150/150 [==============================] - 4s 24ms/step - loss: 0.1254\n",
      "Epoch 28/30\n",
      "150/150 [==============================] - 4s 27ms/step - loss: 0.1255\n",
      "Epoch 29/30\n",
      "150/150 [==============================] - 3s 21ms/step - loss: 0.1254\n",
      "Epoch 30/30\n",
      "150/150 [==============================] - 3s 22ms/step - loss: 0.1254\n"
     ]
    }
   ],
   "source": [
    "\n",
    "history = model_NN_Class.fit(X_train, y_train, epochs=30, batch_size=1000)\n"
   ]
  },
  {
   "cell_type": "code",
   "execution_count": 430,
   "metadata": {},
   "outputs": [
    {
     "data": {
      "image/png": "[encoded data removed]",
      "text/plain": [
       "<Figure size 432x288 with 1 Axes>"
      ]
     },
     "metadata": {},
     "output_type": "display_data"
    }
   ],
   "source": [
    "# plot history\n",
    "plt.plot(history.history['loss'], label='train')\n",
    "#plt.plot(history.history['val_loss'], label='test')\n",
    "plt.legend()\n",
    "plt.show()\n",
    " "
   ]
  },
  {
   "cell_type": "code",
   "execution_count": 431,
   "metadata": {},
   "outputs": [
    {
     "name": "stdout",
     "output_type": "stream",
     "text": [
      "Model: \"sequential_36\"\n",
      "_________________________________________________________________\n",
      "Layer (type)                 Output Shape              Param #   \n",
      "=================================================================\n",
      "dense_121 (Dense)            (None, 40)                89080     \n",
      "_________________________________________________________________\n",
      "dense_122 (Dense)            (None, 20)                820       \n",
      "_________________________________________________________________\n",
      "dense_123 (Dense)            (None, 1)                 21        \n",
      "=================================================================\n",
      "Total params: 89,921\n",
      "Trainable params: 89,921\n",
      "Non-trainable params: 0\n",
      "_________________________________________________________________\n"
     ]
    }
   ],
   "source": [
    "model_NN_Class.summary()"
   ]
  },
  {
   "cell_type": "code",
   "execution_count": null,
   "metadata": {},
   "outputs": [],
   "source": []
  },
  {
   "cell_type": "code",
   "execution_count": 432,
   "metadata": {},
   "outputs": [],
   "source": [
    "predictions_test = model_NN_Class.predict(X_test)\n",
    "predictions_train = model_NN_Class.predict(X_train)"
   ]
  },
  {
   "cell_type": "code",
   "execution_count": null,
   "metadata": {},
   "outputs": [],
   "source": []
  },
  {
   "cell_type": "code",
   "execution_count": 433,
   "metadata": {},
   "outputs": [
    {
     "data": {
      "text/plain": [
       "[<matplotlib.lines.Line2D at 0x7f747444ea20>]"
      ]
     },
     "execution_count": 433,
     "metadata": {},
     "output_type": "execute_result"
    },
    {
     "data": {
      "image/png": "[encoded data removed]",
      "text/plain": [
       "<Figure size 432x288 with 1 Axes>"
      ]
     },
     "metadata": {},
     "output_type": "display_data"
    }
   ],
   "source": [
    "plt.plot(predictions_train,y_train,'o')"
   ]
  },
  {
   "cell_type": "code",
   "execution_count": 434,
   "metadata": {},
   "outputs": [
    {
     "data": {
      "text/plain": [
       "[<matplotlib.lines.Line2D at 0x7f7474570be0>]"
      ]
     },
     "execution_count": 434,
     "metadata": {},
     "output_type": "execute_result"
    },
    {
     "data": {
      "image/png": "[encoded data removed]",
      "text/plain": [
       "<Figure size 432x288 with 1 Axes>"
      ]
     },
     "metadata": {},
     "output_type": "display_data"
    }
   ],
   "source": [
    "plt.plot(predictions_test,y_test,'o')"
   ]
  },
  {
   "cell_type": "code",
   "execution_count": 418,
   "metadata": {},
   "outputs": [
    {
     "data": {
      "text/plain": [
       "(55759,)"
      ]
     },
     "execution_count": 418,
     "metadata": {},
     "output_type": "execute_result"
    }
   ],
   "source": [
    "predictions_test[:,0].shape"
   ]
  },
  {
   "cell_type": "code",
   "execution_count": 419,
   "metadata": {},
   "outputs": [
    {
     "data": {
      "text/plain": [
       "array([299310.15579765, 161179.28526304, 209802.12945165, ...,\n",
       "       170439.18620284, 120652.61607207, 101351.54013503])"
      ]
     },
     "execution_count": 419,
     "metadata": {},
     "output_type": "execute_result"
    }
   ],
   "source": [
    " symptoms_dataframe_ri['avmValue'].values[train_samples:]/(1-predictions_test[:,0])"
   ]
  },
  {
   "cell_type": "code",
   "execution_count": 420,
   "metadata": {},
   "outputs": [],
   "source": [
    "df = symptoms_dataframe_ri.copy()"
   ]
  },
  {
   "cell_type": "code",
   "execution_count": 421,
   "metadata": {},
   "outputs": [],
   "source": [
    "predictions_test_value = symptoms_dataframe_ri['avmValue'].values[train_samples:]/(1-predictions_test[:,0])\n",
    "predictions_train_value = symptoms_dataframe_ri['avmValue'].values[:train_samples]/(1-predictions_train[:,0])\n",
    "#predictions_train_value = df['avmValue'].values/(1-Predictors)"
   ]
  },
  {
   "cell_type": "code",
   "execution_count": 422,
   "metadata": {},
   "outputs": [
    {
     "name": "stdout",
     "output_type": "stream",
     "text": [
      "0.16470483439171885\n",
      "0.14185532301003315\n"
     ]
    }
   ],
   "source": [
    "print(np.mean(np.abs(df['Transprice'].values[:train_samples]-predictions_train_value)/\\\n",
    "              (df['Transprice'].values[:train_samples])))\n",
    "print(np.mean(np.abs(df['Transprice'].values[:train_samples]- df['avmValue'].values[:train_samples])/\\\n",
    "              (df['Transprice'].values[:train_samples])))\n"
   ]
  },
  {
   "cell_type": "code",
   "execution_count": 423,
   "metadata": {},
   "outputs": [
    {
     "name": "stdout",
     "output_type": "stream",
     "text": [
      "0.14829017724193833\n",
      "0.12433022988479138\n"
     ]
    }
   ],
   "source": [
    "print(np.mean(np.abs(df['Transprice'].values[train_samples:]-predictions_test_value)/\\\n",
    "              (df['Transprice'].values[train_samples:])))\n",
    "print(np.mean(np.abs(df['Transprice'].values[train_samples:]- df['avmValue'].values[train_samples:])/\\\n",
    "              (df['Transprice'].values[train_samples:])))\n"
   ]
  },
  {
   "cell_type": "code",
   "execution_count": null,
   "metadata": {},
   "outputs": [],
   "source": []
  },
  {
   "cell_type": "code",
   "execution_count": null,
   "metadata": {},
   "outputs": [],
   "source": []
  },
  {
   "cell_type": "code",
   "execution_count": null,
   "metadata": {},
   "outputs": [],
   "source": []
  },
  {
   "cell_type": "code",
   "execution_count": 34,
   "metadata": {},
   "outputs": [],
   "source": [
    "\n",
    "filename = 'RF_newmodel_01_3mins.h5'\n",
    "model_NN_Class.save(filename)"
   ]
  },
  {
   "cell_type": "code",
   "execution_count": null,
   "metadata": {},
   "outputs": [],
   "source": []
  }
 ],
 "metadata": {
  "kernelspec": {
   "display_name": "Python 3",
   "language": "python",
   "name": "python3"
  },
  "language_info": {
   "codemirror_mode": {
    "name": "ipython",
    "version": 3
   },
   "file_extension": ".py",
   "mimetype": "text/x-python",
   "name": "python",
   "nbconvert_exporter": "python",
   "pygments_lexer": "ipython3",
   "version": "3.6.10"
  }
 },
 "nbformat": 4,
 "nbformat_minor": 4
}
