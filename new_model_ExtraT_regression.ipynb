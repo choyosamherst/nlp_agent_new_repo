{
 "cells": [
  {
   "cell_type": "code",
   "execution_count": 26,
   "metadata": {},
   "outputs": [],
   "source": [
    "from sklearn.ensemble import RandomForestRegressor\n",
    "from sklearn.ensemble import AdaBoostRegressor\n",
    "from sklearn.datasets import make_regression\n",
    "from sklearn.ensemble import ExtraTreesRegressor\n",
    "\n",
    "import pandas as pd\n",
    "import numpy as np\n",
    "import matplotlib.pyplot as plt\n",
    "\n",
    "\n",
    "from sklearn.datasets import make_classification\n",
    "from sklearn.model_selection import train_test_split\n",
    "\n",
    "from sklearn.ensemble import RandomForestClassifier\n",
    "\n",
    "from sklearn.preprocessing import MinMaxScaler\n"
   ]
  },
  {
   "cell_type": "code",
   "execution_count": 2,
   "metadata": {},
   "outputs": [],
   "source": [
    "import seaborn as sns\n",
    "sns.set_style(\"whitegrid\")"
   ]
  },
  {
   "cell_type": "code",
   "execution_count": null,
   "metadata": {},
   "outputs": [],
   "source": []
  },
  {
   "cell_type": "code",
   "execution_count": 3,
   "metadata": {},
   "outputs": [],
   "source": [
    "noun_sentence_df_final_joined_df_selected_columns_use_min = pd.\\\n",
    "    read_feather('noun_sentence_df_final_joined_df_selected_columns_use_min.fea')"
   ]
  },
  {
   "cell_type": "code",
   "execution_count": 4,
   "metadata": {},
   "outputs": [],
   "source": [
    "noun_sentence_df_final_joined_df_selected_columns_use_min = noun_sentence_df_final_joined_df_selected_columns_use_min.dropna()"
   ]
  },
  {
   "cell_type": "code",
   "execution_count": 5,
   "metadata": {},
   "outputs": [
    {
     "data": {
      "text/plain": [
       "Index(['level_0', 'listingid', 'index', 'AVM_Error_List', 'Listing_Error_List',\n",
       "       'AVM_Error_List_count', 'Transdate', 'Transprice', 'total_value',\n",
       "       'cj_living_area', 'effective_year_built', 'story', 'ListingPrice',\n",
       "       'avmValue', 'avmerror', 'AVM_Error_Indicators_0',\n",
       "       'AVM_Error_Indicators_1', 'AVM_Error_Indicators_2',\n",
       "       'AVM_Error_Indicators_3', 'AVM_Error_Indicators_4',\n",
       "       'AVM_Error_Indicators_5', 'AVM_Error_Indicators_6',\n",
       "       'AVM_Error_Indicators_7', 'AVM_Error_Indicators_8',\n",
       "       'AVM_Error_Indicators_9', 'AVM_Error_Indicators_10',\n",
       "       'AVM_Error_Indicators_11',\n",
       "       'clean_publicremarks_additional_words_vaderpolarity_0',\n",
       "       'clean_publicremarks_additional_words_vaderpolarity_1',\n",
       "       'clean_publicremarks_additional_words_vaderpolarity_2',\n",
       "       'clean_publicremarks_additional_words_vaderpolarity_3',\n",
       "       'AVM_Error_Indicators_scale', 'transaction_year'],\n",
       "      dtype='object')"
      ]
     },
     "execution_count": 5,
     "metadata": {},
     "output_type": "execute_result"
    }
   ],
   "source": [
    "noun_sentence_df_final_joined_df_selected_columns_use_min.columns"
   ]
  },
  {
   "cell_type": "code",
   "execution_count": 6,
   "metadata": {},
   "outputs": [],
   "source": [
    "predictor_columns = [ 'cj_living_area',\n",
    "       'avmValue', 'AVM_Error_Indicators_0',\n",
    "       'AVM_Error_Indicators_1', 'AVM_Error_Indicators_2',\n",
    "       'AVM_Error_Indicators_3', 'AVM_Error_Indicators_4',\n",
    "       'AVM_Error_Indicators_5', 'AVM_Error_Indicators_6',\n",
    "       'AVM_Error_Indicators_7', 'AVM_Error_Indicators_8',\n",
    "       'AVM_Error_Indicators_9', 'AVM_Error_Indicators_10',\n",
    "       'AVM_Error_Indicators_11',\n",
    "       'clean_publicremarks_additional_words_vaderpolarity_0',\n",
    "       'clean_publicremarks_additional_words_vaderpolarity_1',\n",
    "       'clean_publicremarks_additional_words_vaderpolarity_2',\n",
    "       'clean_publicremarks_additional_words_vaderpolarity_3',\n",
    "       'AVM_Error_Indicators_scale']"
   ]
  },
  {
   "cell_type": "code",
   "execution_count": 7,
   "metadata": {},
   "outputs": [],
   "source": [
    "predictor_columns = ['AVM_Error_Indicators_4',\n",
    "                 'clean_publicremarks_additional_words_vaderpolarity_2',\n",
    "                 'clean_publicremarks_additional_words_vaderpolarity_3',\n",
    "                 'AVM_Error_Indicators_5',\n",
    "                 'clean_publicremarks_additional_words_vaderpolarity_0',\n",
    "                 'cj_living_area',\n",
    "                 'AVM_Error_Indicators_0',\n",
    "                 'avmValue']"
   ]
  },
  {
   "cell_type": "code",
   "execution_count": 8,
   "metadata": {},
   "outputs": [],
   "source": [
    "Predictors = noun_sentence_df_final_joined_df_selected_columns_use_min.loc[:,predictor_columns].to_numpy()"
   ]
  },
  {
   "cell_type": "code",
   "execution_count": 9,
   "metadata": {},
   "outputs": [
    {
     "data": {
      "text/plain": [
       "(626428, 8)"
      ]
     },
     "execution_count": 9,
     "metadata": {},
     "output_type": "execute_result"
    }
   ],
   "source": [
    "Predictors.shape"
   ]
  },
  {
   "cell_type": "code",
   "execution_count": 10,
   "metadata": {},
   "outputs": [],
   "source": [
    "predictand = noun_sentence_df_final_joined_df_selected_columns_use_min.avmerror.values"
   ]
  },
  {
   "cell_type": "code",
   "execution_count": 11,
   "metadata": {},
   "outputs": [
    {
     "data": {
      "text/plain": [
       "(626428,)"
      ]
     },
     "execution_count": 11,
     "metadata": {},
     "output_type": "execute_result"
    }
   ],
   "source": [
    "predictand.shape"
   ]
  },
  {
   "cell_type": "code",
   "execution_count": null,
   "metadata": {},
   "outputs": [],
   "source": []
  },
  {
   "cell_type": "code",
   "execution_count": 12,
   "metadata": {},
   "outputs": [],
   "source": [
    "train_samples = 300000  # Samples used for training the models\n",
    "X_train, X_test, y_train, y_test = train_test_split(\n",
    "    Predictors,\n",
    "    predictand,\n",
    "    shuffle=False,\n",
    "    test_size=len(Predictors) - train_samples,\n",
    ")"
   ]
  },
  {
   "cell_type": "code",
   "execution_count": 152,
   "metadata": {},
   "outputs": [
    {
     "data": {
      "text/plain": [
       "5233111.71"
      ]
     },
     "execution_count": 152,
     "metadata": {},
     "output_type": "execute_result"
    }
   ],
   "source": [
    "np.max(X_train)"
   ]
  },
  {
   "cell_type": "code",
   "execution_count": 88,
   "metadata": {},
   "outputs": [],
   "source": [
    "model = ExtraTreesRegressor(n_estimators = 60,  min_samples_leaf=50, \n",
    "                              max_features = 6, max_depth=15, min_samples_split =100)"
   ]
  },
  {
   "cell_type": "code",
   "execution_count": 89,
   "metadata": {},
   "outputs": [
    {
     "data": {
      "text/plain": [
       "ExtraTreesRegressor(max_depth=15, max_features=6, min_samples_leaf=50,\n",
       "                    min_samples_split=100, n_estimators=60)"
      ]
     },
     "execution_count": 89,
     "metadata": {},
     "output_type": "execute_result"
    }
   ],
   "source": [
    "model.fit(X_train, y_train)"
   ]
  },
  {
   "cell_type": "code",
   "execution_count": 90,
   "metadata": {},
   "outputs": [
    {
     "name": "stdout",
     "output_type": "stream",
     "text": [
      "{'bootstrap': False, 'ccp_alpha': 0.0, 'criterion': 'mse', 'max_depth': 15, 'max_features': 6, 'max_leaf_nodes': None, 'max_samples': None, 'min_impurity_decrease': 0.0, 'min_impurity_split': None, 'min_samples_leaf': 50, 'min_samples_split': 100, 'min_weight_fraction_leaf': 0.0, 'n_estimators': 60, 'n_jobs': None, 'oob_score': False, 'random_state': None, 'verbose': 0, 'warm_start': False}\n"
     ]
    }
   ],
   "source": [
    "print(model.get_params())"
   ]
  },
  {
   "cell_type": "code",
   "execution_count": 91,
   "metadata": {},
   "outputs": [],
   "source": [
    "predictions_test = model.predict(X_test)\n",
    "predictions_train = model.predict(X_train)"
   ]
  },
  {
   "cell_type": "code",
   "execution_count": 92,
   "metadata": {},
   "outputs": [
    {
     "data": {
      "text/plain": [
       "-1.4996102222222225"
      ]
     },
     "execution_count": 92,
     "metadata": {},
     "output_type": "execute_result"
    }
   ],
   "source": [
    "y_train.min()"
   ]
  },
  {
   "cell_type": "code",
   "execution_count": 93,
   "metadata": {},
   "outputs": [
    {
     "data": {
      "text/plain": [
       "[<matplotlib.lines.Line2D at 0x7f8798795b38>]"
      ]
     },
     "execution_count": 93,
     "metadata": {},
     "output_type": "execute_result"
    },
    {
     "data": {
      "image/png": "[encoded data removed]",
      "text/plain": [
       "<Figure size 432x288 with 1 Axes>"
      ]
     },
     "metadata": {},
     "output_type": "display_data"
    }
   ],
   "source": [
    "plt.plot(predictions_train,y_train,'o')"
   ]
  },
  {
   "cell_type": "code",
   "execution_count": 94,
   "metadata": {},
   "outputs": [
    {
     "data": {
      "text/plain": [
       "[<matplotlib.lines.Line2D at 0x7f87987775c0>]"
      ]
     },
     "execution_count": 94,
     "metadata": {},
     "output_type": "execute_result"
    },
    {
     "data": {
      "image/png": "[encoded data removed]",
      "text/plain": [
       "<Figure size 432x288 with 1 Axes>"
      ]
     },
     "metadata": {},
     "output_type": "display_data"
    }
   ],
   "source": [
    "plt.plot(predictions_test,y_test,'o')"
   ]
  },
  {
   "cell_type": "code",
   "execution_count": null,
   "metadata": {},
   "outputs": [],
   "source": []
  },
  {
   "cell_type": "code",
   "execution_count": 95,
   "metadata": {},
   "outputs": [],
   "source": [
    "df = noun_sentence_df_final_joined_df_selected_columns_use_min.copy()\n"
   ]
  },
  {
   "cell_type": "code",
   "execution_count": 96,
   "metadata": {},
   "outputs": [],
   "source": [
    "predictions_test_value = df['avmValue'].values[train_samples:]/(1-predictions_test)\n",
    "predictions_train_value = df['avmValue'].values[:train_samples]/(1-predictions_train)\n",
    "#predictions_train_value = df['avmValue'].values/(1-Predictors)"
   ]
  },
  {
   "cell_type": "code",
   "execution_count": 97,
   "metadata": {},
   "outputs": [
    {
     "name": "stdout",
     "output_type": "stream",
     "text": [
      "0    135660.77\n",
      "Name: avmValue, dtype: float64\n",
      "0    150000.0\n",
      "Name: Transprice, dtype: float64\n",
      "0    0.095595\n",
      "Name: avmerror, dtype: float64\n",
      "0    148629.24322\n",
      "dtype: float64\n",
      "0    0.095595\n",
      "dtype: float64\n"
     ]
    }
   ],
   "source": [
    "print(df.head(1)['avmValue'])\n",
    "print(df.head(1)['Transprice'])\n",
    "print(df.head(1)['avmerror'])\n",
    "print(df.head(1)['avmValue']+df.head(1)['avmerror']*df.head(1)['avmValue'])\n",
    "print((df.head(1)['Transprice']-df.head(1)['avmValue'])/df.head(1)['Transprice'])"
   ]
  },
  {
   "cell_type": "code",
   "execution_count": null,
   "metadata": {},
   "outputs": [],
   "source": []
  },
  {
   "cell_type": "code",
   "execution_count": 98,
   "metadata": {},
   "outputs": [
    {
     "data": {
      "text/plain": [
       "Index(['level_0', 'listingid', 'index', 'AVM_Error_List', 'Listing_Error_List',\n",
       "       'AVM_Error_List_count', 'Transdate', 'Transprice', 'total_value',\n",
       "       'cj_living_area', 'effective_year_built', 'story', 'ListingPrice',\n",
       "       'avmValue', 'avmerror', 'AVM_Error_Indicators_0',\n",
       "       'AVM_Error_Indicators_1', 'AVM_Error_Indicators_2',\n",
       "       'AVM_Error_Indicators_3', 'AVM_Error_Indicators_4',\n",
       "       'AVM_Error_Indicators_5', 'AVM_Error_Indicators_6',\n",
       "       'AVM_Error_Indicators_7', 'AVM_Error_Indicators_8',\n",
       "       'AVM_Error_Indicators_9', 'AVM_Error_Indicators_10',\n",
       "       'AVM_Error_Indicators_11',\n",
       "       'clean_publicremarks_additional_words_vaderpolarity_0',\n",
       "       'clean_publicremarks_additional_words_vaderpolarity_1',\n",
       "       'clean_publicremarks_additional_words_vaderpolarity_2',\n",
       "       'clean_publicremarks_additional_words_vaderpolarity_3',\n",
       "       'AVM_Error_Indicators_scale', 'transaction_year'],\n",
       "      dtype='object')"
      ]
     },
     "execution_count": 98,
     "metadata": {},
     "output_type": "execute_result"
    }
   ],
   "source": [
    "df.columns"
   ]
  },
  {
   "cell_type": "code",
   "execution_count": 99,
   "metadata": {},
   "outputs": [
    {
     "name": "stdout",
     "output_type": "stream",
     "text": [
      "0.12005937691049187\n",
      "0.12824339216917896\n"
     ]
    }
   ],
   "source": [
    "print(np.mean(np.abs(df['Transprice'].values[:train_samples]-predictions_train_value)/\\\n",
    "              (df['Transprice'].values[:train_samples])))\n",
    "print(np.mean(np.abs(df['Transprice'].values[:train_samples]- df['avmValue'].values[:train_samples])/\\\n",
    "              (df['Transprice'].values[:train_samples])))\n"
   ]
  },
  {
   "cell_type": "code",
   "execution_count": 100,
   "metadata": {},
   "outputs": [
    {
     "name": "stdout",
     "output_type": "stream",
     "text": [
      "0.1158601617150967\n",
      "0.12321237259476342\n"
     ]
    }
   ],
   "source": [
    "print(np.mean(np.abs(df['Transprice'].values[train_samples:]-predictions_test_value)/\\\n",
    "              (df['Transprice'].values[train_samples:])))\n",
    "print(np.mean(np.abs(df['Transprice'].values[train_samples:]- df['avmValue'].values[train_samples:])/\\\n",
    "              (df['Transprice'].values[train_samples:])))\n"
   ]
  },
  {
   "cell_type": "code",
   "execution_count": 101,
   "metadata": {},
   "outputs": [
    {
     "data": {
      "text/plain": [
       "[<matplotlib.lines.Line2D at 0x7f87986d3d30>]"
      ]
     },
     "execution_count": 101,
     "metadata": {},
     "output_type": "execute_result"
    },
    {
     "data": {
      "image/png": "[encoded data removed]",
      "text/plain": [
       "<Figure size 432x288 with 1 Axes>"
      ]
     },
     "metadata": {},
     "output_type": "display_data"
    }
   ],
   "source": [
    "plt.plot(predictions_train_value,df['Transprice'].values[:train_samples],'o')"
   ]
  },
  {
   "cell_type": "code",
   "execution_count": 102,
   "metadata": {},
   "outputs": [
    {
     "data": {
      "text/plain": [
       "Index(['level_0', 'listingid', 'index', 'AVM_Error_List', 'Listing_Error_List',\n",
       "       'AVM_Error_List_count', 'Transdate', 'Transprice', 'total_value',\n",
       "       'cj_living_area', 'effective_year_built', 'story', 'ListingPrice',\n",
       "       'avmValue', 'avmerror', 'AVM_Error_Indicators_0',\n",
       "       'AVM_Error_Indicators_1', 'AVM_Error_Indicators_2',\n",
       "       'AVM_Error_Indicators_3', 'AVM_Error_Indicators_4',\n",
       "       'AVM_Error_Indicators_5', 'AVM_Error_Indicators_6',\n",
       "       'AVM_Error_Indicators_7', 'AVM_Error_Indicators_8',\n",
       "       'AVM_Error_Indicators_9', 'AVM_Error_Indicators_10',\n",
       "       'AVM_Error_Indicators_11',\n",
       "       'clean_publicremarks_additional_words_vaderpolarity_0',\n",
       "       'clean_publicremarks_additional_words_vaderpolarity_1',\n",
       "       'clean_publicremarks_additional_words_vaderpolarity_2',\n",
       "       'clean_publicremarks_additional_words_vaderpolarity_3',\n",
       "       'AVM_Error_Indicators_scale', 'transaction_year'],\n",
       "      dtype='object')"
      ]
     },
     "execution_count": 102,
     "metadata": {},
     "output_type": "execute_result"
    }
   ],
   "source": [
    "df.columns"
   ]
  },
  {
   "cell_type": "code",
   "execution_count": null,
   "metadata": {},
   "outputs": [],
   "source": []
  },
  {
   "cell_type": "code",
   "execution_count": null,
   "metadata": {},
   "outputs": [],
   "source": []
  },
  {
   "cell_type": "code",
   "execution_count": null,
   "metadata": {},
   "outputs": [],
   "source": []
  },
  {
   "cell_type": "code",
   "execution_count": 87,
   "metadata": {},
   "outputs": [
    {
     "data": {
      "image/png": "[encoded data removed]",
      "text/plain": [
       "<Figure size 432x288 with 1 Axes>"
      ]
     },
     "metadata": {},
     "output_type": "display_data"
    }
   ],
   "source": [
    "importances = model.feature_importances_\n",
    "indices = np.argsort(importances)\n",
    "features = predictor_columns\n",
    "plt.title('Feature Importances')\n",
    "plt.barh(range(len(indices)), importances[indices], color='b', align='center')\n",
    "plt.yticks(range(len(indices)), [features[i] for i in indices])\n",
    "plt.xlabel('Relative Importance')\n",
    "plt.show()"
   ]
  },
  {
   "cell_type": "code",
   "execution_count": null,
   "metadata": {},
   "outputs": [],
   "source": []
  },
  {
   "cell_type": "code",
   "execution_count": 43,
   "metadata": {},
   "outputs": [
    {
     "data": {
      "image/png": "[encoded data removed]",
      "text/plain": [
       "<Figure size 432x288 with 1 Axes>"
      ]
     },
     "metadata": {},
     "output_type": "display_data"
    }
   ],
   "source": [
    "importances = model.feature_importances_\n",
    "indices = np.argsort(importances)\n",
    "features = predictor_columns\n",
    "plt.title('Feature Importances')\n",
    "plt.barh(range(len(indices)), importances[indices], color='b', align='center')\n",
    "plt.yticks(range(len(indices)), [features[i] for i in indices])\n",
    "plt.xlabel('Relative Importance')\n",
    "plt.show()"
   ]
  },
  {
   "cell_type": "code",
   "execution_count": null,
   "metadata": {},
   "outputs": [],
   "source": []
  },
  {
   "cell_type": "code",
   "execution_count": 44,
   "metadata": {},
   "outputs": [
    {
     "data": {
      "text/plain": [
       "['AVM_Error_Indicators_10',\n",
       " 'AVM_Error_Indicators_11',\n",
       " 'clean_publicremarks_additional_words_vaderpolarity_1',\n",
       " 'AVM_Error_Indicators_8',\n",
       " 'AVM_Error_Indicators_1',\n",
       " 'AVM_Error_Indicators_7',\n",
       " 'AVM_Error_Indicators_3',\n",
       " 'AVM_Error_Indicators_9',\n",
       " 'AVM_Error_Indicators_2',\n",
       " 'AVM_Error_Indicators_6',\n",
       " 'AVM_Error_Indicators_4',\n",
       " 'AVM_Error_Indicators_scale',\n",
       " 'clean_publicremarks_additional_words_vaderpolarity_2',\n",
       " 'clean_publicremarks_additional_words_vaderpolarity_3',\n",
       " 'AVM_Error_Indicators_5',\n",
       " 'clean_publicremarks_additional_words_vaderpolarity_0',\n",
       " 'cj_living_area',\n",
       " 'AVM_Error_Indicators_0',\n",
       " 'avmValue']"
      ]
     },
     "execution_count": 44,
     "metadata": {},
     "output_type": "execute_result"
    }
   ],
   "source": [
    "[features[i] for i in indices]"
   ]
  },
  {
   "cell_type": "code",
   "execution_count": null,
   "metadata": {},
   "outputs": [],
   "source": []
  },
  {
   "cell_type": "code",
   "execution_count": 103,
   "metadata": {},
   "outputs": [
    {
     "data": {
      "text/plain": [
       "['ExtraT_newmodel_01_newset.sav']"
      ]
     },
     "execution_count": 103,
     "metadata": {},
     "output_type": "execute_result"
    }
   ],
   "source": [
    "import joblib\n",
    "filename = 'ExtraT_newmodel_01_newset.sav'\n",
    "joblib.dump(model,filename)"
   ]
  },
  {
   "cell_type": "code",
   "execution_count": null,
   "metadata": {},
   "outputs": [],
   "source": []
  }
 ],
 "metadata": {
  "kernelspec": {
   "display_name": "Python 3",
   "language": "python",
   "name": "python3"
  },
  "language_info": {
   "codemirror_mode": {
    "name": "ipython",
    "version": 3
   },
   "file_extension": ".py",
   "mimetype": "text/x-python",
   "name": "python",
   "nbconvert_exporter": "python",
   "pygments_lexer": "ipython3",
   "version": "3.6.10"
  }
 },
 "nbformat": 4,
 "nbformat_minor": 4
}
