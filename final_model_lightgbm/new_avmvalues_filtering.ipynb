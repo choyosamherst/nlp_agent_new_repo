{
 "cells": [
  {
   "cell_type": "code",
   "execution_count": 1,
   "metadata": {},
   "outputs": [],
   "source": [
    "\n",
    "import pandas as pd\n",
    "import numpy as np\n",
    "import matplotlib.pyplot as plt\n"
   ]
  },
  {
   "cell_type": "code",
   "execution_count": 2,
   "metadata": {},
   "outputs": [],
   "source": [
    "file = 'NEW_AVM_DATA.fea'\n",
    "new_avm_values = pd.read_feather(file)"
   ]
  },
  {
   "cell_type": "code",
   "execution_count": null,
   "metadata": {},
   "outputs": [],
   "source": []
  },
  {
   "cell_type": "code",
   "execution_count": 3,
   "metadata": {},
   "outputs": [
    {
     "data": {
      "text/plain": [
       "Index(['listingid', 'asgpropid', 'qtr', 'avmvalue', 'cbsa_div', 'cbsa',\n",
       "       'state', 'Zip', 'fips_Code', 'census_tract', 'story',\n",
       "       'effective_year_built', 'transdate', 'transprice', 'bedrooms',\n",
       "       'cj_living_area', 'publicremarks', 'listingPrice', 'avmerror',\n",
       "       'rentsale'],\n",
       "      dtype='object')"
      ]
     },
     "execution_count": 3,
     "metadata": {},
     "output_type": "execute_result"
    }
   ],
   "source": [
    "new_avm_values.columns"
   ]
  },
  {
   "cell_type": "code",
   "execution_count": 4,
   "metadata": {},
   "outputs": [
    {
     "data": {
      "text/plain": [
       "array(['TX', 'KS', 'AZ', 'TN', 'FL', 'GA', 'OK', 'UT', 'ME', 'CA', 'MS',\n",
       "       'WA', 'OH', 'MA', None, 'AL', 'NC', 'CO', 'MO', 'KY', 'NE', 'NY',\n",
       "       'VA', 'MD', 'HI', 'WV', 'MN', 'AK', 'IN', 'PA', 'SC', 'LA', 'NJ',\n",
       "       'RI', 'WY'], dtype=object)"
      ]
     },
     "execution_count": 4,
     "metadata": {},
     "output_type": "execute_result"
    }
   ],
   "source": [
    "new_avm_values['state'].unique()"
   ]
  },
  {
   "cell_type": "code",
   "execution_count": null,
   "metadata": {},
   "outputs": [],
   "source": []
  },
  {
   "cell_type": "code",
   "execution_count": 14,
   "metadata": {},
   "outputs": [],
   "source": [
    "state = 'AL'"
   ]
  },
  {
   "cell_type": "code",
   "execution_count": 15,
   "metadata": {},
   "outputs": [],
   "source": [
    "new_df = new_avm_values[new_avm_values['state']==state]"
   ]
  },
  {
   "cell_type": "code",
   "execution_count": 16,
   "metadata": {},
   "outputs": [],
   "source": [
    "file = 'NEW_AVM_DATA'+state+'_full.fea'\n",
    "new_df.reset_index().to_feather(file)"
   ]
  },
  {
   "cell_type": "code",
   "execution_count": null,
   "metadata": {},
   "outputs": [],
   "source": []
  },
  {
   "cell_type": "code",
   "execution_count": 8,
   "metadata": {},
   "outputs": [],
   "source": [
    "columns_to_save = ['listingid','qtr', 'state','avmvalue','avmerror']"
   ]
  },
  {
   "cell_type": "code",
   "execution_count": 9,
   "metadata": {},
   "outputs": [],
   "source": [
    "new_df = new_avm_values[new_avm_values['state']==state].loc[:,columns_to_save]"
   ]
  },
  {
   "cell_type": "code",
   "execution_count": 10,
   "metadata": {},
   "outputs": [
    {
     "data": {
      "text/html": [
       "<div>\n",
       "<style scoped>\n",
       "    .dataframe tbody tr th:only-of-type {\n",
       "        vertical-align: middle;\n",
       "    }\n",
       "\n",
       "    .dataframe tbody tr th {\n",
       "        vertical-align: top;\n",
       "    }\n",
       "\n",
       "    .dataframe thead th {\n",
       "        text-align: right;\n",
       "    }\n",
       "</style>\n",
       "<table border=\"1\" class=\"dataframe\">\n",
       "  <thead>\n",
       "    <tr style=\"text-align: right;\">\n",
       "      <th></th>\n",
       "      <th>listingid</th>\n",
       "      <th>qtr</th>\n",
       "      <th>state</th>\n",
       "      <th>avmvalue</th>\n",
       "      <th>avmerror</th>\n",
       "    </tr>\n",
       "  </thead>\n",
       "  <tbody>\n",
       "    <tr>\n",
       "      <th>338</th>\n",
       "      <td>220005293</td>\n",
       "      <td>202008.0</td>\n",
       "      <td>GA</td>\n",
       "      <td>519120.957891</td>\n",
       "      <td>-0.331079</td>\n",
       "    </tr>\n",
       "    <tr>\n",
       "      <th>339</th>\n",
       "      <td>201184809</td>\n",
       "      <td>201908.0</td>\n",
       "      <td>GA</td>\n",
       "      <td>280979.800818</td>\n",
       "      <td>0.121938</td>\n",
       "    </tr>\n",
       "    <tr>\n",
       "      <th>340</th>\n",
       "      <td>236831405</td>\n",
       "      <td>202102.0</td>\n",
       "      <td>GA</td>\n",
       "      <td>299548.162298</td>\n",
       "      <td>0.092278</td>\n",
       "    </tr>\n",
       "    <tr>\n",
       "      <th>341</th>\n",
       "      <td>231029170</td>\n",
       "      <td>202011.0</td>\n",
       "      <td>GA</td>\n",
       "      <td>354959.881618</td>\n",
       "      <td>-0.014461</td>\n",
       "    </tr>\n",
       "    <tr>\n",
       "      <th>342</th>\n",
       "      <td>234567556</td>\n",
       "      <td>202102.0</td>\n",
       "      <td>GA</td>\n",
       "      <td>382737.269635</td>\n",
       "      <td>-0.026105</td>\n",
       "    </tr>\n",
       "    <tr>\n",
       "      <th>...</th>\n",
       "      <td>...</td>\n",
       "      <td>...</td>\n",
       "      <td>...</td>\n",
       "      <td>...</td>\n",
       "      <td>...</td>\n",
       "    </tr>\n",
       "    <tr>\n",
       "      <th>3670112</th>\n",
       "      <td>185648594</td>\n",
       "      <td>201811.0</td>\n",
       "      <td>GA</td>\n",
       "      <td>246024.269713</td>\n",
       "      <td>0.035199</td>\n",
       "    </tr>\n",
       "    <tr>\n",
       "      <th>3670113</th>\n",
       "      <td>218275542</td>\n",
       "      <td>202002.0</td>\n",
       "      <td>GA</td>\n",
       "      <td>266431.127358</td>\n",
       "      <td>-0.332156</td>\n",
       "    </tr>\n",
       "    <tr>\n",
       "      <th>3670114</th>\n",
       "      <td>227630548</td>\n",
       "      <td>202011.0</td>\n",
       "      <td>GA</td>\n",
       "      <td>290204.899310</td>\n",
       "      <td>-0.001052</td>\n",
       "    </tr>\n",
       "    <tr>\n",
       "      <th>3670115</th>\n",
       "      <td>227628311</td>\n",
       "      <td>202011.0</td>\n",
       "      <td>GA</td>\n",
       "      <td>290204.899310</td>\n",
       "      <td>-0.001052</td>\n",
       "    </tr>\n",
       "    <tr>\n",
       "      <th>3670116</th>\n",
       "      <td>227393703</td>\n",
       "      <td>202008.0</td>\n",
       "      <td>GA</td>\n",
       "      <td>251178.454360</td>\n",
       "      <td>-0.033656</td>\n",
       "    </tr>\n",
       "  </tbody>\n",
       "</table>\n",
       "<p>450703 rows × 5 columns</p>\n",
       "</div>"
      ],
      "text/plain": [
       "         listingid       qtr state       avmvalue  avmerror\n",
       "338      220005293  202008.0    GA  519120.957891 -0.331079\n",
       "339      201184809  201908.0    GA  280979.800818  0.121938\n",
       "340      236831405  202102.0    GA  299548.162298  0.092278\n",
       "341      231029170  202011.0    GA  354959.881618 -0.014461\n",
       "342      234567556  202102.0    GA  382737.269635 -0.026105\n",
       "...            ...       ...   ...            ...       ...\n",
       "3670112  185648594  201811.0    GA  246024.269713  0.035199\n",
       "3670113  218275542  202002.0    GA  266431.127358 -0.332156\n",
       "3670114  227630548  202011.0    GA  290204.899310 -0.001052\n",
       "3670115  227628311  202011.0    GA  290204.899310 -0.001052\n",
       "3670116  227393703  202008.0    GA  251178.454360 -0.033656\n",
       "\n",
       "[450703 rows x 5 columns]"
      ]
     },
     "execution_count": 10,
     "metadata": {},
     "output_type": "execute_result"
    }
   ],
   "source": [
    "new_df"
   ]
  },
  {
   "cell_type": "code",
   "execution_count": 11,
   "metadata": {},
   "outputs": [],
   "source": [
    "file = 'NEW_AVM_DATA'+state+'.fea'\n",
    "new_df.reset_index().to_feather(file)"
   ]
  },
  {
   "cell_type": "code",
   "execution_count": null,
   "metadata": {},
   "outputs": [],
   "source": []
  },
  {
   "cell_type": "code",
   "execution_count": null,
   "metadata": {},
   "outputs": [],
   "source": []
  },
  {
   "cell_type": "code",
   "execution_count": null,
   "metadata": {},
   "outputs": [],
   "source": []
  },
  {
   "cell_type": "code",
   "execution_count": null,
   "metadata": {},
   "outputs": [],
   "source": []
  }
 ],
 "metadata": {
  "kernelspec": {
   "display_name": "Python 3",
   "language": "python",
   "name": "python3"
  },
  "language_info": {
   "codemirror_mode": {
    "name": "ipython",
    "version": 3
   },
   "file_extension": ".py",
   "mimetype": "text/x-python",
   "name": "python",
   "nbconvert_exporter": "python",
   "pygments_lexer": "ipython3",
   "version": "3.6.10"
  }
 },
 "nbformat": 4,
 "nbformat_minor": 4
}
