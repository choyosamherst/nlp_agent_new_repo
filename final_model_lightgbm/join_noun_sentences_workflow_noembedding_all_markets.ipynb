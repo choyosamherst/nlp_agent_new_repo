{
 "cells": [
  {
   "cell_type": "code",
   "execution_count": 1,
   "metadata": {},
   "outputs": [],
   "source": [
    "import pandas as pd"
   ]
  },
  {
   "cell_type": "code",
   "execution_count": 4,
   "metadata": {},
   "outputs": [],
   "source": [
    "file_join = 'ch_noun_sentences_by_listingid_CJ_2.csv'\n",
    "noun_sentence_df_T_ri_filtered_thu_list_base_2 = pd.read_csv(file_join)"
   ]
  },
  {
   "cell_type": "code",
   "execution_count": 3,
   "metadata": {},
   "outputs": [
    {
     "data": {
      "text/html": [
       "<div>\n",
       "<style scoped>\n",
       "    .dataframe tbody tr th:only-of-type {\n",
       "        vertical-align: middle;\n",
       "    }\n",
       "\n",
       "    .dataframe tbody tr th {\n",
       "        vertical-align: top;\n",
       "    }\n",
       "\n",
       "    .dataframe thead th {\n",
       "        text-align: right;\n",
       "    }\n",
       "</style>\n",
       "<table border=\"1\" class=\"dataframe\">\n",
       "  <thead>\n",
       "    <tr style=\"text-align: right;\">\n",
       "      <th></th>\n",
       "      <th>Unnamed: 0</th>\n",
       "      <th>noun_sentence</th>\n",
       "      <th>listingid</th>\n",
       "      <th>state</th>\n",
       "    </tr>\n",
       "  </thead>\n",
       "  <tbody>\n",
       "    <tr>\n",
       "      <th>0</th>\n",
       "      <td>0</td>\n",
       "      <td>new hot water heater</td>\n",
       "      <td>2257521</td>\n",
       "      <td>TN</td>\n",
       "    </tr>\n",
       "    <tr>\n",
       "      <th>1</th>\n",
       "      <td>1</td>\n",
       "      <td>car carport</td>\n",
       "      <td>2257521</td>\n",
       "      <td>TN</td>\n",
       "    </tr>\n",
       "    <tr>\n",
       "      <th>2</th>\n",
       "      <td>2</td>\n",
       "      <td>nice home</td>\n",
       "      <td>2257521</td>\n",
       "      <td>TN</td>\n",
       "    </tr>\n",
       "    <tr>\n",
       "      <th>3</th>\n",
       "      <td>3</td>\n",
       "      <td>great location</td>\n",
       "      <td>8663618</td>\n",
       "      <td>TN</td>\n",
       "    </tr>\n",
       "    <tr>\n",
       "      <th>4</th>\n",
       "      <td>4</td>\n",
       "      <td>room fireplace</td>\n",
       "      <td>141342205</td>\n",
       "      <td>TN</td>\n",
       "    </tr>\n",
       "    <tr>\n",
       "      <th>...</th>\n",
       "      <td>...</td>\n",
       "      <td>...</td>\n",
       "      <td>...</td>\n",
       "      <td>...</td>\n",
       "    </tr>\n",
       "    <tr>\n",
       "      <th>7514668</th>\n",
       "      <td>6144</td>\n",
       "      <td>natural light</td>\n",
       "      <td>267731443</td>\n",
       "      <td>SC</td>\n",
       "    </tr>\n",
       "    <tr>\n",
       "      <th>7514669</th>\n",
       "      <td>6145</td>\n",
       "      <td>great room</td>\n",
       "      <td>267800035</td>\n",
       "      <td>SC</td>\n",
       "    </tr>\n",
       "    <tr>\n",
       "      <th>7514670</th>\n",
       "      <td>6146</td>\n",
       "      <td>great location</td>\n",
       "      <td>267800035</td>\n",
       "      <td>SC</td>\n",
       "    </tr>\n",
       "    <tr>\n",
       "      <th>7514671</th>\n",
       "      <td>6147</td>\n",
       "      <td>main level</td>\n",
       "      <td>267800035</td>\n",
       "      <td>SC</td>\n",
       "    </tr>\n",
       "    <tr>\n",
       "      <th>7514672</th>\n",
       "      <td>6148</td>\n",
       "      <td>new carpet</td>\n",
       "      <td>267800035</td>\n",
       "      <td>SC</td>\n",
       "    </tr>\n",
       "  </tbody>\n",
       "</table>\n",
       "<p>7514673 rows × 4 columns</p>\n",
       "</div>"
      ],
      "text/plain": [
       "         Unnamed: 0         noun_sentence  listingid state\n",
       "0                 0  new hot water heater    2257521    TN\n",
       "1                 1           car carport    2257521    TN\n",
       "2                 2             nice home    2257521    TN\n",
       "3                 3        great location    8663618    TN\n",
       "4                 4        room fireplace  141342205    TN\n",
       "...             ...                   ...        ...   ...\n",
       "7514668        6144         natural light  267731443    SC\n",
       "7514669        6145            great room  267800035    SC\n",
       "7514670        6146        great location  267800035    SC\n",
       "7514671        6147            main level  267800035    SC\n",
       "7514672        6148            new carpet  267800035    SC\n",
       "\n",
       "[7514673 rows x 4 columns]"
      ]
     },
     "execution_count": 3,
     "metadata": {},
     "output_type": "execute_result"
    }
   ],
   "source": [
    "noun_sentence_df_T_ri_filtered_thu_list_base"
   ]
  },
  {
   "cell_type": "code",
   "execution_count": 5,
   "metadata": {},
   "outputs": [],
   "source": [
    "file_join = 'ch_noun_sentences_by_listingid_CJ.csv'\n",
    "noun_sentence_df_T_ri_filtered_thu_list_base_1 = pd.read_csv(file_join)"
   ]
  },
  {
   "cell_type": "code",
   "execution_count": 6,
   "metadata": {},
   "outputs": [
    {
     "data": {
      "text/html": [
       "<div>\n",
       "<style scoped>\n",
       "    .dataframe tbody tr th:only-of-type {\n",
       "        vertical-align: middle;\n",
       "    }\n",
       "\n",
       "    .dataframe tbody tr th {\n",
       "        vertical-align: top;\n",
       "    }\n",
       "\n",
       "    .dataframe thead th {\n",
       "        text-align: right;\n",
       "    }\n",
       "</style>\n",
       "<table border=\"1\" class=\"dataframe\">\n",
       "  <thead>\n",
       "    <tr style=\"text-align: right;\">\n",
       "      <th></th>\n",
       "      <th>Unnamed: 0</th>\n",
       "      <th>noun_sentence</th>\n",
       "      <th>listingid</th>\n",
       "      <th>state</th>\n",
       "    </tr>\n",
       "  </thead>\n",
       "  <tbody>\n",
       "    <tr>\n",
       "      <th>0</th>\n",
       "      <td>0</td>\n",
       "      <td>basement area</td>\n",
       "      <td>776</td>\n",
       "      <td>AL</td>\n",
       "    </tr>\n",
       "    <tr>\n",
       "      <th>1</th>\n",
       "      <td>1</td>\n",
       "      <td>upper level</td>\n",
       "      <td>776</td>\n",
       "      <td>AL</td>\n",
       "    </tr>\n",
       "    <tr>\n",
       "      <th>2</th>\n",
       "      <td>2</td>\n",
       "      <td>full bath</td>\n",
       "      <td>776</td>\n",
       "      <td>AL</td>\n",
       "    </tr>\n",
       "    <tr>\n",
       "      <th>3</th>\n",
       "      <td>3</td>\n",
       "      <td>upper level</td>\n",
       "      <td>778</td>\n",
       "      <td>AL</td>\n",
       "    </tr>\n",
       "    <tr>\n",
       "      <th>4</th>\n",
       "      <td>4</td>\n",
       "      <td>private bath</td>\n",
       "      <td>778</td>\n",
       "      <td>AL</td>\n",
       "    </tr>\n",
       "    <tr>\n",
       "      <th>...</th>\n",
       "      <td>...</td>\n",
       "      <td>...</td>\n",
       "      <td>...</td>\n",
       "      <td>...</td>\n",
       "    </tr>\n",
       "    <tr>\n",
       "      <th>99324768</th>\n",
       "      <td>25975</td>\n",
       "      <td>main level</td>\n",
       "      <td>249634925</td>\n",
       "      <td>WV</td>\n",
       "    </tr>\n",
       "    <tr>\n",
       "      <th>99324769</th>\n",
       "      <td>25976</td>\n",
       "      <td>full bath</td>\n",
       "      <td>249634925</td>\n",
       "      <td>WV</td>\n",
       "    </tr>\n",
       "    <tr>\n",
       "      <th>99324770</th>\n",
       "      <td>25977</td>\n",
       "      <td>bedroom home</td>\n",
       "      <td>249634925</td>\n",
       "      <td>WV</td>\n",
       "    </tr>\n",
       "    <tr>\n",
       "      <th>99324771</th>\n",
       "      <td>25978</td>\n",
       "      <td>bedroom home</td>\n",
       "      <td>249827112</td>\n",
       "      <td>WV</td>\n",
       "    </tr>\n",
       "    <tr>\n",
       "      <th>99324772</th>\n",
       "      <td>25979</td>\n",
       "      <td>front porch</td>\n",
       "      <td>249950984</td>\n",
       "      <td>WV</td>\n",
       "    </tr>\n",
       "  </tbody>\n",
       "</table>\n",
       "<p>99324773 rows × 4 columns</p>\n",
       "</div>"
      ],
      "text/plain": [
       "          Unnamed: 0  noun_sentence  listingid state\n",
       "0                  0  basement area        776    AL\n",
       "1                  1    upper level        776    AL\n",
       "2                  2      full bath        776    AL\n",
       "3                  3    upper level        778    AL\n",
       "4                  4   private bath        778    AL\n",
       "...              ...            ...        ...   ...\n",
       "99324768       25975     main level  249634925    WV\n",
       "99324769       25976      full bath  249634925    WV\n",
       "99324770       25977   bedroom home  249634925    WV\n",
       "99324771       25978   bedroom home  249827112    WV\n",
       "99324772       25979    front porch  249950984    WV\n",
       "\n",
       "[99324773 rows x 4 columns]"
      ]
     },
     "execution_count": 6,
     "metadata": {},
     "output_type": "execute_result"
    }
   ],
   "source": [
    "noun_sentence_df_T_ri_filtered_thu_list_base_1"
   ]
  },
  {
   "cell_type": "code",
   "execution_count": 19,
   "metadata": {},
   "outputs": [
    {
     "data": {
      "text/plain": [
       "array([[44168, 'bedrooms,2 baths', 1660331, 'CA'],\n",
       "       [44169, 'great opportunity', 1660359, 'CA'],\n",
       "       [44170, 'rental property', 1660359, 'CA'],\n",
       "       [44171, 'private setting', 1660359, 'CA']], dtype=object)"
      ]
     },
     "execution_count": 19,
     "metadata": {},
     "output_type": "execute_result"
    }
   ],
   "source": [
    "noun_sentence_df_T_ri_filtered_thu_list_base_1.iloc[2717810:2717814,:].values"
   ]
  },
  {
   "cell_type": "code",
   "execution_count": 18,
   "metadata": {},
   "outputs": [
    {
     "data": {
      "text/plain": [
       "46"
      ]
     },
     "execution_count": 18,
     "metadata": {},
     "output_type": "execute_result"
    }
   ],
   "source": [
    "len('granite countertops stainless steel appliances')"
   ]
  },
  {
   "cell_type": "code",
   "execution_count": null,
   "metadata": {},
   "outputs": [],
   "source": [
    "\n",
    "    "
   ]
  }
 ],
 "metadata": {
  "kernelspec": {
   "display_name": "Python 3",
   "language": "python",
   "name": "python3"
  },
  "language_info": {
   "codemirror_mode": {
    "name": "ipython",
    "version": 3
   },
   "file_extension": ".py",
   "mimetype": "text/x-python",
   "name": "python",
   "nbconvert_exporter": "python",
   "pygments_lexer": "ipython3",
   "version": "3.6.10"
  }
 },
 "nbformat": 4,
 "nbformat_minor": 4
}
