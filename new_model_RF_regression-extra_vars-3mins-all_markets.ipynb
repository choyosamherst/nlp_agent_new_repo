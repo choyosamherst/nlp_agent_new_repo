{
 "cells": [
  {
   "cell_type": "code",
   "execution_count": 1,
   "metadata": {},
   "outputs": [],
   "source": [
    "from sklearn.ensemble import RandomForestRegressor\n",
    "from sklearn.datasets import make_regression\n",
    "\n",
    "import pandas as pd\n",
    "import numpy as np\n",
    "import matplotlib.pyplot as plt\n",
    "\n",
    "\n",
    "from sklearn.datasets import make_classification\n",
    "from sklearn.model_selection import train_test_split\n",
    "\n",
    "from sklearn.ensemble import RandomForestClassifier\n",
    "\n",
    "from sklearn.preprocessing import MinMaxScaler\n"
   ]
  },
  {
   "cell_type": "code",
   "execution_count": 2,
   "metadata": {},
   "outputs": [],
   "source": [
    "import seaborn as sns\n",
    "sns.set_style(\"whitegrid\")"
   ]
  },
  {
   "cell_type": "code",
   "execution_count": 3,
   "metadata": {},
   "outputs": [],
   "source": [
    "state = 'AL'"
   ]
  },
  {
   "cell_type": "code",
   "execution_count": 4,
   "metadata": {},
   "outputs": [],
   "source": [
    "file_symptoms = 'comments/raw_comments/agent_comments_'+state+\\\n",
    "                        '_filtered_final_joined_selected_columns_use__min_all_df.fea'"
   ]
  },
  {
   "cell_type": "code",
   "execution_count": 5,
   "metadata": {},
   "outputs": [],
   "source": [
    "noun_sentence_df_final_joined_df_selected_columns_use_min = pd.\\\n",
    "    read_feather(file_symptoms)"
   ]
  },
  {
   "cell_type": "code",
   "execution_count": 6,
   "metadata": {},
   "outputs": [],
   "source": [
    "noun_sentence_df_final_joined_df_selected_columns_use = noun_sentence_df_final_joined_df_selected_columns_use_min"
   ]
  },
  {
   "cell_type": "code",
   "execution_count": 10,
   "metadata": {},
   "outputs": [
    {
     "name": "stdout",
     "output_type": "stream",
     "text": [
      "index\n",
      "listingid\n",
      "AVM_Error_List_x\n",
      "Listing_Error_List_x\n",
      "Transdate_x\n",
      "Transprice_x\n",
      "total_value_x\n",
      "cj_living_area_x\n",
      "effective_year_built_x\n",
      "story_x\n",
      "ListingPrice_x\n",
      "avmValue_x\n",
      "avmerror_x\n",
      "bedrooms_x\n",
      "AVM_Error_Indicators_0_x\n",
      "AVM_Error_Indicators_1_x\n",
      "AVM_Error_Indicators_2_x\n",
      "AVM_Error_Indicators_3_x\n",
      "AVM_Error_Indicators_4_x\n",
      "AVM_Error_Indicators_5_x\n",
      "AVM_Error_Indicators_6_x\n",
      "AVM_Error_Indicators_7_x\n",
      "AVM_Error_Indicators_8_x\n",
      "AVM_Error_Indicators_9_x\n",
      "AVM_Error_Indicators_10_x\n",
      "AVM_Error_Indicators_11_x\n",
      "AVM_Error_Indicators_scale_x\n",
      "Listing_Error_Indicators_0_x\n",
      "Listing_Error_Indicators_1_x\n",
      "Listing_Error_Indicators_2_x\n",
      "Listing_Error_Indicators_3_x\n",
      "Listing_Error_Indicators_4_x\n",
      "Listing_Error_Indicators_5_x\n",
      "Listing_Error_Indicators_6_x\n",
      "Listing_Error_Indicators_7_x\n",
      "Listing_Error_Indicators_8_x\n",
      "Listing_Error_Indicators_9_x\n",
      "Listing_Error_Indicators_10_x\n",
      "Listing_Error_Indicators_11_x\n",
      "clean_publicremarks_nltkpolarity_0_x\n",
      "clean_publicremarks_nltkpolarity_1_x\n",
      "clean_publicremarks_nltkpolarity_2_x\n",
      "clean_publicremarks_nltkpolarity_3_x\n",
      "transaction_year_x\n",
      "AVM_Error_List_y\n",
      "Listing_Error_List_y\n",
      "Transdate_y\n",
      "Transprice_y\n",
      "total_value_y\n",
      "cj_living_area_y\n",
      "effective_year_built_y\n",
      "story_y\n",
      "ListingPrice_y\n",
      "avmValue_y\n",
      "avmerror_y\n",
      "bedrooms_y\n",
      "AVM_Error_Indicators_0_y\n",
      "AVM_Error_Indicators_1_y\n",
      "AVM_Error_Indicators_2_y\n",
      "AVM_Error_Indicators_3_y\n",
      "AVM_Error_Indicators_4_y\n",
      "AVM_Error_Indicators_5_y\n",
      "AVM_Error_Indicators_6_y\n",
      "AVM_Error_Indicators_7_y\n",
      "AVM_Error_Indicators_8_y\n",
      "AVM_Error_Indicators_9_y\n",
      "AVM_Error_Indicators_10_y\n",
      "AVM_Error_Indicators_11_y\n",
      "AVM_Error_Indicators_scale_y\n",
      "Listing_Error_Indicators_0_y\n",
      "Listing_Error_Indicators_1_y\n",
      "Listing_Error_Indicators_2_y\n",
      "Listing_Error_Indicators_3_y\n",
      "Listing_Error_Indicators_4_y\n",
      "Listing_Error_Indicators_5_y\n",
      "Listing_Error_Indicators_6_y\n",
      "Listing_Error_Indicators_7_y\n",
      "Listing_Error_Indicators_8_y\n",
      "Listing_Error_Indicators_9_y\n",
      "Listing_Error_Indicators_10_y\n",
      "Listing_Error_Indicators_11_y\n",
      "clean_publicremarks_nltkpolarity_0_y\n",
      "clean_publicremarks_nltkpolarity_1_y\n",
      "clean_publicremarks_nltkpolarity_2_y\n",
      "clean_publicremarks_nltkpolarity_3_y\n",
      "transaction_year_y\n",
      "AVM_Error_List\n",
      "Listing_Error_List\n",
      "Transdate\n",
      "Transprice\n",
      "total_value\n",
      "cj_living_area\n",
      "effective_year_built\n",
      "story\n",
      "ListingPrice\n",
      "avmValue\n",
      "avmerror\n",
      "bedrooms\n",
      "AVM_Error_Indicators_0\n",
      "AVM_Error_Indicators_1\n",
      "AVM_Error_Indicators_2\n",
      "AVM_Error_Indicators_3\n",
      "AVM_Error_Indicators_4\n",
      "AVM_Error_Indicators_5\n",
      "AVM_Error_Indicators_6\n",
      "AVM_Error_Indicators_7\n",
      "AVM_Error_Indicators_8\n",
      "AVM_Error_Indicators_9\n",
      "AVM_Error_Indicators_10\n",
      "AVM_Error_Indicators_11\n",
      "AVM_Error_Indicators_scale\n",
      "Listing_Error_Indicators_0\n",
      "Listing_Error_Indicators_1\n",
      "Listing_Error_Indicators_2\n",
      "Listing_Error_Indicators_3\n",
      "Listing_Error_Indicators_4\n",
      "Listing_Error_Indicators_5\n",
      "Listing_Error_Indicators_6\n",
      "Listing_Error_Indicators_7\n",
      "Listing_Error_Indicators_8\n",
      "Listing_Error_Indicators_9\n",
      "Listing_Error_Indicators_10\n",
      "Listing_Error_Indicators_11\n",
      "clean_publicremarks_nltkpolarity_0\n",
      "clean_publicremarks_nltkpolarity_1\n",
      "clean_publicremarks_nltkpolarity_2\n",
      "clean_publicremarks_nltkpolarity_3\n",
      "transaction_year\n"
     ]
    }
   ],
   "source": [
    "for col in noun_sentence_df_final_joined_df_selected_columns_use.columns:\n",
    "    print(col)"
   ]
  },
  {
   "cell_type": "code",
   "execution_count": 9,
   "metadata": {},
   "outputs": [
    {
     "data": {
      "text/html": [
       "<div>\n",
       "<style scoped>\n",
       "    .dataframe tbody tr th:only-of-type {\n",
       "        vertical-align: middle;\n",
       "    }\n",
       "\n",
       "    .dataframe tbody tr th {\n",
       "        vertical-align: top;\n",
       "    }\n",
       "\n",
       "    .dataframe thead th {\n",
       "        text-align: right;\n",
       "    }\n",
       "</style>\n",
       "<table border=\"1\" class=\"dataframe\">\n",
       "  <thead>\n",
       "    <tr style=\"text-align: right;\">\n",
       "      <th></th>\n",
       "      <th>index</th>\n",
       "      <th>listingid</th>\n",
       "      <th>AVM_Error_List_x</th>\n",
       "      <th>Listing_Error_List_x</th>\n",
       "      <th>Transdate_x</th>\n",
       "      <th>Transprice_x</th>\n",
       "      <th>total_value_x</th>\n",
       "      <th>cj_living_area_x</th>\n",
       "      <th>effective_year_built_x</th>\n",
       "      <th>story_x</th>\n",
       "      <th>...</th>\n",
       "      <th>Listing_Error_Indicators_7</th>\n",
       "      <th>Listing_Error_Indicators_8</th>\n",
       "      <th>Listing_Error_Indicators_9</th>\n",
       "      <th>Listing_Error_Indicators_10</th>\n",
       "      <th>Listing_Error_Indicators_11</th>\n",
       "      <th>clean_publicremarks_nltkpolarity_0</th>\n",
       "      <th>clean_publicremarks_nltkpolarity_1</th>\n",
       "      <th>clean_publicremarks_nltkpolarity_2</th>\n",
       "      <th>clean_publicremarks_nltkpolarity_3</th>\n",
       "      <th>transaction_year</th>\n",
       "    </tr>\n",
       "  </thead>\n",
       "  <tbody>\n",
       "    <tr>\n",
       "      <th>0</th>\n",
       "      <td>0</td>\n",
       "      <td>778</td>\n",
       "      <td>-0.510781</td>\n",
       "      <td>-0.043542</td>\n",
       "      <td>20171120</td>\n",
       "      <td>487762.0</td>\n",
       "      <td>460600.0</td>\n",
       "      <td>3593.0</td>\n",
       "      <td>1991.0</td>\n",
       "      <td>1.0</td>\n",
       "      <td>...</td>\n",
       "      <td>0.000000</td>\n",
       "      <td>0.019255</td>\n",
       "      <td>496</td>\n",
       "      <td>24.798387</td>\n",
       "      <td>65.725806</td>\n",
       "      <td>0.9806</td>\n",
       "      <td>0.015</td>\n",
       "      <td>0.765</td>\n",
       "      <td>0.220</td>\n",
       "      <td>2017.0</td>\n",
       "    </tr>\n",
       "    <tr>\n",
       "      <th>1</th>\n",
       "      <td>1</td>\n",
       "      <td>781</td>\n",
       "      <td>-0.043611</td>\n",
       "      <td>-0.026712</td>\n",
       "      <td>20171219</td>\n",
       "      <td>146000.0</td>\n",
       "      <td>153900.0</td>\n",
       "      <td>1597.0</td>\n",
       "      <td>2005.0</td>\n",
       "      <td>1.0</td>\n",
       "      <td>...</td>\n",
       "      <td>0.000000</td>\n",
       "      <td>0.019617</td>\n",
       "      <td>676</td>\n",
       "      <td>19.822485</td>\n",
       "      <td>67.899408</td>\n",
       "      <td>0.9557</td>\n",
       "      <td>0.000</td>\n",
       "      <td>0.758</td>\n",
       "      <td>0.242</td>\n",
       "      <td>2017.0</td>\n",
       "    </tr>\n",
       "    <tr>\n",
       "      <th>2</th>\n",
       "      <td>2</td>\n",
       "      <td>783</td>\n",
       "      <td>0.434195</td>\n",
       "      <td>-0.018210</td>\n",
       "      <td>20171222</td>\n",
       "      <td>324000.0</td>\n",
       "      <td>179300.0</td>\n",
       "      <td>1608.0</td>\n",
       "      <td>1991.0</td>\n",
       "      <td>1.0</td>\n",
       "      <td>...</td>\n",
       "      <td>0.000000</td>\n",
       "      <td>0.018127</td>\n",
       "      <td>28682</td>\n",
       "      <td>23.192246</td>\n",
       "      <td>66.041420</td>\n",
       "      <td>0.9063</td>\n",
       "      <td>0.041</td>\n",
       "      <td>0.768</td>\n",
       "      <td>0.191</td>\n",
       "      <td>2017.0</td>\n",
       "    </tr>\n",
       "    <tr>\n",
       "      <th>3</th>\n",
       "      <td>3</td>\n",
       "      <td>2467</td>\n",
       "      <td>0.039892</td>\n",
       "      <td>-0.028696</td>\n",
       "      <td>20180303</td>\n",
       "      <td>345000.0</td>\n",
       "      <td>324900.0</td>\n",
       "      <td>3157.0</td>\n",
       "      <td>2014.0</td>\n",
       "      <td>1.0</td>\n",
       "      <td>...</td>\n",
       "      <td>0.000000</td>\n",
       "      <td>0.014789</td>\n",
       "      <td>12113</td>\n",
       "      <td>20.069347</td>\n",
       "      <td>68.603979</td>\n",
       "      <td>0.9904</td>\n",
       "      <td>0.000</td>\n",
       "      <td>0.695</td>\n",
       "      <td>0.305</td>\n",
       "      <td>2018.0</td>\n",
       "    </tr>\n",
       "    <tr>\n",
       "      <th>4</th>\n",
       "      <td>4</td>\n",
       "      <td>2468</td>\n",
       "      <td>0.089410</td>\n",
       "      <td>0.016407</td>\n",
       "      <td>20180105</td>\n",
       "      <td>121900.0</td>\n",
       "      <td>107200.0</td>\n",
       "      <td>1600.0</td>\n",
       "      <td>1995.0</td>\n",
       "      <td>1.0</td>\n",
       "      <td>...</td>\n",
       "      <td>0.000000</td>\n",
       "      <td>0.017402</td>\n",
       "      <td>1014</td>\n",
       "      <td>19.625247</td>\n",
       "      <td>68.540434</td>\n",
       "      <td>0.4199</td>\n",
       "      <td>0.000</td>\n",
       "      <td>0.917</td>\n",
       "      <td>0.083</td>\n",
       "      <td>2018.0</td>\n",
       "    </tr>\n",
       "    <tr>\n",
       "      <th>...</th>\n",
       "      <td>...</td>\n",
       "      <td>...</td>\n",
       "      <td>...</td>\n",
       "      <td>...</td>\n",
       "      <td>...</td>\n",
       "      <td>...</td>\n",
       "      <td>...</td>\n",
       "      <td>...</td>\n",
       "      <td>...</td>\n",
       "      <td>...</td>\n",
       "      <td>...</td>\n",
       "      <td>...</td>\n",
       "      <td>...</td>\n",
       "      <td>...</td>\n",
       "      <td>...</td>\n",
       "      <td>...</td>\n",
       "      <td>...</td>\n",
       "      <td>...</td>\n",
       "      <td>...</td>\n",
       "      <td>...</td>\n",
       "      <td>...</td>\n",
       "    </tr>\n",
       "    <tr>\n",
       "      <th>162043</th>\n",
       "      <td>162043</td>\n",
       "      <td>251404432</td>\n",
       "      <td>0.074812</td>\n",
       "      <td>-0.024138</td>\n",
       "      <td>20210623</td>\n",
       "      <td>290000.0</td>\n",
       "      <td>220600.0</td>\n",
       "      <td>2003.0</td>\n",
       "      <td>2006.0</td>\n",
       "      <td>1.0</td>\n",
       "      <td>...</td>\n",
       "      <td>0.000397</td>\n",
       "      <td>0.022533</td>\n",
       "      <td>1760</td>\n",
       "      <td>28.238636</td>\n",
       "      <td>59.034091</td>\n",
       "      <td>0.9738</td>\n",
       "      <td>0.000</td>\n",
       "      <td>0.661</td>\n",
       "      <td>0.339</td>\n",
       "      <td>2021.0</td>\n",
       "    </tr>\n",
       "    <tr>\n",
       "      <th>162044</th>\n",
       "      <td>162044</td>\n",
       "      <td>251447052</td>\n",
       "      <td>0.142922</td>\n",
       "      <td>0.000000</td>\n",
       "      <td>20210625</td>\n",
       "      <td>395000.0</td>\n",
       "      <td>340620.0</td>\n",
       "      <td>2429.0</td>\n",
       "      <td>2016.0</td>\n",
       "      <td>1.0</td>\n",
       "      <td>...</td>\n",
       "      <td>0.000000</td>\n",
       "      <td>0.010293</td>\n",
       "      <td>3308</td>\n",
       "      <td>17.321644</td>\n",
       "      <td>73.095526</td>\n",
       "      <td>0.8934</td>\n",
       "      <td>0.000</td>\n",
       "      <td>0.793</td>\n",
       "      <td>0.207</td>\n",
       "      <td>2021.0</td>\n",
       "    </tr>\n",
       "    <tr>\n",
       "      <th>162045</th>\n",
       "      <td>162045</td>\n",
       "      <td>251455689</td>\n",
       "      <td>0.027551</td>\n",
       "      <td>0.000000</td>\n",
       "      <td>20210625</td>\n",
       "      <td>205000.0</td>\n",
       "      <td>171600.0</td>\n",
       "      <td>1579.0</td>\n",
       "      <td>2002.0</td>\n",
       "      <td>1.0</td>\n",
       "      <td>...</td>\n",
       "      <td>0.000000</td>\n",
       "      <td>0.019750</td>\n",
       "      <td>398</td>\n",
       "      <td>21.859296</td>\n",
       "      <td>61.306533</td>\n",
       "      <td>0.5267</td>\n",
       "      <td>0.000</td>\n",
       "      <td>0.923</td>\n",
       "      <td>0.077</td>\n",
       "      <td>2021.0</td>\n",
       "    </tr>\n",
       "    <tr>\n",
       "      <th>162046</th>\n",
       "      <td>162046</td>\n",
       "      <td>251507071</td>\n",
       "      <td>-0.158107</td>\n",
       "      <td>0.000000</td>\n",
       "      <td>20210311</td>\n",
       "      <td>815000.0</td>\n",
       "      <td>820400.0</td>\n",
       "      <td>3422.0</td>\n",
       "      <td>2017.0</td>\n",
       "      <td>1.0</td>\n",
       "      <td>...</td>\n",
       "      <td>0.000000</td>\n",
       "      <td>0.012016</td>\n",
       "      <td>1783</td>\n",
       "      <td>16.993831</td>\n",
       "      <td>74.425126</td>\n",
       "      <td>0.9134</td>\n",
       "      <td>0.000</td>\n",
       "      <td>0.840</td>\n",
       "      <td>0.160</td>\n",
       "      <td>2021.0</td>\n",
       "    </tr>\n",
       "    <tr>\n",
       "      <th>162047</th>\n",
       "      <td>162047</td>\n",
       "      <td>251601117</td>\n",
       "      <td>0.047014</td>\n",
       "      <td>0.011236</td>\n",
       "      <td>20210628</td>\n",
       "      <td>445000.0</td>\n",
       "      <td>389900.0</td>\n",
       "      <td>2790.0</td>\n",
       "      <td>2004.0</td>\n",
       "      <td>1.0</td>\n",
       "      <td>...</td>\n",
       "      <td>-0.003169</td>\n",
       "      <td>0.004847</td>\n",
       "      <td>4712</td>\n",
       "      <td>14.558574</td>\n",
       "      <td>76.273345</td>\n",
       "      <td>0.9892</td>\n",
       "      <td>0.000</td>\n",
       "      <td>0.749</td>\n",
       "      <td>0.251</td>\n",
       "      <td>2021.0</td>\n",
       "    </tr>\n",
       "  </tbody>\n",
       "</table>\n",
       "<p>162048 rows × 128 columns</p>\n",
       "</div>"
      ],
      "text/plain": [
       "         index  listingid  AVM_Error_List_x  Listing_Error_List_x  \\\n",
       "0            0        778         -0.510781             -0.043542   \n",
       "1            1        781         -0.043611             -0.026712   \n",
       "2            2        783          0.434195             -0.018210   \n",
       "3            3       2467          0.039892             -0.028696   \n",
       "4            4       2468          0.089410              0.016407   \n",
       "...        ...        ...               ...                   ...   \n",
       "162043  162043  251404432          0.074812             -0.024138   \n",
       "162044  162044  251447052          0.142922              0.000000   \n",
       "162045  162045  251455689          0.027551              0.000000   \n",
       "162046  162046  251507071         -0.158107              0.000000   \n",
       "162047  162047  251601117          0.047014              0.011236   \n",
       "\n",
       "        Transdate_x  Transprice_x  total_value_x  cj_living_area_x  \\\n",
       "0          20171120      487762.0       460600.0            3593.0   \n",
       "1          20171219      146000.0       153900.0            1597.0   \n",
       "2          20171222      324000.0       179300.0            1608.0   \n",
       "3          20180303      345000.0       324900.0            3157.0   \n",
       "4          20180105      121900.0       107200.0            1600.0   \n",
       "...             ...           ...            ...               ...   \n",
       "162043     20210623      290000.0       220600.0            2003.0   \n",
       "162044     20210625      395000.0       340620.0            2429.0   \n",
       "162045     20210625      205000.0       171600.0            1579.0   \n",
       "162046     20210311      815000.0       820400.0            3422.0   \n",
       "162047     20210628      445000.0       389900.0            2790.0   \n",
       "\n",
       "        effective_year_built_x  story_x  ...  Listing_Error_Indicators_7  \\\n",
       "0                       1991.0      1.0  ...                    0.000000   \n",
       "1                       2005.0      1.0  ...                    0.000000   \n",
       "2                       1991.0      1.0  ...                    0.000000   \n",
       "3                       2014.0      1.0  ...                    0.000000   \n",
       "4                       1995.0      1.0  ...                    0.000000   \n",
       "...                        ...      ...  ...                         ...   \n",
       "162043                  2006.0      1.0  ...                    0.000397   \n",
       "162044                  2016.0      1.0  ...                    0.000000   \n",
       "162045                  2002.0      1.0  ...                    0.000000   \n",
       "162046                  2017.0      1.0  ...                    0.000000   \n",
       "162047                  2004.0      1.0  ...                   -0.003169   \n",
       "\n",
       "        Listing_Error_Indicators_8  Listing_Error_Indicators_9  \\\n",
       "0                         0.019255                         496   \n",
       "1                         0.019617                         676   \n",
       "2                         0.018127                       28682   \n",
       "3                         0.014789                       12113   \n",
       "4                         0.017402                        1014   \n",
       "...                            ...                         ...   \n",
       "162043                    0.022533                        1760   \n",
       "162044                    0.010293                        3308   \n",
       "162045                    0.019750                         398   \n",
       "162046                    0.012016                        1783   \n",
       "162047                    0.004847                        4712   \n",
       "\n",
       "        Listing_Error_Indicators_10  Listing_Error_Indicators_11  \\\n",
       "0                         24.798387                    65.725806   \n",
       "1                         19.822485                    67.899408   \n",
       "2                         23.192246                    66.041420   \n",
       "3                         20.069347                    68.603979   \n",
       "4                         19.625247                    68.540434   \n",
       "...                             ...                          ...   \n",
       "162043                    28.238636                    59.034091   \n",
       "162044                    17.321644                    73.095526   \n",
       "162045                    21.859296                    61.306533   \n",
       "162046                    16.993831                    74.425126   \n",
       "162047                    14.558574                    76.273345   \n",
       "\n",
       "        clean_publicremarks_nltkpolarity_0  \\\n",
       "0                                   0.9806   \n",
       "1                                   0.9557   \n",
       "2                                   0.9063   \n",
       "3                                   0.9904   \n",
       "4                                   0.4199   \n",
       "...                                    ...   \n",
       "162043                              0.9738   \n",
       "162044                              0.8934   \n",
       "162045                              0.5267   \n",
       "162046                              0.9134   \n",
       "162047                              0.9892   \n",
       "\n",
       "        clean_publicremarks_nltkpolarity_1  \\\n",
       "0                                    0.015   \n",
       "1                                    0.000   \n",
       "2                                    0.041   \n",
       "3                                    0.000   \n",
       "4                                    0.000   \n",
       "...                                    ...   \n",
       "162043                               0.000   \n",
       "162044                               0.000   \n",
       "162045                               0.000   \n",
       "162046                               0.000   \n",
       "162047                               0.000   \n",
       "\n",
       "        clean_publicremarks_nltkpolarity_2  \\\n",
       "0                                    0.765   \n",
       "1                                    0.758   \n",
       "2                                    0.768   \n",
       "3                                    0.695   \n",
       "4                                    0.917   \n",
       "...                                    ...   \n",
       "162043                               0.661   \n",
       "162044                               0.793   \n",
       "162045                               0.923   \n",
       "162046                               0.840   \n",
       "162047                               0.749   \n",
       "\n",
       "        clean_publicremarks_nltkpolarity_3  transaction_year  \n",
       "0                                    0.220            2017.0  \n",
       "1                                    0.242            2017.0  \n",
       "2                                    0.191            2017.0  \n",
       "3                                    0.305            2018.0  \n",
       "4                                    0.083            2018.0  \n",
       "...                                    ...               ...  \n",
       "162043                               0.339            2021.0  \n",
       "162044                               0.207            2021.0  \n",
       "162045                               0.077            2021.0  \n",
       "162046                               0.160            2021.0  \n",
       "162047                               0.251            2021.0  \n",
       "\n",
       "[162048 rows x 128 columns]"
      ]
     },
     "execution_count": 9,
     "metadata": {},
     "output_type": "execute_result"
    }
   ],
   "source": [
    "noun_sentence_df_final_joined_df_selected_columns_use"
   ]
  },
  {
   "cell_type": "code",
   "execution_count": 11,
   "metadata": {},
   "outputs": [
    {
     "data": {
      "text/plain": [
       "162048"
      ]
     },
     "execution_count": 11,
     "metadata": {},
     "output_type": "execute_result"
    }
   ],
   "source": [
    "len(noun_sentence_df_final_joined_df_selected_columns_use)"
   ]
  },
  {
   "cell_type": "code",
   "execution_count": 12,
   "metadata": {},
   "outputs": [],
   "source": [
    "noun_sentence_df_final_joined_df_selected_columns_use = noun_sentence_df_final_joined_df_selected_columns_use.dropna()"
   ]
  },
  {
   "cell_type": "code",
   "execution_count": 13,
   "metadata": {},
   "outputs": [
    {
     "data": {
      "text/html": [
       "<div>\n",
       "<style scoped>\n",
       "    .dataframe tbody tr th:only-of-type {\n",
       "        vertical-align: middle;\n",
       "    }\n",
       "\n",
       "    .dataframe tbody tr th {\n",
       "        vertical-align: top;\n",
       "    }\n",
       "\n",
       "    .dataframe thead th {\n",
       "        text-align: right;\n",
       "    }\n",
       "</style>\n",
       "<table border=\"1\" class=\"dataframe\">\n",
       "  <thead>\n",
       "    <tr style=\"text-align: right;\">\n",
       "      <th></th>\n",
       "      <th>index</th>\n",
       "      <th>listingid</th>\n",
       "      <th>AVM_Error_List_x</th>\n",
       "      <th>Listing_Error_List_x</th>\n",
       "      <th>Transdate_x</th>\n",
       "      <th>Transprice_x</th>\n",
       "      <th>total_value_x</th>\n",
       "      <th>cj_living_area_x</th>\n",
       "      <th>effective_year_built_x</th>\n",
       "      <th>story_x</th>\n",
       "      <th>...</th>\n",
       "      <th>Listing_Error_Indicators_7</th>\n",
       "      <th>Listing_Error_Indicators_8</th>\n",
       "      <th>Listing_Error_Indicators_9</th>\n",
       "      <th>Listing_Error_Indicators_10</th>\n",
       "      <th>Listing_Error_Indicators_11</th>\n",
       "      <th>clean_publicremarks_nltkpolarity_0</th>\n",
       "      <th>clean_publicremarks_nltkpolarity_1</th>\n",
       "      <th>clean_publicremarks_nltkpolarity_2</th>\n",
       "      <th>clean_publicremarks_nltkpolarity_3</th>\n",
       "      <th>transaction_year</th>\n",
       "    </tr>\n",
       "  </thead>\n",
       "  <tbody>\n",
       "    <tr>\n",
       "      <th>0</th>\n",
       "      <td>0</td>\n",
       "      <td>778</td>\n",
       "      <td>-0.510781</td>\n",
       "      <td>-0.043542</td>\n",
       "      <td>20171120</td>\n",
       "      <td>487762.0</td>\n",
       "      <td>460600.0</td>\n",
       "      <td>3593.0</td>\n",
       "      <td>1991.0</td>\n",
       "      <td>1.0</td>\n",
       "      <td>...</td>\n",
       "      <td>0.000000</td>\n",
       "      <td>0.019255</td>\n",
       "      <td>496</td>\n",
       "      <td>24.798387</td>\n",
       "      <td>65.725806</td>\n",
       "      <td>0.9806</td>\n",
       "      <td>0.015</td>\n",
       "      <td>0.765</td>\n",
       "      <td>0.220</td>\n",
       "      <td>2017.0</td>\n",
       "    </tr>\n",
       "    <tr>\n",
       "      <th>2</th>\n",
       "      <td>2</td>\n",
       "      <td>783</td>\n",
       "      <td>0.434195</td>\n",
       "      <td>-0.018210</td>\n",
       "      <td>20171222</td>\n",
       "      <td>324000.0</td>\n",
       "      <td>179300.0</td>\n",
       "      <td>1608.0</td>\n",
       "      <td>1991.0</td>\n",
       "      <td>1.0</td>\n",
       "      <td>...</td>\n",
       "      <td>0.000000</td>\n",
       "      <td>0.018127</td>\n",
       "      <td>28682</td>\n",
       "      <td>23.192246</td>\n",
       "      <td>66.041420</td>\n",
       "      <td>0.9063</td>\n",
       "      <td>0.041</td>\n",
       "      <td>0.768</td>\n",
       "      <td>0.191</td>\n",
       "      <td>2017.0</td>\n",
       "    </tr>\n",
       "    <tr>\n",
       "      <th>4</th>\n",
       "      <td>4</td>\n",
       "      <td>2468</td>\n",
       "      <td>0.089410</td>\n",
       "      <td>0.016407</td>\n",
       "      <td>20180105</td>\n",
       "      <td>121900.0</td>\n",
       "      <td>107200.0</td>\n",
       "      <td>1600.0</td>\n",
       "      <td>1995.0</td>\n",
       "      <td>1.0</td>\n",
       "      <td>...</td>\n",
       "      <td>0.000000</td>\n",
       "      <td>0.017402</td>\n",
       "      <td>1014</td>\n",
       "      <td>19.625247</td>\n",
       "      <td>68.540434</td>\n",
       "      <td>0.4199</td>\n",
       "      <td>0.000</td>\n",
       "      <td>0.917</td>\n",
       "      <td>0.083</td>\n",
       "      <td>2018.0</td>\n",
       "    </tr>\n",
       "    <tr>\n",
       "      <th>6</th>\n",
       "      <td>6</td>\n",
       "      <td>7577</td>\n",
       "      <td>0.171715</td>\n",
       "      <td>-0.010112</td>\n",
       "      <td>20180619</td>\n",
       "      <td>187603.0</td>\n",
       "      <td>137100.0</td>\n",
       "      <td>2425.0</td>\n",
       "      <td>1995.0</td>\n",
       "      <td>1.0</td>\n",
       "      <td>...</td>\n",
       "      <td>0.000000</td>\n",
       "      <td>0.024704</td>\n",
       "      <td>6990</td>\n",
       "      <td>23.161660</td>\n",
       "      <td>64.320458</td>\n",
       "      <td>0.9466</td>\n",
       "      <td>0.000</td>\n",
       "      <td>0.847</td>\n",
       "      <td>0.153</td>\n",
       "      <td>2018.0</td>\n",
       "    </tr>\n",
       "    <tr>\n",
       "      <th>7</th>\n",
       "      <td>7</td>\n",
       "      <td>8922</td>\n",
       "      <td>0.046097</td>\n",
       "      <td>0.000000</td>\n",
       "      <td>20180130</td>\n",
       "      <td>159900.0</td>\n",
       "      <td>168200.0</td>\n",
       "      <td>1834.0</td>\n",
       "      <td>2002.0</td>\n",
       "      <td>1.0</td>\n",
       "      <td>...</td>\n",
       "      <td>0.000000</td>\n",
       "      <td>0.020000</td>\n",
       "      <td>11805</td>\n",
       "      <td>21.016518</td>\n",
       "      <td>68.140618</td>\n",
       "      <td>0.9098</td>\n",
       "      <td>0.000</td>\n",
       "      <td>0.895</td>\n",
       "      <td>0.105</td>\n",
       "      <td>2018.0</td>\n",
       "    </tr>\n",
       "    <tr>\n",
       "      <th>...</th>\n",
       "      <td>...</td>\n",
       "      <td>...</td>\n",
       "      <td>...</td>\n",
       "      <td>...</td>\n",
       "      <td>...</td>\n",
       "      <td>...</td>\n",
       "      <td>...</td>\n",
       "      <td>...</td>\n",
       "      <td>...</td>\n",
       "      <td>...</td>\n",
       "      <td>...</td>\n",
       "      <td>...</td>\n",
       "      <td>...</td>\n",
       "      <td>...</td>\n",
       "      <td>...</td>\n",
       "      <td>...</td>\n",
       "      <td>...</td>\n",
       "      <td>...</td>\n",
       "      <td>...</td>\n",
       "      <td>...</td>\n",
       "      <td>...</td>\n",
       "    </tr>\n",
       "    <tr>\n",
       "      <th>162042</th>\n",
       "      <td>162042</td>\n",
       "      <td>251351274</td>\n",
       "      <td>0.214333</td>\n",
       "      <td>0.035172</td>\n",
       "      <td>20210623</td>\n",
       "      <td>145000.0</td>\n",
       "      <td>88200.0</td>\n",
       "      <td>1352.0</td>\n",
       "      <td>1960.0</td>\n",
       "      <td>1.0</td>\n",
       "      <td>...</td>\n",
       "      <td>0.000000</td>\n",
       "      <td>0.021061</td>\n",
       "      <td>528</td>\n",
       "      <td>21.401515</td>\n",
       "      <td>71.401515</td>\n",
       "      <td>0.9588</td>\n",
       "      <td>0.000</td>\n",
       "      <td>0.699</td>\n",
       "      <td>0.301</td>\n",
       "      <td>2021.0</td>\n",
       "    </tr>\n",
       "    <tr>\n",
       "      <th>162043</th>\n",
       "      <td>162043</td>\n",
       "      <td>251404432</td>\n",
       "      <td>0.074812</td>\n",
       "      <td>-0.024138</td>\n",
       "      <td>20210623</td>\n",
       "      <td>290000.0</td>\n",
       "      <td>220600.0</td>\n",
       "      <td>2003.0</td>\n",
       "      <td>2006.0</td>\n",
       "      <td>1.0</td>\n",
       "      <td>...</td>\n",
       "      <td>0.000397</td>\n",
       "      <td>0.022533</td>\n",
       "      <td>1760</td>\n",
       "      <td>28.238636</td>\n",
       "      <td>59.034091</td>\n",
       "      <td>0.9738</td>\n",
       "      <td>0.000</td>\n",
       "      <td>0.661</td>\n",
       "      <td>0.339</td>\n",
       "      <td>2021.0</td>\n",
       "    </tr>\n",
       "    <tr>\n",
       "      <th>162045</th>\n",
       "      <td>162045</td>\n",
       "      <td>251455689</td>\n",
       "      <td>0.027551</td>\n",
       "      <td>0.000000</td>\n",
       "      <td>20210625</td>\n",
       "      <td>205000.0</td>\n",
       "      <td>171600.0</td>\n",
       "      <td>1579.0</td>\n",
       "      <td>2002.0</td>\n",
       "      <td>1.0</td>\n",
       "      <td>...</td>\n",
       "      <td>0.000000</td>\n",
       "      <td>0.019750</td>\n",
       "      <td>398</td>\n",
       "      <td>21.859296</td>\n",
       "      <td>61.306533</td>\n",
       "      <td>0.5267</td>\n",
       "      <td>0.000</td>\n",
       "      <td>0.923</td>\n",
       "      <td>0.077</td>\n",
       "      <td>2021.0</td>\n",
       "    </tr>\n",
       "    <tr>\n",
       "      <th>162046</th>\n",
       "      <td>162046</td>\n",
       "      <td>251507071</td>\n",
       "      <td>-0.158107</td>\n",
       "      <td>0.000000</td>\n",
       "      <td>20210311</td>\n",
       "      <td>815000.0</td>\n",
       "      <td>820400.0</td>\n",
       "      <td>3422.0</td>\n",
       "      <td>2017.0</td>\n",
       "      <td>1.0</td>\n",
       "      <td>...</td>\n",
       "      <td>0.000000</td>\n",
       "      <td>0.012016</td>\n",
       "      <td>1783</td>\n",
       "      <td>16.993831</td>\n",
       "      <td>74.425126</td>\n",
       "      <td>0.9134</td>\n",
       "      <td>0.000</td>\n",
       "      <td>0.840</td>\n",
       "      <td>0.160</td>\n",
       "      <td>2021.0</td>\n",
       "    </tr>\n",
       "    <tr>\n",
       "      <th>162047</th>\n",
       "      <td>162047</td>\n",
       "      <td>251601117</td>\n",
       "      <td>0.047014</td>\n",
       "      <td>0.011236</td>\n",
       "      <td>20210628</td>\n",
       "      <td>445000.0</td>\n",
       "      <td>389900.0</td>\n",
       "      <td>2790.0</td>\n",
       "      <td>2004.0</td>\n",
       "      <td>1.0</td>\n",
       "      <td>...</td>\n",
       "      <td>-0.003169</td>\n",
       "      <td>0.004847</td>\n",
       "      <td>4712</td>\n",
       "      <td>14.558574</td>\n",
       "      <td>76.273345</td>\n",
       "      <td>0.9892</td>\n",
       "      <td>0.000</td>\n",
       "      <td>0.749</td>\n",
       "      <td>0.251</td>\n",
       "      <td>2021.0</td>\n",
       "    </tr>\n",
       "  </tbody>\n",
       "</table>\n",
       "<p>93680 rows × 128 columns</p>\n",
       "</div>"
      ],
      "text/plain": [
       "         index  listingid  AVM_Error_List_x  Listing_Error_List_x  \\\n",
       "0            0        778         -0.510781             -0.043542   \n",
       "2            2        783          0.434195             -0.018210   \n",
       "4            4       2468          0.089410              0.016407   \n",
       "6            6       7577          0.171715             -0.010112   \n",
       "7            7       8922          0.046097              0.000000   \n",
       "...        ...        ...               ...                   ...   \n",
       "162042  162042  251351274          0.214333              0.035172   \n",
       "162043  162043  251404432          0.074812             -0.024138   \n",
       "162045  162045  251455689          0.027551              0.000000   \n",
       "162046  162046  251507071         -0.158107              0.000000   \n",
       "162047  162047  251601117          0.047014              0.011236   \n",
       "\n",
       "        Transdate_x  Transprice_x  total_value_x  cj_living_area_x  \\\n",
       "0          20171120      487762.0       460600.0            3593.0   \n",
       "2          20171222      324000.0       179300.0            1608.0   \n",
       "4          20180105      121900.0       107200.0            1600.0   \n",
       "6          20180619      187603.0       137100.0            2425.0   \n",
       "7          20180130      159900.0       168200.0            1834.0   \n",
       "...             ...           ...            ...               ...   \n",
       "162042     20210623      145000.0        88200.0            1352.0   \n",
       "162043     20210623      290000.0       220600.0            2003.0   \n",
       "162045     20210625      205000.0       171600.0            1579.0   \n",
       "162046     20210311      815000.0       820400.0            3422.0   \n",
       "162047     20210628      445000.0       389900.0            2790.0   \n",
       "\n",
       "        effective_year_built_x  story_x  ...  Listing_Error_Indicators_7  \\\n",
       "0                       1991.0      1.0  ...                    0.000000   \n",
       "2                       1991.0      1.0  ...                    0.000000   \n",
       "4                       1995.0      1.0  ...                    0.000000   \n",
       "6                       1995.0      1.0  ...                    0.000000   \n",
       "7                       2002.0      1.0  ...                    0.000000   \n",
       "...                        ...      ...  ...                         ...   \n",
       "162042                  1960.0      1.0  ...                    0.000000   \n",
       "162043                  2006.0      1.0  ...                    0.000397   \n",
       "162045                  2002.0      1.0  ...                    0.000000   \n",
       "162046                  2017.0      1.0  ...                    0.000000   \n",
       "162047                  2004.0      1.0  ...                   -0.003169   \n",
       "\n",
       "        Listing_Error_Indicators_8  Listing_Error_Indicators_9  \\\n",
       "0                         0.019255                         496   \n",
       "2                         0.018127                       28682   \n",
       "4                         0.017402                        1014   \n",
       "6                         0.024704                        6990   \n",
       "7                         0.020000                       11805   \n",
       "...                            ...                         ...   \n",
       "162042                    0.021061                         528   \n",
       "162043                    0.022533                        1760   \n",
       "162045                    0.019750                         398   \n",
       "162046                    0.012016                        1783   \n",
       "162047                    0.004847                        4712   \n",
       "\n",
       "        Listing_Error_Indicators_10  Listing_Error_Indicators_11  \\\n",
       "0                         24.798387                    65.725806   \n",
       "2                         23.192246                    66.041420   \n",
       "4                         19.625247                    68.540434   \n",
       "6                         23.161660                    64.320458   \n",
       "7                         21.016518                    68.140618   \n",
       "...                             ...                          ...   \n",
       "162042                    21.401515                    71.401515   \n",
       "162043                    28.238636                    59.034091   \n",
       "162045                    21.859296                    61.306533   \n",
       "162046                    16.993831                    74.425126   \n",
       "162047                    14.558574                    76.273345   \n",
       "\n",
       "        clean_publicremarks_nltkpolarity_0  \\\n",
       "0                                   0.9806   \n",
       "2                                   0.9063   \n",
       "4                                   0.4199   \n",
       "6                                   0.9466   \n",
       "7                                   0.9098   \n",
       "...                                    ...   \n",
       "162042                              0.9588   \n",
       "162043                              0.9738   \n",
       "162045                              0.5267   \n",
       "162046                              0.9134   \n",
       "162047                              0.9892   \n",
       "\n",
       "        clean_publicremarks_nltkpolarity_1  \\\n",
       "0                                    0.015   \n",
       "2                                    0.041   \n",
       "4                                    0.000   \n",
       "6                                    0.000   \n",
       "7                                    0.000   \n",
       "...                                    ...   \n",
       "162042                               0.000   \n",
       "162043                               0.000   \n",
       "162045                               0.000   \n",
       "162046                               0.000   \n",
       "162047                               0.000   \n",
       "\n",
       "        clean_publicremarks_nltkpolarity_2  \\\n",
       "0                                    0.765   \n",
       "2                                    0.768   \n",
       "4                                    0.917   \n",
       "6                                    0.847   \n",
       "7                                    0.895   \n",
       "...                                    ...   \n",
       "162042                               0.699   \n",
       "162043                               0.661   \n",
       "162045                               0.923   \n",
       "162046                               0.840   \n",
       "162047                               0.749   \n",
       "\n",
       "        clean_publicremarks_nltkpolarity_3  transaction_year  \n",
       "0                                    0.220            2017.0  \n",
       "2                                    0.191            2017.0  \n",
       "4                                    0.083            2018.0  \n",
       "6                                    0.153            2018.0  \n",
       "7                                    0.105            2018.0  \n",
       "...                                    ...               ...  \n",
       "162042                               0.301            2021.0  \n",
       "162043                               0.339            2021.0  \n",
       "162045                               0.077            2021.0  \n",
       "162046                               0.160            2021.0  \n",
       "162047                               0.251            2021.0  \n",
       "\n",
       "[93680 rows x 128 columns]"
      ]
     },
     "execution_count": 13,
     "metadata": {},
     "output_type": "execute_result"
    }
   ],
   "source": [
    "noun_sentence_df_final_joined_df_selected_columns_use"
   ]
  },
  {
   "cell_type": "code",
   "execution_count": 14,
   "metadata": {},
   "outputs": [
    {
     "data": {
      "text/plain": [
       "Index(['index', 'listingid', 'AVM_Error_List_x', 'Listing_Error_List_x',\n",
       "       'Transdate_x', 'Transprice_x', 'total_value_x', 'cj_living_area_x',\n",
       "       'effective_year_built_x', 'story_x',\n",
       "       ...\n",
       "       'Listing_Error_Indicators_7', 'Listing_Error_Indicators_8',\n",
       "       'Listing_Error_Indicators_9', 'Listing_Error_Indicators_10',\n",
       "       'Listing_Error_Indicators_11', 'clean_publicremarks_nltkpolarity_0',\n",
       "       'clean_publicremarks_nltkpolarity_1',\n",
       "       'clean_publicremarks_nltkpolarity_2',\n",
       "       'clean_publicremarks_nltkpolarity_3', 'transaction_year'],\n",
       "      dtype='object', length=128)"
      ]
     },
     "execution_count": 14,
     "metadata": {},
     "output_type": "execute_result"
    }
   ],
   "source": [
    "noun_sentence_df_final_joined_df_selected_columns_use.columns"
   ]
  },
  {
   "cell_type": "code",
   "execution_count": 15,
   "metadata": {},
   "outputs": [],
   "source": [
    "predictor_columns = ['cj_living_area_x', 'story_x', 'avmValue_x','bedrooms_x']"
   ]
  },
  {
   "cell_type": "code",
   "execution_count": 16,
   "metadata": {},
   "outputs": [],
   "source": [
    "columns_selected = noun_sentence_df_final_joined_df_selected_columns_use.columns[\\\n",
    "                         pd.Series(noun_sentence_df_final_joined_df_selected_columns_use.columns).str.\\\n",
    "                        startswith('AVM_Error_Indicators')]\n",
    "predictor_columns = predictor_columns + list(columns_selected)\n",
    "\n",
    "columns_selected = noun_sentence_df_final_joined_df_selected_columns_use.columns[\\\n",
    "                                pd.Series(noun_sentence_df_final_joined_df_selected_columns_use.columns).str.\\\n",
    "                                                        startswith('Listing_Error_Indicators')]\n",
    "predictor_columns = predictor_columns + list(columns_selected)\n",
    "\n",
    "columns_selected = noun_sentence_df_final_joined_df_selected_columns_use.columns[\\\n",
    "                                pd.Series(noun_sentence_df_final_joined_df_selected_columns_use.columns).str.\\\n",
    "                                                        startswith('sentence_composition')]\n",
    "predictor_columns = predictor_columns + list(columns_selected)\n",
    "\n",
    "\n",
    "columns_selected = noun_sentence_df_final_joined_df_selected_columns_use.columns[\\\n",
    "                                pd.Series(noun_sentence_df_final_joined_df_selected_columns_use.columns).str.\\\n",
    "                                                        startswith('clean_publicremarks_additional_words_vaderpolarity')]\n",
    "predictor_columns = predictor_columns + list(columns_selected)\n"
   ]
  },
  {
   "cell_type": "code",
   "execution_count": 17,
   "metadata": {},
   "outputs": [
    {
     "data": {
      "text/plain": [
       "['cj_living_area_x',\n",
       " 'story_x',\n",
       " 'avmValue_x',\n",
       " 'bedrooms_x',\n",
       " 'AVM_Error_Indicators_0_x',\n",
       " 'AVM_Error_Indicators_1_x',\n",
       " 'AVM_Error_Indicators_2_x',\n",
       " 'AVM_Error_Indicators_3_x',\n",
       " 'AVM_Error_Indicators_4_x',\n",
       " 'AVM_Error_Indicators_5_x',\n",
       " 'AVM_Error_Indicators_6_x',\n",
       " 'AVM_Error_Indicators_7_x',\n",
       " 'AVM_Error_Indicators_8_x',\n",
       " 'AVM_Error_Indicators_9_x',\n",
       " 'AVM_Error_Indicators_10_x',\n",
       " 'AVM_Error_Indicators_11_x',\n",
       " 'AVM_Error_Indicators_scale_x',\n",
       " 'AVM_Error_Indicators_0_y',\n",
       " 'AVM_Error_Indicators_1_y',\n",
       " 'AVM_Error_Indicators_2_y',\n",
       " 'AVM_Error_Indicators_3_y',\n",
       " 'AVM_Error_Indicators_4_y',\n",
       " 'AVM_Error_Indicators_5_y',\n",
       " 'AVM_Error_Indicators_6_y',\n",
       " 'AVM_Error_Indicators_7_y',\n",
       " 'AVM_Error_Indicators_8_y',\n",
       " 'AVM_Error_Indicators_9_y',\n",
       " 'AVM_Error_Indicators_10_y',\n",
       " 'AVM_Error_Indicators_11_y',\n",
       " 'AVM_Error_Indicators_scale_y',\n",
       " 'AVM_Error_Indicators_0',\n",
       " 'AVM_Error_Indicators_1',\n",
       " 'AVM_Error_Indicators_2',\n",
       " 'AVM_Error_Indicators_3',\n",
       " 'AVM_Error_Indicators_4',\n",
       " 'AVM_Error_Indicators_5',\n",
       " 'AVM_Error_Indicators_6',\n",
       " 'AVM_Error_Indicators_7',\n",
       " 'AVM_Error_Indicators_8',\n",
       " 'AVM_Error_Indicators_9',\n",
       " 'AVM_Error_Indicators_10',\n",
       " 'AVM_Error_Indicators_11',\n",
       " 'AVM_Error_Indicators_scale',\n",
       " 'Listing_Error_Indicators_0_x',\n",
       " 'Listing_Error_Indicators_1_x',\n",
       " 'Listing_Error_Indicators_2_x',\n",
       " 'Listing_Error_Indicators_3_x',\n",
       " 'Listing_Error_Indicators_4_x',\n",
       " 'Listing_Error_Indicators_5_x',\n",
       " 'Listing_Error_Indicators_6_x',\n",
       " 'Listing_Error_Indicators_7_x',\n",
       " 'Listing_Error_Indicators_8_x',\n",
       " 'Listing_Error_Indicators_9_x',\n",
       " 'Listing_Error_Indicators_10_x',\n",
       " 'Listing_Error_Indicators_11_x',\n",
       " 'Listing_Error_Indicators_0_y',\n",
       " 'Listing_Error_Indicators_1_y',\n",
       " 'Listing_Error_Indicators_2_y',\n",
       " 'Listing_Error_Indicators_3_y',\n",
       " 'Listing_Error_Indicators_4_y',\n",
       " 'Listing_Error_Indicators_5_y',\n",
       " 'Listing_Error_Indicators_6_y',\n",
       " 'Listing_Error_Indicators_7_y',\n",
       " 'Listing_Error_Indicators_8_y',\n",
       " 'Listing_Error_Indicators_9_y',\n",
       " 'Listing_Error_Indicators_10_y',\n",
       " 'Listing_Error_Indicators_11_y',\n",
       " 'Listing_Error_Indicators_0',\n",
       " 'Listing_Error_Indicators_1',\n",
       " 'Listing_Error_Indicators_2',\n",
       " 'Listing_Error_Indicators_3',\n",
       " 'Listing_Error_Indicators_4',\n",
       " 'Listing_Error_Indicators_5',\n",
       " 'Listing_Error_Indicators_6',\n",
       " 'Listing_Error_Indicators_7',\n",
       " 'Listing_Error_Indicators_8',\n",
       " 'Listing_Error_Indicators_9',\n",
       " 'Listing_Error_Indicators_10',\n",
       " 'Listing_Error_Indicators_11']"
      ]
     },
     "execution_count": 17,
     "metadata": {},
     "output_type": "execute_result"
    }
   ],
   "source": [
    "predictor_columns\n"
   ]
  },
  {
   "cell_type": "code",
   "execution_count": 64,
   "metadata": {},
   "outputs": [],
   "source": [
    "predictor_columns = [ 'AVM_Error_Indicators_7_x',\n",
    " 'AVM_Error_Indicators_11_x',\n",
    " 'AVM_Error_Indicators_5',\n",
    " 'AVM_Error_Indicators_scale_y',\n",
    " 'AVM_Error_Indicators_scale',\n",
    " 'AVM_Error_Indicators_4_y',\n",
    " 'AVM_Error_Indicators_5_y',\n",
    " 'AVM_Error_Indicators_1_y',\n",
    " 'AVM_Error_Indicators_10_x',\n",
    " 'AVM_Error_Indicators_4',\n",
    " 'AVM_Error_Indicators_scale_x',\n",
    " 'AVM_Error_Indicators_0',\n",
    " 'AVM_Error_Indicators_1_x',\n",
    " 'AVM_Error_Indicators_6_x',\n",
    " 'AVM_Error_Indicators_0_y',\n",
    " 'cj_living_area_x',\n",
    " 'AVM_Error_Indicators_4_x',\n",
    " 'AVM_Error_Indicators_5_x',\n",
    " 'AVM_Error_Indicators_0_x',\n",
    " 'avmValue_x']"
   ]
  },
  {
   "cell_type": "code",
   "execution_count": null,
   "metadata": {},
   "outputs": [],
   "source": []
  },
  {
   "cell_type": "code",
   "execution_count": 65,
   "metadata": {},
   "outputs": [
    {
     "data": {
      "text/plain": [
       "Index(['index', 'listingid', 'AVM_Error_List_x', 'Listing_Error_List_x',\n",
       "       'Transdate_x', 'Transprice_x', 'total_value_x', 'cj_living_area_x',\n",
       "       'effective_year_built_x', 'story_x',\n",
       "       ...\n",
       "       'Listing_Error_Indicators_7', 'Listing_Error_Indicators_8',\n",
       "       'Listing_Error_Indicators_9', 'Listing_Error_Indicators_10',\n",
       "       'Listing_Error_Indicators_11', 'clean_publicremarks_nltkpolarity_0',\n",
       "       'clean_publicremarks_nltkpolarity_1',\n",
       "       'clean_publicremarks_nltkpolarity_2',\n",
       "       'clean_publicremarks_nltkpolarity_3', 'transaction_year'],\n",
       "      dtype='object', length=128)"
      ]
     },
     "execution_count": 65,
     "metadata": {},
     "output_type": "execute_result"
    }
   ],
   "source": [
    "noun_sentence_df_final_joined_df_selected_columns_use.columns"
   ]
  },
  {
   "cell_type": "code",
   "execution_count": 66,
   "metadata": {},
   "outputs": [],
   "source": [
    "Predictors = noun_sentence_df_final_joined_df_selected_columns_use[predictor_columns].to_numpy()"
   ]
  },
  {
   "cell_type": "code",
   "execution_count": null,
   "metadata": {},
   "outputs": [],
   "source": []
  },
  {
   "cell_type": "code",
   "execution_count": 67,
   "metadata": {},
   "outputs": [
    {
     "data": {
      "text/plain": [
       "(93680, 20)"
      ]
     },
     "execution_count": 67,
     "metadata": {},
     "output_type": "execute_result"
    }
   ],
   "source": [
    "Predictors.shape"
   ]
  },
  {
   "cell_type": "code",
   "execution_count": 68,
   "metadata": {},
   "outputs": [],
   "source": [
    "predictand = noun_sentence_df_final_joined_df_selected_columns_use.avmerror_x.values"
   ]
  },
  {
   "cell_type": "code",
   "execution_count": 69,
   "metadata": {},
   "outputs": [
    {
     "data": {
      "text/plain": [
       "(93680,)"
      ]
     },
     "execution_count": 69,
     "metadata": {},
     "output_type": "execute_result"
    }
   ],
   "source": [
    "predictand.shape"
   ]
  },
  {
   "cell_type": "code",
   "execution_count": null,
   "metadata": {},
   "outputs": [],
   "source": []
  },
  {
   "cell_type": "code",
   "execution_count": 70,
   "metadata": {},
   "outputs": [],
   "source": [
    "train_samples = 73680  # Samples used for training the models\n",
    "X_train, X_test, y_train, y_test = train_test_split(\n",
    "    Predictors,\n",
    "    predictand,\n",
    "    shuffle=False,\n",
    "    test_size=len(Predictors) - train_samples,\n",
    ")"
   ]
  },
  {
   "cell_type": "code",
   "execution_count": 71,
   "metadata": {},
   "outputs": [
    {
     "data": {
      "text/plain": [
       "2612668.69"
      ]
     },
     "execution_count": 71,
     "metadata": {},
     "output_type": "execute_result"
    }
   ],
   "source": [
    "np.max(X_train)"
   ]
  },
  {
   "cell_type": "code",
   "execution_count": 72,
   "metadata": {},
   "outputs": [],
   "source": [
    "model = RandomForestRegressor(n_estimators = 100,  min_samples_leaf=30, \n",
    "                              max_features = 6, max_depth=40\n",
    "                              )\n",
    "\n",
    "#model = RandomForestRegressor()\n",
    "                              \n"
   ]
  },
  {
   "cell_type": "code",
   "execution_count": 73,
   "metadata": {},
   "outputs": [
    {
     "data": {
      "text/plain": [
       "RandomForestRegressor(max_depth=40, max_features=6, min_samples_leaf=30)"
      ]
     },
     "execution_count": 73,
     "metadata": {},
     "output_type": "execute_result"
    }
   ],
   "source": [
    "model.fit(X_train, y_train)"
   ]
  },
  {
   "cell_type": "code",
   "execution_count": 74,
   "metadata": {},
   "outputs": [
    {
     "name": "stdout",
     "output_type": "stream",
     "text": [
      "{'bootstrap': True, 'ccp_alpha': 0.0, 'criterion': 'mse', 'max_depth': 40, 'max_features': 6, 'max_leaf_nodes': None, 'max_samples': None, 'min_impurity_decrease': 0.0, 'min_impurity_split': None, 'min_samples_leaf': 30, 'min_samples_split': 2, 'min_weight_fraction_leaf': 0.0, 'n_estimators': 100, 'n_jobs': None, 'oob_score': False, 'random_state': None, 'verbose': 0, 'warm_start': False}\n"
     ]
    }
   ],
   "source": [
    "print(model.get_params(deep=True))"
   ]
  },
  {
   "cell_type": "code",
   "execution_count": null,
   "metadata": {},
   "outputs": [],
   "source": []
  },
  {
   "cell_type": "code",
   "execution_count": 75,
   "metadata": {},
   "outputs": [],
   "source": [
    "predictions_test = model.predict(X_test)\n",
    "predictions_train = model.predict(X_train)"
   ]
  },
  {
   "cell_type": "code",
   "execution_count": 76,
   "metadata": {},
   "outputs": [
    {
     "data": {
      "text/plain": [
       "-1.4895360588235294"
      ]
     },
     "execution_count": 76,
     "metadata": {},
     "output_type": "execute_result"
    }
   ],
   "source": [
    "y_train.min()"
   ]
  },
  {
   "cell_type": "code",
   "execution_count": 77,
   "metadata": {},
   "outputs": [
    {
     "data": {
      "text/plain": [
       "[<matplotlib.lines.Line2D at 0x7fb072e04ba8>]"
      ]
     },
     "execution_count": 77,
     "metadata": {},
     "output_type": "execute_result"
    },
    {
     "data": {
      "image/png": "[encoded data removed]",
      "text/plain": [
       "<Figure size 432x288 with 1 Axes>"
      ]
     },
     "metadata": {},
     "output_type": "display_data"
    }
   ],
   "source": [
    "plt.plot(predictions_train,y_train,'o')"
   ]
  },
  {
   "cell_type": "code",
   "execution_count": 78,
   "metadata": {},
   "outputs": [
    {
     "data": {
      "text/plain": [
       "[<matplotlib.lines.Line2D at 0x7fb072de4780>]"
      ]
     },
     "execution_count": 78,
     "metadata": {},
     "output_type": "execute_result"
    },
    {
     "data": {
      "image/png": "[encoded data removed]",
      "text/plain": [
       "<Figure size 432x288 with 1 Axes>"
      ]
     },
     "metadata": {},
     "output_type": "display_data"
    }
   ],
   "source": [
    "plt.plot(predictions_test,y_test,'o')"
   ]
  },
  {
   "cell_type": "code",
   "execution_count": null,
   "metadata": {},
   "outputs": [],
   "source": []
  },
  {
   "cell_type": "code",
   "execution_count": 79,
   "metadata": {},
   "outputs": [],
   "source": [
    "df = noun_sentence_df_final_joined_df_selected_columns_use.copy()\n"
   ]
  },
  {
   "cell_type": "code",
   "execution_count": 80,
   "metadata": {},
   "outputs": [],
   "source": [
    "predictions_test_value = df['avmValue_x'].values[train_samples:]/(1-predictions_test)\n",
    "predictions_train_value = df['avmValue_x'].values[:train_samples]/(1-predictions_train)\n",
    "#predictions_train_value = df['avmValue'].values/(1-Predictors)"
   ]
  },
  {
   "cell_type": "code",
   "execution_count": null,
   "metadata": {},
   "outputs": [],
   "source": []
  },
  {
   "cell_type": "code",
   "execution_count": null,
   "metadata": {},
   "outputs": [],
   "source": []
  },
  {
   "cell_type": "code",
   "execution_count": 81,
   "metadata": {},
   "outputs": [
    {
     "data": {
      "text/plain": [
       "Index(['index', 'listingid', 'AVM_Error_List_x', 'Listing_Error_List_x',\n",
       "       'Transdate_x', 'Transprice_x', 'total_value_x', 'cj_living_area_x',\n",
       "       'effective_year_built_x', 'story_x',\n",
       "       ...\n",
       "       'Listing_Error_Indicators_7', 'Listing_Error_Indicators_8',\n",
       "       'Listing_Error_Indicators_9', 'Listing_Error_Indicators_10',\n",
       "       'Listing_Error_Indicators_11', 'clean_publicremarks_nltkpolarity_0',\n",
       "       'clean_publicremarks_nltkpolarity_1',\n",
       "       'clean_publicremarks_nltkpolarity_2',\n",
       "       'clean_publicremarks_nltkpolarity_3', 'transaction_year'],\n",
       "      dtype='object', length=128)"
      ]
     },
     "execution_count": 81,
     "metadata": {},
     "output_type": "execute_result"
    }
   ],
   "source": [
    "df.columns"
   ]
  },
  {
   "cell_type": "code",
   "execution_count": 82,
   "metadata": {},
   "outputs": [
    {
     "name": "stdout",
     "output_type": "stream",
     "text": [
      "0.11850164652284076\n",
      "0.13547872539937772\n"
     ]
    }
   ],
   "source": [
    "print(np.mean(np.abs(df['Transprice_x'].values[:train_samples]-predictions_train_value)/\\\n",
    "              (df['Transprice_x'].values[:train_samples])))\n",
    "print(np.mean(np.abs(df['Transprice_x'].values[:train_samples]- df['avmValue_x'].values[:train_samples])/\\\n",
    "              (df['Transprice_x'].values[:train_samples])))\n"
   ]
  },
  {
   "cell_type": "code",
   "execution_count": 83,
   "metadata": {},
   "outputs": [
    {
     "name": "stdout",
     "output_type": "stream",
     "text": [
      "0.1229358753079694\n",
      "0.1302861219856423\n"
     ]
    }
   ],
   "source": [
    "print(np.mean(np.abs(df['Transprice_x'].values[train_samples:]-predictions_test_value)/\\\n",
    "              (df['Transprice_x'].values[train_samples:])))\n",
    "print(np.mean(np.abs(df['Transprice_x'].values[train_samples:]- df['avmValue_x'].values[train_samples:])/\\\n",
    "              (df['Transprice_x'].values[train_samples:])))\n"
   ]
  },
  {
   "cell_type": "code",
   "execution_count": 84,
   "metadata": {},
   "outputs": [
    {
     "data": {
      "text/plain": [
       "[<matplotlib.lines.Line2D at 0x7fb072dbf4a8>]"
      ]
     },
     "execution_count": 84,
     "metadata": {},
     "output_type": "execute_result"
    },
    {
     "data": {
      "image/png": "[encoded data removed]",
      "text/plain": [
       "<Figure size 432x288 with 1 Axes>"
      ]
     },
     "metadata": {},
     "output_type": "display_data"
    }
   ],
   "source": [
    "plt.plot(predictions_train_value,df['Transprice_x'].values[:train_samples],'o')"
   ]
  },
  {
   "cell_type": "code",
   "execution_count": 85,
   "metadata": {},
   "outputs": [
    {
     "data": {
      "text/plain": [
       "Index(['index', 'listingid', 'AVM_Error_List_x', 'Listing_Error_List_x',\n",
       "       'Transdate_x', 'Transprice_x', 'total_value_x', 'cj_living_area_x',\n",
       "       'effective_year_built_x', 'story_x',\n",
       "       ...\n",
       "       'Listing_Error_Indicators_7', 'Listing_Error_Indicators_8',\n",
       "       'Listing_Error_Indicators_9', 'Listing_Error_Indicators_10',\n",
       "       'Listing_Error_Indicators_11', 'clean_publicremarks_nltkpolarity_0',\n",
       "       'clean_publicremarks_nltkpolarity_1',\n",
       "       'clean_publicremarks_nltkpolarity_2',\n",
       "       'clean_publicremarks_nltkpolarity_3', 'transaction_year'],\n",
       "      dtype='object', length=128)"
      ]
     },
     "execution_count": 85,
     "metadata": {},
     "output_type": "execute_result"
    }
   ],
   "source": [
    "df.columns"
   ]
  },
  {
   "cell_type": "code",
   "execution_count": null,
   "metadata": {},
   "outputs": [],
   "source": []
  },
  {
   "cell_type": "code",
   "execution_count": null,
   "metadata": {},
   "outputs": [],
   "source": []
  },
  {
   "cell_type": "code",
   "execution_count": null,
   "metadata": {},
   "outputs": [],
   "source": []
  },
  {
   "cell_type": "code",
   "execution_count": 86,
   "metadata": {},
   "outputs": [
    {
     "data": {
      "image/png": "[encoded data removed]",
      "text/plain": [
       "<Figure size 864x720 with 1 Axes>"
      ]
     },
     "metadata": {},
     "output_type": "display_data"
    }
   ],
   "source": [
    "fig = plt.figure(figsize=(12,10))\n",
    "importances = model.feature_importances_\n",
    "indices = np.argsort(importances)\n",
    "features = predictor_columns\n",
    "plt.title('Feature Importances')\n",
    "plt.barh(range(len(indices)), importances[indices], color='b', align='center')\n",
    "plt.yticks(range(len(indices)), [features[i] for i in indices])\n",
    "plt.xlabel('Relative Importance')\n",
    "plt.show()"
   ]
  },
  {
   "cell_type": "code",
   "execution_count": null,
   "metadata": {},
   "outputs": [],
   "source": []
  },
  {
   "cell_type": "code",
   "execution_count": null,
   "metadata": {},
   "outputs": [],
   "source": []
  },
  {
   "cell_type": "code",
   "execution_count": 63,
   "metadata": {},
   "outputs": [
    {
     "data": {
      "text/plain": [
       "['AVM_Error_Indicators_8_x',\n",
       " 'AVM_Error_Indicators_11_y',\n",
       " 'AVM_Error_Indicators_10_y',\n",
       " 'AVM_Error_Indicators_7_x',\n",
       " 'AVM_Error_Indicators_11_x',\n",
       " 'AVM_Error_Indicators_5',\n",
       " 'AVM_Error_Indicators_scale_y',\n",
       " 'AVM_Error_Indicators_scale',\n",
       " 'AVM_Error_Indicators_4_y',\n",
       " 'AVM_Error_Indicators_5_y',\n",
       " 'AVM_Error_Indicators_1_y',\n",
       " 'AVM_Error_Indicators_10_x',\n",
       " 'AVM_Error_Indicators_4',\n",
       " 'AVM_Error_Indicators_scale_x',\n",
       " 'AVM_Error_Indicators_0',\n",
       " 'AVM_Error_Indicators_1_x',\n",
       " 'AVM_Error_Indicators_6_x',\n",
       " 'AVM_Error_Indicators_0_y',\n",
       " 'cj_living_area_x',\n",
       " 'AVM_Error_Indicators_4_x',\n",
       " 'AVM_Error_Indicators_5_x',\n",
       " 'AVM_Error_Indicators_0_x',\n",
       " 'avmValue_x']"
      ]
     },
     "execution_count": 63,
     "metadata": {},
     "output_type": "execute_result"
    }
   ],
   "source": [
    "[features[i] for i in indices]"
   ]
  },
  {
   "cell_type": "code",
   "execution_count": 87,
   "metadata": {},
   "outputs": [
    {
     "data": {
      "text/plain": [
       "['RF_newmodel_AL_01_3mins.sav']"
      ]
     },
     "execution_count": 87,
     "metadata": {},
     "output_type": "execute_result"
    }
   ],
   "source": [
    "import joblib\n",
    "filename = 'RF_newmodel_'+state+'_01_3mins.sav'\n",
    "joblib.dump(model,filename)"
   ]
  },
  {
   "cell_type": "code",
   "execution_count": null,
   "metadata": {},
   "outputs": [],
   "source": []
  }
 ],
 "metadata": {
  "kernelspec": {
   "display_name": "Python 3",
   "language": "python",
   "name": "python3"
  },
  "language_info": {
   "codemirror_mode": {
    "name": "ipython",
    "version": 3
   },
   "file_extension": ".py",
   "mimetype": "text/x-python",
   "name": "python",
   "nbconvert_exporter": "python",
   "pygments_lexer": "ipython3",
   "version": "3.6.10"
  }
 },
 "nbformat": 4,
 "nbformat_minor": 4
}
