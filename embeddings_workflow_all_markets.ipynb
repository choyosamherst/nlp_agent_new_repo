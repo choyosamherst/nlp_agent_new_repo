{
 "cells": [
  {
   "cell_type": "code",
   "execution_count": 1,
   "metadata": {},
   "outputs": [],
   "source": [
    "import numpy as np\n",
    "import pandas as pd\n",
    "\n",
    "import time\n",
    "\n",
    "import matplotlib.pyplot as plt\n",
    "import os\n",
    "import re\n",
    "import seaborn as sns"
   ]
  },
  {
   "cell_type": "code",
   "execution_count": 2,
   "metadata": {},
   "outputs": [],
   "source": [
    "\n",
    "import tensorflow as tf\n",
    "import tensorflow_hub as hub\n"
   ]
  },
  {
   "cell_type": "code",
   "execution_count": 6,
   "metadata": {},
   "outputs": [],
   "source": [
    "import glob"
   ]
  },
  {
   "cell_type": "code",
   "execution_count": 3,
   "metadata": {},
   "outputs": [],
   "source": [
    "import torch\n",
    "from transformers import BertTokenizer, BertModel\n",
    "\n",
    "# OPTIONAL: if you want to have more information on what's happening, activate the logger as follows\n",
    "#import logging\n",
    "#logging.basicConfig(level=logging.INFO)\n"
   ]
  },
  {
   "cell_type": "code",
   "execution_count": 4,
   "metadata": {},
   "outputs": [
    {
     "name": "stderr",
     "output_type": "stream",
     "text": [
      "INFO:absl:Using /tmp/tfhub_modules to cache modules.\n",
      "INFO:absl:Downloading TF-Hub Module 'https://tfhub.dev/google/universal-sentence-encoder/4'.\n",
      "INFO:absl:Downloaded https://tfhub.dev/google/universal-sentence-encoder/4, Total size: 987.47MB\n",
      "INFO:absl:Downloaded TF-Hub Module 'https://tfhub.dev/google/universal-sentence-encoder/4'.\n"
     ]
    },
    {
     "name": "stdout",
     "output_type": "stream",
     "text": [
      "module https://tfhub.dev/google/universal-sentence-encoder/4 loaded\n"
     ]
    }
   ],
   "source": [
    "module_url = \"https://tfhub.dev/google/universal-sentence-encoder/4\"\n",
    "model = hub.load(module_url)\n",
    "print (\"module %s loaded\" % module_url)\n"
   ]
  },
  {
   "cell_type": "code",
   "execution_count": 5,
   "metadata": {},
   "outputs": [],
   "source": [
    "def embed(input):\n",
    "    return model(input)"
   ]
  },
  {
   "cell_type": "code",
   "execution_count": 12,
   "metadata": {},
   "outputs": [],
   "source": [
    "filtered_files = glob.glob(\"comments/raw_comments/*_filtered.fea\")\n"
   ]
  },
  {
   "cell_type": "code",
   "execution_count": 15,
   "metadata": {},
   "outputs": [],
   "source": [
    "column = 'clean_publicremarks'"
   ]
  },
  {
   "cell_type": "code",
   "execution_count": null,
   "metadata": {},
   "outputs": [
    {
     "name": "stdout",
     "output_type": "stream",
     "text": [
      "comments/raw_comments/agent_comments_AL_filtered.fea\n",
      "219915\n"
     ]
    },
    {
     "name": "stderr",
     "output_type": "stream",
     "text": [
      "/usr/local/lib/python3.6/site-packages/ipykernel_launcher.py:14: SettingWithCopyWarning: \n",
      "A value is trying to be set on a copy of a slice from a DataFrame.\n",
      "Try using .loc[row_indexer,col_indexer] = value instead\n",
      "\n",
      "See the caveats in the documentation: http://pandas.pydata.org/pandas-docs/stable/user_guide/indexing.html#returning-a-view-versus-a-copy\n",
      "  \n"
     ]
    },
    {
     "name": "stdout",
     "output_type": "stream",
     "text": [
      "1533.975138425827\n",
      "comments/raw_comments/agent_comments_AR_filtered.fea\n",
      "100806\n",
      "688.1883978843689\n",
      "comments/raw_comments/agent_comments_AZ_filtered.fea\n",
      "405421\n",
      "2737.914284467697\n",
      "comments/raw_comments/agent_comments_CA_filtered.fea\n",
      "2103405\n",
      "15260.3189868927\n",
      "comments/raw_comments/agent_comments_CO_filtered.fea\n",
      "588449\n",
      "4223.244516849518\n",
      "comments/raw_comments/agent_comments_CT_filtered.fea\n",
      "323150\n",
      "2243.368693113327\n",
      "comments/raw_comments/agent_comments_DC_filtered.fea\n",
      "5970\n",
      "39.12310552597046\n",
      "comments/raw_comments/agent_comments_DE_filtered.fea\n",
      "28154\n",
      "193.3901243209839\n",
      "comments/raw_comments/agent_comments_FL_filtered.fea\n",
      "1904538\n",
      "13974.106743097305\n",
      "comments/raw_comments/agent_comments_GA_filtered.fea\n",
      "735424\n",
      "5242.471164941788\n",
      "comments/raw_comments/agent_comments_HI_filtered.fea\n",
      "27440\n",
      "189.95008325576782\n",
      "comments/raw_comments/agent_comments_IA_filtered.fea\n",
      "9900\n",
      "65.98288869857788\n",
      "comments/raw_comments/agent_comments_ID_filtered.fea\n",
      "169742\n",
      "1143.1437592506409\n",
      "comments/raw_comments/agent_comments_IL_filtered.fea\n",
      "839221\n",
      "5979.375020027161\n",
      "comments/raw_comments/agent_comments_IN_filtered.fea\n",
      "151574\n",
      "1066.9060847759247\n",
      "comments/raw_comments/agent_comments_KS_filtered.fea\n",
      "147183\n",
      "999.7197875976562\n",
      "comments/raw_comments/agent_comments_KY_filtered.fea\n",
      "242567\n",
      "1713.6544857025146\n",
      "comments/raw_comments/agent_comments_LA_filtered.fea\n",
      "250540\n",
      "1751.9425554275513\n",
      "comments/raw_comments/agent_comments_MA_filtered.fea\n",
      "559949\n",
      "4038.4284591674805\n",
      "comments/raw_comments/agent_comments_MD_filtered.fea\n",
      "193090\n",
      "1323.891222000122\n",
      "comments/raw_comments/agent_comments_ME_filtered.fea\n",
      "44551\n",
      "299.90229296684265\n",
      "comments/raw_comments/agent_comments_MI_filtered.fea\n",
      "596752\n",
      "4279.894123315811\n",
      "comments/raw_comments/agent_comments_MN_filtered.fea\n",
      "528185\n",
      "3698.160129070282\n",
      "comments/raw_comments/agent_comments_MO_filtered.fea\n",
      "470610\n",
      "3406.8800921440125\n",
      "comments/raw_comments/agent_comments_MS_filtered.fea\n",
      "47225\n",
      "325.7927100658417\n",
      "comments/raw_comments/agent_comments_MT_filtered.fea\n",
      "32477\n",
      "218.65519905090332\n",
      "comments/raw_comments/agent_comments_NC_filtered.fea\n",
      "900097\n",
      "6188.19575881958\n",
      "comments/raw_comments/agent_comments_ND_filtered.fea\n",
      "142\n",
      "2.7120792865753174\n",
      "comments/raw_comments/agent_comments_NE_filtered.fea\n",
      "1197\n",
      "7.869806289672852\n",
      "comments/raw_comments/agent_comments_NH_filtered.fea\n",
      "124762\n",
      "864.8393874168396\n",
      "comments/raw_comments/agent_comments_NJ_filtered.fea\n",
      "337284\n",
      "2349.478572368622\n",
      "comments/raw_comments/agent_comments_NM_filtered.fea\n",
      "88104\n",
      "605.4311575889587\n",
      "comments/raw_comments/agent_comments_NV_filtered.fea\n",
      "117151\n",
      "792.7674572467804\n",
      "comments/raw_comments/agent_comments_NY_filtered.fea\n",
      "355870\n",
      "2403.752871990204\n",
      "comments/raw_comments/agent_comments_OH_filtered.fea\n",
      "1042720\n",
      "7380.4692595005035\n",
      "comments/raw_comments/agent_comments_OK_filtered.fea\n",
      "379724\n",
      "2464.8984501361847\n",
      "comments/raw_comments/agent_comments_OR_filtered.fea\n",
      "400073\n",
      "2762.1342866420746\n",
      "comments/raw_comments/agent_comments_PA_filtered.fea\n",
      "341823\n",
      "2376.124876499176\n",
      "comments/raw_comments/agent_comments_RI_filtered.fea\n",
      "93049\n",
      "620.9966006278992\n",
      "comments/raw_comments/agent_comments_SC_filtered.fea\n",
      "99368\n",
      "676.4857795238495\n",
      "comments/raw_comments/agent_comments_SD_filtered.fea\n",
      "1640\n",
      "11.040941953659058\n",
      "comments/raw_comments/agent_comments_TN_filtered.fea\n",
      "275205\n",
      "1528.913583278656\n",
      "comments/raw_comments/agent_comments_TX_filtered.fea\n",
      "2278007\n"
     ]
    }
   ],
   "source": [
    "for file in filtered_files:\n",
    "    \n",
    "    print(file)\n",
    "    df_sales = pd.read_feather(file)\n",
    "    print(len(df_sales))\n",
    "    tic = time.time()\n",
    "    \n",
    "    #df_sales = df_sales.head(10)\n",
    "    \n",
    "    new_column = column + '_embeddings'\n",
    "    df_sales[new_column] = df_sales[column].apply(lambda x: embed([x]).numpy()) \n",
    "    \n",
    "    df_sales_embed = df_sales[['listingid', new_column]]\n",
    "    df_sales_embed[new_column] = df_sales_embed[new_column].apply(lambda x: x[0].reshape(len(x[0])))\n",
    "    nelements = (len(df_sales_embed[new_column][0]))\n",
    "    list_tmp = [str(i) for i in range(nelements)] \n",
    "    column_names = [new_column + '_' + str(i) for i in list_tmp]\n",
    "    split_df = pd.DataFrame(df_sales_embed[new_column].tolist(), columns=column_names)\n",
    "    \n",
    "    df_sales_use = pd.concat([df_sales_embed, split_df], axis=1)\n",
    "    df_sales_use = df_sales_use.drop(columns = [new_column])\n",
    "    \n",
    "    toc = time.time()\n",
    "    print(toc - tic)\n",
    "    \n",
    "    embed_file = file.split('.')[0] + '_embedding.fea'\n",
    "    df_sales_use.to_feather(embed_file)  "
   ]
  },
  {
   "cell_type": "code",
   "execution_count": null,
   "metadata": {},
   "outputs": [],
   "source": []
  },
  {
   "cell_type": "code",
   "execution_count": null,
   "metadata": {},
   "outputs": [],
   "source": []
  },
  {
   "cell_type": "code",
   "execution_count": null,
   "metadata": {},
   "outputs": [],
   "source": []
  },
  {
   "cell_type": "code",
   "execution_count": null,
   "metadata": {},
   "outputs": [],
   "source": []
  },
  {
   "cell_type": "code",
   "execution_count": 14,
   "metadata": {},
   "outputs": [
    {
     "data": {
      "text/plain": [
       "Index(['index', 'listingid', 'asgpropid', 'qtr', 'tax_year', 'cbsa_div',\n",
       "       'cbsa', 'state', 'Transdate', 'Transprice', 'bedrooms', 'total_value',\n",
       "       'cj_living_area', 'basement', 'has_pool', 'parking', 'is_poor',\n",
       "       'is_good', 'HAS_VIEW', 'has_golf', 'has_water', 'has_woods', 'has_hill',\n",
       "       'fips_code', 'census_tract', 'zip', 'effective_year_built', 'story',\n",
       "       'ListingPrice', 'publicremarks', 'avmValue', 'avmerror', 'rentsale',\n",
       "       'publicremarks_prepared', 'publicremarks_prepared_unicode',\n",
       "       'clean_publicremarks', 'clean_publicremarks_stemmed',\n",
       "       'clean_publicremarks_lemmatized', 'clean_publicremarks_nltkpolarity'],\n",
       "      dtype='object')"
      ]
     },
     "execution_count": 14,
     "metadata": {},
     "output_type": "execute_result"
    }
   ],
   "source": [
    "df_sales_use.columns"
   ]
  },
  {
   "cell_type": "code",
   "execution_count": null,
   "metadata": {},
   "outputs": [],
   "source": []
  },
  {
   "cell_type": "code",
   "execution_count": null,
   "metadata": {},
   "outputs": [],
   "source": []
  },
  {
   "cell_type": "code",
   "execution_count": null,
   "metadata": {},
   "outputs": [],
   "source": []
  },
  {
   "cell_type": "code",
   "execution_count": null,
   "metadata": {},
   "outputs": [],
   "source": []
  },
  {
   "cell_type": "code",
   "execution_count": null,
   "metadata": {},
   "outputs": [],
   "source": []
  },
  {
   "cell_type": "code",
   "execution_count": null,
   "metadata": {},
   "outputs": [],
   "source": []
  },
  {
   "cell_type": "code",
   "execution_count": null,
   "metadata": {},
   "outputs": [],
   "source": []
  }
 ],
 "metadata": {
  "kernelspec": {
   "display_name": "Python 3",
   "language": "python",
   "name": "python3"
  },
  "language_info": {
   "codemirror_mode": {
    "name": "ipython",
    "version": 3
   },
   "file_extension": ".py",
   "mimetype": "text/x-python",
   "name": "python",
   "nbconvert_exporter": "python",
   "pygments_lexer": "ipython3",
   "version": "3.6.10"
  }
 },
 "nbformat": 4,
 "nbformat_minor": 4
}
