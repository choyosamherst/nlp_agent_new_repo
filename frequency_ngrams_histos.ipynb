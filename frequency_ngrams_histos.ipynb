{
 "cells": [
  {
   "cell_type": "code",
   "execution_count": 1,
   "metadata": {},
   "outputs": [],
   "source": [
    "from importlib import reload\n",
    "import pandas as pd"
   ]
  },
  {
   "cell_type": "code",
   "execution_count": 2,
   "metadata": {},
   "outputs": [],
   "source": [
    "import numpy as np\n",
    "import spacy\n",
    "from wordcloud import WordCloud\n",
    "\n",
    "\n",
    "import matplotlib.pyplot as plt"
   ]
  },
  {
   "cell_type": "code",
   "execution_count": 3,
   "metadata": {},
   "outputs": [],
   "source": [
    "import nltk\n",
    "#nltk.download('stopwords')"
   ]
  },
  {
   "cell_type": "code",
   "execution_count": 4,
   "metadata": {},
   "outputs": [],
   "source": [
    "from nltk.corpus import stopwords\n",
    "from nltk.stem.wordnet import WordNetLemmatizer\n"
   ]
  },
  {
   "cell_type": "code",
   "execution_count": 5,
   "metadata": {},
   "outputs": [
    {
     "name": "stdout",
     "output_type": "stream",
     "text": [
      "2022-01-24 18:51:37,143 loading file /home/cdsw/.flair/models/sentiment-en-mix-distillbert_4.pt\n"
     ]
    }
   ],
   "source": [
    "import nlp_pandas_functions as npf\n",
    "#dir(npf)"
   ]
  },
  {
   "cell_type": "code",
   "execution_count": 6,
   "metadata": {},
   "outputs": [],
   "source": [
    "#pip3 install pyarrow\n",
    "#pip3 install spacy\n",
    "#pip3 install wordcloud\n",
    "#pip3 install nltk\n",
    "#pip3 install sklearn\n",
    "#pip3 install ipdb"
   ]
  },
  {
   "cell_type": "code",
   "execution_count": null,
   "metadata": {},
   "outputs": [],
   "source": []
  },
  {
   "cell_type": "code",
   "execution_count": 7,
   "metadata": {},
   "outputs": [
    {
     "data": {
      "text/plain": [
       "['__builtins__',\n",
       " '__cached__',\n",
       " '__doc__',\n",
       " '__file__',\n",
       " '__loader__',\n",
       " '__name__',\n",
       " '__package__',\n",
       " '__spec__',\n",
       " 'bigrams_join',\n",
       " 'count_n_grams',\n",
       " 'defaultdict',\n",
       " 'df_get_n_grams_count',\n",
       " 'df_lambda_ngram',\n",
       " 'generate_n_grams',\n",
       " 'get_imp',\n",
       " 'get_n_grams_count',\n",
       " 'get_n_grams_probability',\n",
       " 'kg',\n",
       " 'ngrams',\n",
       " 'np',\n",
       " 'pd',\n",
       " 'text']"
      ]
     },
     "execution_count": 7,
     "metadata": {},
     "output_type": "execute_result"
    }
   ],
   "source": [
    "from nlp_pandas_functions import ngram_analysis\n",
    "reload(ngram_analysis)\n",
    "dir(ngram_analysis)"
   ]
  },
  {
   "cell_type": "code",
   "execution_count": null,
   "metadata": {},
   "outputs": [],
   "source": []
  },
  {
   "cell_type": "code",
   "execution_count": null,
   "metadata": {},
   "outputs": [],
   "source": []
  },
  {
   "cell_type": "code",
   "execution_count": 8,
   "metadata": {},
   "outputs": [],
   "source": [
    "columns = ['publicremarks', 'clean_publicremarks', 'clean_publicremarks_additional_words',\n",
    "          'clean_publicremarks_nopunct', 'clean_publicremarks_stemmed', 'clean_publicremarks_lemmatized']"
   ]
  },
  {
   "cell_type": "code",
   "execution_count": null,
   "metadata": {},
   "outputs": [],
   "source": []
  },
  {
   "cell_type": "code",
   "execution_count": null,
   "metadata": {},
   "outputs": [],
   "source": []
  },
  {
   "cell_type": "code",
   "execution_count": 9,
   "metadata": {},
   "outputs": [],
   "source": [
    "str_state = 'GA'\n",
    "file = 'agent_comments_sales_'+str_state\n",
    "column = 'clean_publicremarks_nopunct'"
   ]
  },
  {
   "cell_type": "code",
   "execution_count": 10,
   "metadata": {},
   "outputs": [],
   "source": [
    "unigram_df = pd.read_feather('ngrams/' + file + '_withsentiment_' + column + '_unigram.fea')\n",
    "bigram_df = pd.read_feather('ngrams/' + file + '_withsentiment_' + column + '_bigram.fea')\n",
    "trigram_df = pd.read_feather('ngrams/' + file + '_withsentiment_' + column + '_trigram.fea')\n",
    "fourgram_df = pd.read_feather('ngrams/' + file + '_withsentiment_' + column + '_fourgram.fea')"
   ]
  },
  {
   "cell_type": "code",
   "execution_count": 11,
   "metadata": {},
   "outputs": [
    {
     "data": {
      "text/html": [
       "<div>\n",
       "<style scoped>\n",
       "    .dataframe tbody tr th:only-of-type {\n",
       "        vertical-align: middle;\n",
       "    }\n",
       "\n",
       "    .dataframe tbody tr th {\n",
       "        vertical-align: top;\n",
       "    }\n",
       "\n",
       "    .dataframe thead th {\n",
       "        text-align: right;\n",
       "    }\n",
       "</style>\n",
       "<table border=\"1\" class=\"dataframe\">\n",
       "  <thead>\n",
       "    <tr style=\"text-align: right;\">\n",
       "      <th></th>\n",
       "      <th>ngram</th>\n",
       "      <th>count</th>\n",
       "      <th>probability</th>\n",
       "    </tr>\n",
       "  </thead>\n",
       "  <tbody>\n",
       "    <tr>\n",
       "      <td>0</td>\n",
       "      <td>room</td>\n",
       "      <td>729702</td>\n",
       "      <td>2.162476e-02</td>\n",
       "    </tr>\n",
       "    <tr>\n",
       "      <td>1</td>\n",
       "      <td>home</td>\n",
       "      <td>725175</td>\n",
       "      <td>2.149060e-02</td>\n",
       "    </tr>\n",
       "    <tr>\n",
       "      <td>2</td>\n",
       "      <td>new</td>\n",
       "      <td>512757</td>\n",
       "      <td>1.519558e-02</td>\n",
       "    </tr>\n",
       "    <tr>\n",
       "      <td>3</td>\n",
       "      <td>kitchen</td>\n",
       "      <td>482372</td>\n",
       "      <td>1.429512e-02</td>\n",
       "    </tr>\n",
       "    <tr>\n",
       "      <td>4</td>\n",
       "      <td>large</td>\n",
       "      <td>401601</td>\n",
       "      <td>1.190147e-02</td>\n",
       "    </tr>\n",
       "    <tr>\n",
       "      <td>...</td>\n",
       "      <td>...</td>\n",
       "      <td>...</td>\n",
       "      <td>...</td>\n",
       "    </tr>\n",
       "    <tr>\n",
       "      <td>351084</td>\n",
       "      <td>screenbright</td>\n",
       "      <td>1</td>\n",
       "      <td>2.963505e-08</td>\n",
       "    </tr>\n",
       "    <tr>\n",
       "      <td>351085</td>\n",
       "      <td>4br3bamast</td>\n",
       "      <td>1</td>\n",
       "      <td>2.963505e-08</td>\n",
       "    </tr>\n",
       "    <tr>\n",
       "      <td>351086</td>\n",
       "      <td>breakfastsplit</td>\n",
       "      <td>1</td>\n",
       "      <td>2.963505e-08</td>\n",
       "    </tr>\n",
       "    <tr>\n",
       "      <td>351087</td>\n",
       "      <td>islandattached</td>\n",
       "      <td>1</td>\n",
       "      <td>2.963505e-08</td>\n",
       "    </tr>\n",
       "    <tr>\n",
       "      <td>351088</td>\n",
       "      <td>985mall</td>\n",
       "      <td>1</td>\n",
       "      <td>2.963505e-08</td>\n",
       "    </tr>\n",
       "  </tbody>\n",
       "</table>\n",
       "<p>351089 rows × 3 columns</p>\n",
       "</div>"
      ],
      "text/plain": [
       "                 ngram   count   probability\n",
       "0                 room  729702  2.162476e-02\n",
       "1                 home  725175  2.149060e-02\n",
       "2                  new  512757  1.519558e-02\n",
       "3              kitchen  482372  1.429512e-02\n",
       "4                large  401601  1.190147e-02\n",
       "...                ...     ...           ...\n",
       "351084    screenbright       1  2.963505e-08\n",
       "351085      4br3bamast       1  2.963505e-08\n",
       "351086  breakfastsplit       1  2.963505e-08\n",
       "351087  islandattached       1  2.963505e-08\n",
       "351088         985mall       1  2.963505e-08\n",
       "\n",
       "[351089 rows x 3 columns]"
      ]
     },
     "execution_count": 11,
     "metadata": {},
     "output_type": "execute_result"
    }
   ],
   "source": [
    "unigram_df"
   ]
  },
  {
   "cell_type": "code",
   "execution_count": 12,
   "metadata": {},
   "outputs": [],
   "source": [
    "import pandas as pd\n",
    "import numpy as np\n",
    "import matplotlib.pyplot as plt\n",
    "from matplotlib.ticker import StrMethodFormatter"
   ]
  },
  {
   "cell_type": "code",
   "execution_count": 13,
   "metadata": {},
   "outputs": [],
   "source": [
    "import seaborn as sns"
   ]
  },
  {
   "cell_type": "code",
   "execution_count": 20,
   "metadata": {},
   "outputs": [
    {
     "data": {
      "text/plain": [
       "Text(0.5, 0, 'probability')"
      ]
     },
     "execution_count": 20,
     "metadata": {},
     "output_type": "execute_result"
    },
    {
     "data": {
      "image/png": "[encoded data removed]",
      "text/plain": [
       "<Figure size 720x864 with 1 Axes>"
      ]
     },
     "metadata": {},
     "output_type": "display_data"
    }
   ],
   "source": [
    "\n",
    "sns.set(style=\"whitegrid\")\n",
    "\n",
    "fig = plt.figure(figsize=(10,12))\n",
    "ax  = fig.add_subplot(111)\n",
    "sns.set_color_codes(\"muted\")\n",
    "ax = sns.barplot(x='probability', y='ngram', data=unigram_df.head(20))\n",
    "ax.set_xlabel('probability')\n",
    "\n"
   ]
  },
  {
   "cell_type": "code",
   "execution_count": 21,
   "metadata": {},
   "outputs": [
    {
     "data": {
      "text/plain": [
       "Text(0.5, 0, 'probability')"
      ]
     },
     "execution_count": 21,
     "metadata": {},
     "output_type": "execute_result"
    },
    {
     "data": {
      "image/png": "[encoded data removed]",
      "text/plain": [
       "<Figure size 720x864 with 1 Axes>"
      ]
     },
     "metadata": {},
     "output_type": "display_data"
    }
   ],
   "source": [
    "\n",
    "sns.set(style=\"whitegrid\")\n",
    "\n",
    "fig = plt.figure(figsize=(10,12))\n",
    "ax  = fig.add_subplot(111)\n",
    "sns.set_color_codes(\"muted\")\n",
    "ax = sns.barplot(x='probability', y='ngram', data=bigram_df.head(20))\n",
    "ax.set_xlabel('probability')"
   ]
  },
  {
   "cell_type": "code",
   "execution_count": 22,
   "metadata": {},
   "outputs": [
    {
     "data": {
      "text/plain": [
       "Text(0.5, 0, 'probability')"
      ]
     },
     "execution_count": 22,
     "metadata": {},
     "output_type": "execute_result"
    },
    {
     "data": {
      "image/png": "[encoded data removed]",
      "text/plain": [
       "<Figure size 720x864 with 1 Axes>"
      ]
     },
     "metadata": {},
     "output_type": "display_data"
    }
   ],
   "source": [
    "sns.set(style=\"whitegrid\")\n",
    "\n",
    "fig = plt.figure(figsize=(10,12))\n",
    "ax  = fig.add_subplot(111)\n",
    "sns.set_color_codes(\"muted\")\n",
    "ax = sns.barplot(x='probability', y='ngram', data=trigram_df.head(20))\n",
    "ax.set_xlabel('probability')"
   ]
  },
  {
   "cell_type": "code",
   "execution_count": 23,
   "metadata": {},
   "outputs": [
    {
     "data": {
      "text/plain": [
       "Text(0.5, 0, 'probability')"
      ]
     },
     "execution_count": 23,
     "metadata": {},
     "output_type": "execute_result"
    },
    {
     "data": {
      "image/png": "[encoded data removed]",
      "text/plain": [
       "<Figure size 720x864 with 1 Axes>"
      ]
     },
     "metadata": {},
     "output_type": "display_data"
    }
   ],
   "source": [
    "sns.set(style=\"whitegrid\")\n",
    "\n",
    "fig = plt.figure(figsize=(10,12))\n",
    "ax  = fig.add_subplot(111)\n",
    "sns.set_color_codes(\"muted\")\n",
    "ax = sns.barplot(x='probability', y='ngram', data=fourgram_df.head(20))\n",
    "ax.set_xlabel('probability')"
   ]
  },
  {
   "cell_type": "code",
   "execution_count": null,
   "metadata": {},
   "outputs": [],
   "source": []
  },
  {
   "cell_type": "code",
   "execution_count": null,
   "metadata": {},
   "outputs": [],
   "source": []
  },
  {
   "cell_type": "code",
   "execution_count": null,
   "metadata": {},
   "outputs": [],
   "source": []
  },
  {
   "cell_type": "code",
   "execution_count": null,
   "metadata": {},
   "outputs": [],
   "source": []
  },
  {
   "cell_type": "code",
   "execution_count": null,
   "metadata": {},
   "outputs": [],
   "source": []
  },
  {
   "cell_type": "code",
   "execution_count": 206,
   "metadata": {},
   "outputs": [
    {
     "data": {
      "text/plain": [
       "83    0.002295\n",
       "Name: probability, dtype: float64"
      ]
     },
     "execution_count": 206,
     "metadata": {},
     "output_type": "execute_result"
    }
   ],
   "source": [
    "unigram_df[unigram_df['ngram'] == 'house']['probability']"
   ]
  },
  {
   "cell_type": "code",
   "execution_count": 76,
   "metadata": {},
   "outputs": [
    {
     "data": {
      "text/plain": [
       "'welcome gorgeous basement home desired braselton community riverstone park upon entry find formal dining room office complete french doors open floor plan boasts kitchen large island  breakfast area overlooking living room open staircase 2nd floor master main master suite upstairs along walkin closets every bedroom wind day screened back porch gaze well manicured back lawn meticulously cared home lot offer waiting you riverstone park social neighborhood many activities year also access life path easy golf cart ride away favorite eateries'"
      ]
     },
     "execution_count": 76,
     "metadata": {},
     "output_type": "execute_result"
    }
   ],
   "source": [
    "df_sales['clean_publicremarks_nopunct'].values[0]"
   ]
  },
  {
   "cell_type": "code",
   "execution_count": 77,
   "metadata": {},
   "outputs": [
    {
     "data": {
      "text/plain": [
       "'Welcome to this gorgeous basement home in the desired Braselton community of Riverstone Park. Upon entry, you find the formal dining room and office complete with french doors. The open floor plan boasts a kitchen with large island & breakfast area overlooking the living room with an open staircase to the 2nd floor. Master on Main AND Master Suite upstairs along with walk-in closets in every bedroom! Wind down your day on the screened in back porch as you gaze into the well manicured back lawn. This meticulously cared for home has a lot to offer, and is waiting for you! Riverstone Park is a social neighborhood with many activities during the year. It also has access to the Life Path so you are just an easy Golf Cart Ride away from your favorite eateries!'"
      ]
     },
     "execution_count": 77,
     "metadata": {},
     "output_type": "execute_result"
    }
   ],
   "source": [
    "df_sales['publicremarks'].values[0]"
   ]
  },
  {
   "cell_type": "code",
   "execution_count": null,
   "metadata": {},
   "outputs": [],
   "source": []
  },
  {
   "cell_type": "code",
   "execution_count": 19,
   "metadata": {},
   "outputs": [],
   "source": [
    "def get_n_grams_cumulative_error(df, ngram, ngram_df):\n",
    "    \n",
    "    for strtex in df\n",
    "    \n",
    "    df_ngram = ngram_analysis.get_n_grams_count(strtext,ngram)\n",
    "    df_ngram = df_ngram.rename({0: 'ngram', 1: 'count'}, axis='columns')\n",
    "    df_process = pd.merge(df_ngram, ngram_df, on=[\"ngram\"])\n",
    "    df_process['probability_mult'] = df_process['probability'] * df_process['count_x']\n",
    "    mean_prob =  (df_process['probability_mult'].sum() / df_process['count_x'].sum())\n",
    "    ngram_probs = list(df_process['probability'].quantile([.999, 0.95, 0.9, 0.75, 0.5, 0.25]))\n",
    "    ngram_probs.append(mean_prob)\n",
    "    return ngram_probs, df_process\n"
   ]
  },
  {
   "cell_type": "code",
   "execution_count": null,
   "metadata": {},
   "outputs": [],
   "source": []
  },
  {
   "cell_type": "code",
   "execution_count": null,
   "metadata": {},
   "outputs": [],
   "source": []
  },
  {
   "cell_type": "code",
   "execution_count": null,
   "metadata": {},
   "outputs": [],
   "source": []
  },
  {
   "cell_type": "code",
   "execution_count": null,
   "metadata": {},
   "outputs": [],
   "source": []
  },
  {
   "cell_type": "code",
   "execution_count": 20,
   "metadata": {},
   "outputs": [],
   "source": [
    "house = 5000"
   ]
  },
  {
   "cell_type": "code",
   "execution_count": 259,
   "metadata": {},
   "outputs": [
    {
     "data": {
      "text/plain": [
       "('ListingPrice', 'publicremarks', 'avmValue', 'avmerror', 'rentsale')"
      ]
     },
     "execution_count": 259,
     "metadata": {},
     "output_type": "execute_result"
    }
   ],
   "source": [
    "#'index', 'listingid', 'asgpropid', 'qtr', 'tax_year', 'cbsa_div',\n",
    "       'cbsa', 'state', 'Transdate', 'Transprice', 'bedrooms', 'total_value',\n",
    "       'cj_living_area', 'basement', 'has_pool', 'parking', 'is_poor',\n",
    "       'is_good', 'HAS_VIEW', 'has_golf', 'has_water', 'has_woods', 'has_hill',\n",
    "       'fips_code', 'census_tract', 'zip', 'effective_year_built', 'story',\n",
    "       'ListingPrice', 'publicremarks', 'avmValue', 'avmerror', 'rentsale',"
   ]
  },
  {
   "cell_type": "code",
   "execution_count": null,
   "metadata": {},
   "outputs": [],
   "source": []
  },
  {
   "cell_type": "code",
   "execution_count": 1,
   "metadata": {},
   "outputs": [
    {
     "ename": "NameError",
     "evalue": "name 'df_sales' is not defined",
     "output_type": "error",
     "traceback": [
      "\u001b[0;31m---------------------------------------------------------------------------\u001b[0m",
      "\u001b[0;31mNameError\u001b[0m                                 Traceback (most recent call last)",
      "\u001b[0;32m<ipython-input-1-adf5e9f8f0bb>\u001b[0m in \u001b[0;36m<module>\u001b[0;34m\u001b[0m\n\u001b[0;32m----> 1\u001b[0;31m \u001b[0mprint\u001b[0m\u001b[0;34m(\u001b[0m\u001b[0mdf_sales\u001b[0m\u001b[0;34m[\u001b[0m\u001b[0;34m'avmerror'\u001b[0m\u001b[0;34m]\u001b[0m\u001b[0;34m.\u001b[0m\u001b[0mvalues\u001b[0m\u001b[0;34m[\u001b[0m\u001b[0mhouse\u001b[0m\u001b[0;34m]\u001b[0m\u001b[0;34m)\u001b[0m\u001b[0;34m\u001b[0m\u001b[0;34m\u001b[0m\u001b[0m\n\u001b[0m\u001b[1;32m      2\u001b[0m \u001b[0mprint\u001b[0m\u001b[0;34m(\u001b[0m\u001b[0;34m(\u001b[0m\u001b[0mdf_sales\u001b[0m\u001b[0;34m[\u001b[0m\u001b[0;34m'Transprice'\u001b[0m\u001b[0;34m]\u001b[0m\u001b[0;34m.\u001b[0m\u001b[0mvalues\u001b[0m\u001b[0;34m[\u001b[0m\u001b[0mhouse\u001b[0m\u001b[0;34m]\u001b[0m\u001b[0;34m-\u001b[0m\u001b[0;34m(\u001b[0m\u001b[0mdf_sales\u001b[0m\u001b[0;34m[\u001b[0m\u001b[0;34m'avmValue'\u001b[0m\u001b[0;34m]\u001b[0m\u001b[0;34m.\u001b[0m\u001b[0mvalues\u001b[0m\u001b[0;34m[\u001b[0m\u001b[0mhouse\u001b[0m\u001b[0;34m]\u001b[0m\u001b[0;34m)\u001b[0m\u001b[0;34m)\u001b[0m\u001b[0;34m/\u001b[0m\u001b[0mdf_sales\u001b[0m\u001b[0;34m[\u001b[0m\u001b[0;34m'Transprice'\u001b[0m\u001b[0;34m]\u001b[0m\u001b[0;34m.\u001b[0m\u001b[0mvalues\u001b[0m\u001b[0;34m[\u001b[0m\u001b[0mhouse\u001b[0m\u001b[0;34m]\u001b[0m\u001b[0;34m)\u001b[0m\u001b[0;34m\u001b[0m\u001b[0;34m\u001b[0m\u001b[0m\n\u001b[1;32m      3\u001b[0m \u001b[0mprint\u001b[0m\u001b[0;34m(\u001b[0m\u001b[0;34m(\u001b[0m\u001b[0mdf_sales\u001b[0m\u001b[0;34m[\u001b[0m\u001b[0;34m'Transprice'\u001b[0m\u001b[0;34m]\u001b[0m\u001b[0;34m.\u001b[0m\u001b[0mvalues\u001b[0m\u001b[0;34m[\u001b[0m\u001b[0mhouse\u001b[0m\u001b[0;34m]\u001b[0m\u001b[0;34m-\u001b[0m\u001b[0;34m(\u001b[0m\u001b[0mdf_sales\u001b[0m\u001b[0;34m[\u001b[0m\u001b[0;34m'ListingPrice'\u001b[0m\u001b[0;34m]\u001b[0m\u001b[0;34m.\u001b[0m\u001b[0mvalues\u001b[0m\u001b[0;34m[\u001b[0m\u001b[0mhouse\u001b[0m\u001b[0;34m]\u001b[0m\u001b[0;34m)\u001b[0m\u001b[0;34m)\u001b[0m\u001b[0;34m/\u001b[0m\u001b[0mdf_sales\u001b[0m\u001b[0;34m[\u001b[0m\u001b[0;34m'Transprice'\u001b[0m\u001b[0;34m]\u001b[0m\u001b[0;34m.\u001b[0m\u001b[0mvalues\u001b[0m\u001b[0;34m[\u001b[0m\u001b[0mhouse\u001b[0m\u001b[0;34m]\u001b[0m\u001b[0;34m)\u001b[0m\u001b[0;34m\u001b[0m\u001b[0;34m\u001b[0m\u001b[0m\n",
      "\u001b[0;31mNameError\u001b[0m: name 'df_sales' is not defined"
     ]
    }
   ],
   "source": [
    "print(df_sales['avmerror'].values[house])\n",
    "print((df_sales['Transprice'].values[house]-(df_sales['avmValue'].values[house]))/df_sales['Transprice'].values[house])\n",
    "print((df_sales['Transprice'].values[house]-(df_sales['ListingPrice'].values[house]))/df_sales['Transprice'].values[house])"
   ]
  },
  {
   "cell_type": "code",
   "execution_count": null,
   "metadata": {},
   "outputs": [],
   "source": []
  },
  {
   "cell_type": "code",
   "execution_count": 24,
   "metadata": {},
   "outputs": [
    {
     "data": {
      "text/plain": [
       "'say hello beautiful 4 bed 3 bath home located desirable armuchee recently updated farmhouse style find white cabinets  open concept breakfast bar hall cozy master sliding barn door  en suite garden tub downstairs features large room walk closet  bath could used inlaw suite youll love entertaining guests  watching kids play privacy fenced backyard home perfect place family call dont sleep sleep it'"
      ]
     },
     "execution_count": 24,
     "metadata": {},
     "output_type": "execute_result"
    }
   ],
   "source": [
    "df_sales['clean_publicremarks_nopunct'].values[house]"
   ]
  },
  {
   "cell_type": "code",
   "execution_count": 33,
   "metadata": {},
   "outputs": [],
   "source": [
    "strtext = df_sales['clean_publicremarks_nopunct'].values[house]\n",
    "df_ngram = ngram_analysis.get_n_grams_count(strtext,1)\n",
    "df_ngram = df_ngram.rename({0: 'ngram', 1: 'count'}, axis='columns')"
   ]
  },
  {
   "cell_type": "code",
   "execution_count": null,
   "metadata": {},
   "outputs": [],
   "source": [
    "\n",
    "    for strtex in df\n",
    "    \n",
    "    df_ngram = ngram_analysis.get_n_grams_count(strtext,ngram)\n",
    "    df_ngram = df_ngram.rename({0: 'ngram', 1: 'count'}, axis='columns')\n",
    "    df_process = pd.merge(df_ngram, ngram_df, on=[\"ngram\"])\n",
    "    df_process['probability_mult'] = df_process['probability'] * df_process['count_x']\n",
    "    mean_prob =  (df_process['probability_mult'].sum() / df_process['count_x'].sum())\n",
    "    ngram_probs = list(df_process['probability'].quantile([.999, 0.95, 0.9, 0.75, 0.5, 0.25]))\n",
    "    ngram_probs.append(mean_prob)"
   ]
  },
  {
   "cell_type": "code",
   "execution_count": null,
   "metadata": {},
   "outputs": [],
   "source": []
  },
  {
   "cell_type": "code",
   "execution_count": null,
   "metadata": {},
   "outputs": [],
   "source": []
  },
  {
   "cell_type": "code",
   "execution_count": null,
   "metadata": {},
   "outputs": [],
   "source": []
  },
  {
   "cell_type": "code",
   "execution_count": null,
   "metadata": {},
   "outputs": [],
   "source": []
  },
  {
   "cell_type": "code",
   "execution_count": 30,
   "metadata": {},
   "outputs": [],
   "source": [
    "ngram_probs, df_process = get_n_grams_cumulative_error(df_sales, 1, unigram_df)"
   ]
  },
  {
   "cell_type": "code",
   "execution_count": 31,
   "metadata": {},
   "outputs": [
    {
     "data": {
      "text/plain": [
       "[0.02161710953041038,\n",
       " 0.011219528313698875,\n",
       " 0.006629171411361934,\n",
       " 0.0031088502859412054,\n",
       " 0.0008762343925147786,\n",
       " 0.0004958018244819607,\n",
       " 0.003323322023338894]"
      ]
     },
     "execution_count": 31,
     "metadata": {},
     "output_type": "execute_result"
    }
   ],
   "source": [
    "ngram_probs"
   ]
  },
  {
   "cell_type": "code",
   "execution_count": 246,
   "metadata": {},
   "outputs": [
    {
     "name": "stdout",
     "output_type": "stream",
     "text": [
      "0.999    0.001504\n",
      "0.950    0.000881\n",
      "0.900    0.000503\n",
      "0.750    0.000114\n",
      "0.500    0.000026\n",
      "0.250    0.000001\n",
      "Name: probability, dtype: float64\n"
     ]
    }
   ],
   "source": [
    "df_process = get_n_grams_probability(df_sales['clean_publicremarks_nopunct'].values[house], 2, bigram_df)"
   ]
  },
  {
   "cell_type": "code",
   "execution_count": 174,
   "metadata": {},
   "outputs": [
    {
     "data": {
      "text/html": [
       "<div>\n",
       "<style scoped>\n",
       "    .dataframe tbody tr th:only-of-type {\n",
       "        vertical-align: middle;\n",
       "    }\n",
       "\n",
       "    .dataframe tbody tr th {\n",
       "        vertical-align: top;\n",
       "    }\n",
       "\n",
       "    .dataframe thead th {\n",
       "        text-align: right;\n",
       "    }\n",
       "</style>\n",
       "<table border=\"1\" class=\"dataframe\">\n",
       "  <thead>\n",
       "    <tr style=\"text-align: right;\">\n",
       "      <th></th>\n",
       "      <th>0</th>\n",
       "      <th>1</th>\n",
       "    </tr>\n",
       "  </thead>\n",
       "  <tbody>\n",
       "    <tr>\n",
       "      <td>0</td>\n",
       "      <td>say hello</td>\n",
       "      <td>1</td>\n",
       "    </tr>\n",
       "    <tr>\n",
       "      <td>1</td>\n",
       "      <td>hello beautiful</td>\n",
       "      <td>1</td>\n",
       "    </tr>\n",
       "    <tr>\n",
       "      <td>2</td>\n",
       "      <td>beautiful 4</td>\n",
       "      <td>1</td>\n",
       "    </tr>\n",
       "    <tr>\n",
       "      <td>3</td>\n",
       "      <td>4 bed</td>\n",
       "      <td>1</td>\n",
       "    </tr>\n",
       "    <tr>\n",
       "      <td>4</td>\n",
       "      <td>bed 3</td>\n",
       "      <td>1</td>\n",
       "    </tr>\n",
       "    <tr>\n",
       "      <td>...</td>\n",
       "      <td>...</td>\n",
       "      <td>...</td>\n",
       "    </tr>\n",
       "    <tr>\n",
       "      <td>56</td>\n",
       "      <td>family call</td>\n",
       "      <td>1</td>\n",
       "    </tr>\n",
       "    <tr>\n",
       "      <td>57</td>\n",
       "      <td>call dont</td>\n",
       "      <td>1</td>\n",
       "    </tr>\n",
       "    <tr>\n",
       "      <td>58</td>\n",
       "      <td>dont sleep</td>\n",
       "      <td>1</td>\n",
       "    </tr>\n",
       "    <tr>\n",
       "      <td>59</td>\n",
       "      <td>sleep sleep</td>\n",
       "      <td>1</td>\n",
       "    </tr>\n",
       "    <tr>\n",
       "      <td>60</td>\n",
       "      <td>sleep it</td>\n",
       "      <td>1</td>\n",
       "    </tr>\n",
       "  </tbody>\n",
       "</table>\n",
       "<p>61 rows × 2 columns</p>\n",
       "</div>"
      ],
      "text/plain": [
       "                  0  1\n",
       "0         say hello  1\n",
       "1   hello beautiful  1\n",
       "2       beautiful 4  1\n",
       "3             4 bed  1\n",
       "4             bed 3  1\n",
       "..              ... ..\n",
       "56      family call  1\n",
       "57        call dont  1\n",
       "58       dont sleep  1\n",
       "59      sleep sleep  1\n",
       "60         sleep it  1\n",
       "\n",
       "[61 rows x 2 columns]"
      ]
     },
     "execution_count": 174,
     "metadata": {},
     "output_type": "execute_result"
    }
   ],
   "source": [
    "ngram_analysis.get_n_grams_count(df_sales['clean_publicremarks_nopunct'].values[house],2)"
   ]
  },
  {
   "cell_type": "code",
   "execution_count": 175,
   "metadata": {},
   "outputs": [
    {
     "name": "stdout",
     "output_type": "stream",
     "text": [
      "0.03201244800450368\n"
     ]
    }
   ],
   "source": [
    "print(mean_prob)"
   ]
  },
  {
   "cell_type": "code",
   "execution_count": 88,
   "metadata": {},
   "outputs": [
    {
     "data": {
      "text/html": [
       "<div>\n",
       "<style scoped>\n",
       "    .dataframe tbody tr th:only-of-type {\n",
       "        vertical-align: middle;\n",
       "    }\n",
       "\n",
       "    .dataframe tbody tr th {\n",
       "        vertical-align: top;\n",
       "    }\n",
       "\n",
       "    .dataframe thead th {\n",
       "        text-align: right;\n",
       "    }\n",
       "</style>\n",
       "<table border=\"1\" class=\"dataframe\">\n",
       "  <thead>\n",
       "    <tr style=\"text-align: right;\">\n",
       "      <th></th>\n",
       "      <th>ngram</th>\n",
       "      <th>count_x</th>\n",
       "      <th>count_y</th>\n",
       "      <th>probability</th>\n",
       "      <th>probability_mult</th>\n",
       "    </tr>\n",
       "  </thead>\n",
       "  <tbody>\n",
       "    <tr>\n",
       "      <td>0</td>\n",
       "      <td>fantastic brick</td>\n",
       "      <td>1</td>\n",
       "      <td>257</td>\n",
       "      <td>7.762550e-06</td>\n",
       "      <td>7.762550e-06</td>\n",
       "    </tr>\n",
       "    <tr>\n",
       "      <td>1</td>\n",
       "      <td>brick home</td>\n",
       "      <td>1</td>\n",
       "      <td>22032</td>\n",
       "      <td>6.654650e-04</td>\n",
       "      <td>6.654650e-04</td>\n",
       "    </tr>\n",
       "    <tr>\n",
       "      <td>2</td>\n",
       "      <td>home piney</td>\n",
       "      <td>1</td>\n",
       "      <td>5</td>\n",
       "      <td>1.510224e-07</td>\n",
       "      <td>1.510224e-07</td>\n",
       "    </tr>\n",
       "    <tr>\n",
       "      <td>3</td>\n",
       "      <td>piney woods</td>\n",
       "      <td>1</td>\n",
       "      <td>25</td>\n",
       "      <td>7.551119e-07</td>\n",
       "      <td>7.551119e-07</td>\n",
       "    </tr>\n",
       "    <tr>\n",
       "      <td>4</td>\n",
       "      <td>woods inground</td>\n",
       "      <td>1</td>\n",
       "      <td>4</td>\n",
       "      <td>1.208179e-07</td>\n",
       "      <td>1.208179e-07</td>\n",
       "    </tr>\n",
       "    <tr>\n",
       "      <td>5</td>\n",
       "      <td>inground gunite</td>\n",
       "      <td>1</td>\n",
       "      <td>294</td>\n",
       "      <td>8.880116e-06</td>\n",
       "      <td>8.880116e-06</td>\n",
       "    </tr>\n",
       "    <tr>\n",
       "      <td>6</td>\n",
       "      <td>gunite pool</td>\n",
       "      <td>1</td>\n",
       "      <td>1717</td>\n",
       "      <td>5.186109e-05</td>\n",
       "      <td>5.186109e-05</td>\n",
       "    </tr>\n",
       "    <tr>\n",
       "      <td>7</td>\n",
       "      <td>pool 4</td>\n",
       "      <td>1</td>\n",
       "      <td>234</td>\n",
       "      <td>7.067847e-06</td>\n",
       "      <td>7.067847e-06</td>\n",
       "    </tr>\n",
       "    <tr>\n",
       "      <td>8</td>\n",
       "      <td>4 bed</td>\n",
       "      <td>1</td>\n",
       "      <td>3487</td>\n",
       "      <td>1.053230e-04</td>\n",
       "      <td>1.053230e-04</td>\n",
       "    </tr>\n",
       "    <tr>\n",
       "      <td>9</td>\n",
       "      <td>bed 35</td>\n",
       "      <td>1</td>\n",
       "      <td>635</td>\n",
       "      <td>1.917984e-05</td>\n",
       "      <td>1.917984e-05</td>\n",
       "    </tr>\n",
       "    <tr>\n",
       "      <td>10</td>\n",
       "      <td>35 bath</td>\n",
       "      <td>1</td>\n",
       "      <td>2943</td>\n",
       "      <td>8.889177e-05</td>\n",
       "      <td>8.889177e-05</td>\n",
       "    </tr>\n",
       "    <tr>\n",
       "      <td>11</td>\n",
       "      <td>bath 3671</td>\n",
       "      <td>1</td>\n",
       "      <td>1</td>\n",
       "      <td>3.020448e-08</td>\n",
       "      <td>3.020448e-08</td>\n",
       "    </tr>\n",
       "    <tr>\n",
       "      <td>12</td>\n",
       "      <td>3671 sq</td>\n",
       "      <td>1</td>\n",
       "      <td>1</td>\n",
       "      <td>3.020448e-08</td>\n",
       "      <td>3.020448e-08</td>\n",
       "    </tr>\n",
       "    <tr>\n",
       "      <td>13</td>\n",
       "      <td>sq ft</td>\n",
       "      <td>1</td>\n",
       "      <td>5648</td>\n",
       "      <td>1.705949e-04</td>\n",
       "      <td>1.705949e-04</td>\n",
       "    </tr>\n",
       "  </tbody>\n",
       "</table>\n",
       "</div>"
      ],
      "text/plain": [
       "              ngram  count_x  count_y   probability  probability_mult\n",
       "0   fantastic brick        1      257  7.762550e-06      7.762550e-06\n",
       "1        brick home        1    22032  6.654650e-04      6.654650e-04\n",
       "2        home piney        1        5  1.510224e-07      1.510224e-07\n",
       "3       piney woods        1       25  7.551119e-07      7.551119e-07\n",
       "4    woods inground        1        4  1.208179e-07      1.208179e-07\n",
       "5   inground gunite        1      294  8.880116e-06      8.880116e-06\n",
       "6       gunite pool        1     1717  5.186109e-05      5.186109e-05\n",
       "7            pool 4        1      234  7.067847e-06      7.067847e-06\n",
       "8             4 bed        1     3487  1.053230e-04      1.053230e-04\n",
       "9            bed 35        1      635  1.917984e-05      1.917984e-05\n",
       "10          35 bath        1     2943  8.889177e-05      8.889177e-05\n",
       "11        bath 3671        1        1  3.020448e-08      3.020448e-08\n",
       "12          3671 sq        1        1  3.020448e-08      3.020448e-08\n",
       "13            sq ft        1     5648  1.705949e-04      1.705949e-04"
      ]
     },
     "execution_count": 88,
     "metadata": {},
     "output_type": "execute_result"
    }
   ],
   "source": [
    "df_process"
   ]
  },
  {
   "cell_type": "code",
   "execution_count": 34,
   "metadata": {},
   "outputs": [
    {
     "data": {
      "text/plain": [
       "0.0027683377790026936"
      ]
     },
     "execution_count": 34,
     "metadata": {},
     "output_type": "execute_result"
    }
   ],
   "source": [
    "df_process.probability.mean()"
   ]
  },
  {
   "cell_type": "code",
   "execution_count": 35,
   "metadata": {},
   "outputs": [
    {
     "data": {
      "text/plain": [
       "0.0043415576631314345"
      ]
     },
     "execution_count": 35,
     "metadata": {},
     "output_type": "execute_result"
    }
   ],
   "source": [
    "df_process.probability.std()"
   ]
  },
  {
   "cell_type": "code",
   "execution_count": null,
   "metadata": {},
   "outputs": [],
   "source": []
  },
  {
   "cell_type": "code",
   "execution_count": 219,
   "metadata": {},
   "outputs": [],
   "source": [
    "unigram_df = unigram_df.rename({0: 'ngram', 1: 'count'}, axis='columns')"
   ]
  },
  {
   "cell_type": "code",
   "execution_count": 228,
   "metadata": {},
   "outputs": [],
   "source": [
    "unigram_df['count'].sum()\n",
    "unigram_df['probability'] = unigram_df['count'] / unigram_df['count'].sum()"
   ]
  },
  {
   "cell_type": "code",
   "execution_count": 231,
   "metadata": {},
   "outputs": [
    {
     "data": {
      "text/plain": [
       "1.000000000000001"
      ]
     },
     "execution_count": 231,
     "metadata": {},
     "output_type": "execute_result"
    }
   ],
   "source": [
    "unigram_df['probability'].sum()"
   ]
  },
  {
   "cell_type": "code",
   "execution_count": 181,
   "metadata": {},
   "outputs": [
    {
     "data": {
      "text/plain": [
       "'Welcome to this gorgeous basement home in the desired Braselton community of Riverstone Park. Upon entry, you find the formal dining room and office complete with french doors. The open floor plan boasts a kitchen with large island & breakfast area overlooking the living room with an open staircase to the 2nd floor. Master on Main AND Master Suite upstairs along with walk-in closets in every bedroom! Wind down your day on the screened in back porch as you gaze into the well manicured back lawn. This meticulously cared for home has a lot to offer, and is waiting for you! Riverstone Park is a social neighborhood with many activities during the year. It also has access to the Life Path so you are just an easy Golf Cart Ride away from your favorite eateries!'"
      ]
     },
     "execution_count": 181,
     "metadata": {},
     "output_type": "execute_result"
    }
   ],
   "source": [
    "df_sales['publicremarks'].values[0]"
   ]
  },
  {
   "cell_type": "code",
   "execution_count": 182,
   "metadata": {},
   "outputs": [],
   "source": [
    "df_ngram = ngram_analysis.get_n_grams_count(df_sales['clean_publicremarks_nopunct'].values[0],3)"
   ]
  },
  {
   "cell_type": "code",
   "execution_count": 183,
   "metadata": {},
   "outputs": [
    {
     "data": {
      "text/html": [
       "<div>\n",
       "<style scoped>\n",
       "    .dataframe tbody tr th:only-of-type {\n",
       "        vertical-align: middle;\n",
       "    }\n",
       "\n",
       "    .dataframe tbody tr th {\n",
       "        vertical-align: top;\n",
       "    }\n",
       "\n",
       "    .dataframe thead th {\n",
       "        text-align: right;\n",
       "    }\n",
       "</style>\n",
       "<table border=\"1\" class=\"dataframe\">\n",
       "  <thead>\n",
       "    <tr style=\"text-align: right;\">\n",
       "      <th></th>\n",
       "      <th>0</th>\n",
       "      <th>1</th>\n",
       "    </tr>\n",
       "  </thead>\n",
       "  <tbody>\n",
       "    <tr>\n",
       "      <td>0</td>\n",
       "      <td>welcome gorgeous basement</td>\n",
       "      <td>1</td>\n",
       "    </tr>\n",
       "    <tr>\n",
       "      <td>1</td>\n",
       "      <td>gorgeous basement home</td>\n",
       "      <td>1</td>\n",
       "    </tr>\n",
       "    <tr>\n",
       "      <td>2</td>\n",
       "      <td>basement home desired</td>\n",
       "      <td>1</td>\n",
       "    </tr>\n",
       "    <tr>\n",
       "      <td>3</td>\n",
       "      <td>home desired braselton</td>\n",
       "      <td>1</td>\n",
       "    </tr>\n",
       "    <tr>\n",
       "      <td>4</td>\n",
       "      <td>desired braselton community</td>\n",
       "      <td>1</td>\n",
       "    </tr>\n",
       "    <tr>\n",
       "      <td>...</td>\n",
       "      <td>...</td>\n",
       "      <td>...</td>\n",
       "    </tr>\n",
       "    <tr>\n",
       "      <td>73</td>\n",
       "      <td>easy golf cart</td>\n",
       "      <td>1</td>\n",
       "    </tr>\n",
       "    <tr>\n",
       "      <td>74</td>\n",
       "      <td>golf cart ride</td>\n",
       "      <td>1</td>\n",
       "    </tr>\n",
       "    <tr>\n",
       "      <td>75</td>\n",
       "      <td>cart ride away</td>\n",
       "      <td>1</td>\n",
       "    </tr>\n",
       "    <tr>\n",
       "      <td>76</td>\n",
       "      <td>ride away favorite</td>\n",
       "      <td>1</td>\n",
       "    </tr>\n",
       "    <tr>\n",
       "      <td>77</td>\n",
       "      <td>away favorite eateries</td>\n",
       "      <td>1</td>\n",
       "    </tr>\n",
       "  </tbody>\n",
       "</table>\n",
       "<p>78 rows × 2 columns</p>\n",
       "</div>"
      ],
      "text/plain": [
       "                              0  1\n",
       "0     welcome gorgeous basement  1\n",
       "1        gorgeous basement home  1\n",
       "2         basement home desired  1\n",
       "3        home desired braselton  1\n",
       "4   desired braselton community  1\n",
       "..                          ... ..\n",
       "73               easy golf cart  1\n",
       "74               golf cart ride  1\n",
       "75               cart ride away  1\n",
       "76           ride away favorite  1\n",
       "77       away favorite eateries  1\n",
       "\n",
       "[78 rows x 2 columns]"
      ]
     },
     "execution_count": 183,
     "metadata": {},
     "output_type": "execute_result"
    }
   ],
   "source": [
    "df_ngram"
   ]
  },
  {
   "cell_type": "code",
   "execution_count": null,
   "metadata": {},
   "outputs": [],
   "source": []
  },
  {
   "cell_type": "code",
   "execution_count": null,
   "metadata": {},
   "outputs": [],
   "source": []
  },
  {
   "cell_type": "code",
   "execution_count": null,
   "metadata": {},
   "outputs": [],
   "source": []
  },
  {
   "cell_type": "code",
   "execution_count": null,
   "metadata": {},
   "outputs": [],
   "source": []
  },
  {
   "cell_type": "code",
   "execution_count": null,
   "metadata": {},
   "outputs": [],
   "source": []
  },
  {
   "cell_type": "code",
   "execution_count": null,
   "metadata": {},
   "outputs": [],
   "source": []
  },
  {
   "cell_type": "code",
   "execution_count": null,
   "metadata": {},
   "outputs": [],
   "source": []
  },
  {
   "cell_type": "code",
   "execution_count": null,
   "metadata": {},
   "outputs": [],
   "source": []
  },
  {
   "cell_type": "code",
   "execution_count": null,
   "metadata": {},
   "outputs": [],
   "source": []
  },
  {
   "cell_type": "code",
   "execution_count": null,
   "metadata": {},
   "outputs": [],
   "source": [
    "plt.figure(1,figsize=(16,4))\n",
    "plt.bar(pd1,pd2, color ='green',\n",
    "        width = 0.4)\n",
    "plt.xlabel(\"Words in positive dataframe\")\n",
    "plt.ylabel(\"Count\")\n",
    "plt.title(\"Top 10 words in positive dataframe-UNIGRAM ANALYSIS\")\n",
    "plt.savefig(\"positive-unigram.png\")\n",
    "plt.show()"
   ]
  },
  {
   "cell_type": "code",
   "execution_count": null,
   "metadata": {},
   "outputs": [],
   "source": []
  },
  {
   "cell_type": "code",
   "execution_count": 94,
   "metadata": {},
   "outputs": [
    {
     "name": "stderr",
     "output_type": "stream",
     "text": [
      "/home/cdsw/.local/lib/python3.6/site-packages/sklearn/utils/validation.py:72: FutureWarning: Pass input=['gorgeous basement desired braselton community riverstone park. entry, find formal dining room office complete french doors. open floor plan boasts kitchen large island & breakfast area overlooking living room open staircase 2nd floor. master main master suite upstairs walk-in closets bedroom! wind day screened porch gaze manicured lawn. meticulously cared lot offer, waiting you! riverstone park social neighborhood activities year. access life path easy golf cart ride favorite eateries!', 'location location location!!!! steps & downtown lagrange offer! renovated perfection historic sought family oriented ridge crest community. spacious master main floor plan w beautiful hardwood flooring, updated gourmet kitchen w cabinetry & stone counter tops & high stainless appliance package chef family,adjoining formal dinning room ideal large family gatherings, cozy secondary den w coffered ceiling & relaxing fireplace perfect curl favorite book, generous master suite totally renovated master bath including custom tile shower frame glass door & vanity, updated lighting, freshly painted interior, partially finished basement ideal teen suite,over sized deck overlooking private yard! hollis hand school zone & steps thread!', 'spacious stepless 4-sides brick ranch rocking chair front porch. 3 bedroom/2 baths office 4th bedroom finished bonus room additional 5th bedroom separate heating air. huge masterbath garden tub. double sided master closets. family room built bookshelves side fireplace. private screened porch overlooking private level yard building. side entry garage. ready move in!', 'carpet , vinyl, interior paint, stove/oven. fenced backyard, storage building.', 'beautiful john wieland highly sought reunion country club! upgrades galore! master main vaulted ceiling. hardwoods throughout main level, floor ceiling kitchen cabinets granite tops wine rack, gas fireplace builtin book cases side. custom closet system master, main level bed, garage laundry. master spa bath his/her sinks. custom plantation shutters throughout home. patio stamped concrete leading professionally landscaped backyard.', 'adorable downtown flowery branch. enjoy living level master, living, kitchen floor including deck overlooking beautifully landscaped backyard. need space bedrooms full bath downstairs. escape tranquility private fully fenced backyard relax alongside water feature. love amazing perennial landscaping stone patio/walkways. bring pets appreciate laminate flooring throughout easy dog doors.', 'cottage corner farmhouse charm! bright, fresh cozy greets grace beautifully renovated home! total redo inside out. need anything...turn key. move in! brand roof gorgeous quartz counters, top notch brand appliances warranty, fresh paint inside out. oil rubbed bronze fixtures/hardware throughout. ship lap lovers love kitchen! light hardwoods warm glow enter living room cathedral ceiling marble fireplace. enjoy hours relaxing charming front porch! city water & sewer & cable ready. location! location! location! it!! desirable area watkinsville city limits quick stroll restaurants & shops! oconee county rated high award winning school district. corner lot half acre land large 12 x 20 metal shed/workshop sits cement slab. minutes athens 316.', 'gated community, oaks collinwood. sought neighborhood east rome. overlooks lake. beautiful serene. master main large updated bath features jetted tub separate shower lovely marble floor. large family room vaulted ceiling fireplace. upstairs 2 3 bedrooms jack jill bath, bonus room br. basement partially finished family area, br fulll bath office. loads basement storage unfinished large cedar closet.', 'remarks: 4 bedroom, 1.5 bathroom perfect starter home. offers newer metal roof, brand kitchen interior exterior paint appliances carpet. nice curb appeal. huge backyard acre lot plenty room pets. convenient everything. quick easy access major roads. nice country living! call today appointment. seller licensed realtor.', 'beautiful 3/2 ranch cul-de-sac, lot partially wooded flat, great floor plan quiet established neighborhood.', 'cozy 3 bedroom, 1.5 bathroom upgrades owner bought it. hvac installed, roof, removed redesigned main bathroom. appliances newer kitchen cabinets. 1/2 bathroom laundry room. hardwoods original sanded refinished. front door leads living room overlooks kitchen. laundry rear entrance located. front rear entrances nice ramp handrail. front porch great addition morning coffee listen birds watch big rabbits hopping around. rear yard completely fences 2 gates entering. nice 8 x 16 tool ready store equipment level yard.', '9+ wooded acres, master main, 3 bedroom/ 2.5 bath craftsman stly wrap rocking chair porch! oversized master suite dual vanities, large closet separate soaking tub shower access deck. main level features hardwood floors, dining room extended kitchen including breakfast bar, stained cabinets separate eating area lots natural light masonry wood burning fireplace great room. upstairs boasts 2 large bedrooms jack jill bath loft area. separate building/garage workshop, circle driveway carport. lot backs mulberry river. qualifies usda financing.', 'great opportunity 4 br/3ba 3.2 +/- acres north hall schools. complete remodel progress design dream home. features huge walk-in pantry, beautiful copper roof (1 year old) hvac (2 years old), large front porch. enjoy water 415 deep well. types shrubs flowers bloom water feature yard workshop building well.', 'maintained 3 bedroom, 2.5 baths large corner lot. great living space main floor large family room fireplace. 1/2 bath conveniently located main level, great guest. formal dining room kitchen features arched doorways. spacious kitchen charming eat-in breakfast area. find 3 bedrooms 2 full baths upstairs. large wooded backyard private oasis. located minutes downtown commerce commerce city schools. 5 miles tanger outlets. walking distance downtown restaurants parks.', 'enjoy 4 bedroom 3 bath ranch level lot cul-de-sac. tons fruit trees blueberry bushes, garden area, covered porch firepit, additional separate garage/workshop, outbuilding, playground/tree house, road frontage looper lake pt well. spacious great room fireplace, breakfast room/keeping room, private dining room great projects studying. good sized owners suite main level nice natural light, large walk closet spacious bath, double vanities separate garden tub shower.', 'enjoy breathtaking scenery lake single slip covered deep water boat dock. house faces lake takes full advantage lake views lots windows, huge deck accessed main floor. fall love features offered:wall windows gathering room, wood floors, stainless steel appliances, granite counter tops, owners suite main oversized tiled shower. terrace level includes:walk lower level, bedrooms, office, flex room apartment, huge covered deck, views.', 'rare south lake lanier located close holiday marina entrance lake lanier islands. single slip dock party deck great deep water cove. perfect location 4 bedroom, 2 full half bathroom home. screened porch, large living areas. complete guest accommodations 2 beds, 1 bath main living area bedrooms, 1.5 bath. kitchens. rear portion single family front area income producing rental property short term vacation rental.', 'location, location, location. listing conveniently located 505 cherokee road, waverly piney woods drive. built 1986, two-story bedrooms bath upstairs, master bedroom suite downstairs, includes adjacent office/nursery. living room fireplace includes gas starter; dining room beautiful chandelier, chair rail crown moldings. granite counter tops bath kitchen, includes appliances (excluding refrigerator) adjacent sun-room breakfast area brilliant window lighting. painted inside carpeting click vinyl flooring foyer, dining room, hall kitchen. city gas heats water supplements heat pump. grounds irrigation system place. back, covered car carport yard includes wooden privacy fencing. step entry kitchen. house move ready. 22 photos viewed gamls.com/8792811. house daily 9 10 pm.', 'great deal! good condition-as sale, 3 bedrooms main level, full unfinished basement expansion! great wooded lot maintenance free vinyl siding!', 'updated floor covering, removed visual barriers lr/ kit.added additional separate garage/workshop w/ office space.', 'hw floors, stainless appliances, carpet paint large open kitchen granite counters slate backs fireplace. chair mouldings, high ceilings. location!', 'buford city schools! new, 3 sided brick small intimate community 67 homes! open concept living gorgeous hardwood floors throughout main level. main level boasts private office/sitting room, dining room, bedroom full bathroom. large open kitchen stainless steel appliances, white cabinets, beautiful white quartz directly family room fireplace. upstairs includes game / media room entertaining purposes, three bedrooms full bathrooms.', 'charming single level three-bedroom, bath featuring vaulted ceilings great room fireplace, large master bedroom walk closet private bath. deck overlooks large wooded fenced backyard. property features car attached garage. hvac (replaced year ago). located conveniently shopping, restaurants, schools five-minute walk oconee river. sold as-is.', 'rare find! owner home! 3 bed 2 bath ranch bonus room! features open floor plan hardwood floors, vaulted 9 ft ceilings, gas logs living room. garden tub, separate shower, double vanities. a/c 3 years old. centrally located downtown i-185/ i-85. seller 2,000.00 carpet allowance buyers choice.', 'airbnb? vrbo? rare find anywhere. true waterfront log home! tin roof, 2 bedroom, open kitchen w/laundry hook-up, wood stove w/ custom rock work (6/2020), exposed interior logs, newer hvac (approx 5 years), septic serviced 4/2020, private covered deck overlooking shore! fish backyard! large drive multi-car parking. property backs shared lake backed log homes. pool, tennis, community water (well), (approx 3 miles to) callaway gardens, historic pine mountain, fdr state park (6 miles) easy drive atlanta airport. (please verify schools). seller providing survey, septic drain lines cert. clear termite.', 'twenty acres potential showplace. house needs extreme tlc bring true potential. mistake needs work! imagination create proper showplace brick striking stone chimney 20 acres 2.5 miles glass bridge recreation area west point lake. rough-hewn wood accents vaulted ceiling & beams great room stone fireplace main feature. great room separated country kitchen island nifty loft kitchen. 2,700+ sq ft 5 bedrooms 2 baths located beautiful lot pecan trees situated home. 40 x 60 workshop property, need repairs. rear portion property hardwoods pine trees, running branch, sportsman room hunting. property sold as-is . call today additional schedule private showing.', 'yo move-in ready 2 story full finished basement. love large front porch, fenced yard complete large deck patio firepit, perfect entertaining. lots space home. 4 bedrooms 2 full baths up, bedroom office downstairs bar area full bath. located north hall neighborhood.', 'gainesville city loaded charm, originality offers 1.46 acres. includes lot 9, lot 8 7 located close historic district, downtown square, brenau university northeast georgia medical center. special features; spacious great room large windows private backyard; living room gas fireplace; hardwood floors; separate dining room; built-ins; sun room; partial basement; detached shop, stone patio firepit.', 'immaculate ranch home! features hardwood throughout house, tile bath rooms, beautiful kitchen island open living room. coffered ceilings living room, pocket office, large master suite huge walk closet. largest lot subdivision! cul-de-sac lot!', 'great starter home. 3 bedroom, 2 bath garden lakes. open kitchen dining great room. updated kitchen bathroom cabinets granite counter tops. stainless steel appliances. double insulated windows lifetime transferable warranty. screened patio. storage shed. single carport double wide driveway. privacy fence surrounds yard.', 'beautiful, maintained ranch acres. gigantic workshop electricity perfect handyman. love welcoming rocking chair front porch, beautiful hardwood floors, exquisite moldings detailed finishes, lovely neutral palette, multiple outdoor spaces. beautiful fireside family room cathedral ceiling. updated white kitchen heart room chefs time. escape master suit envy! generously sized secondary bedrooms. entertainers delight finished', 'plenty space full finished basement sought princeton subdivision. located chestatee high school district, ranch 3 bedrooms 2 baths main level, 2 bedrooms 1 bath basement. fireplace living room, extra large master br walk closet jetted soaking tub. closed circuit security cameras, drive garage, fenced backyard, extra large deck. tons storage extra outbuilding backyard. long driveway plenty parking. close schools shopping gainesville dawsonville.', 'craftsman style ranch full fin basement w/huge storage area, hdwd flrs main level, stunning kitchen w/new stove, lg bdrms, extensive closet space, bsmt includes big family rm, office area & more, big fenced yard level & private, swim/tennis/sought schools.', 'lake meeler! experience better completed community excellent location! 4 bedrooms, 3 full baths media room, property desire. huge kitchen granite counter tops, stainless steel appliances, island plenty storage. dining room coffered ceilings complement crown molding details throughout rest home. guest room main level. owners retreat upstairs 2 secondary rooms capped expansive media room center all. owners en suite includes tiled shower, separate bath double vanity! forget check covered patio relax enjoy outdoors. year settled nicely owners. today!', 'perfect family quiet keystone subdivision! cozy 3 bedrooms, 2 baths move-in ready. walk front door immediately feel home. over-sized master bedroom bath treat stone shower, sporting dual waterfall shower heads, whirlpool soaking tub. enjoy large private fenced backyard. must fall love.', 'move moves you! 5bed/4bath/2692sqft spacious open floor plan beckons entertainment family friends...more elbow room spare! unwind patio viewing aesthetically landscaped terrace short stroll enjoy sights sounds sterling lake offers. retire oversized master bedroom long day work play! move-in-ready! love , live love it!', 'maintained 4br/2.5 ba established eastside neighborhood. private 1 acre wooded lot. interior features include hardwood floors crown molding fr,dr, lr cozy gas log fireplace. carpet 2nd floor. lots natural sunlight throughout. spacious bedrooms ample closet space. deck gas grill space entertaining. roof. close elementary school, shopping local amenities. bedrooms 2nd level. nature thrives private yard perfect gatherings friends family peaceful retreat throughout day. move-in ready.', '50k marina boat slip included! gorgeous, maintained private .5 acre lot beautifully landscaped private backyard, deer love here. sitting street parks marina bay, features grand 2 story foyer leading great room floor-to-ceiling windows offering abundance natural light. cook enjoy gourmet kitchen opens appointed keeping room include private view backyard. rare find, split bedroom plan, side house', 'c-67 thornhill stately boasts upgrades. features vaulted ceilings, spacious island kit keeping, luxurious master suite. large secondary bedrooms private bath.', 'immaculate 4 bedroom w/ oversized rooms,formal living,formal dining,great decor/paint colors,large open kitchen bayed breakfast area,lrg pantry,laundry rm,new stainless steel appliances kitchen,new light fixtures,very private, culdesac, wooded lot!stained cabinets,welcoming front porch', 'move ready. brick front w/ 4 bedrooms & 2.5 baths. open floor plan flows smoothly entryway kitchen breakfast bar & pantry. dining room opens spacious family room w/ fireplace. hardwood floors, interior paint, carpet, master retreat room sitting area, tray ceiling, double vanity, garden tub. oversized secondary bedrooms. washer dryer included! private fenced backyard. wonderful location close shopping hideaway bay marina lake lanier.', '1110 echo trail! beautiful ranch style tucked quiet private lake wildwood community sitting acre land sought oconee county. additional features, open kitchen breakfast area spacious living room, french doors leading screened porch. perfect spend summer nights cool fans relax day work. fenced yard allows plenty safe space kids pets play. extra detached garage perfect storage space boat hobby. bonuses home, must see!', 'dream here. 2story family room stone stacked fireplace. painted white cabinets kitchen. breakfast area overlooking family room. venthood. cooktop. kitchen faucet. hardwood floor throughout main level. guestroom fullpath main. formal dining room living room. carpet stairs 2nd floor. master suite sitting area, his/hers sink walk-in closets. secondary bedrooms great size. jack jill bath.', 'contemporary style westside? check rare find! 4 bedroom, 2 1/2 bath loaded charming features sited 3 acres. current owner improvements upgrades list highlights include: beautiful walkway leading front door elongated pergola, metal roof, amazing addition flex space loft area (think amazing art studio, music room, game room) sized 4th bedroom attached 1/2 bath beyond, brand exterior interior paint, carpet owners suite 2 hallway bedrooms. front door greeted lovely living room complete vaulted ceiling, flagstone wood burning fireplace skylights.this boasts loads natural light! living room kitchen breakfast area access screened porch perfect morning coffee. hallway find 2 bedrooms, updated hall bath, laundry closet, owners suite attached bathroom access private deck well. left kitchen dining room leads stunning addition flex space area beautiful loft. pass enter massive 4th bedroom walk closet, attached half bath, access deck. feel worlds minutes athens 10 loop highway 129. long plan tour today!', 'absolutely gorgeous entertainers dream sterling lake. open floorplan downstairs features large kitchen island flowing warm living room dining room. party french doors private oasis. gameday porch includes covered outdoor living room complete stone fireplace hang tv watch favorite events! appointed master suite main floor, three great bedrooms upstairs second den. expense spared upgrading places! 20k+ upgrades!', 'stunning cul de sac lot. rocking chair front porch, tons privacy. private yard, fenced. lovingly maintained home. 5 bedroom, 5 bath home, huge deck covered porch, ranch full finished basement(basement beautiful stacked stone fireplace) tons entertaining space. prepare fall love. upstairs bonus bedroom full bath. gardeners love tons beautiful japanese maples- hosta gardens homes interior painted beautifully-seller offers 3 yr warranty closing full price offer.', 'fabulous sought jefferson walk! city jefferson schools! 4 br/3 ba! 3 bedrooms main level! split bedroom plan! upstairs features bedroom full bath huge bonus room! family room boasts high ceilings brick fireplace! newer luxury vinyl plank flooring! newer roof! newer trane hvac upgraded filter! popular swim/tennis community! private backyard! super clean! fabulous floorplan! list! 100% financing available!', 'great open floor plan. kitchen keeping room fireplace lots cabinets. 5 bedrooms 4.5 bathrooms master main. finished terrace level media room, wet bar, bedroom game room. house updated 2 ac units replaced. lots extras! buford schools!', 'beautiful brick established neighborhood sitting acre land. large storage room plumbed half bath, ready office small business, comfort home! washer dryer currently 3rd bedroom, converted bedroom. newer roof, water pump, double floored. call today set appointment!', 'downtown commerce, unbelievably immaculate, gently lived-in stands apart rest. custom designed created, single-level ranch exudes southern charm adorned upgrades, simply blown away. summer us, evident arrive verdant pastoral yard, setting stage excellent property about. exterior popping fresh paint, cleaned gutters, pristine rocking chair front porch, freshly-pumped septic tank, mounding excitement. front entry, find pausing aback vast living spaces adorned grand, vaulted ceilings, custom-decorative light fixtures, corner fireplace, gleaming hardwood floors. all-new, designers-choice grey paint covers walls throughout highlighted extensive trim adding distinctive clean lines. g everyday floor-plang ! evident sellers created comfortable, spacious design includes sprawling great room/dining combination overlooks kitchen allowing year-round enjoyment. custom appointed, stone unturned gourmet kitchen. ample space provided whip tasty cuisine mobile island incase need room. spacious kitchen equipped appliances, custom cabinets updated hardware, honeycomb backsplash, corian counters extending extra-large breakfast bar. additional living space sunroom, offering well-lit area curl good book enjoy morning cup coffee warm space. multi-functional room suit needs desire. comprised split-bedroom configuration, places owners retreat left side additional 2 bedrooms 2 full baths flanking opposite side. owners retreat updated expected accoutrements trey ceiling, 2 walk-ins closets shelving systems, lavish full bath. ensuite bath enhanced double sink vanity, additional dressing vanity sitting area, walk-in shower, complete custom-paneled encased whirlpool tub. well-thoughtout-design garage access, large pantry, oversized laundry room upgraded tile cabinetry, private study/office, occupying west wing owners bedroom. amenities extend exterior freshly-painted deck overlooking expansive rear yard. need workshop, utility storage, perfect hobby , thrilled find mini-storage building yard. dreaming convenience in-town living boasts unique design, move-in ready condition...then pass by! **seller providing 1 year, americas preferred warranty!**', 'country charm, house you! 2,000 square feet level lot fenced-in yard. quiet neighborhood minutes west point lake. open concept kitchen/living/dining area. rock fireplace gas logs. ten inch pine flooring throughout entire house. master main spacious closets. mud room office main floor. bedrooms upstairs huge bonus room. tons storage! brand 900 square foot deck. building stay property.', 'fantastic opportunity sterling lake n-hood! priced sell quickly. spacious floor plan fantastic outdoor living space complete firepit. kitchen loads cabinets counter space large center island. kitchen/bfast area family room open concept.generous master suite upstairs 2 addtl brs. 1 full bath.another bedroom main full bath.spacious daylight bsmt waiting finished.n-hood offers 10 tennis courts,4 pools,fitness center,pickleball,miles walking trails wonderful lake fish in!', 'fall love lakefront living & year-round sunset views short, gentle path deep water dock. enjoy lake lanier vistas rooms, large screened porch, wrap-around deck & grilling space. inside features spacious master suite main w/private deck olooking lake, open living room w/ wall-to-wall sitting hearth (on main & terrace lvl!) & gorgeous coffered ceiling. sprawling terrace lvl includes family room w/kitchenette, library hall & 2nd master suite. unbelievable amount storage closet space, ample bookshelves, huge 2-car garage & great workshop. large, unfinished bonus room garage features vaulted ceiling & separate entrance, great teen suite, rec room getaway cave.', 'investor owned. sale rent. rents 675.00 mo .2 br 1 bath. includes appliances. stove/oven ,dishwasher, frig. washer & dryer. rocking chair front porch. separate living room separate dining room. large eat kitchen. nice level yard, great kids family togethers. perfect garden spot. walking distance restaurants, post office , school, shopping library. call agent lock box code.', 'rare combination: great neighborhood, maintained house, deep water great views. lake 2 car garage, single slip dock (32x26),party deck hoist deep (25ft+) water. south lake lanier. rear deck covered porch ideal grilling, entertaining enjoying sunset views. master-on-main, updated master bath. walk-in-closet. great room w cathedral ceiling, majestic stacked stone fireplace. spacious kitchen w breakfast nook, granite/ss appliances, dining room. 2 guest bed j&j bath. laundry powder room. fixed attic stairs.', '3116 lilac creek trail, beautiful open floor plan hardwood floors. biggest homes neighborhood 3,012 square feet. bedroom full bathroom main floor. kitchen hostess dream granite countertops french doors leading spacious backyard. living room cozy corner fireplace enjoy nice fire friends family. stainless steal applicances refrigerator included. spacious master bedroom walk-in closet, dual raised vanity separate garden tub large shower. convenient laundry room located upstairs open loft. gorgeous gainesville city school district 1, located i-985 downtown gainesville.', 'remarkable remodeled north hall. convenient shopping, hospital, 985, lake lanier. upgrades - finished basement (2013); tile kitchen, bathrooms (2013); kitchen: custom cabinets & granite countertops, (2013); bathrooms: cabinets, countertops, sinks & fixtures (2013); exterior paint (2013); gravel boat parking area (2014); roof (2015); carpet bedrooms (2015); hardwood floors (2015); attic insulation (2015); driveway sidewalk (2017); interior paint (2018); custom blinds (2018); updated fence (2019);retaining wall (2019)', 'unbelievable 1 acre lot, basketball/volleyball court, trails, tons fun! spacious ranch huge upstairs bonus suite bedroom, full bath, bonus room loft area. perfect teens in-laws! huge unfinished stubbed basement ready own. deck, roof, hoa! kitchen open dining family room lots counter cabinet space, large island! formal dining room fireside family room. screened porch deck overlooking fenced private yard! 48 hour kick out. wait, yard! laundry connections main level mud room basement laundry shoot! schedule today easy appointment.', 'beautiful craftsman style exterior, quaint set .75 acre. interior offers neutral decor, complete lakeshore pecan laminate floors newly installed throughout kitchen dining room. neutral theme continues newly installed carpet great room bedrooms. top rated, award winning jackson county schools.', 'exquisite pine spring model w/a host tasteful upgrades includ brand wide plank hardwoods living areas, carpet 2 bedrms, plantation shutters, heavy trim detail, decorator color scheme, newly painted white kitchen cabinetry w/under cabinet lighting, granite, stainless appls, tiled sun rm, extended patio w/retractable awning & gorgeous insert front door. office w/french doors/closet 3rd bdrm. patio overlooks beautifully landscaped yard backing wooded area & eagle ranch total privacy. award winning 55+ s/d w/ fabulous amenities!', 'updated estate sought neighborhood! sits beautifully landscaped corner lot. wonderful heated inground ground lap pool surrounded stone, private backyard perfect kids pets, granite c. tops kitchen, separate dining rm, tiled baths w/solid surface c. tops, great master closet, heated side walk tiles circular drive, stone patio & jacuzzi. upgrades home. deal! professional photos come.', 'gorgeous, custom-built, 4-sided brick highly sought-after maplewood east. outstanding features impeccably maintained hard start. 5 bedrooms/3.5 baths three floors living space. rooms generously sized high finishes. hardwood floors. oversized arched doorways. plantation shutters. 10+ ceilings. floor includes two-story foyer leads large living room double-height ceiling, gas fireplace scraped hardwood floors. living room spacious separate dining room (currently billiards room), sun room huge kitchen/keeping room islands, high stainless steel appliances, granite countertops, pull-outs cabinets large cabinet pantry walk-in pantry. two-car garage step entry kitchen, laundry room. opposite side main floor powder room amazing master suite, includes large bedroom, sitting room/office/nursery, incredible master bath featuring claw foot tub, oversize shower, marble floors, vanities huge walk closet. upstairs bonus room secondary bedrooms, walk-in closet jack-and-jill bath. downstairs large bedrooms walk-in closets jack-and-jill bath enormous entry tile shower separate tub/shower...a large gym rubber tile flooring...a hunting room locking door safe storage guns, etc....a large equipment room tons storage...a small storm room single car garage large accommodate boat. major improvements include roof gutters 2019...installation creek bed front divert water house...sealing attic space...irrigation system overhaul interior painting throughout. great house, pristine condition, terrific neighborhood!', '70k marina boat slip included! gorgeous maintained private lot w/ beautiful backyard. features grand 2 story foyer leading open floorplan floor-to-ceiling windows offering abundance natural light updated kitchen opens spacious family keeping room. three fireplaces, large deck ginormous master bedroom w/sitting area 2nd level, & walk-in closets large bath separate tub & shower. finished terrace level large playroom, gym, bedroom, full bath, bar area, wet/dry sauna.', 'luxuriate panoramic views lake lanier beautiful ne ga mountains inch incredible harbour point yacht club home! warm & inviting nautical cor beckons experience embodiment lake living & lifestyle. custom designed & built accentuate landscape vantage point w/ 3 levels finished space & outdoor spaces. open breezy interiors brimming natural light allow ease living. dock slip option available full-service community marina. ownership grants access luxury', 'fantastic opportunity hollis hand zone! splash summer inground pool! features include: 2486 sq feet, 3 bed, 2.5 bath, + huge bonus room, master main floor elegantly updated master bath complete tile shower separate tub, hardwood floors, brand carpet, separate dining room, luxurious deck overlooking sparkling pool beautifully landscaped yard, blink gone!', 'located desirable cedar creek subdivision perfectly located east athens minutes uga college veterinary medicine, uga campus, kroger, publix, aldi, variety restaurants southeast clarke park. brick 2 story unfinished basement features master additional bedroom main floor, bright kitchen granite countertops lots counter cabinet space, vaulted great room access screened porch deck, formal dining living room fantastic laundry room. upstairs 3 additional bedrooms jack jill bath. unfinished basement offers good storage, hobby area finish living space.', 'cul de sac- jacobs! gorgeous master main 2nd bedroom/bath main level. open living- w/ over-sized island, granite, 42 white cabinets, tiled backsplash, & ss appliances. kitchen opens fr w/high ceilings & stacked stone fireplace! hardwood floors: foyer, powder, kitchen, dining & family. iron railing staircase, heavy trim, & gorgeous lighting. 2nd level additional bedrooms bonus room-or 5th bedroom. gorgeous private homesite!', 'beautiful piece paradise all, magnificent house 3 bedrooms 1 bath, built early 1900s upgraded years. sits 10 acres stocked shared pond. huge barn potential 60+ additional acres.', 'investor special lots potential. great location close downtown. good fix flip rental. needs work.', 'solid house heavily wooded lot. located private dead street house secluded neighbors. great fixer upper. work dream home. located close schools.', 'rare find coveted beechwood hills subdivision. renovated brick ranch features upgraded cabinetry granite kitchen bathrooms. kitchen full circle beautiful subway tile backsplash stainless steel appliances. site finished hardwood floors throughout vintage character construction 1960. homes renovation 2015 plenty modern amenities including insulated glass easy clean vinyl windows. currently game room kitchen wonderful flex space office, study, formal dining room. backyard entry serves spacious laundry area mud room well. privacy backyard paradise forget minutes uga, fine dining shopping heart five-points!', 'style elegance best describe custom built located chattahoochee country club chattahoochee estates west. open floor plan flows effortlessly handsome master suite main 2 additional bedrooms (split bedroom plan). gourmet kitchen breakfast room open inviting family room. lovely living room dining room. awesome suite upstairs featuring bedroom, bath study. terrace level offers 2 bedrooms, bath, rec room lots storage. beautiful private flat backyard amazing outdoor entertaining space sound exquisite water fountain koi pond.', 'beautifully remodeled located spring village subdivision. car carport attached sits acre & half. fenced area pet located backyard remodeled storage shed. concrete brick-lined patio backyard entertaining guests parties barbeques.', 'kind luxurious custom spectacular outdoor amenities! enjoy country club living backyard - huge pool jumbo slide, spa, full basketball court, putting green sand trap, large built-in outdoor kitchen, outdoor den, playground, screen porch! vacation floor plan large open spaces inside/out. double castle doors lead expansive space encompassing upscale kitchen, casual dining, great room raised paneled wood beamed ceiling. informal lodge style decor upscale features. resort style home!', 'amazing opportunity live lake lanier walking distance hideaway marina fish tales restaurant. beautiful 4bed/2.5 bath maintained active community harbour lights. golf cart path straight lake dinner night. beautiful open concept kitchen samsung black stainless steel appliances statement. complete subway tile splash walk pantry. secondary bedrooms oversized vaulted ceilings.', 'beautiful maintained gainesville ranch 0.95 acres! 3 bed 2 bath partialy finished garage perfect man cave bonus room. forget morning cofee beautiful front porch.', 'fabulous 4 bedrooms 2 full bath craftsman style ranch stone accent, conveniently located madison place subdivision, covered front porch, hardwood floor including bedrooms, granite countertop, backsplash, lots cabinet space, walk-in pantry, stainless steel appliances kitchen, great open floorplan, master suite walk-in closet, garden tub separate shower, 3 bedrooms side, irrigation system, fenced backyard privacy! price sell!', '** open floor, spilt bedroom plan, living rm w/fireplace, bamboo hardwood, kitchen island, garden tub, screen porch, deck ** boat dock*** year water', 'creme puff excellent condition. warm inviting walk front door. soaring vaulted ceiling opens great room center floor plan. fireplace nice focal point living area. surrounded lovely homes lexington estates house move-in condition clean, clean, clean. lots windows allow lots natural sunlight fill house light bright exposure. carpet, tile vinyl great condition. large master bedroom large bath dual bowls large vanity. secondary bedrooms share large hallway bathroom. kitchen breakfast room perfect cooking family dinners entertaining friends. grill deck kitchen. sit spell rocking chair front porch. large level lot manicured nicely landscaped. neighborhood conveniently located close uga shopping restaurants.', 'spacious ranch finished basement nestled large wooded lot. brand flooring throughout main level. 3 car garage. huge, light bright living room cathedral ceilings fireplace.the open kitchen granite counters stainless appliances view family room. updated bathrooms feature granite counter tops & ceramic tile flooring. finished basement large bedroom extra den full bathroom. eagle watch optional swim membership. walking trails & connecting 6-hole frisbee golf course.', 'renovated kitchen cabinets, appliance, granite counters tile backsplash, tile floors, updated bathrooms, hardwoods open living room dining room. luxury vinyl plank floors basement. roof. bring ranch full basement. half basement finished half hvac hot water tank, exit door yard. large laundry room kitchen. pool northwest woods, privately owned join choose to, active hoa.', 'charming 3 bedroom, 2 bath ranch nice sized lot. fenced yard. totally refurbished designers, located growing area, minutes -985 exit 14, shopping desirable schools. spacious floor plan yourself!', 'beautiful maintained colonial desired neighborhood! great location close loop 10 walking distance university georgia. walking distance downtown athens & uga football entertainment, shopping, great restaurants.', 'rare value todays market? check 4bd 2ba property coveted model school district. sits quietest culdesac traffic newer hvac roof boot! house split level floor plan kitchen seamlessly flows deck, living room, dining room family spaces...perfect entertaining. lower-lever playroom, storage, den, perfect man cave.', 'craftsman style ranch w/updated lower terrace level w/plenty day light lighting 1.89 acre cul-de-sac lot, plenty privacy w/awesome neighbors, hardwood floors throughout main level, kitchen w/stained cabinets, double oven, granite counters & gas cook top overlooking keeping room w/stone fireplace, finished terrace good in-law suite teen suite, upstairs loft b/r media room w/full bath, covered front porches.', 'nice curb appeal! super clean quiet location. located lakeview academy. inside features lighting. ceiling fans door knobs. feels home. features landscaped yard, attached covered screened patio airconditioned workshop.', 'move-in ready 2020 renovations -3 bedroom/2 bath, bonus 1 acre wooded lot madison county. private country setting paint, appliances, light fixtures, cabinets, flooring more. property includes detached metal awning parking covering outbuilding storage.', 'beautiful 5br/4ba biltmore floorplan features family needs including private wooded preserve backyard lake view winter months. kitchen includes oversized gourmet island granite countertops seating four, large walk-in pantry, tons cabinets, butlers pantry, mudroom/secondary laundry room. open spacious floorplan including unique brick arched wall definitely catch guests attention. two-story family room coffered ceiling, amazing windows, beautiful brick gas log fireplace. guest bedroom full bath main level, separate dining room living room/office. bedrooms three baths second level, laundry room. master suite includes spacious bathroom oversized closet accommodate storage needs. huge third floor retreat finished basement plenty additional entertainment space.', 'nicely renovated 2 bedroom 1 bath home! close shopping short walk lagrange college. nice kitchen tile splash laminate floors. large covered front porch spacious deck overlooking fire pit. awesome place entertaining guest.', 'pull driveway, admire amazing views day. spacious ranch bonus room offers 4 bedrooms baths upgrades galore. shiplap, sliding barn doors, roof, dishwasher, water heater, professionally landscaped tiered backyard desirable must-have. over-sized kitchen overlooks sunroom entertainment options endless! yourself!', 'downtown charmer... beautiful cottage located heart hollis hand school district. easy commute lagrange college, dining, entertainment. move ready... cute bugs ear....', 'modern beautifully maintained 4 bedroom/3 bathroom chestatee school district . interior bright, welcoming, open. features hardwoods paint fresh. family room features wood burning fire place open concept kitchen. functional kitchen features granite counter tops, stainless steel appliances, plenty cabinet space breakfast area separate dining area. exquisite master bedroom features separate shower/tub, large closet. upstairs 2 large bedrooms full bathroom. finished basement huge second family/entertainment room, bedroom, office, full bathroom, tons storage space. exterior features include oversized 2 car garage, roof, large outbuilding, play set, attractive landscaping, fire pit deck perfect entertaining. conveniently minutes lake lanier, gainesville, dawsonville, hwy 400.', 'adorable three bedroom, half bath split level great neighborhood! bright, sunny kitchen stainless steel appliances vaulted family room stacked stone fireplace. maintained, wide open yard decks. half acre lot! finished bonus room. chestatee school district. wonderful great location waiting family.', 'fabulous ranch style, brick front, 4 br, 3.5 ba waters edge subdivision. updated fresh paint throughout carpet. full finished basement boat door.', 'wildflowers home! loads updates including 2 year roof, master bath, floors, paint, fixtures, appliances house ready owner! house opens open airy vaulted living room leading straight spacious sunroom built bookcases. dining room connects sunroom, kitchen that. kitchen brand stainless steel appliances pantry! master bedroom trey ceiling, sizable closet, dual vanity brand tiled shower bathroom. 2 bedrooms front door hall hall bath. lots closet space attic storage. yard fenced bunch giant azaleas. great east side location wow park, for, out!', 'check brick located north oconee! 3 bedroom, 2 bath flexible bonus room upstairs, fenced yard. immaculate condition! showcases gorgeous hardwood floors, vaulted ceilings, tons natural light, convenient split floor plan. dining room elegant wainscot paneling crown molding, kitchen stainless appliances, eat-in kitchen area includes enchanting bay window excellent view backyard watch kids dogs play inside. master suite features trey ceilings, large walk-in closet, double vanities, shower garden tub. bathrooms tile flooring. laundry room spacious, flexible upstairs bonus room. relax covered front porch, enjoy afternoons fantastic patio overlooking beautiful yard! call appointment.', 'perfect location! perfect house! perfect you! charming 3 bedroom/2 bath brick ranch prestigious horseleg creek road. immaculately maintained real hardwood floors throughout. spacious 3 car garage 2 finished rooms upstairs 2010. super convenient minutes downtown.', 'shiny penny call home! superbly maintained loved 3 bedroom/2.5 bath full basement stubbed bath. hardwood foyer, formal living dining room, great room w/coffer ceilings stack stone fireplace, master bath w/tile flooring, jetted tub, granite counter tops more! upstairs bonus room 4th bedroom. roof 1 year old, newer hvac, paint, carpet clean whistle. includes fantastic upstairs bonus room office finished additional bedroom.', 'contract fell ! best park flowery branch located yard ! large fenced-in yard patios out-building. beautiful garden ! 2,000 sq. ft. & rest half acre ! rare find flowery branch price ! upstairs bedroom great teen suite office. upgraded include hardwood flooring, large bay window dining room, whirlpool tub 8 jets 2nd bath, newer roof, newer water heater, newer refrigerator & microwave & newer garage door opener.', 'great 4 sided brick ranch carport 1.25 acres. 3 bedroom 1 bath separate den space. homes needs tlc paint flooring. newer air conditioner roof. sold rental . walking distance downtown commerce 1 mile i-85'] as keyword args. From version 1.0 (renaming of 0.25) passing these as positional arguments will result in an error\n",
      "  \"will result in an error\", FutureWarning)\n"
     ]
    }
   ],
   "source": [
    "matrix, unigram = ngram_analysis.get_imp(bow,mf=5000,ngram=1)"
   ]
  },
  {
   "cell_type": "code",
   "execution_count": null,
   "metadata": {},
   "outputs": [],
   "source": []
  },
  {
   "cell_type": "code",
   "execution_count": null,
   "metadata": {},
   "outputs": [],
   "source": []
  }
 ],
 "metadata": {
  "kernelspec": {
   "display_name": "Python 3",
   "language": "python",
   "name": "python3"
  },
  "language_info": {
   "codemirror_mode": {
    "name": "ipython",
    "version": 3
   },
   "file_extension": ".py",
   "mimetype": "text/x-python",
   "name": "python",
   "nbconvert_exporter": "python",
   "pygments_lexer": "ipython3",
   "version": "3.6.10"
  }
 },
 "nbformat": 4,
 "nbformat_minor": 4
}
