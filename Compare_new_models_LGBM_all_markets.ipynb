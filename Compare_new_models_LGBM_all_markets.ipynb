{
 "cells": [
  {
   "cell_type": "code",
   "execution_count": 1,
   "metadata": {},
   "outputs": [],
   "source": [
    "from sklearn.ensemble import RandomForestRegressor\n",
    "from sklearn.datasets import make_regression\n",
    "\n",
    "import pandas as pd\n",
    "import numpy as np\n",
    "import matplotlib.pyplot as plt\n",
    "\n",
    "\n",
    "from sklearn.datasets import make_classification\n",
    "from sklearn.model_selection import train_test_split\n",
    "\n",
    "from sklearn.ensemble import RandomForestClassifier\n",
    "\n",
    "from sklearn.preprocessing import MinMaxScaler"
   ]
  },
  {
   "cell_type": "code",
   "execution_count": 2,
   "metadata": {},
   "outputs": [],
   "source": [
    "from sklearn.metrics import confusion_matrix\n",
    "from sklearn.metrics import accuracy_score\n",
    "from sklearn.metrics import top_k_accuracy_score\n",
    "from sklearn.metrics import f1_score\n",
    "from sklearn.metrics import precision_score"
   ]
  },
  {
   "cell_type": "code",
   "execution_count": 3,
   "metadata": {},
   "outputs": [],
   "source": [
    "\n",
    "from sklearn.preprocessing import KBinsDiscretizer\n",
    "from sklearn.preprocessing import MaxAbsScaler\n",
    "from sklearn.preprocessing import StandardScaler\n",
    "from sklearn.preprocessing import MinMaxScaler"
   ]
  },
  {
   "cell_type": "code",
   "execution_count": 4,
   "metadata": {},
   "outputs": [],
   "source": [
    "from itertools import combinations"
   ]
  },
  {
   "cell_type": "code",
   "execution_count": 5,
   "metadata": {},
   "outputs": [],
   "source": [
    "import seaborn as sns\n",
    "sns.set_style(\"whitegrid\")"
   ]
  },
  {
   "cell_type": "code",
   "execution_count": 6,
   "metadata": {},
   "outputs": [],
   "source": [
    "state = 'NC'"
   ]
  },
  {
   "cell_type": "code",
   "execution_count": 7,
   "metadata": {},
   "outputs": [],
   "source": [
    "file_symptoms_train = 'comments/raw_comments/agent_comments_'+state+\\\n",
    "                        '_filtered_final_joined_selected_columns_use_max_scale_one_df_train.fea'\n",
    "\n",
    "noun_sentence_state_train = pd.read_feather(file_symptoms_train)"
   ]
  },
  {
   "cell_type": "code",
   "execution_count": 8,
   "metadata": {},
   "outputs": [],
   "source": [
    "file_symptoms_test = 'comments/raw_comments/agent_comments_'+state+\\\n",
    "                        '_filtered_final_joined_selected_columns_use_max_scale_one_df_test.fea'\n",
    "noun_sentence_state_test = pd.read_feather(file_symptoms_test)\n"
   ]
  },
  {
   "cell_type": "code",
   "execution_count": 9,
   "metadata": {},
   "outputs": [],
   "source": [
    "noun_sentence_state_test_transdate_train = noun_sentence_state_train.groupby('Transdate').mean()[['avmerror']].reset_index()\n",
    "noun_sentence_state_test_transdate_train = noun_sentence_state_test_transdate_train.rename(columns={\"avmerror\": \"avmerror_mean\"})"
   ]
  },
  {
   "cell_type": "code",
   "execution_count": 10,
   "metadata": {},
   "outputs": [],
   "source": [
    "noun_sentence_state_test_transdate_test = noun_sentence_state_test.groupby('Transdate').mean()[['avmerror']].reset_index()\n",
    "noun_sentence_state_test_transdate_test = noun_sentence_state_test_transdate_test.rename(columns={\"avmerror\": \"avmerror_mean\"})"
   ]
  },
  {
   "cell_type": "code",
   "execution_count": 11,
   "metadata": {},
   "outputs": [],
   "source": [
    "noun_sentence_state_train = noun_sentence_state_train.merge(noun_sentence_state_test_transdate_train,\n",
    "                                                         how='left', left_on='Transdate', right_on='Transdate')"
   ]
  },
  {
   "cell_type": "code",
   "execution_count": 12,
   "metadata": {},
   "outputs": [],
   "source": [
    "noun_sentence_state_test = noun_sentence_state_test.merge(noun_sentence_state_test_transdate_test,\n",
    "                                                         how='left', left_on='Transdate', right_on='Transdate')"
   ]
  },
  {
   "cell_type": "code",
   "execution_count": 13,
   "metadata": {},
   "outputs": [],
   "source": [
    "noun_sentence_state_train['category_predictand'] = 0\n",
    "noun_sentence_state_train.loc[noun_sentence_state_train['avmerror']>=0.,'category_predictand'] = 1"
   ]
  },
  {
   "cell_type": "code",
   "execution_count": 14,
   "metadata": {},
   "outputs": [],
   "source": [
    "noun_sentence_state_test['category_predictand'] = 0\n",
    "noun_sentence_state_test.loc[noun_sentence_state_test['avmerror']>=0.,'category_predictand'] = 1"
   ]
  },
  {
   "cell_type": "code",
   "execution_count": null,
   "metadata": {},
   "outputs": [],
   "source": []
  },
  {
   "cell_type": "code",
   "execution_count": null,
   "metadata": {},
   "outputs": [],
   "source": []
  },
  {
   "cell_type": "code",
   "execution_count": 16,
   "metadata": {},
   "outputs": [],
   "source": [
    "selcted_columns = ['cbsa', 'Transdate', \n",
    "       'cj_living_area', 'census_tract', 'zip', \n",
    "       'avmValue']"
   ]
  },
  {
   "cell_type": "code",
   "execution_count": 32,
   "metadata": {},
   "outputs": [
    {
     "data": {
      "text/plain": [
       "6925"
      ]
     },
     "execution_count": 32,
     "metadata": {},
     "output_type": "execute_result"
    }
   ],
   "source": [
    "selcted_columns_all = ['cbsa', 'Transdate', \n",
    "       'cj_living_area', 'census_tract', 'zip', \n",
    "       'avmValue', \n",
    "       'AVM_Error_Indicators_0', 'AVM_Error_Indicators_1',\n",
    "       'AVM_Error_Indicators_2', 'AVM_Error_Indicators_3',\n",
    "       'AVM_Error_Indicators_4', 'AVM_Error_Indicators_5',\n",
    "       'AVM_Error_Indicators_6', 'AVM_Error_Indicators_7',\n",
    "       'AVM_Error_Indicators_8', 'AVM_Error_Indicators_9',\n",
    "       'AVM_Error_Indicators_10', 'AVM_Error_Indicators_11',\n",
    "       'AVM_Error_Indicators_scale', 'AVM_Error_Indicators_scale_inverse',\n",
    "       'Listing_Error_Indicators_0', 'Listing_Error_Indicators_1',\n",
    "       'Listing_Error_Indicators_2', 'Listing_Error_Indicators_3',\n",
    "       'Listing_Error_Indicators_4', 'Listing_Error_Indicators_5',\n",
    "       'Listing_Error_Indicators_6', 'Listing_Error_Indicators_7',\n",
    "       'Listing_Error_Indicators_8', 'Listing_Error_Indicators_9',\n",
    "       'Listing_Error_Indicators_10', 'Listing_Error_Indicators_11',\n",
    "       'AVM_Error_Indicators_0_max_value',\n",
    "       'AVM_Error_Indicators_0_min_value',\n",
    "       'AVM_Error_Indicators_0_max_indicator',\n",
    "       'AVM_Error_Indicators_0_min_indicator',\n",
    "       'AVM_Error_Indicators_0_diff_indicator',\n",
    "       'AVM_Error_Indicators_0_diff_value', 'AVM_Error_Indicators_0_mean','avmerror_mean']\n",
    "selcted_columns_all = selcted_columns_all + list(noun_sentence_state_train.columns[51:-2])\n",
    "len(selcted_columns_all)"
   ]
  },
  {
   "cell_type": "code",
   "execution_count": 33,
   "metadata": {},
   "outputs": [
    {
     "data": {
      "text/plain": [
       "Index(['listingid', 'qtr', 'cbsa_div', 'cbsa', 'state', 'Transdate',\n",
       "       'Transprice', 'cj_living_area', 'fips_code', 'census_tract',\n",
       "       ...\n",
       "       'new roof, new stainless steel appliances', 'new roof, new windows',\n",
       "       'new roof, original hardwood floors',\n",
       "       'new stainless steel appliances, original hardwood floors',\n",
       "       'new stainless steel appliances, separate shower',\n",
       "       'new stainless steel appliances, spacious bedrooms',\n",
       "       'new stainless steel appliances, tile kitchen',\n",
       "       'new stainless steel appliances, walkin closet', 'avmerror_mean',\n",
       "       'category_predictand'],\n",
       "      dtype='object', length=6938)"
      ]
     },
     "execution_count": 33,
     "metadata": {},
     "output_type": "execute_result"
    }
   ],
   "source": [
    "noun_sentence_state_train.columns"
   ]
  },
  {
   "cell_type": "code",
   "execution_count": 18,
   "metadata": {},
   "outputs": [],
   "source": [
    "\n",
    "all_combinations = []"
   ]
  },
  {
   "cell_type": "code",
   "execution_count": 19,
   "metadata": {},
   "outputs": [
    {
     "name": "stdout",
     "output_type": "stream",
     "text": [
      "1\n",
      "2\n",
      "3\n",
      "4\n",
      "5\n",
      "6\n"
     ]
    }
   ],
   "source": [
    "for i in range(1,len(selcted_columns)+1):\n",
    "    print(i)\n",
    "    all_combinations = all_combinations + list(combinations(selcted_columns, i))"
   ]
  },
  {
   "cell_type": "code",
   "execution_count": 20,
   "metadata": {},
   "outputs": [
    {
     "name": "stdout",
     "output_type": "stream",
     "text": [
      "['cbsa']\n",
      "['Transdate']\n",
      "['cj_living_area']\n",
      "['census_tract']\n",
      "['zip']\n",
      "['avmValue']\n",
      "['cbsa', 'Transdate']\n",
      "['cbsa', 'cj_living_area']\n",
      "['cbsa', 'census_tract']\n",
      "['cbsa', 'zip']\n",
      "['cbsa', 'avmValue']\n",
      "['Transdate', 'cj_living_area']\n",
      "['Transdate', 'census_tract']\n",
      "['Transdate', 'zip']\n",
      "['Transdate', 'avmValue']\n",
      "['cj_living_area', 'census_tract']\n",
      "['cj_living_area', 'zip']\n",
      "['cj_living_area', 'avmValue']\n",
      "['census_tract', 'zip']\n",
      "['census_tract', 'avmValue']\n",
      "['zip', 'avmValue']\n",
      "['cbsa', 'Transdate', 'cj_living_area']\n",
      "['cbsa', 'Transdate', 'census_tract']\n",
      "['cbsa', 'Transdate', 'zip']\n",
      "['cbsa', 'Transdate', 'avmValue']\n",
      "['cbsa', 'cj_living_area', 'census_tract']\n",
      "['cbsa', 'cj_living_area', 'zip']\n",
      "['cbsa', 'cj_living_area', 'avmValue']\n",
      "['cbsa', 'census_tract', 'zip']\n",
      "['cbsa', 'census_tract', 'avmValue']\n",
      "['cbsa', 'zip', 'avmValue']\n",
      "['Transdate', 'cj_living_area', 'census_tract']\n",
      "['Transdate', 'cj_living_area', 'zip']\n",
      "['Transdate', 'cj_living_area', 'avmValue']\n",
      "['Transdate', 'census_tract', 'zip']\n",
      "['Transdate', 'census_tract', 'avmValue']\n",
      "['Transdate', 'zip', 'avmValue']\n",
      "['cj_living_area', 'census_tract', 'zip']\n",
      "['cj_living_area', 'census_tract', 'avmValue']\n",
      "['cj_living_area', 'zip', 'avmValue']\n",
      "['census_tract', 'zip', 'avmValue']\n",
      "['cbsa', 'Transdate', 'cj_living_area', 'census_tract']\n",
      "['cbsa', 'Transdate', 'cj_living_area', 'zip']\n",
      "['cbsa', 'Transdate', 'cj_living_area', 'avmValue']\n",
      "['cbsa', 'Transdate', 'census_tract', 'zip']\n",
      "['cbsa', 'Transdate', 'census_tract', 'avmValue']\n",
      "['cbsa', 'Transdate', 'zip', 'avmValue']\n",
      "['cbsa', 'cj_living_area', 'census_tract', 'zip']\n",
      "['cbsa', 'cj_living_area', 'census_tract', 'avmValue']\n",
      "['cbsa', 'cj_living_area', 'zip', 'avmValue']\n",
      "['cbsa', 'census_tract', 'zip', 'avmValue']\n",
      "['Transdate', 'cj_living_area', 'census_tract', 'zip']\n",
      "['Transdate', 'cj_living_area', 'census_tract', 'avmValue']\n",
      "['Transdate', 'cj_living_area', 'zip', 'avmValue']\n",
      "['Transdate', 'census_tract', 'zip', 'avmValue']\n",
      "['cj_living_area', 'census_tract', 'zip', 'avmValue']\n",
      "['cbsa', 'Transdate', 'cj_living_area', 'census_tract', 'zip']\n",
      "['cbsa', 'Transdate', 'cj_living_area', 'census_tract', 'avmValue']\n",
      "['cbsa', 'Transdate', 'cj_living_area', 'zip', 'avmValue']\n",
      "['cbsa', 'Transdate', 'census_tract', 'zip', 'avmValue']\n",
      "['cbsa', 'cj_living_area', 'census_tract', 'zip', 'avmValue']\n",
      "['Transdate', 'cj_living_area', 'census_tract', 'zip', 'avmValue']\n",
      "['cbsa', 'Transdate', 'cj_living_area', 'census_tract', 'zip', 'avmValue']\n"
     ]
    }
   ],
   "source": [
    "for list_preds in all_combinations:\n",
    "    print(list(list_preds))\n"
   ]
  },
  {
   "cell_type": "code",
   "execution_count": 21,
   "metadata": {},
   "outputs": [],
   "source": [
    "import joblib"
   ]
  },
  {
   "cell_type": "code",
   "execution_count": null,
   "metadata": {},
   "outputs": [],
   "source": []
  },
  {
   "cell_type": "code",
   "execution_count": 39,
   "metadata": {},
   "outputs": [],
   "source": [
    "testing_error_list = []\n",
    "testingavm_error_list = []\n",
    "\n",
    "training_error_list = []\n",
    "trainingavm_error_list = []"
   ]
  },
  {
   "cell_type": "code",
   "execution_count": 36,
   "metadata": {},
   "outputs": [],
   "source": [
    "\n",
    "symptoms_df = noun_sentence_state_train.loc[:,selcted_columns_all]\n",
    "symptoms_df_test = noun_sentence_state_test.loc[:,selcted_columns_all]\n",
    "\n",
    "Predictors = symptoms_df.to_numpy()\n",
    "X_test = symptoms_df_test.to_numpy()\n",
    "X_train = Predictors\n",
    "predictand = noun_sentence_state_train.category_predictand.values\n",
    "y_train = predictand\n",
    "y_test = noun_sentence_state_test.category_predictand.values\n",
    "\n",
    "y_train_regressor = noun_sentence_state_train.avmerror.values\n",
    "\n",
    "    "
   ]
  },
  {
   "cell_type": "code",
   "execution_count": 37,
   "metadata": {},
   "outputs": [],
   "source": [
    "filename = 'LGBM_regressor_firstStage_'+state+'.sav'\n",
    "model_regressor = joblib.load(filename)"
   ]
  },
  {
   "cell_type": "code",
   "execution_count": 40,
   "metadata": {},
   "outputs": [
    {
     "name": "stdout",
     "output_type": "stream",
     "text": [
      "\n",
      "Testing\n",
      "0.10060815707066105\n",
      "0.11482542789285947\n",
      "\n",
      "Training\n",
      "0.08765564973659257\n",
      "0.11497275549046698\n"
     ]
    }
   ],
   "source": [
    "predictions_train_Regressor = model_regressor.predict(X_train)\n",
    "predictions_test_Regressor = model_regressor.predict(X_test)\n",
    "y_test_regressor = noun_sentence_state_test.avmerror.values\n",
    "\n",
    "avmValue_test = noun_sentence_state_test['avmValue']\n",
    "avmValue_train = noun_sentence_state_train['avmValue']\n",
    "\n",
    "transprice_test = noun_sentence_state_test['Transprice']\n",
    "transprice_train = noun_sentence_state_train['Transprice']\n",
    "\n",
    "predictions_test_valueR = avmValue_test/(1-predictions_test_Regressor)\n",
    "predictions_train_valueR = avmValue_train/(1-predictions_train_Regressor)\n",
    "\n",
    "print('') \n",
    "print('Testing')\n",
    "print(np.mean(np.abs(transprice_test-predictions_test_valueR)/\\\n",
    "          (transprice_test)))\n",
    "print(np.mean(np.abs(transprice_test - avmValue_test)/\\\n",
    "              (transprice_test)))\n",
    "\n",
    "testing_error_list.append(np.mean(np.abs(transprice_test-predictions_test_valueR)/\\\n",
    "          (transprice_test)))\n",
    "testingavm_error_list.append(np.mean(np.abs(transprice_test - avmValue_test)/\\\n",
    "              (transprice_test)))\n",
    "\n",
    "print('') \n",
    "print('Training') \n",
    "print(np.mean(np.abs(transprice_train-predictions_train_valueR)/\\\n",
    "          (transprice_train)))\n",
    "print(np.mean(np.abs(transprice_train - avmValue_train)/\\\n",
    "              (transprice_train)))  \n",
    "\n",
    "training_error_list.append(np.mean(np.abs(transprice_train-predictions_train_valueR)/\\\n",
    "          (transprice_train)))\n",
    "trainingavm_error_list.append(np.mean(np.abs(transprice_train - avmValue_train)/\\\n",
    "              (transprice_train)))"
   ]
  },
  {
   "cell_type": "code",
   "execution_count": null,
   "metadata": {},
   "outputs": [],
   "source": []
  },
  {
   "cell_type": "code",
   "execution_count": 45,
   "metadata": {},
   "outputs": [],
   "source": [
    "from lightgbm import LGBMRegressor\n",
    "\n"
   ]
  },
  {
   "cell_type": "code",
   "execution_count": 41,
   "metadata": {},
   "outputs": [
    {
     "name": "stdout",
     "output_type": "stream",
     "text": [
      "['cbsa']\n",
      "\n",
      "Testing\n",
      "0.11448760138766934\n",
      "0.11482542789285947\n",
      "\n",
      "Training\n",
      "0.11467054016244699\n",
      "0.11497275549046698\n",
      "['Transdate']\n",
      "\n",
      "Testing\n",
      "0.11469483804375169\n",
      "0.11482542789285947\n",
      "\n",
      "Training\n",
      "0.1146998186343513\n",
      "0.11497275549046698\n",
      "['cj_living_area']\n",
      "\n",
      "Testing\n",
      "0.11428215422032698\n",
      "0.11482542789285947\n",
      "\n",
      "Training\n",
      "0.11431683319867367\n",
      "0.11497275549046698\n",
      "['census_tract']\n",
      "\n",
      "Testing\n",
      "0.11405999635494828\n",
      "0.11482542789285947\n",
      "\n",
      "Training\n",
      "0.11427062938357065\n",
      "0.11497275549046698\n",
      "['zip']\n",
      "\n",
      "Testing\n",
      "0.11428933974590103\n",
      "0.11482542789285947\n",
      "\n",
      "Training\n",
      "0.11437629108399587\n",
      "0.11497275549046698\n",
      "['avmValue']\n",
      "\n",
      "Testing\n",
      "0.11340020643356702\n",
      "0.11482542789285947\n",
      "\n",
      "Training\n",
      "0.11340262810749041\n",
      "0.11497275549046698\n",
      "['cbsa', 'Transdate']\n",
      "\n",
      "Testing\n",
      "0.11408781243632234\n",
      "0.11482542789285947\n",
      "\n",
      "Training\n",
      "0.11209659405800543\n",
      "0.11497275549046698\n",
      "['cbsa', 'cj_living_area']\n",
      "\n",
      "Testing\n",
      "0.11427885643029805\n",
      "0.11482542789285947\n",
      "\n",
      "Training\n",
      "0.11231316276953471\n",
      "0.11497275549046698\n",
      "['cbsa', 'census_tract']\n",
      "\n",
      "Testing\n",
      "0.11384969422923241\n",
      "0.11482542789285947\n",
      "\n",
      "Training\n",
      "0.11400813366088669\n",
      "0.11497275549046698\n",
      "['cbsa', 'zip']\n",
      "\n",
      "Testing\n",
      "0.11414234823381769\n",
      "0.11482542789285947\n",
      "\n",
      "Training\n",
      "0.11402366825645788\n",
      "0.11497275549046698\n",
      "['cbsa', 'avmValue']\n",
      "\n",
      "Testing\n",
      "0.11356074247762235\n",
      "0.11482542789285947\n",
      "\n",
      "Training\n",
      "0.11158358929199215\n",
      "0.11497275549046698\n",
      "['Transdate', 'cj_living_area']\n",
      "\n",
      "Testing\n",
      "0.11502659738627731\n",
      "0.11482542789285947\n",
      "\n",
      "Training\n",
      "0.11044830727302646\n",
      "0.11497275549046698\n",
      "['Transdate', 'census_tract']\n",
      "\n",
      "Testing\n",
      "0.11367090049968724\n",
      "0.11482542789285947\n",
      "\n",
      "Training\n",
      "0.10947387229275472\n",
      "0.11497275549046698\n",
      "['Transdate', 'zip']\n",
      "\n",
      "Testing\n",
      "0.1139431374626712\n",
      "0.11482542789285947\n",
      "\n",
      "Training\n",
      "0.10956591652583737\n",
      "0.11497275549046698\n",
      "['Transdate', 'avmValue']\n",
      "\n",
      "Testing\n",
      "0.1133837803522477\n",
      "0.11482542789285947\n",
      "\n",
      "Training\n",
      "0.10868019948221486\n",
      "0.11497275549046698\n",
      "['cj_living_area', 'census_tract']\n",
      "\n",
      "Testing\n",
      "0.1145869382411364\n",
      "0.11482542789285947\n",
      "\n",
      "Training\n",
      "0.11039734137769755\n",
      "0.11497275549046698\n",
      "['cj_living_area', 'zip']\n",
      "\n",
      "Testing\n",
      "0.11450931186212827\n",
      "0.11482542789285947\n",
      "\n",
      "Training\n",
      "0.11039493588949219\n",
      "0.11497275549046698\n",
      "['cj_living_area', 'avmValue']\n",
      "\n",
      "Testing\n",
      "0.11420684363731294\n",
      "0.11482542789285947\n",
      "\n",
      "Training\n",
      "0.1109422539759104\n",
      "0.11497275549046698\n",
      "['census_tract', 'zip']\n",
      "\n",
      "Testing\n",
      "0.11398392641341702\n",
      "0.11482542789285947\n",
      "\n",
      "Training\n",
      "0.11359709282503257\n",
      "0.11497275549046698\n",
      "['census_tract', 'avmValue']\n",
      "\n",
      "Testing\n",
      "0.11335005680681114\n",
      "0.11482542789285947\n",
      "\n",
      "Training\n",
      "0.10901408479258123\n",
      "0.11497275549046698\n",
      "['zip', 'avmValue']\n",
      "\n",
      "Testing\n",
      "0.11326719281839026\n",
      "0.11482542789285947\n",
      "\n",
      "Training\n",
      "0.10907928588087742\n",
      "0.11497275549046698\n",
      "['cbsa', 'Transdate', 'cj_living_area']\n",
      "\n",
      "Testing\n",
      "0.11323279715655273\n",
      "0.11482542789285947\n",
      "\n",
      "Training\n",
      "0.10864521943287421\n",
      "0.11497275549046698\n",
      "['cbsa', 'Transdate', 'census_tract']\n",
      "\n",
      "Testing\n",
      "0.11300777285904223\n",
      "0.11482542789285947\n",
      "\n",
      "Training\n",
      "0.10996057603957202\n",
      "0.11497275549046698\n",
      "['cbsa', 'Transdate', 'zip']\n",
      "\n",
      "Testing\n",
      "0.11330696911819177\n",
      "0.11482542789285947\n",
      "\n",
      "Training\n",
      "0.10989687335963003\n",
      "0.11497275549046698\n",
      "['cbsa', 'Transdate', 'avmValue']\n",
      "\n",
      "Testing\n",
      "0.11209861876452813\n",
      "0.11482542789285947\n",
      "\n",
      "Training\n",
      "0.10698070736043924\n",
      "0.11497275549046698\n",
      "['cbsa', 'cj_living_area', 'census_tract']\n",
      "\n",
      "Testing\n",
      "0.1139342220758451\n",
      "0.11482542789285947\n",
      "\n",
      "Training\n",
      "0.11080637106321391\n",
      "0.11497275549046698\n",
      "['cbsa', 'cj_living_area', 'zip']\n",
      "\n",
      "Testing\n",
      "0.11404565738293428\n",
      "0.11482542789285947\n",
      "\n",
      "Training\n",
      "0.11063286092668985\n",
      "0.11497275549046698\n",
      "['cbsa', 'cj_living_area', 'avmValue']\n",
      "\n",
      "Testing\n",
      "0.11390102386749257\n",
      "0.11482542789285947\n",
      "\n",
      "Training\n",
      "0.10937519251418462\n",
      "0.11497275549046698\n",
      "['cbsa', 'census_tract', 'zip']\n",
      "\n",
      "Testing\n",
      "0.11387267261509292\n",
      "0.11482542789285947\n",
      "\n",
      "Training\n",
      "0.11356891018572227\n",
      "0.11497275549046698\n",
      "['cbsa', 'census_tract', 'avmValue']\n",
      "\n",
      "Testing\n",
      "0.11288905286273138\n",
      "0.11482542789285947\n",
      "\n",
      "Training\n",
      "0.10935514132727368\n",
      "0.11497275549046698\n",
      "['cbsa', 'zip', 'avmValue']\n",
      "\n",
      "Testing\n",
      "0.11293774137692508\n",
      "0.11482542789285947\n",
      "\n",
      "Training\n",
      "0.10930547287184615\n",
      "0.11497275549046698\n",
      "['Transdate', 'cj_living_area', 'census_tract']\n",
      "\n",
      "Testing\n",
      "0.11291215801379624\n",
      "0.11482542789285947\n",
      "\n",
      "Training\n",
      "0.1066346686856396\n",
      "0.11497275549046698\n",
      "['Transdate', 'cj_living_area', 'zip']\n",
      "\n",
      "Testing\n",
      "0.11303126800120936\n",
      "0.11482542789285947\n",
      "\n",
      "Training\n",
      "0.10670106690396274\n",
      "0.11497275549046698\n",
      "['Transdate', 'cj_living_area', 'avmValue']\n",
      "\n",
      "Testing\n",
      "0.11351217890121659\n",
      "0.11482542789285947\n",
      "\n",
      "Training\n",
      "0.10682455165803233\n",
      "0.11497275549046698\n",
      "['Transdate', 'census_tract', 'zip']\n",
      "\n",
      "Testing\n",
      "0.11299496810931038\n",
      "0.11482542789285947\n",
      "\n",
      "Training\n",
      "0.10891879576963515\n",
      "0.11497275549046698\n",
      "['Transdate', 'census_tract', 'avmValue']\n",
      "\n",
      "Testing\n",
      "0.11122608290009445\n",
      "0.11482542789285947\n",
      "\n",
      "Training\n",
      "0.1041488794935814\n",
      "0.11497275549046698\n",
      "['Transdate', 'zip', 'avmValue']\n",
      "\n",
      "Testing\n",
      "0.11132203815277007\n",
      "0.11482542789285947\n",
      "\n",
      "Training\n",
      "0.10411278802290717\n",
      "0.11497275549046698\n",
      "['cj_living_area', 'census_tract', 'zip']\n",
      "\n",
      "Testing\n",
      "0.11394966429609056\n",
      "0.11482542789285947\n",
      "\n",
      "Training\n",
      "0.10992106649256216\n",
      "0.11497275549046698\n",
      "['cj_living_area', 'census_tract', 'avmValue']\n",
      "\n",
      "Testing\n",
      "0.11361895021770416\n",
      "0.11482542789285947\n",
      "\n",
      "Training\n",
      "0.10670872641960676\n",
      "0.11497275549046698\n",
      "['cj_living_area', 'zip', 'avmValue']\n",
      "\n",
      "Testing\n",
      "0.11355357777272078\n",
      "0.11482542789285947\n",
      "\n",
      "Training\n",
      "0.10662108836468641\n",
      "0.11497275549046698\n",
      "['census_tract', 'zip', 'avmValue']\n",
      "\n",
      "Testing\n",
      "0.11288722015252993\n",
      "0.11482542789285947\n",
      "\n",
      "Training\n",
      "0.10824140452319901\n",
      "0.11497275549046698\n",
      "['cbsa', 'Transdate', 'cj_living_area', 'census_tract']\n",
      "\n",
      "Testing\n",
      "0.11311153030127723\n",
      "0.11482542789285947\n",
      "\n",
      "Training\n",
      "0.10832516021375369\n",
      "0.11497275549046698\n",
      "['cbsa', 'Transdate', 'cj_living_area', 'zip']\n",
      "\n",
      "Testing\n",
      "0.11317527226884101\n",
      "0.11482542789285947\n",
      "\n",
      "Training\n",
      "0.10828381027380633\n",
      "0.11497275549046698\n",
      "['cbsa', 'Transdate', 'cj_living_area', 'avmValue']\n",
      "\n",
      "Testing\n",
      "0.11266474897342704\n",
      "0.11482542789285947\n",
      "\n",
      "Training\n",
      "0.10751180558141454\n",
      "0.11497275549046698\n",
      "['cbsa', 'Transdate', 'census_tract', 'zip']\n",
      "\n",
      "Testing\n",
      "0.11312239516086302\n",
      "0.11482542789285947\n",
      "\n",
      "Training\n",
      "0.11107785846583317\n",
      "0.11497275549046698\n",
      "['cbsa', 'Transdate', 'census_tract', 'avmValue']\n",
      "\n",
      "Testing\n",
      "0.11158258653336496\n",
      "0.11482542789285947\n",
      "\n",
      "Training\n",
      "0.10654122319066088\n",
      "0.11497275549046698\n",
      "['cbsa', 'Transdate', 'zip', 'avmValue']\n",
      "\n",
      "Testing\n",
      "0.11161217118519134\n",
      "0.11482542789285947\n",
      "\n",
      "Training\n",
      "0.10652755850350448\n",
      "0.11497275549046698\n",
      "['cbsa', 'cj_living_area', 'census_tract', 'zip']\n",
      "\n",
      "Testing\n",
      "0.11382215049049385\n",
      "0.11482542789285947\n",
      "\n",
      "Training\n",
      "0.1117552519777051\n",
      "0.11497275549046698\n",
      "['cbsa', 'cj_living_area', 'census_tract', 'avmValue']\n",
      "\n",
      "Testing\n",
      "0.11376579550802847\n",
      "0.11482542789285947\n",
      "\n",
      "Training\n",
      "0.10827484952130471\n",
      "0.11497275549046698\n",
      "['cbsa', 'cj_living_area', 'zip', 'avmValue']\n",
      "\n",
      "Testing\n",
      "0.1136960534391549\n",
      "0.11482542789285947\n",
      "\n",
      "Training\n",
      "0.10824283932603845\n",
      "0.11497275549046698\n",
      "['cbsa', 'census_tract', 'zip', 'avmValue']\n",
      "\n",
      "Testing\n",
      "0.1126998769331879\n",
      "0.11482542789285947\n",
      "\n",
      "Training\n",
      "0.10929971831834805\n",
      "0.11497275549046698\n",
      "['Transdate', 'cj_living_area', 'census_tract', 'zip']\n",
      "\n",
      "Testing\n",
      "0.11337765040387879\n",
      "0.11482542789285947\n",
      "\n",
      "Training\n",
      "0.10953181163875617\n",
      "0.11497275549046698\n",
      "['Transdate', 'cj_living_area', 'census_tract', 'avmValue']\n",
      "\n",
      "Testing\n",
      "0.11289301983150665\n",
      "0.11482542789285947\n",
      "\n",
      "Training\n",
      "0.10502444047234817\n",
      "0.11497275549046698\n",
      "['Transdate', 'cj_living_area', 'zip', 'avmValue']\n",
      "\n",
      "Testing\n",
      "0.11268985267460879\n",
      "0.11482542789285947\n",
      "\n",
      "Training\n",
      "0.10501014107280862\n",
      "0.11497275549046698\n",
      "['Transdate', 'census_tract', 'zip', 'avmValue']\n",
      "\n",
      "Testing\n",
      "0.11133360113722461\n",
      "0.11482542789285947\n",
      "\n",
      "Training\n",
      "0.10467491667670197\n",
      "0.11497275549046698\n",
      "['cj_living_area', 'census_tract', 'zip', 'avmValue']\n",
      "\n",
      "Testing\n",
      "0.11376300456863882\n",
      "0.11482542789285947\n",
      "\n",
      "Training\n",
      "0.10681635457470835\n",
      "0.11497275549046698\n",
      "['cbsa', 'Transdate', 'cj_living_area', 'census_tract', 'zip']\n",
      "\n",
      "Testing\n",
      "0.11219153022598645\n",
      "0.11482542789285947\n",
      "\n",
      "Training\n",
      "0.10645389528702236\n",
      "0.11497275549046698\n",
      "['cbsa', 'Transdate', 'cj_living_area', 'census_tract', 'avmValue']\n",
      "\n",
      "Testing\n",
      "0.11097488460502346\n",
      "0.11482542789285947\n",
      "\n",
      "Training\n",
      "0.10251851134626377\n",
      "0.11497275549046698\n",
      "['cbsa', 'Transdate', 'cj_living_area', 'zip', 'avmValue']\n",
      "\n",
      "Testing\n",
      "0.11116605915096017\n",
      "0.11482542789285947\n",
      "\n",
      "Training\n",
      "0.10264513832781365\n",
      "0.11497275549046698\n",
      "['cbsa', 'Transdate', 'census_tract', 'zip', 'avmValue']\n",
      "\n",
      "Testing\n",
      "0.11045717561178842\n",
      "0.11482542789285947\n",
      "\n",
      "Training\n",
      "0.10418761556715972\n",
      "0.11497275549046698\n",
      "['cbsa', 'cj_living_area', 'census_tract', 'zip', 'avmValue']\n"
     ]
    },
    {
     "name": "stdout",
     "output_type": "stream",
     "text": [
      "\n",
      "Testing\n",
      "0.11280486532304924\n",
      "0.11482542789285947\n",
      "\n",
      "Training\n",
      "0.10665998021298932\n",
      "0.11497275549046698\n",
      "['Transdate', 'cj_living_area', 'census_tract', 'zip', 'avmValue']\n",
      "\n",
      "Testing\n",
      "0.11071262861106418\n",
      "0.11482542789285947\n",
      "\n",
      "Training\n",
      "0.10127653520238136\n",
      "0.11497275549046698\n",
      "['cbsa', 'Transdate', 'cj_living_area', 'census_tract', 'zip', 'avmValue']\n",
      "\n",
      "Testing\n",
      "0.11103260254996415\n",
      "0.11482542789285947\n",
      "\n",
      "Training\n",
      "0.10307672205559482\n",
      "0.11497275549046698\n"
     ]
    }
   ],
   "source": [
    "for idd,list_preds in enumerate(all_combinations):\n",
    "    print(list(list_preds))\n",
    "    \n",
    "    selcted_columns = list_preds\n",
    "    symptoms_df = noun_sentence_state_train.loc[:,selcted_columns]\n",
    "    symptoms_df_test = noun_sentence_state_test.loc[:,selcted_columns]\n",
    "    \n",
    "    Predictors = symptoms_df.to_numpy()\n",
    "    X_test = symptoms_df_test.to_numpy()\n",
    "    X_train = Predictors\n",
    "    predictand = noun_sentence_state_train.category_predictand.values\n",
    "    y_train = predictand\n",
    "    y_test = noun_sentence_state_test.category_predictand.values\n",
    "    \n",
    "    y_train_regressor = noun_sentence_state_train.avmerror.values\n",
    "    \n",
    "    filename =  'LGBM_regressor_NOCOMMENTS_'+state+'_'+str(idd)+'.sav'\n",
    "    model_regressor = joblib.load(filename)\n",
    "    \n",
    "    predictions_train_Regressor = model_regressor.predict(X_train)\n",
    "    predictions_test_Regressor = model_regressor.predict(X_test)\n",
    "    \n",
    "    y_test_regressor = noun_sentence_state_test.avmerror.values\n",
    "    \n",
    "    avmValue_test = noun_sentence_state_test['avmValue']\n",
    "    avmValue_train = noun_sentence_state_train['avmValue']\n",
    "\n",
    "    transprice_test = noun_sentence_state_test['Transprice']\n",
    "    transprice_train = noun_sentence_state_train['Transprice']\n",
    "\n",
    "    predictions_test_valueR = avmValue_test/(1-predictions_test_Regressor)\n",
    "    predictions_train_valueR = avmValue_train/(1-predictions_train_Regressor)\n",
    "    \n",
    "    \n",
    "    print('') \n",
    "    print('Testing')\n",
    "    print(np.mean(np.abs(transprice_test-predictions_test_valueR)/\\\n",
    "              (transprice_test)))\n",
    "    print(np.mean(np.abs(transprice_test - avmValue_test)/\\\n",
    "                  (transprice_test)))\n",
    "    \n",
    "\n",
    "    testing_error_list.append(np.mean(np.abs(transprice_test-predictions_test_valueR)/\\\n",
    "              (transprice_test)))\n",
    "    testingavm_error_list.append(np.mean(np.abs(transprice_test - avmValue_test)/\\\n",
    "                  (transprice_test)))\n",
    "\n",
    "    print('') \n",
    "    print('Training') \n",
    "    print(np.mean(np.abs(transprice_train-predictions_train_valueR)/\\\n",
    "              (transprice_train)))\n",
    "    print(np.mean(np.abs(transprice_train - avmValue_train)/\\\n",
    "                  (transprice_train)))      \n",
    "\n",
    "    training_error_list.append(np.mean(np.abs(transprice_test-predictions_test_valueR)/\\\n",
    "              (transprice_test)))\n",
    "    trainingavm_error_list.append(np.mean(np.abs(transprice_train - avmValue_train)/\\\n",
    "                  (transprice_train)))\n",
    "   \n"
   ]
  },
  {
   "cell_type": "code",
   "execution_count": null,
   "metadata": {},
   "outputs": [],
   "source": []
  },
  {
   "cell_type": "code",
   "execution_count": null,
   "metadata": {},
   "outputs": [],
   "source": []
  },
  {
   "cell_type": "code",
   "execution_count": 42,
   "metadata": {},
   "outputs": [],
   "source": [
    "import seaborn as sns\n",
    "sns.set_theme(style=\"whitegrid\")\n"
   ]
  },
  {
   "cell_type": "code",
   "execution_count": 58,
   "metadata": {},
   "outputs": [
    {
     "data": {
      "text/plain": [
       "<BarContainer object of 64 artists>"
      ]
     },
     "execution_count": 58,
     "metadata": {},
     "output_type": "execute_result"
    },
    {
     "data": {
      "image/png": "[encoded data removed]",
      "text/plain": [
       "<Figure size 1080x360 with 1 Axes>"
      ]
     },
     "metadata": {},
     "output_type": "display_data"
    }
   ],
   "source": [
    "fig = plt.figure(figsize=(15,5))\n",
    "plt.bar(np.arange(len(testing_error_list)), testing_error_list)"
   ]
  },
  {
   "cell_type": "code",
   "execution_count": 57,
   "metadata": {},
   "outputs": [
    {
     "data": {
      "text/plain": [
       "0.11132203815277007"
      ]
     },
     "execution_count": 57,
     "metadata": {},
     "output_type": "execute_result"
    }
   ],
   "source": [
    "training_error_list[37]"
   ]
  },
  {
   "cell_type": "code",
   "execution_count": 74,
   "metadata": {},
   "outputs": [
    {
     "data": {
      "text/plain": [
       "0.11122608290009445"
      ]
     },
     "execution_count": 74,
     "metadata": {},
     "output_type": "execute_result"
    }
   ],
   "source": [
    "testing_error_list[63]"
   ]
  },
  {
   "cell_type": "code",
   "execution_count": 73,
   "metadata": {},
   "outputs": [
    {
     "data": {
      "text/plain": [
       "('cbsa', 'Transdate', 'cj_living_area', 'census_tract', 'zip', 'avmValue')"
      ]
     },
     "execution_count": 73,
     "metadata": {},
     "output_type": "execute_result"
    }
   ],
   "source": [
    "all_combinations[62]"
   ]
  },
  {
   "cell_type": "code",
   "execution_count": 76,
   "metadata": {},
   "outputs": [
    {
     "data": {
      "text/plain": [
       "0.11122608290009445"
      ]
     },
     "execution_count": 76,
     "metadata": {},
     "output_type": "execute_result"
    }
   ],
   "source": [
    "testing_error_list[36]"
   ]
  },
  {
   "cell_type": "code",
   "execution_count": 77,
   "metadata": {},
   "outputs": [
    {
     "data": {
      "text/plain": [
       "('Transdate', 'census_tract', 'avmValue')"
      ]
     },
     "execution_count": 77,
     "metadata": {},
     "output_type": "execute_result"
    }
   ],
   "source": [
    "all_combinations[35]"
   ]
  },
  {
   "cell_type": "code",
   "execution_count": null,
   "metadata": {},
   "outputs": [],
   "source": []
  },
  {
   "cell_type": "code",
   "execution_count": 81,
   "metadata": {},
   "outputs": [
    {
     "data": {
      "text/plain": [
       "0.11045717561178842"
      ]
     },
     "execution_count": 81,
     "metadata": {},
     "output_type": "execute_result"
    }
   ],
   "source": [
    "np.array(testing_error_list[1:]).min()"
   ]
  },
  {
   "cell_type": "code",
   "execution_count": 84,
   "metadata": {},
   "outputs": [
    {
     "data": {
      "text/plain": [
       "[array([False, False, False, False, False, False, False, False, False,\n",
       "        False, False, False, False, False, False, False, False, False,\n",
       "        False, False, False, False, False, False, False, False, False,\n",
       "        False, False, False, False, False, False, False, False, False,\n",
       "        False, False, False, False, False, False, False, False, False,\n",
       "        False, False, False, False, False, False, False, False, False,\n",
       "        False, False, False, False, False, False,  True, False, False,\n",
       "        False])]"
      ]
     },
     "execution_count": 84,
     "metadata": {},
     "output_type": "execute_result"
    }
   ],
   "source": [
    "[np.array(testing_error_list)==np.array(testing_error_list[1:]).min()]"
   ]
  },
  {
   "cell_type": "code",
   "execution_count": null,
   "metadata": {},
   "outputs": [],
   "source": []
  },
  {
   "cell_type": "code",
   "execution_count": 86,
   "metadata": {},
   "outputs": [
    {
     "data": {
      "text/plain": [
       "0.11045717561178842"
      ]
     },
     "execution_count": 86,
     "metadata": {},
     "output_type": "execute_result"
    }
   ],
   "source": [
    "testing_error_list[60]"
   ]
  },
  {
   "cell_type": "code",
   "execution_count": 87,
   "metadata": {},
   "outputs": [
    {
     "data": {
      "text/plain": [
       "('cbsa', 'Transdate', 'census_tract', 'zip', 'avmValue')"
      ]
     },
     "execution_count": 87,
     "metadata": {},
     "output_type": "execute_result"
    }
   ],
   "source": [
    "all_combinations[59]"
   ]
  },
  {
   "cell_type": "code",
   "execution_count": 88,
   "metadata": {},
   "outputs": [],
   "source": [
    "filename =  'LGBM_regressor_NOCOMMENTS_'+state+'_59.sav'\n",
    "model_regressor = joblib.load(filename)"
   ]
  },
  {
   "cell_type": "code",
   "execution_count": 89,
   "metadata": {},
   "outputs": [
    {
     "data": {
      "text/plain": [
       "LGBMRegressor(colsample_bytree=0.4, max_depth=10, n_estimators=150,\n",
       "              num_leaves=700)"
      ]
     },
     "execution_count": 89,
     "metadata": {},
     "output_type": "execute_result"
    }
   ],
   "source": [
    "model_regressor"
   ]
  },
  {
   "cell_type": "code",
   "execution_count": 92,
   "metadata": {},
   "outputs": [],
   "source": [
    "importances = model_regressor.feature_importances_\n",
    "indices = np.argsort(importances)\n",
    "selcted_columns = all_combinations[59]\n",
    "features = selcted_columns"
   ]
  },
  {
   "cell_type": "code",
   "execution_count": 93,
   "metadata": {},
   "outputs": [
    {
     "name": "stdout",
     "output_type": "stream",
     "text": [
      "cbsa\n",
      "zip\n",
      "census_tract\n",
      "Transdate\n",
      "avmValue\n"
     ]
    }
   ],
   "source": [
    "for element in np.array(features)[indices]:\n",
    "    print(element)"
   ]
  },
  {
   "cell_type": "code",
   "execution_count": null,
   "metadata": {},
   "outputs": [],
   "source": []
  },
  {
   "cell_type": "code",
   "execution_count": null,
   "metadata": {},
   "outputs": [],
   "source": []
  },
  {
   "cell_type": "code",
   "execution_count": null,
   "metadata": {},
   "outputs": [],
   "source": []
  },
  {
   "cell_type": "code",
   "execution_count": null,
   "metadata": {},
   "outputs": [],
   "source": []
  },
  {
   "cell_type": "code",
   "execution_count": null,
   "metadata": {},
   "outputs": [],
   "source": []
  },
  {
   "cell_type": "code",
   "execution_count": null,
   "metadata": {},
   "outputs": [],
   "source": []
  },
  {
   "cell_type": "code",
   "execution_count": null,
   "metadata": {},
   "outputs": [],
   "source": []
  },
  {
   "cell_type": "code",
   "execution_count": null,
   "metadata": {},
   "outputs": [],
   "source": []
  },
  {
   "cell_type": "code",
   "execution_count": null,
   "metadata": {},
   "outputs": [],
   "source": []
  },
  {
   "cell_type": "code",
   "execution_count": null,
   "metadata": {},
   "outputs": [],
   "source": []
  },
  {
   "cell_type": "code",
   "execution_count": null,
   "metadata": {},
   "outputs": [],
   "source": []
  },
  {
   "cell_type": "code",
   "execution_count": null,
   "metadata": {},
   "outputs": [],
   "source": []
  },
  {
   "cell_type": "code",
   "execution_count": null,
   "metadata": {},
   "outputs": [],
   "source": []
  },
  {
   "cell_type": "code",
   "execution_count": null,
   "metadata": {},
   "outputs": [],
   "source": []
  },
  {
   "cell_type": "code",
   "execution_count": null,
   "metadata": {},
   "outputs": [],
   "source": []
  },
  {
   "cell_type": "code",
   "execution_count": 49,
   "metadata": {},
   "outputs": [
    {
     "name": "stdout",
     "output_type": "stream",
     "text": [
      "['cbsa']\n",
      "\n",
      "Testing\n",
      "0.11289037747517315\n",
      "0.11482542789285947\n",
      "\n",
      "Training\n",
      "0.11141823689780816\n",
      "0.11497275549046698\n",
      "['Transdate']\n",
      "\n",
      "Testing\n",
      "0.11389434245623421\n",
      "0.11482542789285947\n",
      "\n",
      "Training\n",
      "0.11044661799712448\n",
      "0.11497275549046698\n",
      "['cj_living_area']\n",
      "\n",
      "Testing\n",
      "0.11000501613922321\n",
      "0.11482542789285947\n",
      "\n",
      "Training\n",
      "0.10702739967923904\n",
      "0.11497275549046698\n",
      "['census_tract']\n",
      "\n",
      "Testing\n",
      "0.11203212044844542\n",
      "0.11482542789285947\n",
      "\n",
      "Training\n",
      "0.10853065124657087\n",
      "0.11497275549046698\n",
      "['zip']\n",
      "\n",
      "Testing\n",
      "0.11216351597169158\n",
      "0.11482542789285947\n",
      "\n",
      "Training\n",
      "0.10886323229270017\n",
      "0.11497275549046698\n",
      "['avmValue']\n",
      "\n",
      "Testing\n",
      "0.048680895592224514\n",
      "0.11482542789285947\n",
      "\n",
      "Training\n",
      "0.047111193832070554\n",
      "0.11497275549046698\n",
      "['cbsa', 'Transdate']\n",
      "\n",
      "Testing\n",
      "0.11173311389220957\n",
      "0.11482542789285947\n",
      "\n",
      "Training\n",
      "0.10785520175647466\n",
      "0.11497275549046698\n",
      "['cbsa', 'cj_living_area']\n",
      "\n",
      "Testing\n",
      "0.10672269113592683\n",
      "0.11482542789285947\n",
      "\n",
      "Training\n",
      "0.1017165488849212\n",
      "0.11497275549046698\n",
      "['cbsa', 'census_tract']\n",
      "\n",
      "Testing\n",
      "0.11168845280467726\n",
      "0.11482542789285947\n",
      "\n",
      "Training\n",
      "0.10865172602511858\n",
      "0.11497275549046698\n",
      "['cbsa', 'zip']\n",
      "\n",
      "Testing\n",
      "0.1117380176650563\n",
      "0.11482542789285947\n",
      "\n",
      "Training\n",
      "0.10882314080022706\n",
      "0.11497275549046698\n",
      "['cbsa', 'avmValue']\n",
      "\n",
      "Testing\n",
      "0.04892832724071429\n",
      "0.11482542789285947\n",
      "\n",
      "Training\n",
      "0.04658313490028713\n",
      "0.11497275549046698\n",
      "['Transdate', 'cj_living_area']\n",
      "\n",
      "Testing\n",
      "0.10987906241056826\n",
      "0.11482542789285947\n",
      "\n",
      "Training\n",
      "0.10392711799495481\n",
      "0.11497275549046698\n",
      "['Transdate', 'census_tract']\n",
      "\n",
      "Testing\n",
      "0.11070862820106284\n",
      "0.11482542789285947\n",
      "\n",
      "Training\n",
      "0.10460022567201369\n",
      "0.11497275549046698\n",
      "['Transdate', 'zip']\n",
      "\n",
      "Testing\n",
      "0.11100090204326087\n",
      "0.11482542789285947\n",
      "\n",
      "Training\n",
      "0.10509680505085674\n",
      "0.11497275549046698\n",
      "['Transdate', 'avmValue']\n",
      "\n",
      "Testing\n",
      "0.04850288609230676\n",
      "0.11482542789285947\n",
      "\n",
      "Training\n",
      "0.044825934528507846\n",
      "0.11497275549046698\n",
      "['cj_living_area', 'census_tract']\n",
      "\n",
      "Testing\n",
      "0.10447835924949382\n",
      "0.11482542789285947\n",
      "\n",
      "Training\n",
      "0.09702015210517403\n",
      "0.11497275549046698\n",
      "['cj_living_area', 'zip']\n",
      "\n",
      "Testing\n",
      "0.10445117741509072\n",
      "0.11482542789285947\n",
      "\n",
      "Training\n",
      "0.09736981525975584\n",
      "0.11497275549046698\n",
      "['cj_living_area', 'avmValue']\n",
      "\n",
      "Testing\n",
      "0.04974436775430681\n",
      "0.11482542789285947\n",
      "\n",
      "Training\n",
      "0.046343456267188284\n",
      "0.11497275549046698\n",
      "['census_tract', 'zip']\n",
      "\n",
      "Testing\n",
      "0.11137635208488368\n",
      "0.11482542789285947\n",
      "\n",
      "Training\n",
      "0.10738986603467815\n",
      "0.11497275549046698\n",
      "['census_tract', 'avmValue']\n",
      "\n",
      "Testing\n",
      "0.049214140718583134\n",
      "0.11482542789285947\n",
      "\n",
      "Training\n",
      "0.045923637680267505\n",
      "0.11497275549046698\n",
      "['zip', 'avmValue']\n",
      "\n",
      "Testing\n",
      "0.04915134703599356\n",
      "0.11482542789285947\n",
      "\n",
      "Training\n",
      "0.04599516748428208\n",
      "0.11497275549046698\n",
      "['cbsa', 'Transdate', 'cj_living_area']\n",
      "\n",
      "Testing\n",
      "0.10683927795450139\n",
      "0.11482542789285947\n",
      "\n",
      "Training\n",
      "0.10210704720499263\n",
      "0.11497275549046698\n",
      "['cbsa', 'Transdate', 'census_tract']\n",
      "\n",
      "Testing\n",
      "0.1110217415144035\n",
      "0.11482542789285947\n",
      "\n",
      "Training\n",
      "0.10681910572775281\n",
      "0.11497275549046698\n",
      "['cbsa', 'Transdate', 'zip']\n",
      "\n",
      "Testing\n",
      "0.11107279361462576\n",
      "0.11482542789285947\n",
      "\n",
      "Training\n",
      "0.10707436287439545\n",
      "0.11497275549046698\n",
      "['cbsa', 'Transdate', 'avmValue']\n",
      "\n",
      "Testing\n",
      "0.0468116891820767\n",
      "0.11482542789285947\n",
      "\n",
      "Training\n",
      "0.044651752345474034\n",
      "0.11497275549046698\n",
      "['cbsa', 'cj_living_area', 'census_tract']\n",
      "\n",
      "Testing\n",
      "0.10550549011731956\n",
      "0.11482542789285947\n",
      "\n",
      "Training\n",
      "0.10007238881909085\n",
      "0.11497275549046698\n",
      "['cbsa', 'cj_living_area', 'zip']\n",
      "\n",
      "Testing\n",
      "0.10555409778721703\n",
      "0.11482542789285947\n",
      "\n",
      "Training\n",
      "0.10058590571806084\n",
      "0.11497275549046698\n",
      "['cbsa', 'cj_living_area', 'avmValue']\n",
      "\n",
      "Testing\n",
      "0.04828901089039615\n",
      "0.11482542789285947\n",
      "\n",
      "Training\n",
      "0.04625753805939191\n",
      "0.11497275549046698\n",
      "['cbsa', 'census_tract', 'zip']\n",
      "\n",
      "Testing\n",
      "0.11142497515045957\n",
      "0.11482542789285947\n",
      "\n",
      "Training\n",
      "0.1088621905245867\n",
      "0.11497275549046698\n",
      "['cbsa', 'census_tract', 'avmValue']\n",
      "\n",
      "Testing\n",
      "0.0479510965499802\n",
      "0.11482542789285947\n",
      "\n",
      "Training\n",
      "0.046388970975037844\n",
      "0.11497275549046698\n",
      "['cbsa', 'zip', 'avmValue']\n",
      "\n",
      "Testing\n",
      "0.047993734263635644\n",
      "0.11482542789285947\n",
      "\n",
      "Training\n",
      "0.04648157756156941\n",
      "0.11497275549046698\n",
      "['Transdate', 'cj_living_area', 'census_tract']\n",
      "\n",
      "Testing\n",
      "0.10665374685911115\n",
      "0.11482542789285947\n",
      "\n",
      "Training\n",
      "0.09888963283366738\n",
      "0.11497275549046698\n",
      "['Transdate', 'cj_living_area', 'zip']\n",
      "\n",
      "Testing\n",
      "0.10664723413149238\n",
      "0.11482542789285947\n",
      "\n",
      "Training\n",
      "0.09914995431333129\n",
      "0.11497275549046698\n",
      "['Transdate', 'cj_living_area', 'avmValue']\n",
      "\n",
      "Testing\n",
      "0.04818693371084193\n",
      "0.11482542789285947\n",
      "\n",
      "Training\n",
      "0.04500443232033839\n",
      "0.11497275549046698\n",
      "['Transdate', 'census_tract', 'zip']\n",
      "\n",
      "Testing\n",
      "0.11078843855396477\n",
      "0.11482542789285947\n",
      "\n",
      "Training\n",
      "0.10529151292116043\n",
      "0.11497275549046698\n",
      "['Transdate', 'census_tract', 'avmValue']\n",
      "\n",
      "Testing\n",
      "0.047109643888762605\n",
      "0.11482542789285947\n",
      "\n",
      "Training\n",
      "0.043875291287115196\n",
      "0.11497275549046698\n",
      "['Transdate', 'zip', 'avmValue']\n",
      "\n",
      "Testing\n",
      "0.04706179518443316\n",
      "0.11482542789285947\n",
      "\n",
      "Training\n",
      "0.04389557093062809\n",
      "0.11497275549046698\n",
      "['cj_living_area', 'census_tract', 'zip']\n",
      "\n",
      "Testing\n",
      "0.10579161212411296\n",
      "0.11482542789285947\n",
      "\n",
      "Training\n",
      "0.09876233580801241\n",
      "0.11497275549046698\n",
      "['cj_living_area', 'census_tract', 'avmValue']\n",
      "\n",
      "Testing\n",
      "0.04871673937269756\n",
      "0.11482542789285947\n",
      "\n",
      "Training\n",
      "0.04578770491803361\n",
      "0.11497275549046698\n",
      "['cj_living_area', 'zip', 'avmValue']\n",
      "\n",
      "Testing\n",
      "0.048612495803199755\n",
      "0.11482542789285947\n",
      "\n",
      "Training\n",
      "0.045679543018734316\n",
      "0.11497275549046698\n",
      "['census_tract', 'zip', 'avmValue']\n",
      "\n",
      "Testing\n",
      "0.04814857004899957\n",
      "0.11482542789285947\n",
      "\n",
      "Training\n",
      "0.04646475395745746\n",
      "0.11497275549046698\n",
      "['cbsa', 'Transdate', 'cj_living_area', 'census_tract']\n",
      "\n",
      "Testing\n",
      "0.10343881151714637\n",
      "0.11482542789285947\n",
      "\n",
      "Training\n",
      "0.09511135496388502\n",
      "0.11497275549046698\n",
      "['cbsa', 'Transdate', 'cj_living_area', 'zip']\n",
      "\n",
      "Testing\n",
      "0.10342347755274765\n",
      "0.11482542789285947\n",
      "\n",
      "Training\n",
      "0.09542949528317714\n",
      "0.11497275549046698\n",
      "['cbsa', 'Transdate', 'cj_living_area', 'avmValue']\n",
      "\n",
      "Testing\n",
      "0.06289832951864234\n",
      "0.11482542789285947\n",
      "\n",
      "Training\n",
      "0.056707507624447304\n",
      "0.11497275549046698\n",
      "['cbsa', 'Transdate', 'census_tract', 'zip']\n",
      "\n",
      "Testing\n",
      "0.10981988864067761\n",
      "0.11482542789285947\n",
      "\n",
      "Training\n",
      "0.10437629558879398\n",
      "0.11497275549046698\n",
      "['cbsa', 'Transdate', 'census_tract', 'avmValue']\n",
      "\n",
      "Testing\n",
      "0.06452862749736887\n",
      "0.11482542789285947\n",
      "\n",
      "Training\n",
      "0.05881086172743513\n",
      "0.11497275549046698\n",
      "['cbsa', 'Transdate', 'zip', 'avmValue']\n",
      "\n",
      "Testing\n",
      "0.06415222827749155\n",
      "0.11482542789285947\n",
      "\n",
      "Training\n",
      "0.058580252861769024\n",
      "0.11497275549046698\n",
      "['cbsa', 'cj_living_area', 'census_tract', 'zip']\n",
      "\n",
      "Testing\n",
      "0.10311350423500086\n",
      "0.11482542789285947\n",
      "\n",
      "Training\n",
      "0.0969799971871278\n",
      "0.11497275549046698\n",
      "['cbsa', 'cj_living_area', 'census_tract', 'avmValue']\n",
      "\n",
      "Testing\n",
      "0.06409090890266646\n",
      "0.11482542789285947\n",
      "\n",
      "Training\n",
      "0.05866120540555405\n",
      "0.11497275549046698\n",
      "['cbsa', 'cj_living_area', 'zip', 'avmValue']\n",
      "\n",
      "Testing\n",
      "0.06390459851311861\n",
      "0.11482542789285947\n",
      "\n",
      "Training\n",
      "0.058640930025521606\n",
      "0.11497275549046698\n",
      "['cbsa', 'census_tract', 'zip', 'avmValue']\n",
      "\n",
      "Testing\n",
      "0.06575411959561128\n",
      "0.11482542789285947\n",
      "\n",
      "Training\n",
      "0.0614634707692022\n",
      "0.11497275549046698\n",
      "['Transdate', 'cj_living_area', 'census_tract', 'zip']\n",
      "\n",
      "Testing\n",
      "0.10248148298749143\n",
      "0.11482542789285947\n",
      "\n",
      "Training\n",
      "0.093664387592723\n",
      "0.11497275549046698\n",
      "['Transdate', 'cj_living_area', 'census_tract', 'avmValue']\n",
      "\n",
      "Testing\n",
      "0.06355976397072131\n",
      "0.11482542789285947\n",
      "\n",
      "Training\n",
      "0.05620958179205927\n",
      "0.11497275549046698\n",
      "['Transdate', 'cj_living_area', 'zip', 'avmValue']\n",
      "\n",
      "Testing\n",
      "0.0632830612006211\n",
      "0.11482542789285947\n",
      "\n",
      "Training\n",
      "0.05604626753934943\n",
      "0.11497275549046698\n",
      "['Transdate', 'census_tract', 'zip', 'avmValue']\n",
      "\n",
      "Testing\n",
      "0.06442884396912574\n",
      "0.11482542789285947\n",
      "\n",
      "Training\n",
      "0.05775815152313633\n",
      "0.11497275549046698\n",
      "['cj_living_area', 'census_tract', 'zip', 'avmValue']\n",
      "\n",
      "Testing\n",
      "0.06332417972563868\n",
      "0.11482542789285947\n",
      "\n",
      "Training\n",
      "0.05720936770401831\n",
      "0.11497275549046698\n",
      "['cbsa', 'Transdate', 'cj_living_area', 'census_tract', 'zip']\n",
      "\n",
      "Testing\n",
      "0.10305129547149113\n",
      "0.11482542789285947\n",
      "\n",
      "Training\n",
      "0.09550133795848227\n",
      "0.11497275549046698\n",
      "['cbsa', 'Transdate', 'cj_living_area', 'census_tract', 'avmValue']\n",
      "\n",
      "Testing\n",
      "0.06804417197758492\n",
      "0.11482542789285947\n",
      "\n",
      "Training\n",
      "0.061745987396789416\n",
      "0.11497275549046698\n",
      "['cbsa', 'Transdate', 'cj_living_area', 'zip', 'avmValue']\n",
      "\n",
      "Testing\n",
      "0.06794943558327372\n",
      "0.11482542789285947\n",
      "\n",
      "Training\n",
      "0.06155795327478892\n",
      "0.11497275549046698\n",
      "['cbsa', 'Transdate', 'census_tract', 'zip', 'avmValue']\n",
      "\n",
      "Testing\n",
      "0.06815014723933721\n",
      "0.11482542789285947\n",
      "\n",
      "Training\n",
      "0.0625974389218292\n",
      "0.11497275549046698\n",
      "['cbsa', 'cj_living_area', 'census_tract', 'zip', 'avmValue']\n"
     ]
    },
    {
     "name": "stdout",
     "output_type": "stream",
     "text": [
      "\n",
      "Testing\n",
      "0.06691933422195348\n",
      "0.11482542789285947\n",
      "\n",
      "Training\n",
      "0.061825564949516645\n",
      "0.11497275549046698\n",
      "['Transdate', 'cj_living_area', 'census_tract', 'zip', 'avmValue']\n",
      "\n",
      "Testing\n",
      "0.06630110014708405\n",
      "0.11482542789285947\n",
      "\n",
      "Training\n",
      "0.05965917670586652\n",
      "0.11497275549046698\n",
      "['cbsa', 'Transdate', 'cj_living_area', 'census_tract', 'zip', 'avmValue']\n",
      "\n",
      "Testing\n",
      "0.05789372519174789\n",
      "0.11482542789285947\n",
      "\n",
      "Training\n",
      "0.049186858130227246\n",
      "0.11497275549046698\n"
     ]
    }
   ],
   "source": [
    "for idd,list_preds in enumerate(all_combinations):\n",
    "    print(list(list_preds))\n",
    "\n",
    "    selcted_columns = list(list_preds) + ['ListingPrice'] \n",
    "    symptoms_df = noun_sentence_state_train.loc[:,selcted_columns]\n",
    "    symptoms_df_test = noun_sentence_state_test.loc[:,selcted_columns]\n",
    "    \n",
    "    Predictors = symptoms_df.to_numpy()\n",
    "    X_test = symptoms_df_test.to_numpy()\n",
    "    X_train = Predictors\n",
    "    predictand = noun_sentence_state_train.category_predictand.values\n",
    "    y_train = predictand\n",
    "    y_test = noun_sentence_state_test.category_predictand.values\n",
    "    \n",
    "    y_train_regressor = noun_sentence_state_train.avmerror.values\n",
    "    \n",
    "    model_regressor = LGBMRegressor(max_depth = 10, n_estimators = 150, num_leaves = 700, colsample_bytree=0.4) \n",
    "\n",
    "    model_regressor.fit(X_train, y_train_regressor)\n",
    "    \n",
    "    predictions_train_Regressor = model_regressor.predict(X_train)\n",
    "    predictions_test_Regressor = model_regressor.predict(X_test)\n",
    "    \n",
    "    y_test_regressor = noun_sentence_state_test.avmerror.values\n",
    "    \n",
    "    avmValue_test = noun_sentence_state_test['avmValue']\n",
    "    avmValue_train = noun_sentence_state_train['avmValue']\n",
    "\n",
    "    transprice_test = noun_sentence_state_test['Transprice']\n",
    "    transprice_train = noun_sentence_state_train['Transprice']\n",
    "\n",
    "    predictions_test_valueR = avmValue_test/(1-predictions_test_Regressor)\n",
    "    predictions_train_valueR = avmValue_train/(1-predictions_train_Regressor)\n",
    "    \n",
    "    \n",
    "    print('') \n",
    "    print('Testing')\n",
    "    print(np.mean(np.abs(transprice_test-predictions_test_valueR)/\\\n",
    "              (transprice_test)))\n",
    "    print(np.mean(np.abs(transprice_test - avmValue_test)/\\\n",
    "                  (transprice_test)))\n",
    "\n",
    "    print('') \n",
    "    print('Training') \n",
    "    print(np.mean(np.abs(transprice_train-predictions_train_valueR)/\\\n",
    "              (transprice_train)))\n",
    "    print(np.mean(np.abs(transprice_train - avmValue_train)/\\\n",
    "                  (transprice_train)))   \n",
    "    \n",
    "    import joblib\n",
    "    filename = 'LGBM_regressor_NOCOMMENTS_with_listing'+state+'_'+str(idd)+'.sav'\n",
    "    joblib.dump(model_regressor,filename)\n",
    "    \n",
    "    "
   ]
  },
  {
   "cell_type": "code",
   "execution_count": null,
   "metadata": {},
   "outputs": [],
   "source": []
  },
  {
   "cell_type": "code",
   "execution_count": null,
   "metadata": {},
   "outputs": [
    {
     "name": "stdout",
     "output_type": "stream",
     "text": [
      "['cbsa']\n",
      "\n",
      "Testing\n",
      "0.11471604317306178\n",
      "0.11482542789285947\n",
      "\n",
      "Training\n",
      "0.11234328107722216\n",
      "0.11497275549046698\n",
      "['Transdate']\n",
      "\n",
      "Testing\n",
      "0.11471267222324295\n",
      "0.11482542789285947\n",
      "\n",
      "Training\n",
      "0.11465380127905823\n",
      "0.11497275549046698\n",
      "['cj_living_area']\n",
      "\n",
      "Testing\n",
      "0.11490569705806422\n",
      "0.11482542789285947\n",
      "\n",
      "Training\n",
      "0.11039878740810813\n",
      "0.11497275549046698\n",
      "['census_tract']\n",
      "\n",
      "Testing\n",
      "0.11466148097756391\n",
      "0.11482542789285947\n",
      "\n",
      "Training\n",
      "0.11005289369430107\n",
      "0.11497275549046698\n",
      "['zip']\n",
      "\n",
      "Testing\n",
      "0.11487074218353019\n",
      "0.11482542789285947\n",
      "\n",
      "Training\n",
      "0.1102460385871795\n",
      "0.11497275549046698\n",
      "['avmValue']\n",
      "\n",
      "Testing\n",
      "0.11333119095069812\n",
      "0.11482542789285947\n",
      "\n",
      "Training\n",
      "0.1086149311280379\n",
      "0.11497275549046698\n",
      "['cbsa', 'Transdate']\n",
      "\n",
      "Testing\n",
      "0.1138623036852275\n",
      "0.11482542789285947\n",
      "\n",
      "Training\n",
      "0.11170347847428592\n",
      "0.11497275549046698\n",
      "['cbsa', 'cj_living_area']\n",
      "\n",
      "Testing\n",
      "0.11380460480478415\n",
      "0.11482542789285947\n",
      "\n",
      "Training\n",
      "0.10889248783120094\n",
      "0.11497275549046698\n",
      "['cbsa', 'census_tract']\n",
      "\n",
      "Testing\n",
      "0.11405994082920042\n",
      "0.11482542789285947\n",
      "\n",
      "Training\n",
      "0.11036031678028395\n",
      "0.11497275549046698\n",
      "['cbsa', 'zip']\n",
      "\n",
      "Testing\n",
      "0.11423551398063941\n",
      "0.11482542789285947\n",
      "\n",
      "Training\n",
      "0.11041291876371326\n",
      "0.11497275549046698\n",
      "['cbsa', 'avmValue']\n",
      "\n",
      "Testing\n",
      "0.1125819341950617\n",
      "0.11482542789285947\n",
      "\n",
      "Training\n",
      "0.10726440698359525\n",
      "0.11497275549046698\n",
      "['Transdate', 'cj_living_area']\n",
      "\n",
      "Testing\n",
      "0.11448382404805463\n",
      "0.11482542789285947\n",
      "\n",
      "Training\n",
      "0.10999551643279419\n",
      "0.11497275549046698\n",
      "['Transdate', 'census_tract']\n",
      "\n",
      "Testing\n",
      "0.11338082140878032\n",
      "0.11482542789285947\n",
      "\n",
      "Training\n",
      "0.10918647940391894\n",
      "0.11497275549046698\n",
      "['Transdate', 'zip']\n",
      "\n",
      "Testing\n",
      "0.11353622274367921\n",
      "0.11482542789285947\n",
      "\n",
      "Training\n",
      "0.10936184614458347\n",
      "0.11497275549046698\n",
      "['Transdate', 'avmValue']\n",
      "\n",
      "Testing\n",
      "0.11252860402313551\n",
      "0.11482542789285947\n",
      "\n",
      "Training\n",
      "0.10809502740494778\n",
      "0.11497275549046698\n",
      "['cj_living_area', 'census_tract']\n",
      "\n",
      "Testing\n",
      "0.1137071695459571\n",
      "0.11482542789285947\n",
      "\n",
      "Training\n",
      "0.10707134068021495\n",
      "0.11497275549046698\n",
      "['cj_living_area', 'zip']\n",
      "\n",
      "Testing\n",
      "0.1137151636264753\n",
      "0.11482542789285947\n",
      "\n",
      "Training\n",
      "0.10712692757109939\n",
      "0.11497275549046698\n",
      "['cj_living_area', 'avmValue']\n",
      "\n",
      "Testing\n",
      "0.11349641699525552\n",
      "0.11482542789285947\n",
      "\n",
      "Training\n",
      "0.10674428844561759\n",
      "0.11497275549046698\n",
      "['census_tract', 'zip']\n",
      "\n",
      "Testing\n",
      "0.11411638738660194\n",
      "0.11482542789285947\n",
      "\n",
      "Training\n",
      "0.10926904726303358\n",
      "0.11497275549046698\n",
      "['census_tract', 'avmValue']\n",
      "\n",
      "Testing\n",
      "0.1120827862465305\n",
      "0.11482542789285947\n",
      "\n",
      "Training\n",
      "0.10472941860047766\n",
      "0.11497275549046698\n",
      "['zip', 'avmValue']\n"
     ]
    }
   ],
   "source": [
    "for idd,list_preds in enumerate(all_combinations):\n",
    "    print(list(list_preds))\n",
    "\n",
    "    selcted_columns = list(list_preds) + ['avmerror_mean'] \n",
    "    symptoms_df = noun_sentence_state_train.loc[:,selcted_columns]\n",
    "    symptoms_df_test = noun_sentence_state_test.loc[:,selcted_columns]\n",
    "    \n",
    "    Predictors = symptoms_df.to_numpy()\n",
    "    X_test = symptoms_df_test.to_numpy()\n",
    "    X_train = Predictors\n",
    "    predictand = noun_sentence_state_train.category_predictand.values\n",
    "    y_train = predictand\n",
    "    y_test = noun_sentence_state_test.category_predictand.values\n",
    "    \n",
    "    y_train_regressor = noun_sentence_state_train.avmerror.values\n",
    "    \n",
    "    model_regressor = LGBMRegressor(max_depth = 10, n_estimators = 150, num_leaves = 700, colsample_bytree=0.4) \n",
    "\n",
    "    model_regressor.fit(X_train, y_train_regressor)\n",
    "    \n",
    "    predictions_train_Regressor = model_regressor.predict(X_train)\n",
    "    predictions_test_Regressor = model_regressor.predict(X_test)\n",
    "    \n",
    "    y_test_regressor = noun_sentence_state_test.avmerror.values\n",
    "    \n",
    "    avmValue_test = noun_sentence_state_test['avmValue']\n",
    "    avmValue_train = noun_sentence_state_train['avmValue']\n",
    "\n",
    "    transprice_test = noun_sentence_state_test['Transprice']\n",
    "    transprice_train = noun_sentence_state_train['Transprice']\n",
    "\n",
    "    predictions_test_valueR = avmValue_test/(1-predictions_test_Regressor)\n",
    "    predictions_train_valueR = avmValue_train/(1-predictions_train_Regressor)\n",
    "    \n",
    "    \n",
    "    print('') \n",
    "    print('Testing')\n",
    "    print(np.mean(np.abs(transprice_test-predictions_test_valueR)/\\\n",
    "              (transprice_test)))\n",
    "    print(np.mean(np.abs(transprice_test - avmValue_test)/\\\n",
    "                  (transprice_test)))\n",
    "\n",
    "    print('') \n",
    "    print('Training') \n",
    "    print(np.mean(np.abs(transprice_train-predictions_train_valueR)/\\\n",
    "              (transprice_train)))\n",
    "    print(np.mean(np.abs(transprice_train - avmValue_train)/\\\n",
    "                  (transprice_train)))   \n",
    "    \n",
    "    import joblib\n",
    "    filename = 'LGBM_regressor_NOCOMMENTS_with_avmerror_mean'+state+'_'+str(idd)+'.sav'\n",
    "    joblib.dump(model_regressor,filename)"
   ]
  },
  {
   "cell_type": "code",
   "execution_count": null,
   "metadata": {},
   "outputs": [],
   "source": []
  },
  {
   "cell_type": "code",
   "execution_count": null,
   "metadata": {},
   "outputs": [],
   "source": []
  },
  {
   "cell_type": "code",
   "execution_count": null,
   "metadata": {},
   "outputs": [],
   "source": []
  },
  {
   "cell_type": "code",
   "execution_count": null,
   "metadata": {},
   "outputs": [],
   "source": []
  },
  {
   "cell_type": "code",
   "execution_count": 27,
   "metadata": {},
   "outputs": [
    {
     "data": {
      "text/plain": [
       "[<matplotlib.lines.Line2D at 0x7f4fdc560438>]"
      ]
     },
     "execution_count": 27,
     "metadata": {},
     "output_type": "execute_result"
    },
    {
     "data": {
      "image/png": "[encoded data removed]",
      "text/plain": [
       "<Figure size 432x288 with 1 Axes>"
      ]
     },
     "metadata": {},
     "output_type": "display_data"
    }
   ],
   "source": [
    "from matplotlib import colors\n",
    "plt.hist2d(predictions_train_Regressor, y_train_regressor, bins=10, cmap = \"RdYlGn_r\",\n",
    "           norm = colors.LogNorm())\n",
    "plt.plot(y_train_regressor,y_train_regressor)"
   ]
  },
  {
   "cell_type": "code",
   "execution_count": 30,
   "metadata": {},
   "outputs": [
    {
     "data": {
      "text/plain": [
       "[<matplotlib.lines.Line2D at 0x7f4fdc51b908>]"
      ]
     },
     "execution_count": 30,
     "metadata": {},
     "output_type": "execute_result"
    },
    {
     "data": {
      "image/png": "[encoded data removed]",
      "text/plain": [
       "<Figure size 432x288 with 1 Axes>"
      ]
     },
     "metadata": {},
     "output_type": "display_data"
    }
   ],
   "source": [
    "plt.hist2d(predictions_test_Regressor, y_test_regressor, bins=10, cmap = \"RdYlGn_r\",\n",
    "           norm = colors.LogNorm())\n",
    "plt.plot(y_test_regressor,y_test_regressor)"
   ]
  },
  {
   "cell_type": "code",
   "execution_count": 31,
   "metadata": {},
   "outputs": [],
   "source": []
  },
  {
   "cell_type": "code",
   "execution_count": 32,
   "metadata": {},
   "outputs": [
    {
     "name": "stdout",
     "output_type": "stream",
     "text": [
      "\n"
     ]
    },
    {
     "data": {
      "text/plain": [
       "[<matplotlib.lines.Line2D at 0x7f4fde6de240>]"
      ]
     },
     "execution_count": 32,
     "metadata": {},
     "output_type": "execute_result"
    },
    {
     "data": {
      "image/png": "[encoded data removed]",
      "text/plain": [
       "<Figure size 432x288 with 1 Axes>"
      ]
     },
     "metadata": {},
     "output_type": "display_data"
    }
   ],
   "source": [
    "\n",
    "\n",
    "print('') \n",
    "fig = plt.figure()\n",
    "plt.plot(predictions_test_valueR, \n",
    "     transprice_test,'o')\n",
    "plt.plot(predictions_test_valueR,predictions_test_valueR)\n"
   ]
  },
  {
   "cell_type": "code",
   "execution_count": 33,
   "metadata": {},
   "outputs": [
    {
     "name": "stdout",
     "output_type": "stream",
     "text": [
      "\n",
      "Testing\n",
      "0.10060815707066105\n",
      "0.11482542789285947\n",
      "\n",
      "Training\n",
      "0.08765564973659257\n",
      "0.11497275549046698\n"
     ]
    }
   ],
   "source": [
    " "
   ]
  },
  {
   "cell_type": "code",
   "execution_count": null,
   "metadata": {},
   "outputs": [],
   "source": []
  },
  {
   "cell_type": "code",
   "execution_count": null,
   "metadata": {},
   "outputs": [],
   "source": []
  },
  {
   "cell_type": "code",
   "execution_count": null,
   "metadata": {},
   "outputs": [],
   "source": []
  },
  {
   "cell_type": "code",
   "execution_count": null,
   "metadata": {},
   "outputs": [],
   "source": []
  },
  {
   "cell_type": "code",
   "execution_count": 57,
   "metadata": {},
   "outputs": [
    {
     "data": {
      "text/plain": [
       "193294"
      ]
     },
     "execution_count": 57,
     "metadata": {},
     "output_type": "execute_result"
    }
   ],
   "source": [
    "len(noun_sentence_state_train)"
   ]
  },
  {
   "cell_type": "code",
   "execution_count": 58,
   "metadata": {},
   "outputs": [
    {
     "data": {
      "text/plain": [
       "193294"
      ]
     },
     "execution_count": 58,
     "metadata": {},
     "output_type": "execute_result"
    }
   ],
   "source": [
    "len(symptoms_df)"
   ]
  },
  {
   "cell_type": "code",
   "execution_count": 93,
   "metadata": {},
   "outputs": [],
   "source": [
    "symptoms_df['ListingPrice'] = noun_sentence_state_train['ListingPrice']\n",
    "symptoms_df_test['ListingPrice'] = noun_sentence_state_test['ListingPrice']\n"
   ]
  },
  {
   "cell_type": "code",
   "execution_count": 94,
   "metadata": {},
   "outputs": [],
   "source": [
    "symptoms_df['AVM-LISTING'] = symptoms_df['avmValue']-symptoms_df['ListingPrice']\n",
    "symptoms_df_test['AVM-LISTING'] = symptoms_df_test['avmValue']-symptoms_df_test['ListingPrice']"
   ]
  },
  {
   "cell_type": "code",
   "execution_count": 95,
   "metadata": {},
   "outputs": [],
   "source": [
    "X_test_trial3 = symptoms_df_test[trial_columns+['ListingPrice','AVM-LISTING']].to_numpy()\n",
    "X_train_trial3 = symptoms_df[trial_columns+['ListingPrice','AVM-LISTING']].to_numpy()\n",
    "y_train_trial3 = noun_sentence_state_train.category_predictand.values\n",
    "y_test_trial3 = noun_sentence_state_test.category_predictand.values\n",
    "y_train_trial_regressor3 = noun_sentence_state_train.avmerror.values\n",
    "y_test_trial_regressor3 = noun_sentence_state_test.avmerror.values"
   ]
  },
  {
   "cell_type": "code",
   "execution_count": 96,
   "metadata": {},
   "outputs": [],
   "source": [
    "model_regressor_trial3 = LGBMRegressor(max_depth = 7, n_estimators = 500, num_leaves = 100, colsample_bytree=0.6) "
   ]
  },
  {
   "cell_type": "code",
   "execution_count": 97,
   "metadata": {},
   "outputs": [
    {
     "data": {
      "text/plain": [
       "LGBMRegressor(colsample_bytree=0.6, max_depth=7, n_estimators=500,\n",
       "              num_leaves=100)"
      ]
     },
     "execution_count": 97,
     "metadata": {},
     "output_type": "execute_result"
    }
   ],
   "source": [
    "model_regressor_trial3.fit(X_train_trial3, y_train_trial_regressor3)"
   ]
  },
  {
   "cell_type": "code",
   "execution_count": 98,
   "metadata": {},
   "outputs": [],
   "source": [
    "predictions_train_Regressor_trial3 = model_regressor_trial3.predict(X_train_trial3)"
   ]
  },
  {
   "cell_type": "code",
   "execution_count": 99,
   "metadata": {},
   "outputs": [],
   "source": [
    "predictions_test_Regressor_trial3 = model_regressor_trial3.predict(X_test_trial3)"
   ]
  },
  {
   "cell_type": "code",
   "execution_count": 100,
   "metadata": {},
   "outputs": [],
   "source": [
    "predictions_test_valueR_trail3 = avmValue_test/(1-predictions_test_Regressor_trial3)\n",
    "predictions_train_valueR_trail3 = avmValue_train/(1-predictions_train_Regressor_trial3)"
   ]
  },
  {
   "cell_type": "code",
   "execution_count": 101,
   "metadata": {},
   "outputs": [],
   "source": [
    "\n",
    "listingprice_test = noun_sentence_state_test['ListingPrice']\n",
    "listingprice_train = noun_sentence_state_train['ListingPrice']"
   ]
  },
  {
   "cell_type": "code",
   "execution_count": 102,
   "metadata": {},
   "outputs": [
    {
     "name": "stdout",
     "output_type": "stream",
     "text": [
      "\n",
      "Testing\n",
      "0.04450811882858361\n",
      "0.11482542789285947\n",
      "0.04972884906677244\n",
      "\n",
      "Training\n",
      "0.03838529210288449\n",
      "0.11497275549046698\n",
      "0.050066197122687645\n"
     ]
    }
   ],
   "source": [
    "print('') \n",
    "print('Testing')\n",
    "print(np.mean(np.abs(transprice_test-predictions_test_valueR_trail3)/\\\n",
    "          (transprice_test)))\n",
    "print(np.mean(np.abs(transprice_test - avmValue_test)/\\\n",
    "              (transprice_test)))\n",
    "print(np.mean(np.abs(transprice_test - listingprice_test)/\\\n",
    "              (transprice_test)))\n",
    "\n",
    "print('') \n",
    "print('Training') \n",
    "print(np.mean(np.abs(transprice_train-predictions_train_valueR_trail3)/\\\n",
    "          (transprice_train)))\n",
    "print(np.mean(np.abs(transprice_train - avmValue_train)/\\\n",
    "              (transprice_train)))  \n",
    "print(np.mean(np.abs(transprice_train - listingprice_train)/\\\n",
    "              (transprice_train)))  "
   ]
  },
  {
   "cell_type": "code",
   "execution_count": null,
   "metadata": {},
   "outputs": [],
   "source": []
  },
  {
   "cell_type": "code",
   "execution_count": null,
   "metadata": {},
   "outputs": [],
   "source": []
  },
  {
   "cell_type": "code",
   "execution_count": null,
   "metadata": {},
   "outputs": [],
   "source": []
  },
  {
   "cell_type": "markdown",
   "metadata": {},
   "source": [
    "## DATA FOR THU"
   ]
  },
  {
   "cell_type": "code",
   "execution_count": null,
   "metadata": {},
   "outputs": [],
   "source": []
  },
  {
   "cell_type": "code",
   "execution_count": 104,
   "metadata": {},
   "outputs": [],
   "source": [
    "noun_sentence_state_test['Train/Test'] = 'Test'\n",
    "noun_sentence_state_train['Train/Test'] = 'Train'"
   ]
  },
  {
   "cell_type": "code",
   "execution_count": 105,
   "metadata": {},
   "outputs": [
    {
     "data": {
      "text/plain": [
       "0        229290.909427\n",
       "1        265593.814990\n",
       "2        252725.111850\n",
       "3        286902.325985\n",
       "4        206903.654098\n",
       "             ...      \n",
       "82836    435686.997993\n",
       "82837    375507.744491\n",
       "82838    212073.633156\n",
       "82839    299961.640663\n",
       "82840    231031.362195\n",
       "Name: avmValue, Length: 82841, dtype: float64"
      ]
     },
     "execution_count": 105,
     "metadata": {},
     "output_type": "execute_result"
    }
   ],
   "source": [
    "predictions_test_valueR"
   ]
  },
  {
   "cell_type": "code",
   "execution_count": 106,
   "metadata": {},
   "outputs": [],
   "source": [
    "noun_sentence_state_test['avmvalue_modified02'] = predictions_test_valueR\n",
    "noun_sentence_state_train['avmvalue_modified02'] = predictions_train_valueR"
   ]
  },
  {
   "cell_type": "code",
   "execution_count": 107,
   "metadata": {},
   "outputs": [],
   "source": [
    "noun_sentence_state_test['avmvalue_modified01'] = predictions_test_valueR_trail\n",
    "noun_sentence_state_train['avmvalue_modified01'] = predictions_train_valueR_trail"
   ]
  },
  {
   "cell_type": "code",
   "execution_count": 108,
   "metadata": {},
   "outputs": [],
   "source": [
    "noun_sentence_state_test['avmvalue_withListingPrice'] = predictions_test_valueR_trail3\n",
    "noun_sentence_state_train['avmvalue_withListingPrice'] = predictions_train_valueR_trail3"
   ]
  },
  {
   "cell_type": "code",
   "execution_count": 109,
   "metadata": {},
   "outputs": [],
   "source": [
    "noun_sentence_state_full = noun_sentence_state_train.copy(deep=True)"
   ]
  },
  {
   "cell_type": "code",
   "execution_count": 110,
   "metadata": {},
   "outputs": [],
   "source": [
    "noun_sentence_state_full = noun_sentence_state_full.append(noun_sentence_state_test)"
   ]
  },
  {
   "cell_type": "code",
   "execution_count": 111,
   "metadata": {},
   "outputs": [
    {
     "data": {
      "text/plain": [
       "276135"
      ]
     },
     "execution_count": 111,
     "metadata": {},
     "output_type": "execute_result"
    }
   ],
   "source": [
    "len(noun_sentence_state_full)"
   ]
  },
  {
   "cell_type": "code",
   "execution_count": 112,
   "metadata": {},
   "outputs": [],
   "source": [
    "noun_sentence_state_full = noun_sentence_state_full.sort_values('Transdate')"
   ]
  },
  {
   "cell_type": "code",
   "execution_count": 113,
   "metadata": {},
   "outputs": [
    {
     "data": {
      "text/plain": [
       "Index(['listingid', 'qtr', 'cbsa_div', 'cbsa', 'state', 'Transdate',\n",
       "       'Transprice', 'cj_living_area', 'fips_code', 'census_tract', 'zip',\n",
       "       'ListingPrice', 'avmValue', 'avmerror', 'AVM_Error_List',\n",
       "       'Listing_Error_List', 'AVM_Error_Indicators_0'],\n",
       "      dtype='object')"
      ]
     },
     "execution_count": 113,
     "metadata": {},
     "output_type": "execute_result"
    }
   ],
   "source": [
    "noun_sentence_state_full.columns[:17]"
   ]
  },
  {
   "cell_type": "code",
   "execution_count": 114,
   "metadata": {},
   "outputs": [],
   "source": [
    "df_Thu = noun_sentence_state_full[['listingid', 'qtr', 'cbsa_div', 'cbsa', 'state', 'Transdate',\n",
    "       'Transprice', 'cj_living_area', 'fips_code', 'census_tract', 'zip',\n",
    "       'ListingPrice', 'avmValue', 'avmerror','Train/Test','avmvalue_modified01','avmvalue_modified02',\n",
    "                         'avmvalue_withListingPrice']]"
   ]
  },
  {
   "cell_type": "code",
   "execution_count": 115,
   "metadata": {},
   "outputs": [],
   "source": [
    "file_symptoms = 'comments/raw_comments/agent_comments_'+state+\\\n",
    "                        '_for_Thu_01.fea'\n",
    "df_Thu.reset_index().to_feather(file_symptoms)"
   ]
  },
  {
   "cell_type": "code",
   "execution_count": 116,
   "metadata": {},
   "outputs": [],
   "source": [
    "file_symptoms = 'comments/raw_comments/agent_comments_'+state+\\\n",
    "                        '_for_Thu_01.csv'\n",
    "df_Thu.reset_index().to_csv(file_symptoms)"
   ]
  },
  {
   "cell_type": "code",
   "execution_count": null,
   "metadata": {},
   "outputs": [],
   "source": []
  },
  {
   "cell_type": "code",
   "execution_count": null,
   "metadata": {},
   "outputs": [],
   "source": []
  },
  {
   "cell_type": "code",
   "execution_count": null,
   "metadata": {},
   "outputs": [],
   "source": []
  }
 ],
 "metadata": {
  "kernelspec": {
   "display_name": "Python 3",
   "language": "python",
   "name": "python3"
  },
  "language_info": {
   "codemirror_mode": {
    "name": "ipython",
    "version": 3
   },
   "file_extension": ".py",
   "mimetype": "text/x-python",
   "name": "python",
   "nbconvert_exporter": "python",
   "pygments_lexer": "ipython3",
   "version": "3.6.10"
  }
 },
 "nbformat": 4,
 "nbformat_minor": 4
}
