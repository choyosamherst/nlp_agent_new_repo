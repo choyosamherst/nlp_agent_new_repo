{
 "cells": [
  {
   "cell_type": "code",
   "execution_count": null,
   "metadata": {},
   "outputs": [],
   "source": [
    "from sklearn.ensemble import RandomForestRegressor\n",
    "from sklearn.datasets import make_regression\n",
    "\n",
    "import pandas as pd\n",
    "import numpy as np\n",
    "import matplotlib.pyplot as plt\n",
    "\n",
    "\n",
    "from sklearn.datasets import make_classification\n",
    "from sklearn.model_selection import train_test_split\n",
    "\n",
    "from sklearn.ensemble import RandomForestClassifier\n",
    "\n",
    "from sklearn.preprocessing import MinMaxScaler\n"
   ]
  },
  {
   "cell_type": "code",
   "execution_count": null,
   "metadata": {},
   "outputs": [],
   "source": [
    "import seaborn as sns\n",
    "sns.set_style(\"whitegrid\")"
   ]
  },
  {
   "cell_type": "code",
   "execution_count": null,
   "metadata": {},
   "outputs": [],
   "source": []
  },
  {
   "cell_type": "code",
   "execution_count": null,
   "metadata": {},
   "outputs": [],
   "source": [
    "noun_sentence_df_final_joined_df_selected_columns_use_mean = pd.\\\n",
    "    read_feather('noun_sentence_df_final_joined_df_selected_columns_use_mean_2.fea')"
   ]
  },
  {
   "cell_type": "code",
   "execution_count": null,
   "metadata": {},
   "outputs": [],
   "source": [
    "noun_sentence_df_final_joined_df_selected_columns_use_min = pd.\\\n",
    "    read_feather('noun_sentence_df_final_joined_df_selected_columns_use_min_2.fea')"
   ]
  },
  {
   "cell_type": "code",
   "execution_count": null,
   "metadata": {},
   "outputs": [],
   "source": [
    "noun_sentence_df_final_joined_df_selected_columns_use = pd.merge(noun_sentence_df_final_joined_df_selected_columns_use_min,\n",
    "         noun_sentence_df_final_joined_df_selected_columns_use_mean, left_index=True, right_index=True)"
   ]
  },
  {
   "cell_type": "code",
   "execution_count": 6,
   "metadata": {},
   "outputs": [
    {
     "data": {
      "text/plain": [
       "599876"
      ]
     },
     "execution_count": 6,
     "metadata": {},
     "output_type": "execute_result"
    }
   ],
   "source": [
    "len(noun_sentence_df_final_joined_df_selected_columns_use)"
   ]
  },
  {
   "cell_type": "code",
   "execution_count": 7,
   "metadata": {},
   "outputs": [],
   "source": [
    "noun_sentence_df_final_joined_df_selected_columns_use = noun_sentence_df_final_joined_df_selected_columns_use.dropna()"
   ]
  },
  {
   "cell_type": "code",
   "execution_count": 8,
   "metadata": {},
   "outputs": [
    {
     "data": {
      "text/html": [
       "<div>\n",
       "<style scoped>\n",
       "    .dataframe tbody tr th:only-of-type {\n",
       "        vertical-align: middle;\n",
       "    }\n",
       "\n",
       "    .dataframe tbody tr th {\n",
       "        vertical-align: top;\n",
       "    }\n",
       "\n",
       "    .dataframe thead th {\n",
       "        text-align: right;\n",
       "    }\n",
       "</style>\n",
       "<table border=\"1\" class=\"dataframe\">\n",
       "  <thead>\n",
       "    <tr style=\"text-align: right;\">\n",
       "      <th></th>\n",
       "      <th>level_0</th>\n",
       "      <th>listingid_x</th>\n",
       "      <th>index</th>\n",
       "      <th>AVM_Error_List_x</th>\n",
       "      <th>Listing_Error_List_x</th>\n",
       "      <th>Transdate_x</th>\n",
       "      <th>Transprice_x</th>\n",
       "      <th>total_value_x</th>\n",
       "      <th>cj_living_area_x</th>\n",
       "      <th>effective_year_built_x</th>\n",
       "      <th>...</th>\n",
       "      <th>sentence_composition_0_y</th>\n",
       "      <th>sentence_composition_1_y</th>\n",
       "      <th>sentence_composition_2_y</th>\n",
       "      <th>sentence_composition_3_y</th>\n",
       "      <th>sentence_composition_4_y</th>\n",
       "      <th>sentence_composition_5_y</th>\n",
       "      <th>sentence_composition_6_y</th>\n",
       "      <th>sentence_composition_7_y</th>\n",
       "      <th>sentence_composition_8_y</th>\n",
       "      <th>transaction_year_y</th>\n",
       "    </tr>\n",
       "  </thead>\n",
       "  <tbody>\n",
       "    <tr>\n",
       "      <td>0</td>\n",
       "      <td>2663231</td>\n",
       "      <td>1066</td>\n",
       "      <td>central heat</td>\n",
       "      <td>0.095595</td>\n",
       "      <td>-0.066000</td>\n",
       "      <td>20180111</td>\n",
       "      <td>150000.0</td>\n",
       "      <td>98615.0</td>\n",
       "      <td>925.0</td>\n",
       "      <td>2005.0</td>\n",
       "      <td>...</td>\n",
       "      <td>58.620690</td>\n",
       "      <td>17.241379</td>\n",
       "      <td>13.793103</td>\n",
       "      <td>6.896552</td>\n",
       "      <td>1.724138</td>\n",
       "      <td>1.724138</td>\n",
       "      <td>0.0</td>\n",
       "      <td>58.0</td>\n",
       "      <td>15.0</td>\n",
       "      <td>2018.0</td>\n",
       "    </tr>\n",
       "    <tr>\n",
       "      <td>1</td>\n",
       "      <td>1418678</td>\n",
       "      <td>1071</td>\n",
       "      <td>new appliances</td>\n",
       "      <td>-0.038420</td>\n",
       "      <td>-0.018605</td>\n",
       "      <td>20171208</td>\n",
       "      <td>215000.0</td>\n",
       "      <td>143200.0</td>\n",
       "      <td>1730.0</td>\n",
       "      <td>1995.0</td>\n",
       "      <td>...</td>\n",
       "      <td>57.812500</td>\n",
       "      <td>17.187500</td>\n",
       "      <td>18.750000</td>\n",
       "      <td>1.562500</td>\n",
       "      <td>3.125000</td>\n",
       "      <td>0.000000</td>\n",
       "      <td>0.0</td>\n",
       "      <td>64.0</td>\n",
       "      <td>13.0</td>\n",
       "      <td>2017.0</td>\n",
       "    </tr>\n",
       "    <tr>\n",
       "      <td>2</td>\n",
       "      <td>1408417</td>\n",
       "      <td>1079</td>\n",
       "      <td>new kitchen cabinets</td>\n",
       "      <td>-0.067666</td>\n",
       "      <td>-0.075000</td>\n",
       "      <td>20180116</td>\n",
       "      <td>240000.0</td>\n",
       "      <td>184190.0</td>\n",
       "      <td>2640.0</td>\n",
       "      <td>2000.0</td>\n",
       "      <td>...</td>\n",
       "      <td>57.894737</td>\n",
       "      <td>15.789474</td>\n",
       "      <td>24.561404</td>\n",
       "      <td>1.754386</td>\n",
       "      <td>0.000000</td>\n",
       "      <td>0.000000</td>\n",
       "      <td>0.0</td>\n",
       "      <td>57.0</td>\n",
       "      <td>16.0</td>\n",
       "      <td>2018.0</td>\n",
       "    </tr>\n",
       "    <tr>\n",
       "      <td>3</td>\n",
       "      <td>2913823</td>\n",
       "      <td>1080</td>\n",
       "      <td>modern updates</td>\n",
       "      <td>0.085874</td>\n",
       "      <td>0.000000</td>\n",
       "      <td>20171227</td>\n",
       "      <td>389900.0</td>\n",
       "      <td>324300.0</td>\n",
       "      <td>3092.0</td>\n",
       "      <td>1997.0</td>\n",
       "      <td>...</td>\n",
       "      <td>52.941176</td>\n",
       "      <td>10.294118</td>\n",
       "      <td>30.882353</td>\n",
       "      <td>4.411765</td>\n",
       "      <td>0.000000</td>\n",
       "      <td>0.000000</td>\n",
       "      <td>0.0</td>\n",
       "      <td>68.0</td>\n",
       "      <td>18.0</td>\n",
       "      <td>2017.0</td>\n",
       "    </tr>\n",
       "    <tr>\n",
       "      <td>4</td>\n",
       "      <td>3314875</td>\n",
       "      <td>1084</td>\n",
       "      <td>pool pump</td>\n",
       "      <td>-0.152460</td>\n",
       "      <td>0.000000</td>\n",
       "      <td>20180201</td>\n",
       "      <td>214900.0</td>\n",
       "      <td>201300.0</td>\n",
       "      <td>2600.0</td>\n",
       "      <td>1997.0</td>\n",
       "      <td>...</td>\n",
       "      <td>58.666667</td>\n",
       "      <td>10.666667</td>\n",
       "      <td>29.333333</td>\n",
       "      <td>4.000000</td>\n",
       "      <td>0.000000</td>\n",
       "      <td>0.000000</td>\n",
       "      <td>0.0</td>\n",
       "      <td>75.0</td>\n",
       "      <td>21.0</td>\n",
       "      <td>2018.0</td>\n",
       "    </tr>\n",
       "    <tr>\n",
       "      <td>...</td>\n",
       "      <td>...</td>\n",
       "      <td>...</td>\n",
       "      <td>...</td>\n",
       "      <td>...</td>\n",
       "      <td>...</td>\n",
       "      <td>...</td>\n",
       "      <td>...</td>\n",
       "      <td>...</td>\n",
       "      <td>...</td>\n",
       "      <td>...</td>\n",
       "      <td>...</td>\n",
       "      <td>...</td>\n",
       "      <td>...</td>\n",
       "      <td>...</td>\n",
       "      <td>...</td>\n",
       "      <td>...</td>\n",
       "      <td>...</td>\n",
       "      <td>...</td>\n",
       "      <td>...</td>\n",
       "      <td>...</td>\n",
       "      <td>...</td>\n",
       "    </tr>\n",
       "    <tr>\n",
       "      <td>599869</td>\n",
       "      <td>2418106</td>\n",
       "      <td>251233929</td>\n",
       "      <td>great investment opportunity</td>\n",
       "      <td>-0.352831</td>\n",
       "      <td>0.064013</td>\n",
       "      <td>20210630</td>\n",
       "      <td>305440.0</td>\n",
       "      <td>242500.0</td>\n",
       "      <td>1930.0</td>\n",
       "      <td>1956.0</td>\n",
       "      <td>...</td>\n",
       "      <td>62.195122</td>\n",
       "      <td>13.414634</td>\n",
       "      <td>23.170732</td>\n",
       "      <td>1.219512</td>\n",
       "      <td>0.000000</td>\n",
       "      <td>0.000000</td>\n",
       "      <td>0.0</td>\n",
       "      <td>82.0</td>\n",
       "      <td>24.0</td>\n",
       "      <td>2021.0</td>\n",
       "    </tr>\n",
       "    <tr>\n",
       "      <td>599870</td>\n",
       "      <td>1554528</td>\n",
       "      <td>251237461</td>\n",
       "      <td>large bonus room</td>\n",
       "      <td>0.297356</td>\n",
       "      <td>0.104167</td>\n",
       "      <td>20210629</td>\n",
       "      <td>240000.0</td>\n",
       "      <td>92200.0</td>\n",
       "      <td>1744.0</td>\n",
       "      <td>1989.0</td>\n",
       "      <td>...</td>\n",
       "      <td>50.943396</td>\n",
       "      <td>18.867925</td>\n",
       "      <td>15.094340</td>\n",
       "      <td>7.547170</td>\n",
       "      <td>1.886792</td>\n",
       "      <td>0.000000</td>\n",
       "      <td>0.0</td>\n",
       "      <td>53.0</td>\n",
       "      <td>12.0</td>\n",
       "      <td>2021.0</td>\n",
       "    </tr>\n",
       "    <tr>\n",
       "      <td>599871</td>\n",
       "      <td>3091817</td>\n",
       "      <td>251262429</td>\n",
       "      <td>great rental property</td>\n",
       "      <td>-0.359648</td>\n",
       "      <td>0.132275</td>\n",
       "      <td>20210630</td>\n",
       "      <td>94500.0</td>\n",
       "      <td>52978.0</td>\n",
       "      <td>1236.0</td>\n",
       "      <td>2000.0</td>\n",
       "      <td>...</td>\n",
       "      <td>68.852459</td>\n",
       "      <td>6.557377</td>\n",
       "      <td>22.950820</td>\n",
       "      <td>1.639344</td>\n",
       "      <td>0.000000</td>\n",
       "      <td>0.000000</td>\n",
       "      <td>0.0</td>\n",
       "      <td>61.0</td>\n",
       "      <td>18.0</td>\n",
       "      <td>2021.0</td>\n",
       "    </tr>\n",
       "    <tr>\n",
       "      <td>599874</td>\n",
       "      <td>2592650</td>\n",
       "      <td>251452095</td>\n",
       "      <td>perkerson park</td>\n",
       "      <td>-0.011109</td>\n",
       "      <td>0.064987</td>\n",
       "      <td>20210624</td>\n",
       "      <td>560420.0</td>\n",
       "      <td>436500.0</td>\n",
       "      <td>1854.0</td>\n",
       "      <td>2004.0</td>\n",
       "      <td>...</td>\n",
       "      <td>56.000000</td>\n",
       "      <td>16.000000</td>\n",
       "      <td>16.000000</td>\n",
       "      <td>8.000000</td>\n",
       "      <td>4.000000</td>\n",
       "      <td>0.000000</td>\n",
       "      <td>0.0</td>\n",
       "      <td>50.0</td>\n",
       "      <td>12.0</td>\n",
       "      <td>2021.0</td>\n",
       "    </tr>\n",
       "    <tr>\n",
       "      <td>599875</td>\n",
       "      <td>3292473</td>\n",
       "      <td>251471319</td>\n",
       "      <td>ton space</td>\n",
       "      <td>-0.347514</td>\n",
       "      <td>0.000000</td>\n",
       "      <td>20210609</td>\n",
       "      <td>350000.0</td>\n",
       "      <td>346908.0</td>\n",
       "      <td>3857.0</td>\n",
       "      <td>1985.0</td>\n",
       "      <td>...</td>\n",
       "      <td>61.904762</td>\n",
       "      <td>14.285714</td>\n",
       "      <td>19.047619</td>\n",
       "      <td>0.000000</td>\n",
       "      <td>4.761905</td>\n",
       "      <td>0.000000</td>\n",
       "      <td>0.0</td>\n",
       "      <td>21.0</td>\n",
       "      <td>6.0</td>\n",
       "      <td>2021.0</td>\n",
       "    </tr>\n",
       "  </tbody>\n",
       "</table>\n",
       "<p>517822 rows × 1130 columns</p>\n",
       "</div>"
      ],
      "text/plain": [
       "        level_0  listingid_x                         index  AVM_Error_List_x  \\\n",
       "0       2663231         1066                  central heat          0.095595   \n",
       "1       1418678         1071                new appliances         -0.038420   \n",
       "2       1408417         1079          new kitchen cabinets         -0.067666   \n",
       "3       2913823         1080                modern updates          0.085874   \n",
       "4       3314875         1084                     pool pump         -0.152460   \n",
       "...         ...          ...                           ...               ...   \n",
       "599869  2418106    251233929  great investment opportunity         -0.352831   \n",
       "599870  1554528    251237461              large bonus room          0.297356   \n",
       "599871  3091817    251262429         great rental property         -0.359648   \n",
       "599874  2592650    251452095                perkerson park         -0.011109   \n",
       "599875  3292473    251471319                     ton space         -0.347514   \n",
       "\n",
       "        Listing_Error_List_x  Transdate_x  Transprice_x  total_value_x  \\\n",
       "0                  -0.066000     20180111      150000.0        98615.0   \n",
       "1                  -0.018605     20171208      215000.0       143200.0   \n",
       "2                  -0.075000     20180116      240000.0       184190.0   \n",
       "3                   0.000000     20171227      389900.0       324300.0   \n",
       "4                   0.000000     20180201      214900.0       201300.0   \n",
       "...                      ...          ...           ...            ...   \n",
       "599869              0.064013     20210630      305440.0       242500.0   \n",
       "599870              0.104167     20210629      240000.0        92200.0   \n",
       "599871              0.132275     20210630       94500.0        52978.0   \n",
       "599874              0.064987     20210624      560420.0       436500.0   \n",
       "599875              0.000000     20210609      350000.0       346908.0   \n",
       "\n",
       "        cj_living_area_x  effective_year_built_x  ...  \\\n",
       "0                  925.0                  2005.0  ...   \n",
       "1                 1730.0                  1995.0  ...   \n",
       "2                 2640.0                  2000.0  ...   \n",
       "3                 3092.0                  1997.0  ...   \n",
       "4                 2600.0                  1997.0  ...   \n",
       "...                  ...                     ...  ...   \n",
       "599869            1930.0                  1956.0  ...   \n",
       "599870            1744.0                  1989.0  ...   \n",
       "599871            1236.0                  2000.0  ...   \n",
       "599874            1854.0                  2004.0  ...   \n",
       "599875            3857.0                  1985.0  ...   \n",
       "\n",
       "        sentence_composition_0_y  sentence_composition_1_y  \\\n",
       "0                      58.620690                 17.241379   \n",
       "1                      57.812500                 17.187500   \n",
       "2                      57.894737                 15.789474   \n",
       "3                      52.941176                 10.294118   \n",
       "4                      58.666667                 10.666667   \n",
       "...                          ...                       ...   \n",
       "599869                 62.195122                 13.414634   \n",
       "599870                 50.943396                 18.867925   \n",
       "599871                 68.852459                  6.557377   \n",
       "599874                 56.000000                 16.000000   \n",
       "599875                 61.904762                 14.285714   \n",
       "\n",
       "        sentence_composition_2_y  sentence_composition_3_y  \\\n",
       "0                      13.793103                  6.896552   \n",
       "1                      18.750000                  1.562500   \n",
       "2                      24.561404                  1.754386   \n",
       "3                      30.882353                  4.411765   \n",
       "4                      29.333333                  4.000000   \n",
       "...                          ...                       ...   \n",
       "599869                 23.170732                  1.219512   \n",
       "599870                 15.094340                  7.547170   \n",
       "599871                 22.950820                  1.639344   \n",
       "599874                 16.000000                  8.000000   \n",
       "599875                 19.047619                  0.000000   \n",
       "\n",
       "        sentence_composition_4_y  sentence_composition_5_y  \\\n",
       "0                       1.724138                  1.724138   \n",
       "1                       3.125000                  0.000000   \n",
       "2                       0.000000                  0.000000   \n",
       "3                       0.000000                  0.000000   \n",
       "4                       0.000000                  0.000000   \n",
       "...                          ...                       ...   \n",
       "599869                  0.000000                  0.000000   \n",
       "599870                  1.886792                  0.000000   \n",
       "599871                  0.000000                  0.000000   \n",
       "599874                  4.000000                  0.000000   \n",
       "599875                  4.761905                  0.000000   \n",
       "\n",
       "        sentence_composition_6_y  sentence_composition_7_y  \\\n",
       "0                            0.0                      58.0   \n",
       "1                            0.0                      64.0   \n",
       "2                            0.0                      57.0   \n",
       "3                            0.0                      68.0   \n",
       "4                            0.0                      75.0   \n",
       "...                          ...                       ...   \n",
       "599869                       0.0                      82.0   \n",
       "599870                       0.0                      53.0   \n",
       "599871                       0.0                      61.0   \n",
       "599874                       0.0                      50.0   \n",
       "599875                       0.0                      21.0   \n",
       "\n",
       "        sentence_composition_8_y  transaction_year_y  \n",
       "0                           15.0              2018.0  \n",
       "1                           13.0              2017.0  \n",
       "2                           16.0              2018.0  \n",
       "3                           18.0              2017.0  \n",
       "4                           21.0              2018.0  \n",
       "...                          ...                 ...  \n",
       "599869                      24.0              2021.0  \n",
       "599870                      12.0              2021.0  \n",
       "599871                      18.0              2021.0  \n",
       "599874                      12.0              2021.0  \n",
       "599875                       6.0              2021.0  \n",
       "\n",
       "[517822 rows x 1130 columns]"
      ]
     },
     "execution_count": 8,
     "metadata": {},
     "output_type": "execute_result"
    }
   ],
   "source": [
    "noun_sentence_df_final_joined_df_selected_columns_use"
   ]
  },
  {
   "cell_type": "code",
   "execution_count": 9,
   "metadata": {},
   "outputs": [
    {
     "data": {
      "text/plain": [
       "Index(['level_0', 'listingid_x', 'index', 'AVM_Error_List_x',\n",
       "       'Listing_Error_List_x', 'Transdate_x', 'Transprice_x', 'total_value_x',\n",
       "       'cj_living_area_x', 'effective_year_built_x',\n",
       "       ...\n",
       "       'sentence_composition_0_y', 'sentence_composition_1_y',\n",
       "       'sentence_composition_2_y', 'sentence_composition_3_y',\n",
       "       'sentence_composition_4_y', 'sentence_composition_5_y',\n",
       "       'sentence_composition_6_y', 'sentence_composition_7_y',\n",
       "       'sentence_composition_8_y', 'transaction_year_y'],\n",
       "      dtype='object', length=1130)"
      ]
     },
     "execution_count": 9,
     "metadata": {},
     "output_type": "execute_result"
    }
   ],
   "source": [
    "noun_sentence_df_final_joined_df_selected_columns_use.columns"
   ]
  },
  {
   "cell_type": "code",
   "execution_count": 21,
   "metadata": {},
   "outputs": [],
   "source": [
    "predictor_columns = ['cj_living_area_x', 'story_x', 'avmValue_x','bedrooms_x']"
   ]
  },
  {
   "cell_type": "code",
   "execution_count": 22,
   "metadata": {},
   "outputs": [],
   "source": [
    "columns_selected = noun_sentence_df_final_joined_df_selected_columns_use.columns[\\\n",
    "                         pd.Series(noun_sentence_df_final_joined_df_selected_columns_use.columns).str.\\\n",
    "                        startswith('AVM_Error_Indicators')]\n",
    "predictor_columns = predictor_columns + list(columns_selected)\n",
    "\n",
    "columns_selected = noun_sentence_df_final_joined_df_selected_columns_use.columns[\\\n",
    "                                pd.Series(noun_sentence_df_final_joined_df_selected_columns_use.columns).str.\\\n",
    "                                                        startswith('Listing_Error_Indicators')]\n",
    "predictor_columns = predictor_columns + list(columns_selected)\n",
    "\n"
   ]
  },
  {
   "cell_type": "code",
   "execution_count": 23,
   "metadata": {},
   "outputs": [
    {
     "data": {
      "text/plain": [
       "['cj_living_area_x',\n",
       " 'story_x',\n",
       " 'avmValue_x',\n",
       " 'bedrooms_x',\n",
       " 'AVM_Error_Indicators_0_x',\n",
       " 'AVM_Error_Indicators_1_x',\n",
       " 'AVM_Error_Indicators_2_x',\n",
       " 'AVM_Error_Indicators_3_x',\n",
       " 'AVM_Error_Indicators_4_x',\n",
       " 'AVM_Error_Indicators_5_x',\n",
       " 'AVM_Error_Indicators_6_x',\n",
       " 'AVM_Error_Indicators_7_x',\n",
       " 'AVM_Error_Indicators_8_x',\n",
       " 'AVM_Error_Indicators_9_x',\n",
       " 'AVM_Error_Indicators_10_x',\n",
       " 'AVM_Error_Indicators_11_x',\n",
       " 'AVM_Error_Indicators_scale_x',\n",
       " 'AVM_Error_Indicators_0_y',\n",
       " 'AVM_Error_Indicators_1_y',\n",
       " 'AVM_Error_Indicators_2_y',\n",
       " 'AVM_Error_Indicators_3_y',\n",
       " 'AVM_Error_Indicators_4_y',\n",
       " 'AVM_Error_Indicators_5_y',\n",
       " 'AVM_Error_Indicators_6_y',\n",
       " 'AVM_Error_Indicators_7_y',\n",
       " 'AVM_Error_Indicators_8_y',\n",
       " 'AVM_Error_Indicators_9_y',\n",
       " 'AVM_Error_Indicators_10_y',\n",
       " 'AVM_Error_Indicators_11_y',\n",
       " 'AVM_Error_Indicators_scale_y',\n",
       " 'Listing_Error_Indicators_0_x',\n",
       " 'Listing_Error_Indicators_1_x',\n",
       " 'Listing_Error_Indicators_2_x',\n",
       " 'Listing_Error_Indicators_3_x',\n",
       " 'Listing_Error_Indicators_4_x',\n",
       " 'Listing_Error_Indicators_5_x',\n",
       " 'Listing_Error_Indicators_6_x',\n",
       " 'Listing_Error_Indicators_7_x',\n",
       " 'Listing_Error_Indicators_8_x',\n",
       " 'Listing_Error_Indicators_9_x',\n",
       " 'Listing_Error_Indicators_10_x',\n",
       " 'Listing_Error_Indicators_11_x',\n",
       " 'Listing_Error_Indicators_0_y',\n",
       " 'Listing_Error_Indicators_1_y',\n",
       " 'Listing_Error_Indicators_2_y',\n",
       " 'Listing_Error_Indicators_3_y',\n",
       " 'Listing_Error_Indicators_4_y',\n",
       " 'Listing_Error_Indicators_5_y',\n",
       " 'Listing_Error_Indicators_6_y',\n",
       " 'Listing_Error_Indicators_7_y',\n",
       " 'Listing_Error_Indicators_8_y',\n",
       " 'Listing_Error_Indicators_9_y',\n",
       " 'Listing_Error_Indicators_10_y',\n",
       " 'Listing_Error_Indicators_11_y']"
      ]
     },
     "execution_count": 23,
     "metadata": {},
     "output_type": "execute_result"
    }
   ],
   "source": [
    "predictor_columns\n"
   ]
  },
  {
   "cell_type": "code",
   "execution_count": 62,
   "metadata": {},
   "outputs": [],
   "source": [
    "predictor_columns = [ 'AVM_Error_Indicators_7_x',\n",
    " 'AVM_Error_Indicators_1_y',\n",
    " 'cj_living_area_x',\n",
    " 'AVM_Error_Indicators_7_y',\n",
    " 'AVM_Error_Indicators_10_x',\n",
    " 'AVM_Error_Indicators_4_y',\n",
    " 'AVM_Error_Indicators_4_x',\n",
    " 'AVM_Error_Indicators_11_x',\n",
    " 'AVM_Error_Indicators_11_y',\n",
    " 'AVM_Error_Indicators_5_x',\n",
    " 'AVM_Error_Indicators_10_y',\n",
    " 'AVM_Error_Indicators_6_x',\n",
    " 'AVM_Error_Indicators_0_x',\n",
    " 'AVM_Error_Indicators_6_y',\n",
    " 'AVM_Error_Indicators_5_y',\n",
    " 'AVM_Error_Indicators_0_y',\n",
    " 'avmValue_x']"
   ]
  },
  {
   "cell_type": "code",
   "execution_count": 63,
   "metadata": {},
   "outputs": [
    {
     "data": {
      "text/plain": [
       "Index(['level_0', 'listingid_x', 'index', 'AVM_Error_List_x',\n",
       "       'Listing_Error_List_x', 'Transdate_x', 'Transprice_x', 'total_value_x',\n",
       "       'cj_living_area_x', 'effective_year_built_x',\n",
       "       ...\n",
       "       'sentence_composition_0_y', 'sentence_composition_1_y',\n",
       "       'sentence_composition_2_y', 'sentence_composition_3_y',\n",
       "       'sentence_composition_4_y', 'sentence_composition_5_y',\n",
       "       'sentence_composition_6_y', 'sentence_composition_7_y',\n",
       "       'sentence_composition_8_y', 'transaction_year_y'],\n",
       "      dtype='object', length=1130)"
      ]
     },
     "execution_count": 63,
     "metadata": {},
     "output_type": "execute_result"
    }
   ],
   "source": [
    "noun_sentence_df_final_joined_df_selected_columns_use.columns"
   ]
  },
  {
   "cell_type": "code",
   "execution_count": 64,
   "metadata": {},
   "outputs": [],
   "source": [
    "Predictors = noun_sentence_df_final_joined_df_selected_columns_use[predictor_columns].to_numpy()"
   ]
  },
  {
   "cell_type": "code",
   "execution_count": 65,
   "metadata": {},
   "outputs": [
    {
     "data": {
      "text/plain": [
       "(517822, 17)"
      ]
     },
     "execution_count": 65,
     "metadata": {},
     "output_type": "execute_result"
    }
   ],
   "source": [
    "Predictors.shape"
   ]
  },
  {
   "cell_type": "code",
   "execution_count": 66,
   "metadata": {},
   "outputs": [],
   "source": [
    "predictand = noun_sentence_df_final_joined_df_selected_columns_use.avmerror_x.values"
   ]
  },
  {
   "cell_type": "code",
   "execution_count": 67,
   "metadata": {},
   "outputs": [
    {
     "data": {
      "text/plain": [
       "(517822,)"
      ]
     },
     "execution_count": 67,
     "metadata": {},
     "output_type": "execute_result"
    }
   ],
   "source": [
    "predictand.shape"
   ]
  },
  {
   "cell_type": "code",
   "execution_count": null,
   "metadata": {},
   "outputs": [],
   "source": []
  },
  {
   "cell_type": "code",
   "execution_count": 68,
   "metadata": {},
   "outputs": [],
   "source": [
    "train_samples = 200000  # Samples used for training the models\n",
    "X_train, X_test, y_train, y_test = train_test_split(\n",
    "    Predictors,\n",
    "    predictand,\n",
    "    shuffle=False,\n",
    "    test_size=len(Predictors) - train_samples,\n",
    ")"
   ]
  },
  {
   "cell_type": "code",
   "execution_count": 69,
   "metadata": {},
   "outputs": [
    {
     "data": {
      "text/plain": [
       "5233111.71"
      ]
     },
     "execution_count": 69,
     "metadata": {},
     "output_type": "execute_result"
    }
   ],
   "source": [
    "np.max(X_train)"
   ]
  },
  {
   "cell_type": "code",
   "execution_count": 148,
   "metadata": {},
   "outputs": [],
   "source": [
    "model = RandomForestRegressor(n_estimators = 10,  min_samples_leaf=30, \n",
    "                              max_features = 6, max_depth=40\n",
    "                              )\n",
    "\n",
    "#model = RandomForestRegressor()\n",
    "                              \n"
   ]
  },
  {
   "cell_type": "code",
   "execution_count": 149,
   "metadata": {},
   "outputs": [
    {
     "data": {
      "text/plain": [
       "RandomForestRegressor(max_depth=40, max_features=6, min_samples_leaf=30,\n",
       "                      n_estimators=10)"
      ]
     },
     "execution_count": 149,
     "metadata": {},
     "output_type": "execute_result"
    }
   ],
   "source": [
    "model.fit(X_train, y_train)"
   ]
  },
  {
   "cell_type": "code",
   "execution_count": 150,
   "metadata": {},
   "outputs": [
    {
     "name": "stdout",
     "output_type": "stream",
     "text": [
      "{'bootstrap': True, 'ccp_alpha': 0.0, 'criterion': 'mse', 'max_depth': 40, 'max_features': 6, 'max_leaf_nodes': None, 'max_samples': None, 'min_impurity_decrease': 0.0, 'min_impurity_split': None, 'min_samples_leaf': 30, 'min_samples_split': 2, 'min_weight_fraction_leaf': 0.0, 'n_estimators': 10, 'n_jobs': None, 'oob_score': False, 'random_state': None, 'verbose': 0, 'warm_start': False}\n"
     ]
    }
   ],
   "source": [
    "print(model.get_params(deep=True))"
   ]
  },
  {
   "cell_type": "code",
   "execution_count": null,
   "metadata": {},
   "outputs": [],
   "source": []
  },
  {
   "cell_type": "code",
   "execution_count": 151,
   "metadata": {},
   "outputs": [],
   "source": [
    "predictions_test = model.predict(X_test)\n",
    "predictions_train = model.predict(X_train)"
   ]
  },
  {
   "cell_type": "code",
   "execution_count": 152,
   "metadata": {},
   "outputs": [
    {
     "data": {
      "text/plain": [
       "-1.4926238888888888"
      ]
     },
     "execution_count": 152,
     "metadata": {},
     "output_type": "execute_result"
    }
   ],
   "source": [
    "y_train.min()"
   ]
  },
  {
   "cell_type": "code",
   "execution_count": 153,
   "metadata": {},
   "outputs": [
    {
     "data": {
      "text/plain": [
       "[<matplotlib.lines.Line2D at 0x7fa60a19a048>]"
      ]
     },
     "execution_count": 153,
     "metadata": {},
     "output_type": "execute_result"
    },
    {
     "data": {
      "image/png": "[encoded data removed]",
      "text/plain": [
       "<Figure size 432x288 with 1 Axes>"
      ]
     },
     "metadata": {},
     "output_type": "display_data"
    }
   ],
   "source": [
    "plt.plot(predictions_train,y_train,'o')"
   ]
  },
  {
   "cell_type": "code",
   "execution_count": 154,
   "metadata": {},
   "outputs": [
    {
     "data": {
      "text/plain": [
       "[<matplotlib.lines.Line2D at 0x7fa60a16ba90>]"
      ]
     },
     "execution_count": 154,
     "metadata": {},
     "output_type": "execute_result"
    },
    {
     "data": {
      "image/png": "[encoded data removed]",
      "text/plain": [
       "<Figure size 432x288 with 1 Axes>"
      ]
     },
     "metadata": {},
     "output_type": "display_data"
    }
   ],
   "source": [
    "plt.plot(predictions_test,y_test,'o')"
   ]
  },
  {
   "cell_type": "code",
   "execution_count": null,
   "metadata": {},
   "outputs": [],
   "source": []
  },
  {
   "cell_type": "code",
   "execution_count": 155,
   "metadata": {},
   "outputs": [],
   "source": [
    "df = noun_sentence_df_final_joined_df_selected_columns_use.copy()\n"
   ]
  },
  {
   "cell_type": "code",
   "execution_count": 156,
   "metadata": {},
   "outputs": [],
   "source": [
    "predictions_test_value = df['avmValue_x'].values[train_samples:]/(1-predictions_test)\n",
    "predictions_train_value = df['avmValue_x'].values[:train_samples]/(1-predictions_train)\n",
    "#predictions_train_value = df['avmValue'].values/(1-Predictors)"
   ]
  },
  {
   "cell_type": "code",
   "execution_count": null,
   "metadata": {},
   "outputs": [],
   "source": []
  },
  {
   "cell_type": "code",
   "execution_count": null,
   "metadata": {},
   "outputs": [],
   "source": []
  },
  {
   "cell_type": "code",
   "execution_count": 157,
   "metadata": {},
   "outputs": [
    {
     "data": {
      "text/plain": [
       "Index(['level_0', 'listingid_x', 'index', 'AVM_Error_List_x',\n",
       "       'Listing_Error_List_x', 'Transdate_x', 'Transprice_x', 'total_value_x',\n",
       "       'cj_living_area_x', 'effective_year_built_x',\n",
       "       ...\n",
       "       'sentence_composition_0_y', 'sentence_composition_1_y',\n",
       "       'sentence_composition_2_y', 'sentence_composition_3_y',\n",
       "       'sentence_composition_4_y', 'sentence_composition_5_y',\n",
       "       'sentence_composition_6_y', 'sentence_composition_7_y',\n",
       "       'sentence_composition_8_y', 'transaction_year_y'],\n",
       "      dtype='object', length=1130)"
      ]
     },
     "execution_count": 157,
     "metadata": {},
     "output_type": "execute_result"
    }
   ],
   "source": [
    "df.columns"
   ]
  },
  {
   "cell_type": "code",
   "execution_count": 158,
   "metadata": {},
   "outputs": [
    {
     "name": "stdout",
     "output_type": "stream",
     "text": [
      "0.10773206926790599\n",
      "0.12487725017106194\n"
     ]
    }
   ],
   "source": [
    "print(np.mean(np.abs(df['Transprice_x'].values[:train_samples]-predictions_train_value)/\\\n",
    "              (df['Transprice_x'].values[:train_samples])))\n",
    "print(np.mean(np.abs(df['Transprice_x'].values[:train_samples]- df['avmValue_x'].values[:train_samples])/\\\n",
    "              (df['Transprice_x'].values[:train_samples])))\n"
   ]
  },
  {
   "cell_type": "code",
   "execution_count": 159,
   "metadata": {},
   "outputs": [
    {
     "name": "stdout",
     "output_type": "stream",
     "text": [
      "0.11899381901562606\n",
      "0.12531334435944558\n"
     ]
    }
   ],
   "source": [
    "print(np.mean(np.abs(df['Transprice_x'].values[train_samples:]-predictions_test_value)/\\\n",
    "              (df['Transprice_x'].values[train_samples:])))\n",
    "print(np.mean(np.abs(df['Transprice_x'].values[train_samples:]- df['avmValue_x'].values[train_samples:])/\\\n",
    "              (df['Transprice_x'].values[train_samples:])))\n"
   ]
  },
  {
   "cell_type": "code",
   "execution_count": 147,
   "metadata": {},
   "outputs": [
    {
     "data": {
      "text/plain": [
       "[<matplotlib.lines.Line2D at 0x7fa60a227cc0>]"
      ]
     },
     "execution_count": 147,
     "metadata": {},
     "output_type": "execute_result"
    },
    {
     "data": {
      "image/png": "[encoded data removed]",
      "text/plain": [
       "<Figure size 432x288 with 1 Axes>"
      ]
     },
     "metadata": {},
     "output_type": "display_data"
    }
   ],
   "source": [
    "plt.plot(predictions_train_value,df['Transprice_x'].values[:train_samples],'o')"
   ]
  },
  {
   "cell_type": "code",
   "execution_count": 60,
   "metadata": {},
   "outputs": [
    {
     "data": {
      "text/plain": [
       "Index(['level_0', 'listingid_x', 'index', 'AVM_Error_List_x',\n",
       "       'Listing_Error_List_x', 'Transdate_x', 'Transprice_x', 'total_value_x',\n",
       "       'cj_living_area_x', 'effective_year_built_x',\n",
       "       ...\n",
       "       'sentence_composition_0_y', 'sentence_composition_1_y',\n",
       "       'sentence_composition_2_y', 'sentence_composition_3_y',\n",
       "       'sentence_composition_4_y', 'sentence_composition_5_y',\n",
       "       'sentence_composition_6_y', 'sentence_composition_7_y',\n",
       "       'sentence_composition_8_y', 'transaction_year_y'],\n",
       "      dtype='object', length=1130)"
      ]
     },
     "execution_count": 60,
     "metadata": {},
     "output_type": "execute_result"
    }
   ],
   "source": [
    "df.columns"
   ]
  },
  {
   "cell_type": "code",
   "execution_count": null,
   "metadata": {},
   "outputs": [],
   "source": []
  },
  {
   "cell_type": "code",
   "execution_count": null,
   "metadata": {},
   "outputs": [],
   "source": []
  },
  {
   "cell_type": "code",
   "execution_count": null,
   "metadata": {},
   "outputs": [],
   "source": []
  },
  {
   "cell_type": "code",
   "execution_count": 84,
   "metadata": {},
   "outputs": [
    {
     "data": {
      "image/png": "[encoded data removed]",
      "text/plain": [
       "<Figure size 432x288 with 1 Axes>"
      ]
     },
     "metadata": {},
     "output_type": "display_data"
    }
   ],
   "source": [
    "importances = model.feature_importances_\n",
    "indices = np.argsort(importances)\n",
    "features = predictor_columns\n",
    "plt.title('Feature Importances')\n",
    "plt.barh(range(len(indices)), importances[indices], color='b', align='center')\n",
    "plt.yticks(range(len(indices)), [features[i] for i in indices])\n",
    "plt.xlabel('Relative Importance')\n",
    "plt.show()"
   ]
  },
  {
   "cell_type": "code",
   "execution_count": null,
   "metadata": {},
   "outputs": [],
   "source": []
  },
  {
   "cell_type": "code",
   "execution_count": null,
   "metadata": {},
   "outputs": [],
   "source": [
    "importances = model.feature_importances_\n",
    "indices = np.argsort(importances)\n",
    "features = predictor_columns\n",
    "plt.title('Feature Importances')\n",
    "plt.barh(range(len(indices)), importances[indices], color='b', align='center')\n",
    "plt.yticks(range(len(indices)), [features[i] for i in indices])\n",
    "plt.xlabel('Relative Importance')\n",
    "plt.show()"
   ]
  },
  {
   "cell_type": "code",
   "execution_count": null,
   "metadata": {},
   "outputs": [],
   "source": []
  },
  {
   "cell_type": "code",
   "execution_count": 45,
   "metadata": {},
   "outputs": [
    {
     "data": {
      "text/plain": [
       "['Listing_Error_Indicators_7_x',\n",
       " 'bedrooms_x',\n",
       " 'Listing_Error_Indicators_10_x',\n",
       " 'Listing_Error_Indicators_7_y',\n",
       " 'Listing_Error_Indicators_9_x',\n",
       " 'Listing_Error_Indicators_2_x',\n",
       " 'Listing_Error_Indicators_11_x',\n",
       " 'Listing_Error_Indicators_6_x',\n",
       " 'Listing_Error_Indicators_3_x',\n",
       " 'AVM_Error_Indicators_9_x',\n",
       " 'story_x',\n",
       " 'Listing_Error_Indicators_11_y',\n",
       " 'Listing_Error_Indicators_3_y',\n",
       " 'Listing_Error_Indicators_2_y',\n",
       " 'Listing_Error_Indicators_10_y',\n",
       " 'Listing_Error_Indicators_0_x',\n",
       " 'AVM_Error_Indicators_scale_y',\n",
       " 'Listing_Error_Indicators_6_y',\n",
       " 'Listing_Error_Indicators_8_x',\n",
       " 'AVM_Error_Indicators_9_y',\n",
       " 'Listing_Error_Indicators_9_y',\n",
       " 'Listing_Error_Indicators_8_y',\n",
       " 'Listing_Error_Indicators_5_y',\n",
       " 'AVM_Error_Indicators_3_x',\n",
       " 'AVM_Error_Indicators_3_y',\n",
       " 'Listing_Error_Indicators_5_x',\n",
       " 'Listing_Error_Indicators_0_y',\n",
       " 'Listing_Error_Indicators_4_x',\n",
       " 'AVM_Error_Indicators_2_x',\n",
       " 'Listing_Error_Indicators_4_y',\n",
       " 'AVM_Error_Indicators_8_x',\n",
       " 'AVM_Error_Indicators_8_y',\n",
       " 'AVM_Error_Indicators_2_y',\n",
       " 'AVM_Error_Indicators_scale_x',\n",
       " 'AVM_Error_Indicators_1_x',\n",
       " 'Listing_Error_Indicators_1_x',\n",
       " 'Listing_Error_Indicators_1_y',\n",
       " 'AVM_Error_Indicators_7_x',\n",
       " 'AVM_Error_Indicators_1_y',\n",
       " 'cj_living_area_x',\n",
       " 'AVM_Error_Indicators_7_y',\n",
       " 'AVM_Error_Indicators_10_x',\n",
       " 'AVM_Error_Indicators_4_y',\n",
       " 'AVM_Error_Indicators_4_x',\n",
       " 'AVM_Error_Indicators_11_x',\n",
       " 'AVM_Error_Indicators_11_y',\n",
       " 'AVM_Error_Indicators_5_x',\n",
       " 'AVM_Error_Indicators_10_y',\n",
       " 'AVM_Error_Indicators_6_x',\n",
       " 'AVM_Error_Indicators_0_x',\n",
       " 'AVM_Error_Indicators_6_y',\n",
       " 'AVM_Error_Indicators_5_y',\n",
       " 'AVM_Error_Indicators_0_y',\n",
       " 'avmValue_x']"
      ]
     },
     "execution_count": 45,
     "metadata": {},
     "output_type": "execute_result"
    }
   ],
   "source": [
    "[features[i] for i in indices]"
   ]
  },
  {
   "cell_type": "code",
   "execution_count": null,
   "metadata": {},
   "outputs": [],
   "source": []
  },
  {
   "cell_type": "code",
   "execution_count": null,
   "metadata": {},
   "outputs": [],
   "source": [
    "import joblib\n",
    "filename = 'RF_newmodel_03_newset.sav'\n",
    "joblib.dump(model,filename)"
   ]
  },
  {
   "cell_type": "code",
   "execution_count": null,
   "metadata": {},
   "outputs": [],
   "source": []
  }
 ],
 "metadata": {
  "kernelspec": {
   "display_name": "Python 3",
   "language": "python",
   "name": "python3"
  },
  "language_info": {
   "codemirror_mode": {
    "name": "ipython",
    "version": 3
   },
   "file_extension": ".py",
   "mimetype": "text/x-python",
   "name": "python",
   "nbconvert_exporter": "python",
   "pygments_lexer": "ipython3",
   "version": "3.6.10"
  }
 },
 "nbformat": 4,
 "nbformat_minor": 4
}
