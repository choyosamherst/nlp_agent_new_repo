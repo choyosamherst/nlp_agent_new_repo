{
 "cells": [
  {
   "cell_type": "markdown",
   "metadata": {
    "id": "571KVG9Abevf"
   },
   "source": [
    "## Setup kaggle API"
   ]
  },
  {
   "cell_type": "markdown",
   "metadata": {
    "id": "d0VwdFnTbklr"
   },
   "source": [
    "## Import Important Packages"
   ]
  },
  {
   "cell_type": "code",
   "execution_count": 1,
   "metadata": {
    "id": "VJAhUNVOG7Xl"
   },
   "outputs": [],
   "source": [
    "\n",
    "import tensorflow as tf\n",
    "from tensorflow.keras import Sequential\n",
    "from tensorflow.keras.layers import Dense,Input\n",
    "from sklearn.utils import shuffle\n",
    "import tensorflow_hub as hub\n",
    "import matplotlib.pyplot as plt\n",
    "from sklearn.model_selection import train_test_split\n",
    "import numpy as np\n",
    "import os\n",
    "import pandas as pd\n",
    "DATASET_ENCODING = \"ISO-8859-1\"\n"
   ]
  },
  {
   "cell_type": "code",
   "execution_count": 2,
   "metadata": {
    "colab": {
     "base_uri": "https://localhost:8080/",
     "height": 35
    },
    "id": "_x2o3NF7SM1d",
    "outputId": "1424cf1f-f9d3-427f-abfe-d6a903c0f396"
   },
   "outputs": [
    {
     "data": {
      "text/plain": [
       "'2.6.2'"
      ]
     },
     "execution_count": 2,
     "metadata": {},
     "output_type": "execute_result"
    }
   ],
   "source": [
    "tf.__version__"
   ]
  },
  {
   "cell_type": "markdown",
   "metadata": {
    "id": "0fa5jHyEboPA"
   },
   "source": [
    "## Download and process Twitter Sentiment dataset"
   ]
  },
  {
   "cell_type": "code",
   "execution_count": 3,
   "metadata": {
    "colab": {
     "base_uri": "https://localhost:8080/",
     "height": 34
    },
    "id": "qhDLLaIvQbEG",
    "outputId": "4dac4d08-dc9d-4514-e1aa-14716b29145c"
   },
   "outputs": [],
   "source": [
    "#!kaggle datasets download -d kazanova/sentiment140"
   ]
  },
  {
   "cell_type": "code",
   "execution_count": 4,
   "metadata": {
    "id": "_1s-hbrJQn9K"
   },
   "outputs": [],
   "source": [
    "df = pd.read_csv(\"content/sentiment140.zip\",encoding=DATASET_ENCODING)\n",
    "df= df.iloc[:,[0,-1]]\n",
    "df.columns = ['sentiment','tweet']\n",
    "df = pd.concat([df.query(\"sentiment==0\").sample(20000),df.query(\"sentiment==4\").sample(20000)])\n",
    "df.sentiment = df.sentiment.map({0:0,4:1})\n",
    "df =  shuffle(df).reset_index(drop=True)\n",
    "\n",
    "df,df_test = train_test_split(df,test_size=0.2)"
   ]
  },
  {
   "cell_type": "code",
   "execution_count": 5,
   "metadata": {
    "colab": {
     "base_uri": "https://localhost:8080/",
     "height": 204
    },
    "id": "r4YoOR2j20XG",
    "outputId": "bd7d32e4-c2c3-4b14-bfd3-c5e824441788"
   },
   "outputs": [
    {
     "data": {
      "text/html": [
       "<div>\n",
       "<style scoped>\n",
       "    .dataframe tbody tr th:only-of-type {\n",
       "        vertical-align: middle;\n",
       "    }\n",
       "\n",
       "    .dataframe tbody tr th {\n",
       "        vertical-align: top;\n",
       "    }\n",
       "\n",
       "    .dataframe thead th {\n",
       "        text-align: right;\n",
       "    }\n",
       "</style>\n",
       "<table border=\"1\" class=\"dataframe\">\n",
       "  <thead>\n",
       "    <tr style=\"text-align: right;\">\n",
       "      <th></th>\n",
       "      <th>sentiment</th>\n",
       "      <th>tweet</th>\n",
       "    </tr>\n",
       "  </thead>\n",
       "  <tbody>\n",
       "    <tr>\n",
       "      <td>1798</td>\n",
       "      <td>0</td>\n",
       "      <td>I can't believe I spent a whole working day tr...</td>\n",
       "    </tr>\n",
       "    <tr>\n",
       "      <td>24235</td>\n",
       "      <td>0</td>\n",
       "      <td>@mi_alegria my mom's kids are the same way, bu...</td>\n",
       "    </tr>\n",
       "    <tr>\n",
       "      <td>6941</td>\n",
       "      <td>1</td>\n",
       "      <td>@brittanyboren that was so random to see you t...</td>\n",
       "    </tr>\n",
       "    <tr>\n",
       "      <td>35693</td>\n",
       "      <td>1</td>\n",
       "      <td>cant wait to go back to school tomorrow really...</td>\n",
       "    </tr>\n",
       "    <tr>\n",
       "      <td>2623</td>\n",
       "      <td>0</td>\n",
       "      <td>...i wish i lived in Texas</td>\n",
       "    </tr>\n",
       "  </tbody>\n",
       "</table>\n",
       "</div>"
      ],
      "text/plain": [
       "       sentiment                                              tweet\n",
       "1798           0  I can't believe I spent a whole working day tr...\n",
       "24235          0  @mi_alegria my mom's kids are the same way, bu...\n",
       "6941           1  @brittanyboren that was so random to see you t...\n",
       "35693          1  cant wait to go back to school tomorrow really...\n",
       "2623           0                        ...i wish i lived in Texas "
      ]
     },
     "execution_count": 5,
     "metadata": {},
     "output_type": "execute_result"
    }
   ],
   "source": [
    "df.head(5)"
   ]
  },
  {
   "cell_type": "code",
   "execution_count": 16,
   "metadata": {},
   "outputs": [
    {
     "data": {
      "text/plain": [
       "32000"
      ]
     },
     "execution_count": 16,
     "metadata": {},
     "output_type": "execute_result"
    }
   ],
   "source": [
    "len(df)"
   ]
  },
  {
   "cell_type": "code",
   "execution_count": 19,
   "metadata": {},
   "outputs": [
    {
     "data": {
      "text/plain": [
       "1"
      ]
     },
     "execution_count": 19,
     "metadata": {},
     "output_type": "execute_result"
    }
   ],
   "source": [
    "df.sentiment.max()"
   ]
  },
  {
   "cell_type": "markdown",
   "metadata": {
    "id": "g8CUX8aUbuTS"
   },
   "source": [
    "## Load Universal Sentence Encoder from TFhub"
   ]
  },
  {
   "cell_type": "code",
   "execution_count": 6,
   "metadata": {
    "id": "atKuX3fFP_Db"
   },
   "outputs": [],
   "source": [
    "embed = hub.load(\"https://tfhub.dev/google/universal-sentence-encoder/4\")\n"
   ]
  },
  {
   "cell_type": "code",
   "execution_count": 10,
   "metadata": {
    "colab": {
     "base_uri": "https://localhost:8080/",
     "height": 88
    },
    "id": "NC0b_J-D4gc5",
    "outputId": "72170261-c445-41e9-f9ab-22b42ebbd3d5"
   },
   "outputs": [
    {
     "data": {
      "text/plain": [
       "(1, 512)"
      ]
     },
     "execution_count": 10,
     "metadata": {},
     "output_type": "execute_result"
    }
   ],
   "source": [
    "embed(['cccc this is our project']).numpy().shape"
   ]
  },
  {
   "cell_type": "code",
   "execution_count": 29,
   "metadata": {},
   "outputs": [
    {
     "data": {
      "text/plain": [
       "array([[ 9.03854147e-03,  5.22774868e-02,  6.13305857e-03,\n",
       "         2.37341207e-02,  6.30642995e-02, -3.62927765e-02,\n",
       "         3.57606933e-02, -4.58553694e-02,  9.47707668e-02,\n",
       "        -2.52315421e-02, -4.95872367e-03, -6.29206374e-02,\n",
       "         9.89571810e-02,  5.19171953e-02,  4.39674109e-02,\n",
       "        -7.71288341e-03, -1.15632545e-04, -4.09453884e-02,\n",
       "        -3.64664546e-03, -8.83569047e-02,  4.98004584e-03,\n",
       "         3.77035365e-02,  3.35923322e-02, -2.12137345e-02,\n",
       "        -2.27638390e-02, -5.42797409e-02,  7.34127220e-03,\n",
       "        -5.47480509e-02,  2.67833192e-02,  5.73655032e-02,\n",
       "         2.97581591e-02, -3.30158568e-04, -1.60164628e-02,\n",
       "         6.42586779e-03,  2.42630076e-02, -9.27571878e-02,\n",
       "        -6.32871762e-02,  1.67394951e-02, -1.74661241e-02,\n",
       "         3.71933170e-02,  2.84864381e-02, -1.25712007e-02,\n",
       "         1.55060450e-02, -2.67616510e-02, -4.62858602e-02,\n",
       "        -6.77554170e-03, -2.98638027e-02, -1.96758527e-02,\n",
       "         2.28325054e-02, -6.67092577e-02,  2.12443564e-02,\n",
       "        -6.72128499e-02, -1.17433127e-02,  5.67145497e-02,\n",
       "         5.62094823e-02, -6.18535504e-02, -1.12840440e-02,\n",
       "         5.95256537e-02, -3.34162079e-02, -4.74395603e-02,\n",
       "        -3.26515958e-02, -1.42453397e-02,  6.94960309e-03,\n",
       "        -7.16468617e-02,  5.70787042e-02,  7.23253116e-02,\n",
       "         2.22146846e-02, -3.69556434e-02,  2.69249044e-02,\n",
       "         1.09999289e-03, -1.62962805e-02,  3.67723498e-03,\n",
       "         1.61145478e-02, -4.06112336e-02,  4.93091419e-02,\n",
       "        -2.16603540e-02,  4.33539320e-03, -6.26956765e-03,\n",
       "        -1.84622426e-02,  2.12814100e-02, -3.72481649e-03,\n",
       "        -2.69304179e-02,  1.88320726e-02, -6.86657205e-02,\n",
       "         1.32558933e-02, -3.60523649e-02, -5.95852695e-02,\n",
       "        -5.80075346e-02,  4.36383039e-02,  3.29612456e-02,\n",
       "         1.11985272e-02, -3.58037874e-02,  3.59723419e-02,\n",
       "         1.80123243e-02,  3.28561589e-02,  7.35908300e-02,\n",
       "         5.17148338e-02,  3.16859521e-02, -4.79221493e-02,\n",
       "         8.19322653e-03, -1.53746437e-02, -8.08679983e-02,\n",
       "         2.80432496e-02,  6.24671429e-02, -3.81203890e-02,\n",
       "         5.36129251e-02, -2.96970122e-02, -6.24162033e-02,\n",
       "        -4.45033088e-02, -1.98984542e-03, -5.00673912e-02,\n",
       "        -6.26217127e-02, -1.41777545e-02, -9.12141800e-03,\n",
       "        -4.21579257e-02, -2.57487106e-03, -1.69362407e-02,\n",
       "         2.32089944e-02, -2.80285608e-02,  1.42296031e-02,\n",
       "        -1.76693276e-02, -9.72158648e-03, -3.32438238e-02,\n",
       "        -8.08581989e-03, -6.01087213e-02, -4.21405137e-02,\n",
       "        -2.18629260e-02,  3.31506208e-02, -9.58544202e-03,\n",
       "         4.50604893e-02,  7.26545695e-03,  4.92414124e-02,\n",
       "         2.02160925e-02, -5.20304143e-02,  1.85784325e-02,\n",
       "         5.74625246e-02, -3.06835063e-02, -4.42453884e-02,\n",
       "        -1.01469561e-01, -3.92348617e-02, -3.88931595e-02,\n",
       "         2.78157089e-02,  5.04205935e-03, -5.01786871e-03,\n",
       "        -1.82339679e-02, -6.80838227e-02, -1.97734721e-02,\n",
       "         1.94099955e-02,  5.71034551e-02,  4.61402647e-02,\n",
       "        -7.50257587e-03,  5.08723548e-03, -7.88671523e-02,\n",
       "        -7.44918287e-02,  2.61325147e-02,  8.28602538e-02,\n",
       "        -3.85511890e-02, -8.50966424e-02, -5.39770015e-02,\n",
       "        -5.65417521e-02, -4.76398841e-02,  8.26369226e-02,\n",
       "         5.05571738e-02,  6.54358640e-02, -7.32617453e-02,\n",
       "         5.46446145e-02, -4.97055650e-02,  2.87142657e-02,\n",
       "        -9.68386186e-04,  3.71287055e-02, -2.23831721e-02,\n",
       "        -4.36351821e-02,  2.29575299e-02, -5.81768304e-02,\n",
       "        -2.34878063e-02, -5.21483123e-02, -2.13236380e-02,\n",
       "         1.69848069e-03, -1.90654267e-02,  1.74569059e-02,\n",
       "        -4.06225733e-02,  3.07096690e-02, -2.79684458e-02,\n",
       "         6.59806803e-02, -1.48024522e-02,  1.33526290e-03,\n",
       "        -2.70671621e-02,  1.41108008e-02, -2.43287273e-02,\n",
       "         3.83165739e-02,  3.90497074e-02, -2.17945222e-02,\n",
       "        -5.71070760e-02, -2.54195090e-02, -2.95281988e-02,\n",
       "        -7.01527372e-02, -1.23891840e-02,  7.71651044e-02,\n",
       "        -2.13831756e-02,  3.42746340e-02, -1.11373176e-03,\n",
       "        -1.67403035e-02, -1.86829374e-03,  8.42642933e-02,\n",
       "         7.08534047e-02,  2.25348081e-02, -1.86415464e-02,\n",
       "         1.85387861e-02, -1.18539473e-02,  2.38675997e-02,\n",
       "        -3.24039161e-03,  3.96440737e-02, -7.33123943e-02,\n",
       "         6.15533330e-02,  1.64661501e-02, -4.95727398e-02,\n",
       "        -7.62018040e-02, -1.31179988e-02, -7.27406004e-03,\n",
       "        -7.24223116e-03, -2.30181683e-02, -2.52807103e-02,\n",
       "         2.76963394e-02, -5.34347482e-02,  3.15630771e-02,\n",
       "         5.09424210e-02,  7.69292761e-04,  1.02368519e-02,\n",
       "        -7.31434152e-02,  5.88838533e-02, -2.00301465e-02,\n",
       "         3.68370190e-02, -3.13595608e-02,  1.19707629e-01,\n",
       "         2.78771725e-02,  2.06118580e-02,  9.11727140e-04,\n",
       "         7.89248198e-03, -2.50085232e-05, -2.14640331e-02,\n",
       "         3.16337049e-02,  1.36188802e-03,  5.51529564e-02,\n",
       "        -4.80954535e-02,  6.05497584e-02,  4.12595011e-02,\n",
       "        -4.05023284e-02,  3.42740230e-02, -7.51877278e-02,\n",
       "         5.15792072e-02, -6.05726391e-02,  5.00469282e-02,\n",
       "        -3.41899283e-02, -6.76746713e-03, -2.76461914e-02,\n",
       "         1.99498292e-02, -4.10592183e-02,  5.60528748e-02,\n",
       "        -4.10512015e-02, -2.30397023e-02,  5.89821488e-03,\n",
       "        -1.50854671e-02, -8.54231715e-02,  1.85389500e-02,\n",
       "         4.14081328e-02, -1.16818945e-03,  1.76584590e-02,\n",
       "         6.32387176e-02,  3.99371721e-02,  5.50193004e-02,\n",
       "         5.93875311e-02,  1.17593296e-01, -1.64951081e-03,\n",
       "         1.00863509e-01, -2.84569990e-02, -2.31468081e-02,\n",
       "         2.91044340e-02,  2.93157026e-02, -1.88675504e-02,\n",
       "        -6.68218806e-02, -2.86957938e-02,  3.92512754e-02,\n",
       "        -6.38630614e-02,  1.86957810e-02, -1.64772812e-02,\n",
       "         1.27588147e-02,  4.10768799e-02,  3.74627784e-02,\n",
       "         4.56668772e-02, -4.88404445e-02,  1.02132661e-02,\n",
       "        -1.48991961e-02, -5.02201542e-02, -3.77601087e-02,\n",
       "        -7.24498779e-02, -1.13351353e-01, -3.99860702e-02,\n",
       "         1.54167339e-02, -9.80288535e-03,  1.55677907e-02,\n",
       "         4.20811474e-02, -1.05390390e-02,  9.76550281e-02,\n",
       "         7.66040981e-02, -2.12882850e-02, -1.03746476e-02,\n",
       "         3.06673977e-03, -2.31243111e-02,  4.71487492e-02,\n",
       "         2.71393172e-02,  1.17077092e-02,  4.41620417e-04,\n",
       "         6.33928627e-02,  5.47178574e-02,  6.07121810e-02,\n",
       "        -5.10054408e-03,  3.82338651e-02, -4.57787365e-02,\n",
       "        -3.56610566e-02,  1.96340829e-02,  1.89676434e-02,\n",
       "        -7.40539096e-03, -3.51071940e-03, -3.09706256e-02,\n",
       "         7.00677708e-02, -3.40054780e-02, -3.74205597e-02,\n",
       "        -1.33606372e-02,  4.67252992e-02, -3.18871811e-02,\n",
       "        -1.23246545e-02, -5.94144762e-02, -3.23564075e-02,\n",
       "        -2.08347309e-02,  6.51037768e-02, -2.45331246e-02,\n",
       "         4.78536561e-02,  3.89103740e-02, -4.65981662e-02,\n",
       "        -3.48417759e-02, -1.79979159e-03, -3.09558399e-02,\n",
       "        -2.85957418e-02, -3.31986286e-02, -4.07665409e-02,\n",
       "         1.72494035e-02, -8.09211582e-02, -2.50043478e-02,\n",
       "        -1.45272519e-02,  8.04600492e-02,  6.07357472e-02,\n",
       "        -5.07947467e-02, -3.04793622e-02,  4.74818386e-02,\n",
       "         3.23773697e-02, -6.18932061e-02, -9.45275873e-02,\n",
       "        -4.03760821e-02, -9.63918641e-02,  3.25852856e-02,\n",
       "         2.07977835e-02,  5.46724908e-03,  7.73750767e-02,\n",
       "         3.84304263e-02,  1.93238154e-03, -7.12999627e-02,\n",
       "        -9.38421488e-02,  1.56393647e-02, -2.31966004e-02,\n",
       "        -8.18999857e-02,  4.61396389e-02, -1.38397040e-02,\n",
       "         2.64139343e-02, -6.19147569e-02,  2.88404338e-02,\n",
       "         1.48399686e-02,  1.01385728e-01, -1.22013930e-02,\n",
       "         1.91862893e-03, -4.80814315e-02,  6.21073041e-03,\n",
       "        -7.21124411e-02, -3.21130306e-02,  8.98907706e-03,\n",
       "         7.51606748e-02,  2.29106303e-02, -1.04172803e-01,\n",
       "         4.50428873e-02,  4.50667851e-02, -1.08142049e-05,\n",
       "         4.34818901e-02,  2.38663261e-03, -2.36633308e-02,\n",
       "        -8.57723691e-03,  2.50317063e-02,  2.72342972e-02,\n",
       "         4.07124609e-02, -3.38757634e-02,  6.76572546e-02,\n",
       "        -1.13900527e-02, -9.23650637e-02,  2.09351839e-03,\n",
       "         4.69434783e-02,  2.99558211e-02,  4.00438271e-02,\n",
       "         4.56242152e-02,  3.13039422e-02,  5.62919788e-02,\n",
       "        -1.97806638e-02, -1.85011979e-02, -1.06363529e-02,\n",
       "        -4.01181504e-02,  1.05624963e-02, -7.66008124e-02,\n",
       "         4.54471447e-02,  4.96492982e-02,  7.45853186e-02,\n",
       "        -7.49306157e-02,  4.13036384e-02, -1.56400818e-02,\n",
       "        -6.47710934e-02, -7.15671747e-04,  7.40339011e-02,\n",
       "         1.81499105e-02,  3.49188931e-02,  3.98398601e-02,\n",
       "         7.95385987e-02, -7.40946606e-02, -4.49017882e-02,\n",
       "        -8.92095715e-02, -1.49386534e-02, -2.46095862e-02,\n",
       "         3.29986699e-02, -3.40869837e-02, -4.24427651e-02,\n",
       "         2.44699273e-04, -4.29725647e-02,  7.13557675e-02,\n",
       "        -6.08004294e-02, -5.75686954e-02, -6.37207925e-02,\n",
       "        -6.03235662e-02,  3.97454053e-02,  5.31164296e-02,\n",
       "        -9.28805172e-02,  8.58108103e-02,  1.79744326e-02,\n",
       "        -6.17238209e-02,  3.25611271e-02, -9.95628349e-03,\n",
       "        -3.41665372e-02,  7.48241246e-02,  6.40802234e-02,\n",
       "        -3.70613672e-02,  4.24780697e-03, -4.02275883e-02,\n",
       "        -3.99073400e-02, -4.80347462e-02, -2.37225164e-02,\n",
       "         2.20928993e-02, -3.17395106e-02,  1.50435406e-03,\n",
       "        -3.59120071e-02,  8.78435969e-02, -7.09712924e-03,\n",
       "        -1.79248918e-02, -2.01706383e-02,  1.92504935e-02,\n",
       "         3.35673057e-02,  3.51996459e-02, -2.46825777e-02,\n",
       "         5.31047918e-02, -1.94412153e-02, -1.95044857e-02,\n",
       "        -1.30769731e-02, -1.06820501e-02, -2.39925943e-02,\n",
       "        -9.18770023e-03,  1.12321917e-02,  7.34342635e-02,\n",
       "        -9.02407691e-02,  3.39751095e-02,  3.14773880e-02,\n",
       "         2.46424917e-02, -1.20133590e-02,  9.94011946e-03,\n",
       "        -6.61355481e-02,  6.43982813e-02, -3.03731132e-02,\n",
       "        -3.54214609e-02, -4.56857532e-02, -6.81216419e-02,\n",
       "         3.80097069e-02,  7.95162749e-03, -3.51069681e-02,\n",
       "        -6.84794560e-02, -3.63048762e-02,  4.39337157e-02,\n",
       "        -7.41820559e-02, -4.64063026e-02,  4.91676033e-02,\n",
       "         1.06133129e-02,  3.26999314e-02, -5.92861176e-02,\n",
       "         1.09622525e-02,  3.69958654e-02,  2.32799035e-02,\n",
       "         3.82836014e-02,  1.87834203e-02, -3.28570977e-02,\n",
       "        -2.01213937e-02, -1.30230188e-02]], dtype=float32)"
      ]
     },
     "execution_count": 29,
     "metadata": {},
     "output_type": "execute_result"
    }
   ],
   "source": [
    "embed(['cccc this is our project. noooo']).numpy()"
   ]
  },
  {
   "cell_type": "code",
   "execution_count": 11,
   "metadata": {
    "id": "JyWm8JGrQudq"
   },
   "outputs": [],
   "source": [
    "def vectorize(df):\n",
    "    embeded_tweets = embed(df['tweet'].values.tolist()).numpy()\n",
    "    targets = df.sentiment.values\n",
    "    return embeded_tweets,targets\n",
    "\n",
    "embeded_tweets,targets = vectorize(df)\n"
   ]
  },
  {
   "cell_type": "markdown",
   "metadata": {
    "id": "v6STACvDb1V8"
   },
   "source": [
    "## Model "
   ]
  },
  {
   "cell_type": "code",
   "execution_count": 13,
   "metadata": {
    "id": "YSWCY-rWROvM"
   },
   "outputs": [],
   "source": [
    "model = Sequential()\n",
    "model.add(Input(shape=(512,),dtype='float32'))\n",
    "model.add(Dense(128, activation = 'relu'))\n",
    "model.add(Dense(64, activation = 'relu'))\n",
    "model.add(Dense(1, activation = 'sigmoid'))\n",
    "\n",
    "model.compile(loss='binary_crossentropy', \n",
    "              optimizer='adam',\n",
    "              metrics=['acc'])"
   ]
  },
  {
   "cell_type": "code",
   "execution_count": 14,
   "metadata": {
    "colab": {
     "base_uri": "https://localhost:8080/",
     "height": 255
    },
    "id": "g4Olr9e-aTUn",
    "outputId": "a296f381-39d8-43c1-b73e-8d70480c5689"
   },
   "outputs": [
    {
     "name": "stdout",
     "output_type": "stream",
     "text": [
      "Model: \"sequential\"\n",
      "_________________________________________________________________\n",
      "Layer (type)                 Output Shape              Param #   \n",
      "=================================================================\n",
      "dense (Dense)                (None, 128)               65664     \n",
      "_________________________________________________________________\n",
      "dense_1 (Dense)              (None, 64)                8256      \n",
      "_________________________________________________________________\n",
      "dense_2 (Dense)              (None, 1)                 65        \n",
      "=================================================================\n",
      "Total params: 73,985\n",
      "Trainable params: 73,985\n",
      "Non-trainable params: 0\n",
      "_________________________________________________________________\n"
     ]
    }
   ],
   "source": [
    "model.summary()"
   ]
  },
  {
   "cell_type": "markdown",
   "metadata": {
    "id": "qmb5gxutb3LB"
   },
   "source": [
    "## Train and evaluate"
   ]
  },
  {
   "cell_type": "code",
   "execution_count": 15,
   "metadata": {
    "colab": {
     "base_uri": "https://localhost:8080/",
     "height": 357
    },
    "id": "KA4jAlh8RXMA",
    "outputId": "374b22ca-e6ec-4b0a-cada-2d1d25d40010"
   },
   "outputs": [
    {
     "name": "stdout",
     "output_type": "stream",
     "text": [
      "Epoch 1/10\n",
      "900/900 [==============================] - 5s 5ms/step - loss: 0.4789 - acc: 0.7754 - val_loss: 0.4577 - val_acc: 0.7847\n",
      "Epoch 2/10\n",
      "900/900 [==============================] - 4s 5ms/step - loss: 0.4440 - acc: 0.7916 - val_loss: 0.4564 - val_acc: 0.7834\n",
      "Epoch 3/10\n",
      "900/900 [==============================] - 4s 5ms/step - loss: 0.4190 - acc: 0.8084 - val_loss: 0.4604 - val_acc: 0.7825\n",
      "Epoch 4/10\n",
      "900/900 [==============================] - 4s 5ms/step - loss: 0.3853 - acc: 0.8283 - val_loss: 0.4750 - val_acc: 0.7784\n",
      "Epoch 5/10\n",
      "900/900 [==============================] - 4s 5ms/step - loss: 0.3468 - acc: 0.8504 - val_loss: 0.4999 - val_acc: 0.7803\n",
      "Epoch 6/10\n",
      "900/900 [==============================] - 4s 5ms/step - loss: 0.3048 - acc: 0.8732 - val_loss: 0.5284 - val_acc: 0.7741\n",
      "Epoch 7/10\n",
      "900/900 [==============================] - 4s 5ms/step - loss: 0.2628 - acc: 0.8926 - val_loss: 0.6041 - val_acc: 0.7584\n",
      "Epoch 8/10\n",
      "900/900 [==============================] - 4s 5ms/step - loss: 0.2190 - acc: 0.9139 - val_loss: 0.6824 - val_acc: 0.7609\n",
      "Epoch 9/10\n",
      "900/900 [==============================] - 4s 5ms/step - loss: 0.1792 - acc: 0.9292 - val_loss: 0.7438 - val_acc: 0.7528\n",
      "Epoch 10/10\n",
      "900/900 [==============================] - 4s 5ms/step - loss: 0.1454 - acc: 0.9464 - val_loss: 0.8897 - val_acc: 0.7500\n"
     ]
    }
   ],
   "source": [
    "num_epochs = 10\n",
    "batch_size = 32   ## 2^x\n",
    "\n",
    "history = model.fit(embeded_tweets, \n",
    "                    targets, \n",
    "                    epochs=num_epochs, \n",
    "                    validation_split=0.1, \n",
    "                    shuffle=True,\n",
    "                    batch_size=batch_size)"
   ]
  },
  {
   "cell_type": "code",
   "execution_count": 20,
   "metadata": {
    "colab": {
     "base_uri": "https://localhost:8080/",
     "height": 312
    },
    "id": "1T-HYOoORnId",
    "outputId": "b5696b5f-9bea-4893-bc9e-567c4fc69885"
   },
   "outputs": [
    {
     "data": {
      "text/plain": [
       "<matplotlib.legend.Legend at 0x7fddedc8e3c8>"
      ]
     },
     "execution_count": 20,
     "metadata": {},
     "output_type": "execute_result"
    },
    {
     "data": {
      "image/png": "[encoded data removed]",
      "text/plain": [
       "<Figure size 432x288 with 1 Axes>"
      ]
     },
     "metadata": {
      "needs_background": "light"
     },
     "output_type": "display_data"
    }
   ],
   "source": [
    "\n",
    "\n",
    "plt.plot(history.history['acc'])\n",
    "plt.plot(history.history['val_acc'])\n",
    "plt.title('model accuracy') \n",
    "plt.ylabel('accuracy')\n",
    "plt.xlabel('epoch')\n",
    "plt.legend(['train', 'test'], loc='upper left')\n"
   ]
  },
  {
   "cell_type": "markdown",
   "metadata": {
    "id": "MyS_XFoW5nEB"
   },
   "source": [
    "## Compare results\n"
   ]
  },
  {
   "cell_type": "code",
   "execution_count": 21,
   "metadata": {
    "id": "wK7GAJI79bAZ"
   },
   "outputs": [],
   "source": [
    "from sklearn.metrics import accuracy_score"
   ]
  },
  {
   "cell_type": "markdown",
   "metadata": {
    "id": "1N09gLKI9pkN"
   },
   "source": [
    "## Custom Model "
   ]
  },
  {
   "cell_type": "code",
   "execution_count": 22,
   "metadata": {
    "colab": {
     "base_uri": "https://localhost:8080/",
     "height": 34
    },
    "id": "urRElzmh5pnD",
    "outputId": "23e6b27c-d50a-47c8-8a5b-fbb88cadab0c"
   },
   "outputs": [
    {
     "data": {
      "text/plain": [
       "49.737500000000004"
      ]
     },
     "execution_count": 22,
     "metadata": {},
     "output_type": "execute_result"
    }
   ],
   "source": [
    "embed_test,targets = vectorize(df_test)\n",
    "predictions = model.predict(embed_test).astype(int)\n",
    "accuracy_score(predictions,targets)*100"
   ]
  },
  {
   "cell_type": "markdown",
   "metadata": {
    "id": "xRvluLpf7CKx"
   },
   "source": [
    "## Textblob"
   ]
  },
  {
   "cell_type": "code",
   "execution_count": null,
   "metadata": {
    "id": "orwerM864jFq"
   },
   "outputs": [],
   "source": [
    "!pip install -q textblob "
   ]
  },
  {
   "cell_type": "code",
   "execution_count": 23,
   "metadata": {
    "colab": {
     "base_uri": "https://localhost:8080/",
     "height": 34
    },
    "id": "1LXpNeLBZLOV",
    "outputId": "fab74d34-35b6-4005-b604-9dbd8b5693e4"
   },
   "outputs": [
    {
     "data": {
      "text/plain": [
       "0.55375"
      ]
     },
     "execution_count": 23,
     "metadata": {},
     "output_type": "execute_result"
    }
   ],
   "source": [
    "from textblob import TextBlob\n",
    "\n",
    "def text_sentiment(text):\n",
    "    testimonial = TextBlob(text)\n",
    "    return int(testimonial.sentiment.polarity>0.5)\n",
    "\n",
    "predictions = df_test.tweet.map(lambda x :  text_sentiment(x))\n",
    "accuracy_score(predictions,targets)"
   ]
  },
  {
   "cell_type": "code",
   "execution_count": 24,
   "metadata": {
    "colab": {
     "base_uri": "https://localhost:8080/",
     "height": 34
    },
    "id": "c8qJNgCb5FdG",
    "outputId": "bcc55fd8-610f-4c74-ee3b-d7fc8863ef1e"
   },
   "outputs": [
    {
     "ename": "NameError",
     "evalue": "name 'analyzer' is not defined",
     "output_type": "error",
     "traceback": [
      "\u001b[0;31m---------------------------------------------------------------------------\u001b[0m",
      "\u001b[0;31mNameError\u001b[0m                                 Traceback (most recent call last)",
      "\u001b[0;32m<ipython-input-24-3ed6e6ea1ed2>\u001b[0m in \u001b[0;36m<module>\u001b[0;34m\u001b[0m\n\u001b[0;32m----> 1\u001b[0;31m \u001b[0manalyzer\u001b[0m\u001b[0;34m.\u001b[0m\u001b[0mpolarity_scores\u001b[0m\u001b[0;34m(\u001b[0m\u001b[0;34m\"The food as great!\"\u001b[0m\u001b[0;34m)\u001b[0m\u001b[0;34m\u001b[0m\u001b[0;34m\u001b[0m\u001b[0m\n\u001b[0m",
      "\u001b[0;31mNameError\u001b[0m: name 'analyzer' is not defined"
     ]
    }
   ],
   "source": [
    "analyzer.polarity_scores(\"The food as great!\")"
   ]
  },
  {
   "cell_type": "markdown",
   "metadata": {
    "id": "987jLeMJ69CI"
   },
   "source": [
    "## Vader"
   ]
  },
  {
   "cell_type": "code",
   "execution_count": null,
   "metadata": {
    "colab": {
     "base_uri": "https://localhost:8080/",
     "height": 34
    },
    "id": "WYHLek536tOg",
    "outputId": "4b3424f7-5620-4848-8d37-8a1074614c56"
   },
   "outputs": [
    {
     "name": "stdout",
     "output_type": "stream",
     "text": [
      "\u001b[?25l\r",
      "\u001b[K     |██▋                             | 10kB 34.3MB/s eta 0:00:01\r",
      "\u001b[K     |█████▏                          | 20kB 6.8MB/s eta 0:00:01\r",
      "\u001b[K     |███████▉                        | 30kB 7.6MB/s eta 0:00:01\r",
      "\u001b[K     |██████████▍                     | 40kB 8.5MB/s eta 0:00:01\r",
      "\u001b[K     |█████████████                   | 51kB 7.0MB/s eta 0:00:01\r",
      "\u001b[K     |███████████████▋                | 61kB 8.3MB/s eta 0:00:01\r",
      "\u001b[K     |██████████████████▏             | 71kB 9.0MB/s eta 0:00:01\r",
      "\u001b[K     |████████████████████▉           | 81kB 9.7MB/s eta 0:00:01\r",
      "\u001b[K     |███████████████████████▍        | 92kB 10.6MB/s eta 0:00:01\r",
      "\u001b[K     |██████████████████████████      | 102kB 9.5MB/s eta 0:00:01\r",
      "\u001b[K     |████████████████████████████▋   | 112kB 9.5MB/s eta 0:00:01\r",
      "\u001b[K     |███████████████████████████████▏| 122kB 9.5MB/s eta 0:00:01\r",
      "\u001b[K     |████████████████████████████████| 133kB 9.5MB/s \n",
      "\u001b[?25h"
     ]
    }
   ],
   "source": [
    "pip install -q vaderSentiment"
   ]
  },
  {
   "cell_type": "code",
   "execution_count": 25,
   "metadata": {
    "id": "Yvsz6nEo7e0s"
   },
   "outputs": [],
   "source": [
    "from vaderSentiment.vaderSentiment import SentimentIntensityAnalyzer\n",
    "analyzer = SentimentIntensityAnalyzer()\n",
    "\n",
    "def text_sentiment_vader(text):\n",
    " vs = analyzer.polarity_scores(text)\n",
    " return int(vs.get(\"compound\")>0)\n",
    " \n",
    " predictions = df_test.tweet.map(lambda x : text_sentiment_vader(x))\n"
   ]
  },
  {
   "cell_type": "code",
   "execution_count": 26,
   "metadata": {
    "colab": {
     "base_uri": "https://localhost:8080/",
     "height": 34
    },
    "id": "NXLEFnXt-sby",
    "outputId": "fe03f32a-b8cd-4b05-86c2-28da53897088"
   },
   "outputs": [
    {
     "data": {
      "text/plain": [
       "0.55375"
      ]
     },
     "execution_count": 26,
     "metadata": {},
     "output_type": "execute_result"
    }
   ],
   "source": [
    " accuracy_score(predictions.values,targets)"
   ]
  },
  {
   "cell_type": "markdown",
   "metadata": {
    "id": "zFoaXG7gsQou"
   },
   "source": [
    "## Flair"
   ]
  },
  {
   "cell_type": "code",
   "execution_count": null,
   "metadata": {
    "colab": {
     "base_uri": "https://localhost:8080/",
     "height": 1000
    },
    "id": "Cu0mFBnlrhir",
    "outputId": "7ef9732f-5982-47b9-e383-92375400f5e5"
   },
   "outputs": [
    {
     "name": "stdout",
     "output_type": "stream",
     "text": [
      "Collecting flair\n",
      "\u001b[?25l  Downloading https://files.pythonhosted.org/packages/cd/19/902d1691c1963ab8c9a9578abc2d65c63aa1ecf4f8200143b5ef91ace6f5/flair-0.6.1-py3-none-any.whl (331kB)\n",
      "\u001b[K     |████████████████████████████████| 337kB 2.8MB/s \n",
      "\u001b[?25hRequirement already satisfied: gensim>=3.4.0 in /usr/local/lib/python3.6/dist-packages (from flair) (3.6.0)\n",
      "Collecting transformers>=3.0.0\n",
      "\u001b[?25l  Downloading https://files.pythonhosted.org/packages/19/22/aff234f4a841f8999e68a7a94bdd4b60b4cebcfeca5d67d61cd08c9179de/transformers-3.3.1-py3-none-any.whl (1.1MB)\n",
      "\u001b[K     |████████████████████████████████| 1.1MB 13.0MB/s \n",
      "\u001b[?25hCollecting segtok>=1.5.7\n",
      "  Downloading https://files.pythonhosted.org/packages/41/08/582dab5f4b1d5ca23bc6927b4bb977c8ff7f3a87a3b98844ef833e2f5623/segtok-1.5.10.tar.gz\n",
      "Requirement already satisfied: tqdm>=4.26.0 in /usr/local/lib/python3.6/dist-packages (from flair) (4.41.1)\n",
      "Requirement already satisfied: torch>=1.1.0 in /usr/local/lib/python3.6/dist-packages (from flair) (1.6.0+cu101)\n",
      "Requirement already satisfied: scikit-learn>=0.21.3 in /usr/local/lib/python3.6/dist-packages (from flair) (0.22.2.post1)\n",
      "Requirement already satisfied: matplotlib>=2.2.3 in /usr/local/lib/python3.6/dist-packages (from flair) (3.2.2)\n",
      "Collecting sqlitedict>=1.6.0\n",
      "  Downloading https://files.pythonhosted.org/packages/5c/2d/b1d99e9ad157dd7de9cd0d36a8a5876b13b55e4b75f7498bc96035fb4e96/sqlitedict-1.7.0.tar.gz\n",
      "Requirement already satisfied: tabulate in /usr/local/lib/python3.6/dist-packages (from flair) (0.8.7)\n",
      "Collecting janome\n",
      "\u001b[?25l  Downloading https://files.pythonhosted.org/packages/a8/63/98858cbead27df7536c7e300c169da0999e9704d02220dc6700b804eeff0/Janome-0.4.1-py2.py3-none-any.whl (19.7MB)\n",
      "\u001b[K     |████████████████████████████████| 19.7MB 1.2MB/s \n",
      "\u001b[?25hCollecting pytest>=5.3.2\n",
      "\u001b[?25l  Downloading https://files.pythonhosted.org/packages/d6/36/9e022b76a3ac440e1d750c64fa6152469f988efe0c568b945e396e2693b5/pytest-6.1.1-py3-none-any.whl (272kB)\n",
      "\u001b[K     |████████████████████████████████| 276kB 48.2MB/s \n",
      "\u001b[?25hCollecting sentencepiece!=0.1.92\n",
      "\u001b[?25l  Downloading https://files.pythonhosted.org/packages/d4/a4/d0a884c4300004a78cca907a6ff9a5e9fe4f090f5d95ab341c53d28cbc58/sentencepiece-0.1.91-cp36-cp36m-manylinux1_x86_64.whl (1.1MB)\n",
      "\u001b[K     |████████████████████████████████| 1.1MB 47.7MB/s \n",
      "\u001b[?25hCollecting deprecated>=1.2.4\n",
      "  Downloading https://files.pythonhosted.org/packages/76/a1/05d7f62f956d77b23a640efc650f80ce24483aa2f85a09c03fb64f49e879/Deprecated-1.2.10-py2.py3-none-any.whl\n",
      "Requirement already satisfied: gdown in /usr/local/lib/python3.6/dist-packages (from flair) (3.6.4)\n",
      "Collecting mpld3==0.3\n",
      "\u001b[?25l  Downloading https://files.pythonhosted.org/packages/91/95/a52d3a83d0a29ba0d6898f6727e9858fe7a43f6c2ce81a5fe7e05f0f4912/mpld3-0.3.tar.gz (788kB)\n",
      "\u001b[K     |████████████████████████████████| 798kB 41.8MB/s \n",
      "\u001b[?25hCollecting ftfy\n",
      "\u001b[?25l  Downloading https://files.pythonhosted.org/packages/ff/e2/3b51c53dffb1e52d9210ebc01f1fb9f2f6eba9b3201fa971fd3946643c71/ftfy-5.8.tar.gz (64kB)\n",
      "\u001b[K     |████████████████████████████████| 71kB 9.1MB/s \n",
      "\u001b[?25hRequirement already satisfied: regex in /usr/local/lib/python3.6/dist-packages (from flair) (2019.12.20)\n",
      "Requirement already satisfied: lxml in /usr/local/lib/python3.6/dist-packages (from flair) (4.2.6)\n",
      "Requirement already satisfied: python-dateutil>=2.6.1 in /usr/local/lib/python3.6/dist-packages (from flair) (2.8.1)\n",
      "Collecting langdetect\n",
      "\u001b[?25l  Downloading https://files.pythonhosted.org/packages/56/a3/8407c1e62d5980188b4acc45ef3d94b933d14a2ebc9ef3505f22cf772570/langdetect-1.0.8.tar.gz (981kB)\n",
      "\u001b[K     |████████████████████████████████| 983kB 43.8MB/s \n",
      "\u001b[?25hRequirement already satisfied: hyperopt>=0.1.1 in /usr/local/lib/python3.6/dist-packages (from flair) (0.1.2)\n",
      "Collecting konoha<5.0.0,>=4.0.0\n",
      "  Downloading https://files.pythonhosted.org/packages/ea/01/47358efec5396fc80f98273c42cbdfe7aab056252b07884ffcc0f118978f/konoha-4.6.2-py3-none-any.whl\n",
      "Collecting bpemb>=0.3.2\n",
      "  Downloading https://files.pythonhosted.org/packages/91/77/3f0f53856e86af32b1d3c86652815277f7b5f880002584eb30db115b6df5/bpemb-0.3.2-py3-none-any.whl\n",
      "Requirement already satisfied: six>=1.5.0 in /usr/local/lib/python3.6/dist-packages (from gensim>=3.4.0->flair) (1.15.0)\n",
      "Requirement already satisfied: numpy>=1.11.3 in /usr/local/lib/python3.6/dist-packages (from gensim>=3.4.0->flair) (1.18.5)\n",
      "Requirement already satisfied: smart-open>=1.2.1 in /usr/local/lib/python3.6/dist-packages (from gensim>=3.4.0->flair) (2.2.0)\n",
      "Requirement already satisfied: scipy>=0.18.1 in /usr/local/lib/python3.6/dist-packages (from gensim>=3.4.0->flair) (1.4.1)\n",
      "Collecting tokenizers==0.8.1.rc2\n",
      "\u001b[?25l  Downloading https://files.pythonhosted.org/packages/80/83/8b9fccb9e48eeb575ee19179e2bdde0ee9a1904f97de5f02d19016b8804f/tokenizers-0.8.1rc2-cp36-cp36m-manylinux1_x86_64.whl (3.0MB)\n",
      "\u001b[K     |████████████████████████████████| 3.0MB 46.2MB/s \n",
      "\u001b[?25hRequirement already satisfied: packaging in /usr/local/lib/python3.6/dist-packages (from transformers>=3.0.0->flair) (20.4)\n",
      "Collecting sacremoses\n",
      "\u001b[?25l  Downloading https://files.pythonhosted.org/packages/7d/34/09d19aff26edcc8eb2a01bed8e98f13a1537005d31e95233fd48216eed10/sacremoses-0.0.43.tar.gz (883kB)\n",
      "\u001b[K     |████████████████████████████████| 890kB 39.0MB/s \n",
      "\u001b[?25hRequirement already satisfied: dataclasses; python_version < \"3.7\" in /usr/local/lib/python3.6/dist-packages (from transformers>=3.0.0->flair) (0.7)\n",
      "Requirement already satisfied: requests in /usr/local/lib/python3.6/dist-packages (from transformers>=3.0.0->flair) (2.23.0)\n",
      "Requirement already satisfied: filelock in /usr/local/lib/python3.6/dist-packages (from transformers>=3.0.0->flair) (3.0.12)\n",
      "Requirement already satisfied: future in /usr/local/lib/python3.6/dist-packages (from torch>=1.1.0->flair) (0.16.0)\n",
      "Requirement already satisfied: joblib>=0.11 in /usr/local/lib/python3.6/dist-packages (from scikit-learn>=0.21.3->flair) (0.16.0)\n",
      "Requirement already satisfied: pyparsing!=2.0.4,!=2.1.2,!=2.1.6,>=2.0.1 in /usr/local/lib/python3.6/dist-packages (from matplotlib>=2.2.3->flair) (2.4.7)\n",
      "Requirement already satisfied: kiwisolver>=1.0.1 in /usr/local/lib/python3.6/dist-packages (from matplotlib>=2.2.3->flair) (1.2.0)\n",
      "Requirement already satisfied: cycler>=0.10 in /usr/local/lib/python3.6/dist-packages (from matplotlib>=2.2.3->flair) (0.10.0)\n",
      "Collecting pluggy<1.0,>=0.12\n",
      "  Downloading https://files.pythonhosted.org/packages/a0/28/85c7aa31b80d150b772fbe4a229487bc6644da9ccb7e427dd8cc60cb8a62/pluggy-0.13.1-py2.py3-none-any.whl\n",
      "Requirement already satisfied: importlib-metadata>=0.12; python_version < \"3.8\" in /usr/local/lib/python3.6/dist-packages (from pytest>=5.3.2->flair) (2.0.0)\n",
      "Requirement already satisfied: iniconfig in /usr/local/lib/python3.6/dist-packages (from pytest>=5.3.2->flair) (1.0.1)\n",
      "Requirement already satisfied: toml in /usr/local/lib/python3.6/dist-packages (from pytest>=5.3.2->flair) (0.10.1)\n",
      "Requirement already satisfied: py>=1.8.2 in /usr/local/lib/python3.6/dist-packages (from pytest>=5.3.2->flair) (1.9.0)\n",
      "Requirement already satisfied: attrs>=17.4.0 in /usr/local/lib/python3.6/dist-packages (from pytest>=5.3.2->flair) (20.2.0)\n",
      "Requirement already satisfied: wrapt<2,>=1.10 in /usr/local/lib/python3.6/dist-packages (from deprecated>=1.2.4->flair) (1.12.1)\n",
      "Requirement already satisfied: wcwidth in /usr/local/lib/python3.6/dist-packages (from ftfy->flair) (0.2.5)\n",
      "Requirement already satisfied: networkx in /usr/local/lib/python3.6/dist-packages (from hyperopt>=0.1.1->flair) (2.5)\n",
      "Requirement already satisfied: pymongo in /usr/local/lib/python3.6/dist-packages (from hyperopt>=0.1.1->flair) (3.11.0)\n",
      "Collecting overrides==3.0.0\n",
      "  Downloading https://files.pythonhosted.org/packages/42/8d/caa729f809ecdf8e76fac3c1ff7d3f0b72c398c9dd8a6919927a30a873b3/overrides-3.0.0.tar.gz\n",
      "Requirement already satisfied: click in /usr/local/lib/python3.6/dist-packages (from sacremoses->transformers>=3.0.0->flair) (7.1.2)\n",
      "Requirement already satisfied: chardet<4,>=3.0.2 in /usr/local/lib/python3.6/dist-packages (from requests->transformers>=3.0.0->flair) (3.0.4)\n",
      "Requirement already satisfied: urllib3!=1.25.0,!=1.25.1,<1.26,>=1.21.1 in /usr/local/lib/python3.6/dist-packages (from requests->transformers>=3.0.0->flair) (1.24.3)\n",
      "Requirement already satisfied: idna<3,>=2.5 in /usr/local/lib/python3.6/dist-packages (from requests->transformers>=3.0.0->flair) (2.10)\n",
      "Requirement already satisfied: certifi>=2017.4.17 in /usr/local/lib/python3.6/dist-packages (from requests->transformers>=3.0.0->flair) (2020.6.20)\n",
      "Requirement already satisfied: zipp>=0.5 in /usr/local/lib/python3.6/dist-packages (from importlib-metadata>=0.12; python_version < \"3.8\"->pytest>=5.3.2->flair) (3.2.0)\n",
      "Requirement already satisfied: decorator>=4.3.0 in /usr/local/lib/python3.6/dist-packages (from networkx->hyperopt>=0.1.1->flair) (4.4.2)\n",
      "Building wheels for collected packages: segtok, sqlitedict, mpld3, ftfy, langdetect, sacremoses, overrides\n",
      "  Building wheel for segtok (setup.py) ... \u001b[?25l\u001b[?25hdone\n",
      "  Created wheel for segtok: filename=segtok-1.5.10-cp36-none-any.whl size=25021 sha256=cf47a3857790931cc2e5d624ea7bf233b3524bcabb924d133dbf76a2403dc921\n",
      "  Stored in directory: /root/.cache/pip/wheels/b4/39/f6/9ca1c5cabde964d728023b5751c3a206a5c8cc40252321fb6b\n",
      "  Building wheel for sqlitedict (setup.py) ... \u001b[?25l\u001b[?25hdone\n",
      "  Created wheel for sqlitedict: filename=sqlitedict-1.7.0-cp36-none-any.whl size=14377 sha256=145c5230dc506b01f398b0d14568379c037aa1e5d9e8cd27300d09d554c1afa5\n",
      "  Stored in directory: /root/.cache/pip/wheels/cf/c6/4f/2c64a43f041415eb8b8740bd80e15e92f0d46c5e464d8e4b9b\n",
      "  Building wheel for mpld3 (setup.py) ... \u001b[?25l\u001b[?25hdone\n",
      "  Created wheel for mpld3: filename=mpld3-0.3-cp36-none-any.whl size=116677 sha256=522b05f7e39120663238f0d26a5290533fb797073cdb778924bf515c2163d2a4\n",
      "  Stored in directory: /root/.cache/pip/wheels/c0/47/fb/8a64f89aecfe0059830479308ad42d62e898a3e3cefdf6ba28\n",
      "  Building wheel for ftfy (setup.py) ... \u001b[?25l\u001b[?25hdone\n",
      "  Created wheel for ftfy: filename=ftfy-5.8-cp36-none-any.whl size=45612 sha256=f090b605f421b0836e5415dcf0967e4f8922526daa89d22e419f0c9b8ba4c7a3\n",
      "  Stored in directory: /root/.cache/pip/wheels/ba/c0/ef/f28c4da5ac84a4e06ac256ca9182fc34fa57fefffdbc68425b\n",
      "  Building wheel for langdetect (setup.py) ... \u001b[?25l\u001b[?25hdone\n",
      "  Created wheel for langdetect: filename=langdetect-1.0.8-cp36-none-any.whl size=993195 sha256=2d33dcde18fa49174c793112aad2aa6df0262210394f3acf14b03c62aeb960de\n",
      "  Stored in directory: /root/.cache/pip/wheels/8d/b3/aa/6d99de9f3841d7d3d40a60ea06e6d669e8e5012e6c8b947a57\n",
      "  Building wheel for sacremoses (setup.py) ... \u001b[?25l\u001b[?25hdone\n",
      "  Created wheel for sacremoses: filename=sacremoses-0.0.43-cp36-none-any.whl size=893257 sha256=858d3538d4c20d3ca9c991a2d0b5357897770ba255ff905120ce8509b3c9abc9\n",
      "  Stored in directory: /root/.cache/pip/wheels/29/3c/fd/7ce5c3f0666dab31a50123635e6fb5e19ceb42ce38d4e58f45\n",
      "  Building wheel for overrides (setup.py) ... \u001b[?25l\u001b[?25hdone\n",
      "  Created wheel for overrides: filename=overrides-3.0.0-cp36-none-any.whl size=5669 sha256=df0d9138d2bd03fd5e23b80aaba93063fb40aa1bfe65ae8444f80bf523f20275\n",
      "  Stored in directory: /root/.cache/pip/wheels/6f/1b/ec/6c71a1eb823df7f850d956b2d8c50a6d49c191e1063d73b9be\n",
      "Successfully built segtok sqlitedict mpld3 ftfy langdetect sacremoses overrides\n",
      "\u001b[31mERROR: datascience 0.10.6 has requirement folium==0.2.1, but you'll have folium 0.8.3 which is incompatible.\u001b[0m\n",
      "Installing collected packages: tokenizers, sacremoses, sentencepiece, transformers, segtok, sqlitedict, janome, pluggy, pytest, deprecated, mpld3, ftfy, langdetect, overrides, konoha, bpemb, flair\n",
      "  Found existing installation: pluggy 0.7.1\n",
      "    Uninstalling pluggy-0.7.1:\n",
      "      Successfully uninstalled pluggy-0.7.1\n",
      "  Found existing installation: pytest 3.6.4\n",
      "    Uninstalling pytest-3.6.4:\n",
      "      Successfully uninstalled pytest-3.6.4\n",
      "Successfully installed bpemb-0.3.2 deprecated-1.2.10 flair-0.6.1 ftfy-5.8 janome-0.4.1 konoha-4.6.2 langdetect-1.0.8 mpld3-0.3 overrides-3.0.0 pluggy-0.13.1 pytest-6.1.1 sacremoses-0.0.43 segtok-1.5.10 sentencepiece-0.1.91 sqlitedict-1.7.0 tokenizers-0.8.1rc2 transformers-3.3.1\n"
     ]
    }
   ],
   "source": [
    "!pip install -q flair "
   ]
  },
  {
   "cell_type": "code",
   "execution_count": 27,
   "metadata": {
    "colab": {
     "base_uri": "https://localhost:8080/",
     "height": 51
    },
    "id": "tIdJp01PsbGT",
    "outputId": "a2b8a631-064e-4566-d997-bbfa443074c8"
   },
   "outputs": [
    {
     "name": "stdout",
     "output_type": "stream",
     "text": [
      "2022-01-19 14:58:16,393 loading file /home/cdsw/.flair/models/sentiment-en-mix-distillbert_4.pt\n"
     ]
    }
   ],
   "source": [
    "from flair.models import TextClassifier\n",
    "from flair.data import Sentence\n",
    "classifier = TextClassifier.load('en-sentiment')\n",
    "\n",
    "def text_sentiment_flair(text):\n",
    "  sentence = Sentence(text)\n",
    "  classifier.predict(sentence)\n",
    "  return np.round(sentence.labels[0].score)\n",
    "\n",
    "predictions = df_test.tweet.map(lambda x : text_sentiment_flair(x))\n"
   ]
  },
  {
   "cell_type": "code",
   "execution_count": 28,
   "metadata": {
    "colab": {
     "base_uri": "https://localhost:8080/",
     "height": 34
    },
    "id": "nqMdswwQs93e",
    "outputId": "ff27909b-1cef-4592-e0ff-e3afd374866c"
   },
   "outputs": [
    {
     "data": {
      "text/plain": [
       "0.50375"
      ]
     },
     "execution_count": 28,
     "metadata": {},
     "output_type": "execute_result"
    }
   ],
   "source": [
    "accuracy_score(predictions.values,targets)\n"
   ]
  },
  {
   "cell_type": "code",
   "execution_count": null,
   "metadata": {
    "colab": {
     "base_uri": "https://localhost:8080/",
     "height": 34
    },
    "id": "uUel7lkF3jkb",
    "outputId": "54b0fed9-c80d-4035-a9d9-b0202a614fa6"
   },
   "outputs": [
    {
     "data": {
      "text/plain": [
       "[POSITIVE (0.9961)]"
      ]
     },
     "execution_count": 74,
     "metadata": {
      "tags": []
     },
     "output_type": "execute_result"
    }
   ],
   "source": [
    "sentence=Sentence(\"The food was great!\")\n",
    "classifier.predict(sentence)\n",
    "sentence.labels"
   ]
  },
  {
   "cell_type": "code",
   "execution_count": null,
   "metadata": {
    "id": "l8pxqi6x5p38"
   },
   "outputs": [],
   "source": []
  }
 ],
 "metadata": {
  "colab": {
   "collapsed_sections": [],
   "name": "Sentiment analysis  USE.ipynb",
   "provenance": [],
   "toc_visible": true
  },
  "kernelspec": {
   "display_name": "Python 3",
   "language": "python",
   "name": "python3"
  },
  "language_info": {
   "codemirror_mode": {
    "name": "ipython",
    "version": 3
   },
   "file_extension": ".py",
   "mimetype": "text/x-python",
   "name": "python",
   "nbconvert_exporter": "python",
   "pygments_lexer": "ipython3",
   "version": "3.6.10"
  }
 },
 "nbformat": 4,
 "nbformat_minor": 1
}
