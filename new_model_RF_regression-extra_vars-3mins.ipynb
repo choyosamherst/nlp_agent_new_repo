{
 "cells": [
  {
   "cell_type": "code",
   "execution_count": 1,
   "metadata": {},
   "outputs": [],
   "source": [
    "from sklearn.ensemble import RandomForestRegressor\n",
    "from sklearn.datasets import make_regression\n",
    "\n",
    "import pandas as pd\n",
    "import numpy as np\n",
    "import matplotlib.pyplot as plt\n",
    "\n",
    "\n",
    "from sklearn.datasets import make_classification\n",
    "from sklearn.model_selection import train_test_split\n",
    "\n",
    "from sklearn.ensemble import RandomForestClassifier\n",
    "\n",
    "from sklearn.preprocessing import MinMaxScaler\n"
   ]
  },
  {
   "cell_type": "code",
   "execution_count": 2,
   "metadata": {},
   "outputs": [],
   "source": [
    "import seaborn as sns\n",
    "sns.set_style(\"whitegrid\")"
   ]
  },
  {
   "cell_type": "code",
   "execution_count": null,
   "metadata": {},
   "outputs": [],
   "source": []
  },
  {
   "cell_type": "code",
   "execution_count": null,
   "metadata": {},
   "outputs": [],
   "source": []
  },
  {
   "cell_type": "code",
   "execution_count": 3,
   "metadata": {},
   "outputs": [],
   "source": [
    "noun_sentence_df_final_joined_df_selected_columns_use_min = pd.\\\n",
    "    read_feather('noun_sentence_df_final_joined_df_selected_columns_use_min_all.fea')"
   ]
  },
  {
   "cell_type": "code",
   "execution_count": 4,
   "metadata": {},
   "outputs": [],
   "source": [
    "noun_sentence_df_final_joined_df_selected_columns_use = noun_sentence_df_final_joined_df_selected_columns_use_min"
   ]
  },
  {
   "cell_type": "code",
   "execution_count": 5,
   "metadata": {},
   "outputs": [
    {
     "data": {
      "text/plain": [
       "464818"
      ]
     },
     "execution_count": 5,
     "metadata": {},
     "output_type": "execute_result"
    }
   ],
   "source": [
    "len(noun_sentence_df_final_joined_df_selected_columns_use)"
   ]
  },
  {
   "cell_type": "code",
   "execution_count": 6,
   "metadata": {},
   "outputs": [],
   "source": [
    "noun_sentence_df_final_joined_df_selected_columns_use = noun_sentence_df_final_joined_df_selected_columns_use.dropna()"
   ]
  },
  {
   "cell_type": "code",
   "execution_count": 7,
   "metadata": {},
   "outputs": [
    {
     "data": {
      "text/html": [
       "<div>\n",
       "<style scoped>\n",
       "    .dataframe tbody tr th:only-of-type {\n",
       "        vertical-align: middle;\n",
       "    }\n",
       "\n",
       "    .dataframe tbody tr th {\n",
       "        vertical-align: top;\n",
       "    }\n",
       "\n",
       "    .dataframe thead th {\n",
       "        text-align: right;\n",
       "    }\n",
       "</style>\n",
       "<table border=\"1\" class=\"dataframe\">\n",
       "  <thead>\n",
       "    <tr style=\"text-align: right;\">\n",
       "      <th></th>\n",
       "      <th>level_0</th>\n",
       "      <th>listingid</th>\n",
       "      <th>index_x</th>\n",
       "      <th>AVM_Error_List_x</th>\n",
       "      <th>Listing_Error_List_x</th>\n",
       "      <th>Transdate_x</th>\n",
       "      <th>Transprice_x</th>\n",
       "      <th>total_value_x</th>\n",
       "      <th>cj_living_area_x</th>\n",
       "      <th>effective_year_built_x</th>\n",
       "      <th>...</th>\n",
       "      <th>sentence_composition_0</th>\n",
       "      <th>sentence_composition_1</th>\n",
       "      <th>sentence_composition_2</th>\n",
       "      <th>sentence_composition_3</th>\n",
       "      <th>sentence_composition_4</th>\n",
       "      <th>sentence_composition_5</th>\n",
       "      <th>sentence_composition_6</th>\n",
       "      <th>sentence_composition_7</th>\n",
       "      <th>sentence_composition_8</th>\n",
       "      <th>transaction_year</th>\n",
       "    </tr>\n",
       "  </thead>\n",
       "  <tbody>\n",
       "    <tr>\n",
       "      <td>0</td>\n",
       "      <td>0</td>\n",
       "      <td>1066</td>\n",
       "      <td>central heat</td>\n",
       "      <td>0.095595</td>\n",
       "      <td>-0.066000</td>\n",
       "      <td>20180111</td>\n",
       "      <td>150000.0</td>\n",
       "      <td>98615.0</td>\n",
       "      <td>925.0</td>\n",
       "      <td>2005.0</td>\n",
       "      <td>...</td>\n",
       "      <td>58.620690</td>\n",
       "      <td>17.241379</td>\n",
       "      <td>13.793103</td>\n",
       "      <td>6.896552</td>\n",
       "      <td>1.724138</td>\n",
       "      <td>1.724138</td>\n",
       "      <td>0.0</td>\n",
       "      <td>58.0</td>\n",
       "      <td>15.0</td>\n",
       "      <td>2018.0</td>\n",
       "    </tr>\n",
       "    <tr>\n",
       "      <td>1</td>\n",
       "      <td>1</td>\n",
       "      <td>1071</td>\n",
       "      <td>new appliances</td>\n",
       "      <td>-0.038420</td>\n",
       "      <td>-0.018605</td>\n",
       "      <td>20171208</td>\n",
       "      <td>215000.0</td>\n",
       "      <td>143200.0</td>\n",
       "      <td>1730.0</td>\n",
       "      <td>1995.0</td>\n",
       "      <td>...</td>\n",
       "      <td>57.812500</td>\n",
       "      <td>17.187500</td>\n",
       "      <td>18.750000</td>\n",
       "      <td>1.562500</td>\n",
       "      <td>3.125000</td>\n",
       "      <td>0.000000</td>\n",
       "      <td>0.0</td>\n",
       "      <td>64.0</td>\n",
       "      <td>13.0</td>\n",
       "      <td>2017.0</td>\n",
       "    </tr>\n",
       "    <tr>\n",
       "      <td>2</td>\n",
       "      <td>2</td>\n",
       "      <td>1079</td>\n",
       "      <td>new kitchen cabinets</td>\n",
       "      <td>-0.067666</td>\n",
       "      <td>-0.075000</td>\n",
       "      <td>20180116</td>\n",
       "      <td>240000.0</td>\n",
       "      <td>184190.0</td>\n",
       "      <td>2640.0</td>\n",
       "      <td>2000.0</td>\n",
       "      <td>...</td>\n",
       "      <td>57.894737</td>\n",
       "      <td>15.789474</td>\n",
       "      <td>24.561404</td>\n",
       "      <td>1.754386</td>\n",
       "      <td>0.000000</td>\n",
       "      <td>0.000000</td>\n",
       "      <td>0.0</td>\n",
       "      <td>57.0</td>\n",
       "      <td>16.0</td>\n",
       "      <td>2018.0</td>\n",
       "    </tr>\n",
       "    <tr>\n",
       "      <td>3</td>\n",
       "      <td>3</td>\n",
       "      <td>1080</td>\n",
       "      <td>modern updates</td>\n",
       "      <td>0.085874</td>\n",
       "      <td>0.000000</td>\n",
       "      <td>20171227</td>\n",
       "      <td>389900.0</td>\n",
       "      <td>324300.0</td>\n",
       "      <td>3092.0</td>\n",
       "      <td>1997.0</td>\n",
       "      <td>...</td>\n",
       "      <td>52.941176</td>\n",
       "      <td>10.294118</td>\n",
       "      <td>30.882353</td>\n",
       "      <td>4.411765</td>\n",
       "      <td>0.000000</td>\n",
       "      <td>0.000000</td>\n",
       "      <td>0.0</td>\n",
       "      <td>68.0</td>\n",
       "      <td>18.0</td>\n",
       "      <td>2017.0</td>\n",
       "    </tr>\n",
       "    <tr>\n",
       "      <td>4</td>\n",
       "      <td>4</td>\n",
       "      <td>1084</td>\n",
       "      <td>pool pump</td>\n",
       "      <td>-0.152460</td>\n",
       "      <td>0.000000</td>\n",
       "      <td>20180201</td>\n",
       "      <td>214900.0</td>\n",
       "      <td>201300.0</td>\n",
       "      <td>2600.0</td>\n",
       "      <td>1997.0</td>\n",
       "      <td>...</td>\n",
       "      <td>58.666667</td>\n",
       "      <td>10.666667</td>\n",
       "      <td>29.333333</td>\n",
       "      <td>4.000000</td>\n",
       "      <td>0.000000</td>\n",
       "      <td>0.000000</td>\n",
       "      <td>0.0</td>\n",
       "      <td>75.0</td>\n",
       "      <td>21.0</td>\n",
       "      <td>2018.0</td>\n",
       "    </tr>\n",
       "    <tr>\n",
       "      <td>...</td>\n",
       "      <td>...</td>\n",
       "      <td>...</td>\n",
       "      <td>...</td>\n",
       "      <td>...</td>\n",
       "      <td>...</td>\n",
       "      <td>...</td>\n",
       "      <td>...</td>\n",
       "      <td>...</td>\n",
       "      <td>...</td>\n",
       "      <td>...</td>\n",
       "      <td>...</td>\n",
       "      <td>...</td>\n",
       "      <td>...</td>\n",
       "      <td>...</td>\n",
       "      <td>...</td>\n",
       "      <td>...</td>\n",
       "      <td>...</td>\n",
       "      <td>...</td>\n",
       "      <td>...</td>\n",
       "      <td>...</td>\n",
       "      <td>...</td>\n",
       "    </tr>\n",
       "    <tr>\n",
       "      <td>464812</td>\n",
       "      <td>464812</td>\n",
       "      <td>251228152</td>\n",
       "      <td>swimming tennis community</td>\n",
       "      <td>-0.080778</td>\n",
       "      <td>0.061765</td>\n",
       "      <td>20210629</td>\n",
       "      <td>340000.0</td>\n",
       "      <td>320800.0</td>\n",
       "      <td>2727.0</td>\n",
       "      <td>2001.0</td>\n",
       "      <td>...</td>\n",
       "      <td>55.000000</td>\n",
       "      <td>13.333333</td>\n",
       "      <td>23.333333</td>\n",
       "      <td>5.000000</td>\n",
       "      <td>0.000000</td>\n",
       "      <td>0.000000</td>\n",
       "      <td>0.0</td>\n",
       "      <td>60.0</td>\n",
       "      <td>16.0</td>\n",
       "      <td>2021.0</td>\n",
       "    </tr>\n",
       "    <tr>\n",
       "      <td>464813</td>\n",
       "      <td>464813</td>\n",
       "      <td>251228259</td>\n",
       "      <td>sugar hill</td>\n",
       "      <td>0.040465</td>\n",
       "      <td>0.058333</td>\n",
       "      <td>20210625</td>\n",
       "      <td>360000.0</td>\n",
       "      <td>276500.0</td>\n",
       "      <td>2722.0</td>\n",
       "      <td>2013.0</td>\n",
       "      <td>...</td>\n",
       "      <td>52.112676</td>\n",
       "      <td>11.267606</td>\n",
       "      <td>32.394366</td>\n",
       "      <td>2.816901</td>\n",
       "      <td>1.408451</td>\n",
       "      <td>0.000000</td>\n",
       "      <td>0.0</td>\n",
       "      <td>71.0</td>\n",
       "      <td>16.0</td>\n",
       "      <td>2021.0</td>\n",
       "    </tr>\n",
       "    <tr>\n",
       "      <td>464814</td>\n",
       "      <td>464814</td>\n",
       "      <td>251233929</td>\n",
       "      <td>great investment opportunity</td>\n",
       "      <td>-0.352831</td>\n",
       "      <td>0.064013</td>\n",
       "      <td>20210630</td>\n",
       "      <td>305440.0</td>\n",
       "      <td>242500.0</td>\n",
       "      <td>1930.0</td>\n",
       "      <td>1956.0</td>\n",
       "      <td>...</td>\n",
       "      <td>62.195122</td>\n",
       "      <td>13.414634</td>\n",
       "      <td>23.170732</td>\n",
       "      <td>1.219512</td>\n",
       "      <td>0.000000</td>\n",
       "      <td>0.000000</td>\n",
       "      <td>0.0</td>\n",
       "      <td>82.0</td>\n",
       "      <td>24.0</td>\n",
       "      <td>2021.0</td>\n",
       "    </tr>\n",
       "    <tr>\n",
       "      <td>464815</td>\n",
       "      <td>464815</td>\n",
       "      <td>251262429</td>\n",
       "      <td>great rental property</td>\n",
       "      <td>-0.359648</td>\n",
       "      <td>0.132275</td>\n",
       "      <td>20210630</td>\n",
       "      <td>94500.0</td>\n",
       "      <td>52978.0</td>\n",
       "      <td>1236.0</td>\n",
       "      <td>2000.0</td>\n",
       "      <td>...</td>\n",
       "      <td>68.852459</td>\n",
       "      <td>6.557377</td>\n",
       "      <td>22.950820</td>\n",
       "      <td>1.639344</td>\n",
       "      <td>0.000000</td>\n",
       "      <td>0.000000</td>\n",
       "      <td>0.0</td>\n",
       "      <td>61.0</td>\n",
       "      <td>18.0</td>\n",
       "      <td>2021.0</td>\n",
       "    </tr>\n",
       "    <tr>\n",
       "      <td>464817</td>\n",
       "      <td>464817</td>\n",
       "      <td>251452095</td>\n",
       "      <td>perkerson park</td>\n",
       "      <td>-0.011109</td>\n",
       "      <td>0.064987</td>\n",
       "      <td>20210624</td>\n",
       "      <td>560420.0</td>\n",
       "      <td>436500.0</td>\n",
       "      <td>1854.0</td>\n",
       "      <td>2004.0</td>\n",
       "      <td>...</td>\n",
       "      <td>56.000000</td>\n",
       "      <td>16.000000</td>\n",
       "      <td>16.000000</td>\n",
       "      <td>8.000000</td>\n",
       "      <td>4.000000</td>\n",
       "      <td>0.000000</td>\n",
       "      <td>0.0</td>\n",
       "      <td>50.0</td>\n",
       "      <td>12.0</td>\n",
       "      <td>2021.0</td>\n",
       "    </tr>\n",
       "  </tbody>\n",
       "</table>\n",
       "<p>400756 rows × 158 columns</p>\n",
       "</div>"
      ],
      "text/plain": [
       "        level_0  listingid                       index_x  AVM_Error_List_x  \\\n",
       "0             0       1066                  central heat          0.095595   \n",
       "1             1       1071                new appliances         -0.038420   \n",
       "2             2       1079          new kitchen cabinets         -0.067666   \n",
       "3             3       1080                modern updates          0.085874   \n",
       "4             4       1084                     pool pump         -0.152460   \n",
       "...         ...        ...                           ...               ...   \n",
       "464812   464812  251228152     swimming tennis community         -0.080778   \n",
       "464813   464813  251228259                    sugar hill          0.040465   \n",
       "464814   464814  251233929  great investment opportunity         -0.352831   \n",
       "464815   464815  251262429         great rental property         -0.359648   \n",
       "464817   464817  251452095                perkerson park         -0.011109   \n",
       "\n",
       "        Listing_Error_List_x  Transdate_x  Transprice_x  total_value_x  \\\n",
       "0                  -0.066000     20180111      150000.0        98615.0   \n",
       "1                  -0.018605     20171208      215000.0       143200.0   \n",
       "2                  -0.075000     20180116      240000.0       184190.0   \n",
       "3                   0.000000     20171227      389900.0       324300.0   \n",
       "4                   0.000000     20180201      214900.0       201300.0   \n",
       "...                      ...          ...           ...            ...   \n",
       "464812              0.061765     20210629      340000.0       320800.0   \n",
       "464813              0.058333     20210625      360000.0       276500.0   \n",
       "464814              0.064013     20210630      305440.0       242500.0   \n",
       "464815              0.132275     20210630       94500.0        52978.0   \n",
       "464817              0.064987     20210624      560420.0       436500.0   \n",
       "\n",
       "        cj_living_area_x  effective_year_built_x  ...  sentence_composition_0  \\\n",
       "0                  925.0                  2005.0  ...               58.620690   \n",
       "1                 1730.0                  1995.0  ...               57.812500   \n",
       "2                 2640.0                  2000.0  ...               57.894737   \n",
       "3                 3092.0                  1997.0  ...               52.941176   \n",
       "4                 2600.0                  1997.0  ...               58.666667   \n",
       "...                  ...                     ...  ...                     ...   \n",
       "464812            2727.0                  2001.0  ...               55.000000   \n",
       "464813            2722.0                  2013.0  ...               52.112676   \n",
       "464814            1930.0                  1956.0  ...               62.195122   \n",
       "464815            1236.0                  2000.0  ...               68.852459   \n",
       "464817            1854.0                  2004.0  ...               56.000000   \n",
       "\n",
       "        sentence_composition_1  sentence_composition_2  \\\n",
       "0                    17.241379               13.793103   \n",
       "1                    17.187500               18.750000   \n",
       "2                    15.789474               24.561404   \n",
       "3                    10.294118               30.882353   \n",
       "4                    10.666667               29.333333   \n",
       "...                        ...                     ...   \n",
       "464812               13.333333               23.333333   \n",
       "464813               11.267606               32.394366   \n",
       "464814               13.414634               23.170732   \n",
       "464815                6.557377               22.950820   \n",
       "464817               16.000000               16.000000   \n",
       "\n",
       "        sentence_composition_3  sentence_composition_4  \\\n",
       "0                     6.896552                1.724138   \n",
       "1                     1.562500                3.125000   \n",
       "2                     1.754386                0.000000   \n",
       "3                     4.411765                0.000000   \n",
       "4                     4.000000                0.000000   \n",
       "...                        ...                     ...   \n",
       "464812                5.000000                0.000000   \n",
       "464813                2.816901                1.408451   \n",
       "464814                1.219512                0.000000   \n",
       "464815                1.639344                0.000000   \n",
       "464817                8.000000                4.000000   \n",
       "\n",
       "        sentence_composition_5  sentence_composition_6  \\\n",
       "0                     1.724138                     0.0   \n",
       "1                     0.000000                     0.0   \n",
       "2                     0.000000                     0.0   \n",
       "3                     0.000000                     0.0   \n",
       "4                     0.000000                     0.0   \n",
       "...                        ...                     ...   \n",
       "464812                0.000000                     0.0   \n",
       "464813                0.000000                     0.0   \n",
       "464814                0.000000                     0.0   \n",
       "464815                0.000000                     0.0   \n",
       "464817                0.000000                     0.0   \n",
       "\n",
       "        sentence_composition_7  sentence_composition_8  transaction_year  \n",
       "0                         58.0                    15.0            2018.0  \n",
       "1                         64.0                    13.0            2017.0  \n",
       "2                         57.0                    16.0            2018.0  \n",
       "3                         68.0                    18.0            2017.0  \n",
       "4                         75.0                    21.0            2018.0  \n",
       "...                        ...                     ...               ...  \n",
       "464812                    60.0                    16.0            2021.0  \n",
       "464813                    71.0                    16.0            2021.0  \n",
       "464814                    82.0                    24.0            2021.0  \n",
       "464815                    61.0                    18.0            2021.0  \n",
       "464817                    50.0                    12.0            2021.0  \n",
       "\n",
       "[400756 rows x 158 columns]"
      ]
     },
     "execution_count": 7,
     "metadata": {},
     "output_type": "execute_result"
    }
   ],
   "source": [
    "noun_sentence_df_final_joined_df_selected_columns_use"
   ]
  },
  {
   "cell_type": "code",
   "execution_count": 8,
   "metadata": {},
   "outputs": [
    {
     "data": {
      "text/plain": [
       "Index(['level_0', 'listingid', 'index_x', 'AVM_Error_List_x',\n",
       "       'Listing_Error_List_x', 'Transdate_x', 'Transprice_x', 'total_value_x',\n",
       "       'cj_living_area_x', 'effective_year_built_x',\n",
       "       ...\n",
       "       'sentence_composition_0', 'sentence_composition_1',\n",
       "       'sentence_composition_2', 'sentence_composition_3',\n",
       "       'sentence_composition_4', 'sentence_composition_5',\n",
       "       'sentence_composition_6', 'sentence_composition_7',\n",
       "       'sentence_composition_8', 'transaction_year'],\n",
       "      dtype='object', length=158)"
      ]
     },
     "execution_count": 8,
     "metadata": {},
     "output_type": "execute_result"
    }
   ],
   "source": [
    "noun_sentence_df_final_joined_df_selected_columns_use.columns"
   ]
  },
  {
   "cell_type": "code",
   "execution_count": 9,
   "metadata": {},
   "outputs": [],
   "source": [
    "predictor_columns = ['cj_living_area_x', 'story_x', 'avmValue_x','bedrooms_x']"
   ]
  },
  {
   "cell_type": "code",
   "execution_count": 10,
   "metadata": {},
   "outputs": [],
   "source": [
    "columns_selected = noun_sentence_df_final_joined_df_selected_columns_use.columns[\\\n",
    "                         pd.Series(noun_sentence_df_final_joined_df_selected_columns_use.columns).str.\\\n",
    "                        startswith('AVM_Error_Indicators')]\n",
    "predictor_columns = predictor_columns + list(columns_selected)\n",
    "\n",
    "columns_selected = noun_sentence_df_final_joined_df_selected_columns_use.columns[\\\n",
    "                                pd.Series(noun_sentence_df_final_joined_df_selected_columns_use.columns).str.\\\n",
    "                                                        startswith('Listing_Error_Indicators')]\n",
    "predictor_columns = predictor_columns + list(columns_selected)\n",
    "\n",
    "columns_selected = noun_sentence_df_final_joined_df_selected_columns_use.columns[\\\n",
    "                                pd.Series(noun_sentence_df_final_joined_df_selected_columns_use.columns).str.\\\n",
    "                                                        startswith('sentence_composition')]\n",
    "predictor_columns = predictor_columns + list(columns_selected)\n",
    "\n",
    "\n",
    "columns_selected = noun_sentence_df_final_joined_df_selected_columns_use.columns[\\\n",
    "                                pd.Series(noun_sentence_df_final_joined_df_selected_columns_use.columns).str.\\\n",
    "                                                        startswith('clean_publicremarks_additional_words_vaderpolarity')]\n",
    "predictor_columns = predictor_columns + list(columns_selected)\n"
   ]
  },
  {
   "cell_type": "code",
   "execution_count": 11,
   "metadata": {},
   "outputs": [
    {
     "data": {
      "text/plain": [
       "['cj_living_area_x',\n",
       " 'story_x',\n",
       " 'avmValue_x',\n",
       " 'bedrooms_x',\n",
       " 'AVM_Error_Indicators_0_x',\n",
       " 'AVM_Error_Indicators_1_x',\n",
       " 'AVM_Error_Indicators_2_x',\n",
       " 'AVM_Error_Indicators_3_x',\n",
       " 'AVM_Error_Indicators_4_x',\n",
       " 'AVM_Error_Indicators_5_x',\n",
       " 'AVM_Error_Indicators_6_x',\n",
       " 'AVM_Error_Indicators_7_x',\n",
       " 'AVM_Error_Indicators_8_x',\n",
       " 'AVM_Error_Indicators_9_x',\n",
       " 'AVM_Error_Indicators_10_x',\n",
       " 'AVM_Error_Indicators_11_x',\n",
       " 'AVM_Error_Indicators_scale_x',\n",
       " 'AVM_Error_Indicators_0_y',\n",
       " 'AVM_Error_Indicators_1_y',\n",
       " 'AVM_Error_Indicators_2_y',\n",
       " 'AVM_Error_Indicators_3_y',\n",
       " 'AVM_Error_Indicators_4_y',\n",
       " 'AVM_Error_Indicators_5_y',\n",
       " 'AVM_Error_Indicators_6_y',\n",
       " 'AVM_Error_Indicators_7_y',\n",
       " 'AVM_Error_Indicators_8_y',\n",
       " 'AVM_Error_Indicators_9_y',\n",
       " 'AVM_Error_Indicators_10_y',\n",
       " 'AVM_Error_Indicators_11_y',\n",
       " 'AVM_Error_Indicators_scale_y',\n",
       " 'AVM_Error_Indicators_0',\n",
       " 'AVM_Error_Indicators_1',\n",
       " 'AVM_Error_Indicators_2',\n",
       " 'AVM_Error_Indicators_3',\n",
       " 'AVM_Error_Indicators_4',\n",
       " 'AVM_Error_Indicators_5',\n",
       " 'AVM_Error_Indicators_6',\n",
       " 'AVM_Error_Indicators_7',\n",
       " 'AVM_Error_Indicators_8',\n",
       " 'AVM_Error_Indicators_9',\n",
       " 'AVM_Error_Indicators_10',\n",
       " 'AVM_Error_Indicators_11',\n",
       " 'AVM_Error_Indicators_scale',\n",
       " 'Listing_Error_Indicators_0_x',\n",
       " 'Listing_Error_Indicators_1_x',\n",
       " 'Listing_Error_Indicators_2_x',\n",
       " 'Listing_Error_Indicators_3_x',\n",
       " 'Listing_Error_Indicators_4_x',\n",
       " 'Listing_Error_Indicators_5_x',\n",
       " 'Listing_Error_Indicators_6_x',\n",
       " 'Listing_Error_Indicators_7_x',\n",
       " 'Listing_Error_Indicators_8_x',\n",
       " 'Listing_Error_Indicators_9_x',\n",
       " 'Listing_Error_Indicators_10_x',\n",
       " 'Listing_Error_Indicators_11_x',\n",
       " 'Listing_Error_Indicators_0_y',\n",
       " 'Listing_Error_Indicators_1_y',\n",
       " 'Listing_Error_Indicators_2_y',\n",
       " 'Listing_Error_Indicators_3_y',\n",
       " 'Listing_Error_Indicators_4_y',\n",
       " 'Listing_Error_Indicators_5_y',\n",
       " 'Listing_Error_Indicators_6_y',\n",
       " 'Listing_Error_Indicators_7_y',\n",
       " 'Listing_Error_Indicators_8_y',\n",
       " 'Listing_Error_Indicators_9_y',\n",
       " 'Listing_Error_Indicators_10_y',\n",
       " 'Listing_Error_Indicators_11_y',\n",
       " 'Listing_Error_Indicators_0',\n",
       " 'Listing_Error_Indicators_1',\n",
       " 'Listing_Error_Indicators_2',\n",
       " 'Listing_Error_Indicators_3',\n",
       " 'Listing_Error_Indicators_4',\n",
       " 'Listing_Error_Indicators_5',\n",
       " 'Listing_Error_Indicators_6',\n",
       " 'Listing_Error_Indicators_7',\n",
       " 'Listing_Error_Indicators_8',\n",
       " 'Listing_Error_Indicators_9',\n",
       " 'Listing_Error_Indicators_10',\n",
       " 'Listing_Error_Indicators_11',\n",
       " 'sentence_composition_0_x',\n",
       " 'sentence_composition_1_x',\n",
       " 'sentence_composition_2_x',\n",
       " 'sentence_composition_3_x',\n",
       " 'sentence_composition_4_x',\n",
       " 'sentence_composition_5_x',\n",
       " 'sentence_composition_6_x',\n",
       " 'sentence_composition_7_x',\n",
       " 'sentence_composition_8_x',\n",
       " 'sentence_composition_0_y',\n",
       " 'sentence_composition_1_y',\n",
       " 'sentence_composition_2_y',\n",
       " 'sentence_composition_3_y',\n",
       " 'sentence_composition_4_y',\n",
       " 'sentence_composition_5_y',\n",
       " 'sentence_composition_6_y',\n",
       " 'sentence_composition_7_y',\n",
       " 'sentence_composition_8_y',\n",
       " 'sentence_composition_0',\n",
       " 'sentence_composition_1',\n",
       " 'sentence_composition_2',\n",
       " 'sentence_composition_3',\n",
       " 'sentence_composition_4',\n",
       " 'sentence_composition_5',\n",
       " 'sentence_composition_6',\n",
       " 'sentence_composition_7',\n",
       " 'sentence_composition_8',\n",
       " 'clean_publicremarks_additional_words_vaderpolarity_0_x',\n",
       " 'clean_publicremarks_additional_words_vaderpolarity_1_x',\n",
       " 'clean_publicremarks_additional_words_vaderpolarity_2_x',\n",
       " 'clean_publicremarks_additional_words_vaderpolarity_3_x',\n",
       " 'clean_publicremarks_additional_words_vaderpolarity_0_y',\n",
       " 'clean_publicremarks_additional_words_vaderpolarity_1_y',\n",
       " 'clean_publicremarks_additional_words_vaderpolarity_2_y',\n",
       " 'clean_publicremarks_additional_words_vaderpolarity_3_y',\n",
       " 'clean_publicremarks_additional_words_vaderpolarity_0',\n",
       " 'clean_publicremarks_additional_words_vaderpolarity_1',\n",
       " 'clean_publicremarks_additional_words_vaderpolarity_2',\n",
       " 'clean_publicremarks_additional_words_vaderpolarity_3']"
      ]
     },
     "execution_count": 11,
     "metadata": {},
     "output_type": "execute_result"
    }
   ],
   "source": [
    "predictor_columns\n"
   ]
  },
  {
   "cell_type": "code",
   "execution_count": 47,
   "metadata": {},
   "outputs": [],
   "source": [
    "predictor_columns = [   'sentence_composition_7_y',\n",
    " 'AVM_Error_Indicators_5_y',\n",
    " 'sentence_composition_7',\n",
    " 'AVM_Error_Indicators_4_y',\n",
    " 'AVM_Error_Indicators_5_x',\n",
    " 'AVM_Error_Indicators_0',\n",
    " 'AVM_Error_Indicators_10_x',\n",
    " 'AVM_Error_Indicators_11_y',\n",
    " 'AVM_Error_Indicators_4_x',\n",
    " 'cj_living_area_x',\n",
    " 'AVM_Error_Indicators_6_x',\n",
    " 'AVM_Error_Indicators_0_x',\n",
    " 'avmValue_x']"
   ]
  },
  {
   "cell_type": "code",
   "execution_count": 67,
   "metadata": {},
   "outputs": [],
   "source": []
  },
  {
   "cell_type": "code",
   "execution_count": 68,
   "metadata": {},
   "outputs": [
    {
     "data": {
      "text/plain": [
       "Index(['level_0', 'listingid', 'index_x', 'AVM_Error_List_x',\n",
       "       'Listing_Error_List_x', 'Transdate_x', 'Transprice_x', 'total_value_x',\n",
       "       'cj_living_area_x', 'effective_year_built_x',\n",
       "       ...\n",
       "       'sentence_composition_0', 'sentence_composition_1',\n",
       "       'sentence_composition_2', 'sentence_composition_3',\n",
       "       'sentence_composition_4', 'sentence_composition_5',\n",
       "       'sentence_composition_6', 'sentence_composition_7',\n",
       "       'sentence_composition_8', 'transaction_year'],\n",
       "      dtype='object', length=158)"
      ]
     },
     "execution_count": 68,
     "metadata": {},
     "output_type": "execute_result"
    }
   ],
   "source": [
    "noun_sentence_df_final_joined_df_selected_columns_use.columns"
   ]
  },
  {
   "cell_type": "code",
   "execution_count": 69,
   "metadata": {},
   "outputs": [],
   "source": [
    "Predictors = noun_sentence_df_final_joined_df_selected_columns_use[predictor_columns].to_numpy()"
   ]
  },
  {
   "cell_type": "code",
   "execution_count": 70,
   "metadata": {},
   "outputs": [],
   "source": []
  },
  {
   "cell_type": "code",
   "execution_count": 71,
   "metadata": {},
   "outputs": [
    {
     "data": {
      "text/plain": [
       "(400756, 13)"
      ]
     },
     "execution_count": 71,
     "metadata": {},
     "output_type": "execute_result"
    }
   ],
   "source": [
    "Predictors.shape"
   ]
  },
  {
   "cell_type": "code",
   "execution_count": 51,
   "metadata": {},
   "outputs": [],
   "source": [
    "predictand = noun_sentence_df_final_joined_df_selected_columns_use.avmerror_x.values"
   ]
  },
  {
   "cell_type": "code",
   "execution_count": 52,
   "metadata": {},
   "outputs": [
    {
     "data": {
      "text/plain": [
       "(400756,)"
      ]
     },
     "execution_count": 52,
     "metadata": {},
     "output_type": "execute_result"
    }
   ],
   "source": [
    "predictand.shape"
   ]
  },
  {
   "cell_type": "code",
   "execution_count": null,
   "metadata": {},
   "outputs": [],
   "source": []
  },
  {
   "cell_type": "code",
   "execution_count": 53,
   "metadata": {},
   "outputs": [],
   "source": [
    "train_samples = 200000  # Samples used for training the models\n",
    "X_train, X_test, y_train, y_test = train_test_split(\n",
    "    Predictors,\n",
    "    predictand,\n",
    "    shuffle=False,\n",
    "    test_size=len(Predictors) - train_samples,\n",
    ")"
   ]
  },
  {
   "cell_type": "code",
   "execution_count": 54,
   "metadata": {},
   "outputs": [
    {
     "data": {
      "text/plain": [
       "5199509.02"
      ]
     },
     "execution_count": 54,
     "metadata": {},
     "output_type": "execute_result"
    }
   ],
   "source": [
    "np.max(X_train)"
   ]
  },
  {
   "cell_type": "code",
   "execution_count": 55,
   "metadata": {},
   "outputs": [],
   "source": [
    "model = RandomForestRegressor(n_estimators = 100,  min_samples_leaf=30, \n",
    "                              max_features = 6, max_depth=40\n",
    "                              )\n",
    "\n",
    "#model = RandomForestRegressor()\n",
    "                              \n"
   ]
  },
  {
   "cell_type": "code",
   "execution_count": 56,
   "metadata": {},
   "outputs": [
    {
     "data": {
      "text/plain": [
       "RandomForestRegressor(max_depth=40, max_features=6, min_samples_leaf=30)"
      ]
     },
     "execution_count": 56,
     "metadata": {},
     "output_type": "execute_result"
    }
   ],
   "source": [
    "model.fit(X_train, y_train)"
   ]
  },
  {
   "cell_type": "code",
   "execution_count": 57,
   "metadata": {},
   "outputs": [
    {
     "name": "stdout",
     "output_type": "stream",
     "text": [
      "{'bootstrap': True, 'ccp_alpha': 0.0, 'criterion': 'mse', 'max_depth': 40, 'max_features': 6, 'max_leaf_nodes': None, 'max_samples': None, 'min_impurity_decrease': 0.0, 'min_impurity_split': None, 'min_samples_leaf': 30, 'min_samples_split': 2, 'min_weight_fraction_leaf': 0.0, 'n_estimators': 100, 'n_jobs': None, 'oob_score': False, 'random_state': None, 'verbose': 0, 'warm_start': False}\n"
     ]
    }
   ],
   "source": [
    "print(model.get_params(deep=True))"
   ]
  },
  {
   "cell_type": "code",
   "execution_count": null,
   "metadata": {},
   "outputs": [],
   "source": []
  },
  {
   "cell_type": "code",
   "execution_count": 58,
   "metadata": {},
   "outputs": [],
   "source": [
    "predictions_test = model.predict(X_test)\n",
    "predictions_train = model.predict(X_train)"
   ]
  },
  {
   "cell_type": "code",
   "execution_count": 59,
   "metadata": {},
   "outputs": [
    {
     "data": {
      "text/plain": [
       "-1.492387621359223"
      ]
     },
     "execution_count": 59,
     "metadata": {},
     "output_type": "execute_result"
    }
   ],
   "source": [
    "y_train.min()"
   ]
  },
  {
   "cell_type": "code",
   "execution_count": 60,
   "metadata": {},
   "outputs": [
    {
     "data": {
      "text/plain": [
       "[<matplotlib.lines.Line2D at 0x7fb530525a90>]"
      ]
     },
     "execution_count": 60,
     "metadata": {},
     "output_type": "execute_result"
    },
    {
     "data": {
      "image/png": "[encoded data removed]",
      "text/plain": [
       "<Figure size 432x288 with 1 Axes>"
      ]
     },
     "metadata": {},
     "output_type": "display_data"
    }
   ],
   "source": [
    "plt.plot(predictions_train,y_train,'o')"
   ]
  },
  {
   "cell_type": "code",
   "execution_count": 61,
   "metadata": {},
   "outputs": [
    {
     "data": {
      "text/plain": [
       "[<matplotlib.lines.Line2D at 0x7fb535a139e8>]"
      ]
     },
     "execution_count": 61,
     "metadata": {},
     "output_type": "execute_result"
    },
    {
     "data": {
      "image/png": "[encoded data removed]",
      "text/plain": [
       "<Figure size 432x288 with 1 Axes>"
      ]
     },
     "metadata": {},
     "output_type": "display_data"
    }
   ],
   "source": [
    "plt.plot(predictions_test,y_test,'o')"
   ]
  },
  {
   "cell_type": "code",
   "execution_count": null,
   "metadata": {},
   "outputs": [],
   "source": []
  },
  {
   "cell_type": "code",
   "execution_count": 62,
   "metadata": {},
   "outputs": [],
   "source": [
    "df = noun_sentence_df_final_joined_df_selected_columns_use.copy()\n"
   ]
  },
  {
   "cell_type": "code",
   "execution_count": 63,
   "metadata": {},
   "outputs": [],
   "source": [
    "predictions_test_value = df['avmValue_x'].values[train_samples:]/(1-predictions_test)\n",
    "predictions_train_value = df['avmValue_x'].values[:train_samples]/(1-predictions_train)\n",
    "#predictions_train_value = df['avmValue'].values/(1-Predictors)"
   ]
  },
  {
   "cell_type": "code",
   "execution_count": null,
   "metadata": {},
   "outputs": [],
   "source": []
  },
  {
   "cell_type": "code",
   "execution_count": null,
   "metadata": {},
   "outputs": [],
   "source": []
  },
  {
   "cell_type": "code",
   "execution_count": 44,
   "metadata": {},
   "outputs": [
    {
     "data": {
      "text/plain": [
       "Index(['level_0', 'listingid', 'index_x', 'AVM_Error_List_x',\n",
       "       'Listing_Error_List_x', 'Transdate_x', 'Transprice_x', 'total_value_x',\n",
       "       'cj_living_area_x', 'effective_year_built_x',\n",
       "       ...\n",
       "       'sentence_composition_0', 'sentence_composition_1',\n",
       "       'sentence_composition_2', 'sentence_composition_3',\n",
       "       'sentence_composition_4', 'sentence_composition_5',\n",
       "       'sentence_composition_6', 'sentence_composition_7',\n",
       "       'sentence_composition_8', 'transaction_year'],\n",
       "      dtype='object', length=158)"
      ]
     },
     "execution_count": 44,
     "metadata": {},
     "output_type": "execute_result"
    }
   ],
   "source": [
    "df.columns"
   ]
  },
  {
   "cell_type": "code",
   "execution_count": 45,
   "metadata": {},
   "outputs": [
    {
     "name": "stdout",
     "output_type": "stream",
     "text": [
      "0.10485947767604864\n",
      "0.12211574741864119\n"
     ]
    }
   ],
   "source": [
    "print(np.mean(np.abs(df['Transprice_x'].values[:train_samples]-predictions_train_value)/\\\n",
    "              (df['Transprice_x'].values[:train_samples])))\n",
    "print(np.mean(np.abs(df['Transprice_x'].values[:train_samples]- df['avmValue_x'].values[:train_samples])/\\\n",
    "              (df['Transprice_x'].values[:train_samples])))\n"
   ]
  },
  {
   "cell_type": "code",
   "execution_count": 46,
   "metadata": {},
   "outputs": [
    {
     "name": "stdout",
     "output_type": "stream",
     "text": [
      "0.1076843011681092\n",
      "0.11670730944205586\n"
     ]
    }
   ],
   "source": [
    "print(np.mean(np.abs(df['Transprice_x'].values[train_samples:]-predictions_test_value)/\\\n",
    "              (df['Transprice_x'].values[train_samples:])))\n",
    "print(np.mean(np.abs(df['Transprice_x'].values[train_samples:]- df['avmValue_x'].values[train_samples:])/\\\n",
    "              (df['Transprice_x'].values[train_samples:])))\n"
   ]
  },
  {
   "cell_type": "code",
   "execution_count": 32,
   "metadata": {},
   "outputs": [
    {
     "data": {
      "text/plain": [
       "[<matplotlib.lines.Line2D at 0x7fb53287e358>]"
      ]
     },
     "execution_count": 32,
     "metadata": {},
     "output_type": "execute_result"
    },
    {
     "data": {
      "image/png": "[encoded data removed]",
      "text/plain": [
       "<Figure size 432x288 with 1 Axes>"
      ]
     },
     "metadata": {},
     "output_type": "display_data"
    }
   ],
   "source": [
    "plt.plot(predictions_train_value,df['Transprice_x'].values[:train_samples],'o')"
   ]
  },
  {
   "cell_type": "code",
   "execution_count": 33,
   "metadata": {},
   "outputs": [
    {
     "data": {
      "text/plain": [
       "Index(['level_0', 'listingid', 'index_x', 'AVM_Error_List_x',\n",
       "       'Listing_Error_List_x', 'Transdate_x', 'Transprice_x', 'total_value_x',\n",
       "       'cj_living_area_x', 'effective_year_built_x',\n",
       "       ...\n",
       "       'sentence_composition_0', 'sentence_composition_1',\n",
       "       'sentence_composition_2', 'sentence_composition_3',\n",
       "       'sentence_composition_4', 'sentence_composition_5',\n",
       "       'sentence_composition_6', 'sentence_composition_7',\n",
       "       'sentence_composition_8', 'transaction_year'],\n",
       "      dtype='object', length=158)"
      ]
     },
     "execution_count": 33,
     "metadata": {},
     "output_type": "execute_result"
    }
   ],
   "source": [
    "df.columns"
   ]
  },
  {
   "cell_type": "code",
   "execution_count": null,
   "metadata": {},
   "outputs": [],
   "source": []
  },
  {
   "cell_type": "code",
   "execution_count": null,
   "metadata": {},
   "outputs": [],
   "source": []
  },
  {
   "cell_type": "code",
   "execution_count": null,
   "metadata": {},
   "outputs": [],
   "source": []
  },
  {
   "cell_type": "code",
   "execution_count": 65,
   "metadata": {},
   "outputs": [
    {
     "data": {
      "image/png": "[encoded data removed]",
      "text/plain": [
       "<Figure size 864x720 with 1 Axes>"
      ]
     },
     "metadata": {},
     "output_type": "display_data"
    }
   ],
   "source": [
    "fig = plt.figure(figsize=(12,10))\n",
    "importances = model.feature_importances_\n",
    "indices = np.argsort(importances)\n",
    "features = predictor_columns\n",
    "plt.title('Feature Importances')\n",
    "plt.barh(range(len(indices)), importances[indices], color='b', align='center')\n",
    "plt.yticks(range(len(indices)), [features[i] for i in indices])\n",
    "plt.xlabel('Relative Importance')\n",
    "plt.show()"
   ]
  },
  {
   "cell_type": "code",
   "execution_count": null,
   "metadata": {},
   "outputs": [],
   "source": []
  },
  {
   "cell_type": "code",
   "execution_count": null,
   "metadata": {},
   "outputs": [],
   "source": []
  },
  {
   "cell_type": "code",
   "execution_count": null,
   "metadata": {},
   "outputs": [],
   "source": [
    "[features[i] for i in indices]"
   ]
  },
  {
   "cell_type": "code",
   "execution_count": null,
   "metadata": {},
   "outputs": [],
   "source": []
  },
  {
   "cell_type": "code",
   "execution_count": 64,
   "metadata": {},
   "outputs": [
    {
     "data": {
      "text/plain": [
       "['RF_newmodel_01_3mins.sav']"
      ]
     },
     "execution_count": 64,
     "metadata": {},
     "output_type": "execute_result"
    }
   ],
   "source": [
    "import joblib\n",
    "filename = 'RF_newmodel_01_3mins.sav'\n",
    "joblib.dump(model,filename)"
   ]
  },
  {
   "cell_type": "code",
   "execution_count": null,
   "metadata": {},
   "outputs": [],
   "source": []
  }
 ],
 "metadata": {
  "kernelspec": {
   "display_name": "Python 3",
   "language": "python",
   "name": "python3"
  },
  "language_info": {
   "codemirror_mode": {
    "name": "ipython",
    "version": 3
   },
   "file_extension": ".py",
   "mimetype": "text/x-python",
   "name": "python",
   "nbconvert_exporter": "python",
   "pygments_lexer": "ipython3",
   "version": "3.6.10"
  }
 },
 "nbformat": 4,
 "nbformat_minor": 4
}
