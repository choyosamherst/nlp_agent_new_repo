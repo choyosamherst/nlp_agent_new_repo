{
 "cells": [
  {
   "cell_type": "code",
   "execution_count": null,
   "metadata": {},
   "outputs": [],
   "source": [
    "from sklearn.ensemble import RandomForestRegressor\n",
    "from sklearn.datasets import make_regression\n",
    "\n",
    "import pandas as pd\n",
    "import numpy as np\n",
    "import matplotlib.pyplot as plt\n",
    "\n",
    "\n",
    "from sklearn.datasets import make_classification\n",
    "from sklearn.model_selection import train_test_split\n",
    "\n",
    "from sklearn.ensemble import RandomForestClassifier\n",
    "\n",
    "from sklearn.preprocessing import MinMaxScaler\n"
   ]
  },
  {
   "cell_type": "code",
   "execution_count": null,
   "metadata": {},
   "outputs": [],
   "source": [
    "from sklearn.ensemble import RandomForestRegressor\n",
    "from sklearn.datasets import make_regression\n",
    "\n",
    "import pandas as pd\n",
    "import numpy as np\n",
    "import matplotlib.pyplot as plt\n",
    "\n",
    "\n",
    "from sklearn.datasets import make_classification\n",
    "from sklearn.model_selection import train_test_split\n",
    "\n",
    "from sklearn.ensemble import RandomForestClassifier\n",
    "\n",
    "from sklearn.preprocessing import MinMaxScaler\n",
    "\n",
    "import pandas as pd\n",
    "import numpy as np\n",
    "import matplotlib.pyplot as plt\n",
    "import matplotlib.dates as mdates\n",
    "from matplotlib.dates import DateFormatter\n",
    "from datetime import date, datetime\n",
    "\n",
    "from sklearn.metrics import confusion_matrix\n",
    "from sklearn.metrics import normalized_mutual_info_score, mutual_info_score\n",
    "from sklearn.feature_selection import mutual_info_regression\n",
    "\n",
    "from sklearn.preprocessing import KBinsDiscretizer\n",
    "from sklearn.preprocessing import MaxAbsScaler\n",
    "from sklearn.preprocessing import StandardScaler\n",
    "from sklearn.preprocessing import MinMaxScaler\n",
    "\n",
    "from sklearn.linear_model import LinearRegression\n",
    "\n",
    "from sklearn.pipeline import Pipeline\n",
    "\n",
    "from matplotlib import colors\n",
    "import seaborn as sns\n",
    "\n",
    "\n",
    "import tensorflow as tf\n",
    "from tensorflow import keras\n",
    "from tensorflow.keras import layers\n",
    "from tensorflow.keras import optimizers\n"
   ]
  },
  {
   "cell_type": "code",
   "execution_count": 3,
   "metadata": {},
   "outputs": [],
   "source": [
    "import seaborn as sns\n",
    "sns.set_style(\"whitegrid\")"
   ]
  },
  {
   "cell_type": "code",
   "execution_count": null,
   "metadata": {},
   "outputs": [],
   "source": []
  },
  {
   "cell_type": "code",
   "execution_count": 4,
   "metadata": {},
   "outputs": [],
   "source": [
    "noun_sentence_df_final_joined_df_selected_columns_use_min = pd.\\\n",
    "    read_feather('noun_sentence_df_final_joined_df_selected_columns_use_min_test_3mins.fea')"
   ]
  },
  {
   "cell_type": "code",
   "execution_count": 5,
   "metadata": {},
   "outputs": [],
   "source": [
    "noun_sentence_df_final_joined_df_selected_columns_use_min = noun_sentence_df_final_joined_df_selected_columns_use_min.dropna()"
   ]
  },
  {
   "cell_type": "code",
   "execution_count": 6,
   "metadata": {},
   "outputs": [
    {
     "data": {
      "text/plain": [
       "Index(['level_0', 'listingid', 'index_x', 'AVM_Error_List_x',\n",
       "       'Listing_Error_List_x', 'Transdate_x', 'Transprice_x', 'total_value_x',\n",
       "       'cj_living_area_x', 'effective_year_built_x',\n",
       "       ...\n",
       "       'sentence_composition_0', 'sentence_composition_1',\n",
       "       'sentence_composition_2', 'sentence_composition_3',\n",
       "       'sentence_composition_4', 'sentence_composition_5',\n",
       "       'sentence_composition_6', 'sentence_composition_7',\n",
       "       'sentence_composition_8', 'transaction_year'],\n",
       "      dtype='object', length=158)"
      ]
     },
     "execution_count": 6,
     "metadata": {},
     "output_type": "execute_result"
    }
   ],
   "source": [
    "noun_sentence_df_final_joined_df_selected_columns_use_min.columns"
   ]
  },
  {
   "cell_type": "code",
   "execution_count": 7,
   "metadata": {},
   "outputs": [],
   "source": [
    "noun_sentence_df_final_joined_df_selected_columns_use = noun_sentence_df_final_joined_df_selected_columns_use_min"
   ]
  },
  {
   "cell_type": "code",
   "execution_count": 8,
   "metadata": {},
   "outputs": [],
   "source": [
    "predictor_columns = [   'sentence_composition_7_y',\n",
    " 'AVM_Error_Indicators_5_y',\n",
    " 'sentence_composition_7',\n",
    " 'AVM_Error_Indicators_4_y',\n",
    " 'AVM_Error_Indicators_5_x',\n",
    " 'AVM_Error_Indicators_0',\n",
    " 'AVM_Error_Indicators_10_x',\n",
    " 'AVM_Error_Indicators_11_y',\n",
    " 'AVM_Error_Indicators_4_x',\n",
    " 'cj_living_area_x',\n",
    " 'AVM_Error_Indicators_6_x',\n",
    " 'AVM_Error_Indicators_0_x',\n",
    " 'avmValue_x']"
   ]
  },
  {
   "cell_type": "code",
   "execution_count": 9,
   "metadata": {},
   "outputs": [],
   "source": [
    "predictor_columns_ann = [  'AVM_Error_Indicators_4_y',\n",
    " 'sentence_composition_0_x',\n",
    " 'AVM_Error_Indicators_0',\n",
    " 'Listing_Error_Indicators_1_x',\n",
    " 'AVM_Error_Indicators_4',\n",
    " 'AVM_Error_Indicators_scale_x',\n",
    " 'AVM_Error_Indicators_11_x',\n",
    " 'AVM_Error_Indicators_11_y',\n",
    " 'sentence_composition_7_y',\n",
    " 'AVM_Error_Indicators_0_y',\n",
    " 'sentence_composition_7',\n",
    " 'sentence_composition_7_x',\n",
    " 'Listing_Error_Indicators_4_x',\n",
    " 'AVM_Error_Indicators_4_x',\n",
    " 'AVM_Error_Indicators_8_x',\n",
    " 'AVM_Error_Indicators_10_y',\n",
    " 'AVM_Error_Indicators_7_x',\n",
    " 'AVM_Error_Indicators_10_x',\n",
    " 'AVM_Error_Indicators_1_x',\n",
    " 'cj_living_area_x',\n",
    " 'AVM_Error_Indicators_0_x',\n",
    " 'AVM_Error_Indicators_6_x',\n",
    " 'AVM_Error_Indicators_5_x',\n",
    " 'avmValue_x']"
   ]
  },
  {
   "cell_type": "code",
   "execution_count": 10,
   "metadata": {},
   "outputs": [],
   "source": [
    "Predictors_ann = noun_sentence_df_final_joined_df_selected_columns_use[predictor_columns_ann].to_numpy()"
   ]
  },
  {
   "cell_type": "code",
   "execution_count": 11,
   "metadata": {},
   "outputs": [],
   "source": [
    "for i in range(Predictors_ann.shape[1]):\n",
    "    Predictors_ann[:,i]=(Predictors_ann[:,i]-np.mean(Predictors_ann[:,i]))/np.std(Predictors_ann[:,i])"
   ]
  },
  {
   "cell_type": "code",
   "execution_count": 12,
   "metadata": {},
   "outputs": [],
   "source": [
    "Predictors = noun_sentence_df_final_joined_df_selected_columns_use_min.loc[:,predictor_columns].to_numpy()"
   ]
  },
  {
   "cell_type": "code",
   "execution_count": 13,
   "metadata": {},
   "outputs": [
    {
     "data": {
      "text/plain": [
       "(200000, 13)"
      ]
     },
     "execution_count": 13,
     "metadata": {},
     "output_type": "execute_result"
    }
   ],
   "source": [
    "Predictors.shape"
   ]
  },
  {
   "cell_type": "code",
   "execution_count": 14,
   "metadata": {},
   "outputs": [],
   "source": [
    "predictand = noun_sentence_df_final_joined_df_selected_columns_use_min.avmerror.values"
   ]
  },
  {
   "cell_type": "code",
   "execution_count": 15,
   "metadata": {},
   "outputs": [
    {
     "data": {
      "text/plain": [
       "(200000,)"
      ]
     },
     "execution_count": 15,
     "metadata": {},
     "output_type": "execute_result"
    }
   ],
   "source": [
    "predictand.shape"
   ]
  },
  {
   "cell_type": "code",
   "execution_count": 16,
   "metadata": {},
   "outputs": [],
   "source": [
    "import joblib\n",
    "\n",
    "modelRF01 = joblib.load('RF_newmodel_01_3mins.sav')\n",
    "modelXG01 = joblib.load('XG_newmodel_01_3mins.sav')\n"
   ]
  },
  {
   "cell_type": "code",
   "execution_count": 17,
   "metadata": {},
   "outputs": [],
   "source": [
    "modelNN01 = keras.models.load_model('RF_newmodel_01_3mins.h5')"
   ]
  },
  {
   "cell_type": "code",
   "execution_count": 18,
   "metadata": {},
   "outputs": [],
   "source": [
    "predictions_RF01 =  modelRF01.predict(Predictors)\n",
    "predictions_XG01=  modelXG01.predict(Predictors)\n",
    "predictions_NN01 =  modelNN01.predict(Predictors_ann)"
   ]
  },
  {
   "cell_type": "code",
   "execution_count": null,
   "metadata": {},
   "outputs": [],
   "source": []
  },
  {
   "cell_type": "code",
   "execution_count": 19,
   "metadata": {},
   "outputs": [],
   "source": [
    "df = noun_sentence_df_final_joined_df_selected_columns_use.copy()"
   ]
  },
  {
   "cell_type": "code",
   "execution_count": 20,
   "metadata": {},
   "outputs": [],
   "source": [
    "predictions_RF01_value = df['avmValue'].values/(1-predictions_RF01)\n",
    "predictions_XG01_value = df['avmValue'].values/(1-predictions_XG01)\n",
    "predictions_NN01_value = df['avmValue'].values/(1-predictions_NN01[:,0])"
   ]
  },
  {
   "cell_type": "code",
   "execution_count": 21,
   "metadata": {},
   "outputs": [],
   "source": [
    "predictions_value = (predictions_RF01_value +\n",
    "                    predictions_NN01_value +\n",
    "                    predictions_XG01_value )/3."
   ]
  },
  {
   "cell_type": "code",
   "execution_count": null,
   "metadata": {},
   "outputs": [],
   "source": []
  },
  {
   "cell_type": "code",
   "execution_count": null,
   "metadata": {},
   "outputs": [],
   "source": [
    "\n"
   ]
  },
  {
   "cell_type": "code",
   "execution_count": 22,
   "metadata": {},
   "outputs": [
    {
     "name": "stdout",
     "output_type": "stream",
     "text": [
      "RF01 0.10509304923462261\n",
      "XG01 0.10803326476820406\n",
      "NN01 0.11389768457972728\n",
      "Combined 0.10825230833459365\n",
      "AVM 0.12211574741864119\n"
     ]
    }
   ],
   "source": [
    "print('RF01', np.mean(np.abs(df['Transprice'].values-predictions_RF01_value)/\\\n",
    "              (df['Transprice'].values)))\n",
    "print('XG01',np.mean(np.abs(df['Transprice'].values-predictions_XG01_value)/\\\n",
    "              (df['Transprice'].values)))\n",
    "print('NN01',np.mean(np.abs(df['Transprice'].values-predictions_NN01_value)/\\\n",
    "              (df['Transprice'].values)))\n",
    "print('Combined',np.mean(np.abs(df['Transprice'].values-predictions_value)/\\\n",
    "              (df['Transprice'].values)))\n",
    "\n",
    "print('AVM',np.mean(np.abs(df['Transprice'].values- df['avmValue'].values)/\\\n",
    "              (df['Transprice'].values)))\n"
   ]
  },
  {
   "cell_type": "code",
   "execution_count": null,
   "metadata": {},
   "outputs": [],
   "source": []
  },
  {
   "cell_type": "code",
   "execution_count": null,
   "metadata": {},
   "outputs": [],
   "source": []
  },
  {
   "cell_type": "code",
   "execution_count": null,
   "metadata": {},
   "outputs": [],
   "source": []
  }
 ],
 "metadata": {
  "kernelspec": {
   "display_name": "Python 3",
   "language": "python",
   "name": "python3"
  },
  "language_info": {
   "codemirror_mode": {
    "name": "ipython",
    "version": 3
   },
   "file_extension": ".py",
   "mimetype": "text/x-python",
   "name": "python",
   "nbconvert_exporter": "python",
   "pygments_lexer": "ipython3",
   "version": "3.6.10"
  }
 },
 "nbformat": 4,
 "nbformat_minor": 4
}
