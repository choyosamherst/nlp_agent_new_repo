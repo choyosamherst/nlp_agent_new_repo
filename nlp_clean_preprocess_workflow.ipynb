{
 "cells": [
  {
   "cell_type": "code",
   "execution_count": 18,
   "metadata": {},
   "outputs": [],
   "source": [
    "import numpy as np\n",
    "import pandas as pd\n",
    "\n",
    "import time"
   ]
  },
  {
   "cell_type": "code",
   "execution_count": 19,
   "metadata": {},
   "outputs": [],
   "source": [
    "#import nltk\n",
    "#nltk.download('punkt')"
   ]
  },
  {
   "cell_type": "code",
   "execution_count": 20,
   "metadata": {},
   "outputs": [],
   "source": [
    "#df = pd.read_feather('agent_comments.fea')\n",
    "#df_Save = df.head(20000)\n",
    "#df_Save.to_feather('agent_comments_testdf.fea')"
   ]
  },
  {
   "cell_type": "code",
   "execution_count": 21,
   "metadata": {},
   "outputs": [],
   "source": [
    "# This is important: We need to test which stop are actually important to remove (which are just noise in Amherst context)\n",
    "# For now just using the common stop words\n",
    "\n",
    "stop_words_to_add_1 = ['able', 'about', 'above', 'abst', 'accordance', 'according', 'accordingly', 'across', 'act', 'actually', 'added', 'adj', 'affected', 'affecting',\n",
    "                    'affects', 'after', 'afterwards', 'again', 'against', 'ah', 'all', 'almost', 'alone', 'along', 'already', 'also', 'although', 'always', 'am', 'among',\n",
    "                   'amongst', 'an', 'and', 'announce', 'another', 'any', 'anybody', 'anyhow', 'anymore', 'anyone', 'anything', 'anyway', 'anyways', 'anywhere', 'apparently',\n",
    "                   'approximately', 'are', 'aren', 'arent', 'arise', 'around', 'as', 'aside', 'ask', 'asking', 'at', 'auth', 'away', 'awfully', 'back',\n",
    "                   'be', 'became', 'because', 'become', 'becomes', 'becoming', 'been', 'before', 'beforehand', 'begin', 'beginning', 'beginnings', 'begins', 'behind',\n",
    "                   'being', 'believe', 'below', 'beside', 'besides', 'between', 'beyond', 'biol', 'both', 'brief', 'briefly', 'but', 'by', 'c', 'ca', 'came', 'can',\n",
    "                   'cannot', 'can''t', 'cause', 'causes', 'certain', 'certainly', 'co', 'com', 'come', 'comes', 'contain', 'containing', 'contains', 'could', 'couldnt',\n",
    "                   'date', 'did', 'didn''t', 'different', 'do', 'does', 'doesn''t', 'doing', 'done', 'don''t', 'down', 'downwards', 'due', 'during', 'each', 'ed', 'edu',\n",
    "                   'effect', 'eg', 'eight', 'eighty', 'either', 'else', 'elsewhere', 'end', 'ending', 'enough', 'especially', 'et', 'et-al', 'etc', 'even', 'ever', 'every',\n",
    "                   'everybody', 'everyone', 'everything', 'everywhere', 'except', 'far', 'few', 'ff', 'fifth', 'first', 'five', 'followed', 'following', 'follows',\n",
    "                   'for', 'former', 'formerly', 'forth', 'found', 'four', 'from', 'further', 'furthermore', 'gave', 'get', 'gets', 'getting', 'give', 'given', 'gives',\n",
    "                   'giving', 'go', 'goes', 'gone', 'got', 'gotten', 'had', 'happens', 'hardly', 'has', 'hasn''t', 'have', 'haven''t', 'having', 'he', 'hed', 'hence', 'her',\n",
    "                   'here', 'hereafter', 'hereby', 'herein', 'heres', 'hereupon', 'hers', 'herself', 'hes', 'hi', 'hid', 'him', 'himself', 'his', 'hither', 'home', 'how',\n",
    "                   'howbeit', 'however', 'hundred', 'id', 'ie', 'if', 'im', 'importance', 'important', 'in', 'inc', 'indeed', 'index',\n",
    "                   'information', 'instead', 'into', 'invention', 'inward', 'is', 'isn''t', 'it', 'itd', 'it''ll', 'its', 'itself', 'just', 'keep', 'keeps', 'kept',\n",
    "                   'kg', 'km', 'know', 'known', 'knows', 'largely', 'last', 'lately', 'later', 'latter', 'latterly', 'least', 'less', 'lest', 'let', 'lets', 'like', 'liked',\n",
    "                   'likely', 'line', 'little', 'look', 'looking', 'looks', 'ltd', 'made', 'mainly', 'make', 'makes', 'many', 'may', 'maybe', 'me', 'mean', 'means', 'meantime',\n",
    "                   'meanwhile', 'merely', 'mg', 'might', 'million', 'miss', 'ml', 'more', 'moreover', 'most', 'mostly', 'much', 'mug', 'my', 'myself', 'name', 'namely', 'nay',\n",
    "                   'near', 'nearly', 'necessarily', 'neither', 'never', 'nevertheless', 'new', 'next', 'nine', 'ninety', 'no', 'nobody', 'non',\n",
    "                   'none', 'nonetheless', 'noone', 'nor', 'normally', 'nos', 'not', 'noted', 'nothing', 'now', 'nowhere', 'obtain', 'obtained', 'obviously', 'of', 'off', 'often',\n",
    "                   'oh', 'ok', 'okay', 'old', 'omitted', 'on', 'once', 'one', 'ones', 'only', 'onto', 'or', 'ord', 'other', 'others', 'otherwise', 'ought', 'our', 'ours', 'ourselves',\n",
    "                   'out', 'outside', 'over', 'overall', 'owing', 'own', 'page', 'pages', 'part', 'particular', 'particularly', 'past', 'per', 'perhaps', 'placed', 'please', 'plus',\n",
    "                   'poorly', 'possible', 'possibly', 'potentially', 'predominantly', 'present', 'previously', 'primarily', 'probably', 'promptly', 'proud', 'provides', 'put', 'que',\n",
    "                   'quickly', 'quite', 'qv', 'ran', 'rather', 'rd', 're', 'readily', 'really', 'recent', 'recently', 'ref', 'refs', 'regarding', 'regardless', 'regards', 'related',\n",
    "                   'relatively', 'research', 'respectively', 'resulted', 'resulting', 'results', 'right', 'run', 'said', 'same', 'saw', 'say', 'saying', 'says', 'sec', 'section',\n",
    "                   'see', 'seeing', 'seem', 'seemed', 'seeming', 'seems', 'seen', 'self', 'selves', 'sent', 'seven', 'several', 'shall', 'she', 'shed', 'she''ll', 'shes', 'should',\n",
    "                   'shouldn''t', 'show', 'showed', 'shown', 'showns', 'shows', 'significant', 'significantly', 'similar', 'similarly', 'since', 'six', 'slightly', 'so', 'some',\n",
    "                   'somebody', 'somehow', 'someone', 'somethan', 'something', 'sometime', 'sometimes', 'somewhat', 'somewhere', 'soon', 'sorry', 'specifically', 'specified', 'specify',\n",
    "                   'specifying', 'still', 'stop', 'strongly', 'sub', 'successfully', 'such', 'sufficiently', 'suggest', 'sup', 'sure', 'take', 'taken', 'taking',\n",
    "                   'tell', 'tends', 'th', 'than', 'thank', 'thanks', 'thanx', 'that', 'that''ll', 'thats', 'that''ve', 'the', 'their', 'theirs', 'them', 'themselves', 'then',\n",
    "                   'thence', 'there', 'thereafter', 'thereby', 'thered', 'therefore', 'therein', 'there''ll', 'thereof', 'therere', 'theres', 'thereto', 'thereupon', 'there''ve',\n",
    "                   'these', 'they', 'theyd', 'they''ll', 'theyre', 'they''ve', 'think', 'this', 'those', 'thou', 'though', 'thoughh', 'thousand', 'throug', 'through',\n",
    "                   'thru', 'thus', 'til', 'tip', 'to', 'together', 'too', 'took', 'toward', 'towards', 'tried', 'tries', 'truly', 'try', 'trying', 'ts', 'twice', 'two', 'under',\n",
    "                   'unfortunately', 'unless', 'unlike', 'unlikely', 'until', 'unto', 'up', 'upon', 'ups', 'us', 'use', 'used', 'useful', 'usefully', 'usefulness', 'uses', 'using',\n",
    "                   'usually', 'various', 'very', 'via', 'viz', 'vol', 'vols', 'vs', 'want', 'wants', 'was', 'wasnt', 'way', 'we', 'wed', 'welcome', 'we''ll', 'went', 'were',\n",
    "                   'werent', 'we''ve', 'what', 'whatever', 'what''ll', 'whats', 'when', 'whence', 'whenever', 'where', 'whereafter', 'whereas', 'whereby', 'wherein', 'wheres',\n",
    "                   'whereupon', 'wherever', 'whether', 'which', 'while', 'whim', 'whither', 'who', 'whod', 'whoever', 'whole', 'who''ll', 'whom', 'whomever', 'whos', 'whose',\n",
    "                   'why', 'widely', 'willing', 'wish', 'with', 'within', 'without', 'wont', 'words', 'world', 'would', 'wouldnt', 'www','yes', 'yet', 'you', 'youd', 'you''ll',\n",
    "                   'your', 'youre', 'yours', 'yourself', 'yourselves', 'you''ve', 'zero']\n",
    "\n",
    "\n",
    "stop_words_to_add_2 = []"
   ]
  },
  {
   "cell_type": "code",
   "execution_count": 22,
   "metadata": {},
   "outputs": [],
   "source": [
    "str_state = 'GA'\n",
    "file = 'agent_comments_sales_'+str_state\n",
    "#file = 'agent_comments_testdf'\n",
    "df_sales = pd.read_feather(file+'.fea')"
   ]
  },
  {
   "cell_type": "code",
   "execution_count": 23,
   "metadata": {},
   "outputs": [
    {
     "data": {
      "text/html": [
       "<div>\n",
       "<style scoped>\n",
       "    .dataframe tbody tr th:only-of-type {\n",
       "        vertical-align: middle;\n",
       "    }\n",
       "\n",
       "    .dataframe tbody tr th {\n",
       "        vertical-align: top;\n",
       "    }\n",
       "\n",
       "    .dataframe thead th {\n",
       "        text-align: right;\n",
       "    }\n",
       "</style>\n",
       "<table border=\"1\" class=\"dataframe\">\n",
       "  <thead>\n",
       "    <tr style=\"text-align: right;\">\n",
       "      <th></th>\n",
       "      <th>index</th>\n",
       "      <th>listingid</th>\n",
       "      <th>asgpropid</th>\n",
       "      <th>qtr</th>\n",
       "      <th>tax_year</th>\n",
       "      <th>cbsa_div</th>\n",
       "      <th>cbsa</th>\n",
       "      <th>state</th>\n",
       "      <th>Transdate</th>\n",
       "      <th>Transprice</th>\n",
       "      <th>...</th>\n",
       "      <th>fips_code</th>\n",
       "      <th>census_tract</th>\n",
       "      <th>zip</th>\n",
       "      <th>effective_year_built</th>\n",
       "      <th>story</th>\n",
       "      <th>ListingPrice</th>\n",
       "      <th>publicremarks</th>\n",
       "      <th>avmValue</th>\n",
       "      <th>avmerror</th>\n",
       "      <th>rentsale</th>\n",
       "    </tr>\n",
       "  </thead>\n",
       "  <tbody>\n",
       "    <tr>\n",
       "      <td>0</td>\n",
       "      <td>128</td>\n",
       "      <td>226661582</td>\n",
       "      <td>27649366.0</td>\n",
       "      <td>202008</td>\n",
       "      <td>2020.0</td>\n",
       "      <td>23580</td>\n",
       "      <td>23580</td>\n",
       "      <td>GA</td>\n",
       "      <td>20200811</td>\n",
       "      <td>359000.0</td>\n",
       "      <td>...</td>\n",
       "      <td>13139</td>\n",
       "      <td>13139001608</td>\n",
       "      <td>30517</td>\n",
       "      <td>2015.0</td>\n",
       "      <td>1.5</td>\n",
       "      <td>375000.0</td>\n",
       "      <td>Welcome to this gorgeous basement home in the ...</td>\n",
       "      <td>405972.57</td>\n",
       "      <td>-0.130843</td>\n",
       "      <td>S</td>\n",
       "    </tr>\n",
       "    <tr>\n",
       "      <td>1</td>\n",
       "      <td>190</td>\n",
       "      <td>226786904</td>\n",
       "      <td>27628370.0</td>\n",
       "      <td>202008</td>\n",
       "      <td>2020.0</td>\n",
       "      <td>29300</td>\n",
       "      <td>29300</td>\n",
       "      <td>GA</td>\n",
       "      <td>20200925</td>\n",
       "      <td>265000.0</td>\n",
       "      <td>...</td>\n",
       "      <td>13285</td>\n",
       "      <td>13285960300</td>\n",
       "      <td>30240</td>\n",
       "      <td>1995.0</td>\n",
       "      <td>1.0</td>\n",
       "      <td>279900.0</td>\n",
       "      <td>LOCATION LOCATION LOCATION!!!! JUST STEPS FROM...</td>\n",
       "      <td>244827.67</td>\n",
       "      <td>0.076122</td>\n",
       "      <td>S</td>\n",
       "    </tr>\n",
       "    <tr>\n",
       "      <td>2</td>\n",
       "      <td>232</td>\n",
       "      <td>226142320</td>\n",
       "      <td>27963359.0</td>\n",
       "      <td>202005</td>\n",
       "      <td>2020.0</td>\n",
       "      <td>27600</td>\n",
       "      <td>27600</td>\n",
       "      <td>GA</td>\n",
       "      <td>20200624</td>\n",
       "      <td>239900.0</td>\n",
       "      <td>...</td>\n",
       "      <td>13157</td>\n",
       "      <td>13157010701</td>\n",
       "      <td>30549</td>\n",
       "      <td>2003.0</td>\n",
       "      <td>1.0</td>\n",
       "      <td>239900.0</td>\n",
       "      <td>Spacious stepless 4-sides Brick Ranch with a R...</td>\n",
       "      <td>229674.21</td>\n",
       "      <td>0.042625</td>\n",
       "      <td>S</td>\n",
       "    </tr>\n",
       "    <tr>\n",
       "      <td>3</td>\n",
       "      <td>308</td>\n",
       "      <td>226738459</td>\n",
       "      <td>27516267.0</td>\n",
       "      <td>202008</td>\n",
       "      <td>2020.0</td>\n",
       "      <td>29300</td>\n",
       "      <td>29300</td>\n",
       "      <td>GA</td>\n",
       "      <td>20200713</td>\n",
       "      <td>130900.0</td>\n",
       "      <td>...</td>\n",
       "      <td>13285</td>\n",
       "      <td>13285960202</td>\n",
       "      <td>30240</td>\n",
       "      <td>2010.0</td>\n",
       "      <td>1.0</td>\n",
       "      <td>129900.0</td>\n",
       "      <td>New carpet , new vinyl, new interior paint, ne...</td>\n",
       "      <td>143607.40</td>\n",
       "      <td>-0.097077</td>\n",
       "      <td>S</td>\n",
       "    </tr>\n",
       "    <tr>\n",
       "      <td>4</td>\n",
       "      <td>467</td>\n",
       "      <td>226850183</td>\n",
       "      <td>27791872.0</td>\n",
       "      <td>202008</td>\n",
       "      <td>2020.0</td>\n",
       "      <td>23580</td>\n",
       "      <td>23580</td>\n",
       "      <td>GA</td>\n",
       "      <td>20200702</td>\n",
       "      <td>406000.0</td>\n",
       "      <td>...</td>\n",
       "      <td>13139</td>\n",
       "      <td>13139001608</td>\n",
       "      <td>30548</td>\n",
       "      <td>2013.0</td>\n",
       "      <td>2.0</td>\n",
       "      <td>415000.0</td>\n",
       "      <td>Beautiful John Wieland Home in highly sought a...</td>\n",
       "      <td>408971.22</td>\n",
       "      <td>-0.007318</td>\n",
       "      <td>S</td>\n",
       "    </tr>\n",
       "    <tr>\n",
       "      <td>...</td>\n",
       "      <td>...</td>\n",
       "      <td>...</td>\n",
       "      <td>...</td>\n",
       "      <td>...</td>\n",
       "      <td>...</td>\n",
       "      <td>...</td>\n",
       "      <td>...</td>\n",
       "      <td>...</td>\n",
       "      <td>...</td>\n",
       "      <td>...</td>\n",
       "      <td>...</td>\n",
       "      <td>...</td>\n",
       "      <td>...</td>\n",
       "      <td>...</td>\n",
       "      <td>...</td>\n",
       "      <td>...</td>\n",
       "      <td>...</td>\n",
       "      <td>...</td>\n",
       "      <td>...</td>\n",
       "      <td>...</td>\n",
       "      <td>...</td>\n",
       "    </tr>\n",
       "    <tr>\n",
       "      <td>636144</td>\n",
       "      <td>6908610</td>\n",
       "      <td>77898274</td>\n",
       "      <td>106321613.0</td>\n",
       "      <td>200708</td>\n",
       "      <td>2013.0</td>\n",
       "      <td>27600</td>\n",
       "      <td>27600</td>\n",
       "      <td>GA</td>\n",
       "      <td>20070719</td>\n",
       "      <td>163900.0</td>\n",
       "      <td>...</td>\n",
       "      <td>13157</td>\n",
       "      <td>13157010103</td>\n",
       "      <td>30517</td>\n",
       "      <td>2001.0</td>\n",
       "      <td>1.0</td>\n",
       "      <td>159900.0</td>\n",
       "      <td>SPLIT BEDROOM FLOORPLAN; 3 BR/2 FULL BA; VAULT...</td>\n",
       "      <td>174640.18</td>\n",
       "      <td>-0.065529</td>\n",
       "      <td>S</td>\n",
       "    </tr>\n",
       "    <tr>\n",
       "      <td>636145</td>\n",
       "      <td>6912211</td>\n",
       "      <td>77863520</td>\n",
       "      <td>131534737.0</td>\n",
       "      <td>200705</td>\n",
       "      <td>2013.0</td>\n",
       "      <td>23580</td>\n",
       "      <td>23580</td>\n",
       "      <td>GA</td>\n",
       "      <td>20070430</td>\n",
       "      <td>292300.0</td>\n",
       "      <td>...</td>\n",
       "      <td>13139</td>\n",
       "      <td>13139001502</td>\n",
       "      <td>30542</td>\n",
       "      <td>2001.0</td>\n",
       "      <td>1.5</td>\n",
       "      <td>299500.0</td>\n",
       "      <td>Lake Front! Beautifully terraced stone walkway...</td>\n",
       "      <td>212083.67</td>\n",
       "      <td>0.274432</td>\n",
       "      <td>S</td>\n",
       "    </tr>\n",
       "    <tr>\n",
       "      <td>636146</td>\n",
       "      <td>6912289</td>\n",
       "      <td>77900119</td>\n",
       "      <td>131589092.0</td>\n",
       "      <td>200708</td>\n",
       "      <td>2013.0</td>\n",
       "      <td>23580</td>\n",
       "      <td>23580</td>\n",
       "      <td>GA</td>\n",
       "      <td>20070831</td>\n",
       "      <td>181000.0</td>\n",
       "      <td>...</td>\n",
       "      <td>13139</td>\n",
       "      <td>13139001607</td>\n",
       "      <td>30542</td>\n",
       "      <td>2001.0</td>\n",
       "      <td>1.0</td>\n",
       "      <td>186900.0</td>\n",
       "      <td>Stable Neighborhood, Fresh Paint and New Carpe...</td>\n",
       "      <td>157484.07</td>\n",
       "      <td>0.129922</td>\n",
       "      <td>S</td>\n",
       "    </tr>\n",
       "    <tr>\n",
       "      <td>636147</td>\n",
       "      <td>6912290</td>\n",
       "      <td>77861631</td>\n",
       "      <td>131589103.0</td>\n",
       "      <td>200702</td>\n",
       "      <td>2013.0</td>\n",
       "      <td>23580</td>\n",
       "      <td>23580</td>\n",
       "      <td>GA</td>\n",
       "      <td>20070214</td>\n",
       "      <td>179800.0</td>\n",
       "      <td>...</td>\n",
       "      <td>13139</td>\n",
       "      <td>13139001607</td>\n",
       "      <td>30542</td>\n",
       "      <td>2000.0</td>\n",
       "      <td>1.0</td>\n",
       "      <td>174900.0</td>\n",
       "      <td>COMFORTABLE 3BR/2BA RANCH ON WOODED CUL-DE-SAC...</td>\n",
       "      <td>193862.59</td>\n",
       "      <td>-0.078212</td>\n",
       "      <td>S</td>\n",
       "    </tr>\n",
       "    <tr>\n",
       "      <td>636148</td>\n",
       "      <td>6912291</td>\n",
       "      <td>77883696</td>\n",
       "      <td>131589105.0</td>\n",
       "      <td>200705</td>\n",
       "      <td>2013.0</td>\n",
       "      <td>23580</td>\n",
       "      <td>23580</td>\n",
       "      <td>GA</td>\n",
       "      <td>20070420</td>\n",
       "      <td>185000.0</td>\n",
       "      <td>...</td>\n",
       "      <td>13139</td>\n",
       "      <td>13139001607</td>\n",
       "      <td>30542</td>\n",
       "      <td>1999.0</td>\n",
       "      <td>1.0</td>\n",
       "      <td>189900.0</td>\n",
       "      <td>EVERYONES FAVORITE: RANCH ON FULL BSMT! THIS 3...</td>\n",
       "      <td>191104.55</td>\n",
       "      <td>-0.032998</td>\n",
       "      <td>S</td>\n",
       "    </tr>\n",
       "  </tbody>\n",
       "</table>\n",
       "<p>636149 rows × 33 columns</p>\n",
       "</div>"
      ],
      "text/plain": [
       "          index  listingid    asgpropid     qtr  tax_year cbsa_div   cbsa  \\\n",
       "0           128  226661582   27649366.0  202008    2020.0    23580  23580   \n",
       "1           190  226786904   27628370.0  202008    2020.0    29300  29300   \n",
       "2           232  226142320   27963359.0  202005    2020.0    27600  27600   \n",
       "3           308  226738459   27516267.0  202008    2020.0    29300  29300   \n",
       "4           467  226850183   27791872.0  202008    2020.0    23580  23580   \n",
       "...         ...        ...          ...     ...       ...      ...    ...   \n",
       "636144  6908610   77898274  106321613.0  200708    2013.0    27600  27600   \n",
       "636145  6912211   77863520  131534737.0  200705    2013.0    23580  23580   \n",
       "636146  6912289   77900119  131589092.0  200708    2013.0    23580  23580   \n",
       "636147  6912290   77861631  131589103.0  200702    2013.0    23580  23580   \n",
       "636148  6912291   77883696  131589105.0  200705    2013.0    23580  23580   \n",
       "\n",
       "       state  Transdate  Transprice  ...  fips_code  census_tract    zip  \\\n",
       "0         GA   20200811    359000.0  ...      13139   13139001608  30517   \n",
       "1         GA   20200925    265000.0  ...      13285   13285960300  30240   \n",
       "2         GA   20200624    239900.0  ...      13157   13157010701  30549   \n",
       "3         GA   20200713    130900.0  ...      13285   13285960202  30240   \n",
       "4         GA   20200702    406000.0  ...      13139   13139001608  30548   \n",
       "...      ...        ...         ...  ...        ...           ...    ...   \n",
       "636144    GA   20070719    163900.0  ...      13157   13157010103  30517   \n",
       "636145    GA   20070430    292300.0  ...      13139   13139001502  30542   \n",
       "636146    GA   20070831    181000.0  ...      13139   13139001607  30542   \n",
       "636147    GA   20070214    179800.0  ...      13139   13139001607  30542   \n",
       "636148    GA   20070420    185000.0  ...      13139   13139001607  30542   \n",
       "\n",
       "        effective_year_built  story  ListingPrice  \\\n",
       "0                     2015.0    1.5      375000.0   \n",
       "1                     1995.0    1.0      279900.0   \n",
       "2                     2003.0    1.0      239900.0   \n",
       "3                     2010.0    1.0      129900.0   \n",
       "4                     2013.0    2.0      415000.0   \n",
       "...                      ...    ...           ...   \n",
       "636144                2001.0    1.0      159900.0   \n",
       "636145                2001.0    1.5      299500.0   \n",
       "636146                2001.0    1.0      186900.0   \n",
       "636147                2000.0    1.0      174900.0   \n",
       "636148                1999.0    1.0      189900.0   \n",
       "\n",
       "                                            publicremarks   avmValue  \\\n",
       "0       Welcome to this gorgeous basement home in the ...  405972.57   \n",
       "1       LOCATION LOCATION LOCATION!!!! JUST STEPS FROM...  244827.67   \n",
       "2       Spacious stepless 4-sides Brick Ranch with a R...  229674.21   \n",
       "3       New carpet , new vinyl, new interior paint, ne...  143607.40   \n",
       "4       Beautiful John Wieland Home in highly sought a...  408971.22   \n",
       "...                                                   ...        ...   \n",
       "636144  SPLIT BEDROOM FLOORPLAN; 3 BR/2 FULL BA; VAULT...  174640.18   \n",
       "636145  Lake Front! Beautifully terraced stone walkway...  212083.67   \n",
       "636146  Stable Neighborhood, Fresh Paint and New Carpe...  157484.07   \n",
       "636147  COMFORTABLE 3BR/2BA RANCH ON WOODED CUL-DE-SAC...  193862.59   \n",
       "636148  EVERYONES FAVORITE: RANCH ON FULL BSMT! THIS 3...  191104.55   \n",
       "\n",
       "        avmerror  rentsale  \n",
       "0      -0.130843         S  \n",
       "1       0.076122         S  \n",
       "2       0.042625         S  \n",
       "3      -0.097077         S  \n",
       "4      -0.007318         S  \n",
       "...          ...       ...  \n",
       "636144 -0.065529         S  \n",
       "636145  0.274432         S  \n",
       "636146  0.129922         S  \n",
       "636147 -0.078212         S  \n",
       "636148 -0.032998         S  \n",
       "\n",
       "[636149 rows x 33 columns]"
      ]
     },
     "execution_count": 23,
     "metadata": {},
     "output_type": "execute_result"
    }
   ],
   "source": [
    "df_sales"
   ]
  },
  {
   "cell_type": "code",
   "execution_count": 24,
   "metadata": {},
   "outputs": [
    {
     "data": {
      "text/plain": [
       "636149"
      ]
     },
     "execution_count": 24,
     "metadata": {},
     "output_type": "execute_result"
    }
   ],
   "source": [
    "len(df_sales)"
   ]
  },
  {
   "cell_type": "code",
   "execution_count": 25,
   "metadata": {},
   "outputs": [],
   "source": [
    "from importlib import reload"
   ]
  },
  {
   "cell_type": "code",
   "execution_count": 26,
   "metadata": {},
   "outputs": [
    {
     "data": {
      "text/plain": [
       "['PorterStemmer',\n",
       " 'PretrainedPipeline',\n",
       " 'SentimentIntensityAnalyzer',\n",
       " 'SnowballStemmer',\n",
       " 'TextBlob',\n",
       " 'VaderSentimentIntensityAnalyzer',\n",
       " 'WordNetLemmatizer',\n",
       " '__builtins__',\n",
       " '__cached__',\n",
       " '__doc__',\n",
       " '__file__',\n",
       " '__loader__',\n",
       " '__name__',\n",
       " '__package__',\n",
       " '__path__',\n",
       " '__spec__',\n",
       " 'bigrams_join',\n",
       " 'count_n_grams',\n",
       " 'defaultdict',\n",
       " 'define_stop_words',\n",
       " 'df_column_prepare',\n",
       " 'df_column_remove_punctuation',\n",
       " 'df_column_remove_unicode',\n",
       " 'df_column_stemmer',\n",
       " 'df_get_n_grams_count',\n",
       " 'df_lambda_flair_polarity',\n",
       " 'df_lambda_lemmatizer',\n",
       " 'df_lambda_list',\n",
       " 'df_lambda_ngram',\n",
       " 'df_lambda_nltk_polarity_score',\n",
       " 'df_lambda_nltk_polarity_score_dict',\n",
       " 'df_lambda_remove_punctuation',\n",
       " 'df_lambda_remove_stop_words',\n",
       " 'df_lambda_remove_unicode',\n",
       " 'df_lambda_stemmer',\n",
       " 'df_lambda_textblob_polarity',\n",
       " 'df_lambda_to_lowercase',\n",
       " 'df_lambda_vader_polarity',\n",
       " 'df_spell_check',\n",
       " 'flair',\n",
       " 'flair_sentiment',\n",
       " 'flair_steps',\n",
       " 'generate_n_grams',\n",
       " 'get_imp',\n",
       " 'get_n_grams_count',\n",
       " 'get_n_grams_probability',\n",
       " 'kg',\n",
       " 'ngram_analysis',\n",
       " 'ngrams',\n",
       " 'nlp_pandas_functions',\n",
       " 'nltk',\n",
       " 'np',\n",
       " 'pd',\n",
       " 're',\n",
       " 'sentiment_analysis',\n",
       " 'single_entry_lambda_stemmer',\n",
       " 'single_entry_lemmatizer',\n",
       " 'single_entry_nltk_polarity_score',\n",
       " 'single_entry_prepare',\n",
       " 'single_entry_remove_punctuation',\n",
       " 'single_entry_remove_stop_words',\n",
       " 'single_entry_remove_unicode',\n",
       " 'single_entry_spell_check',\n",
       " 'single_entry_textblob_polarity',\n",
       " 'single_entry_vader_polarity',\n",
       " 'string',\n",
       " 'text',\n",
       " 'word_tokenize']"
      ]
     },
     "execution_count": 26,
     "metadata": {},
     "output_type": "execute_result"
    }
   ],
   "source": [
    "import nlp_pandas_functions as npf\n",
    "npf = reload(npf)\n",
    "dir(npf)"
   ]
  },
  {
   "cell_type": "code",
   "execution_count": 27,
   "metadata": {},
   "outputs": [
    {
     "data": {
      "text/plain": [
       "['PorterStemmer',\n",
       " 'SnowballStemmer',\n",
       " 'TextBlob',\n",
       " 'WordNetLemmatizer',\n",
       " '__builtins__',\n",
       " '__cached__',\n",
       " '__doc__',\n",
       " '__file__',\n",
       " '__loader__',\n",
       " '__name__',\n",
       " '__package__',\n",
       " '__spec__',\n",
       " '__warningregistry__',\n",
       " 'define_stop_words',\n",
       " 'df_column_prepare',\n",
       " 'df_column_remove_punctuation',\n",
       " 'df_column_remove_unicode',\n",
       " 'df_column_stemmer',\n",
       " 'df_lambda_lemmatizer',\n",
       " 'df_lambda_remove_punctuation',\n",
       " 'df_lambda_remove_stop_words',\n",
       " 'df_lambda_remove_unicode',\n",
       " 'df_lambda_stemmer',\n",
       " 'df_lambda_to_lowercase',\n",
       " 'df_spell_check',\n",
       " 'nltk',\n",
       " 're',\n",
       " 'single_entry_lambda_stemmer',\n",
       " 'single_entry_lemmatizer',\n",
       " 'single_entry_prepare',\n",
       " 'single_entry_remove_punctuation',\n",
       " 'single_entry_remove_stop_words',\n",
       " 'single_entry_remove_unicode',\n",
       " 'single_entry_spell_check',\n",
       " 'string',\n",
       " 'word_tokenize']"
      ]
     },
     "execution_count": 27,
     "metadata": {},
     "output_type": "execute_result"
    }
   ],
   "source": [
    "from nlp_pandas_functions import nlp_pandas_functions\n",
    "reload(nlp_pandas_functions)\n",
    "dir(nlp_pandas_functions)"
   ]
  },
  {
   "cell_type": "code",
   "execution_count": 28,
   "metadata": {},
   "outputs": [
    {
     "data": {
      "text/plain": [
       "Index(['index', 'listingid', 'asgpropid', 'qtr', 'tax_year', 'cbsa_div',\n",
       "       'cbsa', 'state', 'Transdate', 'Transprice', 'bedrooms', 'total_value',\n",
       "       'cj_living_area', 'basement', 'has_pool', 'parking', 'is_poor',\n",
       "       'is_good', 'HAS_VIEW', 'has_golf', 'has_water', 'has_woods', 'has_hill',\n",
       "       'fips_code', 'census_tract', 'zip', 'effective_year_built', 'story',\n",
       "       'ListingPrice', 'publicremarks', 'avmValue', 'avmerror', 'rentsale'],\n",
       "      dtype='object')"
      ]
     },
     "execution_count": 28,
     "metadata": {},
     "output_type": "execute_result"
    }
   ],
   "source": [
    "df_sales.columns"
   ]
  },
  {
   "cell_type": "code",
   "execution_count": 29,
   "metadata": {},
   "outputs": [],
   "source": [
    "df_sales = df_sales[(df_sales['ListingPrice']/df_sales['Transprice'] >= 0.4 ) & \n",
    " (df_sales['ListingPrice']/df_sales['Transprice'] <= 2.5) &\n",
    " (df_sales['avmValue']/df_sales['Transprice'] >= 0.4 ) & \n",
    " (df_sales['avmValue']/df_sales['Transprice'] <= 2.5)]\n"
   ]
  },
  {
   "cell_type": "code",
   "execution_count": null,
   "metadata": {},
   "outputs": [],
   "source": []
  },
  {
   "cell_type": "code",
   "execution_count": null,
   "metadata": {},
   "outputs": [],
   "source": []
  },
  {
   "cell_type": "code",
   "execution_count": 30,
   "metadata": {},
   "outputs": [
    {
     "data": {
      "text/plain": [
       "18.324933999999985"
      ]
     },
     "execution_count": 30,
     "metadata": {},
     "output_type": "execute_result"
    }
   ],
   "source": [
    "tic = time.clock()\n",
    "df_sales = nlp_pandas_functions.df_column_prepare(df_sales, 'publicremarks', 'publicremarks_prepared')\n",
    "toc = time.clock()\n",
    "toc - tic"
   ]
  },
  {
   "cell_type": "code",
   "execution_count": 32,
   "metadata": {},
   "outputs": [],
   "source": [
    "#tic = time.clock()\n",
    "#df_sales_test = nlp_pandas_functions.df_spell_check(df_sales.head(1), 'publicremarks_prepared', \n",
    "#                                                       'publicremarks_prepared_spellcheck')\n",
    "#df_sales = nlp_pandas_functions.df_spell_check(df_sales, 'publicremarks_prepared', \n",
    "#                                                       'publicremarks_prepared_spellcheck')\n",
    "#toc = time.clock()\n",
    "#toc - tic"
   ]
  },
  {
   "cell_type": "code",
   "execution_count": 33,
   "metadata": {},
   "outputs": [
    {
     "data": {
      "text/plain": [
       "Index(['index', 'listingid', 'asgpropid', 'qtr', 'tax_year', 'cbsa_div',\n",
       "       'cbsa', 'state', 'Transdate', 'Transprice', 'bedrooms', 'total_value',\n",
       "       'cj_living_area', 'basement', 'has_pool', 'parking', 'is_poor',\n",
       "       'is_good', 'HAS_VIEW', 'has_golf', 'has_water', 'has_woods', 'has_hill',\n",
       "       'fips_code', 'census_tract', 'zip', 'effective_year_built', 'story',\n",
       "       'ListingPrice', 'publicremarks', 'avmValue', 'avmerror', 'rentsale',\n",
       "       'publicremarks_prepared'],\n",
       "      dtype='object')"
      ]
     },
     "execution_count": 33,
     "metadata": {},
     "output_type": "execute_result"
    }
   ],
   "source": [
    "df_sales.columns"
   ]
  },
  {
   "cell_type": "code",
   "execution_count": 51,
   "metadata": {},
   "outputs": [
    {
     "data": {
      "text/plain": [
       "'Welcome to this gorgeous basement home in the desired Braselton community of Riverstone Park. Upon entry, you find the formal dining room and office complete with french doors. The open floor plan boasts a kitchen with large island & breakfast area overlooking the living room with an open staircase to the 2nd floor. Master on Main AND Master Suite upstairs along with walk-in closets in every bedroom! Wind down your day on the screened in back porch as you gaze into the well manicured back lawn. This meticulously cared for home has a lot to offer, and is waiting for you! Riverstone Park is a social neighborhood with many activities during the year. It also has access to the Life Path so you are just an easy Golf Cart Ride away from your favorite eateries!'"
      ]
     },
     "execution_count": 51,
     "metadata": {},
     "output_type": "execute_result"
    }
   ],
   "source": [
    "df_sales['publicremarks'][0]"
   ]
  },
  {
   "cell_type": "code",
   "execution_count": null,
   "metadata": {},
   "outputs": [],
   "source": []
  },
  {
   "cell_type": "code",
   "execution_count": null,
   "metadata": {},
   "outputs": [],
   "source": []
  },
  {
   "cell_type": "code",
   "execution_count": null,
   "metadata": {},
   "outputs": [],
   "source": []
  },
  {
   "cell_type": "code",
   "execution_count": 54,
   "metadata": {},
   "outputs": [],
   "source": [
    "#tic = time.clock()\n",
    "#df_sales = npf.df_column_remove_unicode(df_sales, 'publicremarks_prepared', 'publicremarks_prepared_unicode')\n",
    "#toc = time.clock()\n",
    "#toc - tic"
   ]
  },
  {
   "cell_type": "code",
   "execution_count": 56,
   "metadata": {},
   "outputs": [
    {
     "name": "stderr",
     "output_type": "stream",
     "text": [
      "/home/cdsw/nlp_pandas_functions/nlp_pandas_functions.py:113: SettingWithCopyWarning: \n",
      "A value is trying to be set on a copy of a slice from a DataFrame.\n",
      "Try using .loc[row_indexer,col_indexer] = value instead\n",
      "\n",
      "See the caveats in the documentation: http://pandas.pydata.org/pandas-docs/stable/user_guide/indexing.html#returning-a-view-versus-a-copy\n",
      "  df[new_column] = df[column_name].apply(lambda x: \" \".join([word for word in\n"
     ]
    },
    {
     "data": {
      "text/plain": [
       "7.672288999999978"
      ]
     },
     "execution_count": 56,
     "metadata": {},
     "output_type": "execute_result"
    }
   ],
   "source": [
    "tic = time.clock()\n",
    "df_sales = npf.df_lambda_remove_unicode(df_sales, 'publicremarks_prepared', 'publicremarks_prepared_unicode')\n",
    "toc = time.clock()\n",
    "toc - tic"
   ]
  },
  {
   "cell_type": "code",
   "execution_count": 57,
   "metadata": {},
   "outputs": [
    {
     "name": "stderr",
     "output_type": "stream",
     "text": [
      "/home/cdsw/nlp_pandas_functions/nlp_pandas_functions.py:81: SettingWithCopyWarning: \n",
      "A value is trying to be set on a copy of a slice from a DataFrame.\n",
      "Try using .loc[row_indexer,col_indexer] = value instead\n",
      "\n",
      "See the caveats in the documentation: http://pandas.pydata.org/pandas-docs/stable/user_guide/indexing.html#returning-a-view-versus-a-copy\n",
      "  df[new_column] = df[column_name].apply(lambda x: ' '.join([word for word in x.split() if word not in (stop_words)]))\n"
     ]
    },
    {
     "data": {
      "text/plain": [
       "105.70119399999999"
      ]
     },
     "execution_count": 57,
     "metadata": {},
     "output_type": "execute_result"
    }
   ],
   "source": [
    "tic = time.clock()\n",
    "df_sales = npf.df_lambda_remove_stop_words(df_sales, npf.define_stop_words([]), 'publicremarks_prepared_unicode', 'clean_publicremarks')\n",
    "toc = time.clock()\n",
    "toc - tic"
   ]
  },
  {
   "cell_type": "code",
   "execution_count": 58,
   "metadata": {},
   "outputs": [
    {
     "data": {
      "text/plain": [
       "399.9375010000001"
      ]
     },
     "execution_count": 58,
     "metadata": {},
     "output_type": "execute_result"
    }
   ],
   "source": [
    "tic = time.clock()\n",
    "df_sales = npf.df_lambda_remove_stop_words(df_sales, npf.define_stop_words(stop_words_to_add_1), 'publicremarks_prepared_unicode', 'clean_publicremarks_additional_words')\n",
    "toc = time.clock()\n",
    "toc - tic"
   ]
  },
  {
   "cell_type": "code",
   "execution_count": 59,
   "metadata": {},
   "outputs": [
    {
     "name": "stderr",
     "output_type": "stream",
     "text": [
      "/home/cdsw/nlp_pandas_functions/nlp_pandas_functions.py:89: SettingWithCopyWarning: \n",
      "A value is trying to be set on a copy of a slice from a DataFrame.\n",
      "Try using .loc[row_indexer,col_indexer] = value instead\n",
      "\n",
      "See the caveats in the documentation: http://pandas.pydata.org/pandas-docs/stable/user_guide/indexing.html#returning-a-view-versus-a-copy\n",
      "  df[new_column] = df[column_name].apply(lambda x: x.translate(str.maketrans('', '', string.punctuation)))\n"
     ]
    },
    {
     "data": {
      "text/plain": [
       "4.471435999999812"
      ]
     },
     "execution_count": 59,
     "metadata": {},
     "output_type": "execute_result"
    }
   ],
   "source": [
    "tic = time.clock()\n",
    "df_sales = npf.df_lambda_remove_punctuation(df_sales, 'clean_publicremarks', 'clean_publicremarks_nopunct')\n",
    "toc = time.clock()\n",
    "toc - tic"
   ]
  },
  {
   "cell_type": "code",
   "execution_count": 60,
   "metadata": {},
   "outputs": [
    {
     "data": {
      "text/plain": [
       "4.176681999999801"
      ]
     },
     "execution_count": 60,
     "metadata": {},
     "output_type": "execute_result"
    }
   ],
   "source": [
    "tic = time.clock()\n",
    "df_sales = npf.df_lambda_remove_punctuation(df_sales, 'clean_publicremarks_additional_words', 'clean_publicremarks_nopunct_additional_words')\n",
    "toc = time.clock()\n",
    "toc - tic"
   ]
  },
  {
   "cell_type": "code",
   "execution_count": null,
   "metadata": {},
   "outputs": [],
   "source": []
  },
  {
   "cell_type": "code",
   "execution_count": null,
   "metadata": {},
   "outputs": [],
   "source": []
  },
  {
   "cell_type": "code",
   "execution_count": 61,
   "metadata": {},
   "outputs": [],
   "source": [
    "#tic = time.clock()\n",
    "#df_sales = npf.df_column_stemmer(df_sales,  'clean_publicremarks_nopunct', 'clean_publicremarks_stemmed')\n",
    "#toc = time.clock()\n",
    "#toc - tic"
   ]
  },
  {
   "cell_type": "code",
   "execution_count": 62,
   "metadata": {},
   "outputs": [
    {
     "name": "stderr",
     "output_type": "stream",
     "text": [
      "/home/cdsw/nlp_pandas_functions/nlp_pandas_functions.py:99: SettingWithCopyWarning: \n",
      "A value is trying to be set on a copy of a slice from a DataFrame.\n",
      "Try using .loc[row_indexer,col_indexer] = value instead\n",
      "\n",
      "See the caveats in the documentation: http://pandas.pydata.org/pandas-docs/stable/user_guide/indexing.html#returning-a-view-versus-a-copy\n",
      "  df[new_column] = df[column_name].apply(lambda x: \" \".join([ps.stem(y) for y in x.split()]))\n"
     ]
    },
    {
     "data": {
      "text/plain": [
       "880.7943129999999"
      ]
     },
     "execution_count": 62,
     "metadata": {},
     "output_type": "execute_result"
    }
   ],
   "source": [
    "tic = time.clock()\n",
    "df_sales = npf.df_lambda_stemmer(df_sales,  'clean_publicremarks_nopunct', 'clean_publicremarks_stemmed')\n",
    "toc = time.clock()\n",
    "toc - tic"
   ]
  },
  {
   "cell_type": "code",
   "execution_count": 63,
   "metadata": {},
   "outputs": [
    {
     "data": {
      "text/plain": [
       "833.538609"
      ]
     },
     "execution_count": 63,
     "metadata": {},
     "output_type": "execute_result"
    }
   ],
   "source": [
    "tic = time.clock()\n",
    "df_sales = npf.df_lambda_stemmer(df_sales,  'clean_publicremarks_nopunct_additional_words', 'clean_publicremarks_stemmed_additional_words')\n",
    "toc = time.clock()\n",
    "toc - tic"
   ]
  },
  {
   "cell_type": "code",
   "execution_count": null,
   "metadata": {},
   "outputs": [],
   "source": []
  },
  {
   "cell_type": "code",
   "execution_count": 64,
   "metadata": {},
   "outputs": [
    {
     "name": "stderr",
     "output_type": "stream",
     "text": [
      "/home/cdsw/nlp_pandas_functions/nlp_pandas_functions.py:107: SettingWithCopyWarning: \n",
      "A value is trying to be set on a copy of a slice from a DataFrame.\n",
      "Try using .loc[row_indexer,col_indexer] = value instead\n",
      "\n",
      "See the caveats in the documentation: http://pandas.pydata.org/pandas-docs/stable/user_guide/indexing.html#returning-a-view-versus-a-copy\n",
      "  df[new_column] = df[column_name].apply(lambda x: \" \".join([lemmatizer.lemmatize(y) for y in x.split()]))\n"
     ]
    },
    {
     "data": {
      "text/plain": [
       "192.0496159999998"
      ]
     },
     "execution_count": 64,
     "metadata": {},
     "output_type": "execute_result"
    }
   ],
   "source": [
    "tic = time.clock()\n",
    "df_sales = npf.df_lambda_lemmatizer(df_sales,  'clean_publicremarks_nopunct', 'clean_publicremarks_lemmatized')\n",
    "toc = time.clock()\n",
    "toc - tic"
   ]
  },
  {
   "cell_type": "code",
   "execution_count": 65,
   "metadata": {},
   "outputs": [
    {
     "data": {
      "text/plain": [
       "173.27279500000031"
      ]
     },
     "execution_count": 65,
     "metadata": {},
     "output_type": "execute_result"
    }
   ],
   "source": [
    "tic = time.clock()\n",
    "df_sales = npf.df_lambda_lemmatizer(df_sales,  'clean_publicremarks_nopunct_additional_words', 'clean_publicremarks_lemmatized_additional_words')\n",
    "toc = time.clock()\n",
    "toc - tic"
   ]
  },
  {
   "cell_type": "code",
   "execution_count": 66,
   "metadata": {},
   "outputs": [
    {
     "data": {
      "text/plain": [
       "Index(['index', 'listingid', 'asgpropid', 'qtr', 'tax_year', 'cbsa_div',\n",
       "       'cbsa', 'state', 'Transdate', 'Transprice', 'bedrooms', 'total_value',\n",
       "       'cj_living_area', 'basement', 'has_pool', 'parking', 'is_poor',\n",
       "       'is_good', 'HAS_VIEW', 'has_golf', 'has_water', 'has_woods', 'has_hill',\n",
       "       'fips_code', 'census_tract', 'zip', 'effective_year_built', 'story',\n",
       "       'ListingPrice', 'publicremarks', 'avmValue', 'avmerror', 'rentsale',\n",
       "       'publicremarks_prepared', 'publicremarks_prepared_unicode',\n",
       "       'clean_publicremarks', 'clean_publicremarks_additional_words',\n",
       "       'clean_publicremarks_nopunct',\n",
       "       'clean_publicremarks_nopunct_additional_words',\n",
       "       'clean_publicremarks_stemmed',\n",
       "       'clean_publicremarks_stemmed_additional_words',\n",
       "       'clean_publicremarks_lemmatized',\n",
       "       'clean_publicremarks_lemmatized_additional_words'],\n",
       "      dtype='object')"
      ]
     },
     "execution_count": 66,
     "metadata": {},
     "output_type": "execute_result"
    }
   ],
   "source": [
    "df_sales.columns"
   ]
  },
  {
   "cell_type": "code",
   "execution_count": 67,
   "metadata": {},
   "outputs": [
    {
     "data": {
      "text/plain": [
       "'Spacious stepless 4-sides Brick Ranch with a Rocking chair Front Porch. 3 bedroom/2 baths with an office that can be a 4th Bedroom and a finished Bonus room that can be an additional 5th bedroom with separate Heating and Air. HUGE masterbath with garden tub. Double sided Master Closets. Family room with built in Bookshelves on each side of the Fireplace. Private screened porch overlooking the Private level Back yard with an out building. Side entry garage. Ready to move in!'"
      ]
     },
     "execution_count": 67,
     "metadata": {},
     "output_type": "execute_result"
    }
   ],
   "source": [
    "df_sales['publicremarks'][2]"
   ]
  },
  {
   "cell_type": "code",
   "execution_count": 68,
   "metadata": {},
   "outputs": [
    {
     "data": {
      "text/plain": [
       "'spacious stepless DIGIT-sides brick ranch rocking chair front porch. DIGIT bedroom/DIGIT baths office DIGITth bedroom finished bonus room additional DIGITth bedroom separate heating air. huge masterbath garden tub. double sided master closets. family room built bookshelves side fireplace. private screened porch overlooking private level back yard building. side entry garage. ready move in!'"
      ]
     },
     "execution_count": 68,
     "metadata": {},
     "output_type": "execute_result"
    }
   ],
   "source": [
    "df_sales['clean_publicremarks'][2]"
   ]
  },
  {
   "cell_type": "code",
   "execution_count": 69,
   "metadata": {},
   "outputs": [
    {
     "data": {
      "text/plain": [
       "'spacious stepless DIGITsides brick ranch rocking chair front porch DIGIT bedroomDIGIT baths office DIGITth bedroom finished bonus room additional DIGITth bedroom separate heating air huge masterbath garden tub double sided master closets family room built bookshelves side fireplace private screened porch overlooking private level back yard building side entry garage ready move in'"
      ]
     },
     "execution_count": 69,
     "metadata": {},
     "output_type": "execute_result"
    }
   ],
   "source": [
    "df_sales['clean_publicremarks_nopunct'][2]"
   ]
  },
  {
   "cell_type": "code",
   "execution_count": 70,
   "metadata": {},
   "outputs": [
    {
     "data": {
      "text/plain": [
       "'spaciou stepless digitsid brick ranch rock chair front porch digit bedroomdigit bath offic digitth bedroom finish bonu room addit digitth bedroom separ heat air huge masterbath garden tub doubl side master closet famili room built bookshelv side fireplac privat screen porch overlook privat level back yard build side entri garag readi move in'"
      ]
     },
     "execution_count": 70,
     "metadata": {},
     "output_type": "execute_result"
    }
   ],
   "source": [
    "df_sales['clean_publicremarks_stemmed'][2]"
   ]
  },
  {
   "cell_type": "code",
   "execution_count": 71,
   "metadata": {},
   "outputs": [
    {
     "data": {
      "text/plain": [
       "'spacious stepless DIGITsides brick ranch rocking chair front porch DIGIT bedroomDIGIT bath office DIGITth bedroom finished bonus room additional DIGITth bedroom separate heating air huge masterbath garden tub double sided master closet family room built bookshelf side fireplace private screened porch overlooking private level back yard building side entry garage ready move in'"
      ]
     },
     "execution_count": 71,
     "metadata": {},
     "output_type": "execute_result"
    }
   ],
   "source": [
    "df_sales['clean_publicremarks_lemmatized'][2]"
   ]
  },
  {
   "cell_type": "code",
   "execution_count": 74,
   "metadata": {},
   "outputs": [],
   "source": [
    "df_sales = df_sales.drop(columns=['index'])"
   ]
  },
  {
   "cell_type": "code",
   "execution_count": 76,
   "metadata": {},
   "outputs": [],
   "source": [
    "df_sales = df_sales.reset_index()"
   ]
  },
  {
   "cell_type": "code",
   "execution_count": 77,
   "metadata": {},
   "outputs": [],
   "source": [
    "df_sales = df_sales.drop(columns=['index'])"
   ]
  },
  {
   "cell_type": "code",
   "execution_count": 78,
   "metadata": {},
   "outputs": [
    {
     "data": {
      "text/html": [
       "<div>\n",
       "<style scoped>\n",
       "    .dataframe tbody tr th:only-of-type {\n",
       "        vertical-align: middle;\n",
       "    }\n",
       "\n",
       "    .dataframe tbody tr th {\n",
       "        vertical-align: top;\n",
       "    }\n",
       "\n",
       "    .dataframe thead th {\n",
       "        text-align: right;\n",
       "    }\n",
       "</style>\n",
       "<table border=\"1\" class=\"dataframe\">\n",
       "  <thead>\n",
       "    <tr style=\"text-align: right;\">\n",
       "      <th></th>\n",
       "      <th>listingid</th>\n",
       "      <th>asgpropid</th>\n",
       "      <th>qtr</th>\n",
       "      <th>tax_year</th>\n",
       "      <th>cbsa_div</th>\n",
       "      <th>cbsa</th>\n",
       "      <th>state</th>\n",
       "      <th>Transdate</th>\n",
       "      <th>Transprice</th>\n",
       "      <th>bedrooms</th>\n",
       "      <th>...</th>\n",
       "      <th>publicremarks_prepared</th>\n",
       "      <th>publicremarks_prepared_unicode</th>\n",
       "      <th>clean_publicremarks</th>\n",
       "      <th>clean_publicremarks_additional_words</th>\n",
       "      <th>clean_publicremarks_nopunct</th>\n",
       "      <th>clean_publicremarks_nopunct_additional_words</th>\n",
       "      <th>clean_publicremarks_stemmed</th>\n",
       "      <th>clean_publicremarks_stemmed_additional_words</th>\n",
       "      <th>clean_publicremarks_lemmatized</th>\n",
       "      <th>clean_publicremarks_lemmatized_additional_words</th>\n",
       "    </tr>\n",
       "  </thead>\n",
       "  <tbody>\n",
       "    <tr>\n",
       "      <td>0</td>\n",
       "      <td>226661582</td>\n",
       "      <td>27649366.0</td>\n",
       "      <td>202008</td>\n",
       "      <td>2020.0</td>\n",
       "      <td>23580</td>\n",
       "      <td>23580</td>\n",
       "      <td>GA</td>\n",
       "      <td>20200811</td>\n",
       "      <td>359000.0</td>\n",
       "      <td>4.0</td>\n",
       "      <td>...</td>\n",
       "      <td>welcome to this gorgeous basement home in the ...</td>\n",
       "      <td>welcome to this gorgeous basement home in the ...</td>\n",
       "      <td>welcome gorgeous basement home desired braselt...</td>\n",
       "      <td>gorgeous basement desired braselton community ...</td>\n",
       "      <td>welcome gorgeous basement home desired braselt...</td>\n",
       "      <td>gorgeous basement desired braselton community ...</td>\n",
       "      <td>welcom gorgeou basement home desir braselton c...</td>\n",
       "      <td>gorgeou basement desir braselton commun rivers...</td>\n",
       "      <td>welcome gorgeous basement home desired braselt...</td>\n",
       "      <td>gorgeous basement desired braselton community ...</td>\n",
       "    </tr>\n",
       "    <tr>\n",
       "      <td>1</td>\n",
       "      <td>226786904</td>\n",
       "      <td>27628370.0</td>\n",
       "      <td>202008</td>\n",
       "      <td>2020.0</td>\n",
       "      <td>29300</td>\n",
       "      <td>29300</td>\n",
       "      <td>GA</td>\n",
       "      <td>20200925</td>\n",
       "      <td>265000.0</td>\n",
       "      <td>4.0</td>\n",
       "      <td>...</td>\n",
       "      <td>location location location!!!! just steps from...</td>\n",
       "      <td>location location location!!!! just steps from...</td>\n",
       "      <td>location location location!!!! steps anything ...</td>\n",
       "      <td>location location location!!!! steps &amp; downtow...</td>\n",
       "      <td>location location location steps anything  eve...</td>\n",
       "      <td>location location location steps  downtown lag...</td>\n",
       "      <td>locat locat locat step anyth everyth downtown ...</td>\n",
       "      <td>locat locat locat step downtown lagrang offer ...</td>\n",
       "      <td>location location location step anything every...</td>\n",
       "      <td>location location location step downtown lagra...</td>\n",
       "    </tr>\n",
       "    <tr>\n",
       "      <td>2</td>\n",
       "      <td>226142320</td>\n",
       "      <td>27963359.0</td>\n",
       "      <td>202005</td>\n",
       "      <td>2020.0</td>\n",
       "      <td>27600</td>\n",
       "      <td>27600</td>\n",
       "      <td>GA</td>\n",
       "      <td>20200624</td>\n",
       "      <td>239900.0</td>\n",
       "      <td>4.0</td>\n",
       "      <td>...</td>\n",
       "      <td>spacious stepless DIGIT-sides brick ranch with...</td>\n",
       "      <td>spacious stepless DIGIT-sides brick ranch with...</td>\n",
       "      <td>spacious stepless DIGIT-sides brick ranch rock...</td>\n",
       "      <td>spacious stepless DIGIT-sides brick ranch rock...</td>\n",
       "      <td>spacious stepless DIGITsides brick ranch rocki...</td>\n",
       "      <td>spacious stepless DIGITsides brick ranch rocki...</td>\n",
       "      <td>spaciou stepless digitsid brick ranch rock cha...</td>\n",
       "      <td>spaciou stepless digitsid brick ranch rock cha...</td>\n",
       "      <td>spacious stepless DIGITsides brick ranch rocki...</td>\n",
       "      <td>spacious stepless DIGITsides brick ranch rocki...</td>\n",
       "    </tr>\n",
       "    <tr>\n",
       "      <td>3</td>\n",
       "      <td>226738459</td>\n",
       "      <td>27516267.0</td>\n",
       "      <td>202008</td>\n",
       "      <td>2020.0</td>\n",
       "      <td>29300</td>\n",
       "      <td>29300</td>\n",
       "      <td>GA</td>\n",
       "      <td>20200713</td>\n",
       "      <td>130900.0</td>\n",
       "      <td>3.0</td>\n",
       "      <td>...</td>\n",
       "      <td>new carpet , new vinyl, new interior paint, ne...</td>\n",
       "      <td>new carpet , new vinyl, new interior paint, ne...</td>\n",
       "      <td>new carpet , new vinyl, new interior paint, ne...</td>\n",
       "      <td>carpet , vinyl, interior paint, stove/oven. fe...</td>\n",
       "      <td>new carpet  new vinyl new interior paint new s...</td>\n",
       "      <td>carpet  vinyl interior paint stoveoven fenced ...</td>\n",
       "      <td>new carpet new vinyl new interior paint new st...</td>\n",
       "      <td>carpet vinyl interior paint stoveoven fenc bac...</td>\n",
       "      <td>new carpet new vinyl new interior paint new st...</td>\n",
       "      <td>carpet vinyl interior paint stoveoven fenced b...</td>\n",
       "    </tr>\n",
       "    <tr>\n",
       "      <td>4</td>\n",
       "      <td>226850183</td>\n",
       "      <td>27791872.0</td>\n",
       "      <td>202008</td>\n",
       "      <td>2020.0</td>\n",
       "      <td>23580</td>\n",
       "      <td>23580</td>\n",
       "      <td>GA</td>\n",
       "      <td>20200702</td>\n",
       "      <td>406000.0</td>\n",
       "      <td>4.0</td>\n",
       "      <td>...</td>\n",
       "      <td>beautiful john wieland home in highly sought a...</td>\n",
       "      <td>beautiful john wieland home in highly sought a...</td>\n",
       "      <td>beautiful john wieland home highly sought reun...</td>\n",
       "      <td>beautiful john wieland highly sought reunion c...</td>\n",
       "      <td>beautiful john wieland home highly sought reun...</td>\n",
       "      <td>beautiful john wieland highly sought reunion c...</td>\n",
       "      <td>beauti john wieland home highli sought reunion...</td>\n",
       "      <td>beauti john wieland highli sought reunion coun...</td>\n",
       "      <td>beautiful john wieland home highly sought reun...</td>\n",
       "      <td>beautiful john wieland highly sought reunion c...</td>\n",
       "    </tr>\n",
       "    <tr>\n",
       "      <td>...</td>\n",
       "      <td>...</td>\n",
       "      <td>...</td>\n",
       "      <td>...</td>\n",
       "      <td>...</td>\n",
       "      <td>...</td>\n",
       "      <td>...</td>\n",
       "      <td>...</td>\n",
       "      <td>...</td>\n",
       "      <td>...</td>\n",
       "      <td>...</td>\n",
       "      <td>...</td>\n",
       "      <td>...</td>\n",
       "      <td>...</td>\n",
       "      <td>...</td>\n",
       "      <td>...</td>\n",
       "      <td>...</td>\n",
       "      <td>...</td>\n",
       "      <td>...</td>\n",
       "      <td>...</td>\n",
       "      <td>...</td>\n",
       "      <td>...</td>\n",
       "    </tr>\n",
       "    <tr>\n",
       "      <td>633866</td>\n",
       "      <td>77898274</td>\n",
       "      <td>106321613.0</td>\n",
       "      <td>200708</td>\n",
       "      <td>2013.0</td>\n",
       "      <td>27600</td>\n",
       "      <td>27600</td>\n",
       "      <td>GA</td>\n",
       "      <td>20070719</td>\n",
       "      <td>163900.0</td>\n",
       "      <td>NaN</td>\n",
       "      <td>...</td>\n",
       "      <td>split bedroom floorplan; DIGIT br/DIGIT full b...</td>\n",
       "      <td>split bedroom floorplan; DIGIT br/DIGIT full b...</td>\n",
       "      <td>split bedroom floorplan; DIGIT br/DIGIT full b...</td>\n",
       "      <td>split bedroom floorplan; DIGIT br/DIGIT full b...</td>\n",
       "      <td>split bedroom floorplan DIGIT brDIGIT full ba ...</td>\n",
       "      <td>split bedroom floorplan DIGIT brDIGIT full ba ...</td>\n",
       "      <td>split bedroom floorplan digit brdigit full ba ...</td>\n",
       "      <td>split bedroom floorplan digit brdigit full ba ...</td>\n",
       "      <td>split bedroom floorplan DIGIT brDIGIT full ba ...</td>\n",
       "      <td>split bedroom floorplan DIGIT brDIGIT full ba ...</td>\n",
       "    </tr>\n",
       "    <tr>\n",
       "      <td>633867</td>\n",
       "      <td>77863520</td>\n",
       "      <td>131534737.0</td>\n",
       "      <td>200705</td>\n",
       "      <td>2013.0</td>\n",
       "      <td>23580</td>\n",
       "      <td>23580</td>\n",
       "      <td>GA</td>\n",
       "      <td>20070430</td>\n",
       "      <td>292300.0</td>\n",
       "      <td>3.0</td>\n",
       "      <td>...</td>\n",
       "      <td>lake front! beautifully terraced stone walkway...</td>\n",
       "      <td>lake front! beautifully terraced stone walkway...</td>\n",
       "      <td>lake front! beautifully terraced stone walkway...</td>\n",
       "      <td>lake front! beautifully terraced stone walkway...</td>\n",
       "      <td>lake front beautifully terraced stone walkway ...</td>\n",
       "      <td>lake front beautifully terraced stone walkway ...</td>\n",
       "      <td>lake front beauti terrac stone walkway privat ...</td>\n",
       "      <td>lake front beauti terrac stone walkway privat ...</td>\n",
       "      <td>lake front beautifully terraced stone walkway ...</td>\n",
       "      <td>lake front beautifully terraced stone walkway ...</td>\n",
       "    </tr>\n",
       "    <tr>\n",
       "      <td>633868</td>\n",
       "      <td>77900119</td>\n",
       "      <td>131589092.0</td>\n",
       "      <td>200708</td>\n",
       "      <td>2013.0</td>\n",
       "      <td>23580</td>\n",
       "      <td>23580</td>\n",
       "      <td>GA</td>\n",
       "      <td>20070831</td>\n",
       "      <td>181000.0</td>\n",
       "      <td>3.0</td>\n",
       "      <td>...</td>\n",
       "      <td>stable neighborhood, fresh paint and new carpe...</td>\n",
       "      <td>stable neighborhood, fresh paint and new carpe...</td>\n",
       "      <td>stable neighborhood, fresh paint new carpet, D...</td>\n",
       "      <td>stable neighborhood, fresh paint carpet, DIGIT...</td>\n",
       "      <td>stable neighborhood fresh paint new carpet DIG...</td>\n",
       "      <td>stable neighborhood fresh paint carpet DIGIT s...</td>\n",
       "      <td>stabl neighborhood fresh paint new carpet digi...</td>\n",
       "      <td>stabl neighborhood fresh paint carpet digit si...</td>\n",
       "      <td>stable neighborhood fresh paint new carpet DIG...</td>\n",
       "      <td>stable neighborhood fresh paint carpet DIGIT s...</td>\n",
       "    </tr>\n",
       "    <tr>\n",
       "      <td>633869</td>\n",
       "      <td>77861631</td>\n",
       "      <td>131589103.0</td>\n",
       "      <td>200702</td>\n",
       "      <td>2013.0</td>\n",
       "      <td>23580</td>\n",
       "      <td>23580</td>\n",
       "      <td>GA</td>\n",
       "      <td>20070214</td>\n",
       "      <td>179800.0</td>\n",
       "      <td>3.0</td>\n",
       "      <td>...</td>\n",
       "      <td>comfortable DIGITbr/DIGITba ranch on wooded cu...</td>\n",
       "      <td>comfortable DIGITbr/DIGITba ranch on wooded cu...</td>\n",
       "      <td>comfortable DIGITbr/DIGITba ranch wooded cul-d...</td>\n",
       "      <td>comfortable DIGITbr/DIGITba ranch wooded cul-d...</td>\n",
       "      <td>comfortable DIGITbrDIGITba ranch wooded culdes...</td>\n",
       "      <td>comfortable DIGITbrDIGITba ranch wooded culdes...</td>\n",
       "      <td>comfort digitbrdigitba ranch wood culdesac lot...</td>\n",
       "      <td>comfort digitbrdigitba ranch wood culdesac lot...</td>\n",
       "      <td>comfortable DIGITbrDIGITba ranch wooded culdes...</td>\n",
       "      <td>comfortable DIGITbrDIGITba ranch wooded culdes...</td>\n",
       "    </tr>\n",
       "    <tr>\n",
       "      <td>633870</td>\n",
       "      <td>77883696</td>\n",
       "      <td>131589105.0</td>\n",
       "      <td>200705</td>\n",
       "      <td>2013.0</td>\n",
       "      <td>23580</td>\n",
       "      <td>23580</td>\n",
       "      <td>GA</td>\n",
       "      <td>20070420</td>\n",
       "      <td>185000.0</td>\n",
       "      <td>3.0</td>\n",
       "      <td>...</td>\n",
       "      <td>everyones favorite: ranch on full bsmt! this D...</td>\n",
       "      <td>everyones favorite: ranch on full bsmt! this D...</td>\n",
       "      <td>everyones favorite: ranch full bsmt! DIGITbr/D...</td>\n",
       "      <td>everyones favorite: ranch full bsmt! DIGITbr/D...</td>\n",
       "      <td>everyones favorite ranch full bsmt DIGITbrDIGI...</td>\n",
       "      <td>everyones favorite ranch full bsmt DIGITbrDIGI...</td>\n",
       "      <td>everyon favorit ranch full bsmt digitbrdigitba...</td>\n",
       "      <td>everyon favorit ranch full bsmt digitbrdigitba...</td>\n",
       "      <td>everyones favorite ranch full bsmt DIGITbrDIGI...</td>\n",
       "      <td>everyones favorite ranch full bsmt DIGITbrDIGI...</td>\n",
       "    </tr>\n",
       "  </tbody>\n",
       "</table>\n",
       "<p>633871 rows × 42 columns</p>\n",
       "</div>"
      ],
      "text/plain": [
       "        listingid    asgpropid     qtr  tax_year cbsa_div   cbsa state  \\\n",
       "0       226661582   27649366.0  202008    2020.0    23580  23580    GA   \n",
       "1       226786904   27628370.0  202008    2020.0    29300  29300    GA   \n",
       "2       226142320   27963359.0  202005    2020.0    27600  27600    GA   \n",
       "3       226738459   27516267.0  202008    2020.0    29300  29300    GA   \n",
       "4       226850183   27791872.0  202008    2020.0    23580  23580    GA   \n",
       "...           ...          ...     ...       ...      ...    ...   ...   \n",
       "633866   77898274  106321613.0  200708    2013.0    27600  27600    GA   \n",
       "633867   77863520  131534737.0  200705    2013.0    23580  23580    GA   \n",
       "633868   77900119  131589092.0  200708    2013.0    23580  23580    GA   \n",
       "633869   77861631  131589103.0  200702    2013.0    23580  23580    GA   \n",
       "633870   77883696  131589105.0  200705    2013.0    23580  23580    GA   \n",
       "\n",
       "        Transdate  Transprice  bedrooms  ...  \\\n",
       "0        20200811    359000.0       4.0  ...   \n",
       "1        20200925    265000.0       4.0  ...   \n",
       "2        20200624    239900.0       4.0  ...   \n",
       "3        20200713    130900.0       3.0  ...   \n",
       "4        20200702    406000.0       4.0  ...   \n",
       "...           ...         ...       ...  ...   \n",
       "633866   20070719    163900.0       NaN  ...   \n",
       "633867   20070430    292300.0       3.0  ...   \n",
       "633868   20070831    181000.0       3.0  ...   \n",
       "633869   20070214    179800.0       3.0  ...   \n",
       "633870   20070420    185000.0       3.0  ...   \n",
       "\n",
       "                                   publicremarks_prepared  \\\n",
       "0       welcome to this gorgeous basement home in the ...   \n",
       "1       location location location!!!! just steps from...   \n",
       "2       spacious stepless DIGIT-sides brick ranch with...   \n",
       "3       new carpet , new vinyl, new interior paint, ne...   \n",
       "4       beautiful john wieland home in highly sought a...   \n",
       "...                                                   ...   \n",
       "633866  split bedroom floorplan; DIGIT br/DIGIT full b...   \n",
       "633867  lake front! beautifully terraced stone walkway...   \n",
       "633868  stable neighborhood, fresh paint and new carpe...   \n",
       "633869  comfortable DIGITbr/DIGITba ranch on wooded cu...   \n",
       "633870  everyones favorite: ranch on full bsmt! this D...   \n",
       "\n",
       "                           publicremarks_prepared_unicode  \\\n",
       "0       welcome to this gorgeous basement home in the ...   \n",
       "1       location location location!!!! just steps from...   \n",
       "2       spacious stepless DIGIT-sides brick ranch with...   \n",
       "3       new carpet , new vinyl, new interior paint, ne...   \n",
       "4       beautiful john wieland home in highly sought a...   \n",
       "...                                                   ...   \n",
       "633866  split bedroom floorplan; DIGIT br/DIGIT full b...   \n",
       "633867  lake front! beautifully terraced stone walkway...   \n",
       "633868  stable neighborhood, fresh paint and new carpe...   \n",
       "633869  comfortable DIGITbr/DIGITba ranch on wooded cu...   \n",
       "633870  everyones favorite: ranch on full bsmt! this D...   \n",
       "\n",
       "                                      clean_publicremarks  \\\n",
       "0       welcome gorgeous basement home desired braselt...   \n",
       "1       location location location!!!! steps anything ...   \n",
       "2       spacious stepless DIGIT-sides brick ranch rock...   \n",
       "3       new carpet , new vinyl, new interior paint, ne...   \n",
       "4       beautiful john wieland home highly sought reun...   \n",
       "...                                                   ...   \n",
       "633866  split bedroom floorplan; DIGIT br/DIGIT full b...   \n",
       "633867  lake front! beautifully terraced stone walkway...   \n",
       "633868  stable neighborhood, fresh paint new carpet, D...   \n",
       "633869  comfortable DIGITbr/DIGITba ranch wooded cul-d...   \n",
       "633870  everyones favorite: ranch full bsmt! DIGITbr/D...   \n",
       "\n",
       "                     clean_publicremarks_additional_words  \\\n",
       "0       gorgeous basement desired braselton community ...   \n",
       "1       location location location!!!! steps & downtow...   \n",
       "2       spacious stepless DIGIT-sides brick ranch rock...   \n",
       "3       carpet , vinyl, interior paint, stove/oven. fe...   \n",
       "4       beautiful john wieland highly sought reunion c...   \n",
       "...                                                   ...   \n",
       "633866  split bedroom floorplan; DIGIT br/DIGIT full b...   \n",
       "633867  lake front! beautifully terraced stone walkway...   \n",
       "633868  stable neighborhood, fresh paint carpet, DIGIT...   \n",
       "633869  comfortable DIGITbr/DIGITba ranch wooded cul-d...   \n",
       "633870  everyones favorite: ranch full bsmt! DIGITbr/D...   \n",
       "\n",
       "                              clean_publicremarks_nopunct  \\\n",
       "0       welcome gorgeous basement home desired braselt...   \n",
       "1       location location location steps anything  eve...   \n",
       "2       spacious stepless DIGITsides brick ranch rocki...   \n",
       "3       new carpet  new vinyl new interior paint new s...   \n",
       "4       beautiful john wieland home highly sought reun...   \n",
       "...                                                   ...   \n",
       "633866  split bedroom floorplan DIGIT brDIGIT full ba ...   \n",
       "633867  lake front beautifully terraced stone walkway ...   \n",
       "633868  stable neighborhood fresh paint new carpet DIG...   \n",
       "633869  comfortable DIGITbrDIGITba ranch wooded culdes...   \n",
       "633870  everyones favorite ranch full bsmt DIGITbrDIGI...   \n",
       "\n",
       "             clean_publicremarks_nopunct_additional_words  \\\n",
       "0       gorgeous basement desired braselton community ...   \n",
       "1       location location location steps  downtown lag...   \n",
       "2       spacious stepless DIGITsides brick ranch rocki...   \n",
       "3       carpet  vinyl interior paint stoveoven fenced ...   \n",
       "4       beautiful john wieland highly sought reunion c...   \n",
       "...                                                   ...   \n",
       "633866  split bedroom floorplan DIGIT brDIGIT full ba ...   \n",
       "633867  lake front beautifully terraced stone walkway ...   \n",
       "633868  stable neighborhood fresh paint carpet DIGIT s...   \n",
       "633869  comfortable DIGITbrDIGITba ranch wooded culdes...   \n",
       "633870  everyones favorite ranch full bsmt DIGITbrDIGI...   \n",
       "\n",
       "                              clean_publicremarks_stemmed  \\\n",
       "0       welcom gorgeou basement home desir braselton c...   \n",
       "1       locat locat locat step anyth everyth downtown ...   \n",
       "2       spaciou stepless digitsid brick ranch rock cha...   \n",
       "3       new carpet new vinyl new interior paint new st...   \n",
       "4       beauti john wieland home highli sought reunion...   \n",
       "...                                                   ...   \n",
       "633866  split bedroom floorplan digit brdigit full ba ...   \n",
       "633867  lake front beauti terrac stone walkway privat ...   \n",
       "633868  stabl neighborhood fresh paint new carpet digi...   \n",
       "633869  comfort digitbrdigitba ranch wood culdesac lot...   \n",
       "633870  everyon favorit ranch full bsmt digitbrdigitba...   \n",
       "\n",
       "             clean_publicremarks_stemmed_additional_words  \\\n",
       "0       gorgeou basement desir braselton commun rivers...   \n",
       "1       locat locat locat step downtown lagrang offer ...   \n",
       "2       spaciou stepless digitsid brick ranch rock cha...   \n",
       "3       carpet vinyl interior paint stoveoven fenc bac...   \n",
       "4       beauti john wieland highli sought reunion coun...   \n",
       "...                                                   ...   \n",
       "633866  split bedroom floorplan digit brdigit full ba ...   \n",
       "633867  lake front beauti terrac stone walkway privat ...   \n",
       "633868  stabl neighborhood fresh paint carpet digit si...   \n",
       "633869  comfort digitbrdigitba ranch wood culdesac lot...   \n",
       "633870  everyon favorit ranch full bsmt digitbrdigitba...   \n",
       "\n",
       "                           clean_publicremarks_lemmatized  \\\n",
       "0       welcome gorgeous basement home desired braselt...   \n",
       "1       location location location step anything every...   \n",
       "2       spacious stepless DIGITsides brick ranch rocki...   \n",
       "3       new carpet new vinyl new interior paint new st...   \n",
       "4       beautiful john wieland home highly sought reun...   \n",
       "...                                                   ...   \n",
       "633866  split bedroom floorplan DIGIT brDIGIT full ba ...   \n",
       "633867  lake front beautifully terraced stone walkway ...   \n",
       "633868  stable neighborhood fresh paint new carpet DIG...   \n",
       "633869  comfortable DIGITbrDIGITba ranch wooded culdes...   \n",
       "633870  everyones favorite ranch full bsmt DIGITbrDIGI...   \n",
       "\n",
       "          clean_publicremarks_lemmatized_additional_words  \n",
       "0       gorgeous basement desired braselton community ...  \n",
       "1       location location location step downtown lagra...  \n",
       "2       spacious stepless DIGITsides brick ranch rocki...  \n",
       "3       carpet vinyl interior paint stoveoven fenced b...  \n",
       "4       beautiful john wieland highly sought reunion c...  \n",
       "...                                                   ...  \n",
       "633866  split bedroom floorplan DIGIT brDIGIT full ba ...  \n",
       "633867  lake front beautifully terraced stone walkway ...  \n",
       "633868  stable neighborhood fresh paint carpet DIGIT s...  \n",
       "633869  comfortable DIGITbrDIGITba ranch wooded culdes...  \n",
       "633870  everyones favorite ranch full bsmt DIGITbrDIGI...  \n",
       "\n",
       "[633871 rows x 42 columns]"
      ]
     },
     "execution_count": 78,
     "metadata": {},
     "output_type": "execute_result"
    }
   ],
   "source": [
    "df_sales"
   ]
  },
  {
   "cell_type": "code",
   "execution_count": 79,
   "metadata": {},
   "outputs": [],
   "source": [
    "df_sales.to_feather(file+'_processed.fea')"
   ]
  },
  {
   "cell_type": "code",
   "execution_count": null,
   "metadata": {},
   "outputs": [],
   "source": []
  },
  {
   "cell_type": "code",
   "execution_count": null,
   "metadata": {},
   "outputs": [],
   "source": []
  },
  {
   "cell_type": "code",
   "execution_count": null,
   "metadata": {},
   "outputs": [],
   "source": []
  }
 ],
 "metadata": {
  "kernelspec": {
   "display_name": "Python 3",
   "language": "python",
   "name": "python3"
  },
  "language_info": {
   "codemirror_mode": {
    "name": "ipython",
    "version": 3
   },
   "file_extension": ".py",
   "mimetype": "text/x-python",
   "name": "python",
   "nbconvert_exporter": "python",
   "pygments_lexer": "ipython3",
   "version": "3.6.10"
  }
 },
 "nbformat": 4,
 "nbformat_minor": 4
}
