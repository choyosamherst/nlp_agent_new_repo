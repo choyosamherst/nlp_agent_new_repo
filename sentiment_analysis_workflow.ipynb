{
 "cells": [
  {
   "cell_type": "code",
   "execution_count": 1,
   "metadata": {},
   "outputs": [],
   "source": [
    "from importlib import reload\n",
    "import pandas as pd\n",
    "import pkgutil\n",
    "import pkg_resources\n",
    "import time\n",
    "import numpy as np\n"
   ]
  },
  {
   "cell_type": "code",
   "execution_count": 2,
   "metadata": {},
   "outputs": [],
   "source": [
    "#pip3 install textblob\n",
    "#pip3 install flair"
   ]
  },
  {
   "cell_type": "code",
   "execution_count": 3,
   "metadata": {},
   "outputs": [],
   "source": [
    "\n",
    "str_state = 'GA'\n",
    "file = 'agent_comments_sales_'+str_state\n",
    "#file = 'agent_comments_testdf'\n",
    "\n",
    "#READ THE SALES DATA - STATE\n",
    "df_sales = pd.read_feather(file + '_processed.fea')\n",
    "#df_sales = pd.read_feather(file + '_withsentiment.fea')\n"
   ]
  },
  {
   "cell_type": "code",
   "execution_count": null,
   "metadata": {},
   "outputs": [],
   "source": []
  },
  {
   "cell_type": "code",
   "execution_count": 4,
   "metadata": {},
   "outputs": [
    {
     "data": {
      "text/plain": [
       "Index(['listingid', 'asgpropid', 'qtr', 'tax_year', 'cbsa_div', 'cbsa',\n",
       "       'state', 'Transdate', 'Transprice', 'bedrooms', 'total_value',\n",
       "       'cj_living_area', 'basement', 'has_pool', 'parking', 'is_poor',\n",
       "       'is_good', 'HAS_VIEW', 'has_golf', 'has_water', 'has_woods', 'has_hill',\n",
       "       'fips_code', 'census_tract', 'zip', 'effective_year_built', 'story',\n",
       "       'ListingPrice', 'publicremarks', 'avmValue', 'avmerror', 'rentsale',\n",
       "       'publicremarks_prepared', 'publicremarks_prepared_unicode',\n",
       "       'clean_publicremarks', 'clean_publicremarks_additional_words',\n",
       "       'clean_publicremarks_nopunct',\n",
       "       'clean_publicremarks_nopunct_additional_words',\n",
       "       'clean_publicremarks_stemmed',\n",
       "       'clean_publicremarks_stemmed_additional_words',\n",
       "       'clean_publicremarks_lemmatized',\n",
       "       'clean_publicremarks_lemmatized_additional_words'],\n",
       "      dtype='object')"
      ]
     },
     "execution_count": 4,
     "metadata": {},
     "output_type": "execute_result"
    }
   ],
   "source": [
    "df_sales.columns"
   ]
  },
  {
   "cell_type": "code",
   "execution_count": null,
   "metadata": {},
   "outputs": [],
   "source": []
  },
  {
   "cell_type": "code",
   "execution_count": 5,
   "metadata": {},
   "outputs": [
    {
     "data": {
      "text/plain": [
       "'gorgeous basement desired braselton community riverstone park. entry, find formal dining room office complete french doors. open floor plan boasts kitchen large island & breakfast area overlooking living room open staircase DIGITnd floor. master main master suite upstairs walk-in closets bedroom! wind day screened porch gaze manicured lawn. meticulously cared lot offer, waiting you! riverstone park social neighborhood activities year. access life path easy golf cart ride favorite eateries!'"
      ]
     },
     "execution_count": 5,
     "metadata": {},
     "output_type": "execute_result"
    }
   ],
   "source": [
    "df_sales['clean_publicremarks_additional_words'][0]"
   ]
  },
  {
   "cell_type": "code",
   "execution_count": null,
   "metadata": {},
   "outputs": [],
   "source": []
  },
  {
   "cell_type": "code",
   "execution_count": null,
   "metadata": {},
   "outputs": [],
   "source": []
  },
  {
   "cell_type": "code",
   "execution_count": null,
   "metadata": {},
   "outputs": [],
   "source": []
  },
  {
   "cell_type": "code",
   "execution_count": 6,
   "metadata": {},
   "outputs": [
    {
     "data": {
      "text/html": [
       "<div>\n",
       "<style scoped>\n",
       "    .dataframe tbody tr th:only-of-type {\n",
       "        vertical-align: middle;\n",
       "    }\n",
       "\n",
       "    .dataframe tbody tr th {\n",
       "        vertical-align: top;\n",
       "    }\n",
       "\n",
       "    .dataframe thead th {\n",
       "        text-align: right;\n",
       "    }\n",
       "</style>\n",
       "<table border=\"1\" class=\"dataframe\">\n",
       "  <thead>\n",
       "    <tr style=\"text-align: right;\">\n",
       "      <th></th>\n",
       "      <th>listingid</th>\n",
       "      <th>asgpropid</th>\n",
       "      <th>qtr</th>\n",
       "      <th>tax_year</th>\n",
       "      <th>cbsa_div</th>\n",
       "      <th>cbsa</th>\n",
       "      <th>state</th>\n",
       "      <th>Transdate</th>\n",
       "      <th>Transprice</th>\n",
       "      <th>bedrooms</th>\n",
       "      <th>...</th>\n",
       "      <th>publicremarks_prepared</th>\n",
       "      <th>publicremarks_prepared_unicode</th>\n",
       "      <th>clean_publicremarks</th>\n",
       "      <th>clean_publicremarks_additional_words</th>\n",
       "      <th>clean_publicremarks_nopunct</th>\n",
       "      <th>clean_publicremarks_nopunct_additional_words</th>\n",
       "      <th>clean_publicremarks_stemmed</th>\n",
       "      <th>clean_publicremarks_stemmed_additional_words</th>\n",
       "      <th>clean_publicremarks_lemmatized</th>\n",
       "      <th>clean_publicremarks_lemmatized_additional_words</th>\n",
       "    </tr>\n",
       "  </thead>\n",
       "  <tbody>\n",
       "    <tr>\n",
       "      <td>0</td>\n",
       "      <td>226661582</td>\n",
       "      <td>27649366.0</td>\n",
       "      <td>202008</td>\n",
       "      <td>2020.0</td>\n",
       "      <td>23580</td>\n",
       "      <td>23580</td>\n",
       "      <td>GA</td>\n",
       "      <td>20200811</td>\n",
       "      <td>359000.0</td>\n",
       "      <td>4.0</td>\n",
       "      <td>...</td>\n",
       "      <td>welcome to this gorgeous basement home in the ...</td>\n",
       "      <td>welcome to this gorgeous basement home in the ...</td>\n",
       "      <td>welcome gorgeous basement home desired braselt...</td>\n",
       "      <td>gorgeous basement desired braselton community ...</td>\n",
       "      <td>welcome gorgeous basement home desired braselt...</td>\n",
       "      <td>gorgeous basement desired braselton community ...</td>\n",
       "      <td>welcom gorgeou basement home desir braselton c...</td>\n",
       "      <td>gorgeou basement desir braselton commun rivers...</td>\n",
       "      <td>welcome gorgeous basement home desired braselt...</td>\n",
       "      <td>gorgeous basement desired braselton community ...</td>\n",
       "    </tr>\n",
       "    <tr>\n",
       "      <td>1</td>\n",
       "      <td>226786904</td>\n",
       "      <td>27628370.0</td>\n",
       "      <td>202008</td>\n",
       "      <td>2020.0</td>\n",
       "      <td>29300</td>\n",
       "      <td>29300</td>\n",
       "      <td>GA</td>\n",
       "      <td>20200925</td>\n",
       "      <td>265000.0</td>\n",
       "      <td>4.0</td>\n",
       "      <td>...</td>\n",
       "      <td>location location location!!!! just steps from...</td>\n",
       "      <td>location location location!!!! just steps from...</td>\n",
       "      <td>location location location!!!! steps anything ...</td>\n",
       "      <td>location location location!!!! steps &amp; downtow...</td>\n",
       "      <td>location location location steps anything  eve...</td>\n",
       "      <td>location location location steps  downtown lag...</td>\n",
       "      <td>locat locat locat step anyth everyth downtown ...</td>\n",
       "      <td>locat locat locat step downtown lagrang offer ...</td>\n",
       "      <td>location location location step anything every...</td>\n",
       "      <td>location location location step downtown lagra...</td>\n",
       "    </tr>\n",
       "    <tr>\n",
       "      <td>2</td>\n",
       "      <td>226142320</td>\n",
       "      <td>27963359.0</td>\n",
       "      <td>202005</td>\n",
       "      <td>2020.0</td>\n",
       "      <td>27600</td>\n",
       "      <td>27600</td>\n",
       "      <td>GA</td>\n",
       "      <td>20200624</td>\n",
       "      <td>239900.0</td>\n",
       "      <td>4.0</td>\n",
       "      <td>...</td>\n",
       "      <td>spacious stepless DIGIT-sides brick ranch with...</td>\n",
       "      <td>spacious stepless DIGIT-sides brick ranch with...</td>\n",
       "      <td>spacious stepless DIGIT-sides brick ranch rock...</td>\n",
       "      <td>spacious stepless DIGIT-sides brick ranch rock...</td>\n",
       "      <td>spacious stepless DIGITsides brick ranch rocki...</td>\n",
       "      <td>spacious stepless DIGITsides brick ranch rocki...</td>\n",
       "      <td>spaciou stepless digitsid brick ranch rock cha...</td>\n",
       "      <td>spaciou stepless digitsid brick ranch rock cha...</td>\n",
       "      <td>spacious stepless DIGITsides brick ranch rocki...</td>\n",
       "      <td>spacious stepless DIGITsides brick ranch rocki...</td>\n",
       "    </tr>\n",
       "    <tr>\n",
       "      <td>3</td>\n",
       "      <td>226738459</td>\n",
       "      <td>27516267.0</td>\n",
       "      <td>202008</td>\n",
       "      <td>2020.0</td>\n",
       "      <td>29300</td>\n",
       "      <td>29300</td>\n",
       "      <td>GA</td>\n",
       "      <td>20200713</td>\n",
       "      <td>130900.0</td>\n",
       "      <td>3.0</td>\n",
       "      <td>...</td>\n",
       "      <td>new carpet , new vinyl, new interior paint, ne...</td>\n",
       "      <td>new carpet , new vinyl, new interior paint, ne...</td>\n",
       "      <td>new carpet , new vinyl, new interior paint, ne...</td>\n",
       "      <td>carpet , vinyl, interior paint, stove/oven. fe...</td>\n",
       "      <td>new carpet  new vinyl new interior paint new s...</td>\n",
       "      <td>carpet  vinyl interior paint stoveoven fenced ...</td>\n",
       "      <td>new carpet new vinyl new interior paint new st...</td>\n",
       "      <td>carpet vinyl interior paint stoveoven fenc bac...</td>\n",
       "      <td>new carpet new vinyl new interior paint new st...</td>\n",
       "      <td>carpet vinyl interior paint stoveoven fenced b...</td>\n",
       "    </tr>\n",
       "    <tr>\n",
       "      <td>4</td>\n",
       "      <td>226850183</td>\n",
       "      <td>27791872.0</td>\n",
       "      <td>202008</td>\n",
       "      <td>2020.0</td>\n",
       "      <td>23580</td>\n",
       "      <td>23580</td>\n",
       "      <td>GA</td>\n",
       "      <td>20200702</td>\n",
       "      <td>406000.0</td>\n",
       "      <td>4.0</td>\n",
       "      <td>...</td>\n",
       "      <td>beautiful john wieland home in highly sought a...</td>\n",
       "      <td>beautiful john wieland home in highly sought a...</td>\n",
       "      <td>beautiful john wieland home highly sought reun...</td>\n",
       "      <td>beautiful john wieland highly sought reunion c...</td>\n",
       "      <td>beautiful john wieland home highly sought reun...</td>\n",
       "      <td>beautiful john wieland highly sought reunion c...</td>\n",
       "      <td>beauti john wieland home highli sought reunion...</td>\n",
       "      <td>beauti john wieland highli sought reunion coun...</td>\n",
       "      <td>beautiful john wieland home highly sought reun...</td>\n",
       "      <td>beautiful john wieland highly sought reunion c...</td>\n",
       "    </tr>\n",
       "  </tbody>\n",
       "</table>\n",
       "<p>5 rows × 42 columns</p>\n",
       "</div>"
      ],
      "text/plain": [
       "   listingid   asgpropid     qtr  tax_year cbsa_div   cbsa state  Transdate  \\\n",
       "0  226661582  27649366.0  202008    2020.0    23580  23580    GA   20200811   \n",
       "1  226786904  27628370.0  202008    2020.0    29300  29300    GA   20200925   \n",
       "2  226142320  27963359.0  202005    2020.0    27600  27600    GA   20200624   \n",
       "3  226738459  27516267.0  202008    2020.0    29300  29300    GA   20200713   \n",
       "4  226850183  27791872.0  202008    2020.0    23580  23580    GA   20200702   \n",
       "\n",
       "   Transprice  bedrooms  ...  \\\n",
       "0    359000.0       4.0  ...   \n",
       "1    265000.0       4.0  ...   \n",
       "2    239900.0       4.0  ...   \n",
       "3    130900.0       3.0  ...   \n",
       "4    406000.0       4.0  ...   \n",
       "\n",
       "                              publicremarks_prepared  \\\n",
       "0  welcome to this gorgeous basement home in the ...   \n",
       "1  location location location!!!! just steps from...   \n",
       "2  spacious stepless DIGIT-sides brick ranch with...   \n",
       "3  new carpet , new vinyl, new interior paint, ne...   \n",
       "4  beautiful john wieland home in highly sought a...   \n",
       "\n",
       "                      publicremarks_prepared_unicode  \\\n",
       "0  welcome to this gorgeous basement home in the ...   \n",
       "1  location location location!!!! just steps from...   \n",
       "2  spacious stepless DIGIT-sides brick ranch with...   \n",
       "3  new carpet , new vinyl, new interior paint, ne...   \n",
       "4  beautiful john wieland home in highly sought a...   \n",
       "\n",
       "                                 clean_publicremarks  \\\n",
       "0  welcome gorgeous basement home desired braselt...   \n",
       "1  location location location!!!! steps anything ...   \n",
       "2  spacious stepless DIGIT-sides brick ranch rock...   \n",
       "3  new carpet , new vinyl, new interior paint, ne...   \n",
       "4  beautiful john wieland home highly sought reun...   \n",
       "\n",
       "                clean_publicremarks_additional_words  \\\n",
       "0  gorgeous basement desired braselton community ...   \n",
       "1  location location location!!!! steps & downtow...   \n",
       "2  spacious stepless DIGIT-sides brick ranch rock...   \n",
       "3  carpet , vinyl, interior paint, stove/oven. fe...   \n",
       "4  beautiful john wieland highly sought reunion c...   \n",
       "\n",
       "                         clean_publicremarks_nopunct  \\\n",
       "0  welcome gorgeous basement home desired braselt...   \n",
       "1  location location location steps anything  eve...   \n",
       "2  spacious stepless DIGITsides brick ranch rocki...   \n",
       "3  new carpet  new vinyl new interior paint new s...   \n",
       "4  beautiful john wieland home highly sought reun...   \n",
       "\n",
       "        clean_publicremarks_nopunct_additional_words  \\\n",
       "0  gorgeous basement desired braselton community ...   \n",
       "1  location location location steps  downtown lag...   \n",
       "2  spacious stepless DIGITsides brick ranch rocki...   \n",
       "3  carpet  vinyl interior paint stoveoven fenced ...   \n",
       "4  beautiful john wieland highly sought reunion c...   \n",
       "\n",
       "                         clean_publicremarks_stemmed  \\\n",
       "0  welcom gorgeou basement home desir braselton c...   \n",
       "1  locat locat locat step anyth everyth downtown ...   \n",
       "2  spaciou stepless digitsid brick ranch rock cha...   \n",
       "3  new carpet new vinyl new interior paint new st...   \n",
       "4  beauti john wieland home highli sought reunion...   \n",
       "\n",
       "        clean_publicremarks_stemmed_additional_words  \\\n",
       "0  gorgeou basement desir braselton commun rivers...   \n",
       "1  locat locat locat step downtown lagrang offer ...   \n",
       "2  spaciou stepless digitsid brick ranch rock cha...   \n",
       "3  carpet vinyl interior paint stoveoven fenc bac...   \n",
       "4  beauti john wieland highli sought reunion coun...   \n",
       "\n",
       "                      clean_publicremarks_lemmatized  \\\n",
       "0  welcome gorgeous basement home desired braselt...   \n",
       "1  location location location step anything every...   \n",
       "2  spacious stepless DIGITsides brick ranch rocki...   \n",
       "3  new carpet new vinyl new interior paint new st...   \n",
       "4  beautiful john wieland home highly sought reun...   \n",
       "\n",
       "     clean_publicremarks_lemmatized_additional_words  \n",
       "0  gorgeous basement desired braselton community ...  \n",
       "1  location location location step downtown lagra...  \n",
       "2  spacious stepless DIGITsides brick ranch rocki...  \n",
       "3  carpet vinyl interior paint stoveoven fenced b...  \n",
       "4  beautiful john wieland highly sought reunion c...  \n",
       "\n",
       "[5 rows x 42 columns]"
      ]
     },
     "execution_count": 6,
     "metadata": {},
     "output_type": "execute_result"
    }
   ],
   "source": [
    "df_sales.head()"
   ]
  },
  {
   "cell_type": "code",
   "execution_count": 7,
   "metadata": {},
   "outputs": [
    {
     "name": "stdout",
     "output_type": "stream",
     "text": [
      "633871\n"
     ]
    },
    {
     "data": {
      "text/plain": [
       "Index(['listingid', 'asgpropid', 'qtr', 'tax_year', 'cbsa_div', 'cbsa',\n",
       "       'state', 'Transdate', 'Transprice', 'bedrooms', 'total_value',\n",
       "       'cj_living_area', 'basement', 'has_pool', 'parking', 'is_poor',\n",
       "       'is_good', 'HAS_VIEW', 'has_golf', 'has_water', 'has_woods', 'has_hill',\n",
       "       'fips_code', 'census_tract', 'zip', 'effective_year_built', 'story',\n",
       "       'ListingPrice', 'publicremarks', 'avmValue', 'avmerror', 'rentsale',\n",
       "       'publicremarks_prepared', 'publicremarks_prepared_unicode',\n",
       "       'clean_publicremarks', 'clean_publicremarks_additional_words',\n",
       "       'clean_publicremarks_nopunct',\n",
       "       'clean_publicremarks_nopunct_additional_words',\n",
       "       'clean_publicremarks_stemmed',\n",
       "       'clean_publicremarks_stemmed_additional_words',\n",
       "       'clean_publicremarks_lemmatized',\n",
       "       'clean_publicremarks_lemmatized_additional_words'],\n",
       "      dtype='object')"
      ]
     },
     "execution_count": 7,
     "metadata": {},
     "output_type": "execute_result"
    }
   ],
   "source": [
    "print(len(df_sales))\n",
    "\n",
    "df_sales.columns"
   ]
  },
  {
   "cell_type": "code",
   "execution_count": 8,
   "metadata": {},
   "outputs": [
    {
     "name": "stdout",
     "output_type": "stream",
     "text": [
      "(listingid                                          633871\n",
      "asgpropid                                          633871\n",
      "qtr                                                633871\n",
      "tax_year                                           633857\n",
      "cbsa_div                                           633871\n",
      "cbsa                                               633871\n",
      "state                                              633871\n",
      "Transdate                                          633871\n",
      "Transprice                                         633871\n",
      "bedrooms                                           547262\n",
      "total_value                                        633799\n",
      "cj_living_area                                     633842\n",
      "basement                                           633871\n",
      "has_pool                                           633871\n",
      "parking                                            633871\n",
      "is_poor                                            633871\n",
      "is_good                                            633871\n",
      "HAS_VIEW                                           633871\n",
      "has_golf                                           633871\n",
      "has_water                                          633871\n",
      "has_woods                                          633871\n",
      "has_hill                                           633871\n",
      "fips_code                                          633871\n",
      "census_tract                                       633871\n",
      "zip                                                633871\n",
      "effective_year_built                               633367\n",
      "story                                              633871\n",
      "ListingPrice                                       633871\n",
      "publicremarks                                      633871\n",
      "avmValue                                           633871\n",
      "avmerror                                           633871\n",
      "rentsale                                           633871\n",
      "publicremarks_prepared                             633871\n",
      "publicremarks_prepared_unicode                     633871\n",
      "clean_publicremarks                                633871\n",
      "clean_publicremarks_additional_words               633871\n",
      "clean_publicremarks_nopunct                        633871\n",
      "clean_publicremarks_nopunct_additional_words       633871\n",
      "clean_publicremarks_stemmed                        633871\n",
      "clean_publicremarks_stemmed_additional_words       633871\n",
      "clean_publicremarks_lemmatized                     633871\n",
      "clean_publicremarks_lemmatized_additional_words    633871\n",
      "dtype: int64, 42)\n"
     ]
    }
   ],
   "source": [
    "\n",
    "print((df_sales.count(), len(df_sales.columns)))"
   ]
  },
  {
   "cell_type": "code",
   "execution_count": null,
   "metadata": {},
   "outputs": [],
   "source": []
  },
  {
   "cell_type": "code",
   "execution_count": 9,
   "metadata": {},
   "outputs": [
    {
     "name": "stdout",
     "output_type": "stream",
     "text": [
      "2022-02-22 05:43:18,806 loading file /home/cdsw/.flair/models/sentiment-en-mix-distillbert_4.pt\n",
      "2022-02-22 05:43:22,941 loading file /home/cdsw/.flair/models/sentiment-en-mix-distillbert_4.pt\n"
     ]
    },
    {
     "data": {
      "text/plain": [
       "<module 'nlp_pandas_functions.sentiment_analysis' from '/home/cdsw/nlp_pandas_functions/sentiment_analysis.py'>"
      ]
     },
     "execution_count": 9,
     "metadata": {},
     "output_type": "execute_result"
    }
   ],
   "source": [
    "from nlp_pandas_functions import sentiment_analysis\n",
    "reload(sentiment_analysis)"
   ]
  },
  {
   "cell_type": "code",
   "execution_count": 10,
   "metadata": {},
   "outputs": [
    {
     "data": {
      "text/plain": [
       "['PretrainedPipeline',\n",
       " 'SentimentIntensityAnalyzer',\n",
       " 'TextBlob',\n",
       " 'VaderSentimentIntensityAnalyzer',\n",
       " '__builtins__',\n",
       " '__cached__',\n",
       " '__doc__',\n",
       " '__file__',\n",
       " '__loader__',\n",
       " '__name__',\n",
       " '__package__',\n",
       " '__spec__',\n",
       " 'df_lambda_flair_polarity',\n",
       " 'df_lambda_list',\n",
       " 'df_lambda_nltk_polarity_score',\n",
       " 'df_lambda_nltk_polarity_score_dict',\n",
       " 'df_lambda_textblob_polarity',\n",
       " 'df_lambda_vader_polarity',\n",
       " 'flair',\n",
       " 'flair_sentiment',\n",
       " 'flair_steps',\n",
       " 'nltk',\n",
       " 'single_entry_nltk_polarity_score',\n",
       " 'single_entry_textblob_polarity',\n",
       " 'single_entry_vader_polarity']"
      ]
     },
     "execution_count": 10,
     "metadata": {},
     "output_type": "execute_result"
    }
   ],
   "source": [
    "dir(sentiment_analysis)"
   ]
  },
  {
   "cell_type": "code",
   "execution_count": 11,
   "metadata": {},
   "outputs": [],
   "source": [
    "columns = ['publicremarks', 'clean_publicremarks', 'clean_publicremarks_additional_words',\n",
    "          'clean_publicremarks_nopunct', 'clean_publicremarks_nopunct_additional_words', \n",
    "          'clean_publicremarks_stemmed', \n",
    "          'clean_publicremarks_stemmed_additional_words', 'clean_publicremarks_lemmatized',\n",
    "          'clean_publicremarks_lemmatized_additional_words']"
   ]
  },
  {
   "cell_type": "code",
   "execution_count": 12,
   "metadata": {},
   "outputs": [
    {
     "name": "stdout",
     "output_type": "stream",
     "text": [
      "4754.4549990000005\n"
     ]
    }
   ],
   "source": [
    "tic = time.clock()\n",
    "df_sales = sentiment_analysis.df_lambda_nltk_polarity_score_dict(df_sales, columns)\n",
    "toc = time.clock()\n",
    "print(toc - tic)\n",
    "#neg, neu, pos, cm"
   ]
  },
  {
   "cell_type": "code",
   "execution_count": 13,
   "metadata": {},
   "outputs": [
    {
     "name": "stdout",
     "output_type": "stream",
     "text": [
      "5326.9235229999995\n"
     ]
    }
   ],
   "source": [
    "tic = time.clock()\n",
    "df_sales = sentiment_analysis.df_lambda_textblob_polarity(df_sales, columns)\n",
    "toc = time.clock()\n",
    "print(toc - tic)"
   ]
  },
  {
   "cell_type": "code",
   "execution_count": 14,
   "metadata": {},
   "outputs": [],
   "source": [
    "#Too Slow.... could be used for checking \n",
    "#tic = time.clock()\n",
    "#df_sales = sentiment_analysis.df_lambda_flair_polarity(df_sales, columns)\n",
    "#toc = time.clock()\n",
    "#print(toc - tic)"
   ]
  },
  {
   "cell_type": "code",
   "execution_count": 15,
   "metadata": {},
   "outputs": [
    {
     "name": "stdout",
     "output_type": "stream",
     "text": [
      "3795.679932000001\n"
     ]
    }
   ],
   "source": [
    "tic = time.clock()\n",
    "df_sales = sentiment_analysis.df_lambda_vader_polarity(df_sales, columns)\n",
    "toc = time.clock()\n",
    "print(toc - tic)\n",
    "#neg, neu, pos, cm"
   ]
  },
  {
   "cell_type": "code",
   "execution_count": null,
   "metadata": {},
   "outputs": [],
   "source": []
  },
  {
   "cell_type": "code",
   "execution_count": 16,
   "metadata": {},
   "outputs": [
    {
     "data": {
      "text/plain": [
       "Index(['listingid', 'asgpropid', 'qtr', 'tax_year', 'cbsa_div', 'cbsa',\n",
       "       'state', 'Transdate', 'Transprice', 'bedrooms', 'total_value',\n",
       "       'cj_living_area', 'basement', 'has_pool', 'parking', 'is_poor',\n",
       "       'is_good', 'HAS_VIEW', 'has_golf', 'has_water', 'has_woods', 'has_hill',\n",
       "       'fips_code', 'census_tract', 'zip', 'effective_year_built', 'story',\n",
       "       'ListingPrice', 'publicremarks', 'avmValue', 'avmerror', 'rentsale',\n",
       "       'publicremarks_prepared', 'publicremarks_prepared_unicode',\n",
       "       'clean_publicremarks', 'clean_publicremarks_additional_words',\n",
       "       'clean_publicremarks_nopunct',\n",
       "       'clean_publicremarks_nopunct_additional_words',\n",
       "       'clean_publicremarks_stemmed',\n",
       "       'clean_publicremarks_stemmed_additional_words',\n",
       "       'clean_publicremarks_lemmatized',\n",
       "       'clean_publicremarks_lemmatized_additional_words',\n",
       "       'publicremarks_nltkpolarity', 'clean_publicremarks_nltkpolarity',\n",
       "       'clean_publicremarks_additional_words_nltkpolarity',\n",
       "       'clean_publicremarks_nopunct_nltkpolarity',\n",
       "       'clean_publicremarks_nopunct_additional_words_nltkpolarity',\n",
       "       'clean_publicremarks_stemmed_nltkpolarity',\n",
       "       'clean_publicremarks_stemmed_additional_words_nltkpolarity',\n",
       "       'clean_publicremarks_lemmatized_nltkpolarity',\n",
       "       'clean_publicremarks_lemmatized_additional_words_nltkpolarity',\n",
       "       'publicremarks_textblobpolarity',\n",
       "       'clean_publicremarks_textblobpolarity',\n",
       "       'clean_publicremarks_additional_words_textblobpolarity',\n",
       "       'clean_publicremarks_nopunct_textblobpolarity',\n",
       "       'clean_publicremarks_nopunct_additional_words_textblobpolarity',\n",
       "       'clean_publicremarks_stemmed_textblobpolarity',\n",
       "       'clean_publicremarks_stemmed_additional_words_textblobpolarity',\n",
       "       'clean_publicremarks_lemmatized_textblobpolarity',\n",
       "       'clean_publicremarks_lemmatized_additional_words_textblobpolarity',\n",
       "       'publicremarks_vaderpolarity', 'clean_publicremarks_vaderpolarity',\n",
       "       'clean_publicremarks_additional_words_vaderpolarity',\n",
       "       'clean_publicremarks_nopunct_vaderpolarity',\n",
       "       'clean_publicremarks_nopunct_additional_words_vaderpolarity',\n",
       "       'clean_publicremarks_stemmed_vaderpolarity',\n",
       "       'clean_publicremarks_stemmed_additional_words_vaderpolarity',\n",
       "       'clean_publicremarks_lemmatized_vaderpolarity',\n",
       "       'clean_publicremarks_lemmatized_additional_words_vaderpolarity'],\n",
       "      dtype='object')"
      ]
     },
     "execution_count": 16,
     "metadata": {},
     "output_type": "execute_result"
    }
   ],
   "source": [
    "df_sales.columns"
   ]
  },
  {
   "cell_type": "code",
   "execution_count": null,
   "metadata": {},
   "outputs": [],
   "source": []
  },
  {
   "cell_type": "code",
   "execution_count": 17,
   "metadata": {},
   "outputs": [],
   "source": [
    "#df_sales = df_sales.drop(columns=['index'])"
   ]
  },
  {
   "cell_type": "code",
   "execution_count": 18,
   "metadata": {},
   "outputs": [],
   "source": [
    "#df_sales "
   ]
  },
  {
   "cell_type": "code",
   "execution_count": 19,
   "metadata": {},
   "outputs": [],
   "source": [
    "df_sales.to_feather(file + '_withsentiment.fea')"
   ]
  },
  {
   "cell_type": "code",
   "execution_count": null,
   "metadata": {},
   "outputs": [],
   "source": []
  },
  {
   "cell_type": "code",
   "execution_count": 20,
   "metadata": {},
   "outputs": [
    {
     "data": {
      "text/plain": [
       "'john wieland homes presents atlantas hometown. DIGITDIGITth century style homes front porches. village area town hall. DIGITDIGIT hole golf course voted best course ga golf news. incredible amenities. DIGIT-DIGITDIGIT warranty.'"
      ]
     },
     "execution_count": 20,
     "metadata": {},
     "output_type": "execute_result"
    }
   ],
   "source": [
    "df_sales['clean_publicremarks_additional_words'][1000]"
   ]
  },
  {
   "cell_type": "code",
   "execution_count": 21,
   "metadata": {},
   "outputs": [
    {
     "data": {
      "text/plain": [
       "{'neg': 0.0, 'neu': 0.803, 'pos': 0.197, 'compound': 0.9401}"
      ]
     },
     "execution_count": 21,
     "metadata": {},
     "output_type": "execute_result"
    }
   ],
   "source": [
    "df_sales['clean_publicremarks_additional_words_vaderpolarity'].values[0]"
   ]
  },
  {
   "cell_type": "code",
   "execution_count": 22,
   "metadata": {},
   "outputs": [
    {
     "data": {
      "text/plain": [
       "{'neg': 0.0, 'neu': 0.801, 'pos': 0.199, 'compound': 0.9401}"
      ]
     },
     "execution_count": 22,
     "metadata": {},
     "output_type": "execute_result"
    }
   ],
   "source": [
    "df_sales['clean_publicremarks_additional_words_nltkpolarity'].values[0]"
   ]
  },
  {
   "cell_type": "code",
   "execution_count": null,
   "metadata": {},
   "outputs": [],
   "source": []
  },
  {
   "cell_type": "code",
   "execution_count": null,
   "metadata": {},
   "outputs": [],
   "source": []
  },
  {
   "cell_type": "code",
   "execution_count": null,
   "metadata": {},
   "outputs": [],
   "source": []
  },
  {
   "cell_type": "code",
   "execution_count": null,
   "metadata": {},
   "outputs": [],
   "source": []
  },
  {
   "cell_type": "code",
   "execution_count": null,
   "metadata": {},
   "outputs": [],
   "source": []
  },
  {
   "cell_type": "code",
   "execution_count": null,
   "metadata": {},
   "outputs": [],
   "source": []
  },
  {
   "cell_type": "code",
   "execution_count": null,
   "metadata": {},
   "outputs": [],
   "source": []
  }
 ],
 "metadata": {
  "kernelspec": {
   "display_name": "Python 3",
   "language": "python",
   "name": "python3"
  },
  "language_info": {
   "codemirror_mode": {
    "name": "ipython",
    "version": 3
   },
   "file_extension": ".py",
   "mimetype": "text/x-python",
   "name": "python",
   "nbconvert_exporter": "python",
   "pygments_lexer": "ipython3",
   "version": "3.6.10"
  }
 },
 "nbformat": 4,
 "nbformat_minor": 4
}
