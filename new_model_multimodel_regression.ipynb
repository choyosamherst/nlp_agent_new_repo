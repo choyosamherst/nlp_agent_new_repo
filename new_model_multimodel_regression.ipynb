{
 "cells": [
  {
   "cell_type": "code",
   "execution_count": 2,
   "metadata": {},
   "outputs": [],
   "source": [
    "from sklearn.ensemble import RandomForestRegressor\n",
    "from sklearn.datasets import make_regression\n",
    "\n",
    "import pandas as pd\n",
    "import numpy as np\n",
    "import matplotlib.pyplot as plt\n",
    "\n",
    "\n",
    "from sklearn.datasets import make_classification\n",
    "from sklearn.model_selection import train_test_split\n",
    "\n",
    "from sklearn.ensemble import RandomForestClassifier\n",
    "\n",
    "from sklearn.preprocessing import MinMaxScaler\n"
   ]
  },
  {
   "cell_type": "code",
   "execution_count": 3,
   "metadata": {},
   "outputs": [],
   "source": [
    "import seaborn as sns\n",
    "sns.set_style(\"whitegrid\")"
   ]
  },
  {
   "cell_type": "code",
   "execution_count": null,
   "metadata": {},
   "outputs": [],
   "source": []
  },
  {
   "cell_type": "code",
   "execution_count": 4,
   "metadata": {},
   "outputs": [],
   "source": [
    "noun_sentence_df_final_joined_df_selected_columns_use_min = pd.\\\n",
    "    read_feather('noun_sentence_df_final_joined_df_selected_columns_use_min_test.fea')"
   ]
  },
  {
   "cell_type": "code",
   "execution_count": 5,
   "metadata": {},
   "outputs": [],
   "source": [
    "noun_sentence_df_final_joined_df_selected_columns_use_min = noun_sentence_df_final_joined_df_selected_columns_use_min.dropna()"
   ]
  },
  {
   "cell_type": "code",
   "execution_count": 6,
   "metadata": {},
   "outputs": [
    {
     "data": {
      "text/plain": [
       "Index(['level_0', 'listingid', 'index', 'AVM_Error_List', 'Listing_Error_List',\n",
       "       'AVM_Error_List_count', 'Transdate', 'Transprice', 'total_value',\n",
       "       'cj_living_area', 'effective_year_built', 'story', 'ListingPrice',\n",
       "       'avmValue', 'avmerror', 'AVM_Error_Indicators_0',\n",
       "       'AVM_Error_Indicators_1', 'AVM_Error_Indicators_2',\n",
       "       'AVM_Error_Indicators_3', 'AVM_Error_Indicators_4',\n",
       "       'AVM_Error_Indicators_5', 'AVM_Error_Indicators_6',\n",
       "       'AVM_Error_Indicators_7', 'AVM_Error_Indicators_8',\n",
       "       'AVM_Error_Indicators_9', 'AVM_Error_Indicators_10',\n",
       "       'AVM_Error_Indicators_11',\n",
       "       'clean_publicremarks_additional_words_vaderpolarity_0',\n",
       "       'clean_publicremarks_additional_words_vaderpolarity_1',\n",
       "       'clean_publicremarks_additional_words_vaderpolarity_2',\n",
       "       'clean_publicremarks_additional_words_vaderpolarity_3',\n",
       "       'AVM_Error_Indicators_scale', 'transaction_year'],\n",
       "      dtype='object')"
      ]
     },
     "execution_count": 6,
     "metadata": {},
     "output_type": "execute_result"
    }
   ],
   "source": [
    "noun_sentence_df_final_joined_df_selected_columns_use_min.columns"
   ]
  },
  {
   "cell_type": "code",
   "execution_count": 7,
   "metadata": {},
   "outputs": [],
   "source": [
    "predictor_columns = [ 'cj_living_area',\n",
    "       'avmValue', 'AVM_Error_Indicators_0',\n",
    "       'AVM_Error_Indicators_1', 'AVM_Error_Indicators_2',\n",
    "       'AVM_Error_Indicators_3', 'AVM_Error_Indicators_4',\n",
    "       'AVM_Error_Indicators_5', 'AVM_Error_Indicators_6',\n",
    "       'AVM_Error_Indicators_7', 'AVM_Error_Indicators_8',\n",
    "       'AVM_Error_Indicators_9', 'AVM_Error_Indicators_10',\n",
    "       'AVM_Error_Indicators_11',\n",
    "       'clean_publicremarks_additional_words_vaderpolarity_0',\n",
    "       'clean_publicremarks_additional_words_vaderpolarity_1',\n",
    "       'clean_publicremarks_additional_words_vaderpolarity_2',\n",
    "       'clean_publicremarks_additional_words_vaderpolarity_3',\n",
    "       'AVM_Error_Indicators_scale']"
   ]
  },
  {
   "cell_type": "code",
   "execution_count": 8,
   "metadata": {},
   "outputs": [],
   "source": [
    "Predictors = noun_sentence_df_final_joined_df_selected_columns_use_min.loc[:,predictor_columns].to_numpy()"
   ]
  },
  {
   "cell_type": "code",
   "execution_count": 9,
   "metadata": {},
   "outputs": [
    {
     "data": {
      "text/plain": [
       "(200000, 19)"
      ]
     },
     "execution_count": 9,
     "metadata": {},
     "output_type": "execute_result"
    }
   ],
   "source": [
    "Predictors.shape"
   ]
  },
  {
   "cell_type": "code",
   "execution_count": 10,
   "metadata": {},
   "outputs": [],
   "source": [
    "predictand = noun_sentence_df_final_joined_df_selected_columns_use_min.avmerror.values"
   ]
  },
  {
   "cell_type": "code",
   "execution_count": 11,
   "metadata": {},
   "outputs": [
    {
     "data": {
      "text/plain": [
       "(200000,)"
      ]
     },
     "execution_count": 11,
     "metadata": {},
     "output_type": "execute_result"
    }
   ],
   "source": [
    "predictand.shape"
   ]
  },
  {
   "cell_type": "code",
   "execution_count": 12,
   "metadata": {},
   "outputs": [],
   "source": [
    "import joblib\n",
    "\n",
    "modelRF01 = joblib.load('RF_newmodel_01.sav')\n",
    "modelRF04 = joblib.load('RF_newmodel_04.sav')\n",
    "modelXG01 = joblib.load('XG_newmodel_01.sav')\n",
    "modelNN01 = joblib.load('NN_newmodel_01.sav')"
   ]
  },
  {
   "cell_type": "code",
   "execution_count": null,
   "metadata": {},
   "outputs": [],
   "source": []
  },
  {
   "cell_type": "code",
   "execution_count": 13,
   "metadata": {},
   "outputs": [],
   "source": [
    "predictions_RF01 =  modelRF01.predict(Predictors)\n",
    "predictions_RF04 =  modelRF04.predict(Predictors)\n",
    "predictions_XG01 =  modelXG01.predict(Predictors)\n",
    "predictions_NN01 =  modelNN01.predict(Predictors)"
   ]
  },
  {
   "cell_type": "code",
   "execution_count": null,
   "metadata": {},
   "outputs": [],
   "source": []
  },
  {
   "cell_type": "code",
   "execution_count": 15,
   "metadata": {},
   "outputs": [],
   "source": [
    "df = noun_sentence_df_final_joined_df_selected_columns_use_min.copy()"
   ]
  },
  {
   "cell_type": "code",
   "execution_count": 20,
   "metadata": {},
   "outputs": [],
   "source": [
    "predictions_RF01_value = df['avmValue'].values/(1-predictions_RF01)\n",
    "predictions_RF04_value = df['avmValue'].values/(1-predictions_RF04)\n",
    "predictions_XG01_value = df['avmValue'].values/(1-predictions_XG01)\n",
    "predictions_NN01_value = df['avmValue'].values/(1-predictions_NN01)"
   ]
  },
  {
   "cell_type": "code",
   "execution_count": 26,
   "metadata": {},
   "outputs": [],
   "source": [
    "predictions_value = (predictions_RF01_value +\n",
    "                    predictions_RF04_value +\n",
    "                    predictions_XG01_value )/3."
   ]
  },
  {
   "cell_type": "code",
   "execution_count": null,
   "metadata": {},
   "outputs": [],
   "source": []
  },
  {
   "cell_type": "code",
   "execution_count": null,
   "metadata": {},
   "outputs": [],
   "source": [
    "\n"
   ]
  },
  {
   "cell_type": "code",
   "execution_count": 29,
   "metadata": {},
   "outputs": [
    {
     "name": "stdout",
     "output_type": "stream",
     "text": [
      "RF01 0.0960133589095299\n",
      "RF04 0.1087294714584619\n",
      "XG04 0.10927737183197946\n",
      "NN04 0.11586254867149272\n",
      "Combined 0.10364512225567339\n",
      "AVM 0.12362300668830177\n"
     ]
    }
   ],
   "source": [
    "print('RF01', np.mean(np.abs(df['Transprice'].values-predictions_RF01_value)/\\\n",
    "              (df['Transprice'].values)))\n",
    "print('RF04',np.mean(np.abs(df['Transprice'].values-predictions_RF04_value)/\\\n",
    "              (df['Transprice'].values)))\n",
    "print('XG04',np.mean(np.abs(df['Transprice'].values-predictions_XG01_value)/\\\n",
    "              (df['Transprice'].values)))\n",
    "print('NN04',np.mean(np.abs(df['Transprice'].values-predictions_NN01_value)/\\\n",
    "              (df['Transprice'].values)))\n",
    "print('Combined',np.mean(np.abs(df['Transprice'].values-predictions_value)/\\\n",
    "              (df['Transprice'].values)))\n",
    "print('AVM',np.mean(np.abs(df['Transprice'].values- df['avmValue'].values)/\\\n",
    "              (df['Transprice'].values)))\n"
   ]
  },
  {
   "cell_type": "code",
   "execution_count": null,
   "metadata": {},
   "outputs": [],
   "source": []
  },
  {
   "cell_type": "code",
   "execution_count": null,
   "metadata": {},
   "outputs": [],
   "source": []
  },
  {
   "cell_type": "code",
   "execution_count": null,
   "metadata": {},
   "outputs": [],
   "source": []
  }
 ],
 "metadata": {
  "kernelspec": {
   "display_name": "Python 3",
   "language": "python",
   "name": "python3"
  },
  "language_info": {
   "codemirror_mode": {
    "name": "ipython",
    "version": 3
   },
   "file_extension": ".py",
   "mimetype": "text/x-python",
   "name": "python",
   "nbconvert_exporter": "python",
   "pygments_lexer": "ipython3",
   "version": "3.6.10"
  }
 },
 "nbformat": 4,
 "nbformat_minor": 4
}
