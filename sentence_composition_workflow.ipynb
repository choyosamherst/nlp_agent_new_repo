{
 "cells": [
  {
   "cell_type": "code",
   "execution_count": 1,
   "metadata": {},
   "outputs": [],
   "source": [
    "import numpy as np\n",
    "import pandas as pd\n",
    "\n",
    "import time\n",
    "\n",
    "import matplotlib.pyplot as plt\n",
    "import os\n",
    "import re\n",
    "import seaborn as sns\n",
    "\n",
    "from collections import Counter"
   ]
  },
  {
   "cell_type": "code",
   "execution_count": 2,
   "metadata": {},
   "outputs": [
    {
     "name": "stderr",
     "output_type": "stream",
     "text": [
      "[nltk_data] Downloading package brown to /home/cdsw/nltk_data...\n",
      "[nltk_data]   Package brown is already up-to-date!\n"
     ]
    },
    {
     "data": {
      "text/plain": [
       "True"
      ]
     },
     "execution_count": 2,
     "metadata": {},
     "output_type": "execute_result"
    }
   ],
   "source": [
    "import nltk\n",
    "nltk.download('brown')"
   ]
  },
  {
   "cell_type": "code",
   "execution_count": 3,
   "metadata": {},
   "outputs": [],
   "source": [
    "from textblob import TextBlob"
   ]
  },
  {
   "cell_type": "code",
   "execution_count": 4,
   "metadata": {},
   "outputs": [],
   "source": [
    "from nltk.tag import pos_tag\n",
    "from nltk.tokenize import word_tokenize"
   ]
  },
  {
   "cell_type": "code",
   "execution_count": 5,
   "metadata": {},
   "outputs": [],
   "source": [
    "str_state = 'GA'\n",
    "file = 'agent_comments_sales_'+str_state\n",
    "#file = 'agent_comments_testdf'\n",
    "#READ THE SALES DATA - STATE\n",
    "df_sales = pd.read_feather(file + '_withsentiment.fea')\n",
    "#df_sales = pd.read_feather(file + '_processed.fea')\n"
   ]
  },
  {
   "cell_type": "code",
   "execution_count": 6,
   "metadata": {},
   "outputs": [],
   "source": [
    "def count_word_types(strtext, TAGs):\n",
    "\n",
    "    textblob_temp = TextBlob(strtext)\n",
    "    count= Counter([j for i,j in pos_tag(word_tokenize(strtext))])\n",
    "    \n",
    "    total_words = len(textblob_temp.words)\n",
    "    #print(total_words)\n",
    "    count_list = []\n",
    "    for listt in TAGs:\n",
    "        class_counter = 0\n",
    "        for item in listt:\n",
    "            class_counter += count[item]\n",
    "        count_list.append(class_counter/total_words*100.)\n",
    "   \n",
    "    count_list.append(total_words)\n",
    "    count_list.append(len(textblob_temp.np_counts))\n",
    "    \n",
    "    return count_list"
   ]
  },
  {
   "cell_type": "code",
   "execution_count": null,
   "metadata": {},
   "outputs": [],
   "source": []
  },
  {
   "cell_type": "code",
   "execution_count": 7,
   "metadata": {},
   "outputs": [],
   "source": [
    "column = 'clean_publicremarks'"
   ]
  },
  {
   "cell_type": "code",
   "execution_count": null,
   "metadata": {},
   "outputs": [],
   "source": []
  },
  {
   "cell_type": "code",
   "execution_count": 8,
   "metadata": {},
   "outputs": [],
   "source": [
    "\n",
    "words_types = ['Nouns', 'Verbs', 'Adjectives', 'Adverbs', 'Prepositions', 'Modal', 'PersonalP']\n",
    "\n",
    "TAGs = [['NN','NNS','NNP','NNPS'],['VB', 'VBD', 'VBG', 'VBN', 'VBP', 'VBZ'], ['JJ', 'JJR', 'JJS'], \n",
    "       ['RB', 'RBR', 'RBS'], ['IN'], ['MD'], ['PRP']]"
   ]
  },
  {
   "cell_type": "code",
   "execution_count": 9,
   "metadata": {},
   "outputs": [
    {
     "data": {
      "text/plain": [
       "'gorgeous DIGIT bed DIGIT.DIGIT bath craftsman-style home located armc/normaltown neighborhood top rated school district!! beautiful home features spacious floorplan abundant natural lighting beautiful hardwoods main. kitchen features stainless steel appliances, granite countertops, walk pantry full laundry room. master located main floor features walk closet, double vanity, garden tub, large shower. exterior features rocking-chair front porch, great landscaping fully-fenced back yard, deck patio area.'"
      ]
     },
     "execution_count": 9,
     "metadata": {},
     "output_type": "execute_result"
    }
   ],
   "source": [
    "df_sales['clean_publicremarks'].values[1500]"
   ]
  },
  {
   "cell_type": "code",
   "execution_count": 10,
   "metadata": {},
   "outputs": [
    {
     "data": {
      "text/plain": [
       "[52.38095238095239,\n",
       " 12.698412698412698,\n",
       " 31.746031746031743,\n",
       " 1.5873015873015872,\n",
       " 1.5873015873015872,\n",
       " 0.0,\n",
       " 0.0,\n",
       " 63,\n",
       " 17]"
      ]
     },
     "execution_count": 10,
     "metadata": {},
     "output_type": "execute_result"
    }
   ],
   "source": [
    "count_word_types(df_sales['clean_publicremarks'].values[1500],TAGs)"
   ]
  },
  {
   "cell_type": "code",
   "execution_count": null,
   "metadata": {},
   "outputs": [],
   "source": []
  },
  {
   "cell_type": "code",
   "execution_count": null,
   "metadata": {},
   "outputs": [],
   "source": []
  },
  {
   "cell_type": "code",
   "execution_count": null,
   "metadata": {},
   "outputs": [],
   "source": [
    "df_sales['sentence_composition'] = df_sales[column].apply(lambda x: count_word_types(x, TAGs))"
   ]
  },
  {
   "cell_type": "code",
   "execution_count": null,
   "metadata": {},
   "outputs": [],
   "source": [
    "df_sales['sentence_composition'][636144]"
   ]
  },
  {
   "cell_type": "code",
   "execution_count": null,
   "metadata": {},
   "outputs": [],
   "source": [
    "df_sales['sentence_composition'][636143]"
   ]
  },
  {
   "cell_type": "code",
   "execution_count": null,
   "metadata": {},
   "outputs": [],
   "source": [
    "df_sales['sentence_composition'][0]"
   ]
  },
  {
   "cell_type": "code",
   "execution_count": null,
   "metadata": {},
   "outputs": [],
   "source": [
    "df_sales.to_feather(file + '_sentencecomposition.fea')"
   ]
  },
  {
   "cell_type": "code",
   "execution_count": null,
   "metadata": {},
   "outputs": [],
   "source": [
    "df_sales"
   ]
  },
  {
   "cell_type": "code",
   "execution_count": null,
   "metadata": {},
   "outputs": [],
   "source": []
  },
  {
   "cell_type": "code",
   "execution_count": null,
   "metadata": {},
   "outputs": [],
   "source": []
  },
  {
   "cell_type": "code",
   "execution_count": null,
   "metadata": {},
   "outputs": [],
   "source": []
  },
  {
   "cell_type": "code",
   "execution_count": null,
   "metadata": {},
   "outputs": [],
   "source": []
  },
  {
   "cell_type": "code",
   "execution_count": null,
   "metadata": {},
   "outputs": [],
   "source": [
    "# DO SENTIMENT ON COMBINED NOUN SENTENCES -  combine this with ngram percentile..."
   ]
  },
  {
   "cell_type": "code",
   "execution_count": 62,
   "metadata": {},
   "outputs": [
    {
     "data": {
      "text/plain": [
       "defaultdict(int,\n",
       "            {'sturbridge community stones': 1,\n",
       "             'pristine shores': 1,\n",
       "             'point lake': 1,\n",
       "             'sunny point access': 1,\n",
       "             'picnic area': 1,\n",
       "             'spacious floor plan': 1,\n",
       "             'chefs kitchen w': 1,\n",
       "             'new cabinetry': 1,\n",
       "             'stone tops': 1,\n",
       "             'stainless appliance package': 1,\n",
       "             'perfect large family celebrations': 1,\n",
       "             'luxury vinyl plank': 1,\n",
       "             'common areas': 1,\n",
       "             'new windows': 1,\n",
       "             'generous master suite w': 1,\n",
       "             'abundance closet space': 1,\n",
       "             'gigantic bonus room garage': 1,\n",
       "             'perfect playroom/office/man cave': 1,\n",
       "             'hill crest school zone': 1})"
      ]
     },
     "execution_count": 62,
     "metadata": {},
     "output_type": "execute_result"
    }
   ],
   "source": [
    "gfg = TextBlob(df_sales['clean_publicremarks'].values[500])\n",
    "print('# words', len(gfg.words))\n",
    "      \n",
    "# using TextBlob.word_counts() method\n",
    "gfg = gfg.np_counts\n",
    "gfg"
   ]
  },
  {
   "cell_type": "code",
   "execution_count": null,
   "metadata": {},
   "outputs": [],
   "source": []
  },
  {
   "cell_type": "code",
   "execution_count": null,
   "metadata": {},
   "outputs": [],
   "source": []
  },
  {
   "cell_type": "code",
   "execution_count": null,
   "metadata": {},
   "outputs": [],
   "source": []
  },
  {
   "cell_type": "code",
   "execution_count": 40,
   "metadata": {},
   "outputs": [
    {
     "name": "stdout",
     "output_type": "stream",
     "text": [
      "[('opportunity', 'NN'), ('knocking', 'VBG'), ('answer', 'VB'), ('?', '.'), ('?', '.'), ('?', '.'), ('renovated', 'VBD'), ('home', 'NN'), ('sought', 'VBN'), ('family', 'NN'), ('oriented', 'VBN'), ('sturbridge', 'NN'), ('community', 'NN'), ('stones', 'NNS'), ('throw', 'VBP'), ('pristine', 'JJ'), ('shores', 'NNS'), ('west', 'JJS'), ('point', 'NN'), ('lake', 'NN'), ('&', 'CC'), ('sunny', 'JJ'), ('point', 'NN'), ('access', 'NN'), ('&', 'CC'), ('picnic', 'JJ'), ('area', 'NN'), ('&', 'CC'), ('minutes', 'NNS'), ('everything', 'NN'), ('lagrange', 'NN'), ('offer', 'NN'), ('!', '.'), ('spacious', 'JJ'), ('floor', 'NN'), ('plan', 'NN'), ('loaded', 'VBD'), ('amenities', 'NNS'), (',', ','), ('updated', 'VBD'), ('chefs', 'NNS'), ('kitchen', 'VB'), ('w', 'JJ'), ('new', 'JJ'), ('cabinetry', 'NN'), (',', ','), ('stone', 'NN'), ('tops', 'NN'), ('&', 'CC'), ('stainless', 'NN'), ('appliance', 'NN'), ('package', 'NN'), ('&', 'CC'), ('adjoining', 'VBG'), ('formal', 'JJ'), ('dinning', 'NN'), ('room', 'NN'), ('perfect', 'VBP'), ('large', 'JJ'), ('family', 'NN'), ('celebrations', 'NNS'), (',', ','), ('beautiful', 'JJ'), ('newly', 'RB'), ('installed', 'VBN'), ('luxury', 'NN'), ('vinyl', 'NN'), ('plank', 'NN'), ('flooring', 'VBG'), ('common', 'JJ'), ('areas', 'NNS'), (',', ','), ('updated', 'VBD'), ('hvac', 'NN'), ('&', 'CC'), ('new', 'JJ'), ('windows', 'NNS'), ('throughout', 'IN'), ('home', 'NN'), (',', ','), ('generous', 'JJ'), ('master', 'NN'), ('suite', 'NN'), ('w', 'NN'), ('updated', 'VBN'), ('bath', 'NN'), ('&', 'CC'), ('abundance', 'NN'), ('closet', 'NN'), ('space', 'NN'), (',', ','), ('gigantic', 'JJ'), ('bonus', 'NN'), ('room', 'NN'), ('garage', 'NN'), ('perfect', 'JJ'), ('playroom/office/man', 'NN'), ('cave', 'NN'), ('must', 'MD'), ('see', 'VB'), ('hill', 'JJ'), ('crest', 'JJS'), ('school', 'NN'), ('zone', 'NN'), ('!', '.'), ('!', '.'), ('!', '.'), ('!', '.')]\n",
      "Counter({'NN': 43, 'JJ': 15, '.': 8, 'NNS': 8, 'CC': 7, ',': 6, 'VBD': 4, 'VBN': 4, 'VBG': 3, 'VB': 3, 'VBP': 2, 'JJS': 2, 'RB': 1, 'IN': 1, 'MD': 1})\n",
      "['NN', 'VBG', 'VB', '.', 'VBD', 'VBN', 'NNS', 'VBP', 'JJ', 'JJS', 'CC', ',', 'RB', 'IN', 'MD']\n"
     ]
    },
    {
     "data": {
      "text/plain": [
       "0"
      ]
     },
     "execution_count": 40,
     "metadata": {},
     "output_type": "execute_result"
    }
   ],
   "source": [
    "\n",
    "\n",
    "\n",
    "sent = df_sales['clean_publicremarks'].values[500]\n",
    "text= pos_tag(word_tokenize(sent))\n",
    "print(text)\n",
    "\n",
    "from collections import Counter\n",
    "count= Counter([j for i,j in pos_tag(word_tokenize(sent))])\n",
    "print(count)\n",
    "print(list(count))\n",
    "count['PDT']"
   ]
  },
  {
   "cell_type": "code",
   "execution_count": null,
   "metadata": {},
   "outputs": [],
   "source": []
  },
  {
   "cell_type": "code",
   "execution_count": null,
   "metadata": {},
   "outputs": [],
   "source": []
  }
 ],
 "metadata": {
  "kernelspec": {
   "display_name": "Python 3",
   "language": "python",
   "name": "python3"
  },
  "language_info": {
   "codemirror_mode": {
    "name": "ipython",
    "version": 3
   },
   "file_extension": ".py",
   "mimetype": "text/x-python",
   "name": "python",
   "nbconvert_exporter": "python",
   "pygments_lexer": "ipython3",
   "version": "3.6.10"
  }
 },
 "nbformat": 4,
 "nbformat_minor": 4
}
