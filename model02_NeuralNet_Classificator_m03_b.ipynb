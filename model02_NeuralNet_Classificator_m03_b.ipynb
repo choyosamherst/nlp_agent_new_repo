{
 "cells": [
  {
   "cell_type": "code",
   "execution_count": 63,
   "metadata": {},
   "outputs": [],
   "source": [
    "import pandas as pd\n",
    "import numpy as np\n",
    "import matplotlib.pyplot as plt\n",
    "import matplotlib.dates as mdates\n",
    "from matplotlib.dates import DateFormatter\n",
    "from datetime import date, datetime\n",
    "\n",
    "from sklearn.metrics import confusion_matrix\n",
    "from sklearn.metrics import normalized_mutual_info_score, mutual_info_score\n",
    "from sklearn.feature_selection import mutual_info_regression\n",
    "\n",
    "from sklearn.preprocessing import KBinsDiscretizer\n",
    "from sklearn.preprocessing import MaxAbsScaler\n",
    "from sklearn.preprocessing import StandardScaler\n",
    "from sklearn.preprocessing import MinMaxScaler\n",
    "\n",
    "from sklearn.linear_model import LinearRegression\n",
    "\n",
    "from sklearn.pipeline import Pipeline\n",
    "\n",
    "from matplotlib import colors\n",
    "import seaborn as sns\n",
    "\n",
    "\n",
    "import tensorflow as tf\n",
    "from tensorflow import keras\n",
    "from tensorflow.keras import layers\n",
    "from tensorflow.keras import optimizers"
   ]
  },
  {
   "cell_type": "code",
   "execution_count": 64,
   "metadata": {},
   "outputs": [],
   "source": [
    "sns.set_style(\"whitegrid\")"
   ]
  },
  {
   "cell_type": "code",
   "execution_count": 65,
   "metadata": {},
   "outputs": [],
   "source": [
    "str_state = 'GA'\n",
    "file = 'agent_comments_sales_'+str_state\n"
   ]
  },
  {
   "cell_type": "code",
   "execution_count": 66,
   "metadata": {},
   "outputs": [],
   "source": [
    "df_sales_predictors = pd.read_feather(file + '_model03.fea') \n",
    "df_Predictand = pd.read_feather(file + '_predictand2.fea') "
   ]
  },
  {
   "cell_type": "code",
   "execution_count": 67,
   "metadata": {},
   "outputs": [],
   "source": [
    "df_Transprice = pd.read_feather(file + '_Transprice.fea') "
   ]
  },
  {
   "cell_type": "code",
   "execution_count": 68,
   "metadata": {},
   "outputs": [],
   "source": [
    "avmvalue = df_sales_predictors['avmValue']"
   ]
  },
  {
   "cell_type": "code",
   "execution_count": 69,
   "metadata": {},
   "outputs": [
    {
     "data": {
      "text/plain": [
       "0         405972.57\n",
       "1         244827.67\n",
       "2         229674.21\n",
       "3         143607.40\n",
       "4         408971.22\n",
       "            ...    \n",
       "534373    444373.18\n",
       "534374    212083.67\n",
       "534375    157484.07\n",
       "534376    193862.59\n",
       "534377    191104.55\n",
       "Name: avmValue, Length: 534378, dtype: float64"
      ]
     },
     "execution_count": 69,
     "metadata": {},
     "output_type": "execute_result"
    }
   ],
   "source": [
    "avmvalue"
   ]
  },
  {
   "cell_type": "code",
   "execution_count": 70,
   "metadata": {},
   "outputs": [],
   "source": [
    "df_sales_predictors = df_sales_predictors.drop(columns = 'avmValue')"
   ]
  },
  {
   "cell_type": "code",
   "execution_count": 71,
   "metadata": {},
   "outputs": [],
   "source": [
    "from sklearn.preprocessing import KBinsDiscretizer"
   ]
  },
  {
   "cell_type": "code",
   "execution_count": 72,
   "metadata": {},
   "outputs": [],
   "source": [
    "\n",
    "nclasses = 20\n",
    "discretizer = KBinsDiscretizer(n_bins=nclasses, encode='ordinal', strategy='uniform')\n"
   ]
  },
  {
   "cell_type": "code",
   "execution_count": 73,
   "metadata": {},
   "outputs": [
    {
     "name": "stdout",
     "output_type": "stream",
     "text": [
      "[-4.99976000e-01 -4.49979738e-01 -3.99983476e-01 -3.49987215e-01\n",
      " -2.99990953e-01 -2.49994691e-01 -1.99998429e-01 -1.50002168e-01\n",
      " -1.00005906e-01 -5.00096442e-02 -1.33824757e-05  4.99828793e-02\n",
      "  9.99791410e-02  1.49975403e-01  1.99971665e-01  2.49967926e-01\n",
      "  2.99964188e-01  3.49960450e-01  3.99956712e-01  4.49952973e-01\n",
      "  4.99949235e-01]\n"
     ]
    }
   ],
   "source": [
    "\n",
    "Series = df_Predictand['avmerror'].values\n",
    "\n",
    "discretizer.fit(Series.reshape(-1,1))\n",
    "Series_disctzd = discretizer.transform(Series.reshape(-1,1))\n",
    "\n",
    "print(discretizer.bin_edges_[0])"
   ]
  },
  {
   "cell_type": "code",
   "execution_count": 74,
   "metadata": {},
   "outputs": [
    {
     "data": {
      "text/plain": [
       "array([[ 7.],\n",
       "       [11.],\n",
       "       [10.],\n",
       "       ...,\n",
       "       [12.],\n",
       "       [ 8.],\n",
       "       [ 9.]])"
      ]
     },
     "execution_count": 74,
     "metadata": {},
     "output_type": "execute_result"
    }
   ],
   "source": [
    "Series_disctzd"
   ]
  },
  {
   "cell_type": "code",
   "execution_count": 183,
   "metadata": {},
   "outputs": [],
   "source": [
    "predictor_array = df_sales_predictors.to_numpy()\n",
    "predictor_array = predictor_array[:,105-np.arange(0,20)]\n",
    "#predictor_array = predictor_array[:, -3:]\n",
    "transform_predictors = MinMaxScaler(feature_range=(-6, 6)).fit(predictor_array)\n",
    "predictor_array_transformed = transform_predictors.transform(predictor_array)\n",
    "#predictor_array_transformed2 = transform_predictors.transform(predictor_array)\n",
    "#predictor_array_transformed = predictor_array"
   ]
  },
  {
   "cell_type": "code",
   "execution_count": null,
   "metadata": {},
   "outputs": [],
   "source": []
  },
  {
   "cell_type": "code",
   "execution_count": 184,
   "metadata": {},
   "outputs": [
    {
     "data": {
      "text/plain": [
       "numpy.ndarray"
      ]
     },
     "execution_count": 184,
     "metadata": {},
     "output_type": "execute_result"
    }
   ],
   "source": [
    "type(predictor_array_transformed)"
   ]
  },
  {
   "cell_type": "code",
   "execution_count": 185,
   "metadata": {},
   "outputs": [
    {
     "data": {
      "text/plain": [
       "(534378, 20)"
      ]
     },
     "execution_count": 185,
     "metadata": {},
     "output_type": "execute_result"
    }
   ],
   "source": [
    "predictor_array.shape"
   ]
  },
  {
   "cell_type": "code",
   "execution_count": 186,
   "metadata": {},
   "outputs": [
    {
     "name": "stdout",
     "output_type": "stream",
     "text": [
      "106\n"
     ]
    }
   ],
   "source": [
    "print(len(df_sales_predictors.columns))"
   ]
  },
  {
   "cell_type": "code",
   "execution_count": null,
   "metadata": {},
   "outputs": [],
   "source": []
  },
  {
   "cell_type": "code",
   "execution_count": null,
   "metadata": {},
   "outputs": [],
   "source": []
  },
  {
   "cell_type": "code",
   "execution_count": 187,
   "metadata": {},
   "outputs": [],
   "source": [
    "Predictand = df_Predictand['avmerror'].values"
   ]
  },
  {
   "cell_type": "code",
   "execution_count": 188,
   "metadata": {},
   "outputs": [
    {
     "data": {
      "text/plain": [
       "[<matplotlib.lines.Line2D at 0x7f9e76b7d5c0>]"
      ]
     },
     "execution_count": 188,
     "metadata": {},
     "output_type": "execute_result"
    },
    {
     "data": {
      "image/png": "[encoded data removed]",
      "text/plain": [
       "<Figure size 432x288 with 1 Axes>"
      ]
     },
     "metadata": {},
     "output_type": "display_data"
    }
   ],
   "source": [
    "plt.plot(Predictand)"
   ]
  },
  {
   "cell_type": "code",
   "execution_count": 189,
   "metadata": {},
   "outputs": [],
   "source": [
    "transform_predictand = MinMaxScaler(feature_range=(0, 1)).fit(Predictand.reshape(-1, 1))\n",
    "Predictand_transformed = transform_predictand.transform(Predictand.reshape(-1, 1))"
   ]
  },
  {
   "cell_type": "code",
   "execution_count": 190,
   "metadata": {},
   "outputs": [
    {
     "data": {
      "text/plain": [
       "[<matplotlib.lines.Line2D at 0x7f9e76b0b048>]"
      ]
     },
     "execution_count": 190,
     "metadata": {},
     "output_type": "execute_result"
    },
    {
     "data": {
      "image/png": "[encoded data removed]",
      "text/plain": [
       "<Figure size 432x288 with 1 Axes>"
      ]
     },
     "metadata": {},
     "output_type": "display_data"
    }
   ],
   "source": [
    "plt.plot(Predictand_transformed)"
   ]
  },
  {
   "cell_type": "code",
   "execution_count": 191,
   "metadata": {},
   "outputs": [],
   "source": [
    "\n",
    "#cov_2 = np.dot (predictor_array_transformed, predictor_array_transformed.T)\n",
    "#print(cov_2.shape)\n"
   ]
  },
  {
   "cell_type": "code",
   "execution_count": 192,
   "metadata": {},
   "outputs": [
    {
     "data": {
      "text/plain": [
       "(534378, 20)"
      ]
     },
     "execution_count": 192,
     "metadata": {},
     "output_type": "execute_result"
    }
   ],
   "source": [
    "predictor_array_transformed.shape"
   ]
  },
  {
   "cell_type": "code",
   "execution_count": 193,
   "metadata": {},
   "outputs": [
    {
     "data": {
      "text/plain": [
       "(534378, 1)"
      ]
     },
     "execution_count": 193,
     "metadata": {},
     "output_type": "execute_result"
    }
   ],
   "source": [
    "Predictand_transformed.shape"
   ]
  },
  {
   "cell_type": "code",
   "execution_count": 194,
   "metadata": {},
   "outputs": [],
   "source": [
    "from sklearn.model_selection import train_test_split"
   ]
  },
  {
   "cell_type": "code",
   "execution_count": 195,
   "metadata": {},
   "outputs": [],
   "source": [
    "train_samples = 300_000  # Samples used for training the models\n",
    "X_train, X_test, y_train, y_test = train_test_split(\n",
    "    predictor_array_transformed,\n",
    "    Series_disctzd,\n",
    "    shuffle=False,\n",
    "    test_size=len(Predictand_transformed) - train_samples,\n",
    ")"
   ]
  },
  {
   "cell_type": "code",
   "execution_count": 196,
   "metadata": {},
   "outputs": [
    {
     "data": {
      "text/plain": [
       "(300000, 1)"
      ]
     },
     "execution_count": 196,
     "metadata": {},
     "output_type": "execute_result"
    }
   ],
   "source": [
    "y_train.shape"
   ]
  },
  {
   "cell_type": "code",
   "execution_count": 213,
   "metadata": {},
   "outputs": [],
   "source": [
    "# Model definition\n",
    "\n",
    "model_NN_Class = keras.Sequential()\n",
    "model_NN_Class.add(keras.layers.Dense(15, activation='relu', input_dim=20))\n",
    "model_NN_Class.add(keras.layers.Dense(5, activation='tanh'))\n",
    "model_NN_Class.add(keras.layers.Dense(nclasses, activation='softmax'))\n"
   ]
  },
  {
   "cell_type": "code",
   "execution_count": 214,
   "metadata": {},
   "outputs": [],
   "source": [
    "#model_NN_Class.compile(loss='mse', optimizer='adam')\n",
    "model_NN_Class.compile(optimizer='adam',\n",
    "              loss='sparse_categorical_crossentropy',\n",
    "              metrics=['accuracy'])"
   ]
  },
  {
   "cell_type": "code",
   "execution_count": 215,
   "metadata": {},
   "outputs": [
    {
     "data": {
      "text/plain": [
       "array([[ 7.],\n",
       "       [11.],\n",
       "       [10.],\n",
       "       ...,\n",
       "       [13.],\n",
       "       [ 5.],\n",
       "       [ 9.]])"
      ]
     },
     "execution_count": 215,
     "metadata": {},
     "output_type": "execute_result"
    }
   ],
   "source": [
    "y_train"
   ]
  },
  {
   "cell_type": "code",
   "execution_count": 216,
   "metadata": {},
   "outputs": [],
   "source": [
    "#y_train = y_train.reshape(1,-1)\n"
   ]
  },
  {
   "cell_type": "code",
   "execution_count": 217,
   "metadata": {},
   "outputs": [],
   "source": [
    "#y_train"
   ]
  },
  {
   "cell_type": "code",
   "execution_count": 218,
   "metadata": {
    "scrolled": true
   },
   "outputs": [
    {
     "name": "stdout",
     "output_type": "stream",
     "text": [
      "Epoch 1/10\n",
      "3000/3000 [==============================] - 8s 3ms/step - loss: 2.4704 - accuracy: 0.1754\n",
      "Epoch 2/10\n",
      "3000/3000 [==============================] - 8s 3ms/step - loss: 2.4430 - accuracy: 0.1776\n",
      "Epoch 3/10\n",
      "3000/3000 [==============================] - 8s 3ms/step - loss: 2.4416 - accuracy: 0.1786\n",
      "Epoch 4/10\n",
      "3000/3000 [==============================] - 8s 3ms/step - loss: 2.4410 - accuracy: 0.1782\n",
      "Epoch 5/10\n",
      "3000/3000 [==============================] - 8s 3ms/step - loss: 2.4407 - accuracy: 0.1785\n",
      "Epoch 6/10\n",
      "3000/3000 [==============================] - 8s 3ms/step - loss: 2.4403 - accuracy: 0.1784\n",
      "Epoch 7/10\n",
      "3000/3000 [==============================] - 8s 3ms/step - loss: 2.4401 - accuracy: 0.1783\n",
      "Epoch 8/10\n",
      "3000/3000 [==============================] - 8s 3ms/step - loss: 2.4395 - accuracy: 0.1788\n",
      "Epoch 9/10\n",
      "3000/3000 [==============================] - 8s 3ms/step - loss: 2.4396 - accuracy: 0.1792\n",
      "Epoch 10/10\n",
      "3000/3000 [==============================] - 8s 3ms/step - loss: 2.4394 - accuracy: 0.1783\n"
     ]
    }
   ],
   "source": [
    "fit_history = model_NN_Class.fit(X_train, y_train, epochs=10, batch_size= 100)"
   ]
  },
  {
   "cell_type": "code",
   "execution_count": 219,
   "metadata": {},
   "outputs": [],
   "source": [
    "predictions = model_NN_Class.predict(X_train)"
   ]
  },
  {
   "cell_type": "code",
   "execution_count": 220,
   "metadata": {},
   "outputs": [
    {
     "data": {
      "text/plain": [
       "array([[0.0055246 , 0.0068316 , 0.00967633, ..., 0.00735875, 0.00528155,\n",
       "        0.00366559],\n",
       "       [0.00092143, 0.00146674, 0.00250858, ..., 0.03761442, 0.03205376,\n",
       "        0.02575826],\n",
       "       [0.00626043, 0.00755955, 0.0103925 , ..., 0.00756305, 0.0053783 ,\n",
       "        0.00384207],\n",
       "       ...,\n",
       "       [0.00113868, 0.0018202 , 0.00281166, ..., 0.01352355, 0.01052738,\n",
       "        0.00746474],\n",
       "       [0.00570636, 0.0070079 , 0.00977192, ..., 0.00742315, 0.00530114,\n",
       "        0.00372361],\n",
       "       [0.00195246, 0.00288329, 0.00421467, ..., 0.00788271, 0.0058314 ,\n",
       "        0.00388094]], dtype=float32)"
      ]
     },
     "execution_count": 220,
     "metadata": {},
     "output_type": "execute_result"
    }
   ],
   "source": [
    "predictions"
   ]
  },
  {
   "cell_type": "code",
   "execution_count": 221,
   "metadata": {
    "scrolled": true
   },
   "outputs": [],
   "source": [
    "#plt.contourf(predictions)"
   ]
  },
  {
   "cell_type": "code",
   "execution_count": 222,
   "metadata": {},
   "outputs": [],
   "source": [
    "def convert_to_bin(bin_edges, probabilities):\n",
    "    bins_center = (bin_edges[1:]+bin_edges[:-1])/2.\n",
    "    bin_predicted = np.sum(bins_center*probabilities)\n",
    "    return bin_predicted"
   ]
  },
  {
   "cell_type": "code",
   "execution_count": 223,
   "metadata": {},
   "outputs": [
    {
     "name": "stdout",
     "output_type": "stream",
     "text": [
      "-0.027341796394188007\n",
      "-0.056063780614004965\n"
     ]
    }
   ],
   "source": [
    "idd = 4000\n",
    "print(convert_to_bin(discretizer.bin_edges_[0], predictions[idd,:]))\n",
    "print(Series[idd])"
   ]
  },
  {
   "cell_type": "code",
   "execution_count": 224,
   "metadata": {},
   "outputs": [],
   "source": [
    "bin_all = np.zeros((np.shape(predictions)[0],2))\n",
    "\n",
    "for iid in range(np.shape(predictions)[0]):\n",
    "    #print(iid)\n",
    "    bin_all[iid,0] = convert_to_bin(discretizer.bin_edges_[0], predictions[iid,:])\n",
    "    bin_all[iid,1] = ((discretizer.bin_edges_[0][1:]+discretizer.bin_edges_[0][:-1])/2)[int(y_train[iid])]"
   ]
  },
  {
   "cell_type": "code",
   "execution_count": 225,
   "metadata": {},
   "outputs": [
    {
     "data": {
      "text/plain": [
       "array([-4.99976000e-01, -4.49979738e-01, -3.99983476e-01, -3.49987215e-01,\n",
       "       -2.99990953e-01, -2.49994691e-01, -1.99998429e-01, -1.50002168e-01,\n",
       "       -1.00005906e-01, -5.00096442e-02, -1.33824757e-05,  4.99828793e-02,\n",
       "        9.99791410e-02,  1.49975403e-01,  1.99971665e-01,  2.49967926e-01,\n",
       "        2.99964188e-01,  3.49960450e-01,  3.99956712e-01,  4.49952973e-01,\n",
       "        4.99949235e-01])"
      ]
     },
     "execution_count": 225,
     "metadata": {},
     "output_type": "execute_result"
    }
   ],
   "source": [
    "discretizer.bin_edges_[0]"
   ]
  },
  {
   "cell_type": "code",
   "execution_count": 226,
   "metadata": {},
   "outputs": [
    {
     "data": {
      "text/plain": [
       "array([[ 7],\n",
       "       [11],\n",
       "       [10],\n",
       "       ...,\n",
       "       [13],\n",
       "       [ 5],\n",
       "       [ 9]])"
      ]
     },
     "execution_count": 226,
     "metadata": {},
     "output_type": "execute_result"
    }
   ],
   "source": [
    "y_train.astype(int)"
   ]
  },
  {
   "cell_type": "code",
   "execution_count": 227,
   "metadata": {},
   "outputs": [
    {
     "data": {
      "text/plain": [
       "array([[-0.01304684, -0.12500404],\n",
       "       [ 0.1111808 ,  0.07498101],\n",
       "       [-0.01608685,  0.02498475],\n",
       "       ...,\n",
       "       [ 0.04246141,  0.17497353],\n",
       "       [-0.01392165, -0.22499656],\n",
       "       [ 0.01208727, -0.02501151]])"
      ]
     },
     "execution_count": 227,
     "metadata": {},
     "output_type": "execute_result"
    }
   ],
   "source": [
    "bin_all"
   ]
  },
  {
   "cell_type": "code",
   "execution_count": 228,
   "metadata": {},
   "outputs": [
    {
     "data": {
      "text/plain": [
       "<matplotlib.lines.Line2D at 0x7f9e749cb048>"
      ]
     },
     "execution_count": 228,
     "metadata": {},
     "output_type": "execute_result"
    },
    {
     "data": {
      "image/png": "[encoded data removed]",
      "text/plain": [
       "<Figure size 432x288 with 1 Axes>"
      ]
     },
     "metadata": {},
     "output_type": "display_data"
    }
   ],
   "source": [
    "plt.hist2d(bin_all[:,0], bin_all[:,1])\n",
    "plt.axhline(y=0, color='w')\n",
    "plt.axvline(x=0, color='w')"
   ]
  },
  {
   "cell_type": "code",
   "execution_count": 229,
   "metadata": {},
   "outputs": [
    {
     "data": {
      "text/plain": [
       "array([400744.12509875, 275452.7236485 , 226037.9719256 , ...,\n",
       "       182966.58960042, 202184.7748735 , 399550.16939096])"
      ]
     },
     "execution_count": 229,
     "metadata": {},
     "output_type": "execute_result"
    }
   ],
   "source": [
    "trans_price = avmvalue.values[0:train_samples]/(1 - bin_all[:,0])\n",
    "trans_price"
   ]
  },
  {
   "cell_type": "code",
   "execution_count": 230,
   "metadata": {},
   "outputs": [],
   "source": [
    "#print(np.mean(trans_price-df_Transprice['Transprice'].values[0:train_samples]))\n",
    "#print(np.mean(avmvalue.values[0:train_samples]-df_Transprice['Transprice'].values[0:train_samples]))"
   ]
  },
  {
   "cell_type": "code",
   "execution_count": 231,
   "metadata": {},
   "outputs": [],
   "source": [
    "#print(np.mean((df_Transprice['Transprice'].values[0:train_samples]-trans_price)/(df_Transprice['Transprice'].values[0:train_samples])))\n",
    "#print(np.mean((df_Transprice['Transprice'].values[0:train_samples]-avmvalue.values[0:train_samples])/(df_Transprice['Transprice'].values[0:train_samples])))\n"
   ]
  },
  {
   "cell_type": "code",
   "execution_count": 232,
   "metadata": {},
   "outputs": [
    {
     "name": "stdout",
     "output_type": "stream",
     "text": [
      "0.0030824392329459956\n",
      "0.011348422588271602\n"
     ]
    }
   ],
   "source": [
    "print(np.mean((df_Transprice['Transprice'].values[0:train_samples]-trans_price)/(df_Transprice['Transprice'].values[0:train_samples])))\n",
    "print(np.mean((df_Transprice['Transprice'].values[0:train_samples]-avmvalue.values[0:train_samples])/(df_Transprice['Transprice'].values[0:train_samples])))\n",
    "#print(np.mean((df_Transprice['Transprice'].values[0:train_samples]-(avmvalue.values[0:train_samples]+trans_price)*0.5)/(df_Transprice['Transprice'].values[0:train_samples])))\n"
   ]
  },
  {
   "cell_type": "code",
   "execution_count": 233,
   "metadata": {},
   "outputs": [
    {
     "name": "stdout",
     "output_type": "stream",
     "text": [
      "0.1087701068883338\n",
      "0.1106225181187301\n"
     ]
    }
   ],
   "source": [
    "print(np.mean(np.abs(df_Transprice['Transprice'].values[0:train_samples]-trans_price)/(df_Transprice['Transprice'].values[0:train_samples])))\n",
    "print(np.mean(np.abs(df_Transprice['Transprice'].values[0:train_samples]-avmvalue.values[0:train_samples])/(df_Transprice['Transprice'].values[0:train_samples])))\n",
    "#print(np.mean(np.abs(df_Transprice['Transprice'].values[0:train_samples]-(avmvalue.values[0:train_samples]+trans_price)*0.5)/(df_Transprice['Transprice'].values[0:train_samples])))\n"
   ]
  },
  {
   "cell_type": "code",
   "execution_count": 234,
   "metadata": {},
   "outputs": [
    {
     "name": "stdout",
     "output_type": "stream",
     "text": [
      "35096.7416158688\n",
      "35486.31329106667\n"
     ]
    }
   ],
   "source": [
    "#print(np.mean(np.abs(trans_price-df_Transprice['Transprice'].values[0:train_samples])))\n",
    "#print(np.mean(np.abs(avmvalue.values[0:train_samples]-df_Transprice['Transprice'].values[0:train_samples])))"
   ]
  },
  {
   "cell_type": "code",
   "execution_count": null,
   "metadata": {},
   "outputs": [],
   "source": []
  },
  {
   "cell_type": "code",
   "execution_count": 235,
   "metadata": {},
   "outputs": [],
   "source": [
    "\n",
    "#coef*trans_price = trans_price - avmValue\n",
    "#coef*trans_price - trans_price = - avmValue\n",
    "#trans_price * (coef - 1) = - avmValue\n",
    "#trans_price = avmValue/ (1 - coef)"
   ]
  },
  {
   "cell_type": "code",
   "execution_count": 236,
   "metadata": {},
   "outputs": [],
   "source": [
    "#predictions = (predictions - predictions.min())\n",
    "#predictions = predictions/(predictions.max()) *2. -1"
   ]
  },
  {
   "cell_type": "code",
   "execution_count": null,
   "metadata": {},
   "outputs": [],
   "source": []
  },
  {
   "cell_type": "code",
   "execution_count": 237,
   "metadata": {},
   "outputs": [],
   "source": [
    "predictions_test = model_NN_Class.predict(X_test)"
   ]
  },
  {
   "cell_type": "code",
   "execution_count": 238,
   "metadata": {},
   "outputs": [],
   "source": [
    "bin_all_test = np.zeros((np.shape(predictions_test)[0],2))\n",
    "\n",
    "for iid in range(np.shape(predictions_test)[0]):\n",
    "    #print(iid)\n",
    "    bin_all_test[iid,0] = convert_to_bin(discretizer.bin_edges_[0], predictions_test[iid,:])\n",
    "    bin_all_test[iid,1] = ((discretizer.bin_edges_[0][1:]+discretizer.bin_edges_[0][:-1])/2)[int(y_test[iid])]"
   ]
  },
  {
   "cell_type": "code",
   "execution_count": 239,
   "metadata": {},
   "outputs": [
    {
     "data": {
      "text/plain": [
       "array([ 58835.36441503, 186788.37173823, 193642.3581288 , ...,\n",
       "       155729.57674239, 190806.97456223, 183953.98876485])"
      ]
     },
     "execution_count": 239,
     "metadata": {},
     "output_type": "execute_result"
    }
   ],
   "source": [
    "trans_price_test = avmvalue.values[train_samples:]/(1 - bin_all_test[:,0])\n",
    "trans_price_test"
   ]
  },
  {
   "cell_type": "code",
   "execution_count": 240,
   "metadata": {},
   "outputs": [
    {
     "data": {
      "text/plain": [
       "<matplotlib.lines.Line2D at 0x7f9e74919358>"
      ]
     },
     "execution_count": 240,
     "metadata": {},
     "output_type": "execute_result"
    },
    {
     "data": {
      "image/png": "[encoded data removed]",
      "text/plain": [
       "<Figure size 432x288 with 1 Axes>"
      ]
     },
     "metadata": {},
     "output_type": "display_data"
    }
   ],
   "source": [
    "plt.hist2d(bin_all_test[:,0], bin_all_test[:,1])\n",
    "plt.axhline(y=0, color='w')\n",
    "plt.axvline(x=0, color='w')"
   ]
  },
  {
   "cell_type": "code",
   "execution_count": 241,
   "metadata": {},
   "outputs": [
    {
     "name": "stdout",
     "output_type": "stream",
     "text": [
      "0.002045746285614439\n",
      "-0.0017844952380493182\n"
     ]
    }
   ],
   "source": [
    "print(np.mean((df_Transprice['Transprice'].values[train_samples:]-trans_price_test)/(df_Transprice['Transprice'].values[train_samples:])))\n",
    "print(np.mean((df_Transprice['Transprice'].values[train_samples:]-avmvalue.values[train_samples:])/(df_Transprice['Transprice'].values[train_samples:])))\n"
   ]
  },
  {
   "cell_type": "code",
   "execution_count": 242,
   "metadata": {},
   "outputs": [
    {
     "name": "stdout",
     "output_type": "stream",
     "text": [
      "0.11151238800730204\n",
      "0.11276813732029965\n"
     ]
    }
   ],
   "source": [
    "print(np.mean(np.abs(df_Transprice['Transprice'].values[train_samples:]-trans_price_test)/(df_Transprice['Transprice'].values[train_samples:])))\n",
    "print(np.mean(np.abs(df_Transprice['Transprice'].values[train_samples:]-avmvalue.values[train_samples:])/(df_Transprice['Transprice'].values[train_samples:])))\n"
   ]
  },
  {
   "cell_type": "code",
   "execution_count": 243,
   "metadata": {},
   "outputs": [
    {
     "data": {
      "text/plain": [
       "(234378,)"
      ]
     },
     "execution_count": 243,
     "metadata": {},
     "output_type": "execute_result"
    }
   ],
   "source": [
    "df_Transprice['Transprice'].values[train_samples:].shape"
   ]
  },
  {
   "cell_type": "code",
   "execution_count": 244,
   "metadata": {},
   "outputs": [
    {
     "data": {
      "text/plain": [
       "(234378,)"
      ]
     },
     "execution_count": 244,
     "metadata": {},
     "output_type": "execute_result"
    }
   ],
   "source": [
    "trans_price_test.shape"
   ]
  },
  {
   "cell_type": "code",
   "execution_count": null,
   "metadata": {},
   "outputs": [],
   "source": []
  },
  {
   "cell_type": "code",
   "execution_count": null,
   "metadata": {},
   "outputs": [],
   "source": []
  },
  {
   "cell_type": "code",
   "execution_count": null,
   "metadata": {},
   "outputs": [],
   "source": []
  },
  {
   "cell_type": "code",
   "execution_count": 172,
   "metadata": {},
   "outputs": [
    {
     "data": {
      "text/plain": [
       "[<matplotlib.lines.Line2D at 0x7f9e76bc4b38>]"
      ]
     },
     "execution_count": 172,
     "metadata": {},
     "output_type": "execute_result"
    },
    {
     "data": {
      "image/png": "[encoded data removed]",
      "text/plain": [
       "<Figure size 432x288 with 1 Axes>"
      ]
     },
     "metadata": {},
     "output_type": "display_data"
    }
   ],
   "source": [
    "plt.plot(predictor_array_transformed[:,0],predictor_array_transformed[:,-2],'o')"
   ]
  },
  {
   "cell_type": "code",
   "execution_count": null,
   "metadata": {},
   "outputs": [],
   "source": []
  },
  {
   "cell_type": "code",
   "execution_count": null,
   "metadata": {},
   "outputs": [],
   "source": []
  },
  {
   "cell_type": "code",
   "execution_count": null,
   "metadata": {},
   "outputs": [],
   "source": []
  },
  {
   "cell_type": "code",
   "execution_count": null,
   "metadata": {},
   "outputs": [],
   "source": []
  },
  {
   "cell_type": "code",
   "execution_count": 30,
   "metadata": {},
   "outputs": [],
   "source": [
    "def plot_loss(history):\n",
    "    plt.plot(history.history['loss'], label='loss')\n",
    "    plt.plot(history.history['val_loss'], label='val_loss')\n",
    "    plt.ylim([0, 10])\n",
    "    plt.xlabel('Epoch')\n",
    "    plt.ylabel('Error [MPG]')\n",
    "    plt.legend()\n",
    "    plt.grid(True)"
   ]
  },
  {
   "cell_type": "code",
   "execution_count": null,
   "metadata": {},
   "outputs": [],
   "source": []
  }
 ],
 "metadata": {
  "kernelspec": {
   "display_name": "Python 3",
   "language": "python",
   "name": "python3"
  },
  "language_info": {
   "codemirror_mode": {
    "name": "ipython",
    "version": 3
   },
   "file_extension": ".py",
   "mimetype": "text/x-python",
   "name": "python",
   "nbconvert_exporter": "python",
   "pygments_lexer": "ipython3",
   "version": "3.6.10"
  }
 },
 "nbformat": 4,
 "nbformat_minor": 4
}
