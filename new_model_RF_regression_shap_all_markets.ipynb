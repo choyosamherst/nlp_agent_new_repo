{
 "cells": [
  {
   "cell_type": "code",
   "execution_count": 1,
   "metadata": {},
   "outputs": [],
   "source": [
    "from sklearn.ensemble import RandomForestRegressor\n",
    "from sklearn.datasets import make_regression\n",
    "\n",
    "import pandas as pd\n",
    "import numpy as np\n",
    "import matplotlib.pyplot as plt\n",
    "\n",
    "\n",
    "from sklearn.datasets import make_classification\n",
    "from sklearn.model_selection import train_test_split\n",
    "\n",
    "from sklearn.ensemble import RandomForestClassifier\n",
    "\n",
    "from sklearn.preprocessing import MinMaxScaler\n"
   ]
  },
  {
   "cell_type": "code",
   "execution_count": 2,
   "metadata": {},
   "outputs": [],
   "source": [
    "import seaborn as sns\n",
    "sns.set_style(\"whitegrid\")"
   ]
  },
  {
   "cell_type": "code",
   "execution_count": 3,
   "metadata": {},
   "outputs": [],
   "source": [
    "state = 'AL'"
   ]
  },
  {
   "cell_type": "code",
   "execution_count": 4,
   "metadata": {},
   "outputs": [],
   "source": [
    "file_symptoms = 'comments/raw_comments/agent_comments_'+state+\\\n",
    "                        '_filtered_final_joined_selected_columns_use__min_01_df.fea'"
   ]
  },
  {
   "cell_type": "code",
   "execution_count": 5,
   "metadata": {},
   "outputs": [],
   "source": [
    "noun_sentence_df_final_joined_df_selected_columns_use_min = pd.\\\n",
    "    read_feather(file_symptoms)"
   ]
  },
  {
   "cell_type": "code",
   "execution_count": 6,
   "metadata": {},
   "outputs": [
    {
     "data": {
      "text/html": [
       "<div>\n",
       "<style scoped>\n",
       "    .dataframe tbody tr th:only-of-type {\n",
       "        vertical-align: middle;\n",
       "    }\n",
       "\n",
       "    .dataframe tbody tr th {\n",
       "        vertical-align: top;\n",
       "    }\n",
       "\n",
       "    .dataframe thead th {\n",
       "        text-align: right;\n",
       "    }\n",
       "</style>\n",
       "<table border=\"1\" class=\"dataframe\">\n",
       "  <thead>\n",
       "    <tr style=\"text-align: right;\">\n",
       "      <th></th>\n",
       "      <th>index</th>\n",
       "      <th>listingid</th>\n",
       "      <th>AVM_Error_List</th>\n",
       "      <th>Listing_Error_List</th>\n",
       "      <th>Transdate</th>\n",
       "      <th>Transprice</th>\n",
       "      <th>total_value</th>\n",
       "      <th>cj_living_area</th>\n",
       "      <th>effective_year_built</th>\n",
       "      <th>story</th>\n",
       "      <th>...</th>\n",
       "      <th>Listing_Error_Indicators_7</th>\n",
       "      <th>Listing_Error_Indicators_8</th>\n",
       "      <th>Listing_Error_Indicators_9</th>\n",
       "      <th>Listing_Error_Indicators_10</th>\n",
       "      <th>Listing_Error_Indicators_11</th>\n",
       "      <th>clean_publicremarks_nltkpolarity_0</th>\n",
       "      <th>clean_publicremarks_nltkpolarity_1</th>\n",
       "      <th>clean_publicremarks_nltkpolarity_2</th>\n",
       "      <th>clean_publicremarks_nltkpolarity_3</th>\n",
       "      <th>transaction_year</th>\n",
       "    </tr>\n",
       "  </thead>\n",
       "  <tbody>\n",
       "    <tr>\n",
       "      <th>0</th>\n",
       "      <td>8387</td>\n",
       "      <td>776</td>\n",
       "      <td>-0.553250</td>\n",
       "      <td>-0.120527</td>\n",
       "      <td>20171110</td>\n",
       "      <td>53100.0</td>\n",
       "      <td>73500.0</td>\n",
       "      <td>1014.0</td>\n",
       "      <td>1995.0</td>\n",
       "      <td>1.0</td>\n",
       "      <td>...</td>\n",
       "      <td>0.000000</td>\n",
       "      <td>0.015656</td>\n",
       "      <td>29492</td>\n",
       "      <td>20.449613</td>\n",
       "      <td>67.781093</td>\n",
       "      <td>0.7639</td>\n",
       "      <td>0.074</td>\n",
       "      <td>0.758</td>\n",
       "      <td>0.168</td>\n",
       "      <td>2017.0</td>\n",
       "    </tr>\n",
       "    <tr>\n",
       "      <th>1</th>\n",
       "      <td>383934</td>\n",
       "      <td>778</td>\n",
       "      <td>-0.510781</td>\n",
       "      <td>-0.043542</td>\n",
       "      <td>20171120</td>\n",
       "      <td>487762.0</td>\n",
       "      <td>460600.0</td>\n",
       "      <td>3593.0</td>\n",
       "      <td>1991.0</td>\n",
       "      <td>1.0</td>\n",
       "      <td>...</td>\n",
       "      <td>0.000000</td>\n",
       "      <td>0.019864</td>\n",
       "      <td>7049</td>\n",
       "      <td>22.215917</td>\n",
       "      <td>67.215208</td>\n",
       "      <td>0.9806</td>\n",
       "      <td>0.015</td>\n",
       "      <td>0.765</td>\n",
       "      <td>0.220</td>\n",
       "      <td>2017.0</td>\n",
       "    </tr>\n",
       "    <tr>\n",
       "      <th>2</th>\n",
       "      <td>1182772</td>\n",
       "      <td>781</td>\n",
       "      <td>-0.043611</td>\n",
       "      <td>-0.026712</td>\n",
       "      <td>20171219</td>\n",
       "      <td>146000.0</td>\n",
       "      <td>153900.0</td>\n",
       "      <td>1597.0</td>\n",
       "      <td>2005.0</td>\n",
       "      <td>1.0</td>\n",
       "      <td>...</td>\n",
       "      <td>0.000000</td>\n",
       "      <td>0.003364</td>\n",
       "      <td>69</td>\n",
       "      <td>18.840580</td>\n",
       "      <td>63.768116</td>\n",
       "      <td>0.9557</td>\n",
       "      <td>0.000</td>\n",
       "      <td>0.758</td>\n",
       "      <td>0.242</td>\n",
       "      <td>2017.0</td>\n",
       "    </tr>\n",
       "    <tr>\n",
       "      <th>3</th>\n",
       "      <td>810301</td>\n",
       "      <td>783</td>\n",
       "      <td>0.434195</td>\n",
       "      <td>-0.018210</td>\n",
       "      <td>20171222</td>\n",
       "      <td>324000.0</td>\n",
       "      <td>179300.0</td>\n",
       "      <td>1608.0</td>\n",
       "      <td>1991.0</td>\n",
       "      <td>1.0</td>\n",
       "      <td>...</td>\n",
       "      <td>0.000424</td>\n",
       "      <td>0.025517</td>\n",
       "      <td>1026</td>\n",
       "      <td>27.777778</td>\n",
       "      <td>59.259259</td>\n",
       "      <td>0.9063</td>\n",
       "      <td>0.041</td>\n",
       "      <td>0.768</td>\n",
       "      <td>0.191</td>\n",
       "      <td>2017.0</td>\n",
       "    </tr>\n",
       "    <tr>\n",
       "      <th>4</th>\n",
       "      <td>692995</td>\n",
       "      <td>932</td>\n",
       "      <td>0.129498</td>\n",
       "      <td>0.000236</td>\n",
       "      <td>20171229</td>\n",
       "      <td>84920.0</td>\n",
       "      <td>76900.0</td>\n",
       "      <td>1298.0</td>\n",
       "      <td>1989.0</td>\n",
       "      <td>1.0</td>\n",
       "      <td>...</td>\n",
       "      <td>0.000397</td>\n",
       "      <td>0.022533</td>\n",
       "      <td>1760</td>\n",
       "      <td>28.238636</td>\n",
       "      <td>59.034091</td>\n",
       "      <td>0.4199</td>\n",
       "      <td>0.000</td>\n",
       "      <td>0.642</td>\n",
       "      <td>0.358</td>\n",
       "      <td>2017.0</td>\n",
       "    </tr>\n",
       "    <tr>\n",
       "      <th>...</th>\n",
       "      <td>...</td>\n",
       "      <td>...</td>\n",
       "      <td>...</td>\n",
       "      <td>...</td>\n",
       "      <td>...</td>\n",
       "      <td>...</td>\n",
       "      <td>...</td>\n",
       "      <td>...</td>\n",
       "      <td>...</td>\n",
       "      <td>...</td>\n",
       "      <td>...</td>\n",
       "      <td>...</td>\n",
       "      <td>...</td>\n",
       "      <td>...</td>\n",
       "      <td>...</td>\n",
       "      <td>...</td>\n",
       "      <td>...</td>\n",
       "      <td>...</td>\n",
       "      <td>...</td>\n",
       "      <td>...</td>\n",
       "      <td>...</td>\n",
       "    </tr>\n",
       "    <tr>\n",
       "      <th>206192</th>\n",
       "      <td>1079004</td>\n",
       "      <td>251475847</td>\n",
       "      <td>0.038527</td>\n",
       "      <td>0.000000</td>\n",
       "      <td>20210624</td>\n",
       "      <td>250000.0</td>\n",
       "      <td>201700.0</td>\n",
       "      <td>1830.0</td>\n",
       "      <td>2016.0</td>\n",
       "      <td>1.0</td>\n",
       "      <td>...</td>\n",
       "      <td>0.000311</td>\n",
       "      <td>0.007706</td>\n",
       "      <td>199</td>\n",
       "      <td>26.130653</td>\n",
       "      <td>24.120603</td>\n",
       "      <td>0.0000</td>\n",
       "      <td>0.000</td>\n",
       "      <td>1.000</td>\n",
       "      <td>0.000</td>\n",
       "      <td>2021.0</td>\n",
       "    </tr>\n",
       "    <tr>\n",
       "      <th>206193</th>\n",
       "      <td>810118</td>\n",
       "      <td>251507071</td>\n",
       "      <td>-0.158107</td>\n",
       "      <td>0.000000</td>\n",
       "      <td>20210311</td>\n",
       "      <td>815000.0</td>\n",
       "      <td>820400.0</td>\n",
       "      <td>3422.0</td>\n",
       "      <td>2017.0</td>\n",
       "      <td>1.0</td>\n",
       "      <td>...</td>\n",
       "      <td>0.000424</td>\n",
       "      <td>0.025517</td>\n",
       "      <td>1026</td>\n",
       "      <td>27.777778</td>\n",
       "      <td>59.259259</td>\n",
       "      <td>0.9134</td>\n",
       "      <td>0.000</td>\n",
       "      <td>0.840</td>\n",
       "      <td>0.160</td>\n",
       "      <td>2021.0</td>\n",
       "    </tr>\n",
       "    <tr>\n",
       "      <th>206194</th>\n",
       "      <td>977873</td>\n",
       "      <td>251592370</td>\n",
       "      <td>0.065219</td>\n",
       "      <td>0.000000</td>\n",
       "      <td>20210609</td>\n",
       "      <td>165000.0</td>\n",
       "      <td>139540.0</td>\n",
       "      <td>1294.0</td>\n",
       "      <td>2006.0</td>\n",
       "      <td>1.0</td>\n",
       "      <td>...</td>\n",
       "      <td>0.000000</td>\n",
       "      <td>0.019958</td>\n",
       "      <td>406</td>\n",
       "      <td>22.660099</td>\n",
       "      <td>65.270936</td>\n",
       "      <td>0.9150</td>\n",
       "      <td>0.000</td>\n",
       "      <td>0.556</td>\n",
       "      <td>0.444</td>\n",
       "      <td>2021.0</td>\n",
       "    </tr>\n",
       "    <tr>\n",
       "      <th>206195</th>\n",
       "      <td>1026368</td>\n",
       "      <td>251601117</td>\n",
       "      <td>0.047014</td>\n",
       "      <td>0.011236</td>\n",
       "      <td>20210628</td>\n",
       "      <td>445000.0</td>\n",
       "      <td>389900.0</td>\n",
       "      <td>2790.0</td>\n",
       "      <td>2004.0</td>\n",
       "      <td>1.0</td>\n",
       "      <td>...</td>\n",
       "      <td>0.000000</td>\n",
       "      <td>0.012174</td>\n",
       "      <td>287</td>\n",
       "      <td>18.466899</td>\n",
       "      <td>74.564460</td>\n",
       "      <td>0.9892</td>\n",
       "      <td>0.000</td>\n",
       "      <td>0.749</td>\n",
       "      <td>0.251</td>\n",
       "      <td>2021.0</td>\n",
       "    </tr>\n",
       "    <tr>\n",
       "      <th>206196</th>\n",
       "      <td>169438</td>\n",
       "      <td>251728087</td>\n",
       "      <td>-0.199578</td>\n",
       "      <td>-0.126909</td>\n",
       "      <td>20210629</td>\n",
       "      <td>189900.0</td>\n",
       "      <td>177400.0</td>\n",
       "      <td>1861.0</td>\n",
       "      <td>2008.0</td>\n",
       "      <td>1.0</td>\n",
       "      <td>...</td>\n",
       "      <td>0.000000</td>\n",
       "      <td>0.016290</td>\n",
       "      <td>16704</td>\n",
       "      <td>20.162835</td>\n",
       "      <td>67.720307</td>\n",
       "      <td>0.9118</td>\n",
       "      <td>0.000</td>\n",
       "      <td>0.789</td>\n",
       "      <td>0.211</td>\n",
       "      <td>2021.0</td>\n",
       "    </tr>\n",
       "  </tbody>\n",
       "</table>\n",
       "<p>206197 rows × 44 columns</p>\n",
       "</div>"
      ],
      "text/plain": [
       "          index  listingid  AVM_Error_List  Listing_Error_List  Transdate  \\\n",
       "0          8387        776       -0.553250           -0.120527   20171110   \n",
       "1        383934        778       -0.510781           -0.043542   20171120   \n",
       "2       1182772        781       -0.043611           -0.026712   20171219   \n",
       "3        810301        783        0.434195           -0.018210   20171222   \n",
       "4        692995        932        0.129498            0.000236   20171229   \n",
       "...         ...        ...             ...                 ...        ...   \n",
       "206192  1079004  251475847        0.038527            0.000000   20210624   \n",
       "206193   810118  251507071       -0.158107            0.000000   20210311   \n",
       "206194   977873  251592370        0.065219            0.000000   20210609   \n",
       "206195  1026368  251601117        0.047014            0.011236   20210628   \n",
       "206196   169438  251728087       -0.199578           -0.126909   20210629   \n",
       "\n",
       "        Transprice  total_value  cj_living_area  effective_year_built  story  \\\n",
       "0          53100.0      73500.0          1014.0                1995.0    1.0   \n",
       "1         487762.0     460600.0          3593.0                1991.0    1.0   \n",
       "2         146000.0     153900.0          1597.0                2005.0    1.0   \n",
       "3         324000.0     179300.0          1608.0                1991.0    1.0   \n",
       "4          84920.0      76900.0          1298.0                1989.0    1.0   \n",
       "...            ...          ...             ...                   ...    ...   \n",
       "206192    250000.0     201700.0          1830.0                2016.0    1.0   \n",
       "206193    815000.0     820400.0          3422.0                2017.0    1.0   \n",
       "206194    165000.0     139540.0          1294.0                2006.0    1.0   \n",
       "206195    445000.0     389900.0          2790.0                2004.0    1.0   \n",
       "206196    189900.0     177400.0          1861.0                2008.0    1.0   \n",
       "\n",
       "        ...  Listing_Error_Indicators_7  Listing_Error_Indicators_8  \\\n",
       "0       ...                    0.000000                    0.015656   \n",
       "1       ...                    0.000000                    0.019864   \n",
       "2       ...                    0.000000                    0.003364   \n",
       "3       ...                    0.000424                    0.025517   \n",
       "4       ...                    0.000397                    0.022533   \n",
       "...     ...                         ...                         ...   \n",
       "206192  ...                    0.000311                    0.007706   \n",
       "206193  ...                    0.000424                    0.025517   \n",
       "206194  ...                    0.000000                    0.019958   \n",
       "206195  ...                    0.000000                    0.012174   \n",
       "206196  ...                    0.000000                    0.016290   \n",
       "\n",
       "        Listing_Error_Indicators_9  Listing_Error_Indicators_10  \\\n",
       "0                            29492                    20.449613   \n",
       "1                             7049                    22.215917   \n",
       "2                               69                    18.840580   \n",
       "3                             1026                    27.777778   \n",
       "4                             1760                    28.238636   \n",
       "...                            ...                          ...   \n",
       "206192                         199                    26.130653   \n",
       "206193                        1026                    27.777778   \n",
       "206194                         406                    22.660099   \n",
       "206195                         287                    18.466899   \n",
       "206196                       16704                    20.162835   \n",
       "\n",
       "        Listing_Error_Indicators_11  clean_publicremarks_nltkpolarity_0  \\\n",
       "0                         67.781093                              0.7639   \n",
       "1                         67.215208                              0.9806   \n",
       "2                         63.768116                              0.9557   \n",
       "3                         59.259259                              0.9063   \n",
       "4                         59.034091                              0.4199   \n",
       "...                             ...                                 ...   \n",
       "206192                    24.120603                              0.0000   \n",
       "206193                    59.259259                              0.9134   \n",
       "206194                    65.270936                              0.9150   \n",
       "206195                    74.564460                              0.9892   \n",
       "206196                    67.720307                              0.9118   \n",
       "\n",
       "        clean_publicremarks_nltkpolarity_1  \\\n",
       "0                                    0.074   \n",
       "1                                    0.015   \n",
       "2                                    0.000   \n",
       "3                                    0.041   \n",
       "4                                    0.000   \n",
       "...                                    ...   \n",
       "206192                               0.000   \n",
       "206193                               0.000   \n",
       "206194                               0.000   \n",
       "206195                               0.000   \n",
       "206196                               0.000   \n",
       "\n",
       "        clean_publicremarks_nltkpolarity_2  \\\n",
       "0                                    0.758   \n",
       "1                                    0.765   \n",
       "2                                    0.758   \n",
       "3                                    0.768   \n",
       "4                                    0.642   \n",
       "...                                    ...   \n",
       "206192                               1.000   \n",
       "206193                               0.840   \n",
       "206194                               0.556   \n",
       "206195                               0.749   \n",
       "206196                               0.789   \n",
       "\n",
       "        clean_publicremarks_nltkpolarity_3  transaction_year  \n",
       "0                                    0.168            2017.0  \n",
       "1                                    0.220            2017.0  \n",
       "2                                    0.242            2017.0  \n",
       "3                                    0.191            2017.0  \n",
       "4                                    0.358            2017.0  \n",
       "...                                    ...               ...  \n",
       "206192                               0.000            2021.0  \n",
       "206193                               0.160            2021.0  \n",
       "206194                               0.444            2021.0  \n",
       "206195                               0.251            2021.0  \n",
       "206196                               0.211            2021.0  \n",
       "\n",
       "[206197 rows x 44 columns]"
      ]
     },
     "execution_count": 6,
     "metadata": {},
     "output_type": "execute_result"
    }
   ],
   "source": [
    "noun_sentence_df_final_joined_df_selected_columns_use_min"
   ]
  },
  {
   "cell_type": "code",
   "execution_count": 7,
   "metadata": {},
   "outputs": [],
   "source": [
    "noun_sentence_df_final_joined_df_selected_columns_use_min = noun_sentence_df_final_joined_df_selected_columns_use_min.dropna()"
   ]
  },
  {
   "cell_type": "code",
   "execution_count": 14,
   "metadata": {},
   "outputs": [
    {
     "data": {
      "text/html": [
       "<div>\n",
       "<style scoped>\n",
       "    .dataframe tbody tr th:only-of-type {\n",
       "        vertical-align: middle;\n",
       "    }\n",
       "\n",
       "    .dataframe tbody tr th {\n",
       "        vertical-align: top;\n",
       "    }\n",
       "\n",
       "    .dataframe thead th {\n",
       "        text-align: right;\n",
       "    }\n",
       "</style>\n",
       "<table border=\"1\" class=\"dataframe\">\n",
       "  <thead>\n",
       "    <tr style=\"text-align: right;\">\n",
       "      <th></th>\n",
       "      <th>index</th>\n",
       "      <th>listingid</th>\n",
       "      <th>AVM_Error_List</th>\n",
       "      <th>Listing_Error_List</th>\n",
       "      <th>Transdate</th>\n",
       "      <th>Transprice</th>\n",
       "      <th>total_value</th>\n",
       "      <th>cj_living_area</th>\n",
       "      <th>effective_year_built</th>\n",
       "      <th>story</th>\n",
       "      <th>...</th>\n",
       "      <th>Listing_Error_Indicators_7</th>\n",
       "      <th>Listing_Error_Indicators_8</th>\n",
       "      <th>Listing_Error_Indicators_9</th>\n",
       "      <th>Listing_Error_Indicators_10</th>\n",
       "      <th>Listing_Error_Indicators_11</th>\n",
       "      <th>clean_publicremarks_nltkpolarity_0</th>\n",
       "      <th>clean_publicremarks_nltkpolarity_1</th>\n",
       "      <th>clean_publicremarks_nltkpolarity_2</th>\n",
       "      <th>clean_publicremarks_nltkpolarity_3</th>\n",
       "      <th>transaction_year</th>\n",
       "    </tr>\n",
       "  </thead>\n",
       "  <tbody>\n",
       "    <tr>\n",
       "      <th>0</th>\n",
       "      <td>8387</td>\n",
       "      <td>776</td>\n",
       "      <td>-0.553250</td>\n",
       "      <td>-0.120527</td>\n",
       "      <td>20171110</td>\n",
       "      <td>53100.0</td>\n",
       "      <td>73500.0</td>\n",
       "      <td>1014.0</td>\n",
       "      <td>1995.0</td>\n",
       "      <td>1.0</td>\n",
       "      <td>...</td>\n",
       "      <td>0.000000</td>\n",
       "      <td>0.015656</td>\n",
       "      <td>29492</td>\n",
       "      <td>20.449613</td>\n",
       "      <td>67.781093</td>\n",
       "      <td>0.7639</td>\n",
       "      <td>0.074</td>\n",
       "      <td>0.758</td>\n",
       "      <td>0.168</td>\n",
       "      <td>2017.0</td>\n",
       "    </tr>\n",
       "    <tr>\n",
       "      <th>1</th>\n",
       "      <td>383934</td>\n",
       "      <td>778</td>\n",
       "      <td>-0.510781</td>\n",
       "      <td>-0.043542</td>\n",
       "      <td>20171120</td>\n",
       "      <td>487762.0</td>\n",
       "      <td>460600.0</td>\n",
       "      <td>3593.0</td>\n",
       "      <td>1991.0</td>\n",
       "      <td>1.0</td>\n",
       "      <td>...</td>\n",
       "      <td>0.000000</td>\n",
       "      <td>0.019864</td>\n",
       "      <td>7049</td>\n",
       "      <td>22.215917</td>\n",
       "      <td>67.215208</td>\n",
       "      <td>0.9806</td>\n",
       "      <td>0.015</td>\n",
       "      <td>0.765</td>\n",
       "      <td>0.220</td>\n",
       "      <td>2017.0</td>\n",
       "    </tr>\n",
       "    <tr>\n",
       "      <th>3</th>\n",
       "      <td>810301</td>\n",
       "      <td>783</td>\n",
       "      <td>0.434195</td>\n",
       "      <td>-0.018210</td>\n",
       "      <td>20171222</td>\n",
       "      <td>324000.0</td>\n",
       "      <td>179300.0</td>\n",
       "      <td>1608.0</td>\n",
       "      <td>1991.0</td>\n",
       "      <td>1.0</td>\n",
       "      <td>...</td>\n",
       "      <td>0.000424</td>\n",
       "      <td>0.025517</td>\n",
       "      <td>1026</td>\n",
       "      <td>27.777778</td>\n",
       "      <td>59.259259</td>\n",
       "      <td>0.9063</td>\n",
       "      <td>0.041</td>\n",
       "      <td>0.768</td>\n",
       "      <td>0.191</td>\n",
       "      <td>2017.0</td>\n",
       "    </tr>\n",
       "    <tr>\n",
       "      <th>4</th>\n",
       "      <td>692995</td>\n",
       "      <td>932</td>\n",
       "      <td>0.129498</td>\n",
       "      <td>0.000236</td>\n",
       "      <td>20171229</td>\n",
       "      <td>84920.0</td>\n",
       "      <td>76900.0</td>\n",
       "      <td>1298.0</td>\n",
       "      <td>1989.0</td>\n",
       "      <td>1.0</td>\n",
       "      <td>...</td>\n",
       "      <td>0.000397</td>\n",
       "      <td>0.022533</td>\n",
       "      <td>1760</td>\n",
       "      <td>28.238636</td>\n",
       "      <td>59.034091</td>\n",
       "      <td>0.4199</td>\n",
       "      <td>0.000</td>\n",
       "      <td>0.642</td>\n",
       "      <td>0.358</td>\n",
       "      <td>2017.0</td>\n",
       "    </tr>\n",
       "    <tr>\n",
       "      <th>6</th>\n",
       "      <td>772707</td>\n",
       "      <td>2468</td>\n",
       "      <td>0.089410</td>\n",
       "      <td>0.016407</td>\n",
       "      <td>20180105</td>\n",
       "      <td>121900.0</td>\n",
       "      <td>107200.0</td>\n",
       "      <td>1600.0</td>\n",
       "      <td>1995.0</td>\n",
       "      <td>1.0</td>\n",
       "      <td>...</td>\n",
       "      <td>0.000000</td>\n",
       "      <td>0.021121</td>\n",
       "      <td>1190</td>\n",
       "      <td>21.596639</td>\n",
       "      <td>66.386555</td>\n",
       "      <td>0.4199</td>\n",
       "      <td>0.000</td>\n",
       "      <td>0.917</td>\n",
       "      <td>0.083</td>\n",
       "      <td>2018.0</td>\n",
       "    </tr>\n",
       "    <tr>\n",
       "      <th>...</th>\n",
       "      <td>...</td>\n",
       "      <td>...</td>\n",
       "      <td>...</td>\n",
       "      <td>...</td>\n",
       "      <td>...</td>\n",
       "      <td>...</td>\n",
       "      <td>...</td>\n",
       "      <td>...</td>\n",
       "      <td>...</td>\n",
       "      <td>...</td>\n",
       "      <td>...</td>\n",
       "      <td>...</td>\n",
       "      <td>...</td>\n",
       "      <td>...</td>\n",
       "      <td>...</td>\n",
       "      <td>...</td>\n",
       "      <td>...</td>\n",
       "      <td>...</td>\n",
       "      <td>...</td>\n",
       "      <td>...</td>\n",
       "      <td>...</td>\n",
       "    </tr>\n",
       "    <tr>\n",
       "      <th>206191</th>\n",
       "      <td>687375</td>\n",
       "      <td>251455689</td>\n",
       "      <td>0.027551</td>\n",
       "      <td>0.000000</td>\n",
       "      <td>20210625</td>\n",
       "      <td>205000.0</td>\n",
       "      <td>171600.0</td>\n",
       "      <td>1579.0</td>\n",
       "      <td>2002.0</td>\n",
       "      <td>1.0</td>\n",
       "      <td>...</td>\n",
       "      <td>-0.002118</td>\n",
       "      <td>0.008104</td>\n",
       "      <td>1798</td>\n",
       "      <td>14.460512</td>\n",
       "      <td>75.973304</td>\n",
       "      <td>0.5267</td>\n",
       "      <td>0.000</td>\n",
       "      <td>0.923</td>\n",
       "      <td>0.077</td>\n",
       "      <td>2021.0</td>\n",
       "    </tr>\n",
       "    <tr>\n",
       "      <th>206192</th>\n",
       "      <td>1079004</td>\n",
       "      <td>251475847</td>\n",
       "      <td>0.038527</td>\n",
       "      <td>0.000000</td>\n",
       "      <td>20210624</td>\n",
       "      <td>250000.0</td>\n",
       "      <td>201700.0</td>\n",
       "      <td>1830.0</td>\n",
       "      <td>2016.0</td>\n",
       "      <td>1.0</td>\n",
       "      <td>...</td>\n",
       "      <td>0.000311</td>\n",
       "      <td>0.007706</td>\n",
       "      <td>199</td>\n",
       "      <td>26.130653</td>\n",
       "      <td>24.120603</td>\n",
       "      <td>0.0000</td>\n",
       "      <td>0.000</td>\n",
       "      <td>1.000</td>\n",
       "      <td>0.000</td>\n",
       "      <td>2021.0</td>\n",
       "    </tr>\n",
       "    <tr>\n",
       "      <th>206193</th>\n",
       "      <td>810118</td>\n",
       "      <td>251507071</td>\n",
       "      <td>-0.158107</td>\n",
       "      <td>0.000000</td>\n",
       "      <td>20210311</td>\n",
       "      <td>815000.0</td>\n",
       "      <td>820400.0</td>\n",
       "      <td>3422.0</td>\n",
       "      <td>2017.0</td>\n",
       "      <td>1.0</td>\n",
       "      <td>...</td>\n",
       "      <td>0.000424</td>\n",
       "      <td>0.025517</td>\n",
       "      <td>1026</td>\n",
       "      <td>27.777778</td>\n",
       "      <td>59.259259</td>\n",
       "      <td>0.9134</td>\n",
       "      <td>0.000</td>\n",
       "      <td>0.840</td>\n",
       "      <td>0.160</td>\n",
       "      <td>2021.0</td>\n",
       "    </tr>\n",
       "    <tr>\n",
       "      <th>206195</th>\n",
       "      <td>1026368</td>\n",
       "      <td>251601117</td>\n",
       "      <td>0.047014</td>\n",
       "      <td>0.011236</td>\n",
       "      <td>20210628</td>\n",
       "      <td>445000.0</td>\n",
       "      <td>389900.0</td>\n",
       "      <td>2790.0</td>\n",
       "      <td>2004.0</td>\n",
       "      <td>1.0</td>\n",
       "      <td>...</td>\n",
       "      <td>0.000000</td>\n",
       "      <td>0.012174</td>\n",
       "      <td>287</td>\n",
       "      <td>18.466899</td>\n",
       "      <td>74.564460</td>\n",
       "      <td>0.9892</td>\n",
       "      <td>0.000</td>\n",
       "      <td>0.749</td>\n",
       "      <td>0.251</td>\n",
       "      <td>2021.0</td>\n",
       "    </tr>\n",
       "    <tr>\n",
       "      <th>206196</th>\n",
       "      <td>169438</td>\n",
       "      <td>251728087</td>\n",
       "      <td>-0.199578</td>\n",
       "      <td>-0.126909</td>\n",
       "      <td>20210629</td>\n",
       "      <td>189900.0</td>\n",
       "      <td>177400.0</td>\n",
       "      <td>1861.0</td>\n",
       "      <td>2008.0</td>\n",
       "      <td>1.0</td>\n",
       "      <td>...</td>\n",
       "      <td>0.000000</td>\n",
       "      <td>0.016290</td>\n",
       "      <td>16704</td>\n",
       "      <td>20.162835</td>\n",
       "      <td>67.720307</td>\n",
       "      <td>0.9118</td>\n",
       "      <td>0.000</td>\n",
       "      <td>0.789</td>\n",
       "      <td>0.211</td>\n",
       "      <td>2021.0</td>\n",
       "    </tr>\n",
       "  </tbody>\n",
       "</table>\n",
       "<p>120236 rows × 44 columns</p>\n",
       "</div>"
      ],
      "text/plain": [
       "          index  listingid  AVM_Error_List  Listing_Error_List  Transdate  \\\n",
       "0          8387        776       -0.553250           -0.120527   20171110   \n",
       "1        383934        778       -0.510781           -0.043542   20171120   \n",
       "3        810301        783        0.434195           -0.018210   20171222   \n",
       "4        692995        932        0.129498            0.000236   20171229   \n",
       "6        772707       2468        0.089410            0.016407   20180105   \n",
       "...         ...        ...             ...                 ...        ...   \n",
       "206191   687375  251455689        0.027551            0.000000   20210625   \n",
       "206192  1079004  251475847        0.038527            0.000000   20210624   \n",
       "206193   810118  251507071       -0.158107            0.000000   20210311   \n",
       "206195  1026368  251601117        0.047014            0.011236   20210628   \n",
       "206196   169438  251728087       -0.199578           -0.126909   20210629   \n",
       "\n",
       "        Transprice  total_value  cj_living_area  effective_year_built  story  \\\n",
       "0          53100.0      73500.0          1014.0                1995.0    1.0   \n",
       "1         487762.0     460600.0          3593.0                1991.0    1.0   \n",
       "3         324000.0     179300.0          1608.0                1991.0    1.0   \n",
       "4          84920.0      76900.0          1298.0                1989.0    1.0   \n",
       "6         121900.0     107200.0          1600.0                1995.0    1.0   \n",
       "...            ...          ...             ...                   ...    ...   \n",
       "206191    205000.0     171600.0          1579.0                2002.0    1.0   \n",
       "206192    250000.0     201700.0          1830.0                2016.0    1.0   \n",
       "206193    815000.0     820400.0          3422.0                2017.0    1.0   \n",
       "206195    445000.0     389900.0          2790.0                2004.0    1.0   \n",
       "206196    189900.0     177400.0          1861.0                2008.0    1.0   \n",
       "\n",
       "        ...  Listing_Error_Indicators_7  Listing_Error_Indicators_8  \\\n",
       "0       ...                    0.000000                    0.015656   \n",
       "1       ...                    0.000000                    0.019864   \n",
       "3       ...                    0.000424                    0.025517   \n",
       "4       ...                    0.000397                    0.022533   \n",
       "6       ...                    0.000000                    0.021121   \n",
       "...     ...                         ...                         ...   \n",
       "206191  ...                   -0.002118                    0.008104   \n",
       "206192  ...                    0.000311                    0.007706   \n",
       "206193  ...                    0.000424                    0.025517   \n",
       "206195  ...                    0.000000                    0.012174   \n",
       "206196  ...                    0.000000                    0.016290   \n",
       "\n",
       "        Listing_Error_Indicators_9  Listing_Error_Indicators_10  \\\n",
       "0                            29492                    20.449613   \n",
       "1                             7049                    22.215917   \n",
       "3                             1026                    27.777778   \n",
       "4                             1760                    28.238636   \n",
       "6                             1190                    21.596639   \n",
       "...                            ...                          ...   \n",
       "206191                        1798                    14.460512   \n",
       "206192                         199                    26.130653   \n",
       "206193                        1026                    27.777778   \n",
       "206195                         287                    18.466899   \n",
       "206196                       16704                    20.162835   \n",
       "\n",
       "        Listing_Error_Indicators_11  clean_publicremarks_nltkpolarity_0  \\\n",
       "0                         67.781093                              0.7639   \n",
       "1                         67.215208                              0.9806   \n",
       "3                         59.259259                              0.9063   \n",
       "4                         59.034091                              0.4199   \n",
       "6                         66.386555                              0.4199   \n",
       "...                             ...                                 ...   \n",
       "206191                    75.973304                              0.5267   \n",
       "206192                    24.120603                              0.0000   \n",
       "206193                    59.259259                              0.9134   \n",
       "206195                    74.564460                              0.9892   \n",
       "206196                    67.720307                              0.9118   \n",
       "\n",
       "        clean_publicremarks_nltkpolarity_1  \\\n",
       "0                                    0.074   \n",
       "1                                    0.015   \n",
       "3                                    0.041   \n",
       "4                                    0.000   \n",
       "6                                    0.000   \n",
       "...                                    ...   \n",
       "206191                               0.000   \n",
       "206192                               0.000   \n",
       "206193                               0.000   \n",
       "206195                               0.000   \n",
       "206196                               0.000   \n",
       "\n",
       "        clean_publicremarks_nltkpolarity_2  \\\n",
       "0                                    0.758   \n",
       "1                                    0.765   \n",
       "3                                    0.768   \n",
       "4                                    0.642   \n",
       "6                                    0.917   \n",
       "...                                    ...   \n",
       "206191                               0.923   \n",
       "206192                               1.000   \n",
       "206193                               0.840   \n",
       "206195                               0.749   \n",
       "206196                               0.789   \n",
       "\n",
       "        clean_publicremarks_nltkpolarity_3  transaction_year  \n",
       "0                                    0.168            2017.0  \n",
       "1                                    0.220            2017.0  \n",
       "3                                    0.191            2017.0  \n",
       "4                                    0.358            2017.0  \n",
       "6                                    0.083            2018.0  \n",
       "...                                    ...               ...  \n",
       "206191                               0.077            2021.0  \n",
       "206192                               0.000            2021.0  \n",
       "206193                               0.160            2021.0  \n",
       "206195                               0.251            2021.0  \n",
       "206196                               0.211            2021.0  \n",
       "\n",
       "[120236 rows x 44 columns]"
      ]
     },
     "execution_count": 14,
     "metadata": {},
     "output_type": "execute_result"
    }
   ],
   "source": [
    "noun_sentence_df_final_joined_df_selected_columns_use_min"
   ]
  },
  {
   "cell_type": "code",
   "execution_count": 8,
   "metadata": {},
   "outputs": [
    {
     "data": {
      "text/plain": [
       "Index(['index', 'listingid', 'AVM_Error_List', 'Listing_Error_List',\n",
       "       'Transdate', 'Transprice', 'total_value', 'cj_living_area',\n",
       "       'effective_year_built', 'story', 'ListingPrice', 'avmValue', 'avmerror',\n",
       "       'bedrooms', 'AVM_Error_Indicators_0', 'AVM_Error_Indicators_1',\n",
       "       'AVM_Error_Indicators_2', 'AVM_Error_Indicators_3',\n",
       "       'AVM_Error_Indicators_4', 'AVM_Error_Indicators_5',\n",
       "       'AVM_Error_Indicators_6', 'AVM_Error_Indicators_7',\n",
       "       'AVM_Error_Indicators_8', 'AVM_Error_Indicators_9',\n",
       "       'AVM_Error_Indicators_10', 'AVM_Error_Indicators_11',\n",
       "       'AVM_Error_Indicators_scale', 'Listing_Error_Indicators_0',\n",
       "       'Listing_Error_Indicators_1', 'Listing_Error_Indicators_2',\n",
       "       'Listing_Error_Indicators_3', 'Listing_Error_Indicators_4',\n",
       "       'Listing_Error_Indicators_5', 'Listing_Error_Indicators_6',\n",
       "       'Listing_Error_Indicators_7', 'Listing_Error_Indicators_8',\n",
       "       'Listing_Error_Indicators_9', 'Listing_Error_Indicators_10',\n",
       "       'Listing_Error_Indicators_11', 'clean_publicremarks_nltkpolarity_0',\n",
       "       'clean_publicremarks_nltkpolarity_1',\n",
       "       'clean_publicremarks_nltkpolarity_2',\n",
       "       'clean_publicremarks_nltkpolarity_3', 'transaction_year'],\n",
       "      dtype='object')"
      ]
     },
     "execution_count": 8,
     "metadata": {},
     "output_type": "execute_result"
    }
   ],
   "source": [
    "noun_sentence_df_final_joined_df_selected_columns_use_min.columns"
   ]
  },
  {
   "cell_type": "code",
   "execution_count": 9,
   "metadata": {},
   "outputs": [],
   "source": [
    "predictor_columns = [ 'cj_living_area',\n",
    "       'avmValue', 'AVM_Error_Indicators_0',\n",
    "       'AVM_Error_Indicators_1', 'AVM_Error_Indicators_2',\n",
    "       'AVM_Error_Indicators_3', 'AVM_Error_Indicators_4',\n",
    "       'AVM_Error_Indicators_5', 'AVM_Error_Indicators_6',\n",
    "       'AVM_Error_Indicators_7', 'AVM_Error_Indicators_8',\n",
    "       'AVM_Error_Indicators_9', 'AVM_Error_Indicators_10',\n",
    "       'AVM_Error_Indicators_11', 'clean_publicremarks_nltkpolarity_0',\n",
    "       'clean_publicremarks_nltkpolarity_1',\n",
    "       'clean_publicremarks_nltkpolarity_2',\n",
    "       'clean_publicremarks_nltkpolarity_3',\n",
    "       'AVM_Error_Indicators_scale']"
   ]
  },
  {
   "cell_type": "code",
   "execution_count": 10,
   "metadata": {},
   "outputs": [],
   "source": [
    "Predictors = noun_sentence_df_final_joined_df_selected_columns_use_min.loc[:,predictor_columns].to_numpy()"
   ]
  },
  {
   "cell_type": "code",
   "execution_count": 11,
   "metadata": {},
   "outputs": [
    {
     "data": {
      "text/plain": [
       "(120236, 19)"
      ]
     },
     "execution_count": 11,
     "metadata": {},
     "output_type": "execute_result"
    }
   ],
   "source": [
    "Predictors.shape"
   ]
  },
  {
   "cell_type": "code",
   "execution_count": 12,
   "metadata": {},
   "outputs": [],
   "source": [
    "predictand = noun_sentence_df_final_joined_df_selected_columns_use_min.avmerror.values"
   ]
  },
  {
   "cell_type": "code",
   "execution_count": 13,
   "metadata": {},
   "outputs": [
    {
     "data": {
      "text/plain": [
       "(120236,)"
      ]
     },
     "execution_count": 13,
     "metadata": {},
     "output_type": "execute_result"
    }
   ],
   "source": [
    "predictand.shape"
   ]
  },
  {
   "cell_type": "code",
   "execution_count": null,
   "metadata": {},
   "outputs": [],
   "source": []
  },
  {
   "cell_type": "code",
   "execution_count": 16,
   "metadata": {},
   "outputs": [],
   "source": [
    "train_samples = 100000  # Samples used for training the models\n",
    "X_train, X_test, y_train, y_test = train_test_split(\n",
    "    Predictors,\n",
    "    predictand,\n",
    "    shuffle=False,\n",
    "    test_size=len(Predictors) - train_samples,\n",
    ")"
   ]
  },
  {
   "cell_type": "code",
   "execution_count": 17,
   "metadata": {},
   "outputs": [
    {
     "data": {
      "text/plain": [
       "3247799.29"
      ]
     },
     "execution_count": 17,
     "metadata": {},
     "output_type": "execute_result"
    }
   ],
   "source": [
    "np.max(X_train)"
   ]
  },
  {
   "cell_type": "code",
   "execution_count": 18,
   "metadata": {},
   "outputs": [],
   "source": [
    "model = RandomForestRegressor(n_estimators = 50,  min_samples_leaf=50)"
   ]
  },
  {
   "cell_type": "code",
   "execution_count": 19,
   "metadata": {},
   "outputs": [
    {
     "data": {
      "text/plain": [
       "RandomForestRegressor(min_samples_leaf=50, n_estimators=50)"
      ]
     },
     "execution_count": 19,
     "metadata": {},
     "output_type": "execute_result"
    }
   ],
   "source": [
    "model.fit(X_train, y_train)"
   ]
  },
  {
   "cell_type": "code",
   "execution_count": 20,
   "metadata": {},
   "outputs": [],
   "source": [
    "predictions_test = model.predict(X_test)\n",
    "predictions_train = model.predict(X_train)"
   ]
  },
  {
   "cell_type": "code",
   "execution_count": 21,
   "metadata": {},
   "outputs": [
    {
     "data": {
      "text/plain": [
       "-1.496891489361702"
      ]
     },
     "execution_count": 21,
     "metadata": {},
     "output_type": "execute_result"
    }
   ],
   "source": [
    "y_train.min()"
   ]
  },
  {
   "cell_type": "code",
   "execution_count": 22,
   "metadata": {},
   "outputs": [
    {
     "data": {
      "text/plain": [
       "[<matplotlib.lines.Line2D at 0x7f2a15f0f780>]"
      ]
     },
     "execution_count": 22,
     "metadata": {},
     "output_type": "execute_result"
    },
    {
     "data": {
      "image/png": "[encoded data removed]",
      "text/plain": [
       "<Figure size 432x288 with 1 Axes>"
      ]
     },
     "metadata": {},
     "output_type": "display_data"
    }
   ],
   "source": [
    "plt.plot(predictions_train,y_train,'o')"
   ]
  },
  {
   "cell_type": "code",
   "execution_count": 23,
   "metadata": {},
   "outputs": [
    {
     "data": {
      "text/plain": [
       "[<matplotlib.lines.Line2D at 0x7f2a15dee1d0>]"
      ]
     },
     "execution_count": 23,
     "metadata": {},
     "output_type": "execute_result"
    },
    {
     "data": {
      "image/png": "[encoded data removed]",
      "text/plain": [
       "<Figure size 432x288 with 1 Axes>"
      ]
     },
     "metadata": {},
     "output_type": "display_data"
    }
   ],
   "source": [
    "plt.plot(predictions_test,y_test,'o')"
   ]
  },
  {
   "cell_type": "code",
   "execution_count": null,
   "metadata": {},
   "outputs": [],
   "source": []
  },
  {
   "cell_type": "code",
   "execution_count": 24,
   "metadata": {},
   "outputs": [],
   "source": [
    "df = noun_sentence_df_final_joined_df_selected_columns_use_min.copy()\n"
   ]
  },
  {
   "cell_type": "code",
   "execution_count": 25,
   "metadata": {},
   "outputs": [],
   "source": [
    "predictions_test_value = df['avmValue'].values[train_samples:]/(1-predictions_test)\n",
    "predictions_train_value = df['avmValue'].values[:train_samples]/(1-predictions_train)\n",
    "#predictions_train_value = df['avmValue'].values/(1-Predictors)"
   ]
  },
  {
   "cell_type": "code",
   "execution_count": 26,
   "metadata": {},
   "outputs": [
    {
     "name": "stdout",
     "output_type": "stream",
     "text": [
      "0    82477.56\n",
      "Name: avmValue, dtype: float64\n",
      "0    53100.0\n",
      "Name: Transprice, dtype: float64\n",
      "0   -0.55325\n",
      "Name: avmerror, dtype: float64\n",
      "0    36846.873229\n",
      "dtype: float64\n",
      "0   -0.55325\n",
      "dtype: float64\n"
     ]
    }
   ],
   "source": [
    "print(df.head(1)['avmValue'])\n",
    "print(df.head(1)['Transprice'])\n",
    "print(df.head(1)['avmerror'])\n",
    "print(df.head(1)['avmValue']+df.head(1)['avmerror']*df.head(1)['avmValue'])\n",
    "print((df.head(1)['Transprice']-df.head(1)['avmValue'])/df.head(1)['Transprice'])"
   ]
  },
  {
   "cell_type": "code",
   "execution_count": null,
   "metadata": {},
   "outputs": [],
   "source": []
  },
  {
   "cell_type": "code",
   "execution_count": 27,
   "metadata": {},
   "outputs": [
    {
     "data": {
      "text/plain": [
       "Index(['index', 'listingid', 'AVM_Error_List', 'Listing_Error_List',\n",
       "       'Transdate', 'Transprice', 'total_value', 'cj_living_area',\n",
       "       'effective_year_built', 'story', 'ListingPrice', 'avmValue', 'avmerror',\n",
       "       'bedrooms', 'AVM_Error_Indicators_0', 'AVM_Error_Indicators_1',\n",
       "       'AVM_Error_Indicators_2', 'AVM_Error_Indicators_3',\n",
       "       'AVM_Error_Indicators_4', 'AVM_Error_Indicators_5',\n",
       "       'AVM_Error_Indicators_6', 'AVM_Error_Indicators_7',\n",
       "       'AVM_Error_Indicators_8', 'AVM_Error_Indicators_9',\n",
       "       'AVM_Error_Indicators_10', 'AVM_Error_Indicators_11',\n",
       "       'AVM_Error_Indicators_scale', 'Listing_Error_Indicators_0',\n",
       "       'Listing_Error_Indicators_1', 'Listing_Error_Indicators_2',\n",
       "       'Listing_Error_Indicators_3', 'Listing_Error_Indicators_4',\n",
       "       'Listing_Error_Indicators_5', 'Listing_Error_Indicators_6',\n",
       "       'Listing_Error_Indicators_7', 'Listing_Error_Indicators_8',\n",
       "       'Listing_Error_Indicators_9', 'Listing_Error_Indicators_10',\n",
       "       'Listing_Error_Indicators_11', 'clean_publicremarks_nltkpolarity_0',\n",
       "       'clean_publicremarks_nltkpolarity_1',\n",
       "       'clean_publicremarks_nltkpolarity_2',\n",
       "       'clean_publicremarks_nltkpolarity_3', 'transaction_year'],\n",
       "      dtype='object')"
      ]
     },
     "execution_count": 27,
     "metadata": {},
     "output_type": "execute_result"
    }
   ],
   "source": [
    "df.columns"
   ]
  },
  {
   "cell_type": "code",
   "execution_count": 28,
   "metadata": {},
   "outputs": [
    {
     "name": "stdout",
     "output_type": "stream",
     "text": [
      "0.12719710071533172\n",
      "0.14245259226214338\n"
     ]
    }
   ],
   "source": [
    "print(np.mean(np.abs(df['Transprice'].values[:train_samples]-predictions_train_value)/\\\n",
    "              (df['Transprice'].values[:train_samples])))\n",
    "print(np.mean(np.abs(df['Transprice'].values[:train_samples]- df['avmValue'].values[:train_samples])/\\\n",
    "              (df['Transprice'].values[:train_samples])))\n"
   ]
  },
  {
   "cell_type": "code",
   "execution_count": 29,
   "metadata": {},
   "outputs": [
    {
     "name": "stdout",
     "output_type": "stream",
     "text": [
      "0.13154759421170822\n",
      "0.13958540515512766\n"
     ]
    }
   ],
   "source": [
    "print(np.mean(np.abs(df['Transprice'].values[train_samples:]-predictions_test_value)/\\\n",
    "              (df['Transprice'].values[train_samples:])))\n",
    "print(np.mean(np.abs(df['Transprice'].values[train_samples:]- df['avmValue'].values[train_samples:])/\\\n",
    "              (df['Transprice'].values[train_samples:])))\n"
   ]
  },
  {
   "cell_type": "code",
   "execution_count": 30,
   "metadata": {},
   "outputs": [
    {
     "data": {
      "text/plain": [
       "[<matplotlib.lines.Line2D at 0x7f2a1556c588>]"
      ]
     },
     "execution_count": 30,
     "metadata": {},
     "output_type": "execute_result"
    },
    {
     "data": {
      "image/png": "[encoded data removed]",
      "text/plain": [
       "<Figure size 432x288 with 1 Axes>"
      ]
     },
     "metadata": {},
     "output_type": "display_data"
    }
   ],
   "source": [
    "plt.plot(predictions_train_value,df['Transprice'].values[:train_samples],'o')"
   ]
  },
  {
   "cell_type": "code",
   "execution_count": 31,
   "metadata": {},
   "outputs": [
    {
     "data": {
      "text/plain": [
       "Index(['index', 'listingid', 'AVM_Error_List', 'Listing_Error_List',\n",
       "       'Transdate', 'Transprice', 'total_value', 'cj_living_area',\n",
       "       'effective_year_built', 'story', 'ListingPrice', 'avmValue', 'avmerror',\n",
       "       'bedrooms', 'AVM_Error_Indicators_0', 'AVM_Error_Indicators_1',\n",
       "       'AVM_Error_Indicators_2', 'AVM_Error_Indicators_3',\n",
       "       'AVM_Error_Indicators_4', 'AVM_Error_Indicators_5',\n",
       "       'AVM_Error_Indicators_6', 'AVM_Error_Indicators_7',\n",
       "       'AVM_Error_Indicators_8', 'AVM_Error_Indicators_9',\n",
       "       'AVM_Error_Indicators_10', 'AVM_Error_Indicators_11',\n",
       "       'AVM_Error_Indicators_scale', 'Listing_Error_Indicators_0',\n",
       "       'Listing_Error_Indicators_1', 'Listing_Error_Indicators_2',\n",
       "       'Listing_Error_Indicators_3', 'Listing_Error_Indicators_4',\n",
       "       'Listing_Error_Indicators_5', 'Listing_Error_Indicators_6',\n",
       "       'Listing_Error_Indicators_7', 'Listing_Error_Indicators_8',\n",
       "       'Listing_Error_Indicators_9', 'Listing_Error_Indicators_10',\n",
       "       'Listing_Error_Indicators_11', 'clean_publicremarks_nltkpolarity_0',\n",
       "       'clean_publicremarks_nltkpolarity_1',\n",
       "       'clean_publicremarks_nltkpolarity_2',\n",
       "       'clean_publicremarks_nltkpolarity_3', 'transaction_year'],\n",
       "      dtype='object')"
      ]
     },
     "execution_count": 31,
     "metadata": {},
     "output_type": "execute_result"
    }
   ],
   "source": [
    "df.columns"
   ]
  },
  {
   "cell_type": "code",
   "execution_count": 34,
   "metadata": {},
   "outputs": [
    {
     "data": {
      "text/plain": [
       "['RF_newmodel_AL_01.sav']"
      ]
     },
     "execution_count": 34,
     "metadata": {},
     "output_type": "execute_result"
    }
   ],
   "source": [
    "import joblib\n",
    "filename = 'RF_newmodel_'+state+'_01.sav'\n",
    "joblib.dump(model,filename)"
   ]
  },
  {
   "cell_type": "code",
   "execution_count": null,
   "metadata": {},
   "outputs": [],
   "source": []
  },
  {
   "cell_type": "code",
   "execution_count": 32,
   "metadata": {},
   "outputs": [],
   "source": [
    "from shap import TreeExplainer\n",
    "from shap import summary_plot"
   ]
  },
  {
   "cell_type": "code",
   "execution_count": null,
   "metadata": {},
   "outputs": [],
   "source": []
  },
  {
   "cell_type": "code",
   "execution_count": 37,
   "metadata": {},
   "outputs": [],
   "source": [
    "explainer = TreeExplainer(model)"
   ]
  },
  {
   "cell_type": "code",
   "execution_count": 38,
   "metadata": {},
   "outputs": [],
   "source": [
    "shap_values = np.array(explainer.shap_values(X_train))"
   ]
  },
  {
   "cell_type": "code",
   "execution_count": 39,
   "metadata": {},
   "outputs": [
    {
     "name": "stdout",
     "output_type": "stream",
     "text": [
      "(200000, 19)\n"
     ]
    }
   ],
   "source": [
    "print(shap_values.shape)"
   ]
  },
  {
   "cell_type": "code",
   "execution_count": 42,
   "metadata": {},
   "outputs": [
    {
     "data": {
      "image/png": "[encoded data removed]",
      "text/plain": [
       "<Figure size 576x655.2 with 2 Axes>"
      ]
     },
     "metadata": {},
     "output_type": "display_data"
    }
   ],
   "source": [
    "summary_plot(shap_values, X_train)"
   ]
  },
  {
   "cell_type": "code",
   "execution_count": 33,
   "metadata": {},
   "outputs": [
    {
     "data": {
      "image/png": "[encoded data removed]",
      "text/plain": [
       "<Figure size 432x288 with 1 Axes>"
      ]
     },
     "metadata": {},
     "output_type": "display_data"
    }
   ],
   "source": [
    "importances = model.feature_importances_\n",
    "indices = np.argsort(importances)\n",
    "features = predictor_columns\n",
    "plt.title('Feature Importances')\n",
    "plt.barh(range(len(indices)), importances[indices], color='b', align='center')\n",
    "plt.yticks(range(len(indices)), [features[i] for i in indices])\n",
    "plt.xlabel('Relative Importance')\n",
    "plt.show()"
   ]
  },
  {
   "cell_type": "code",
   "execution_count": null,
   "metadata": {},
   "outputs": [],
   "source": []
  }
 ],
 "metadata": {
  "kernelspec": {
   "display_name": "Python 3",
   "language": "python",
   "name": "python3"
  },
  "language_info": {
   "codemirror_mode": {
    "name": "ipython",
    "version": 3
   },
   "file_extension": ".py",
   "mimetype": "text/x-python",
   "name": "python",
   "nbconvert_exporter": "python",
   "pygments_lexer": "ipython3",
   "version": "3.6.10"
  }
 },
 "nbformat": 4,
 "nbformat_minor": 4
}
